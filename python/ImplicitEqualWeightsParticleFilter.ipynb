{
 "cells": [
  {
   "cell_type": "markdown",
   "metadata": {},
   "source": [
    "```\n",
    "This notebook sets up and runs a set of benchmarks to compare\n",
    "different numerical discretizations of the SWEs\n",
    "\n",
    "Copyright (C) 2016  SINTEF ICT\n",
    "\n",
    "This program is free software: you can redistribute it and/or modify\n",
    "it under the terms of the GNU General Public License as published by\n",
    "the Free Software Foundation, either version 3 of the License, or\n",
    "(at your option) any later version.\n",
    "\n",
    "This program is distributed in the hope that it will be useful,\n",
    "but WITHOUT ANY WARRANTY; without even the implied warranty of\n",
    "MERCHANTABILITY or FITNESS FOR A PARTICULAR PURPOSE.  See the\n",
    "GNU General Public License for more details.\n",
    "\n",
    "You should have received a copy of the GNU General Public License\n",
    "along with this program.  If not, see <http://www.gnu.org/licenses/>.\n",
    "```"
   ]
  },
  {
   "cell_type": "markdown",
   "metadata": {},
   "source": [
    "# Implicit Equal Weights Particle Filter\n",
    "\n",
    "This notebook implements prototyping and example/demo of the Implicit Equal Weights Particle Filter (IEWPF).\n"
   ]
  },
  {
   "cell_type": "markdown",
   "metadata": {},
   "source": [
    "## Set environment"
   ]
  },
  {
   "cell_type": "code",
   "execution_count": null,
   "metadata": {
    "collapsed": false
   },
   "outputs": [],
   "source": [
    "%matplotlib inline\n",
    "%config InlineBackend.figure_format = 'retina'\n",
    "\n",
    "import numpy as np\n",
    "import matplotlib\n",
    "from matplotlib import pyplot as plt\n",
    "from matplotlib import animation, rc\n",
    "\n",
    "import pyopencl\n",
    "import os\n",
    "import sys\n",
    "\n",
    "#Set large figure sizes\n",
    "rc('figure', figsize=(16.0, 12.0))\n",
    "rc('animation', html='html5')\n",
    "matplotlib.rcParams['contour.negative_linestyle'] = 'solid'\n",
    "\n",
    "#Import our simulator\n",
    "from SWESimulators import CDKLM16, PlotHelper, Common\n",
    "\n",
    "from SWESimulators import BathymetryAndICs as BC\n",
    "from SWESimulators import OceanStateNoise\n",
    "from SWESimulators import OceanNoiseEnsemble\n",
    "from SWESimulators import BaseOceanStateEnsemble\n"
   ]
  },
  {
   "cell_type": "code",
   "execution_count": null,
   "metadata": {
    "collapsed": false
   },
   "outputs": [],
   "source": [
    "#Make sure we get compiler output from OpenCL\n",
    "os.environ[\"PYOPENCL_COMPILER_OUTPUT\"] = \"1\"\n",
    "\n",
    "#Set which CL device to use, and disable kernel caching\n",
    "if (str.lower(sys.platform).startswith(\"linux\")):\n",
    "    os.environ[\"PYOPENCL_CTX\"] = \"0\"\n",
    "else:\n",
    "    os.environ[\"PYOPENCL_CTX\"] = \"1\"\n",
    "os.environ[\"CUDA_CACHE_DISABLE\"] = \"1\"\n",
    "os.environ[\"PYOPENCL_COMPILER_OUTPUT\"] = \"1\"\n",
    "os.environ[\"PYOPENCL_NO_CACHE\"] = \"1\"\n",
    "\n",
    "#Create OpenCL context\n",
    "cl_ctx = pyopencl.create_some_context()\n",
    "cl_queue = pyopencl.CommandQueue(cl_ctx)\n",
    "print \"Using \", cl_ctx.devices[0].name"
   ]
  },
  {
   "cell_type": "markdown",
   "metadata": {},
   "source": [
    "# Ensemble\n",
    "\n",
    "We need an ensemble where each particle\n",
    "- runs an independent ocean model\n",
    "- drift a drifter\n",
    "- applies a localized small-scale error\n",
    "- observes the drifter position\n",
    "\n",
    "Needs to be done:\n",
    "- Initialize models (create netcdf with init, add error with amp 10*q0(?), put drifter into a small area of the \n",
    "- make useful plots to evaluate the results\n",
    "    - Suggestion: 3-line [eta, hu, hv] plot, with truth, ensemble (mean field with individual drifters), mean-square diff?\n",
    "    - 3x3/4x4/5x5 plot of eta from different ensemble members?\n",
    "    - Standard animation of a single ensemble member.\n"
   ]
  },
  {
   "cell_type": "markdown",
   "metadata": {
    "collapsed": false
   },
   "source": [
    "## Create initial condition for ensemble:"
   ]
  },
  {
   "cell_type": "code",
   "execution_count": null,
   "metadata": {
    "collapsed": false,
    "scrolled": false
   },
   "outputs": [],
   "source": [
    "# DEFINE PARAMETERS\n",
    "\n",
    "#Coriolis well balanced reconstruction scheme\n",
    "nx = 40\n",
    "ny = 40\n",
    "\n",
    "dx = 4.0\n",
    "dy = 4.0\n",
    "\n",
    "dt = 0.05\n",
    "g = 9.81\n",
    "r = 0.0\n",
    "\n",
    "f = 0.05\n",
    "beta = 0.0\n",
    "\n",
    "ghosts = np.array([2,2,2,2]) # north, east, south, west\n",
    "validDomain = np.array([2,2,2,2])\n",
    "boundaryConditions = Common.BoundaryConditions(2,2,2,2)\n",
    "\n",
    "# Define which cell index which has lower left corner as position (0,0)\n",
    "x_zero_ref = 2\n",
    "y_zero_ref = 2\n",
    "\n",
    "dataShape = (ny + ghosts[0]+ghosts[2], \n",
    "             nx + ghosts[1]+ghosts[3])\n",
    "dataShapeHi = (ny + ghosts[0]+ghosts[2]+1, \n",
    "             nx + ghosts[1]+ghosts[3]+1)\n",
    "\n",
    "eta0 = np.zeros(dataShape, dtype=np.float32, order='C');\n",
    "eta0_extra = np.zeros(dataShape, dtype=np.float32, order='C')\n",
    "hv0 = np.zeros(dataShape, dtype=np.float32, order='C');\n",
    "hu0 = np.zeros(dataShape, dtype=np.float32, order='C');\n",
    "waterDepth = 10.0\n",
    "Hi = np.ones(dataShapeHi, dtype=np.float32, order='C')*waterDepth\n",
    "\n",
    "# Add disturbance:\n",
    "if True:\n",
    "    rel_grid_size = nx*1.0/dx\n",
    "    BC.addBump(eta0, nx, ny, dx, dy, 0.3, 0.5, 0.05*rel_grid_size, validDomain)\n",
    "    eta0 = eta0*0.3\n",
    "    BC.addBump(eta0, nx, ny, dx, dy, 0.7, 0.3, 0.10*rel_grid_size, validDomain)\n",
    "    eta0 = eta0*(-1.3)\n",
    "    BC.addBump(eta0, nx, ny, dx, dy, 0.15, 0.8, 0.03*rel_grid_size, validDomain)\n",
    "    eta0 = eta0*1.0\n",
    "    BC.addBump(eta0, nx, ny, dx, dy, 0.6, 0.75, 0.06*rel_grid_size, validDomain)\n",
    "    BC.addBump(eta0, nx, ny, dx, dy, 0.2, 0.2, 0.01*rel_grid_size, validDomain)\n",
    "    eta0 = eta0*(-0.03)\n",
    "    BC.addBump(eta0_extra, nx, ny, dx, dy, 0.5, 0.5, 0.4*rel_grid_size, validDomain)\n",
    "    eta0 = eta0 + 0.02*eta0_extra\n",
    "    BC.initializeBalancedVelocityField(eta0, Hi, hu0, hv0, f, beta, g, nx, ny, dx ,dy, ghosts)\n",
    "    eta0 = eta0*0.5\n",
    "\n",
    "\n",
    "if 'sim' in globals():\n",
    "    sim.cleanUp()\n",
    "if 'ensemble' in globals():\n",
    "    ensemble.cleanUp()\n",
    "    \n",
    "q0 = 0.5*dt*f/(g*waterDepth)\n",
    "print \"q0: \", q0\n",
    "print \"[f, g, H]\", [f, g, waterDepth]\n",
    "print \"f/gH: \", f/(g*waterDepth)\n",
    "print \"gH/f: \", g*waterDepth/f\n",
    "\n",
    "reload(CDKLM16)\n",
    "reload(BaseOceanStateEnsemble)\n",
    "reload(OceanNoiseEnsemble)\n",
    "reload(PlotHelper)\n",
    "sim = CDKLM16.CDKLM16(cl_ctx, eta0, hu0, hv0, Hi, \\\n",
    "                      nx, ny, dx, dy, dt, g, f, r, \\\n",
    "                      boundary_conditions=boundaryConditions, \\\n",
    "                      write_netcdf=False, \\\n",
    "                      small_scale_perturbation=True, \\\n",
    "                      small_scale_perturbation_amplitude=q0)\n",
    "\n",
    "ensemble_size = 5\n",
    "ensemble = OceanNoiseEnsemble.OceanNoiseEnsemble(ensemble_size, cl_ctx)\n",
    "ensemble.setGridInfoFromSim(sim)\n",
    "ensemble.setStochasticVariables(initialization_variance_factor=5,\n",
    "                                small_scale_perturbation_amplitude=q0)\n",
    "ensemble.init()\n",
    "\n",
    "\n",
    "oldSchoolAnimation = True\n",
    "if not oldSchoolAnimation:\n",
    "    T = 300\n",
    "    sub_t = 10*dt\n",
    "    for i in range(T):\n",
    "        t = ensemble.step(sub_t)\n",
    "        if i == T-1:\n",
    "            ensemble.printMaxOceanStates()\n",
    "            \n",
    "            \n",
    "    kskugasfd\n",
    "\n",
    "fig = plt.figure()\n",
    "plotter = PlotHelper.EnsembleAnimator(fig, ensemble, trueStateOnly=True)\n",
    "\n",
    "T = 21\n",
    "sub_t = 300*dt\n",
    "def animate(i):\n",
    "    if (i>0):\n",
    "        t = ensemble.step(sub_t)\n",
    "    else:\n",
    "        t = 0.0\n",
    "\n",
    "    plotter.plot(ensemble);\n",
    "\n",
    "    fig.suptitle(\"Ensemble = \" + \"{:04.0f}\".format(t) + \" s\", fontsize=18)\n",
    "\n",
    "    if (i%10 == 0):\n",
    "        print \"{:03.0f}\".format(100*i / T) + \" % => t=\" + str(t) \n",
    "\n",
    "anim = animation.FuncAnimation(fig, animate, range(T), interval=100)\n",
    "plt.close(anim._fig)\n",
    "anim"
   ]
  },
  {
   "cell_type": "code",
   "execution_count": null,
   "metadata": {
    "collapsed": false
   },
   "outputs": [],
   "source": [
    "ensemble.plotEnsemble() "
   ]
  },
  {
   "cell_type": "code",
   "execution_count": null,
   "metadata": {
    "collapsed": false
   },
   "outputs": [],
   "source": [
    "max_dt = ensemble.findLargestPossibleTimeStep()\n",
    "print \"Largest possible timestep with this case: \", max_dt"
   ]
  },
  {
   "cell_type": "markdown",
   "metadata": {
    "collapsed": false
   },
   "source": [
    "# Implementing IEWPF\n",
    "\n",
    "The IEWPF algorithm for the observation at time $t^m$ is applyed to the model at time $t^{m-1}$.\n",
    "The algorithm consists of the following steps:\n",
    "1. Find target weight using only deterministic evolution of the model from $t^{m-1}$ to $t^m$.\n",
    "- Draw a sample from $\\xi \\sim N(0,P)$.\n",
    "- Move particles towards observation using a applying some scaling of $\\xi$\n",
    "\n",
    "Some challenges:\n",
    "- As long as we have one and only one drifter, constant $H(x,y)$ and double periodic boundary conditions, the linear problem within step 1 has the same matrix for any observation. This matrix should therefore be pre-calculated.\n",
    "- During the creation of $\\xi$ we need the random numbers, so using functionality of the OceanNoiseClass would be nice.\n",
    "\n",
    "\n",
    "Questions:\n",
    "- Should the IEWPF subroutines/functions/methods be under its own class? Or under the OceanNoiseClass"
   ]
  },
  {
   "cell_type": "markdown",
   "metadata": {},
   "source": [
    "## Step 0\n",
    "Pure deterministic integration of the model."
   ]
  },
  {
   "cell_type": "code",
   "execution_count": null,
   "metadata": {
    "collapsed": true
   },
   "outputs": [],
   "source": [
    "t = ensemble.step(dt, apply_stochastic_term=False)"
   ]
  },
  {
   "cell_type": "markdown",
   "metadata": {
    "collapsed": false
   },
   "source": [
    "## Step 1\n",
    "\n",
    "The full covariance matrix can be written as\n",
    "$$ Q = Q^{1/2} Q^{1/2,T} = U_D U_{GB} \\tilde{Q}^{1/2} \\tilde{Q}^{1/2} U_{GB}^T U_D^T $$\n",
    "so that \n",
    "$$ HQH^T = H U_D U_{GB} \\tilde{Q}^{1/2} \\tilde{Q}^{1/2} U_{GB}^T U_D^T  H^T$$\n"
   ]
  },
  {
   "cell_type": "code",
   "execution_count": null,
   "metadata": {
    "collapsed": false,
    "scrolled": false
   },
   "outputs": [],
   "source": [
    "debug = False\n",
    "\n",
    "def showMatrices(x, y, title):\n",
    "    fig = plt.figure(figsize=(4,2))\n",
    "    plt.subplot(1,2,1)\n",
    "    plt.imshow(x, origin=\"lower\", interpolation=\"None\")\n",
    "    plt.subplot(1,2,2)\n",
    "    plt.imshow(y, origin=\"lower\", interpolation=\"None\")\n",
    "    plt.suptitle(title)\n",
    "    \n",
    "    \n",
    "def SOAR_Q(a_x, a_y, b_x, b_y, dx, dy, q0, L):\n",
    "    dist = np.sqrt( dx*dx*(a_x - b_x)**2  +  dy*dy*(a_y - b_y)**2)\n",
    "    return q0*(1.0 + dist/L)*np.exp(-dist/L)\n",
    "\n",
    "\n",
    "def createS(ensemble, const_H):\n",
    "    \"\"\"\n",
    "    Create the 2x2 matrix S = (HQH^T + R)^-1\n",
    "    \n",
    "    Constant as long as\n",
    "     - one drifter only,\n",
    "     - H(x,y) = const, and\n",
    "     - double periodic boundary conditions\n",
    "    \"\"\"\n",
    "    \n",
    "    dt = ensemble.dt\n",
    "    dx = ensemble.dx\n",
    "    dy = ensemble.dy\n",
    "    geoBalanceConst = ensemble.g*const_H/(2.0*ensemble.f)\n",
    "    \n",
    "    # These should be read from a OceanStateNoise object?\n",
    "    q0 = ensemble.small_scale_perturbation_amplitude\n",
    "    L = 0.75*dx \n",
    "    \n",
    "    # Local storage for x and y correlations:\n",
    "    x_corr = np.zeros((7,7))\n",
    "    y_corr = np.zeros((7,7))\n",
    "    tmp_x = np.zeros((7,7))\n",
    "    tmp_y = np.zeros((7,7))\n",
    "    \n",
    "    # Mid_coordinates:\n",
    "    mid_i, mid_j = 3, 3\n",
    "    \n",
    "    # Fill the buffers with U_{GB}^T U_D^T  H^T\n",
    "    x_corr[mid_j+1, mid_i] = -geoBalanceConst*dt/dy\n",
    "    x_corr[mid_j-1, mid_i] =  geoBalanceConst*dt/dy\n",
    "    y_corr[mid_j, mid_i+1] =  geoBalanceConst*dt/dx\n",
    "    y_corr[mid_j, mid_i-1] = -geoBalanceConst*dt/dx\n",
    "    if debug: showMatrices(x_corr, y_corr, \"$U_{GB}^T U_D^T  H^T$\")\n",
    "    \n",
    "    # Apply the SOAR function to fill x and y with 7x5 and 5x7 respectively\n",
    "    # First for x:\n",
    "    for j,i in [mid_j+1, mid_i], [mid_j-1, mid_i]:\n",
    "        for b in range(j-2, j+3):\n",
    "            for a in range(i-2, i+3):\n",
    "                tmp_x[b, a] += x_corr[j,i]*SOAR_Q(a, b, i, j, dx, dy, q0, L)\n",
    "    # Then for y:\n",
    "    for j,i in [mid_j, mid_i+1], [mid_j, mid_i-1]:\n",
    "        for b in range(j-2, j+3):\n",
    "            for a in range(i-2, i+3):\n",
    "                #print SOAR_Q(a, b, i, j, dx, dy, q0, L)\n",
    "                tmp_y[b, a] += y_corr[j,i]*SOAR_Q(a, b, i, j, dx, dy, q0, L)\n",
    "    if debug: showMatrices(tmp_x, tmp_y, \"$Q_{SOAR} U_{GB}^T U_D^T  H^T$\")      \n",
    "            \n",
    "    # Apply the SOARfunction again to fill the points needed to find drift in (mid_i, mid_j)\n",
    "    # For both x and y:\n",
    "    for j,i in [mid_j+1, mid_i], [mid_j-1, mid_i], [mid_j, mid_i-1], [mid_j, mid_i+1]:\n",
    "        x_corr[j,i] = 0\n",
    "        y_corr[j,i] = 0\n",
    "        for b in range(j-2, j+3):\n",
    "            for a in range(i-2, i+3):\n",
    "                SOAR_Q_res = SOAR_Q(a, b, i, j, dx, dy, q0, L)\n",
    "                x_corr[j,i] += tmp_x[b, a]*SOAR_Q_res\n",
    "                y_corr[j,i] += tmp_y[b, a]*SOAR_Q_res\n",
    "        if debug: print x_corr[j,i], y_corr[j,i]\n",
    "    if debug: showMatrices(x_corr, y_corr, \"$Q_{SOAR} Q_{SOAR} U_{GB}^T U_D^T  H^T$\")\n",
    "    \n",
    "    # geostrophic balance:\n",
    "    x_hu = -geoBalanceConst*(x_corr[mid_j+1, mid_i  ] - x_corr[mid_j-1, mid_i  ])/dy\n",
    "    x_hv =  geoBalanceConst*(x_corr[mid_j  , mid_i+1] - x_corr[mid_j  , mid_i-1])/dx\n",
    "    y_hu = -geoBalanceConst*(y_corr[mid_j+1, mid_i  ] - y_corr[mid_j-1, mid_i  ])/dy\n",
    "    y_hv =  geoBalanceConst*(y_corr[mid_j  , mid_i+1] - y_corr[mid_j  , mid_i-1])/dx \n",
    "    \n",
    "    # Drift\n",
    "    HQHT = np.matrix([[x_hu*dt, y_hu*dt],[x_hv*dt, y_hv*dt]])    \n",
    "    if debug: print HQHT\n",
    "    S_inv = HQHT + ensemble.observation_cov\n",
    "    if debug: print S_inv\n",
    "    S = np.linalg.inv(S_inv)\n",
    "    if debug: print S\n",
    "    return S\n",
    "    \n",
    "S = createS(ensemble, 10.0)\n",
    "print \"S: \", S\n"
   ]
  },
  {
   "cell_type": "markdown",
   "metadata": {},
   "source": [
    "We expected $HQH^T$ to be a full $2 \\times 2$ matrix, but we see now that the $x$ and $y$ coordinate of the drifter is uncorrelated.\n",
    "\n",
    "When one thinks about it, this makes sense. Even though we know the $x$ position of a drifter, we would have no knowledge of the $y$ position of it. \n",
    "\n",
    "The same argument can be used about the velocities. Can we really say anything about the $hu$ in a cell based on the value of $hv$ in the same cell? From $hu(x_i, y_j)$ alone, we can not say whether all the momentum is in $x$-direction, or if it is just a part of the total momentum, which also has a $y$ component. Even though the geostrophic balance generate rotating velocity fields, we will have no knowledge on where in the rotation we are. "
   ]
  },
  {
   "cell_type": "code",
   "execution_count": null,
   "metadata": {
    "collapsed": false
   },
   "outputs": [],
   "source": [
    "def solvingLinearProblem(ensemble, S):\n",
    "    d = ensemble.getInnovations()\n",
    "    print d\n",
    "    print ensemble.getDistances()\n",
    "    \n",
    "e = solvingLinearProblem(ensemble, S)"
   ]
  }
 ],
 "metadata": {
  "git": {
   "suppress_outputs": true
  },
  "kernelspec": {
   "display_name": "Python 2",
   "language": "python",
   "name": "python2"
  },
  "language_info": {
   "codemirror_mode": {
    "name": "ipython",
    "version": 2
   },
   "file_extension": ".py",
   "mimetype": "text/x-python",
   "name": "python",
   "nbconvert_exporter": "python",
   "pygments_lexer": "ipython2",
   "version": "2.7.12"
  }
 },
 "nbformat": 4,
 "nbformat_minor": 0
}