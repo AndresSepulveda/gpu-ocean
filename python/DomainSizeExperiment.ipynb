{
 "cells": [
  {
   "cell_type": "code",
   "execution_count": 1,
   "metadata": {},
   "outputs": [],
   "source": [
    "%matplotlib inline\n",
    "\n",
    "import re\n",
    "import numpy as np\n",
    "import pandas as pd\n",
    "import subprocess\n",
    "import os\n",
    "import os.path\n",
    "import time\n",
    "\n",
    "import matplotlib.pyplot as plt\n",
    "from matplotlib import cm\n",
    "from mpl_toolkits.mplot3d import axes3d, Axes3D"
   ]
  },
  {
   "cell_type": "code",
   "execution_count": 2,
   "metadata": {},
   "outputs": [
    {
     "name": "stdout",
     "output_type": "stream",
     "text": [
      "Storing data in domain_size_benchmark_run_0.txt\n"
     ]
    }
   ],
   "source": [
    "# Generate unique filename\n",
    "test_filename = \"domain_size_benchmark_run_0.txt\"\n",
    "file_test = 0\n",
    "while (os.path.isfile(test_filename)):\n",
    "\n",
    "    test_filename = \"domain_size_benchmark_run_\" + str(file_test) + \".txt\"\n",
    "    file_test += 1\n",
    "    \n",
    "    \n",
    "#Use the existing file, do not generate new data\n",
    "test_filename = \"domain_size_benchmark_run_0.txt\"\n",
    "print(\"Storing data in \" + test_filename)"
   ]
  },
  {
   "cell_type": "code",
   "execution_count": 3,
   "metadata": {},
   "outputs": [
    {
     "name": "stdout",
     "output_type": "stream",
     "text": [
      "Using existing run in domain_size_benchmark_run_0.txt\n"
     ]
    }
   ],
   "source": [
    "def runBenchmark(filename):\n",
    "    sim = np.array([\"FBL\", \"CTCS\", \"KP\", \"CDKLM\"])\n",
    "    domain_size = np.array([256, 512, 1024, 2048, 3192, 4096, 5192, 6144])\n",
    "    \n",
    "    with open(test_filename, 'w') as test_file:\n",
    "        for k in range(len(sim)):\n",
    "            test_file.write(\"##########################################################################\\n\")\n",
    "            test_file.write(\"Using simulator \" + sim[k] + \".\\n\")\n",
    "            test_file.write(\"##########################################################################\\n\")\n",
    "            for i in range(domain_size.shape[0]):\n",
    "\n",
    "                tic = time.time()\n",
    "\n",
    "                test_file.write(\"=========================================\\n\")\n",
    "                test_file.write(sim[k] + \" [{:02d} x {:02d}]\\n\".format(domain_size[i], domain_size[i]))\n",
    "                test_file.write(\"-----------------------------------------\\n\")\n",
    "                cmd = [ \"python\", \"run_benchmark.py\", \"--nx\", str(domain_size[i]), \"--ny\", str(domain_size[i]), \"--simulator\", sim[k], \"--steps_per_download\", \"1000\"]\n",
    "                p = subprocess.Popen(cmd, shell=True, stdin=subprocess.PIPE, stdout=subprocess.PIPE, stderr=subprocess.STDOUT)\n",
    "                output = p.stdout.read()\n",
    "                test_file.write(output + \"\\n\")\n",
    "                test_file.write(\"=========================================\\n\")\n",
    "                test_file.write(\"\\n\")\n",
    "\n",
    "                toc = time.time()\n",
    "\n",
    "                infostr = sim[k] + \" [{:02d} x {:02d}] completed in {:.02f} s\\n\".format(domain_size[i], domain_size[i], (toc-tic))\n",
    "                test_file.write(infostr)\n",
    "                test_file.flush()\n",
    "                os.fsync(test_file)\n",
    "                print(infostr[:-1])\n",
    "                    \n",
    "            test_file.write(\"\\n\\n\\n\")\n",
    "\n",
    "\n",
    "if not (os.path.isfile(test_filename)):\n",
    "    runBenchmark(test_filename)\n",
    "else:\n",
    "    print(\"Using existing run in \" + test_filename)"
   ]
  },
  {
   "cell_type": "code",
   "execution_count": 4,
   "metadata": {},
   "outputs": [
    {
     "name": "stdout",
     "output_type": "stream",
     "text": [
      "[['FBL' '256' '53.85045159']\n",
      " ['FBL' '512' '218.27144497']\n",
      " ['FBL' '1024' '867.30844008']\n",
      " ['FBL' '2048' '2022.32582304']\n",
      " ['FBL' '3192' '1970.38561061']\n",
      " ['FBL' '4096' '1990.65211831']\n",
      " ['CTCS' '256' '31.29704121']\n",
      " ['CTCS' '512' '124.77105721']\n",
      " ['CTCS' '1024' '501.23135572']\n",
      " ['CTCS' '2048' '737.91414299']\n",
      " ['CTCS' '3192' '742.24987262']\n",
      " ['CTCS' '4096' '735.32678871']\n",
      " ['KP' '256' '84.56257024']\n",
      " ['KP' '512' '338.25028096']\n",
      " ['KP' '1024' '454.32233975']\n",
      " ['KP' '2048' '458.79501404']\n",
      " ['KP' '3192' '443.95921938']\n",
      " ['KP' '4096' '432.9157254']\n",
      " ['CDKLM' '256' '75.41542366']\n",
      " ['CDKLM' '512' '299.25108487']\n",
      " ['CDKLM' '1024' '317.46170405']\n",
      " ['CDKLM' '2048' '320.98446684']\n",
      " ['CDKLM' '3192' '310.36169244']\n",
      " ['CDKLM' '4096' '311.46207291']]\n"
     ]
    }
   ],
   "source": [
    "def getData(filename):\n",
    "    # State variables\n",
    "    simulator = None\n",
    "    domain_size = None\n",
    "\n",
    "    data = np.empty((0, 3))\n",
    "\n",
    "    with open(filename) as origin_file:\n",
    "        for line in origin_file:\n",
    "\n",
    "            # Find simulator\n",
    "            match = re.findall(r'(Using simulator)', line)\n",
    "            if match:\n",
    "                simulator = line.split(' ')[2][:-2]\n",
    "\n",
    "            # Find block size\n",
    "            match = re.findall(r'(Running with domain size)', line)\n",
    "            if match:\n",
    "                domain_size = line.split(' ')[5][1:]\n",
    "\n",
    "            # Find simulator megacells\n",
    "            match = re.findall(r'(Maximum megacells)', line)\n",
    "            if match:\n",
    "                megacells = float(line.split(' ')[4])\n",
    "                data = np.append(data, [[simulator, domain_size, megacells]], axis=0)\n",
    "                \n",
    "                domain_size = None\n",
    "\n",
    "    return data\n",
    "\n",
    "data = getData(test_filename)\n",
    "print(data)"
   ]
  },
  {
   "cell_type": "code",
   "execution_count": 19,
   "metadata": {},
   "outputs": [],
   "source": [
    "def setBwStyles(ax):\n",
    "    from cycler import cycler\n",
    "\n",
    "    ax.set_prop_cycle( cycler('marker', ['.', 'x', 4, '+', '*', '1']) +\n",
    "                       cycler('linestyle', ['-.', '--', ':', '-.', '--', ':']) +\n",
    "                       cycler('markersize', [6, 6, 10, 8, 8, 8]) +\n",
    "                       cycler('color', ['k', 'k', 'k', 'k', 'k', 'k']) )"
   ]
  },
  {
   "cell_type": "code",
   "execution_count": 22,
   "metadata": {},
   "outputs": [
    {
     "name": "stdout",
     "output_type": "stream",
     "text": [
      "CDKLM\n",
      "CTCS\n",
      "FBL\n",
      "KP\n"
     ]
    },
    {
     "data": {
      "image/png": "[encoded data removed]",
      "text/plain": [
       "<matplotlib.figure.Figure at 0xc723e10>"
      ]
     },
     "metadata": {},
     "output_type": "display_data"
    }
   ],
   "source": [
    "simulators = np.unique(data[:,0])\n",
    "\n",
    "fig = plt.figure()\n",
    "setBwStyles(fig.gca())\n",
    "\n",
    "for simulator in simulators:\n",
    "    print(simulator)\n",
    "    \n",
    "    columns = data[:,0] == simulator\n",
    "    \n",
    "    domain_sizes = data[columns,1].astype(np.float32)\n",
    "    megacells = data[columns,2].astype(np.float32)\n",
    "    \n",
    "    plt.loglog(domain_sizes*domain_sizes, megacells, label=simulator)\n",
    "\n",
    "plt.legend()\n",
    "\n",
    "print_domain_sizes = np.array([256, 512, 1024, 2048, 4096])\n",
    "plt.xticks( print_domain_sizes*print_domain_sizes, map(lambda x: \"$\" + str(x) + \"^2$\", print_domain_sizes ) )\n",
    "plt.xlabel(\"Domain size\")\n",
    "plt.ylabel(\"Megacells/s\")\n",
    "plt.savefig(\"Performance.pdf\")"
   ]
  },
  {
   "cell_type": "code",
   "execution_count": null,
   "metadata": {},
   "outputs": [],
   "source": []
  },
  {
   "cell_type": "code",
   "execution_count": null,
   "metadata": {},
   "outputs": [],
   "source": []
  }
 ],
 "metadata": {
  "kernelspec": {
   "display_name": "Python 2",
   "language": "python",
   "name": "python2"
  },
  "language_info": {
   "codemirror_mode": {
    "name": "ipython",
    "version": 2
   },
   "file_extension": ".py",
   "mimetype": "text/x-python",
   "name": "python",
   "nbconvert_exporter": "python",
   "pygments_lexer": "ipython2",
   "version": "2.7.15"
  }
 },
 "nbformat": 4,
 "nbformat_minor": 2
}
