{
 "cells": [
  {
   "cell_type": "code",
   "execution_count": 1,
   "metadata": {},
   "outputs": [],
   "source": [
    "%matplotlib inline\n",
    "\n",
    "import re\n",
    "import numpy as np\n",
    "import pandas as pd\n",
    "import subprocess\n",
    "import os\n",
    "import os.path\n",
    "import time\n",
    "\n",
    "import matplotlib.pyplot as plt\n",
    "from matplotlib import cm\n",
    "from mpl_toolkits.mplot3d import axes3d, Axes3D"
   ]
  },
  {
   "cell_type": "code",
   "execution_count": 2,
   "metadata": {},
   "outputs": [
    {
     "name": "stdout",
     "output_type": "stream",
     "text": [
      "Storing data in domain_size_benchmark_run_0.txt\n"
     ]
    }
   ],
   "source": [
    "# Generate unique filename\n",
    "test_filename = \"domain_size_benchmark_run_0.txt\"\n",
    "file_test = 0\n",
    "while (os.path.isfile(test_filename)):\n",
    "\n",
    "    test_filename = \"domain_size_benchmark_run_\" + str(file_test) + \".txt\"\n",
    "    file_test += 1\n",
    "    \n",
    "    \n",
    "#Use the existing file, do not generate new data\n",
    "test_filename = \"domain_size_benchmark_run_0.txt\"\n",
    "print(\"Storing data in \" + test_filename)"
   ]
  },
  {
   "cell_type": "code",
   "execution_count": 3,
   "metadata": {},
   "outputs": [
    {
     "name": "stdout",
     "output_type": "stream",
     "text": [
      "FBL [256 x 256] completed in 4.26 s\n",
      "FBL [512 x 512] completed in 4.26 s\n",
      "FBL [1024 x 1024] completed in 4.32 s\n",
      "FBL [2048 x 2048] completed in 6.05 s\n",
      "FBL [3192 x 3192] completed in 10.52 s\n",
      "FBL [4096 x 4096] completed in 15.29 s\n",
      "FBL [5192 x 5192] completed in 23.16 s\n",
      "FBL [6144 x 6144] completed in 2.61 s\n",
      "CTCS [256 x 256] completed in 5.02 s\n",
      "CTCS [512 x 512] completed in 5.08 s\n",
      "CTCS [1024 x 1024] completed in 5.17 s\n",
      "CTCS [2048 x 2048] completed in 9.87 s\n",
      "CTCS [3192 x 3192] completed in 19.75 s\n",
      "CTCS [4096 x 4096] completed in 32.12 s\n",
      "CTCS [5192 x 5192] completed in 50.22 s\n",
      "CTCS [6144 x 6144] completed in 2.61 s\n",
      "KP [256 x 256] completed in 3.92 s\n",
      "KP [512 x 512] completed in 4.41 s\n",
      "KP [1024 x 1024] completed in 8.04 s\n",
      "KP [2048 x 2048] completed in 22.65 s\n",
      "KP [3192 x 3192] completed in 51.67 s\n",
      "KP [4096 x 4096] completed in 107.87 s\n",
      "KP [5192 x 5192] completed in 4.53 s\n",
      "KP [6144 x 6144] completed in 2.62 s\n",
      "CDKLM [256 x 256] completed in 4.06 s\n",
      "CDKLM [512 x 512] completed in 4.97 s\n",
      "CDKLM [1024 x 1024] completed in 10.16 s\n",
      "CDKLM [2048 x 2048] completed in 30.81 s\n",
      "CDKLM [3192 x 3192] completed in 99.95 s\n",
      "CDKLM [4096 x 4096] completed in 144.32 s\n",
      "CDKLM [5192 x 5192] completed in 4.20 s\n",
      "CDKLM [6144 x 6144] completed in 2.59 s\n"
     ]
    }
   ],
   "source": [
    "def runBenchmark(filename):\n",
    "    sim = np.array([\"FBL\", \"CTCS\", \"KP\", \"CDKLM\"])\n",
    "    domain_size = np.array([256, 512, 1024, 2048, 3192, 4096, 5192, 6144])\n",
    "    \n",
    "    with open(test_filename, 'w') as test_file:\n",
    "        for k in range(len(sim)):\n",
    "            test_file.write(\"##########################################################################\\n\")\n",
    "            test_file.write(\"Using simulator \" + sim[k] + \".\\n\")\n",
    "            test_file.write(\"##########################################################################\\n\")\n",
    "            for i in range(domain_size.shape[0]):\n",
    "\n",
    "                tic = time.time()\n",
    "\n",
    "                test_file.write(\"=========================================\\n\")\n",
    "                test_file.write(sim[k] + \" [{:02d} x {:02d}]\\n\".format(domain_size[i], domain_size[i]))\n",
    "                test_file.write(\"-----------------------------------------\\n\")\n",
    "                cmd = [ \"python\", \"run_benchmark.py\", \"--nx\", str(domain_size[i]), \"--ny\", str(domain_size[i]), \"--simulator\", sim[k], \"--steps_per_download\", \"1000\"]\n",
    "                p = subprocess.Popen(cmd, shell=True, stdin=subprocess.PIPE, stdout=subprocess.PIPE, stderr=subprocess.STDOUT)\n",
    "                output = p.stdout.read()\n",
    "                test_file.write(output + \"\\n\")\n",
    "                test_file.write(\"=========================================\\n\")\n",
    "                test_file.write(\"\\n\")\n",
    "\n",
    "                toc = time.time()\n",
    "\n",
    "                infostr = sim[k] + \" [{:02d} x {:02d}] completed in {:.02f} s\\n\".format(domain_size[i], domain_size[i], (toc-tic))\n",
    "                test_file.write(infostr)\n",
    "                test_file.flush()\n",
    "                os.fsync(test_file)\n",
    "                print(infostr[:-1])\n",
    "                    \n",
    "            test_file.write(\"\\n\\n\\n\")\n",
    "\n",
    "\n",
    "if not (os.path.isfile(test_filename)):\n",
    "    runBenchmark(test_filename)\n",
    "else:\n",
    "    print(\"Using existing run in \" + test_filename)"
   ]
  },
  {
   "cell_type": "code",
   "execution_count": 4,
   "metadata": {},
   "outputs": [
    {
     "name": "stdout",
     "output_type": "stream",
     "text": [
      "[['FBL' '256' '53.6740396']\n",
      " ['FBL' '512' '215.93410452']\n",
      " ['FBL' '1024' '860.89988163']\n",
      " ['FBL' '2048' '1974.71932998']\n",
      " ['FBL' '3192' '1933.0039302']\n",
      " ['FBL' '4096' '1949.25244343']\n",
      " ['CTCS' '256' '30.94239804']\n",
      " ['CTCS' '512' '123.07229386']\n",
      " ['CTCS' '1024' '490.44714424']\n",
      " ['CTCS' '2048' '723.90471044']\n",
      " ['CTCS' '3192' '726.16804934']\n",
      " ['CTCS' '4096' '691.50177672']\n",
      " ['CTCS' '5192' '683.83724279']\n",
      " ['KP' '256' '84.0205159']\n",
      " ['KP' '512' '337.81442303']\n",
      " ['KP' '1024' '450.22584874']\n",
      " ['KP' '2048' '453.78167112']\n",
      " ['KP' '3192' '442.16742645']\n",
      " ['KP' '4096' '275.68260076']\n",
      " ['CDKLM' '256' '74.89828571']\n",
      " ['CDKLM' '512' '299.25108487']\n",
      " ['CDKLM' '1024' '315.36119848']\n",
      " ['CDKLM' '2048' '318.66768112']\n",
      " ['CDKLM' '3192' '170.21156061']\n",
      " ['CDKLM' '4096' '209.03062449']]\n"
     ]
    }
   ],
   "source": [
    "def getData(filename):\n",
    "    # State variables\n",
    "    simulator = None\n",
    "    domain_size = None\n",
    "\n",
    "    data = np.empty((0, 3))\n",
    "\n",
    "    with open(filename) as origin_file:\n",
    "        for line in origin_file:\n",
    "\n",
    "            # Find simulator\n",
    "            match = re.findall(r'(Using simulator)', line)\n",
    "            if match:\n",
    "                simulator = line.split(' ')[2][:-2]\n",
    "\n",
    "            # Find block size\n",
    "            match = re.findall(r'(Running with domain size)', line)\n",
    "            if match:\n",
    "                domain_size = line.split(' ')[5][1:]\n",
    "\n",
    "            # Find simulator megacells\n",
    "            match = re.findall(r'(Maximum megacells)', line)\n",
    "            if match:\n",
    "                megacells = float(line.split(' ')[4])\n",
    "                data = np.append(data, [[simulator, domain_size, megacells]], axis=0)\n",
    "                \n",
    "                domain_size = None\n",
    "\n",
    "    return data\n",
    "\n",
    "data = getData(test_filename)\n",
    "print(data)"
   ]
  },
  {
   "cell_type": "code",
   "execution_count": 5,
   "metadata": {},
   "outputs": [],
   "source": [
    "def setBwStyles(ax):\n",
    "    from cycler import cycler\n",
    "\n",
    "    ax.set_prop_cycle( cycler('marker', ['.', 'x', 4, '+', '*', '1']) +\n",
    "                       cycler('linestyle', ['-.', '--', ':', '-.', '--', ':']) +\n",
    "                       #cycler('markersize', [15, 15, 15, 15, 15, 15]) +\n",
    "                       cycler('color', ['k', 'k', 'k', 'k', 'k', 'k']) )"
   ]
  },
  {
   "cell_type": "code",
   "execution_count": 6,
   "metadata": {},
   "outputs": [
    {
     "name": "stdout",
     "output_type": "stream",
     "text": [
      "CDKLM\n",
      "CTCS\n",
      "FBL\n",
      "KP\n",
      "[  256.   512.  1024.  2048.  3192.  4096.  5192.]\n"
     ]
    },
    {
     "data": {
      "text/plain": [
       "([<matplotlib.axis.XTick at 0xa37e4b0>,\n",
       "  <matplotlib.axis.XTick at 0x74a3730>,\n",
       "  <matplotlib.axis.XTick at 0xa526b70>,\n",
       "  <matplotlib.axis.XTick at 0xa526d90>,\n",
       "  <matplotlib.axis.XTick at 0xa526dd0>,\n",
       "  <matplotlib.axis.XTick at 0xa537070>,\n",
       "  <matplotlib.axis.XTick at 0xa5372f0>],\n",
       " <a list of 7 Text xticklabel objects>)"
      ]
     },
     "execution_count": 6,
     "metadata": {},
     "output_type": "execute_result"
    },
    {
     "data": {
      "image/png": "[encoded data removed]",
      "text/plain": [
       "<matplotlib.figure.Figure at 0xa3de650>"
      ]
     },
     "metadata": {},
     "output_type": "display_data"
    }
   ],
   "source": [
    "simulators = np.unique(data[:,0])\n",
    "\n",
    "fig = plt.figure()\n",
    "setBwStyles(fig.gca())\n",
    "\n",
    "for simulator in simulators:\n",
    "    print(simulator)\n",
    "    \n",
    "    columns = data[:,0] == simulator\n",
    "    \n",
    "    domain_sizes = data[columns,1].astype(np.float32)\n",
    "    megacells = data[columns,2].astype(np.float32)\n",
    "    \n",
    "    plt.loglog(domain_sizes*domain_sizes, megacells, label=simulator, marker='x')\n",
    "\n",
    "plt.legend()\n",
    "\n",
    "domain_sizes = np.unique(data[:,1].astype(np.float32))\n",
    "print domain_sizes\n",
    "plt.xticks( domain_sizes*domain_sizes, domain_sizes )"
   ]
  },
  {
   "cell_type": "code",
   "execution_count": null,
   "metadata": {},
   "outputs": [],
   "source": []
  },
  {
   "cell_type": "code",
   "execution_count": null,
   "metadata": {},
   "outputs": [],
   "source": []
  }
 ],
 "metadata": {
  "kernelspec": {
   "display_name": "Python 2",
   "language": "python",
   "name": "python2"
  },
  "language_info": {
   "codemirror_mode": {
    "name": "ipython",
    "version": 2
   },
   "file_extension": ".py",
   "mimetype": "text/x-python",
   "name": "python",
   "nbconvert_exporter": "python",
   "pygments_lexer": "ipython2",
   "version": "2.7.15"
  }
 },
 "nbformat": 4,
 "nbformat_minor": 2
}
