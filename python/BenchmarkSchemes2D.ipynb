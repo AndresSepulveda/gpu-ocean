{
 "cells": [
  {
   "cell_type": "markdown",
   "metadata": {},
   "source": [
    "# Benchmark numerical schemes"
   ]
  },
  {
   "cell_type": "markdown",
   "metadata": {},
   "source": [
    "```\n",
    "This notebook sets up and runs a set of benchmarks to compare\n",
    "different numerical discretizations of the SWEs\n",
    "\n",
    "Copyright (C) 2016, 2017, 2018  SINTEF ICT\n",
    "\n",
    "This program is free software: you can redistribute it and/or modify\n",
    "it under the terms of the GNU General Public License as published by\n",
    "the Free Software Foundation, either version 3 of the License, or\n",
    "(at your option) any later version.\n",
    "\n",
    "This program is distributed in the hope that it will be useful,\n",
    "but WITHOUT ANY WARRANTY; without even the implied warranty of\n",
    "MERCHANTABILITY or FITNESS FOR A PARTICULAR PURPOSE.  See the\n",
    "GNU General Public License for more details.\n",
    "\n",
    "You should have received a copy of the GNU General Public License\n",
    "along with this program.  If not, see <http://www.gnu.org/licenses/>.\n",
    "```"
   ]
  },
  {
   "cell_type": "code",
   "execution_count": 2,
   "metadata": {
    "scrolled": false
   },
   "outputs": [],
   "source": [
    "#Lets have matplotlib \"inline\"\n",
    "%matplotlib inline\n",
    "#%config InlineBackend.figure_format = 'retina'\n",
    "\n",
    "#Import packages we need\n",
    "import numpy as np\n",
    "from matplotlib import animation, rc\n",
    "from matplotlib import pyplot as plt\n",
    "import matplotlib.gridspec as gridspec\n",
    "\n",
    "import os\n",
    "import datetime\n",
    "import sys\n",
    "import pyopencl\n",
    "import timeit\n",
    "\n",
    "sys.path.insert(0, os.path.abspath(os.path.join(os.getcwd(), '../')))\n",
    "\n",
    "#Set large figure sizes\n",
    "#rc('figure', figsize=(16.0, 12.0))\n",
    "#rc('animation', html='html5')\n",
    "plt.rcParams[\"animation.html\"] = \"jshtml\"\n",
    "\n",
    "#Import our simulator\n",
    "from SWESimulators import FBL, CTCS, KP07, CDKLM16, PlotHelper, Common, WindStress\n",
    "#Import initial condition and bathymetry generating functions:\n",
    "from SWESimulators.BathymetryAndICs import *"
   ]
  },
  {
   "cell_type": "code",
   "execution_count": 3,
   "metadata": {},
   "outputs": [
    {
     "name": "stdout",
     "output_type": "stream",
     "text": [
      "Using  Tesla M2090\n"
     ]
    }
   ],
   "source": [
    "#Make sure we get compiler output from OpenCL\n",
    "os.environ[\"PYOPENCL_COMPILER_OUTPUT\"] = \"1\"\n",
    "\n",
    "#Set which CL device to use, and disable kernel caching\n",
    "if (str.lower(sys.platform).startswith(\"linux\")):\n",
    "    os.environ[\"PYOPENCL_CTX\"] = \"0\"\n",
    "else:\n",
    "    os.environ[\"PYOPENCL_CTX\"] = \"1\"\n",
    "os.environ[\"CUDA_CACHE_DISABLE\"] = \"1\"\n",
    "os.environ[\"PYOPENCL_COMPILER_OUTPUT\"] = \"1\"\n",
    "os.environ[\"PYOPENCL_NO_CACHE\"] = \"1\"\n",
    "\n",
    "#Create OpenCL context\n",
    "cl_ctx = pyopencl.create_some_context()\n",
    "print(\"Using \", cl_ctx.devices[0].name)"
   ]
  },
  {
   "cell_type": "code",
   "execution_count": 4,
   "metadata": {},
   "outputs": [
    {
     "name": "stdout",
     "output_type": "stream",
     "text": [
      "Saving images to images_2018_10_03-14_26_28\n"
     ]
    }
   ],
   "source": [
    "#Create output directory for images\n",
    "imgdir='images_' + datetime.datetime.now().strftime(\"%Y_%m_%d-%H_%M_%S\")\n",
    "os.makedirs(imgdir)\n",
    "print(\"Saving images to \" + imgdir)"
   ]
  },
  {
   "cell_type": "code",
   "execution_count": 5,
   "metadata": {},
   "outputs": [],
   "source": [
    "def setBwStyles(ax):\n",
    "    from cycler import cycler\n",
    "\n",
    "    ax.set_prop_cycle( cycler('marker', ['.', 'x', 4, '+', '*', '1']) +\n",
    "                       cycler('linestyle', ['-.', '--', ':', '-.', '--', ':']) +\n",
    "                       #cycler('markersize', [15, 15, 15, 15, 15, 15]) +\n",
    "                       cycler('color', ['k', 'k', 'k', 'k', 'k', 'k']) )"
   ]
  },
  {
   "cell_type": "markdown",
   "metadata": {},
   "source": [
    "## Global test parameters"
   ]
  },
  {
   "cell_type": "code",
   "execution_count": 6,
   "metadata": {},
   "outputs": [
    {
     "name": "stdout",
     "output_type": "stream",
     "text": [
      "Timesteps = 5.0\n"
     ]
    }
   ],
   "source": [
    "domain_sizes = [256, 512, 1024]#, 2048, 4096]\n",
    "\n",
    "schemes = [\"FBL\"] \n",
    "#schemes = [\"CTCS\"] \n",
    "#schemes = [\"FBL\", \"KP\", \"CDKLM\"]\n",
    "#schemes = [\"FBL\", \"CTCS\", \"KP\", \"CDKLM\"]\n",
    "\n",
    "#Timestep size\n",
    "dx = 200.0\n",
    "dy = 200.0\n",
    "\n",
    "dt = 0.95/100\n",
    "g = 9.81\n",
    "\n",
    "f = 0.00\n",
    "r = 0.0\n",
    "\n",
    "timesteps = 5\n",
    "\n",
    "end_time = timesteps*dt\n",
    "make_netCDF = False\n",
    "\n",
    "print(\"Timesteps = \" + str(end_time / dt))"
   ]
  },
  {
   "cell_type": "markdown",
   "metadata": {},
   "source": [
    "## Numerical schemes"
   ]
  },
  {
   "cell_type": "code",
   "execution_count": 7,
   "metadata": {
    "scrolled": false
   },
   "outputs": [],
   "source": [
    "def runFBL():\n",
    "    ghosts = [0,0,0,0] # north, east, south, west\n",
    "    dataShape = (sim_args[\"ny\"] + ghosts[0]+ghosts[2], \n",
    "                 sim_args[\"nx\"] + ghosts[1]+ghosts[3])\n",
    "\n",
    "    h0 = np.ones(dataShape, dtype=np.float32) * 60\n",
    "    eta0 = np.zeros(dataShape, dtype=np.float32)\n",
    "    u0 = np.zeros((dataShape[0], dataShape[1]+1), dtype=np.float32)\n",
    "    v0 = np.zeros((dataShape[0]+1, dataShape[1]), dtype=np.float32)\n",
    "\n",
    "    #Create bump in to lower left of domain for testing\n",
    "    addCentralBump(eta0, sim_args[\"nx\"], sim_args[\"ny\"], sim_args[\"dx\"], sim_args[\"dy\"], ghosts)\n",
    "\n",
    "    #Initialize simulator\n",
    "    fbl_args = {\"H\": h0, \"eta0\": eta0, \"hu0\": u0, \"hv0\": v0}\n",
    "    sim = FBL.FBL(**fbl_args, **sim_args)\n",
    "    \n",
    "    print(\"\\t\\tRefcount: \" + str(sys.getrefcount(sim_args[\"cl_ctx\"])))\n",
    "\n",
    "    #Run\n",
    "    t = sim.step(end_time)\n",
    "    \n",
    "    sim.cleanUp()"
   ]
  },
  {
   "cell_type": "code",
   "execution_count": 8,
   "metadata": {
    "scrolled": false
   },
   "outputs": [],
   "source": [
    "def runCTCS():\n",
    "    ghosts = [1,1,1,1] # north, east, south, west\n",
    "    dataShape = (sim_args[\"ny\"] + ghosts[0]+ghosts[2], \n",
    "                 sim_args[\"nx\"] + ghosts[1]+ghosts[3])\n",
    "\n",
    "    h0 = np.ones(dataShape, dtype=np.float32) * 60.0;\n",
    "    eta0 = np.zeros(dataShape, dtype=np.float32);\n",
    "    u0 = np.zeros((dataShape[0], dataShape[1]+1), dtype=np.float32);\n",
    "    v0 = np.zeros((dataShape[0]+1, dataShape[1]), dtype=np.float32);       \n",
    "\n",
    "    #Create bump in to lower left of domain for testing\n",
    "    addCentralBump(eta0, sim_args[\"nx\"], sim_args[\"ny\"], sim_args[\"dx\"], sim_args[\"dy\"], ghosts)\n",
    "\n",
    "    #Initialize simulator\n",
    "    ctcs_args = {\"H\": h0, \"eta0\": eta0, \"hu0\": u0, \"hv0\": v0, \"A\": 1.0}\n",
    "    sim = CTCS.CTCS(**ctcs_args, **sim_args)\n",
    "    \n",
    "    print(\"\\t\\tRefcount: \" + str(sys.getrefcount(sim_args[\"cl_ctx\"])))\n",
    "\n",
    "    #Run\n",
    "    t = sim.step(end_time)\n",
    "    \n",
    "    sim.cleanUp()"
   ]
  },
  {
   "cell_type": "code",
   "execution_count": 9,
   "metadata": {
    "scrolled": false
   },
   "outputs": [],
   "source": [
    "def runKP():\n",
    "    ghosts = np.array([2,2,2,2]) # north, east, south, west\n",
    "    dataShape = (sim_args[\"ny\"] + ghosts[0]+ghosts[2], \n",
    "                 sim_args[\"nx\"] + ghosts[1]+ghosts[3])\n",
    "\n",
    "    Hi = np.ones((dataShape[0]+1, dataShape[1]+1), dtype=np.float32) * 60.0\n",
    "    eta0 = np.zeros(dataShape, dtype=np.float32)\n",
    "    u0 = np.zeros(dataShape, dtype=np.float32)\n",
    "    v0 = np.zeros(dataShape, dtype=np.float32)\n",
    "\n",
    "    #Create bump in to lower left of domain for testing\n",
    "    addCentralBump(eta0, sim_args[\"nx\"], sim_args[\"ny\"], sim_args[\"dx\"], sim_args[\"dy\"], ghosts)\n",
    "\n",
    "    #Initialize simulator\n",
    "    kp_args = {\"Hi\": Hi, \"eta0\": eta0, \"hu0\": u0, \"hv0\": v0, \"use_rk2\": True}\n",
    "    sim = KP07.KP07(**kp_args, **sim_args)\n",
    "    \n",
    "    print(\"\\t\\tRefcount: \" + str(sys.getrefcount(sim_args[\"cl_ctx\"])))\n",
    "\n",
    "    #Run\n",
    "    t = sim.step(end_time)\n",
    "    \n",
    "    sim.cleanUp()"
   ]
  },
  {
   "cell_type": "code",
   "execution_count": 10,
   "metadata": {
    "scrolled": false
   },
   "outputs": [],
   "source": [
    "def runCDKLM():\n",
    "    ghosts = np.array([2,2,2,2]) # north, east, south, west\n",
    "    dataShape = (sim_args[\"ny\"] + ghosts[0]+ghosts[2], \n",
    "                 sim_args[\"nx\"] + ghosts[1]+ghosts[3])\n",
    "\n",
    "    Hi = np.ones((dataShape[0]+1, dataShape[1]+1), dtype=np.float32) * 60.0\n",
    "    eta0 = np.zeros(dataShape, dtype=np.float32)\n",
    "    u0 = np.zeros(dataShape, dtype=np.float32)\n",
    "    v0 = np.zeros(dataShape, dtype=np.float32)\n",
    "\n",
    "    #Create bump in to lower left of domain for testing\n",
    "    addCentralBump(eta0, sim_args[\"nx\"], sim_args[\"ny\"], sim_args[\"dx\"], sim_args[\"dy\"], ghosts)\n",
    "\n",
    "    #Initialize simulator\n",
    "    cdklm_args = {\"Hi\": Hi, \"eta0\": eta0, \"hu0\": u0, \"hv0\": v0, \"rk_order\": 2}\n",
    "    sim = CDKLM16.CDKLM16(**cdklm_args, **sim_args)\n",
    "    \n",
    "    print(\"\\t\\tRefcount: \" + str(sys.getrefcount(sim_args[\"cl_ctx\"])))\n",
    "\n",
    "    #Run\n",
    "    t = sim.step(end_time)\n",
    "    \n",
    "    sim.cleanUp()"
   ]
  },
  {
   "cell_type": "markdown",
   "metadata": {},
   "source": [
    "## Control"
   ]
  },
  {
   "cell_type": "code",
   "execution_count": 11,
   "metadata": {},
   "outputs": [
    {
     "name": "stdout",
     "output_type": "stream",
     "text": [
      "Scheme: FBL\n",
      "\tDomain size: 256\n",
      "\t\tRefcount: 10\n"
     ]
    },
    {
     "ename": "LogicError",
     "evalue": "clEnqueueNDRangeKernel failed: INVALID_WORK_GROUP_SIZE",
     "output_type": "error",
     "traceback": [
      "\u001b[0;31m---------------------------------------------------------------------------\u001b[0m",
      "\u001b[0;31mLogicError\u001b[0m                                Traceback (most recent call last)",
      "\u001b[0;32m<ipython-input-11-34f7ef13bacb>\u001b[0m in \u001b[0;36m<module>\u001b[0;34m()\u001b[0m\n\u001b[1;32m     25\u001b[0m \u001b[0;34m\u001b[0m\u001b[0m\n\u001b[1;32m     26\u001b[0m         \u001b[0mstart_time\u001b[0m \u001b[0;34m=\u001b[0m \u001b[0mtimeit\u001b[0m\u001b[0;34m.\u001b[0m\u001b[0mdefault_timer\u001b[0m\u001b[0;34m(\u001b[0m\u001b[0;34m)\u001b[0m\u001b[0;34m\u001b[0m\u001b[0m\n\u001b[0;32m---> 27\u001b[0;31m         \u001b[0meval\u001b[0m\u001b[0;34m(\u001b[0m\u001b[0;34m\"run\"\u001b[0m \u001b[0;34m+\u001b[0m \u001b[0mscheme\u001b[0m \u001b[0;34m+\u001b[0m \u001b[0;34m\"()\"\u001b[0m\u001b[0;34m)\u001b[0m\u001b[0;34m\u001b[0m\u001b[0m\n\u001b[0m\u001b[1;32m     28\u001b[0m         \u001b[0melapsed\u001b[0m \u001b[0;34m=\u001b[0m \u001b[0mtimeit\u001b[0m\u001b[0;34m.\u001b[0m\u001b[0mdefault_timer\u001b[0m\u001b[0;34m(\u001b[0m\u001b[0;34m)\u001b[0m \u001b[0;34m-\u001b[0m \u001b[0mstart_time\u001b[0m\u001b[0;34m\u001b[0m\u001b[0m\n\u001b[1;32m     29\u001b[0m \u001b[0;34m\u001b[0m\u001b[0m\n",
      "\u001b[0;32m<string>\u001b[0m in \u001b[0;36m<module>\u001b[0;34m()\u001b[0m\n",
      "\u001b[0;32m<ipython-input-7-efbfa7de5004>\u001b[0m in \u001b[0;36mrunFBL\u001b[0;34m()\u001b[0m\n\u001b[1;32m     19\u001b[0m \u001b[0;34m\u001b[0m\u001b[0m\n\u001b[1;32m     20\u001b[0m     \u001b[0;31m#Run\u001b[0m\u001b[0;34m\u001b[0m\u001b[0;34m\u001b[0m\u001b[0m\n\u001b[0;32m---> 21\u001b[0;31m     \u001b[0mt\u001b[0m \u001b[0;34m=\u001b[0m \u001b[0msim\u001b[0m\u001b[0;34m.\u001b[0m\u001b[0mstep\u001b[0m\u001b[0;34m(\u001b[0m\u001b[0mend_time\u001b[0m\u001b[0;34m)\u001b[0m\u001b[0;34m\u001b[0m\u001b[0m\n\u001b[0m\u001b[1;32m     22\u001b[0m \u001b[0;34m\u001b[0m\u001b[0m\n\u001b[1;32m     23\u001b[0m     \u001b[0msim\u001b[0m\u001b[0;34m.\u001b[0m\u001b[0mcleanUp\u001b[0m\u001b[0;34m(\u001b[0m\u001b[0;34m)\u001b[0m\u001b[0;34m\u001b[0m\u001b[0m\n",
      "\u001b[0;32m/lustre/storeB/users/martinls/src/gpu-ocean-cl/python/SWESimulators/FBL.py\u001b[0m in \u001b[0;36mstep\u001b[0;34m(self, t_end)\u001b[0m\n\u001b[1;32m    228\u001b[0m         \u001b[0;31m## Populate all ghost cells before we start\u001b[0m\u001b[0;34m\u001b[0m\u001b[0;34m\u001b[0m\u001b[0m\n\u001b[1;32m    229\u001b[0m         \u001b[0;32mif\u001b[0m \u001b[0mself\u001b[0m\u001b[0;34m.\u001b[0m\u001b[0mt\u001b[0m \u001b[0;34m==\u001b[0m \u001b[0;36m0\u001b[0m\u001b[0;34m:\u001b[0m\u001b[0;34m\u001b[0m\u001b[0m\n\u001b[0;32m--> 230\u001b[0;31m             \u001b[0mself\u001b[0m\u001b[0;34m.\u001b[0m\u001b[0mbc_kernel\u001b[0m\u001b[0;34m.\u001b[0m\u001b[0mboundaryConditionU\u001b[0m\u001b[0;34m(\u001b[0m\u001b[0mself\u001b[0m\u001b[0;34m.\u001b[0m\u001b[0mcl_queue\u001b[0m\u001b[0;34m,\u001b[0m \u001b[0mself\u001b[0m\u001b[0;34m.\u001b[0m\u001b[0mcl_data\u001b[0m\u001b[0;34m.\u001b[0m\u001b[0mhu0\u001b[0m\u001b[0;34m)\u001b[0m\u001b[0;34m\u001b[0m\u001b[0m\n\u001b[0m\u001b[1;32m    231\u001b[0m             \u001b[0mself\u001b[0m\u001b[0;34m.\u001b[0m\u001b[0mbc_kernel\u001b[0m\u001b[0;34m.\u001b[0m\u001b[0mboundaryConditionV\u001b[0m\u001b[0;34m(\u001b[0m\u001b[0mself\u001b[0m\u001b[0;34m.\u001b[0m\u001b[0mcl_queue\u001b[0m\u001b[0;34m,\u001b[0m \u001b[0mself\u001b[0m\u001b[0;34m.\u001b[0m\u001b[0mcl_data\u001b[0m\u001b[0;34m.\u001b[0m\u001b[0mhv0\u001b[0m\u001b[0;34m)\u001b[0m\u001b[0;34m\u001b[0m\u001b[0m\n\u001b[1;32m    232\u001b[0m             \u001b[0mself\u001b[0m\u001b[0;34m.\u001b[0m\u001b[0mbc_kernel\u001b[0m\u001b[0;34m.\u001b[0m\u001b[0mboundaryConditionEta\u001b[0m\u001b[0;34m(\u001b[0m\u001b[0mself\u001b[0m\u001b[0;34m.\u001b[0m\u001b[0mcl_queue\u001b[0m\u001b[0;34m,\u001b[0m \u001b[0mself\u001b[0m\u001b[0;34m.\u001b[0m\u001b[0mcl_data\u001b[0m\u001b[0;34m.\u001b[0m\u001b[0mh0\u001b[0m\u001b[0;34m)\u001b[0m\u001b[0;34m\u001b[0m\u001b[0m\n",
      "\u001b[0;32m/lustre/storeB/users/martinls/src/gpu-ocean-cl/python/SWESimulators/FBL.py\u001b[0m in \u001b[0;36mboundaryConditionU\u001b[0;34m(self, cl_queue, hu0)\u001b[0m\n\u001b[1;32m    355\u001b[0m                         \u001b[0mself\u001b[0m\u001b[0;34m.\u001b[0m\u001b[0mnx\u001b[0m\u001b[0;34m,\u001b[0m \u001b[0mself\u001b[0m\u001b[0;34m.\u001b[0m\u001b[0mny\u001b[0m\u001b[0;34m,\u001b[0m\u001b[0;31m \u001b[0m\u001b[0;31m\\\u001b[0m\u001b[0;34m\u001b[0m\u001b[0m\n\u001b[1;32m    356\u001b[0m                         \u001b[0mself\u001b[0m\u001b[0;34m.\u001b[0m\u001b[0mnx_halo\u001b[0m\u001b[0;34m,\u001b[0m \u001b[0mself\u001b[0m\u001b[0;34m.\u001b[0m\u001b[0mny_halo\u001b[0m\u001b[0;34m,\u001b[0m\u001b[0;31m \u001b[0m\u001b[0;31m\\\u001b[0m\u001b[0;34m\u001b[0m\u001b[0m\n\u001b[0;32m--> 357\u001b[0;31m                         hu0.data, hu0.pitch)\n\u001b[0m\u001b[1;32m    358\u001b[0m \u001b[0;34m\u001b[0m\u001b[0m\n\u001b[1;32m    359\u001b[0m         \u001b[0;32melif\u001b[0m \u001b[0;34m(\u001b[0m\u001b[0mself\u001b[0m\u001b[0;34m.\u001b[0m\u001b[0mboundary_conditions\u001b[0m\u001b[0;34m.\u001b[0m\u001b[0meast\u001b[0m \u001b[0;34m==\u001b[0m \u001b[0;36m2\u001b[0m\u001b[0;34m)\u001b[0m\u001b[0;34m:\u001b[0m\u001b[0;34m\u001b[0m\u001b[0m\n",
      "\u001b[0;32m/usr/local/lib/python3.5/dist-packages/pyopencl/cffi_cl.py\u001b[0m in \u001b[0;36m__call__\u001b[0;34m(self, queue, global_size, local_size, *args, **kwargs)\u001b[0m\n\u001b[1;32m   1764\u001b[0m         \u001b[0;31m# __call__ can't be overridden directly, so we need this\u001b[0m\u001b[0;34m\u001b[0m\u001b[0;34m\u001b[0m\u001b[0m\n\u001b[1;32m   1765\u001b[0m         \u001b[0;31m# trampoline hack.\u001b[0m\u001b[0;34m\u001b[0m\u001b[0;34m\u001b[0m\u001b[0m\n\u001b[0;32m-> 1766\u001b[0;31m         \u001b[0;32mreturn\u001b[0m \u001b[0mself\u001b[0m\u001b[0;34m.\u001b[0m\u001b[0m_enqueue\u001b[0m\u001b[0;34m(\u001b[0m\u001b[0mself\u001b[0m\u001b[0;34m,\u001b[0m \u001b[0mqueue\u001b[0m\u001b[0;34m,\u001b[0m \u001b[0mglobal_size\u001b[0m\u001b[0;34m,\u001b[0m \u001b[0mlocal_size\u001b[0m\u001b[0;34m,\u001b[0m \u001b[0;34m*\u001b[0m\u001b[0margs\u001b[0m\u001b[0;34m,\u001b[0m \u001b[0;34m**\u001b[0m\u001b[0mkwargs\u001b[0m\u001b[0;34m)\u001b[0m\u001b[0;34m\u001b[0m\u001b[0m\n\u001b[0m\u001b[1;32m   1767\u001b[0m \u001b[0;34m\u001b[0m\u001b[0m\n\u001b[1;32m   1768\u001b[0m     def capture_call(self, filename, queue, global_size, local_size,\n",
      "\u001b[0;32m<generated code>\u001b[0m in \u001b[0;36menqueue_knl_closedBoundaryUKernel\u001b[0;34m(self, queue, global_size, local_size, arg0, arg1, arg2, arg3, arg4, arg5, global_offset, g_times_l, wait_for)\u001b[0m\n",
      "\u001b[0;32m/usr/local/lib/python3.5/dist-packages/pyopencl/cffi_cl.py\u001b[0m in \u001b[0;36menqueue_nd_range_kernel\u001b[0;34m(queue, kernel, global_work_size, local_work_size, global_work_offset, wait_for, g_times_l)\u001b[0m\n\u001b[1;32m   1950\u001b[0m     _handle_error(_lib.enqueue_nd_range_kernel(\n\u001b[1;32m   1951\u001b[0m         \u001b[0mptr_event\u001b[0m\u001b[0;34m,\u001b[0m \u001b[0mqueue\u001b[0m\u001b[0;34m.\u001b[0m\u001b[0mptr\u001b[0m\u001b[0;34m,\u001b[0m \u001b[0mkernel\u001b[0m\u001b[0;34m.\u001b[0m\u001b[0mptr\u001b[0m\u001b[0;34m,\u001b[0m \u001b[0mwork_dim\u001b[0m\u001b[0;34m,\u001b[0m \u001b[0mc_global_work_offset\u001b[0m\u001b[0;34m,\u001b[0m\u001b[0;34m\u001b[0m\u001b[0m\n\u001b[0;32m-> 1952\u001b[0;31m         global_work_size, local_work_size, c_wait_for, num_wait_for))\n\u001b[0m\u001b[1;32m   1953\u001b[0m     \u001b[0;32mreturn\u001b[0m \u001b[0mEvent\u001b[0m\u001b[0;34m.\u001b[0m\u001b[0m_create\u001b[0m\u001b[0;34m(\u001b[0m\u001b[0mptr_event\u001b[0m\u001b[0;34m[\u001b[0m\u001b[0;36m0\u001b[0m\u001b[0;34m]\u001b[0m\u001b[0;34m)\u001b[0m\u001b[0;34m\u001b[0m\u001b[0m\n\u001b[1;32m   1954\u001b[0m \u001b[0;34m\u001b[0m\u001b[0m\n",
      "\u001b[0;32m/usr/local/lib/python3.5/dist-packages/pyopencl/cffi_cl.py\u001b[0m in \u001b[0;36m_handle_error\u001b[0;34m(error)\u001b[0m\n\u001b[1;32m    662\u001b[0m     \u001b[0m_lib\u001b[0m\u001b[0;34m.\u001b[0m\u001b[0mfree_pointer\u001b[0m\u001b[0;34m(\u001b[0m\u001b[0merror\u001b[0m\u001b[0;34m.\u001b[0m\u001b[0mmsg\u001b[0m\u001b[0;34m)\u001b[0m\u001b[0;34m\u001b[0m\u001b[0m\n\u001b[1;32m    663\u001b[0m     \u001b[0m_lib\u001b[0m\u001b[0;34m.\u001b[0m\u001b[0mfree_pointer\u001b[0m\u001b[0;34m(\u001b[0m\u001b[0merror\u001b[0m\u001b[0;34m)\u001b[0m\u001b[0;34m\u001b[0m\u001b[0m\n\u001b[0;32m--> 664\u001b[0;31m     \u001b[0;32mraise\u001b[0m \u001b[0me\u001b[0m\u001b[0;34m\u001b[0m\u001b[0m\n\u001b[0m\u001b[1;32m    665\u001b[0m \u001b[0;34m\u001b[0m\u001b[0m\n\u001b[1;32m    666\u001b[0m \u001b[0;31m# }}}\u001b[0m\u001b[0;34m\u001b[0m\u001b[0;34m\u001b[0m\u001b[0m\n",
      "\u001b[0;31mLogicError\u001b[0m: clEnqueueNDRangeKernel failed: INVALID_WORK_GROUP_SIZE"
     ]
    }
   ],
   "source": [
    "sim_args = {\n",
    "\"cl_ctx\": cl_ctx,\n",
    "\"nx\": domain_sizes[0], \"ny\": domain_sizes[0],\n",
    "\"dx\": dx, \"dy\": dy,\n",
    "\"dt\": dt,\n",
    "\"g\": g,\n",
    "\"f\": f,\n",
    "\"r\": r\n",
    "}\n",
    "\n",
    "out_filename = imgdir + \"/profiling_data.npz\"\n",
    "data = {}\n",
    "\n",
    "for scheme in schemes:\n",
    "    print(\"Scheme: \" + scheme)\n",
    "    \n",
    "    elapsed_per_size = np.empty(len(domain_sizes))\n",
    "\n",
    "    # Run scheme for all defined domain sizes\n",
    "    for i, domain_size in enumerate(domain_sizes):\n",
    "        sim_args[\"nx\"] = domain_size\n",
    "        sim_args[\"ny\"] = domain_size\n",
    "    \n",
    "        print(\"\\tDomain size: \" + str(domain_size))\n",
    "        \n",
    "        start_time = timeit.default_timer()\n",
    "        eval(\"run\" + scheme + \"()\")\n",
    "        elapsed = timeit.default_timer() - start_time\n",
    "        \n",
    "        print(\"\\t\\t\" + str(elapsed))\n",
    "        elapsed_per_size[i] = elapsed\n",
    "        \n",
    "    data[str(scheme)] = elapsed_per_size\n",
    "\n",
    "np.savez(out_filename, **data)\n"
   ]
  },
  {
   "cell_type": "markdown",
   "metadata": {},
   "source": [
    "## Plot"
   ]
  },
  {
   "cell_type": "code",
   "execution_count": null,
   "metadata": {},
   "outputs": [],
   "source": [
    "fig = plt.figure(figsize=(12, 8))\n",
    "setBwStyles(fig.gca())\n",
    "\n",
    "in_filename = imgdir + \"/profiling_data.npz\"\n",
    "\n",
    "with np.load(in_filename) as npzfile:\n",
    "    for scheme in schemes:\n",
    "        plt.plot(np.array(domain_sizes)**2*0.001, (np.array(domain_sizes)**2/npzfile[str(scheme)].astype(np.float64))*0.001)\n",
    "\n",
    "plt.xlabel('Domain size (Mcells)')\n",
    "plt.ylabel('Performance (Mcells/s)')\n",
    "\n",
    "plt.legend(schemes)"
   ]
  },
  {
   "cell_type": "markdown",
   "metadata": {},
   "source": [
    "## Plot data from run_benchmark.py-generated files"
   ]
  },
  {
   "cell_type": "code",
   "execution_count": null,
   "metadata": {},
   "outputs": [],
   "source": [
    "## Edit/check filenames before plotting\n",
    "## NOTE: Each file can contain multiple schemes!\n",
    "\n",
    "filenames = \\\n",
    "{\"laptop\": \n",
    "  {\"untuned_cl\": \"laptop_untuned_cl_benchmark_data.npz\", \n",
    "   \"untuned_cuda\": \"laptop_untuned_cuda_benchmark_data.npz\", \n",
    "   \"tuned_cl\": \"laptop_tuned_cl_benchmark_data.npz\",\n",
    "   \"tuned_cuda\": \"laptop_tuned_cuda_benchmark_data.npz\"},\n",
    " \n",
    " \"desktop\": \n",
    "  {\"untuned_cl\": \"desktop_untuned_cl_benchmark_data.npz\", \n",
    "   \"untuned_cuda\": \"desktop_untuned_cuda_benchmark_data.npz\", \n",
    "   \"tuned_cl\": \"desktop_tuned_cl_benchmark_data.npz\",\n",
    "   \"tuned_cuda\": \"desktop_tuned_cuda_benchmark_data.npz\"},\n",
    " \n",
    " \"hpc\": \n",
    "  {\"untuned_cl\": \"methpc_untuned_cl_benchmark_data.npz\", \n",
    "   \"untuned_cuda\": \"methpc_untuned_cuda_benchmark_data.npz\", \n",
    "   \"tuned_cl\": \"methpc_tuned_cl_benchmark_data.npz\",\n",
    "   \"tuned_cuda\": \"methpc_tuned_cuda_benchmark_data.npz\"}\n",
    "}\n",
    "\n",
    "# NOTE: Must match ax.set_xticklabels in cell below and keys (in inner dict) above!\n",
    "order_of_codes = {\"untuned_cl\": 0, \"untuned_cuda\": 1, \"tuned_cl\": 2, \"tuned_cuda\": 3}"
   ]
  },
  {
   "cell_type": "code",
   "execution_count": null,
   "metadata": {},
   "outputs": [],
   "source": [
    "ngroups = 4\n",
    "\n",
    "laptop_data = np.zeros(ngroups)\n",
    "desktop_data = np.zeros(ngroups)\n",
    "hpc_data = np.zeros(ngroups)\n",
    "\n",
    "for scheme in schemes:\n",
    "    # Load data from files\n",
    "    for system, codes in filenames.items():\n",
    "        for code, filename in codes.items():  \n",
    "            try:\n",
    "                with np.load(filename) as npzfile:\n",
    "                    if(system == 'laptop'):\n",
    "                        laptop_data[order_of_codes[code]] = npzfile[str(scheme)].astype(np.float64)\n",
    "                    elif(system == 'desktop'):\n",
    "                        desktop_data[order_of_codes[code]] = npzfile[str(scheme)].astype(np.float64)\n",
    "                    elif(system == 'hpc'):\n",
    "                        hpc_data[order_of_codes[code]] = npzfile[str(scheme)].astype(np.float64)\n",
    "                    else:\n",
    "                        print(\"System \" + system + \" not found!\")\n",
    "            except IOError:\n",
    "                print(\"NOTE: Missing results for \" + code + \" code for \" + system + \" system!\")\n",
    "                pass\n",
    "                    \n",
    "    # Plot                \n",
    "    fig, ax = plt.subplots(figsize=(12, 8))\n",
    "\n",
    "    ind = np.arange(ngroups)    # the x locations for the groups\n",
    "    width = ngroups/20         # the width of the bars\n",
    "\n",
    "    laptop = ax.bar(ind, laptop_data, width, color='m', bottom=0)\n",
    "    desktop = ax.bar(ind + width, desktop_data, width, color='c', bottom=0)\n",
    "    hpc = ax.bar(ind + 2*width, hpc_data, width, color='g', bottom=0)\n",
    "\n",
    "    ax.set_title(scheme)\n",
    "    ax.set_xticks(ind + width)\n",
    "    ax.set_xticklabels(('Untuned CL', 'Untuned CUDA', 'Tuned CL', 'Tuned CUDA'))# NOTE: Must match order_of_codes in cell above!\n",
    "\n",
    "    ax.legend((laptop[0], desktop[0], hpc[0]), ('Laptop', 'Desktop', 'HPC'))\n",
    "    ax.autoscale_view()\n",
    "\n",
    "    plt.ylabel('Performance (Mcells/s)')\n",
    "    plt.show()"
   ]
  },
  {
   "cell_type": "markdown",
   "metadata": {},
   "source": [
    "## TODO\n",
    "\n",
    "  * Fix CTCS bug (on second run, every time, also for run_benchmark.py-script): RuntimeError: clEnqueueNDRangeKernel failed: OUT_OF_RESOURCES -> check ref counts!\n",
    "  * Verify simulation results (visually)\n",
    "  * Run on laptop, desktop and MET HPC (should also run CUDA on Abel for performance comparison and \"political reasons\" :))"
   ]
  },
  {
   "cell_type": "code",
   "execution_count": null,
   "metadata": {},
   "outputs": [],
   "source": []
  }
 ],
 "metadata": {
  "git": {
   "suppress_outputs": false
  },
  "kernelspec": {
   "display_name": "Python 3",
   "language": "python",
   "name": "python3"
  },
  "language_info": {
   "codemirror_mode": {
    "name": "ipython",
    "version": 3
   },
   "file_extension": ".py",
   "mimetype": "text/x-python",
   "name": "python",
   "nbconvert_exporter": "python",
   "pygments_lexer": "ipython3",
   "version": "3.5.2"
  }
 },
 "nbformat": 4,
 "nbformat_minor": 2
}
