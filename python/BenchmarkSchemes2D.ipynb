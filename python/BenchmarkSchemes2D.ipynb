{
 "cells": [
  {
   "cell_type": "markdown",
   "metadata": {},
   "source": [
    "# Benchmark numerical schemes"
   ]
  },
  {
   "cell_type": "markdown",
   "metadata": {},
   "source": [
    "```\n",
    "This notebook sets up and runs a set of benchmarks to compare\n",
    "different numerical discretizations of the SWEs\n",
    "\n",
    "Copyright (C) 2016, 2017, 2018  SINTEF ICT\n",
    "\n",
    "This program is free software: you can redistribute it and/or modify\n",
    "it under the terms of the GNU General Public License as published by\n",
    "the Free Software Foundation, either version 3 of the License, or\n",
    "(at your option) any later version.\n",
    "\n",
    "This program is distributed in the hope that it will be useful,\n",
    "but WITHOUT ANY WARRANTY; without even the implied warranty of\n",
    "MERCHANTABILITY or FITNESS FOR A PARTICULAR PURPOSE.  See the\n",
    "GNU General Public License for more details.\n",
    "\n",
    "You should have received a copy of the GNU General Public License\n",
    "along with this program.  If not, see <http://www.gnu.org/licenses/>.\n",
    "```"
   ]
  },
  {
   "cell_type": "code",
   "execution_count": 11,
   "metadata": {
    "scrolled": false
   },
   "outputs": [
    {
     "name": "stderr",
     "output_type": "stream",
     "text": [
      "/home/martinls/.local/lib/python3.5/site-packages/matplotlib/pyplot.py:233: MatplotlibDeprecationWarning: The pylab_setup function was deprecated in version 3.0.\n",
      "  _backend_mod, new_figure_manager, draw_if_interactive, _show = pylab_setup()\n"
     ]
    },
    {
     "ename": "AttributeError",
     "evalue": "type object 'Backend' has no attribute 'backend_version'",
     "output_type": "error",
     "traceback": [
      "\u001b[0;31m---------------------------------------------------------------------------\u001b[0m",
      "\u001b[0;31mAttributeError\u001b[0m                            Traceback (most recent call last)",
      "\u001b[0;32m<ipython-input-11-15aecde3ca2d>\u001b[0m in \u001b[0;36m<module>\u001b[0;34m()\u001b[0m\n\u001b[1;32m      1\u001b[0m \u001b[0;31m#Lets have matplotlib \"inline\"\u001b[0m\u001b[0;34m\u001b[0m\u001b[0;34m\u001b[0m\u001b[0m\n\u001b[0;32m----> 2\u001b[0;31m \u001b[0mget_ipython\u001b[0m\u001b[0;34m(\u001b[0m\u001b[0;34m)\u001b[0m\u001b[0;34m.\u001b[0m\u001b[0mmagic\u001b[0m\u001b[0;34m(\u001b[0m\u001b[0;34m'matplotlib inline'\u001b[0m\u001b[0;34m)\u001b[0m\u001b[0;34m\u001b[0m\u001b[0m\n\u001b[0m\u001b[1;32m      3\u001b[0m \u001b[0;31m#%config InlineBackend.figure_format = 'retina'\u001b[0m\u001b[0;34m\u001b[0m\u001b[0;34m\u001b[0m\u001b[0m\n\u001b[1;32m      4\u001b[0m \u001b[0;34m\u001b[0m\u001b[0m\n\u001b[1;32m      5\u001b[0m \u001b[0;31m#Import packages we need\u001b[0m\u001b[0;34m\u001b[0m\u001b[0;34m\u001b[0m\u001b[0m\n",
      "\u001b[0;32m/usr/lib/python3/dist-packages/IPython/core/interactiveshell.py\u001b[0m in \u001b[0;36mmagic\u001b[0;34m(self, arg_s)\u001b[0m\n\u001b[1;32m   2158\u001b[0m         \u001b[0mmagic_name\u001b[0m\u001b[0;34m,\u001b[0m \u001b[0m_\u001b[0m\u001b[0;34m,\u001b[0m \u001b[0mmagic_arg_s\u001b[0m \u001b[0;34m=\u001b[0m \u001b[0marg_s\u001b[0m\u001b[0;34m.\u001b[0m\u001b[0mpartition\u001b[0m\u001b[0;34m(\u001b[0m\u001b[0;34m' '\u001b[0m\u001b[0;34m)\u001b[0m\u001b[0;34m\u001b[0m\u001b[0m\n\u001b[1;32m   2159\u001b[0m         \u001b[0mmagic_name\u001b[0m \u001b[0;34m=\u001b[0m \u001b[0mmagic_name\u001b[0m\u001b[0;34m.\u001b[0m\u001b[0mlstrip\u001b[0m\u001b[0;34m(\u001b[0m\u001b[0mprefilter\u001b[0m\u001b[0;34m.\u001b[0m\u001b[0mESC_MAGIC\u001b[0m\u001b[0;34m)\u001b[0m\u001b[0;34m\u001b[0m\u001b[0m\n\u001b[0;32m-> 2160\u001b[0;31m         \u001b[0;32mreturn\u001b[0m \u001b[0mself\u001b[0m\u001b[0;34m.\u001b[0m\u001b[0mrun_line_magic\u001b[0m\u001b[0;34m(\u001b[0m\u001b[0mmagic_name\u001b[0m\u001b[0;34m,\u001b[0m \u001b[0mmagic_arg_s\u001b[0m\u001b[0;34m)\u001b[0m\u001b[0;34m\u001b[0m\u001b[0m\n\u001b[0m\u001b[1;32m   2161\u001b[0m \u001b[0;34m\u001b[0m\u001b[0m\n\u001b[1;32m   2162\u001b[0m     \u001b[0;31m#-------------------------------------------------------------------------\u001b[0m\u001b[0;34m\u001b[0m\u001b[0;34m\u001b[0m\u001b[0m\n",
      "\u001b[0;32m/usr/lib/python3/dist-packages/IPython/core/interactiveshell.py\u001b[0m in \u001b[0;36mrun_line_magic\u001b[0;34m(self, magic_name, line)\u001b[0m\n\u001b[1;32m   2079\u001b[0m                 \u001b[0mkwargs\u001b[0m\u001b[0;34m[\u001b[0m\u001b[0;34m'local_ns'\u001b[0m\u001b[0;34m]\u001b[0m \u001b[0;34m=\u001b[0m \u001b[0msys\u001b[0m\u001b[0;34m.\u001b[0m\u001b[0m_getframe\u001b[0m\u001b[0;34m(\u001b[0m\u001b[0mstack_depth\u001b[0m\u001b[0;34m)\u001b[0m\u001b[0;34m.\u001b[0m\u001b[0mf_locals\u001b[0m\u001b[0;34m\u001b[0m\u001b[0m\n\u001b[1;32m   2080\u001b[0m             \u001b[0;32mwith\u001b[0m \u001b[0mself\u001b[0m\u001b[0;34m.\u001b[0m\u001b[0mbuiltin_trap\u001b[0m\u001b[0;34m:\u001b[0m\u001b[0;34m\u001b[0m\u001b[0m\n\u001b[0;32m-> 2081\u001b[0;31m                 \u001b[0mresult\u001b[0m \u001b[0;34m=\u001b[0m \u001b[0mfn\u001b[0m\u001b[0;34m(\u001b[0m\u001b[0;34m*\u001b[0m\u001b[0margs\u001b[0m\u001b[0;34m,\u001b[0m\u001b[0;34m**\u001b[0m\u001b[0mkwargs\u001b[0m\u001b[0;34m)\u001b[0m\u001b[0;34m\u001b[0m\u001b[0m\n\u001b[0m\u001b[1;32m   2082\u001b[0m             \u001b[0;32mreturn\u001b[0m \u001b[0mresult\u001b[0m\u001b[0;34m\u001b[0m\u001b[0m\n\u001b[1;32m   2083\u001b[0m \u001b[0;34m\u001b[0m\u001b[0m\n",
      "\u001b[0;32m<decorator-gen-105>\u001b[0m in \u001b[0;36mmatplotlib\u001b[0;34m(self, line)\u001b[0m\n",
      "\u001b[0;32m/usr/lib/python3/dist-packages/IPython/core/magic.py\u001b[0m in \u001b[0;36m<lambda>\u001b[0;34m(f, *a, **k)\u001b[0m\n\u001b[1;32m    186\u001b[0m     \u001b[0;31m# but it's overkill for just that one bit of state.\u001b[0m\u001b[0;34m\u001b[0m\u001b[0;34m\u001b[0m\u001b[0m\n\u001b[1;32m    187\u001b[0m     \u001b[0;32mdef\u001b[0m \u001b[0mmagic_deco\u001b[0m\u001b[0;34m(\u001b[0m\u001b[0marg\u001b[0m\u001b[0;34m)\u001b[0m\u001b[0;34m:\u001b[0m\u001b[0;34m\u001b[0m\u001b[0m\n\u001b[0;32m--> 188\u001b[0;31m         \u001b[0mcall\u001b[0m \u001b[0;34m=\u001b[0m \u001b[0;32mlambda\u001b[0m \u001b[0mf\u001b[0m\u001b[0;34m,\u001b[0m \u001b[0;34m*\u001b[0m\u001b[0ma\u001b[0m\u001b[0;34m,\u001b[0m \u001b[0;34m**\u001b[0m\u001b[0mk\u001b[0m\u001b[0;34m:\u001b[0m \u001b[0mf\u001b[0m\u001b[0;34m(\u001b[0m\u001b[0;34m*\u001b[0m\u001b[0ma\u001b[0m\u001b[0;34m,\u001b[0m \u001b[0;34m**\u001b[0m\u001b[0mk\u001b[0m\u001b[0;34m)\u001b[0m\u001b[0;34m\u001b[0m\u001b[0m\n\u001b[0m\u001b[1;32m    189\u001b[0m \u001b[0;34m\u001b[0m\u001b[0m\n\u001b[1;32m    190\u001b[0m         \u001b[0;32mif\u001b[0m \u001b[0mcallable\u001b[0m\u001b[0;34m(\u001b[0m\u001b[0marg\u001b[0m\u001b[0;34m)\u001b[0m\u001b[0;34m:\u001b[0m\u001b[0;34m\u001b[0m\u001b[0m\n",
      "\u001b[0;32m/usr/lib/python3/dist-packages/IPython/core/magics/pylab.py\u001b[0m in \u001b[0;36mmatplotlib\u001b[0;34m(self, line)\u001b[0m\n\u001b[1;32m     98\u001b[0m             \u001b[0mprint\u001b[0m\u001b[0;34m(\u001b[0m\u001b[0;34m\"Available matplotlib backends: %s\"\u001b[0m \u001b[0;34m%\u001b[0m \u001b[0mbackends_list\u001b[0m\u001b[0;34m)\u001b[0m\u001b[0;34m\u001b[0m\u001b[0m\n\u001b[1;32m     99\u001b[0m         \u001b[0;32melse\u001b[0m\u001b[0;34m:\u001b[0m\u001b[0;34m\u001b[0m\u001b[0m\n\u001b[0;32m--> 100\u001b[0;31m             \u001b[0mgui\u001b[0m\u001b[0;34m,\u001b[0m \u001b[0mbackend\u001b[0m \u001b[0;34m=\u001b[0m \u001b[0mself\u001b[0m\u001b[0;34m.\u001b[0m\u001b[0mshell\u001b[0m\u001b[0;34m.\u001b[0m\u001b[0menable_matplotlib\u001b[0m\u001b[0;34m(\u001b[0m\u001b[0margs\u001b[0m\u001b[0;34m.\u001b[0m\u001b[0mgui\u001b[0m\u001b[0;34m)\u001b[0m\u001b[0;34m\u001b[0m\u001b[0m\n\u001b[0m\u001b[1;32m    101\u001b[0m             \u001b[0mself\u001b[0m\u001b[0;34m.\u001b[0m\u001b[0m_show_matplotlib_backend\u001b[0m\u001b[0;34m(\u001b[0m\u001b[0margs\u001b[0m\u001b[0;34m.\u001b[0m\u001b[0mgui\u001b[0m\u001b[0;34m,\u001b[0m \u001b[0mbackend\u001b[0m\u001b[0;34m)\u001b[0m\u001b[0;34m\u001b[0m\u001b[0m\n\u001b[1;32m    102\u001b[0m \u001b[0;34m\u001b[0m\u001b[0m\n",
      "\u001b[0;32m/usr/lib/python3/dist-packages/IPython/core/interactiveshell.py\u001b[0m in \u001b[0;36menable_matplotlib\u001b[0;34m(self, gui)\u001b[0m\n\u001b[1;32m   2948\u001b[0m                 \u001b[0mgui\u001b[0m\u001b[0;34m,\u001b[0m \u001b[0mbackend\u001b[0m \u001b[0;34m=\u001b[0m \u001b[0mpt\u001b[0m\u001b[0;34m.\u001b[0m\u001b[0mfind_gui_and_backend\u001b[0m\u001b[0;34m(\u001b[0m\u001b[0mself\u001b[0m\u001b[0;34m.\u001b[0m\u001b[0mpylab_gui_select\u001b[0m\u001b[0;34m)\u001b[0m\u001b[0;34m\u001b[0m\u001b[0m\n\u001b[1;32m   2949\u001b[0m \u001b[0;34m\u001b[0m\u001b[0m\n\u001b[0;32m-> 2950\u001b[0;31m         \u001b[0mpt\u001b[0m\u001b[0;34m.\u001b[0m\u001b[0mactivate_matplotlib\u001b[0m\u001b[0;34m(\u001b[0m\u001b[0mbackend\u001b[0m\u001b[0;34m)\u001b[0m\u001b[0;34m\u001b[0m\u001b[0m\n\u001b[0m\u001b[1;32m   2951\u001b[0m         \u001b[0mpt\u001b[0m\u001b[0;34m.\u001b[0m\u001b[0mconfigure_inline_support\u001b[0m\u001b[0;34m(\u001b[0m\u001b[0mself\u001b[0m\u001b[0;34m,\u001b[0m \u001b[0mbackend\u001b[0m\u001b[0;34m)\u001b[0m\u001b[0;34m\u001b[0m\u001b[0m\n\u001b[1;32m   2952\u001b[0m \u001b[0;34m\u001b[0m\u001b[0m\n",
      "\u001b[0;32m/usr/lib/python3/dist-packages/IPython/core/pylabtools.py\u001b[0m in \u001b[0;36mactivate_matplotlib\u001b[0;34m(backend)\u001b[0m\n\u001b[1;32m    307\u001b[0m \u001b[0;34m\u001b[0m\u001b[0m\n\u001b[1;32m    308\u001b[0m     \u001b[0;32mimport\u001b[0m \u001b[0mmatplotlib\u001b[0m\u001b[0;34m.\u001b[0m\u001b[0mpyplot\u001b[0m\u001b[0;34m\u001b[0m\u001b[0m\n\u001b[0;32m--> 309\u001b[0;31m     \u001b[0mmatplotlib\u001b[0m\u001b[0;34m.\u001b[0m\u001b[0mpyplot\u001b[0m\u001b[0;34m.\u001b[0m\u001b[0mswitch_backend\u001b[0m\u001b[0;34m(\u001b[0m\u001b[0mbackend\u001b[0m\u001b[0;34m)\u001b[0m\u001b[0;34m\u001b[0m\u001b[0m\n\u001b[0m\u001b[1;32m    310\u001b[0m \u001b[0;34m\u001b[0m\u001b[0m\n\u001b[1;32m    311\u001b[0m     \u001b[0;31m# This must be imported last in the matplotlib series, after\u001b[0m\u001b[0;34m\u001b[0m\u001b[0;34m\u001b[0m\u001b[0m\n",
      "\u001b[0;32m/home/martinls/.local/lib/python3.5/site-packages/matplotlib/pyplot.py\u001b[0m in \u001b[0;36mswitch_backend\u001b[0;34m(newbackend)\u001b[0m\n\u001b[1;32m    231\u001b[0m     \u001b[0;31m# Need to keep a global reference to the backend for compatibility reasons.\u001b[0m\u001b[0;34m\u001b[0m\u001b[0;34m\u001b[0m\u001b[0m\n\u001b[1;32m    232\u001b[0m     \u001b[0;31m# See https://github.com/matplotlib/matplotlib/issues/6092\u001b[0m\u001b[0;34m\u001b[0m\u001b[0;34m\u001b[0m\u001b[0m\n\u001b[0;32m--> 233\u001b[0;31m     \u001b[0mmatplotlib\u001b[0m\u001b[0;34m.\u001b[0m\u001b[0mbackends\u001b[0m\u001b[0;34m.\u001b[0m\u001b[0mbackend\u001b[0m \u001b[0;34m=\u001b[0m \u001b[0mnewbackend\u001b[0m\u001b[0;34m\u001b[0m\u001b[0m\n\u001b[0m\u001b[1;32m    234\u001b[0m \u001b[0;34m\u001b[0m\u001b[0m\n\u001b[1;32m    235\u001b[0m \u001b[0;34m\u001b[0m\u001b[0m\n",
      "\u001b[0;32m/home/martinls/.local/lib/python3.5/site-packages/matplotlib/cbook/deprecation.py\u001b[0m in \u001b[0;36mwrapper\u001b[0;34m(*args, **kwargs)\u001b[0m\n\u001b[1;32m    206\u001b[0m \u001b[0;34m\u001b[0m\u001b[0m\n\u001b[1;32m    207\u001b[0m                 \u001b[0;32mdef\u001b[0m \u001b[0mfinalize\u001b[0m\u001b[0;34m(\u001b[0m\u001b[0mwrapper\u001b[0m\u001b[0;34m,\u001b[0m \u001b[0mnew_doc\u001b[0m\u001b[0;34m)\u001b[0m\u001b[0;34m:\u001b[0m\u001b[0;34m\u001b[0m\u001b[0m\n\u001b[0;32m--> 208\u001b[0;31m                     \u001b[0mwrapper\u001b[0m \u001b[0;34m=\u001b[0m \u001b[0mfunctools\u001b[0m\u001b[0;34m.\u001b[0m\u001b[0mwraps\u001b[0m\u001b[0;34m(\u001b[0m\u001b[0mfunc\u001b[0m\u001b[0;34m)\u001b[0m\u001b[0;34m(\u001b[0m\u001b[0mwrapper\u001b[0m\u001b[0;34m)\u001b[0m\u001b[0;34m\u001b[0m\u001b[0m\n\u001b[0m\u001b[1;32m    209\u001b[0m                     \u001b[0mwrapper\u001b[0m\u001b[0;34m.\u001b[0m\u001b[0m__doc__\u001b[0m \u001b[0;34m=\u001b[0m \u001b[0mnew_doc\u001b[0m\u001b[0;34m\u001b[0m\u001b[0m\n\u001b[1;32m    210\u001b[0m                     \u001b[0;32mreturn\u001b[0m \u001b[0mwrapper\u001b[0m\u001b[0;34m\u001b[0m\u001b[0m\n",
      "\u001b[0;32m/home/martinls/.local/lib/python3.5/site-packages/matplotlib/backends/__init__.py\u001b[0m in \u001b[0;36mpylab_setup\u001b[0;34m(name)\u001b[0m\n\u001b[1;32m    105\u001b[0m     \u001b[0mbackend\u001b[0m \u001b[0;34m=\u001b[0m \u001b[0mname\u001b[0m\u001b[0;34m\u001b[0m\u001b[0m\n\u001b[1;32m    106\u001b[0m \u001b[0;34m\u001b[0m\u001b[0m\n\u001b[0;32m--> 107\u001b[0;31m     \u001b[0m_log\u001b[0m\u001b[0;34m.\u001b[0m\u001b[0mdebug\u001b[0m\u001b[0;34m(\u001b[0m\u001b[0;34m'backend %s version %s'\u001b[0m\u001b[0;34m,\u001b[0m \u001b[0mname\u001b[0m\u001b[0;34m,\u001b[0m \u001b[0mBackend\u001b[0m\u001b[0;34m.\u001b[0m\u001b[0mbackend_version\u001b[0m\u001b[0;34m)\u001b[0m\u001b[0;34m\u001b[0m\u001b[0m\n\u001b[0m\u001b[1;32m    108\u001b[0m     return (backend_mod,\n\u001b[1;32m    109\u001b[0m             \u001b[0mBackend\u001b[0m\u001b[0;34m.\u001b[0m\u001b[0mnew_figure_manager\u001b[0m\u001b[0;34m,\u001b[0m\u001b[0;34m\u001b[0m\u001b[0m\n",
      "\u001b[0;31mAttributeError\u001b[0m: type object 'Backend' has no attribute 'backend_version'"
     ]
    }
   ],
   "source": [
    "#Lets have matplotlib \"inline\"\n",
    "%matplotlib inline\n",
    "#%config InlineBackend.figure_format = 'retina'\n",
    "\n",
    "#Import packages we need\n",
    "import numpy as np\n",
    "from matplotlib import animation, rc\n",
    "from matplotlib import pyplot as plt\n",
    "import matplotlib.gridspec as gridspec\n",
    "\n",
    "import os\n",
    "import datetime\n",
    "import sys\n",
    "import pyopencl\n",
    "import timeit\n",
    "\n",
    "sys.path.insert(0, os.path.abspath(os.path.join(os.getcwd(), '../')))\n",
    "\n",
    "#Set large figure sizes\n",
    "#rc('figure', figsize=(16.0, 12.0))\n",
    "#rc('animation', html='html5')\n",
    "plt.rcParams[\"animation.html\"] = \"jshtml\"\n",
    "\n",
    "#Import our simulator\n",
    "from SWESimulators import FBL, CTCS, KP07, CDKLM16, PlotHelper, Common, WindStress\n",
    "#Import initial condition and bathymetry generating functions:\n",
    "from SWESimulators.BathymetryAndICs import *"
   ]
  },
  {
   "cell_type": "code",
   "execution_count": 2,
   "metadata": {},
   "outputs": [
    {
     "name": "stdout",
     "output_type": "stream",
     "text": [
      "Using  Tesla M2090\n"
     ]
    }
   ],
   "source": [
    "#Make sure we get compiler output from OpenCL\n",
    "os.environ[\"PYOPENCL_COMPILER_OUTPUT\"] = \"1\"\n",
    "\n",
    "#Set which CL device to use, and disable kernel caching\n",
    "if (str.lower(sys.platform).startswith(\"linux\")):\n",
    "    os.environ[\"PYOPENCL_CTX\"] = \"0\"\n",
    "else:\n",
    "    os.environ[\"PYOPENCL_CTX\"] = \"1\"\n",
    "os.environ[\"CUDA_CACHE_DISABLE\"] = \"1\"\n",
    "os.environ[\"PYOPENCL_COMPILER_OUTPUT\"] = \"1\"\n",
    "os.environ[\"PYOPENCL_NO_CACHE\"] = \"1\"\n",
    "\n",
    "#Create OpenCL context\n",
    "cl_ctx = pyopencl.create_some_context()\n",
    "print(\"Using \", cl_ctx.devices[0].name)"
   ]
  },
  {
   "cell_type": "code",
   "execution_count": 3,
   "metadata": {},
   "outputs": [
    {
     "name": "stdout",
     "output_type": "stream",
     "text": [
      "Saving images to images_2018_10_04-10_33_18\n"
     ]
    }
   ],
   "source": [
    "#Create output directory for images\n",
    "imgdir='images_' + datetime.datetime.now().strftime(\"%Y_%m_%d-%H_%M_%S\")\n",
    "os.makedirs(imgdir)\n",
    "print(\"Saving images to \" + imgdir)"
   ]
  },
  {
   "cell_type": "code",
   "execution_count": 4,
   "metadata": {},
   "outputs": [],
   "source": [
    "def setBwStyles(ax):\n",
    "    from cycler import cycler\n",
    "\n",
    "    ax.set_prop_cycle( cycler('marker', ['.', 'x', 4, '+', '*', '1']) +\n",
    "                       cycler('linestyle', ['-.', '--', ':', '-.', '--', ':']) +\n",
    "                       #cycler('markersize', [15, 15, 15, 15, 15, 15]) +\n",
    "                       cycler('color', ['k', 'k', 'k', 'k', 'k', 'k']) )"
   ]
  },
  {
   "cell_type": "markdown",
   "metadata": {},
   "source": [
    "## Global test parameters"
   ]
  },
  {
   "cell_type": "code",
   "execution_count": 5,
   "metadata": {},
   "outputs": [
    {
     "name": "stdout",
     "output_type": "stream",
     "text": [
      "Timesteps = 5.0\n"
     ]
    }
   ],
   "source": [
    "domain_sizes = [256, 512, 1024]#, 2048, 4096]\n",
    "\n",
    "#schemes = [\"FBL\"] \n",
    "schemes = [\"CTCS\"] \n",
    "#schemes = [\"FBL\", \"KP\", \"CDKLM\"]\n",
    "#schemes = [\"FBL\", \"CTCS\", \"KP\", \"CDKLM\"]\n",
    "\n",
    "#Timestep size\n",
    "dx = 200.0\n",
    "dy = 200.0\n",
    "\n",
    "dt = 0.95/100\n",
    "g = 9.81\n",
    "\n",
    "f = 0.00\n",
    "r = 0.0\n",
    "\n",
    "timesteps = 5\n",
    "\n",
    "end_time = timesteps*dt\n",
    "make_netCDF = False\n",
    "\n",
    "print(\"Timesteps = \" + str(end_time / dt))"
   ]
  },
  {
   "cell_type": "markdown",
   "metadata": {},
   "source": [
    "## Numerical schemes"
   ]
  },
  {
   "cell_type": "code",
   "execution_count": 6,
   "metadata": {
    "scrolled": false
   },
   "outputs": [],
   "source": [
    "def runFBL():\n",
    "    ghosts = [0,0,0,0] # north, east, south, west\n",
    "    dataShape = (sim_args[\"ny\"] + ghosts[0]+ghosts[2], \n",
    "                 sim_args[\"nx\"] + ghosts[1]+ghosts[3])\n",
    "\n",
    "    h0 = np.ones(dataShape, dtype=np.float32) * 60\n",
    "    eta0 = np.zeros(dataShape, dtype=np.float32)\n",
    "    u0 = np.zeros((dataShape[0], dataShape[1]+1), dtype=np.float32)\n",
    "    v0 = np.zeros((dataShape[0]+1, dataShape[1]), dtype=np.float32)\n",
    "\n",
    "    #Create bump in to lower left of domain for testing\n",
    "    addCentralBump(eta0, sim_args[\"nx\"], sim_args[\"ny\"], sim_args[\"dx\"], sim_args[\"dy\"], ghosts)\n",
    "\n",
    "    #Initialize simulator\n",
    "    fbl_args = {\"H\": h0, \"eta0\": eta0, \"hu0\": u0, \"hv0\": v0}\n",
    "    sim = FBL.FBL(**fbl_args, **sim_args)\n",
    "    \n",
    "    print(\"\\t\\tRefcount: \" + str(sys.getrefcount(sim_args[\"cl_ctx\"])))\n",
    "\n",
    "    #Run\n",
    "    t = sim.step(end_time)\n",
    "    \n",
    "    sim.cleanUp()"
   ]
  },
  {
   "cell_type": "code",
   "execution_count": 7,
   "metadata": {
    "scrolled": false
   },
   "outputs": [],
   "source": [
    "def runCTCS():\n",
    "    ghosts = [1,1,1,1] # north, east, south, west\n",
    "    dataShape = (sim_args[\"ny\"] + ghosts[0]+ghosts[2], \n",
    "                 sim_args[\"nx\"] + ghosts[1]+ghosts[3])\n",
    "\n",
    "    h0 = np.ones(dataShape, dtype=np.float32) * 60.0;\n",
    "    eta0 = np.zeros(dataShape, dtype=np.float32);\n",
    "    u0 = np.zeros((dataShape[0], dataShape[1]+1), dtype=np.float32);\n",
    "    v0 = np.zeros((dataShape[0]+1, dataShape[1]), dtype=np.float32);       \n",
    "\n",
    "    #Create bump in to lower left of domain for testing\n",
    "    addCentralBump(eta0, sim_args[\"nx\"], sim_args[\"ny\"], sim_args[\"dx\"], sim_args[\"dy\"], ghosts)\n",
    "\n",
    "    #Initialize simulator\n",
    "    ctcs_args = {\"H\": h0, \"eta0\": eta0, \"hu0\": u0, \"hv0\": v0, \"A\": 1.0}\n",
    "    sim = CTCS.CTCS(**ctcs_args, **sim_args)\n",
    "    \n",
    "    print(\"\\t\\tRefcount: \" + str(sys.getrefcount(sim_args[\"cl_ctx\"])))\n",
    "\n",
    "    #Run\n",
    "    t = sim.step(end_time)\n",
    "    \n",
    "    sim.cleanUp()"
   ]
  },
  {
   "cell_type": "code",
   "execution_count": 8,
   "metadata": {
    "scrolled": false
   },
   "outputs": [],
   "source": [
    "def runKP():\n",
    "    ghosts = np.array([2,2,2,2]) # north, east, south, west\n",
    "    dataShape = (sim_args[\"ny\"] + ghosts[0]+ghosts[2], \n",
    "                 sim_args[\"nx\"] + ghosts[1]+ghosts[3])\n",
    "\n",
    "    Hi = np.ones((dataShape[0]+1, dataShape[1]+1), dtype=np.float32) * 60.0\n",
    "    eta0 = np.zeros(dataShape, dtype=np.float32)\n",
    "    u0 = np.zeros(dataShape, dtype=np.float32)\n",
    "    v0 = np.zeros(dataShape, dtype=np.float32)\n",
    "\n",
    "    #Create bump in to lower left of domain for testing\n",
    "    addCentralBump(eta0, sim_args[\"nx\"], sim_args[\"ny\"], sim_args[\"dx\"], sim_args[\"dy\"], ghosts)\n",
    "\n",
    "    #Initialize simulator\n",
    "    kp_args = {\"Hi\": Hi, \"eta0\": eta0, \"hu0\": u0, \"hv0\": v0, \"use_rk2\": True}\n",
    "    sim = KP07.KP07(**kp_args, **sim_args)\n",
    "    \n",
    "    print(\"\\t\\tRefcount: \" + str(sys.getrefcount(sim_args[\"cl_ctx\"])))\n",
    "\n",
    "    #Run\n",
    "    t = sim.step(end_time)\n",
    "    \n",
    "    sim.cleanUp()"
   ]
  },
  {
   "cell_type": "code",
   "execution_count": 9,
   "metadata": {
    "scrolled": false
   },
   "outputs": [],
   "source": [
    "def runCDKLM():\n",
    "    ghosts = np.array([2,2,2,2]) # north, east, south, west\n",
    "    dataShape = (sim_args[\"ny\"] + ghosts[0]+ghosts[2], \n",
    "                 sim_args[\"nx\"] + ghosts[1]+ghosts[3])\n",
    "\n",
    "    Hi = np.ones((dataShape[0]+1, dataShape[1]+1), dtype=np.float32) * 60.0\n",
    "    eta0 = np.zeros(dataShape, dtype=np.float32)\n",
    "    u0 = np.zeros(dataShape, dtype=np.float32)\n",
    "    v0 = np.zeros(dataShape, dtype=np.float32)\n",
    "\n",
    "    #Create bump in to lower left of domain for testing\n",
    "    addCentralBump(eta0, sim_args[\"nx\"], sim_args[\"ny\"], sim_args[\"dx\"], sim_args[\"dy\"], ghosts)\n",
    "\n",
    "    #Initialize simulator\n",
    "    cdklm_args = {\"Hi\": Hi, \"eta0\": eta0, \"hu0\": u0, \"hv0\": v0, \"rk_order\": 2}\n",
    "    sim = CDKLM16.CDKLM16(**cdklm_args, **sim_args)\n",
    "    \n",
    "    print(\"\\t\\tRefcount: \" + str(sys.getrefcount(sim_args[\"cl_ctx\"])))\n",
    "\n",
    "    #Run\n",
    "    t = sim.step(end_time)\n",
    "    \n",
    "    sim.cleanUp()"
   ]
  },
  {
   "cell_type": "markdown",
   "metadata": {},
   "source": [
    "## Control"
   ]
  },
  {
   "cell_type": "code",
   "execution_count": 10,
   "metadata": {},
   "outputs": [
    {
     "name": "stdout",
     "output_type": "stream",
     "text": [
      "Scheme: CTCS\n",
      "\tDomain size: 256\n",
      "\t\tRefcount: 9\n",
      "\t\t2.008120635524392\n",
      "\tDomain size: 512\n",
      "\t\tRefcount: 9\n",
      "\t\t3.1249777618795633\n",
      "\tDomain size: 1024\n",
      "\t\tRefcount: 9\n",
      "\t\t6.198179364204407\n"
     ]
    }
   ],
   "source": [
    "sim_args = {\n",
    "\"cl_ctx\": cl_ctx,\n",
    "\"nx\": domain_sizes[0], \"ny\": domain_sizes[0],\n",
    "\"dx\": dx, \"dy\": dy,\n",
    "\"dt\": dt,\n",
    "\"g\": g,\n",
    "\"f\": f,\n",
    "\"r\": r\n",
    "}\n",
    "\n",
    "out_filename = imgdir + \"/profiling_data.npz\"\n",
    "data = {}\n",
    "\n",
    "for scheme in schemes:\n",
    "    print(\"Scheme: \" + scheme)\n",
    "    \n",
    "    elapsed_per_size = np.empty(len(domain_sizes))\n",
    "\n",
    "    # Run scheme for all defined domain sizes\n",
    "    for i, domain_size in enumerate(domain_sizes):\n",
    "        sim_args[\"nx\"] = domain_size\n",
    "        sim_args[\"ny\"] = domain_size\n",
    "    \n",
    "        print(\"\\tDomain size: \" + str(domain_size))\n",
    "        \n",
    "        start_time = timeit.default_timer()\n",
    "        eval(\"run\" + scheme + \"()\")\n",
    "        elapsed = timeit.default_timer() - start_time\n",
    "        \n",
    "        print(\"\\t\\t\" + str(elapsed))\n",
    "        elapsed_per_size[i] = elapsed\n",
    "        \n",
    "    data[str(scheme)] = elapsed_per_size\n",
    "\n",
    "np.savez(out_filename, **data)\n"
   ]
  },
  {
   "cell_type": "markdown",
   "metadata": {},
   "source": [
    "## Plot"
   ]
  },
  {
   "cell_type": "code",
   "execution_count": null,
   "metadata": {},
   "outputs": [],
   "source": [
    "fig = plt.figure(figsize=(12, 8))\n",
    "setBwStyles(fig.gca())\n",
    "\n",
    "in_filename = imgdir + \"/profiling_data.npz\"\n",
    "\n",
    "with np.load(in_filename) as npzfile:\n",
    "    for scheme in schemes:\n",
    "        plt.plot(np.array(domain_sizes)**2*0.001, (np.array(domain_sizes)**2/npzfile[str(scheme)].astype(np.float64))*0.001)\n",
    "\n",
    "plt.xlabel('Domain size (Mcells)')\n",
    "plt.ylabel('Performance (Mcells/s)')\n",
    "\n",
    "plt.legend(schemes)"
   ]
  },
  {
   "cell_type": "markdown",
   "metadata": {},
   "source": [
    "## Plot data from run_benchmark.py-generated files"
   ]
  },
  {
   "cell_type": "code",
   "execution_count": null,
   "metadata": {},
   "outputs": [],
   "source": [
    "## Edit/check filenames before plotting\n",
    "## NOTE: Each file can contain multiple schemes!\n",
    "\n",
    "filenames = \\\n",
    "{\"laptop\": \n",
    "  {\"cl\": \"laptop_cl_benchmark_data.npz\",\n",
    "   \"cuda\": \"laptop_cuda_benchmark_data.npz\"},\n",
    " \n",
    " \"desktop\": \n",
    "  {\"cl\": \"desktop_cl_benchmark_data.npz\",\n",
    "   \"cuda\": \"desktop_cuda_benchmark_data.npz\"},\n",
    " \n",
    " \"hpc\": \n",
    "  {\"cl\": \"supercomputer_cl_benchmark_data.npz\",\n",
    "   \"cuda\": \"supercomputer_cuda_benchmark_data.npz\"}\n",
    "}\n",
    "\n",
    "# NOTE: Must match ax.set_xticklabels in cell below and keys (in inner dict) above!\n",
    "# NOTE: Increase index by 2, as there are two versions of each code: 'Tuned' and 'Untuned'\n",
    "order_of_codes = {\"cl\": 0, \"cuda\": 2}"
   ]
  },
  {
   "cell_type": "code",
   "execution_count": null,
   "metadata": {},
   "outputs": [],
   "source": [
    "ngroups = 4\n",
    "\n",
    "laptop_data = np.zeros(ngroups)\n",
    "desktop_data = np.zeros(ngroups)\n",
    "hpc_data = np.zeros(ngroups)\n",
    "\n",
    "for scheme in schemes:\n",
    "    # Load data from files\n",
    "    for system, codes in filenames.items():\n",
    "        for code, filename in codes.items():  \n",
    "            try:\n",
    "                with np.load(filename) as npzfile:\n",
    "                    if(system == 'laptop'):\n",
    "                        laptop_data[order_of_codes[code]] = npzfile['megacells'][0].astype(np.float64)  # untuned\n",
    "                        laptop_data[order_of_codes[code]+1] = npzfile['megacells'][-1].astype(np.float64)# tuned\n",
    "                    elif(system == 'desktop'):\n",
    "                        desktop_data[order_of_codes[code]] = npzfile['megacells'][0].astype(np.float64)   # untuned\n",
    "                        desktop_data[order_of_codes[code]+1] = npzfile['megacells'][-1].astype(np.float64)# tuned\n",
    "                    elif(system == 'supercomputer'):\n",
    "                        supercomputer_data[order_of_codes[code]] = npzfile['megacells'][0].astype(np.float64)   # untuned\n",
    "                        supercomputer_data[order_of_codes[code]+1] = npzfile['megacells'][-1].astype(np.float64)# tuned\n",
    "                    else:\n",
    "                        print(\"System \" + system + \" not found!\")\n",
    "            except IOError:\n",
    "                print(\"NOTE: Missing results for \" + code + \" code for \" + system + \" system!\")\n",
    "                pass\n",
    "                    \n",
    "    # Plot                \n",
    "    fig, ax = plt.subplots(figsize=(12, 8))\n",
    "\n",
    "    ind = np.arange(ngroups)    # the x locations for the groups\n",
    "    width = ngroups/20         # the width of the bars\n",
    "\n",
    "    laptop = ax.bar(ind, laptop_data, width, color='m', bottom=0)\n",
    "    desktop = ax.bar(ind + width, desktop_data, width, color='c', bottom=0)\n",
    "    hpc = ax.bar(ind + 2*width, hpc_data, width, color='g', bottom=0)\n",
    "\n",
    "    ax.set_title(scheme)\n",
    "    ax.set_xticks(ind + width)\n",
    "    ax.set_xticklabels(('Untuned CL', 'Tuned CL', 'Untuned CUDA', 'Tuned CUDA'))# NOTE: Must match order_of_codes in cell above!\n",
    "\n",
    "    ax.legend((laptop[0], desktop[0], hpc[0]), ('Laptop', 'Desktop', 'Supercomputer'))\n",
    "    ax.autoscale_view()\n",
    "\n",
    "    plt.ylabel('Performance (Mcells/s)')\n",
    "    plt.show()"
   ]
  },
  {
   "cell_type": "code",
   "execution_count": null,
   "metadata": {},
   "outputs": [],
   "source": []
  }
 ],
 "metadata": {
  "git": {
   "suppress_outputs": false
  },
  "kernelspec": {
   "display_name": "Python 3",
   "language": "python",
   "name": "python3"
  },
  "language_info": {
   "codemirror_mode": {
    "name": "ipython",
    "version": 3
   },
   "file_extension": ".py",
   "mimetype": "text/x-python",
   "name": "python",
   "nbconvert_exporter": "python",
   "pygments_lexer": "ipython3",
   "version": "3.5.2"
  }
 },
 "nbformat": 4,
 "nbformat_minor": 2
}
