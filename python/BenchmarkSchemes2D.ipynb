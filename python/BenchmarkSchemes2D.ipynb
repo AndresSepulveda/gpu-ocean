{
 "cells": [
  {
   "cell_type": "markdown",
   "metadata": {},
   "source": [
    "# Benchmark numerical schemes"
   ]
  },
  {
   "cell_type": "markdown",
   "metadata": {},
   "source": [
    "```\n",
    "This notebook sets up and runs a set of benchmarks to compare\n",
    "different numerical discretizations of the SWEs\n",
    "\n",
    "Copyright (C) 2016, 2017, 2018  SINTEF ICT\n",
    "\n",
    "This program is free software: you can redistribute it and/or modify\n",
    "it under the terms of the GNU General Public License as published by\n",
    "the Free Software Foundation, either version 3 of the License, or\n",
    "(at your option) any later version.\n",
    "\n",
    "This program is distributed in the hope that it will be useful,\n",
    "but WITHOUT ANY WARRANTY; without even the implied warranty of\n",
    "MERCHANTABILITY or FITNESS FOR A PARTICULAR PURPOSE.  See the\n",
    "GNU General Public License for more details.\n",
    "\n",
    "You should have received a copy of the GNU General Public License\n",
    "along with this program.  If not, see <http://www.gnu.org/licenses/>.\n",
    "```"
   ]
  },
  {
   "cell_type": "code",
   "execution_count": 83,
   "metadata": {
    "scrolled": false
   },
   "outputs": [],
   "source": [
    "#Lets have matplotlib \"inline\"\n",
    "%matplotlib inline\n",
    "#%config InlineBackend.figure_format = 'retina'\n",
    "\n",
    "#Import packages we need\n",
    "import numpy as np\n",
    "from matplotlib import animation, rc\n",
    "from matplotlib import pyplot as plt\n",
    "import matplotlib.gridspec as gridspec\n",
    "\n",
    "import os\n",
    "import datetime\n",
    "import sys\n",
    "import pyopencl\n",
    "import timeit\n",
    "\n",
    "sys.path.insert(0, os.path.abspath(os.path.join(os.getcwd(), '../')))\n",
    "\n",
    "#Set large figure sizes\n",
    "#rc('figure', figsize=(16.0, 12.0))\n",
    "#rc('animation', html='html5')\n",
    "plt.rcParams[\"animation.html\"] = \"jshtml\"\n",
    "\n",
    "#Import our simulator\n",
    "from SWESimulators import FBL, CTCS, KP07, CDKLM16, PlotHelper, Common, WindStress\n",
    "#Import initial condition and bathymetry generating functions:\n",
    "from SWESimulators.BathymetryAndICs import *"
   ]
  },
  {
   "cell_type": "code",
   "execution_count": 2,
   "metadata": {},
   "outputs": [
    {
     "name": "stdout",
     "output_type": "stream",
     "text": [
      "Using  Tesla M2090\n"
     ]
    }
   ],
   "source": [
    "#Make sure we get compiler output from OpenCL\n",
    "os.environ[\"PYOPENCL_COMPILER_OUTPUT\"] = \"1\"\n",
    "\n",
    "#Set which CL device to use, and disable kernel caching\n",
    "if (str.lower(sys.platform).startswith(\"linux\")):\n",
    "    os.environ[\"PYOPENCL_CTX\"] = \"0\"\n",
    "else:\n",
    "    os.environ[\"PYOPENCL_CTX\"] = \"1\"\n",
    "os.environ[\"CUDA_CACHE_DISABLE\"] = \"1\"\n",
    "os.environ[\"PYOPENCL_COMPILER_OUTPUT\"] = \"1\"\n",
    "os.environ[\"PYOPENCL_NO_CACHE\"] = \"1\"\n",
    "\n",
    "#Create OpenCL context\n",
    "cl_ctx = pyopencl.create_some_context()\n",
    "print(\"Using \", cl_ctx.devices[0].name)"
   ]
  },
  {
   "cell_type": "code",
   "execution_count": 3,
   "metadata": {},
   "outputs": [
    {
     "name": "stdout",
     "output_type": "stream",
     "text": [
      "Saving images to images_2018_09_28-08_26_53\n"
     ]
    }
   ],
   "source": [
    "#Create output directory for images\n",
    "imgdir='images_' + datetime.datetime.now().strftime(\"%Y_%m_%d-%H_%M_%S\")\n",
    "os.makedirs(imgdir)\n",
    "print(\"Saving images to \" + imgdir)"
   ]
  },
  {
   "cell_type": "code",
   "execution_count": 4,
   "metadata": {},
   "outputs": [],
   "source": [
    "def setBwStyles(ax):\n",
    "    from cycler import cycler\n",
    "\n",
    "    ax.set_prop_cycle( cycler('marker', ['.', 'x', 4, '+', '*', '1']) +\n",
    "                       cycler('linestyle', ['-.', '--', ':', '-.', '--', ':']) +\n",
    "                       #cycler('markersize', [15, 15, 15, 15, 15, 15]) +\n",
    "                       cycler('color', ['k', 'k', 'k', 'k', 'k', 'k']) )"
   ]
  },
  {
   "cell_type": "markdown",
   "metadata": {},
   "source": [
    "## Global test parameters"
   ]
  },
  {
   "cell_type": "code",
   "execution_count": 5,
   "metadata": {},
   "outputs": [
    {
     "name": "stdout",
     "output_type": "stream",
     "text": [
      "Timesteps = 5.0\n"
     ]
    }
   ],
   "source": [
    "domain_sizes = [256, 512, 1024, 2048, 4096]\n",
    "\n",
    "#schemes = [\"CTCS\"] \n",
    "schemes = [\"FBL\", \"KP\", \"CDKLM\"]\n",
    "#schemes = [\"FBL\", \"CTCS\", \"KP\", \"CDKLM\"]\n",
    "\n",
    "#Timestep size\n",
    "dx = 200.0\n",
    "dy = 200.0\n",
    "\n",
    "dt = 0.95/100\n",
    "g = 9.81\n",
    "\n",
    "f = 0.00\n",
    "r = 0.0\n",
    "\n",
    "timesteps = 5\n",
    "\n",
    "end_time = timesteps*dt\n",
    "make_netCDF = False\n",
    "\n",
    "print(\"Timesteps = \" + str(end_time / dt))"
   ]
  },
  {
   "cell_type": "markdown",
   "metadata": {},
   "source": [
    "## Numerical schemes"
   ]
  },
  {
   "cell_type": "code",
   "execution_count": 6,
   "metadata": {
    "scrolled": false
   },
   "outputs": [],
   "source": [
    "def runFBL():\n",
    "    ghosts = [0,0,0,0] # north, east, south, west\n",
    "    dataShape = (sim_args[\"ny\"] + ghosts[0]+ghosts[2], \n",
    "                 sim_args[\"nx\"] + ghosts[1]+ghosts[3])\n",
    "\n",
    "    h0 = np.ones(dataShape, dtype=np.float32) * 60\n",
    "    eta0 = np.zeros(dataShape, dtype=np.float32)\n",
    "    u0 = np.zeros((dataShape[0], dataShape[1]+1), dtype=np.float32)\n",
    "    v0 = np.zeros((dataShape[0]+1, dataShape[1]), dtype=np.float32)\n",
    "\n",
    "    #Create bump in to lower left of domain for testing\n",
    "    addCentralBump(eta0, sim_args[\"nx\"], sim_args[\"ny\"], sim_args[\"dx\"], sim_args[\"dy\"], ghosts)\n",
    "\n",
    "    #Initialize simulator\n",
    "    fbl_args = {\"H\": h0, \"eta0\": eta0, \"hu0\": u0, \"hv0\": v0}\n",
    "    sim = FBL.FBL(**fbl_args, **sim_args)\n",
    "    \n",
    "    print(\"refcount: \" + str(sys.getrefcount(sim_args[\"cl_ctx\"])))\n",
    "\n",
    "    #Run\n",
    "    t = sim.step(end_time)\n",
    "    \n",
    "    sim.cleanUp()"
   ]
  },
  {
   "cell_type": "code",
   "execution_count": 7,
   "metadata": {
    "scrolled": false
   },
   "outputs": [],
   "source": [
    "def runCTCS():\n",
    "    ghosts = [1,1,1,1] # north, east, south, west\n",
    "    dataShape = (sim_args[\"ny\"] + ghosts[0]+ghosts[2], \n",
    "                 sim_args[\"nx\"] + ghosts[1]+ghosts[3])\n",
    "\n",
    "    h0 = np.ones(dataShape, dtype=np.float32) * 60.0;\n",
    "    eta0 = np.zeros(dataShape, dtype=np.float32);\n",
    "    u0 = np.zeros((dataShape[0], dataShape[1]+1), dtype=np.float32);\n",
    "    v0 = np.zeros((dataShape[0]+1, dataShape[1]), dtype=np.float32);       \n",
    "\n",
    "    #Create bump in to lower left of domain for testing\n",
    "    addCentralBump(eta0, sim_args[\"nx\"], sim_args[\"ny\"], sim_args[\"dx\"], sim_args[\"dy\"], ghosts)\n",
    "\n",
    "    #Initialize simulator\n",
    "    ctcs_args = {\"H\": h0, \"eta0\": eta0, \"hu0\": u0, \"hv0\": v0, \"A\": 1.0}\n",
    "    sim = CTCS.CTCS(**ctcs_args, **sim_args)\n",
    "    \n",
    "    print(\"refcount: \" + str(sys.getrefcount(sim_args[\"cl_ctx\"])))\n",
    "\n",
    "    #Run\n",
    "    t = sim.step(end_time)\n",
    "    \n",
    "    sim.cleanUp()"
   ]
  },
  {
   "cell_type": "code",
   "execution_count": 8,
   "metadata": {
    "scrolled": false
   },
   "outputs": [],
   "source": [
    "def runKP():\n",
    "    ghosts = np.array([2,2,2,2]) # north, east, south, west\n",
    "    dataShape = (sim_args[\"ny\"] + ghosts[0]+ghosts[2], \n",
    "                 sim_args[\"nx\"] + ghosts[1]+ghosts[3])\n",
    "\n",
    "    Hi = np.ones((dataShape[0]+1, dataShape[1]+1), dtype=np.float32) * 60.0\n",
    "    eta0 = np.zeros(dataShape, dtype=np.float32)\n",
    "    u0 = np.zeros(dataShape, dtype=np.float32)\n",
    "    v0 = np.zeros(dataShape, dtype=np.float32)\n",
    "\n",
    "    #Create bump in to lower left of domain for testing\n",
    "    addCentralBump(eta0, sim_args[\"nx\"], sim_args[\"ny\"], sim_args[\"dx\"], sim_args[\"dy\"], ghosts)\n",
    "\n",
    "    #Initialize simulator\n",
    "    ctcs_args = {\"Hi\": Hi, \"eta0\": eta0, \"hu0\": u0, \"hv0\": v0, \"use_rk2\": True}\n",
    "    sim = KP07.KP07(**ctcs_args, **sim_args)\n",
    "    \n",
    "    print(\"refcount: \" + str(sys.getrefcount(sim_args[\"cl_ctx\"])))\n",
    "\n",
    "    #Run\n",
    "    t = sim.step(end_time)\n",
    "    \n",
    "    sim.cleanUp()"
   ]
  },
  {
   "cell_type": "code",
   "execution_count": 9,
   "metadata": {
    "scrolled": false
   },
   "outputs": [],
   "source": [
    "def runCDKLM():\n",
    "    ghosts = np.array([2,2,2,2]) # north, east, south, west\n",
    "    dataShape = (sim_args[\"ny\"] + ghosts[0]+ghosts[2], \n",
    "                 sim_args[\"nx\"] + ghosts[1]+ghosts[3])\n",
    "\n",
    "    Hi = np.ones((dataShape[0]+1, dataShape[1]+1), dtype=np.float32) * 60.0\n",
    "    eta0 = np.zeros(dataShape, dtype=np.float32)\n",
    "    u0 = np.zeros(dataShape, dtype=np.float32)\n",
    "    v0 = np.zeros(dataShape, dtype=np.float32)\n",
    "\n",
    "    #Create bump in to lower left of domain for testing\n",
    "    addCentralBump(eta0, sim_args[\"nx\"], sim_args[\"ny\"], sim_args[\"dx\"], sim_args[\"dy\"], ghosts)\n",
    "\n",
    "    #Initialize simulator\n",
    "    ctcs_args = {\"Hi\": Hi, \"eta0\": eta0, \"hu0\": u0, \"hv0\": v0, \"rk_order\": 2}\n",
    "    sim = CDKLM16.CDKLM16(**ctcs_args, **sim_args)\n",
    "    \n",
    "    print(\"refcount: \" + str(sys.getrefcount(sim_args[\"cl_ctx\"])))\n",
    "\n",
    "    #Run\n",
    "    t = sim.step(end_time)\n",
    "    \n",
    "    sim.cleanUp()"
   ]
  },
  {
   "cell_type": "markdown",
   "metadata": {},
   "source": [
    "## Control"
   ]
  },
  {
   "cell_type": "code",
   "execution_count": 12,
   "metadata": {},
   "outputs": [
    {
     "name": "stdout",
     "output_type": "stream",
     "text": [
      "Scheme: FBL\n",
      "\tDomain size: 256\n",
      "refcount: 10\n",
      "\t\t1.5416920743882656\n",
      "\tDomain size: 512\n",
      "refcount: 10\n",
      "\t\t2.685526030138135\n",
      "\tDomain size: 1024\n",
      "refcount: 10\n",
      "\t\t6.373531721532345\n",
      "\tDomain size: 2048\n",
      "refcount: 10\n",
      "\t\t11.879294442012906\n",
      "\tDomain size: 4096\n",
      "refcount: 10\n",
      "\t\t33.67940889112651\n",
      "Scheme: KP\n",
      "\tDomain size: 256\n",
      "refcount: 10\n",
      "\t\t1.7134853452444077\n",
      "\tDomain size: 512\n",
      "refcount: 10\n",
      "\t\t3.0744137410074472\n",
      "\tDomain size: 1024\n",
      "refcount: 10\n",
      "\t\t7.191299742087722\n",
      "\tDomain size: 2048\n",
      "refcount: 10\n",
      "\t\t12.809397105127573\n",
      "\tDomain size: 4096\n",
      "refcount: 10\n",
      "\t\t35.744238033890724\n",
      "Scheme: CDKLM\n",
      "\tDomain size: 256\n",
      "refcount: 10\n",
      "\t\t1.5667567383497953\n",
      "\tDomain size: 512\n",
      "refcount: 10\n",
      "\t\t3.149955354630947\n",
      "\tDomain size: 1024\n",
      "refcount: 10\n",
      "\t\t7.650491846725345\n",
      "\tDomain size: 2048\n",
      "refcount: 10\n",
      "\t\t12.203609891235828\n",
      "\tDomain size: 4096\n",
      "refcount: 10\n",
      "\t\t35.3879881631583\n"
     ]
    }
   ],
   "source": [
    "sim_args = {\n",
    "\"cl_ctx\": cl_ctx,\n",
    "\"nx\": domain_sizes[0], \"ny\": domain_sizes[0],\n",
    "\"dx\": dx, \"dy\": dy,\n",
    "\"dt\": dt,\n",
    "\"g\": g,\n",
    "\"f\": f,\n",
    "\"r\": r\n",
    "}\n",
    "\n",
    "out_filename = imgdir + \"/profiling_data.npz\"\n",
    "data = {}\n",
    "\n",
    "for scheme in schemes:\n",
    "    print(\"Scheme: \" + scheme)\n",
    "    \n",
    "    elapsed_per_size = np.empty(len(domain_sizes))\n",
    "\n",
    "    # Run scheme for all defined domain sizes\n",
    "    for i, domain_size in enumerate(domain_sizes):\n",
    "        sim_args[\"nx\"] = domain_size\n",
    "        sim_args[\"ny\"] = domain_size\n",
    "    \n",
    "        print(\"\\tDomain size: \" + str(domain_size))\n",
    "        \n",
    "        start_time = timeit.default_timer()\n",
    "        eval(\"run\" + scheme + \"()\")\n",
    "        elapsed = timeit.default_timer() - start_time\n",
    "        \n",
    "        print(\"\\t\\t\" + str(elapsed))\n",
    "        elapsed_per_size[i] = elapsed\n",
    "        \n",
    "    data[str(scheme)] = elapsed_per_size\n",
    "\n",
    "np.savez(out_filename, **data)\n"
   ]
  },
  {
   "cell_type": "markdown",
   "metadata": {},
   "source": [
    "## Plot"
   ]
  },
  {
   "cell_type": "code",
   "execution_count": 13,
   "metadata": {},
   "outputs": [
    {
     "data": {
      "text/plain": [
       "<matplotlib.legend.Legend at 0x7f6498020a20>"
      ]
     },
     "execution_count": 13,
     "metadata": {},
     "output_type": "execute_result"
    },
    {
     "data": {
      "image/png": "[encoded data removed]",
      "text/plain": [
       "<Figure size 864x576 with 1 Axes>"
      ]
     },
     "metadata": {},
     "output_type": "display_data"
    }
   ],
   "source": [
    "fig = plt.figure(figsize=(12, 8))\n",
    "setBwStyles(fig.gca())\n",
    "\n",
    "in_filename = imgdir + \"/profiling_data.npz\"\n",
    "\n",
    "with np.load(in_filename) as npzfile:\n",
    "    for scheme in schemes:\n",
    "        plt.plot(np.array(domain_sizes)**2*0.001, (np.array(domain_sizes)**2/npzfile[str(scheme)].astype(np.float64))*0.001)\n",
    "\n",
    "plt.xlabel('Domain size (Mcells)')\n",
    "plt.ylabel('Performance (Mcells/s)')\n",
    "\n",
    "plt.legend(schemes)"
   ]
  },
  {
   "cell_type": "markdown",
   "metadata": {},
   "source": [
    "## Plot data from run_benchmark.py-generated files"
   ]
  },
  {
   "cell_type": "code",
   "execution_count": 99,
   "metadata": {},
   "outputs": [],
   "source": [
    "## Edit/check filenames before plotting\n",
    "## NOTE: Each file can contain multiple schemes!\n",
    "\n",
    "filenames = \\\n",
    "{\"laptop\": \n",
    "  {\"untuned_cl\": \"laptop_untuned_cl_benchmark_data.npz\", \n",
    "   \"untuned_cuda\": \"laptop_untuned_cuda_benchmark_data.npz\", \n",
    "   \"tuned_cl\": \"laptop_tuned_cl_benchmark_data.npz\",\n",
    "   \"tuned_cuda\": \"laptop_tuned_cuda_benchmark_data.npz\"},\n",
    " \n",
    " \"desktop\": \n",
    "  {\"untuned_cl\": \"desktop_untuned_cl_benchmark_data.npz\", \n",
    "   \"untuned_cuda\": \"desktop_untuned_cuda_benchmark_data.npz\", \n",
    "   \"tuned_cl\": \"desktop_tuned_cl_benchmark_data.npz\",\n",
    "   \"tuned_cuda\": \"desktop_tuned_cuda_benchmark_data.npz\"},\n",
    " \n",
    " \"hpc\": \n",
    "  {\"untuned_cl\": \"methpc_untuned_cl_benchmark_data.npz\", \n",
    "   \"untuned_cuda\": \"methpc_untuned_cuda_benchmark_data.npz\", \n",
    "   \"tuned_cl\": \"methpc_tuned_cl_benchmark_data.npz\",\n",
    "   \"tuned_cuda\": \"methpc_tuned_cuda_benchmark_data.npz\"}\n",
    "}\n",
    "\n",
    "# NOTE: Must match ax.set_xticklabels in cell below!\n",
    "order_of_codes = {\"untuned_cl\": 0, \"untuned_cuda\": 1, \"tuned_cl\": 2, \"tuned_cuda\": 3}"
   ]
  },
  {
   "cell_type": "code",
   "execution_count": 104,
   "metadata": {},
   "outputs": [
    {
     "name": "stdout",
     "output_type": "stream",
     "text": [
      "NOTE: Missing results for untuned_cl code for desktop system!\n",
      "NOTE: Missing results for tuned_cuda code for desktop system!\n",
      "NOTE: Missing results for untuned_cuda code for desktop system!\n",
      "NOTE: Missing results for tuned_cl code for desktop system!\n",
      "NOTE: Missing results for tuned_cuda code for laptop system!\n",
      "NOTE: Missing results for untuned_cuda code for laptop system!\n",
      "NOTE: Missing results for tuned_cl code for laptop system!\n",
      "NOTE: Missing results for untuned_cl code for hpc system!\n",
      "NOTE: Missing results for tuned_cuda code for hpc system!\n",
      "NOTE: Missing results for untuned_cuda code for hpc system!\n",
      "NOTE: Missing results for tuned_cl code for hpc system!\n"
     ]
    },
    {
     "data": {
      "image/png": "[encoded data removed]",
      "text/plain": [
       "<Figure size 864x576 with 1 Axes>"
      ]
     },
     "metadata": {},
     "output_type": "display_data"
    },
    {
     "name": "stdout",
     "output_type": "stream",
     "text": [
      "NOTE: Missing results for untuned_cl code for desktop system!\n",
      "NOTE: Missing results for tuned_cuda code for desktop system!\n",
      "NOTE: Missing results for untuned_cuda code for desktop system!\n",
      "NOTE: Missing results for tuned_cl code for desktop system!\n",
      "NOTE: Missing results for tuned_cuda code for laptop system!\n",
      "NOTE: Missing results for untuned_cuda code for laptop system!\n",
      "NOTE: Missing results for tuned_cl code for laptop system!\n",
      "NOTE: Missing results for untuned_cl code for hpc system!\n",
      "NOTE: Missing results for tuned_cuda code for hpc system!\n",
      "NOTE: Missing results for untuned_cuda code for hpc system!\n",
      "NOTE: Missing results for tuned_cl code for hpc system!\n"
     ]
    },
    {
     "data": {
      "image/png": "[encoded data removed]",
      "text/plain": [
       "<Figure size 864x576 with 1 Axes>"
      ]
     },
     "metadata": {},
     "output_type": "display_data"
    },
    {
     "name": "stdout",
     "output_type": "stream",
     "text": [
      "NOTE: Missing results for untuned_cl code for desktop system!\n",
      "NOTE: Missing results for tuned_cuda code for desktop system!\n",
      "NOTE: Missing results for untuned_cuda code for desktop system!\n",
      "NOTE: Missing results for tuned_cl code for desktop system!\n",
      "NOTE: Missing results for tuned_cuda code for laptop system!\n",
      "NOTE: Missing results for untuned_cuda code for laptop system!\n",
      "NOTE: Missing results for tuned_cl code for laptop system!\n",
      "NOTE: Missing results for untuned_cl code for hpc system!\n",
      "NOTE: Missing results for tuned_cuda code for hpc system!\n",
      "NOTE: Missing results for untuned_cuda code for hpc system!\n",
      "NOTE: Missing results for tuned_cl code for hpc system!\n"
     ]
    },
    {
     "data": {
      "image/png": "[encoded data removed]",
      "text/plain": [
       "<Figure size 864x576 with 1 Axes>"
      ]
     },
     "metadata": {},
     "output_type": "display_data"
    }
   ],
   "source": [
    "ngroups = 4\n",
    "\n",
    "laptop_data = np.zeros(ngroups)\n",
    "desktop_data = np.zeros(ngroups)\n",
    "hpc_data = np.zeros(ngroups)\n",
    "\n",
    "for scheme in schemes:\n",
    "    # Load data from files\n",
    "    for system, codes in filenames.items():\n",
    "        for code, filename in codes.items():  \n",
    "            try:\n",
    "                with np.load(filename) as npzfile:\n",
    "                    if(system == 'laptop'):\n",
    "                        laptop_data[order_of_codes[code]] = npzfile[str(scheme)].astype(np.float64)\n",
    "                    elif(system == 'desktop'):\n",
    "                        desktop_data[order_of_codes[code]] = npzfile[str(scheme)].astype(np.float64)\n",
    "                    elif(system == 'hpc'):\n",
    "                        hpc_data[order_of_codes[code]] = npzfile[str(scheme)].astype(np.float64)\n",
    "                    else:\n",
    "                        print(\"System \" + system + \" not found!\")\n",
    "            except IOError:\n",
    "                print(\"NOTE: Missing results for \" + code + \" code for \" + system + \" system!\")\n",
    "                pass\n",
    "                    \n",
    "    # Plot                \n",
    "    fig, ax = plt.subplots(figsize=(12, 8))\n",
    "\n",
    "    ind = np.arange(ngroups)    # the x locations for the groups\n",
    "    width = ngroups/20         # the width of the bars\n",
    "\n",
    "    laptop = ax.bar(ind, laptop_data, width, color='m', bottom=0)\n",
    "    desktop = ax.bar(ind + width, desktop_data, width, color='c', bottom=0)\n",
    "    hpc = ax.bar(ind + 2*width, hpc_data, width, color='g', bottom=0)\n",
    "\n",
    "    ax.set_title(scheme)\n",
    "    ax.set_xticks(ind + width)\n",
    "    ax.set_xticklabels(('Untuned CL', 'Untuned CUDA', 'Tuned CL', 'Tuned CUDA'))# NOTE: Must match order_of_codes in cell above!\n",
    "\n",
    "    ax.legend((laptop[0], desktop[0], hpc[0]), ('Laptop', 'Desktop', 'HPC'))\n",
    "    ax.autoscale_view()\n",
    "\n",
    "    plt.ylabel('Performance (Mcells/s)')\n",
    "    plt.show()"
   ]
  },
  {
   "cell_type": "markdown",
   "metadata": {},
   "source": [
    "## TODO\n",
    "\n",
    "  * Fix CTCS bug (on second run, every time): RuntimeError: clEnqueueNDRangeKernel failed: OUT_OF_RESOURCES -> check ref counts!\n",
    "  * Verify simulation results\n",
    "  * Run on laptop, desktop and MET HPC (should also run CUDA on Abel for performance comparison)\n",
    "  * Port to comparable CUDA revision (revision ???), repeat runs"
   ]
  },
  {
   "cell_type": "code",
   "execution_count": null,
   "metadata": {},
   "outputs": [],
   "source": []
  }
 ],
 "metadata": {
  "git": {
   "suppress_outputs": false
  },
  "kernelspec": {
   "display_name": "Python 3",
   "language": "python",
   "name": "python3"
  },
  "language_info": {
   "codemirror_mode": {
    "name": "ipython",
    "version": 3
   },
   "file_extension": ".py",
   "mimetype": "text/x-python",
   "name": "python",
   "nbconvert_exporter": "python",
   "pygments_lexer": "ipython3",
   "version": "3.5.2"
  }
 },
 "nbformat": 4,
 "nbformat_minor": 2
}
