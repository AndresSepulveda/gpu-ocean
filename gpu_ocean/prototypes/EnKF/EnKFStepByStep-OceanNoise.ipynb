{
 "cells": [
  {
   "cell_type": "code",
   "execution_count": null,
   "metadata": {},
   "outputs": [],
   "source": [
    "# -*- coding: utf-8 -*-\n",
    "\n",
    "\"\"\"\n",
    "This software is part of GPU Ocean. \n",
    "Copyright (C) 2019 SINTEF Digital\n",
    "\n",
    "This notebook shows the individual steps of the Stochastic Ensemble\n",
    "Kalman Filter for an ocean ensemble.\n",
    "\n",
    "This program is free software: you can redistribute it and/or modify\n",
    "it under the terms of the GNU General Public License as published by\n",
    "the Free Software Foundation, either version 3 of the License, or\n",
    "(at your option) any later version.\n",
    "\n",
    "This program is distributed in the hope that it will be useful,\n",
    "but WITHOUT ANY WARRANTY; without even the implied warranty of\n",
    "MERCHANTABILITY or FITNESS FOR A PARTICULAR PURPOSE.  See the\n",
    "GNU General Public License for more details.\n",
    "\n",
    "You should have received a copy of the GNU General Public License\n",
    "along with this program.  If not, see <http://www.gnu.org/licenses/>.\n",
    "\"\"\"\n",
    "\n",
    "\n",
    "import sys, os, datetime, time, shutil\n",
    "from importlib import reload \n",
    "import numpy as np\n",
    "\n",
    "%matplotlib inline\n",
    "%config InlineBackend.figure_format = 'retina'\n",
    "import matplotlib\n",
    "from matplotlib import pyplot as plt\n",
    "from matplotlib import rc\n",
    "from matplotlib import gridspec as gridspec\n",
    "\n",
    "#Set large figure sizes\n",
    "rc('figure', figsize=(16.0, 12.0))\n",
    "rc('animation', html='html5')\n",
    "matplotlib.rcParams['contour.negative_linestyle'] = 'solid'\n",
    "\n",
    "current_dir = os.getcwd()\n",
    "\n",
    "if os.path.isdir(os.path.abspath(os.path.join(current_dir, '../../SWESimulators'))):\n",
    "        sys.path.insert(0, os.path.abspath(os.path.join(current_dir, '../../')))\n",
    "\n",
    "from SWESimulators import IPythonMagic\n",
    "from SWESimulators import BaseOceanStateEnsemble, OceanNoiseEnsemble, CDKLM16 \n",
    "from SWESimulators import Common\n",
    "from SWESimulators import DataAssimilationUtils as dautils\n",
    "\n"
   ]
  },
  {
   "cell_type": "code",
   "execution_count": null,
   "metadata": {},
   "outputs": [
    {
     "name": "stderr",
     "output_type": "stream",
     "text": [
      "Registering gpu_ctx in user workspace\n",
      "Global logger already initialized!\n"
     ]
    }
   ],
   "source": [
    "%cuda_context_handler gpu_ctx\n",
    "%setup_logging --out enkf_gpu.log --file_level 15"
   ]
  },
  {
   "cell_type": "markdown",
   "metadata": {},
   "source": [
    "# Set up an instance \n",
    "\n",
    "OceanNoiseEnsemble using CDKLM16-Simulators"
   ]
  },
  {
   "cell_type": "code",
   "execution_count": null,
   "metadata": {},
   "outputs": [
    {
     "name": "stdout",
     "output_type": "stream",
     "text": [
      "q0:  0.00017095320928897472\n",
      "[f, g, H, dt] [0.05, 9.81, 10.0, 0.05]\n",
      "(nx, ny):  (60, 60)\n",
      "max_dt:  0.08935757726430893\n",
      "Ready!\n"
     ]
    }
   ],
   "source": [
    "# DEFINE PARAMETERS\n",
    "\n",
    "sim_args = {\n",
    "    \"gpu_ctx\": gpu_ctx,\n",
    "    \"nx\": 60, \"ny\": 60,\n",
    "    \"dx\": 4.0, \"dy\": 4.0,\n",
    "    \"dt\": 0.05,\n",
    "    \"g\": 9.81,\n",
    "    \"f\": 0.05,\n",
    "    \"coriolis_beta\": 0.0,\n",
    "    \"r\": 0.0,\n",
    "    \"rk_order\": 2,\n",
    "    \"small_scale_perturbation_amplitude\": None,\n",
    "    \"write_netcdf\": False, \n",
    "    \"small_scale_perturbation\": True,\n",
    "    \"small_scale_perturbation_interpolation_factor\": 3,\n",
    "    \"boundary_conditions\": Common.BoundaryConditions(2,2,2,2)\n",
    "}\n",
    "\n",
    "ghosts = np.array([2,2,2,2]) # north, east, south, west\n",
    "validDomain = np.array([2,2,2,2])\n",
    "\n",
    "\n",
    "dataShape = (sim_args[\"ny\"] + ghosts[0]+ghosts[2], \n",
    "             sim_args[\"nx\"] + ghosts[1]+ghosts[3])\n",
    "dataShapeHi = (sim_args[\"ny\"] + ghosts[0]+ghosts[2]+1, \n",
    "             sim_args[\"nx\"] + ghosts[1]+ghosts[3]+1)\n",
    "\n",
    "sim_args[\"eta0\"] = np.zeros(dataShape, dtype=np.float32, order='C');\n",
    "sim_args[\"hv0\"] = np.zeros(dataShape, dtype=np.float32, order='C');\n",
    "sim_args[\"hu0\"] = np.zeros(dataShape, dtype=np.float32, order='C');\n",
    "waterDepth = 10.0\n",
    "sim_args[\"H\"] = np.ones(dataShapeHi, dtype=np.float32, order='C')*waterDepth\n",
    "\n",
    "\n",
    "if 'sim' in globals():\n",
    "    sim.cleanUp()\n",
    "if 'ensemble' in globals():\n",
    "    ensemble.cleanUp()\n",
    "if 'iewpfOcean' in globals():\n",
    "    iewpfOcean.cleanUp()\n",
    "    \n",
    "sim_args[\"small_scale_perturbation_amplitude\"] = np.sqrt(sim_args[\"dt\"])*0.5*sim_args[\"f\"]/(sim_args[\"g\"]*waterDepth)\n",
    "sim_args[\"small_scale_perturbation_amplitude\"] *= sim_args[\"small_scale_perturbation_interpolation_factor\"]\n",
    "print (\"q0: \", sim_args[\"small_scale_perturbation_amplitude\"])\n",
    "print (\"[f, g, H, dt]\", [sim_args[\"f\"], sim_args[\"g\"], waterDepth, sim_args[\"dt\"]])\n",
    "print (\"(nx, ny): \", (sim_args[\"nx\"], sim_args[\"ny\"]))\n",
    "\n",
    "reload(CDKLM16)\n",
    "reload(BaseOceanStateEnsemble)\n",
    "reload(OceanNoiseEnsemble)\n",
    "reload(dautils)\n",
    "\n",
    "sim = CDKLM16.CDKLM16(**sim_args)\n",
    "sim.perturbState(q0_scale=100)\n",
    "    \n",
    "ensemble_args = {\n",
    "    \"gpu_ctx\": gpu_ctx,\n",
    "    \"numParticles\": 100,\n",
    "    \"num_drifters\": 1,\n",
    "    \"sim\": sim,\n",
    "    \"observation_type\": dautils.ObservationType.StaticBuoys,\n",
    "    \"buoys_positions\" : [[120.0,120.0]],\n",
    "    \"observation_variance\": 0.5**2,\n",
    "    \"initialization_variance_factor_ocean_field\" : 25.0\n",
    "}\n",
    "\n",
    "ensemble = OceanNoiseEnsemble.OceanNoiseEnsemble(**ensemble_args)\n",
    "\n",
    "max_dt = ensemble.findLargestPossibleTimeStep()\n",
    "print (\"max_dt: \", max_dt)\n",
    "\n",
    "print (\"Ready!\")"
   ]
  },
  {
   "cell_type": "markdown",
   "metadata": {},
   "source": [
    "# Run Simulation until Observation Time"
   ]
  },
  {
   "cell_type": "code",
   "execution_count": null,
   "metadata": {},
   "outputs": [
    {
     "name": "stdout",
     "output_type": "stream",
     "text": [
      "Ready!\n"
     ]
    }
   ],
   "source": [
    "t = 100*sim_args[\"dt\"]\n",
    "ensemble.step(t)\n",
    "\n",
    "print(\"Ready!\")"
   ]
  },
  {
   "cell_type": "markdown",
   "metadata": {},
   "source": [
    "# Book keeping"
   ]
  },
  {
   "cell_type": "code",
   "execution_count": null,
   "metadata": {},
   "outputs": [],
   "source": [
    "# Deactivating some particles for testing\n",
    "ensemble.particlesActive[2]=False\n",
    "ensemble.particlesActive[7]=False"
   ]
  },
  {
   "cell_type": "code",
   "execution_count": null,
   "metadata": {},
   "outputs": [],
   "source": [
    "# Size of ensemble\n",
    "N_e = ensemble.getNumParticles()\n",
    "N_e_active = ensemble.getNumActiveParticles()\n",
    "\n",
    "# Number of observers\n",
    "N_d = ensemble.getNumDrifters()\n",
    "\n",
    "# particle properties before EnKF analysis phase\n",
    "observedParticles_pre = ensemble.observeParticles()\n",
    "innovationNorms_pre = ensemble.getInnovationNorms()\n",
    "\n",
    "# rmse values before EnKF analysis phase\n",
    "ensemble.getEnsembleVarAndRMSEUnderDrifter(t)\n",
    "rmse_eta_pre = ensemble.rmseUnderDrifter_eta\n",
    "rmse_hu_pre  = ensemble.rmseUnderDrifter_hu\n",
    "rmse_hv_pre  = ensemble.rmseUnderDrifter_hv\n"
   ]
  },
  {
   "cell_type": "markdown",
   "metadata": {},
   "source": [
    "# Step-By-Step EnKF in Square Root Formulation"
   ]
  },
  {
   "cell_type": "code",
   "execution_count": null,
   "metadata": {},
   "outputs": [],
   "source": [
    "def deleteDeactivatedObservations(observation, ensemble):\n",
    "    \"\"\"\n",
    "    Delete inactive particles\n",
    "    \"\"\"\n",
    "    idx = 0\n",
    "    for p in range(ensemble.getNumParticles()):\n",
    "        if ensemble.particlesActive[p]:\n",
    "            idx+=1\n",
    "        elif not ensemble.particlesActive[p]:\n",
    "            observation = np.delete(observation, idx, axis=0)\n",
    "    return observation"
   ]
  },
  {
   "cell_type": "markdown",
   "metadata": {},
   "source": [
    "## Calculate $S = H X'_f$"
   ]
  },
  {
   "cell_type": "code",
   "execution_count": null,
   "metadata": {},
   "outputs": [],
   "source": [
    "\"\"\"\n",
    "Particles are observed in the following form:\n",
    "[\n",
    "particle 1:  [hu_1, hv_1], ... , [hu_D, hv_D],\n",
    "...\n",
    "particle Ne: [hu_1, hv_1], ... , [hu_D, hv_D]\n",
    "]\n",
    "\n",
    "In order to bring it in accordance with later data structure we use the following format for the storage of the perturbation of the observation:\n",
    "[\n",
    "[hu_1 (particle 1), ..., hu_1 (particle Ne)],\n",
    "...\n",
    "[hu_D (particle 1), ..., hu_D (particle Ne)],\n",
    "[hv_1 (particle 1), ..., hv_1 (particle Ne)],\n",
    "...\n",
    "[hv_D (particle 1), ..., hv_D (particle Ne)],\n",
    "]\n",
    "\n",
    "\"\"\"\n",
    "\n",
    "# Observation \n",
    "HX_f_orig = ensemble.observeParticles()\n",
    "\n",
    "HX_f_orig = deleteDeactivatedObservations(HX_f_orig, ensemble)\n",
    "\n",
    "# Reshaping\n",
    "HX_f = np.zeros( (2*N_d, N_e_active) )\n",
    "for e in range(N_e_active):\n",
    "    for l in range(N_d):\n",
    "        HX_f[l,e]     = HX_f_orig[e,l,0]\n",
    "    for l in range(N_d):\n",
    "        HX_f[N_d+l,e] = HX_f_orig[e,l,1]\n",
    "\n",
    "HX_f_mean = np.sum(HX_f, axis=1)\n",
    "\n",
    "HX_f_pert = HX_f - HX_f_mean.reshape((2*N_d,1))\n",
    "\n"
   ]
  },
  {
   "cell_type": "markdown",
   "metadata": {},
   "source": [
    "## Calculate $SS^\\top = HPH^\\top$ "
   ]
  },
  {
   "cell_type": "code",
   "execution_count": null,
   "metadata": {},
   "outputs": [],
   "source": [
    "\n",
    "HPHT = 1/(N_e_active-1) * np.dot(HX_f_pert,HX_f_pert.T)\n"
   ]
  },
  {
   "cell_type": "markdown",
   "metadata": {},
   "source": [
    "## Calculate $F = HPH^\\top + R$"
   ]
  },
  {
   "cell_type": "code",
   "execution_count": null,
   "metadata": {},
   "outputs": [],
   "source": [
    "R_orig = ensemble.getObservationCov()\n",
    "\n",
    "R = np.zeros( (R_orig.shape[0]*N_d, R_orig.shape[1]*N_d) )\n",
    "\n",
    "for l in range(N_d):\n",
    "    R[l,l] = R_orig[0,0]\n",
    "    R[N_d+l, N_d+l] = R_orig[1,1]\n",
    "    R[l,N_d+l] = R_orig[0,1]\n",
    "    R[N_d+l,l] = R_orig[1,0]\n",
    "\n",
    "F = HPHT + R"
   ]
  },
  {
   "cell_type": "markdown",
   "metadata": {},
   "source": [
    "### Comparison of Cov for error of observing the state ($HPH^\\top$) and Cov for error of observation ($R$)"
   ]
  },
  {
   "cell_type": "code",
   "execution_count": null,
   "metadata": {},
   "outputs": [
    {
     "name": "stdout",
     "output_type": "stream",
     "text": [
      "R = \n",
      " [[0.25 0.  ]\n",
      " [0.   0.25]] \n",
      "and HPHT = \n",
      " [[ 1.67410838e+05 -1.42312619e+03]\n",
      " [-1.42312619e+03  1.28464601e+01]]\n"
     ]
    }
   ],
   "source": [
    "print(\"R = \\n\", R, \"\\nand HPHT = \\n\", HPHT)"
   ]
  },
  {
   "cell_type": "markdown",
   "metadata": {},
   "source": [
    "## Calculate Innovation $D = Y - HX_f$ \n",
    "## and perturb $D=D+Y'$"
   ]
  },
  {
   "cell_type": "code",
   "execution_count": null,
   "metadata": {},
   "outputs": [],
   "source": [
    "\"\"\"\n",
    "Particles yield innovations in the following form:\n",
    "[\n",
    "particle 1:  [hu_1, hv_1], ... , [hu_D, hv_D],\n",
    "...\n",
    "particle Ne: [hu_1, hv_1], ... , [hu_D, hv_D]\n",
    "]\n",
    "\n",
    "In order to bring it in accordance with later data structure we use the following format for the storage of the perturbation of the observation:\n",
    "[\n",
    "[d_hu_1 (particle 1), ..., d_hu_1 (particle Ne)],\n",
    "...\n",
    "[d_hu_D (particle 1), ..., d_hu_D (particle Ne)],\n",
    "[d_hv_1 (particle 1), ..., d_hv_1 (particle Ne)],\n",
    "...\n",
    "[d_hv_D (particle 1), ..., d_hv_D (particle Ne)],\n",
    "]\n",
    "\n",
    "\"\"\"\n",
    "\n",
    "innovation_orig = ensemble.getInnovations()[:,:,:]\n",
    "\n",
    "innovation_orig = deleteDeactivatedObservations(innovation_orig, ensemble)\n",
    "\n",
    "# Reshaping\n",
    "innovation = np.zeros( (2*N_d, N_e_active) )\n",
    "for e in range(N_e_active):\n",
    "    for l in range(N_d):\n",
    "        innovation[l,e]     = innovation_orig[e,l,0]\n",
    "    for l in range(N_d):\n",
    "        innovation[N_d+l,e] = innovation_orig[e,l,1]\n",
    "\n",
    "Y_pert = np.random.multivariate_normal(np.zeros(2*N_d),R ,N_e_active).T\n",
    "\n",
    "D = innovation + Y_pert\n"
   ]
  },
  {
   "cell_type": "markdown",
   "metadata": {},
   "source": [
    "## Calculate $C = F^{-1}D$"
   ]
  },
  {
   "cell_type": "code",
   "execution_count": null,
   "metadata": {},
   "outputs": [],
   "source": [
    "Finv = np.linalg.inv(F)\n",
    "C = np.dot(Finv,D)"
   ]
  },
  {
   "cell_type": "markdown",
   "metadata": {},
   "source": [
    "## Calculate $E=S^\\top C$\n"
   ]
  },
  {
   "cell_type": "code",
   "execution_count": null,
   "metadata": {},
   "outputs": [],
   "source": [
    "E = np.dot(HX_f_pert.T,C)"
   ]
  },
  {
   "cell_type": "markdown",
   "metadata": {},
   "source": [
    "## Calculate $X'_f = X_f - \\overline{X_f}$ "
   ]
  },
  {
   "cell_type": "code",
   "execution_count": null,
   "metadata": {},
   "outputs": [],
   "source": [
    "\"\"\"\n",
    "The download gives eta = \n",
    "[\n",
    "[eta(x0,y0),...,eta(xN,y0)],\n",
    "...,\n",
    "[eta(x0,yN),...,eta(xN,yN)]\n",
    "]\n",
    "as an array of size Ny x Nx\n",
    "and analog for hu and hv.\n",
    "we use those as an 1D array eta = \n",
    "[eta(x0,y0),...,eta(xN,y0),eta(x0,y1),...,eta(xN,y(N-1)),eta(x0,yN),...,eta(xN,yN)]\n",
    "and anlog for hu and hv \n",
    "\n",
    "For further calculations the indivdual dimensions of the state variable are concatinated X = \n",
    "[eta, hu, hv]\n",
    "\n",
    "Collecting the state perturbation for each ensemble member in a matrix Nx x Ne, where\n",
    "X_f_pert = \n",
    "[ \n",
    "[eta_pert(x0,y0) (particle 1),..., eta_pert],\n",
    "...\n",
    "particle 2: [eta_pert,hu_pert,hv_pert]\n",
    "]\n",
    "\"\"\"\n",
    "\n",
    "# Ghost cells added \n",
    "n_i = ensemble.particles[0].ny + 4 \n",
    "n_j = ensemble.particles[0].nx + 4\n",
    "\n",
    "X_f = np.zeros((3*n_i*n_j, N_e_active))\n",
    "idx = 0\n",
    "for e in range(N_e):\n",
    "    if ensemble.particlesActive[e]:\n",
    "        eta, hu, hv = ensemble.particles[e].download(interior_domain_only=False)\n",
    "        eta = eta.reshape(n_i*n_j)\n",
    "        hu  = hu.reshape(n_i*n_j)\n",
    "        hv  = hv.reshape(n_i*n_j)\n",
    "        X_f[:,idx] = np.append(eta, np.append(hu,hv))\n",
    "        idx += 1\n",
    "\n",
    "X_f_mean = np.zeros( 3*n_i*n_j )\n",
    "for e in range(N_e_active):\n",
    "    X_f_mean += 1/N_e_active * X_f[:,e]\n",
    "\n",
    "X_f_pert = np.zeros_like( X_f )\n",
    "for e in range(N_e_active):\n",
    "    X_f_pert[:,e] = X_f[:,e] - X_f_mean\n",
    " "
   ]
  },
  {
   "cell_type": "markdown",
   "metadata": {
    "tags": []
   },
   "source": [
    "## Calculate $X_a$\n"
   ]
  },
  {
   "cell_type": "code",
   "execution_count": null,
   "metadata": {},
   "outputs": [],
   "source": [
    "X_a = X_f + 1/(N_e_active-1) * np.dot(X_f_pert,E)"
   ]
  },
  {
   "cell_type": "markdown",
   "metadata": {},
   "source": [
    "## Reshape and upload analysis state"
   ]
  },
  {
   "cell_type": "code",
   "execution_count": null,
   "metadata": {},
   "outputs": [],
   "source": [
    "idx = 0\n",
    "for e in range(N_e):\n",
    "    if ensemble.particlesActive[e]:\n",
    "        eta = X_a[0:n_i*n_j, idx].reshape((n_i,n_j))\n",
    "        hu  = X_a[n_i*n_j:2*n_i*n_j, idx].reshape((n_i,n_j))\n",
    "        hv  = X_a[2*n_i*n_j:3*n_i*n_j, idx].reshape((n_i,n_j))\n",
    "        ensemble.particles[e].upload(eta,hu,hv)\n",
    "        idx += 1\n"
   ]
  },
  {
   "cell_type": "markdown",
   "metadata": {},
   "source": [
    "# Plotting Utils"
   ]
  },
  {
   "cell_type": "code",
   "execution_count": null,
   "metadata": {},
   "outputs": [],
   "source": [
    "def _fillPolarPlot(ax, ensemble, observedParticles, alpha, printInfo=False):\n",
    "    \"\"\"\n",
    "    Internal utility function for plotting current under a drifter as a polar plot.\n",
    "    \"\"\"\n",
    "    max_r = 0\n",
    "    observedParticlesSingleDrifter = observedParticles[:, 0, :]\n",
    "    if printInfo: print(\"observedParticlesSingleDrifter: \\n\" +str(observedParticlesSingleDrifter))\n",
    "    for p in range(ensemble.getNumParticles()):\n",
    "        u, v = observedParticlesSingleDrifter[p,0], observedParticlesSingleDrifter[p,1]\n",
    "        r = np.sqrt(u**2 + v**2)\n",
    "        max_r = max(max_r, r)\n",
    "        theta = np.arctan(v/u)\n",
    "        if (u < 0):\n",
    "            theta += np.pi\n",
    "        arr1 = plt.arrow(theta, 0, 0, r, alpha = alpha, \\\n",
    "                         length_includes_head=True, \\\n",
    "                         edgecolor = 'green', facecolor = 'green', zorder = 5)\n",
    "\n",
    "    obs_u = ensemble.observeTrueState()[0, 2]\n",
    "    obs_v = ensemble.observeTrueState()[0, 3]\n",
    "    if printInfo: print(\"observedTrueState: \" + str((obs_u, obs_v)))\n",
    "    obs_r = np.sqrt(obs_u**2 + obs_v**2)\n",
    "    max_r = max(max_r, obs_r)\n",
    "    obs_theta = np.arctan(obs_v/obs_u)\n",
    "    if (obs_u < 0):\n",
    "        obs_theta += np.pi\n",
    "    arr1 = plt.arrow(obs_theta, 0, 0, obs_r, alpha = 0.5,\\\n",
    "                     length_includes_head=True, \\\n",
    "                     edgecolor = 'red', facecolor = 'red', zorder = 5)\n",
    "\n",
    "    ax.set_rmax(max_r*1.2)\n",
    "    plt.grid(True)\n",
    "    plt.title(\"Momentum observations from drifter\")\n",
    "\n",
    "\n",
    "def _fillHistPlot(ax, ensemble, innovationNorms, alpha, printInfo=False):\n",
    "    if printInfo: print(\"innovation norms: \" + str(innovationNorms))\n",
    "    obs_var = ensemble.getObservationVariance()\n",
    "    range_x = np.sqrt(obs_var)*10\n",
    "    ax.hist(innovationNorms, bins=30, facecolor='green', \\\n",
    "                range=(0, range_x), alpha=alpha,\\\n",
    "                density=True, label=\"particle innovations (norm)\")\n",
    "    plt.title(\"Innovation norms from drifter\")\n",
    "\n",
    "\n",
    "def plotVelocityInfoBeforeAndAfterDA(ensemble, observedParticles, innovationNorms, observedParticles_pre=None, innovationNorms_pre=None, title=None) :\n",
    "\n",
    "    # Initialize File\n",
    "    fig = None\n",
    "    plotRows = 2\n",
    "    fig = plt.figure(figsize=(10,6))\n",
    "    gridspec.GridSpec(plotRows, 3)\n",
    "\n",
    "    # PLOT POSITIONS OF PARTICLES AND OBSERVATIONS\n",
    "    ax = plt.subplot2grid((plotRows,3), (0,0), polar=True)\n",
    "    _fillPolarPlot(ax, ensemble, observedParticles, 0.5, printInfo=False)\n",
    "    if observedParticles_pre is not None:\n",
    "        _fillPolarPlot(ax, ensemble, observedParticles_pre, 0.1, printInfo=False)\n",
    "\n",
    "    # PLOT DISCTRIBUTION OF PARTICLE DISTANCES AND THEORETIC OBSERVATION PDF\n",
    "    ax0 = plt.subplot2grid((plotRows,3), (0,1), colspan=2)\n",
    "    _fillHistPlot(ax0, ensemble, innovationNorms, 0.5, printInfo=False)\n",
    "    if innovationNorms_pre is not None:\n",
    "        _fillHistPlot(ax0, ensemble, innovationNorms_pre, 0.1, printInfo=False)\n",
    "\n",
    "    if title is not None:\n",
    "        plt.suptitle(title, fontsize=16)\n",
    "    plt.tight_layout()\n",
    "\n",
    "# ------------------------------------------------------------------------\n",
    "\n",
    "def _fillHistComponentPlot(ax, ensemble, observedParticles, component, alpha, markTruth=False, subtitle=None):\n",
    "    true_component = ensemble.observeTrueState()[0,2+component]\n",
    "    range_x = 5\n",
    "    ax.hist(observedParticles[:,0][:,component], bins=50, facecolor='green', \\\n",
    "        range=(true_component-range_x,true_component+range_x), \\\n",
    "        alpha=alpha, density=True)\n",
    "    if markTruth is True:\n",
    "        ax.axvline(true_component, color='green', linestyle='dashed', linewidth=1)\n",
    "    if subtitle is not None:\n",
    "        ax.title.set_text(subtitle)\n",
    "\n",
    "\n",
    "def plotVelocityComponentInfoBeforeAndAfterDA(ensemble, observedParticles, observedParticles_pre=None, title=None):\n",
    "    fig = None\n",
    "    fig, axs = plt.subplots(1, 2, figsize=(10,3))\n",
    "    # hist for hu\n",
    "    subtitle = \"$hu$ distribution for ensemble\"\n",
    "    _fillHistComponentPlot(axs[0], ensemble, observedParticles, 0, 0.5, markTruth=True, subtitle=subtitle)\n",
    "    if observedParticles_pre is not None:\n",
    "        _fillHistComponentPlot(axs[0], ensemble, observedParticles_pre, 0, 0.1)\n",
    "    # hist for hv\n",
    "    subtitle = \"$hv$ distribution for ensemble\"\n",
    "    _fillHistComponentPlot(axs[1], ensemble, observedParticles, 1, 0.5, markTruth=True, subtitle=subtitle)\n",
    "    if observedParticles_pre is not None:\n",
    "        _fillHistComponentPlot(axs[1], ensemble, observedParticles_pre, 1, 0.1)\n",
    "\n"
   ]
  },
  {
   "cell_type": "markdown",
   "metadata": {},
   "source": [
    "# Plot circular diagram and histogram"
   ]
  },
  {
   "cell_type": "code",
   "execution_count": null,
   "metadata": {},
   "outputs": [
    {
     "data": {
      "image/png": "[encoded data removed]",
      "text/plain": [
       "<Figure size 720x432 with 2 Axes>"
      ]
     },
     "metadata": {
      "image/png": {
       "height": 256,
       "width": 707
      },
      "needs_background": "light"
     },
     "output_type": "display_data"
    },
    {
     "data": {
      "image/png": "[encoded data removed]",
      "text/plain": [
       "<Figure size 720x216 with 2 Axes>"
      ]
     },
     "metadata": {
      "image/png": {
       "height": 209,
       "width": 595
      },
      "needs_background": "light"
     },
     "output_type": "display_data"
    }
   ],
   "source": [
    "# Download Data from Simulators\n",
    "observedParticles = ensemble.observeParticles()\n",
    "innovationNorms = ensemble.getInnovationNorms()\n",
    "\n",
    "title = \"Comparision of forecast (transparent) and analysis (opaque) states\"\n",
    "plotVelocityInfoBeforeAndAfterDA(ensemble, observedParticles, innovationNorms, observedParticles_pre, innovationNorms_pre, title)\n",
    "\n",
    "title = \"Comparision of forecast (transparent) and analysis (opaque) states for velocity components\"\n",
    "plotVelocityComponentInfoBeforeAndAfterDA(ensemble, observedParticles, observedParticles_pre, title)"
   ]
  },
  {
   "cell_type": "markdown",
   "metadata": {},
   "source": [
    "## Compare norms of particles before and after assimilation "
   ]
  },
  {
   "cell_type": "code",
   "execution_count": null,
   "metadata": {},
   "outputs": [
    {
     "name": "stdout",
     "output_type": "stream",
     "text": [
      "norm before EnKF:  3.808519  and norm after EnKF:  3.734724\n",
      "norm before EnKF:  3.686267  and norm after EnKF:  3.574806\n",
      "norm before EnKF:  nan  and norm after EnKF:  nan\n",
      "norm before EnKF:  3.639196  and norm after EnKF:  3.777007\n",
      "norm before EnKF:  5.219169  and norm after EnKF:  4.627472\n",
      "norm before EnKF:  4.711745  and norm after EnKF:  4.616313\n",
      "norm before EnKF:  4.040381  and norm after EnKF:  4.154706\n",
      "norm before EnKF:  nan  and norm after EnKF:  nan\n",
      "norm before EnKF:  4.431635  and norm after EnKF:  4.177494\n",
      "norm before EnKF:  4.267593  and norm after EnKF:  4.371366\n",
      "norm before EnKF:  4.319000  and norm after EnKF:  4.383681\n",
      "norm before EnKF:  4.368675  and norm after EnKF:  4.501434\n",
      "norm before EnKF:  4.387079  and norm after EnKF:  4.434464\n",
      "norm before EnKF:  5.082236  and norm after EnKF:  4.672857\n",
      "norm before EnKF:  3.351342  and norm after EnKF:  3.419215\n",
      "norm before EnKF:  4.629029  and norm after EnKF:  4.619653\n",
      "norm before EnKF:  4.689552  and norm after EnKF:  4.847407\n",
      "norm before EnKF:  3.305468  and norm after EnKF:  3.342793\n",
      "norm before EnKF:  4.452568  and norm after EnKF:  4.433452\n",
      "norm before EnKF:  2.988032  and norm after EnKF:  3.083277\n",
      "norm before EnKF:  3.740683  and norm after EnKF:  3.742607\n",
      "norm before EnKF:  4.603134  and norm after EnKF:  4.484246\n",
      "norm before EnKF:  4.585922  and norm after EnKF:  4.729075\n",
      "norm before EnKF:  3.783271  and norm after EnKF:  3.857471\n",
      "norm before EnKF:  4.967626  and norm after EnKF:  5.112685\n",
      "norm before EnKF:  4.076766  and norm after EnKF:  4.187080\n",
      "norm before EnKF:  5.471949  and norm after EnKF:  5.591322\n",
      "norm before EnKF:  4.366808  and norm after EnKF:  4.120185\n",
      "norm before EnKF:  2.901523  and norm after EnKF:  3.068128\n",
      "norm before EnKF:  4.723315  and norm after EnKF:  4.713284\n",
      "norm before EnKF:  4.930809  and norm after EnKF:  5.009909\n",
      "norm before EnKF:  4.933135  and norm after EnKF:  4.926789\n",
      "norm before EnKF:  4.558531  and norm after EnKF:  4.664877\n",
      "norm before EnKF:  4.310546  and norm after EnKF:  4.238890\n",
      "norm before EnKF:  2.420273  and norm after EnKF:  2.403348\n",
      "norm before EnKF:  4.179187  and norm after EnKF:  4.239958\n",
      "norm before EnKF:  4.681777  and norm after EnKF:  4.733745\n",
      "norm before EnKF:  4.865243  and norm after EnKF:  4.879169\n",
      "norm before EnKF:  4.152935  and norm after EnKF:  4.147814\n",
      "norm before EnKF:  2.973671  and norm after EnKF:  3.183063\n",
      "norm before EnKF:  3.618051  and norm after EnKF:  3.908495\n",
      "norm before EnKF:  4.627875  and norm after EnKF:  4.896775\n",
      "norm before EnKF:  4.175231  and norm after EnKF:  4.249182\n",
      "norm before EnKF:  5.313130  and norm after EnKF:  5.586977\n",
      "norm before EnKF:  4.209359  and norm after EnKF:  4.225719\n",
      "norm before EnKF:  4.715236  and norm after EnKF:  4.816143\n",
      "norm before EnKF:  3.855602  and norm after EnKF:  3.701452\n",
      "norm before EnKF:  4.276381  and norm after EnKF:  4.271027\n",
      "norm before EnKF:  5.201162  and norm after EnKF:  5.140933\n",
      "norm before EnKF:  4.640954  and norm after EnKF:  4.708515\n",
      "norm before EnKF:  3.842403  and norm after EnKF:  3.806130\n",
      "norm before EnKF:  5.092560  and norm after EnKF:  5.227669\n",
      "norm before EnKF:  5.729624  and norm after EnKF:  5.572121\n",
      "norm before EnKF:  4.610102  and norm after EnKF:  4.711269\n",
      "norm before EnKF:  3.664832  and norm after EnKF:  3.700217\n",
      "norm before EnKF:  4.972445  and norm after EnKF:  4.875639\n",
      "norm before EnKF:  5.292087  and norm after EnKF:  5.334676\n",
      "norm before EnKF:  3.905373  and norm after EnKF:  3.822438\n",
      "norm before EnKF:  2.751197  and norm after EnKF:  2.993186\n",
      "norm before EnKF:  4.306813  and norm after EnKF:  4.413106\n",
      "norm before EnKF:  3.934178  and norm after EnKF:  4.051604\n",
      "norm before EnKF:  4.558470  and norm after EnKF:  4.600762\n",
      "norm before EnKF:  4.275551  and norm after EnKF:  4.316091\n",
      "norm before EnKF:  5.025905  and norm after EnKF:  4.990150\n",
      "norm before EnKF:  3.862065  and norm after EnKF:  4.000380\n",
      "norm before EnKF:  5.187447  and norm after EnKF:  4.994699\n",
      "norm before EnKF:  4.167086  and norm after EnKF:  4.246754\n",
      "norm before EnKF:  3.491930  and norm after EnKF:  3.434895\n",
      "norm before EnKF:  4.326072  and norm after EnKF:  4.410405\n",
      "norm before EnKF:  4.729297  and norm after EnKF:  4.776315\n",
      "norm before EnKF:  3.016350  and norm after EnKF:  2.969077\n",
      "norm before EnKF:  5.138424  and norm after EnKF:  5.049239\n",
      "norm before EnKF:  4.643987  and norm after EnKF:  4.701060\n",
      "norm before EnKF:  5.700556  and norm after EnKF:  5.816587\n",
      "norm before EnKF:  4.770502  and norm after EnKF:  4.443301\n",
      "norm before EnKF:  2.883560  and norm after EnKF:  2.641169\n",
      "norm before EnKF:  5.099684  and norm after EnKF:  5.197818\n",
      "norm before EnKF:  4.805964  and norm after EnKF:  4.760473\n",
      "norm before EnKF:  4.224187  and norm after EnKF:  4.324486\n",
      "norm before EnKF:  3.550563  and norm after EnKF:  3.477468\n",
      "norm before EnKF:  3.826221  and norm after EnKF:  3.880622\n",
      "norm before EnKF:  3.178903  and norm after EnKF:  3.381877\n",
      "norm before EnKF:  5.336085  and norm after EnKF:  5.401341\n",
      "norm before EnKF:  4.012125  and norm after EnKF:  4.108311\n",
      "norm before EnKF:  3.724989  and norm after EnKF:  3.725764\n",
      "norm before EnKF:  4.674994  and norm after EnKF:  4.656709\n",
      "norm before EnKF:  3.798969  and norm after EnKF:  3.897451\n",
      "norm before EnKF:  4.577821  and norm after EnKF:  4.524143\n",
      "norm before EnKF:  4.191121  and norm after EnKF:  4.179082\n",
      "norm before EnKF:  4.278528  and norm after EnKF:  4.280251\n",
      "norm before EnKF:  3.610039  and norm after EnKF:  3.644483\n",
      "norm before EnKF:  4.772449  and norm after EnKF:  4.817170\n",
      "norm before EnKF:  3.199355  and norm after EnKF:  3.283667\n",
      "norm before EnKF:  2.938076  and norm after EnKF:  2.969760\n",
      "norm before EnKF:  4.707032  and norm after EnKF:  4.737683\n",
      "norm before EnKF:  4.919009  and norm after EnKF:  4.569208\n",
      "norm before EnKF:  4.112496  and norm after EnKF:  4.204736\n",
      "norm before EnKF:  4.303588  and norm after EnKF:  4.370992\n",
      "norm before EnKF:  3.929293  and norm after EnKF:  3.952921\n",
      "norm before EnKF:  4.970642  and norm after EnKF:  5.119736\n"
     ]
    }
   ],
   "source": [
    "for e in range(N_e):\n",
    "    norm_pre = np.sqrt(np.sum(observedParticles_pre[e,:]**2))\n",
    "    norm = np.sqrt(np.sum(observedParticles[e,:]**2))\n",
    "    print(\"norm before EnKF: \", format(norm_pre, \".6f\"), \" and norm after EnKF: \", format(norm, \".6f\"))"
   ]
  },
  {
   "cell_type": "markdown",
   "metadata": {},
   "source": [
    "# RMSE Analysis"
   ]
  },
  {
   "cell_type": "code",
   "execution_count": null,
   "metadata": {},
   "outputs": [],
   "source": [
    "# rmse values before EnKF analysis phase\n",
    "ensemble.getEnsembleVarAndRMSEUnderDrifter(t)\n",
    "rmse_eta = ensemble.rmseUnderDrifter_eta\n",
    "rmse_hu  = ensemble.rmseUnderDrifter_hu\n",
    "rmse_hv  = ensemble.rmseUnderDrifter_hv"
   ]
  },
  {
   "cell_type": "code",
   "execution_count": null,
   "metadata": {},
   "outputs": [
    {
     "name": "stdout",
     "output_type": "stream",
     "text": [
      "Comparison of RMSE before and after analysis phase\n",
      "\n",
      "RMSE for eta before:  0.012636176583585403  and after:  0.012466168329764172\n",
      "RMSE for hu  before:  0.8299410981440832  and after:  0.8412637157104297\n",
      "RMSE for hv  before:  1.2299831513035946  and after:  0.49931343224710417\n"
     ]
    }
   ],
   "source": [
    "print(\"Comparison of RMSE before and after analysis phase\\n\")\n",
    "print(\"RMSE for eta before: \", rmse_eta[0], \" and after: \", rmse_eta[1])\n",
    "print(\"RMSE for hu  before: \", rmse_hu[0], \" and after: \", rmse_hu[1])\n",
    "print(\"RMSE for hv  before: \", rmse_hv[0], \" and after: \", rmse_hv[1])"
   ]
  },
  {
   "cell_type": "code",
   "execution_count": null,
   "metadata": {},
   "outputs": [],
   "source": []
  },
  {
   "cell_type": "code",
   "execution_count": null,
   "metadata": {},
   "outputs": [],
   "source": []
  },
  {
   "cell_type": "code",
   "execution_count": null,
   "metadata": {},
   "outputs": [],
   "source": []
  }
 ],
 "metadata": {
  "kernelspec": {
   "display_name": "Python 3.7.8 64-bit ('gpuocean': conda)",
   "metadata": {
    "interpreter": {
     "hash": "33ed7ca3d490b1455ef8763b7de4f413d7a0b0dcbe44e1e5f95f5e2fe69a0829"
    }
   },
   "name": "python3"
  },
  "language_info": {
   "codemirror_mode": {
    "name": "ipython",
    "version": 3
   },
   "file_extension": ".py",
   "mimetype": "text/x-python",
   "name": "python",
   "nbconvert_exporter": "python",
   "pygments_lexer": "ipython3"
  }
 },
 "nbformat": 4,
 "nbformat_minor": 4
}
