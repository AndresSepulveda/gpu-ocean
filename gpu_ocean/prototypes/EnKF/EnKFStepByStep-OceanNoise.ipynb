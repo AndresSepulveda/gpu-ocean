{
 "cells": [
  {
   "cell_type": "code",
   "execution_count": 1,
   "metadata": {},
   "outputs": [],
   "source": [
    "# -*- coding: utf-8 -*-\n",
    "\n",
    "\"\"\"\n",
    "This software is part of GPU Ocean. \n",
    "Copyright (C) 2019 SINTEF Digital\n",
    "\n",
    "This python program is used to set up and run a data-assimilation \n",
    "and drift trajectory forecasting experiment.\n",
    "\n",
    "This program is free software: you can redistribute it and/or modify\n",
    "it under the terms of the GNU General Public License as published by\n",
    "the Free Software Foundation, either version 3 of the License, or\n",
    "(at your option) any later version.\n",
    "\n",
    "This program is distributed in the hope that it will be useful,\n",
    "but WITHOUT ANY WARRANTY; without even the implied warranty of\n",
    "MERCHANTABILITY or FITNESS FOR A PARTICULAR PURPOSE.  See the\n",
    "GNU General Public License for more details.\n",
    "\n",
    "You should have received a copy of the GNU General Public License\n",
    "along with this program.  If not, see <http://www.gnu.org/licenses/>.\n",
    "\"\"\"\n",
    "\n",
    "\n",
    "import sys, os, datetime, time, shutil\n",
    "from importlib import reload \n",
    "import numpy as np\n",
    "\n",
    "%matplotlib inline\n",
    "%config InlineBackend.figure_format = 'retina'\n",
    "import matplotlib\n",
    "from matplotlib import pyplot as plt\n",
    "from matplotlib import rc\n",
    "from matplotlib import gridspec as gridspec\n",
    "\n",
    "#Set large figure sizes\n",
    "rc('figure', figsize=(16.0, 12.0))\n",
    "rc('animation', html='html5')\n",
    "matplotlib.rcParams['contour.negative_linestyle'] = 'solid'\n",
    "\n",
    "current_dir = os.getcwd()\n",
    "\n",
    "if os.path.isdir(os.path.abspath(os.path.join(current_dir, '../../SWESimulators'))):\n",
    "        sys.path.insert(0, os.path.abspath(os.path.join(current_dir, '../../')))\n",
    "\n",
    "from SWESimulators import IPythonMagic\n",
    "from SWESimulators import BaseOceanStateEnsemble, OceanNoiseEnsemble, CDKLM16 \n",
    "from SWESimulators import Common\n",
    "from SWESimulators import DataAssimilationUtils as dautils\n",
    "\n"
   ]
  },
  {
   "cell_type": "code",
   "execution_count": 2,
   "metadata": {},
   "outputs": [
    {
     "output_type": "stream",
     "name": "stderr",
     "text": [
      "Console logger using level INFO\n",
      "File logger using level Level 15 to enkf_gpu.log\n",
      "Python version 3.7.8 | packaged by conda-forge | (default, Jul 31 2020, 01:53:57) [MSC v.1916 64 bit (AMD64)]\n"
     ]
    }
   ],
   "source": [
    "%cuda_context_handler gpu_ctx\n",
    "%setup_logging --out enkf_gpu.log --file_level 15"
   ]
  },
  {
   "source": [
    "# Set up an instance \n",
    "\n",
    "OceanNoiseEnsemble using CDKLM16-Simulators"
   ],
   "cell_type": "markdown",
   "metadata": {}
  },
  {
   "cell_type": "code",
   "execution_count": 3,
   "metadata": {},
   "outputs": [
    {
     "output_type": "stream",
     "name": "stdout",
     "text": [
      "q0:  0.00017095320928897472\n",
      "[f, g, H, dt] [0.05, 9.81, 10.0, 0.05]\n",
      "(nx, ny):  (60, 60)\n",
      "max_dt:  0.08915940672159195\n",
      "Ready!\n"
     ]
    }
   ],
   "source": [
    "# DEFINE PARAMETERS\n",
    "\n",
    "sim_args = {\n",
    "    \"gpu_ctx\": gpu_ctx,\n",
    "    \"nx\": 60, \"ny\": 60,\n",
    "    \"dx\": 4.0, \"dy\": 4.0,\n",
    "    \"dt\": 0.05,\n",
    "    \"g\": 9.81,\n",
    "    \"f\": 0.05,\n",
    "    \"coriolis_beta\": 0.0,\n",
    "    \"r\": 0.0,\n",
    "    \"rk_order\": 2,\n",
    "    \"small_scale_perturbation_amplitude\": None,\n",
    "    \"write_netcdf\": False, \n",
    "    \"small_scale_perturbation\": True,\n",
    "    \"small_scale_perturbation_interpolation_factor\": 3,\n",
    "    \"boundary_conditions\": Common.BoundaryConditions(2,2,2,2)\n",
    "}\n",
    "\n",
    "ghosts = np.array([2,2,2,2]) # north, east, south, west\n",
    "validDomain = np.array([2,2,2,2])\n",
    "\n",
    "\n",
    "dataShape = (sim_args[\"ny\"] + ghosts[0]+ghosts[2], \n",
    "             sim_args[\"nx\"] + ghosts[1]+ghosts[3])\n",
    "dataShapeHi = (sim_args[\"ny\"] + ghosts[0]+ghosts[2]+1, \n",
    "             sim_args[\"nx\"] + ghosts[1]+ghosts[3]+1)\n",
    "\n",
    "sim_args[\"eta0\"] = np.zeros(dataShape, dtype=np.float32, order='C');\n",
    "sim_args[\"hv0\"] = np.zeros(dataShape, dtype=np.float32, order='C');\n",
    "sim_args[\"hu0\"] = np.zeros(dataShape, dtype=np.float32, order='C');\n",
    "waterDepth = 10.0\n",
    "sim_args[\"H\"] = np.ones(dataShapeHi, dtype=np.float32, order='C')*waterDepth\n",
    "\n",
    "\n",
    "if 'sim' in globals():\n",
    "    sim.cleanUp()\n",
    "if 'ensemble' in globals():\n",
    "    ensemble.cleanUp()\n",
    "if 'iewpfOcean' in globals():\n",
    "    iewpfOcean.cleanUp()\n",
    "    \n",
    "sim_args[\"small_scale_perturbation_amplitude\"] = np.sqrt(sim_args[\"dt\"])*0.5*sim_args[\"f\"]/(sim_args[\"g\"]*waterDepth)\n",
    "sim_args[\"small_scale_perturbation_amplitude\"] *= sim_args[\"small_scale_perturbation_interpolation_factor\"]\n",
    "print (\"q0: \", sim_args[\"small_scale_perturbation_amplitude\"])\n",
    "print (\"[f, g, H, dt]\", [sim_args[\"f\"], sim_args[\"g\"], waterDepth, sim_args[\"dt\"]])\n",
    "print (\"(nx, ny): \", (sim_args[\"nx\"], sim_args[\"ny\"]))\n",
    "\n",
    "reload(CDKLM16)\n",
    "reload(BaseOceanStateEnsemble)\n",
    "reload(OceanNoiseEnsemble)\n",
    "reload(dautils)\n",
    "\n",
    "sim = CDKLM16.CDKLM16(**sim_args)\n",
    "sim.perturbState(q0_scale=100)\n",
    "    \n",
    "ensemble_args = {\n",
    "    \"gpu_ctx\": gpu_ctx,\n",
    "    \"numParticles\": 100,\n",
    "    \"num_drifters\": 1,\n",
    "    \"sim\": sim,\n",
    "    \"observation_type\": dautils.ObservationType.DirectUnderlyingFlow,\n",
    "    \"observation_variance\": 0.02**2\n",
    "}\n",
    "\n",
    "ensemble = OceanNoiseEnsemble.OceanNoiseEnsemble(**ensemble_args)\n",
    "\n",
    "max_dt = ensemble.findLargestPossibleTimeStep()\n",
    "print (\"max_dt: \", max_dt)\n",
    "\n",
    "print (\"Ready!\")"
   ]
  },
  {
   "source": [
    "# Run Simulation until Observation Time"
   ],
   "cell_type": "markdown",
   "metadata": {}
  },
  {
   "cell_type": "code",
   "execution_count": 4,
   "metadata": {},
   "outputs": [
    {
     "output_type": "stream",
     "name": "stdout",
     "text": [
      "Ready!\n"
     ]
    }
   ],
   "source": [
    "t = 1000*sim_args[\"dt\"]\n",
    "ensemble.step(t)\n",
    "\n",
    "print(\"Ready!\")"
   ]
  },
  {
   "source": [
    "# Book keeping"
   ],
   "cell_type": "markdown",
   "metadata": {}
  },
  {
   "cell_type": "code",
   "execution_count": 5,
   "metadata": {},
   "outputs": [],
   "source": [
    "# Size of ensemble\n",
    "ensemble_size = ensemble_args[\"numParticles\"]\n",
    "\n",
    "# Number of observers\n",
    "n_D = ensemble_args[\"num_drifters\"]\n",
    "\n",
    "# particle properties before EnKF analysis phase\n",
    "observedParticles_pre = ensemble.observeParticles()\n",
    "innovationNorms_pre = ensemble.getInnovationNorms()"
   ]
  },
  {
   "cell_type": "markdown",
   "metadata": {},
   "source": [
    "# Step-By-Step EnKF in Square Root Formulation"
   ]
  },
  {
   "source": [
    "## Calculate $S = H X'_f$"
   ],
   "cell_type": "markdown",
   "metadata": {}
  },
  {
   "cell_type": "code",
   "execution_count": 6,
   "metadata": {},
   "outputs": [],
   "source": [
    "\"\"\"\n",
    "Particles are observed in the following form:\n",
    "[\n",
    "particle 1:  [hu_1, hv_1], ... , [hu_D, hv_D],\n",
    "...\n",
    "particle Ne: [hu_1, hv_1], ... , [hu_D, hv_D]\n",
    "]\n",
    "\n",
    "In order to bring it in accordance with later data structure we use the following format for the storage of the perturbation of the observation:\n",
    "[\n",
    "[hu_1 (particle 1), ..., hu_1 (particle Ne)],\n",
    "...\n",
    "[hu_D (particle 1), ..., hu_D (particle Ne)],\n",
    "[hv_1 (particle 1), ..., hv_1 (particle Ne)],\n",
    "...\n",
    "[hv_D (particle 1), ..., hv_D (particle Ne)],\n",
    "]\n",
    "\n",
    "\"\"\"\n",
    "\n",
    "# Observation \n",
    "HX_f_orig = ensemble.observeParticles()\n",
    "\n",
    "# Reshaping\n",
    "HX_f = np.zeros( (2*n_D, ensemble_size) )\n",
    "for e in range(ensemble_size):\n",
    "    for l in range(n_D):\n",
    "        HX_f[l,e]     = HX_f_orig[e,l,0]\n",
    "    for l in range(n_D):\n",
    "        HX_f[n_D+l,e] = HX_f_orig[e,l,1]\n",
    "\n",
    "HX_f_mean = np.zeros_like(HX_f)\n",
    "for e in range(ensemble_size):\n",
    "    HX_f_mean = 1/ensemble_size * HX_f[:,e]\n",
    "\n",
    "HX_f_pert = HX_f - HX_f_mean.reshape((2*n_D,1))\n",
    "\n"
   ]
  },
  {
   "cell_type": "markdown",
   "metadata": {},
   "source": [
    "## Calculate $SS^\\top = HPH^\\top$ "
   ]
  },
  {
   "cell_type": "code",
   "execution_count": 7,
   "metadata": {},
   "outputs": [],
   "source": [
    "\n",
    "HPHT = 1/(ensemble_size-1) * np.dot(HX_f_pert,HX_f_pert.T)\n"
   ]
  },
  {
   "cell_type": "markdown",
   "metadata": {},
   "source": [
    "## Calculate $F = HPH^\\top + R$"
   ]
  },
  {
   "cell_type": "code",
   "execution_count": 8,
   "metadata": {},
   "outputs": [],
   "source": [
    "R_orig = ensemble.getObservationCov() * 0.01\n",
    "\n",
    "R = np.zeros( (R_orig.shape[0]*n_D, R_orig.shape[1]*n_D) )\n",
    "\n",
    "for l in range(n_D):\n",
    "    R[l,l] = R_orig[0,0]\n",
    "    R[n_D+l, n_D+l] = R_orig[1,1]\n",
    "    R[l,n_D+l] = R_orig[0,1]\n",
    "    R[n_D+l,l] = R_orig[1,0]\n",
    "\n",
    "F = HPHT + R"
   ]
  },
  {
   "cell_type": "markdown",
   "metadata": {},
   "source": [
    "## Calculate Innovation $D = Y - HX_f$ \n",
    "## and perturb $D=D+Y'$"
   ]
  },
  {
   "cell_type": "code",
   "execution_count": 9,
   "metadata": {},
   "outputs": [],
   "source": [
    "\"\"\"\n",
    "Particles yield innovations in the following form:\n",
    "[\n",
    "particle 1:  [hu_1, hv_1], ... , [hu_D, hv_D],\n",
    "...\n",
    "particle Ne: [hu_1, hv_1], ... , [hu_D, hv_D]\n",
    "]\n",
    "\n",
    "In order to bring it in accordance with later data structure we use the following format for the storage of the perturbation of the observation:\n",
    "[\n",
    "[d_hu_1 (particle 1), ..., d_hu_1 (particle Ne)],\n",
    "...\n",
    "[d_hu_D (particle 1), ..., d_hu_D (particle Ne)],\n",
    "[d_hv_1 (particle 1), ..., d_hv_1 (particle Ne)],\n",
    "...\n",
    "[d_hv_D (particle 1), ..., d_hv_D (particle Ne)],\n",
    "]\n",
    "\n",
    "\"\"\"\n",
    "\n",
    "innovation_orig = ensemble.getInnovations()[:,:,:]\n",
    "\n",
    "# Reshaping\n",
    "innovation = np.zeros( (2*n_D, ensemble_size) )\n",
    "for e in range(ensemble_size):\n",
    "    for l in range(n_D):\n",
    "        innovation[l,e]     = innovation_orig[e,l,0]\n",
    "    for l in range(n_D):\n",
    "        innovation[n_D+l,e] = innovation_orig[e,l,1]\n",
    "\n",
    "Y_pert = np.random.multivariate_normal(np.zeros(2*n_D),R ,ensemble_size).T\n",
    "\n",
    "D = innovation + Y_pert\n"
   ]
  },
  {
   "cell_type": "markdown",
   "metadata": {},
   "source": [
    "## Calculate $C = F^{-1}D$"
   ]
  },
  {
   "cell_type": "code",
   "execution_count": 10,
   "metadata": {},
   "outputs": [],
   "source": [
    "Finv = np.linalg.inv(F)\n",
    "C = np.dot(Finv,D)"
   ]
  },
  {
   "cell_type": "markdown",
   "metadata": {},
   "source": [
    "## Calculate $E=S^\\top C$\n"
   ]
  },
  {
   "cell_type": "code",
   "execution_count": 11,
   "metadata": {},
   "outputs": [],
   "source": [
    "E = np.dot(HX_f_pert.T,C)"
   ]
  },
  {
   "cell_type": "markdown",
   "metadata": {},
   "source": [
    "## Calculate $X'_f = X_f - \\overline{X_f}$ "
   ]
  },
  {
   "cell_type": "code",
   "execution_count": 12,
   "metadata": {},
   "outputs": [],
   "source": [
    "\"\"\"\n",
    "The download gives eta = \n",
    "[\n",
    "[eta(x0,y0),...,eta(xN,y0)],\n",
    "...,\n",
    "[eta(x0,yN),...,eta(xN,yN)]\n",
    "]\n",
    "as an array of size Ny x Nx\n",
    "and analog for hu and hv.\n",
    "we use those as an 1D array eta = \n",
    "[eta(x0,y0),...,eta(xN,y0),eta(x0,y1),...,eta(xN,y(N-1)),eta(x0,yN),...,eta(xN,yN)]\n",
    "and anlog for hu and hv \n",
    "\n",
    "For further calculations the indivdual dimensions of the state variable are concatinated X = \n",
    "[eta, hu, hv]\n",
    "\n",
    "Collecting the state perturbation for each ensemble member in a matrix Nx x Ne, where\n",
    "X_f_pert = \n",
    "[ \n",
    "[eta_pert(x0,y0) (particle 1),..., eta_pert],\n",
    "...\n",
    "particle 2: [eta_pert,hu_pert,hv_pert]\n",
    "]\n",
    "\"\"\"\n",
    "\n",
    "# Ghost cells added \n",
    "n_i = ensemble.particles[0].ny + 4 \n",
    "n_j = ensemble.particles[0].nx + 4\n",
    "\n",
    "X_f = np.zeros((3*n_i*n_j, ensemble_size))\n",
    "for e in range(ensemble_size):\n",
    "    eta, hu, hv = ensemble.particles[e].download(interior_domain_only=False)\n",
    "    eta = eta.reshape(n_i*n_j)\n",
    "    hu  = hu.reshape(n_i*n_j)\n",
    "    hv  = hv.reshape(n_i*n_j)\n",
    "    X_f[:,e] = np.append(eta, np.append(hu,hv))\n",
    "\n",
    "X_f_mean = np.zeros( 3*n_i*n_j )\n",
    "for e in range(ensemble_size):\n",
    "    X_f_mean += 1/ensemble_size * X_f[:,e]\n",
    "\n",
    "X_f_pert = np.zeros_like( X_f )\n",
    "for e in range(ensemble_size):\n",
    "    X_f_pert[:,e] = X_f[:,e] - X_f_mean\n",
    " "
   ]
  },
  {
   "source": [
    "## Calculate $X_a$\n"
   ],
   "cell_type": "markdown",
   "metadata": {
    "tags": []
   }
  },
  {
   "cell_type": "code",
   "execution_count": 13,
   "metadata": {},
   "outputs": [],
   "source": [
    "X_a = X_f + 1/(ensemble_size-1) * np.dot(X_f_pert,E)"
   ]
  },
  {
   "source": [
    "## Reshape and upload analysis state"
   ],
   "cell_type": "markdown",
   "metadata": {}
  },
  {
   "cell_type": "code",
   "execution_count": 14,
   "metadata": {},
   "outputs": [],
   "source": [
    "for e in range(ensemble_size):\n",
    "    eta = X_a[0:n_i*n_j, e].reshape((n_i,n_j))\n",
    "    hu  = X_a[n_i*n_j:2*n_i*n_j, e].reshape((n_i,n_j))\n",
    "    hv  = X_a[2*n_i*n_j:3*n_i*n_j, e].reshape((n_i,n_j))\n",
    "    ensemble.particles[e].upload(eta,hu,hv)\n"
   ]
  },
  {
   "source": [
    "# Plotting Utils"
   ],
   "cell_type": "markdown",
   "metadata": {}
  },
  {
   "cell_type": "code",
   "execution_count": 19,
   "metadata": {},
   "outputs": [],
   "source": [
    "def _fillPolarPlot(ax, ensemble, observedParticles, alpha, drifter_id=0, printInfo=False):\n",
    "    \"\"\"\n",
    "    Internal utility function for plotting current under a drifter as a polar plot.\n",
    "    \"\"\"\n",
    "    max_r = 0\n",
    "    observedParticlesSingleDrifter = observedParticles[:, drifter_id, :]\n",
    "    if printInfo: print(\"observedParticlesSingleDrifter: \\n\" +str(observedParticlesSingleDrifter))\n",
    "    for p in range(ensemble.getNumParticles()):\n",
    "        u, v = observedParticlesSingleDrifter[p,0], observedParticlesSingleDrifter[p,1]\n",
    "        r = np.sqrt(u**2 + v**2)\n",
    "        max_r = max(max_r, r)\n",
    "        theta = np.arctan(v/u)\n",
    "        if (u < 0):\n",
    "            theta += np.pi\n",
    "        arr1 = plt.arrow(theta, 0, 0, r, alpha = alpha, \\\n",
    "                         length_includes_head=True, \\\n",
    "                         edgecolor = 'green', facecolor = 'green', zorder = 5)\n",
    "\n",
    "    obs_u = ensemble.observeTrueState()[drifter_id, 2]\n",
    "    obs_v = ensemble.observeTrueState()[drifter_id, 3]\n",
    "    if printInfo: print(\"observedTrueState: \" + str((obs_u, obs_v)))\n",
    "    obs_r = np.sqrt(obs_u**2 + obs_v**2)\n",
    "    max_r = max(max_r, obs_r)\n",
    "    obs_theta = np.arctan(obs_v/obs_u)\n",
    "    if (obs_u < 0):\n",
    "        obs_theta += np.pi\n",
    "    arr1 = plt.arrow(obs_theta, 0, 0, obs_r, alpha = 0.5,\\\n",
    "                     length_includes_head=True, \\\n",
    "                     edgecolor = 'red', facecolor = 'red', zorder = 5)\n",
    "\n",
    "    ax.set_rmax(max_r*1.2)\n",
    "    plt.grid(True)\n",
    "    plt.title(\"Observations from drifter \" + str(drifter_id))\n",
    "\n",
    "\n",
    "def _fillHistPlot(ax, ensemble, innovationNorms, alpha, printInfo=False):\n",
    "    if printInfo: print(\"innovation norms: \" + str(innovationNorms))\n",
    "    obs_var = ensemble.getObservationVariance()\n",
    "    range_x = np.sqrt(obs_var)*500\n",
    "    ax.hist(innovationNorms, bins=30, facecolor='green', \\\n",
    "                range=(0, range_x), alpha=alpha,\\\n",
    "                density=True, label=\"particle innovations (norm)\")\n",
    "\n",
    "\n",
    "def plotVelocityInfoBeforeAndAfterDA(ensemble, observedParticles, innovationNorms, observedParticles_pre=None, innovationNorms_pre=None, title=None) :\n",
    "\n",
    "    # Initialize File\n",
    "    fig = None\n",
    "    plotRows = 2\n",
    "    fig = plt.figure(figsize=(10,6))\n",
    "    gridspec.GridSpec(plotRows, 3)\n",
    "\n",
    "    # PLOT POSITIONS OF PARTICLES AND OBSERVATIONS\n",
    "    ax = plt.subplot2grid((plotRows,3), (0,0), polar=True)\n",
    "    print(\"Observed particles: \\n\")\n",
    "    _fillPolarPlot(ax, ensemble, observedParticles, 0.5, drifter_id=0, printInfo=True)\n",
    "    if observedParticles_pre is not None:\n",
    "        print(\"Observed particles before: \\n\")\n",
    "        _fillPolarPlot(ax, ensemble, observedParticles_pre, 0.2, drifter_id=0, printInfo=True)\n",
    "    print(\"\\n\\n\")\n",
    "\n",
    "    # PLOT DISCTRIBUTION OF PARTICLE DISTANCES AND THEORETIC OBSERVATION PDF\n",
    "    ax0 = plt.subplot2grid((plotRows,3), (0,1), colspan=2)\n",
    "    print(\"Innovation norms: \\n\")\n",
    "    _fillHistPlot(ax0, ensemble, innovationNorms, 0.5, printInfo=True)\n",
    "    if innovationNorms_pre is not None:\n",
    "        print(\"Innovation norms before: \\n\")\n",
    "        _fillHistPlot(ax0, ensemble, innovationNorms_pre, 0.2, printInfo=True)\n",
    "\n",
    "    if title is not None:\n",
    "        plt.suptitle(title, fontsize=16)\n",
    "    plt.tight_layout()\n",
    "\n"
   ]
  },
  {
   "source": [
    "# Plot circular diagram and histogram"
   ],
   "cell_type": "markdown",
   "metadata": {}
  },
  {
   "cell_type": "code",
   "execution_count": 20,
   "metadata": {},
   "outputs": [
    {
     "output_type": "stream",
     "name": "stdout",
     "text": [
      "Observed particles: \n\nobservedParticlesSingleDrifter: \n[[0.68514419 5.09203482]\n [0.98679185 5.72770643]\n [1.77685058 7.35286379]\n [1.2817167  6.32993364]\n [1.159199   6.07046747]\n [1.32630312 6.42095566]\n [0.05053525 3.7894702 ]\n [0.21953322 4.13341475]\n [1.16402459 6.09272528]\n [0.5956791  4.90300179]\n [0.87244725 5.48760509]\n [1.27880549 6.33153152]\n [1.18198872 6.12325668]\n [1.23942149 6.24713802]\n [1.35213721 6.47600985]\n [0.58139455 4.88077545]\n [1.30458963 6.3751626 ]\n [1.01540232 5.78384542]\n [1.85544503 7.5285821 ]\n [0.65253067 5.02699327]\n [1.23354077 6.23471403]\n [1.10719466 5.97612619]\n [0.78942138 5.31622648]\n [0.94466972 5.63873959]\n [0.5056414  4.72480631]\n [0.37518802 4.45550346]\n [0.80725652 5.33459377]\n [1.11152947 5.98732424]\n [1.318308   6.41013908]\n [1.0789758  5.91912365]\n [1.16509664 6.10032368]\n [1.3037529  6.37806988]\n [1.19853425 6.16267586]\n [0.78112459 5.29611349]\n [1.09219873 5.94621849]\n [0.92564589 5.59826946]\n [1.05128837 5.85788918]\n [0.4646675  4.64510822]\n [1.16846621 6.09633827]\n [1.78162074 7.37098312]\n [1.14073718 6.04110718]\n [1.4223392  6.63127899]\n [1.07558906 5.90336084]\n [1.46851456 6.71976709]\n [1.40225041 6.57686996]\n [0.90087235 5.53392124]\n [1.32251453 6.41802311]\n [1.09252584 5.94322824]\n [1.06705618 5.88039398]\n [0.90150148 5.54160118]\n [1.05820441 5.8684063 ]\n [1.31581903 6.40151358]\n [1.70687354 7.21021795]\n [1.41473424 6.59930038]\n [1.49437106 6.77642202]\n [0.72123009 5.16531849]\n [1.78640699 7.37708235]\n [1.63461459 7.06522036]\n [1.0315702  5.8122201 ]\n [1.6491555  7.0969696 ]\n [1.27641344 6.32085514]\n [1.03560317 5.8216095 ]\n [1.08951807 5.92888832]\n [0.89320678 5.5270133 ]\n [1.42484367 6.62302971]\n [1.51129687 6.81206226]\n [1.40512359 6.58459663]\n [0.69260365 5.11465073]\n [1.13151002 6.02296495]\n [1.02405941 5.79249811]\n [0.93003792 5.60142803]\n [1.55795681 6.90297651]\n [1.28054285 6.3363061 ]\n [0.99961782 5.73865128]\n [1.27427089 6.31730556]\n [1.15010774 6.04538298]\n [1.49186349 6.76774931]\n [1.22715425 6.21464825]\n [0.93484718 5.61069584]\n [1.17810655 6.12672472]\n [0.63068861 4.98973608]\n [0.85742325 5.45693922]\n [0.6715309  5.06652975]\n [0.89523107 5.52780151]\n [1.40425622 6.58562422]\n [1.22955227 6.21967602]\n [1.31714773 6.40038157]\n [1.16263342 6.08594894]\n [1.38892555 6.55465603]\n [0.39976346 4.50270414]\n [0.87675625 5.49325991]\n [0.82980752 5.40701199]\n [1.39089835 6.5599618 ]\n [1.07733166 5.90411949]\n [1.3187753  6.40363741]\n [1.74410045 7.28639936]\n [0.75585389 5.23510742]\n [0.89834028 5.54029846]\n [0.89123839 5.51531076]\n [2.08106613 7.98935318]]\nobservedTrueState: (0.6535259485244751, 5.028426170349121)\nObserved particles before: \n\nobservedParticlesSingleDrifter: \n[[2.32275772 3.93388939]\n [1.7243917  5.22651052]\n [3.25291562 6.37931013]\n [3.17772269 5.02714968]\n [2.79508948 4.94402027]\n [2.37070322 5.72400904]\n [1.65769362 2.61250281]\n [2.40338159 2.55863714]\n [4.76295042 3.57593489]\n [3.14483905 3.09335542]\n [1.65626585 4.94656992]\n [0.99462354 6.57309103]\n [2.75331068 5.04398441]\n [3.13368297 4.94280052]\n [1.88012207 6.14684582]\n [2.29457664 3.66259789]\n [1.01561403 6.62177801]\n [2.35378098 4.85894537]\n [4.79924631 5.52035809]\n [1.03130746 4.75847578]\n [3.10145807 4.94866705]\n [1.97658813 5.38930559]\n [1.17510796 5.05157709]\n [1.02626169 5.59951019]\n [0.95027673 4.40039158]\n [1.49494147 3.64441133]\n [1.20856631 5.05982924]\n [2.90938473 4.74310303]\n [1.48810744 6.33235788]\n [2.63392377 4.84497786]\n [2.94239664 4.87423182]\n [2.20085955 5.7843833 ]\n [2.2070477  5.48334265]\n [2.42432451 4.14036465]\n [2.15560579 5.22105742]\n [0.79604048 5.70743132]\n [2.13589978 5.11523104]\n [1.97302675 3.56470084]\n [1.30210292 6.03456926]\n [2.72089934 6.77796364]\n [4.0799098  3.99010158]\n [5.32358074 3.91713381]\n [2.52712822 4.90219307]\n [2.68959808 5.90716219]\n [3.31567097 5.26931763]\n [0.5925504  5.76803827]\n [2.529037   5.6062398 ]\n [1.84824371 5.43621683]\n [1.45845926 5.62947655]\n [3.42075348 3.77264714]\n [3.53945422 4.13675976]\n [3.49100804 4.90299082]\n [3.02867246 6.34132719]\n [3.08913565 5.46173763]\n [1.05054677 7.14474964]\n [0.47887647 5.34121656]\n [3.06644177 6.54304361]\n [2.63157892 6.42177773]\n [1.01934254 5.84529543]\n [2.14970064 6.80650568]\n [3.3363204  4.9014082 ]\n [2.1457386  5.05958033]\n [1.09554648 5.9525485 ]\n [3.39434862 3.77035069]\n [2.75317717 5.73152637]\n [3.64836264 5.35319424]\n [1.71585786 6.41259241]\n [1.01437187 4.88899469]\n [4.57645607 3.61332536]\n [2.89183474 4.49304724]\n [3.04742932 4.11928129]\n [2.4813242  6.3067379 ]\n [3.09112048 5.09398127]\n [2.65684271 4.58685207]\n [2.66186523 5.37419224]\n [1.99926531 5.47553492]\n [1.6506089  6.70952559]\n [3.16998768 4.87498808]\n [1.75969577 5.04462242]\n [1.72046971 5.77633905]\n [2.07868552 3.96237087]\n [1.7537272  4.83516359]\n [1.98112667 4.14001513]\n [1.69189847 4.97862673]\n [3.54415131 5.11788368]\n [5.40420961 3.29904032]\n [2.44290161 5.6452384 ]\n [3.8762579  4.19619656]\n [2.24038672 5.99857473]\n [1.10147882 3.98970294]\n [1.41080713 5.12927198]\n [4.04803467 3.1386497 ]\n [1.61002505 6.45231628]\n [3.08065462 4.51207256]\n [3.34671712 5.00950289]\n [3.33752489 6.2275281 ]\n [3.21979237 3.49610829]\n [2.6288619  4.33017206]\n [2.23755074 4.57687426]\n [2.64653087 7.68039799]]\nobservedTrueState: (0.6535259485244751, 5.028426170349121)\n\n\n\nInnovation norms: \n\ninnovation norms: [0.07245389 0.76711781 2.58639754 1.44815073 1.16314155 1.54199732\n 1.38031108 0.99272649 1.1740963  0.1348744  0.51046633 1.44343705\n 1.21459177 1.35072964 1.61030828 0.16449464 1.50460928 0.83335021\n 2.77205095 0.00339651 1.33428732 1.04458864 0.30993748 0.66479428\n 0.34073914 0.63861931 0.34395401 1.05385676 1.52635375 0.98447913\n 1.18481649 1.49984673 1.26049038 0.2988088  1.01238527 0.62206307\n 0.91986692 0.42728222 1.18037126 2.59600001 1.11728643 1.7775122\n 0.97135003 1.87726479 1.71890815 0.56108772 1.54236221 1.02092669\n 0.94871352 0.56996928 0.93619283 1.52071047 2.42373849 1.74688178\n 1.93340492 0.15250144 2.60951194 2.26016517 0.87481627 2.30079782\n 1.42871383 0.87620992 1.0007395  0.54609834 1.77481301 1.97571757\n 1.72614567 0.0876901  1.10556417 0.85061017 0.64051492 2.07665168\n 1.44740009 0.79356954 1.42956826 1.14135245 1.94288446 1.31783247\n 0.65585788 1.21172598 0.0551676  0.47131743 0.04240056 0.54790372\n 1.73097597 1.32424021 1.52207272 1.17166461 1.69032451 0.57117421\n 0.51625239 0.41232755 1.7018169  0.9740459  1.52379605 2.51490091\n 0.23548918 0.5679586  0.55068268 3.28647361]\nInnovation norms before: \n\ninnovation norms: [1.99586582 1.08649564 2.93182511 2.5244528  2.14360377 1.85005909\n 2.6193746  3.02633237 4.36041974 3.15361034 1.00614265 1.58005567\n 2.09955529 2.48137827 1.66209358 2.13573053 1.64335381 1.70853062\n 4.17385611 0.46525799 2.44870154 1.36873585 0.52061627 0.67112206\n 0.69752818 1.62162734 0.55615042 2.27381923 1.54143736 1.98874366\n 2.29380679 1.72284064 1.61940485 1.98055153 1.5129315  0.68399819\n 1.4847842  1.97125969 1.19205405 2.70476649 3.58168342 4.80072438\n 1.87779152 2.2171308  2.67253035 0.74058125 1.96225267 1.26511502\n 1.00566104 3.03928014 3.02011406 2.8398102  2.71400932 2.47396155\n 2.14689828 0.35818155 2.84970024 2.4187072  0.89971448 2.32811743\n 2.68519224 1.49178426 1.02468263 3.01845515 2.2154952  3.01124073\n 1.74285014 0.3886993  4.17032844 2.30140704 2.55998173 2.22677253\n 2.43781648 2.05117168 2.03732941 1.42229412 1.96616563 2.52106917\n 1.10764182 1.29891893 1.78560383 1.11722966 1.5976715  1.03896523\n 2.8921833  5.05598499 1.89148949 3.32892191 1.8570765  1.12017794\n 0.76404566 3.88787863 1.71712979 2.48144305 2.69261629 2.94323392\n 2.98749213 2.0952143  1.64588886 3.31655249]\n"
     ]
    },
    {
     "output_type": "display_data",
     "data": {
      "text/plain": "<Figure size 720x432 with 2 Axes>",
      "image/png": "[encoded data removed]"
     },
     "metadata": {
      "image/png": {
       "width": 708,
       "height": 240
      },
      "needs_background": "light"
     }
    }
   ],
   "source": [
    "# Download Data from Simulators\n",
    "observedParticles = ensemble.observeParticles()\n",
    "innovationNorms = ensemble.getInnovationNorms()\n",
    "\n",
    "plotVelocityInfoBeforeAndAfterDA(ensemble, observedParticles, innovationNorms, observedParticles_pre, innovationNorms_pre)"
   ]
  },
  {
   "cell_type": "code",
   "execution_count": null,
   "metadata": {},
   "outputs": [],
   "source": []
  },
  {
   "cell_type": "code",
   "execution_count": null,
   "metadata": {},
   "outputs": [],
   "source": []
  },
  {
   "cell_type": "code",
   "execution_count": null,
   "metadata": {},
   "outputs": [],
   "source": []
  },
  {
   "cell_type": "code",
   "execution_count": null,
   "metadata": {},
   "outputs": [],
   "source": []
  },
  {
   "cell_type": "code",
   "execution_count": null,
   "metadata": {},
   "outputs": [],
   "source": []
  }
 ],
 "metadata": {
  "kernelspec": {
   "name": "python3",
   "display_name": "Python 3.7.8 64-bit ('gpuocean': conda)",
   "metadata": {
    "interpreter": {
     "hash": "33ed7ca3d490b1455ef8763b7de4f413d7a0b0dcbe44e1e5f95f5e2fe69a0829"
    }
   }
  },
  "language_info": {
   "codemirror_mode": {
    "name": "ipython",
    "version": 3
   },
   "file_extension": ".py",
   "mimetype": "text/x-python",
   "name": "python",
   "nbconvert_exporter": "python",
   "pygments_lexer": "ipython3",
   "version": "3.7.8-final"
  }
 },
 "nbformat": 4,
 "nbformat_minor": 4
}