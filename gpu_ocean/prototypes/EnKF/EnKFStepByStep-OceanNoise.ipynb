{
 "cells": [
  {
   "cell_type": "code",
   "execution_count": null,
   "metadata": {},
   "outputs": [],
   "source": [
    "# -*- coding: utf-8 -*-\n",
    "\n",
    "\"\"\"\n",
    "This software is part of GPU Ocean. \n",
    "Copyright (C) 2019 SINTEF Digital\n",
    "\n",
    "This python program is used to set up and run a data-assimilation \n",
    "and drift trajectory forecasting experiment.\n",
    "\n",
    "This program is free software: you can redistribute it and/or modify\n",
    "it under the terms of the GNU General Public License as published by\n",
    "the Free Software Foundation, either version 3 of the License, or\n",
    "(at your option) any later version.\n",
    "\n",
    "This program is distributed in the hope that it will be useful,\n",
    "but WITHOUT ANY WARRANTY; without even the implied warranty of\n",
    "MERCHANTABILITY or FITNESS FOR A PARTICULAR PURPOSE.  See the\n",
    "GNU General Public License for more details.\n",
    "\n",
    "You should have received a copy of the GNU General Public License\n",
    "along with this program.  If not, see <http://www.gnu.org/licenses/>.\n",
    "\"\"\"\n",
    "\n",
    "\n",
    "import sys, os, datetime, time, shutil\n",
    "from importlib import reload \n",
    "import numpy as np\n",
    "\n",
    "%matplotlib inline\n",
    "%config InlineBackend.figure_format = 'retina'\n",
    "import matplotlib\n",
    "from matplotlib import pyplot as plt\n",
    "from matplotlib import rc\n",
    "from matplotlib import gridspec as gridspec\n",
    "\n",
    "#Set large figure sizes\n",
    "rc('figure', figsize=(16.0, 12.0))\n",
    "rc('animation', html='html5')\n",
    "matplotlib.rcParams['contour.negative_linestyle'] = 'solid'\n",
    "\n",
    "current_dir = os.getcwd()\n",
    "\n",
    "if os.path.isdir(os.path.abspath(os.path.join(current_dir, '../../SWESimulators'))):\n",
    "        sys.path.insert(0, os.path.abspath(os.path.join(current_dir, '../../')))\n",
    "\n",
    "from SWESimulators import IPythonMagic\n",
    "from SWESimulators import BaseOceanStateEnsemble, OceanNoiseEnsemble, CDKLM16 \n",
    "from SWESimulators import Common\n",
    "from SWESimulators import DataAssimilationUtils as dautils\n",
    "\n"
   ]
  },
  {
   "cell_type": "code",
   "execution_count": null,
   "metadata": {},
   "outputs": [
    {
     "name": "stderr",
     "output_type": "stream",
     "text": [
      "Console logger using level INFO\n",
      "File logger using level Level 15 to enkf_gpu.log\n",
      "Python version 3.7.8 | packaged by conda-forge | (default, Jul 31 2020, 01:53:57) [MSC v.1916 64 bit (AMD64)]\n"
     ]
    }
   ],
   "source": [
    "%cuda_context_handler gpu_ctx\n",
    "%setup_logging --out enkf_gpu.log --file_level 15"
   ]
  },
  {
   "cell_type": "markdown",
   "metadata": {},
   "source": [
    "# Set up an instance \n",
    "\n",
    "OceanNoiseEnsemble using CDKLM16-Simulators"
   ]
  },
  {
   "cell_type": "code",
   "execution_count": null,
   "metadata": {},
   "outputs": [
    {
     "name": "stdout",
     "output_type": "stream",
     "text": [
      "q0:  0.00017095320928897472\n",
      "[f, g, H, dt] [0.05, 9.81, 10.0, 0.05]\n",
      "(nx, ny):  (60, 60)\n",
      "max_dt:  0.09063483029603958\n",
      "Ready!\n"
     ]
    }
   ],
   "source": [
    "# DEFINE PARAMETERS\n",
    "\n",
    "sim_args = {\n",
    "    \"gpu_ctx\": gpu_ctx,\n",
    "    \"nx\": 60, \"ny\": 60,\n",
    "    \"dx\": 4.0, \"dy\": 4.0,\n",
    "    \"dt\": 0.05,\n",
    "    \"g\": 9.81,\n",
    "    \"f\": 0.05,\n",
    "    \"coriolis_beta\": 0.0,\n",
    "    \"r\": 0.0,\n",
    "    \"rk_order\": 2,\n",
    "    \"small_scale_perturbation_amplitude\": None,\n",
    "    \"write_netcdf\": False, \n",
    "    \"small_scale_perturbation\": True,\n",
    "    \"small_scale_perturbation_interpolation_factor\": 3,\n",
    "    \"boundary_conditions\": Common.BoundaryConditions(2,2,2,2)\n",
    "}\n",
    "\n",
    "ghosts = np.array([2,2,2,2]) # north, east, south, west\n",
    "validDomain = np.array([2,2,2,2])\n",
    "\n",
    "\n",
    "dataShape = (sim_args[\"ny\"] + ghosts[0]+ghosts[2], \n",
    "             sim_args[\"nx\"] + ghosts[1]+ghosts[3])\n",
    "dataShapeHi = (sim_args[\"ny\"] + ghosts[0]+ghosts[2]+1, \n",
    "             sim_args[\"nx\"] + ghosts[1]+ghosts[3]+1)\n",
    "\n",
    "sim_args[\"eta0\"] = np.zeros(dataShape, dtype=np.float32, order='C');\n",
    "sim_args[\"hv0\"] = np.zeros(dataShape, dtype=np.float32, order='C');\n",
    "sim_args[\"hu0\"] = np.zeros(dataShape, dtype=np.float32, order='C');\n",
    "waterDepth = 10.0\n",
    "sim_args[\"H\"] = np.ones(dataShapeHi, dtype=np.float32, order='C')*waterDepth\n",
    "\n",
    "\n",
    "if 'sim' in globals():\n",
    "    sim.cleanUp()\n",
    "if 'ensemble' in globals():\n",
    "    ensemble.cleanUp()\n",
    "if 'iewpfOcean' in globals():\n",
    "    iewpfOcean.cleanUp()\n",
    "    \n",
    "sim_args[\"small_scale_perturbation_amplitude\"] = np.sqrt(sim_args[\"dt\"])*0.5*sim_args[\"f\"]/(sim_args[\"g\"]*waterDepth)\n",
    "sim_args[\"small_scale_perturbation_amplitude\"] *= sim_args[\"small_scale_perturbation_interpolation_factor\"]\n",
    "print (\"q0: \", sim_args[\"small_scale_perturbation_amplitude\"])\n",
    "print (\"[f, g, H, dt]\", [sim_args[\"f\"], sim_args[\"g\"], waterDepth, sim_args[\"dt\"]])\n",
    "print (\"(nx, ny): \", (sim_args[\"nx\"], sim_args[\"ny\"]))\n",
    "\n",
    "reload(CDKLM16)\n",
    "reload(BaseOceanStateEnsemble)\n",
    "reload(OceanNoiseEnsemble)\n",
    "reload(dautils)\n",
    "\n",
    "sim = CDKLM16.CDKLM16(**sim_args)\n",
    "sim.perturbState(q0_scale=100)\n",
    "    \n",
    "ensemble_args = {\n",
    "    \"gpu_ctx\": gpu_ctx,\n",
    "    \"numParticles\": 100,\n",
    "    \"num_drifters\": 1,\n",
    "    \"sim\": sim,\n",
    "    \"observation_type\": dautils.ObservationType.StaticBuoys,\n",
    "    \"buoys_positions\" : [[120.0,120.0]],\n",
    "    \"observation_variance\": 0.02**2,\n",
    "    \"initialization_variance_factor_ocean_field\" : 25.0\n",
    "}\n",
    "\n",
    "ensemble = OceanNoiseEnsemble.OceanNoiseEnsemble(**ensemble_args)\n",
    "\n",
    "max_dt = ensemble.findLargestPossibleTimeStep()\n",
    "print (\"max_dt: \", max_dt)\n",
    "\n",
    "print (\"Ready!\")"
   ]
  },
  {
   "cell_type": "markdown",
   "metadata": {},
   "source": [
    "# Run Simulation until Observation Time"
   ]
  },
  {
   "cell_type": "code",
   "execution_count": null,
   "metadata": {},
   "outputs": [
    {
     "name": "stdout",
     "output_type": "stream",
     "text": [
      "Ready!\n"
     ]
    }
   ],
   "source": [
    "t = 100*sim_args[\"dt\"]\n",
    "ensemble.step(t)\n",
    "\n",
    "print(\"Ready!\")"
   ]
  },
  {
   "cell_type": "markdown",
   "metadata": {},
   "source": [
    "# Book keeping"
   ]
  },
  {
   "cell_type": "code",
   "execution_count": null,
   "metadata": {},
   "outputs": [],
   "source": [
    "# Deactivating some particles for testing\n",
    "ensemble.particlesActive[2]=False\n",
    "ensemble.particlesActive[7]=False"
   ]
  },
  {
   "cell_type": "code",
   "execution_count": null,
   "metadata": {},
   "outputs": [],
   "source": [
    "# Size of ensemble\n",
    "N_e = ensemble.getNumParticles()\n",
    "N_e_active = ensemble.getNumActiveParticles()\n",
    "\n",
    "# Number of observers\n",
    "N_d = ensemble.getNumDrifters()\n",
    "\n",
    "# particle properties before EnKF analysis phase\n",
    "observedParticles_pre = ensemble.observeParticles()\n",
    "innovationNorms_pre = ensemble.getInnovationNorms()\n",
    "\n",
    "# rmse values before EnKF analysis phase\n",
    "ensemble.getEnsembleVarAndRMSEUnderDrifter(t)\n",
    "rmse_eta_pre = ensemble.rmseUnderDrifter_eta\n",
    "rmse_hu_pre  = ensemble.rmseUnderDrifter_hu\n",
    "rmse_hv_pre  = ensemble.rmseUnderDrifter_hv\n"
   ]
  },
  {
   "cell_type": "markdown",
   "metadata": {},
   "source": [
    "# Step-By-Step EnKF in Square Root Formulation"
   ]
  },
  {
   "cell_type": "code",
   "execution_count": null,
   "metadata": {},
   "outputs": [],
   "source": [
    "def deleteDeactivatedObservations(observation, ensemble):\n",
    "    \"\"\"\n",
    "    Delete inactive particles\n",
    "    \"\"\"\n",
    "    idx = 0\n",
    "    for p in range(ensemble.getNumParticles()):\n",
    "        if ensemble.particlesActive[p]:\n",
    "            idx+=1\n",
    "        elif not ensemble.particlesActive[p]:\n",
    "            observation = np.delete(observation, idx, axis=0)\n",
    "    return observation"
   ]
  },
  {
   "cell_type": "markdown",
   "metadata": {},
   "source": [
    "## Calculate $S = H X'_f$"
   ]
  },
  {
   "cell_type": "code",
   "execution_count": null,
   "metadata": {},
   "outputs": [],
   "source": [
    "\"\"\"\n",
    "Particles are observed in the following form:\n",
    "[\n",
    "particle 1:  [hu_1, hv_1], ... , [hu_D, hv_D],\n",
    "...\n",
    "particle Ne: [hu_1, hv_1], ... , [hu_D, hv_D]\n",
    "]\n",
    "\n",
    "In order to bring it in accordance with later data structure we use the following format for the storage of the perturbation of the observation:\n",
    "[\n",
    "[hu_1 (particle 1), ..., hu_1 (particle Ne)],\n",
    "...\n",
    "[hu_D (particle 1), ..., hu_D (particle Ne)],\n",
    "[hv_1 (particle 1), ..., hv_1 (particle Ne)],\n",
    "...\n",
    "[hv_D (particle 1), ..., hv_D (particle Ne)],\n",
    "]\n",
    "\n",
    "\"\"\"\n",
    "\n",
    "# Observation \n",
    "HX_f_orig = ensemble.observeParticles()\n",
    "\n",
    "HX_f_orig = deleteDeactivatedObservations(HX_f_orig, ensemble)\n",
    "\n",
    "# Reshaping\n",
    "HX_f = np.zeros( (2*N_d, N_e_active) )\n",
    "for e in range(N_e_active):\n",
    "    for l in range(N_d):\n",
    "        HX_f[l,e]     = HX_f_orig[e,l,0]\n",
    "    for l in range(N_d):\n",
    "        HX_f[N_d+l,e] = HX_f_orig[e,l,1]\n",
    "\n",
    "HX_f_mean = np.zeros_like(HX_f)\n",
    "for e in range(N_e_active):\n",
    "    HX_f_mean = 1/N_e * HX_f[:,e]\n",
    "\n",
    "HX_f_pert = HX_f - HX_f_mean.reshape((2*N_d,1))\n",
    "\n"
   ]
  },
  {
   "cell_type": "markdown",
   "metadata": {},
   "source": [
    "## Calculate $SS^\\top = HPH^\\top$ "
   ]
  },
  {
   "cell_type": "code",
   "execution_count": null,
   "metadata": {},
   "outputs": [],
   "source": [
    "\n",
    "HPHT = 1/(N_e_active-1) * np.dot(HX_f_pert,HX_f_pert.T)\n"
   ]
  },
  {
   "cell_type": "markdown",
   "metadata": {},
   "source": [
    "## Calculate $F = HPH^\\top + R$"
   ]
  },
  {
   "cell_type": "code",
   "execution_count": null,
   "metadata": {},
   "outputs": [],
   "source": [
    "R_orig = ensemble.getObservationCov()\n",
    "\n",
    "R = np.zeros( (R_orig.shape[0]*N_d, R_orig.shape[1]*N_d) )\n",
    "\n",
    "for l in range(N_d):\n",
    "    R[l,l] = R_orig[0,0]\n",
    "    R[N_d+l, N_d+l] = R_orig[1,1]\n",
    "    R[l,N_d+l] = R_orig[0,1]\n",
    "    R[N_d+l,l] = R_orig[1,0]\n",
    "\n",
    "F = HPHT + R"
   ]
  },
  {
   "cell_type": "markdown",
   "metadata": {},
   "source": [
    "### Comparison of Cov for error of observing the state ($HPH^\\top$) and Cov for error of observation ($R$)"
   ]
  },
  {
   "cell_type": "code",
   "execution_count": null,
   "metadata": {},
   "outputs": [
    {
     "name": "stdout",
     "output_type": "stream",
     "text": [
      "R = \n",
      " [[0.0004 0.    ]\n",
      " [0.     0.0004]] \n",
      "and HPHT = \n",
      " [[ 3.23132081 -3.04175546]\n",
      " [-3.04175546  4.49247002]]\n"
     ]
    }
   ],
   "source": [
    "print(\"R = \\n\", R, \"\\nand HPHT = \\n\", HPHT)"
   ]
  },
  {
   "cell_type": "markdown",
   "metadata": {},
   "source": [
    "## Calculate Innovation $D = Y - HX_f$ \n",
    "## and perturb $D=D+Y'$"
   ]
  },
  {
   "cell_type": "code",
   "execution_count": null,
   "metadata": {},
   "outputs": [],
   "source": [
    "\"\"\"\n",
    "Particles yield innovations in the following form:\n",
    "[\n",
    "particle 1:  [hu_1, hv_1], ... , [hu_D, hv_D],\n",
    "...\n",
    "particle Ne: [hu_1, hv_1], ... , [hu_D, hv_D]\n",
    "]\n",
    "\n",
    "In order to bring it in accordance with later data structure we use the following format for the storage of the perturbation of the observation:\n",
    "[\n",
    "[d_hu_1 (particle 1), ..., d_hu_1 (particle Ne)],\n",
    "...\n",
    "[d_hu_D (particle 1), ..., d_hu_D (particle Ne)],\n",
    "[d_hv_1 (particle 1), ..., d_hv_1 (particle Ne)],\n",
    "...\n",
    "[d_hv_D (particle 1), ..., d_hv_D (particle Ne)],\n",
    "]\n",
    "\n",
    "\"\"\"\n",
    "\n",
    "innovation_orig = ensemble.getInnovations()[:,:,:]\n",
    "\n",
    "innovation_orig = deleteDeactivatedObservations(innovation_orig, ensemble)\n",
    "\n",
    "# Reshaping\n",
    "innovation = np.zeros( (2*N_d, N_e_active) )\n",
    "for e in range(N_e_active):\n",
    "    for l in range(N_d):\n",
    "        innovation[l,e]     = innovation_orig[e,l,0]\n",
    "    for l in range(N_d):\n",
    "        innovation[N_d+l,e] = innovation_orig[e,l,1]\n",
    "\n",
    "Y_pert = np.random.multivariate_normal(np.zeros(2*N_d),R ,N_e_active).T\n",
    "\n",
    "D = innovation + Y_pert\n"
   ]
  },
  {
   "cell_type": "markdown",
   "metadata": {},
   "source": [
    "## Calculate $C = F^{-1}D$"
   ]
  },
  {
   "cell_type": "code",
   "execution_count": null,
   "metadata": {},
   "outputs": [],
   "source": [
    "Finv = np.linalg.inv(F)\n",
    "C = np.dot(Finv,D)"
   ]
  },
  {
   "cell_type": "markdown",
   "metadata": {},
   "source": [
    "## Calculate $E=S^\\top C$\n"
   ]
  },
  {
   "cell_type": "code",
   "execution_count": null,
   "metadata": {},
   "outputs": [],
   "source": [
    "E = np.dot(HX_f_pert.T,C)"
   ]
  },
  {
   "cell_type": "markdown",
   "metadata": {},
   "source": [
    "## Calculate $X'_f = X_f - \\overline{X_f}$ "
   ]
  },
  {
   "cell_type": "code",
   "execution_count": null,
   "metadata": {},
   "outputs": [],
   "source": [
    "\"\"\"\n",
    "The download gives eta = \n",
    "[\n",
    "[eta(x0,y0),...,eta(xN,y0)],\n",
    "...,\n",
    "[eta(x0,yN),...,eta(xN,yN)]\n",
    "]\n",
    "as an array of size Ny x Nx\n",
    "and analog for hu and hv.\n",
    "we use those as an 1D array eta = \n",
    "[eta(x0,y0),...,eta(xN,y0),eta(x0,y1),...,eta(xN,y(N-1)),eta(x0,yN),...,eta(xN,yN)]\n",
    "and anlog for hu and hv \n",
    "\n",
    "For further calculations the indivdual dimensions of the state variable are concatinated X = \n",
    "[eta, hu, hv]\n",
    "\n",
    "Collecting the state perturbation for each ensemble member in a matrix Nx x Ne, where\n",
    "X_f_pert = \n",
    "[ \n",
    "[eta_pert(x0,y0) (particle 1),..., eta_pert],\n",
    "...\n",
    "particle 2: [eta_pert,hu_pert,hv_pert]\n",
    "]\n",
    "\"\"\"\n",
    "\n",
    "# Ghost cells added \n",
    "n_i = ensemble.particles[0].ny + 4 \n",
    "n_j = ensemble.particles[0].nx + 4\n",
    "\n",
    "X_f = np.zeros((3*n_i*n_j, N_e_active))\n",
    "idx = 0\n",
    "for e in range(N_e):\n",
    "    if ensemble.particlesActive[e]:\n",
    "        eta, hu, hv = ensemble.particles[e].download(interior_domain_only=False)\n",
    "        eta = eta.reshape(n_i*n_j)\n",
    "        hu  = hu.reshape(n_i*n_j)\n",
    "        hv  = hv.reshape(n_i*n_j)\n",
    "        X_f[:,idx] = np.append(eta, np.append(hu,hv))\n",
    "        idx += 1\n",
    "\n",
    "X_f_mean = np.zeros( 3*n_i*n_j )\n",
    "for e in range(N_e_active):\n",
    "    X_f_mean += 1/N_e_active * X_f[:,e]\n",
    "\n",
    "X_f_pert = np.zeros_like( X_f )\n",
    "for e in range(N_e_active):\n",
    "    X_f_pert[:,e] = X_f[:,e] - X_f_mean\n",
    " "
   ]
  },
  {
   "cell_type": "markdown",
   "metadata": {
    "tags": []
   },
   "source": [
    "## Calculate $X_a$\n"
   ]
  },
  {
   "cell_type": "code",
   "execution_count": null,
   "metadata": {},
   "outputs": [],
   "source": [
    "X_a = X_f + 1/(N_e_active-1) * np.dot(X_f_pert,E)"
   ]
  },
  {
   "cell_type": "markdown",
   "metadata": {},
   "source": [
    "## Reshape and upload analysis state"
   ]
  },
  {
   "cell_type": "code",
   "execution_count": null,
   "metadata": {},
   "outputs": [],
   "source": [
    "idx = 0\n",
    "for e in range(N_e):\n",
    "    if ensemble.particlesActive[e]:\n",
    "        eta = X_a[0:n_i*n_j, idx].reshape((n_i,n_j))\n",
    "        hu  = X_a[n_i*n_j:2*n_i*n_j, idx].reshape((n_i,n_j))\n",
    "        hv  = X_a[2*n_i*n_j:3*n_i*n_j, idx].reshape((n_i,n_j))\n",
    "        ensemble.particles[e].upload(eta,hu,hv)\n",
    "        idx += 1\n"
   ]
  },
  {
   "cell_type": "markdown",
   "metadata": {},
   "source": [
    "# Plotting Utils"
   ]
  },
  {
   "cell_type": "code",
   "execution_count": null,
   "metadata": {},
   "outputs": [],
   "source": [
    "def _fillPolarPlot(ax, ensemble, observedParticles, alpha, printInfo=False):\n",
    "    \"\"\"\n",
    "    Internal utility function for plotting current under a drifter as a polar plot.\n",
    "    \"\"\"\n",
    "    max_r = 0\n",
    "    observedParticlesSingleDrifter = observedParticles[:, 0, :]\n",
    "    if printInfo: print(\"observedParticlesSingleDrifter: \\n\" +str(observedParticlesSingleDrifter))\n",
    "    for p in range(ensemble.getNumParticles()):\n",
    "        u, v = observedParticlesSingleDrifter[p,0], observedParticlesSingleDrifter[p,1]\n",
    "        r = np.sqrt(u**2 + v**2)\n",
    "        max_r = max(max_r, r)\n",
    "        theta = np.arctan(v/u)\n",
    "        if (u < 0):\n",
    "            theta += np.pi\n",
    "        arr1 = plt.arrow(theta, 0, 0, r, alpha = alpha, \\\n",
    "                         length_includes_head=True, \\\n",
    "                         edgecolor = 'green', facecolor = 'green', zorder = 5)\n",
    "\n",
    "    obs_u = ensemble.observeTrueState()[0, 2]\n",
    "    obs_v = ensemble.observeTrueState()[0, 3]\n",
    "    if printInfo: print(\"observedTrueState: \" + str((obs_u, obs_v)))\n",
    "    obs_r = np.sqrt(obs_u**2 + obs_v**2)\n",
    "    max_r = max(max_r, obs_r)\n",
    "    obs_theta = np.arctan(obs_v/obs_u)\n",
    "    if (obs_u < 0):\n",
    "        obs_theta += np.pi\n",
    "    arr1 = plt.arrow(obs_theta, 0, 0, obs_r, alpha = 0.5,\\\n",
    "                     length_includes_head=True, \\\n",
    "                     edgecolor = 'red', facecolor = 'red', zorder = 5)\n",
    "\n",
    "    ax.set_rmax(max_r*1.2)\n",
    "    plt.grid(True)\n",
    "    plt.title(\"Momentum observations from drifter\")\n",
    "\n",
    "\n",
    "def _fillHistPlot(ax, ensemble, innovationNorms, alpha, printInfo=False):\n",
    "    if printInfo: print(\"innovation norms: \" + str(innovationNorms))\n",
    "    obs_var = ensemble.getObservationVariance()\n",
    "    range_x = np.sqrt(obs_var)*500\n",
    "    ax.hist(innovationNorms, bins=30, facecolor='green', \\\n",
    "                range=(0, range_x), alpha=alpha,\\\n",
    "                density=True, label=\"particle innovations (norm)\")\n",
    "    plt.title(\"Innovation norms from drifter\")\n",
    "\n",
    "\n",
    "def plotVelocityInfoBeforeAndAfterDA(ensemble, observedParticles, innovationNorms, observedParticles_pre=None, innovationNorms_pre=None, title=None) :\n",
    "\n",
    "    # Initialize File\n",
    "    fig = None\n",
    "    plotRows = 2\n",
    "    fig = plt.figure(figsize=(10,6))\n",
    "    gridspec.GridSpec(plotRows, 3)\n",
    "\n",
    "    # PLOT POSITIONS OF PARTICLES AND OBSERVATIONS\n",
    "    ax = plt.subplot2grid((plotRows,3), (0,0), polar=True)\n",
    "    _fillPolarPlot(ax, ensemble, observedParticles, 0.5, printInfo=False)\n",
    "    if observedParticles_pre is not None:\n",
    "        _fillPolarPlot(ax, ensemble, observedParticles_pre, 0.1, printInfo=False)\n",
    "\n",
    "    # PLOT DISCTRIBUTION OF PARTICLE DISTANCES AND THEORETIC OBSERVATION PDF\n",
    "    ax0 = plt.subplot2grid((plotRows,3), (0,1), colspan=2)\n",
    "    _fillHistPlot(ax0, ensemble, innovationNorms, 0.5, printInfo=False)\n",
    "    if innovationNorms_pre is not None:\n",
    "        _fillHistPlot(ax0, ensemble, innovationNorms_pre, 0.1, printInfo=False)\n",
    "\n",
    "    if title is not None:\n",
    "        plt.suptitle(title, fontsize=16)\n",
    "    plt.tight_layout()\n",
    "\n",
    "# ------------------------------------------------------------------------\n",
    "\n",
    "def _fillHistComponentPlot(ax, ensemble, observedParticles, component, alpha, markTruth=False, subtitle=None):\n",
    "    true_component = ensemble.observeTrueState()[0,2+component]\n",
    "    range_x = 5\n",
    "    ax.hist(observedParticles[:,0][:,component], bins=50, facecolor='green', \\\n",
    "        range=(true_component-range_x,true_component+range_x), \\\n",
    "        alpha=alpha, density=True)\n",
    "    if markTruth is True:\n",
    "        ax.axvline(true_component, color='green', linestyle='dashed', linewidth=1)\n",
    "    if subtitle is not None:\n",
    "        ax.title.set_text(subtitle)\n",
    "\n",
    "\n",
    "def plotVelocityComponentInfoBeforeAndAfterDA(ensemble, observedParticles, observedParticles_pre=None, title=None):\n",
    "    fig = None\n",
    "    fig, axs = plt.subplots(1, 2, figsize=(10,3))\n",
    "    # hist for hu\n",
    "    subtitle = \"$hu$ distribution for ensemble\"\n",
    "    _fillHistComponentPlot(axs[0], ensemble, observedParticles, 0, 0.5, markTruth=True, subtitle=subtitle)\n",
    "    if observedParticles_pre is not None:\n",
    "        _fillHistComponentPlot(axs[0], ensemble, observedParticles_pre, 0, 0.1)\n",
    "    # hist for hv\n",
    "    subtitle = \"$hv$ distribution for ensemble\"\n",
    "    _fillHistComponentPlot(axs[1], ensemble, observedParticles, 1, 0.5, markTruth=True, subtitle=subtitle)\n",
    "    if observedParticles_pre is not None:\n",
    "        _fillHistComponentPlot(axs[1], ensemble, observedParticles_pre, 1, 0.1)\n",
    "\n"
   ]
  },
  {
   "cell_type": "markdown",
   "metadata": {},
   "source": [
    "# Plot circular diagram and histogram"
   ]
  },
  {
   "cell_type": "code",
   "execution_count": null,
   "metadata": {},
   "outputs": [
    {
     "data": {
      "image/png": "[encoded data removed]",
      "text/plain": [
       "<Figure size 720x432 with 2 Axes>"
      ]
     },
     "metadata": {
      "image/png": {
       "height": 256,
       "width": 707
      },
      "needs_background": "light"
     },
     "output_type": "display_data"
    },
    {
     "data": {
      "image/png": "[encoded data removed]",
      "text/plain": [
       "<Figure size 720x216 with 2 Axes>"
      ]
     },
     "metadata": {
      "image/png": {
       "height": 209,
       "width": 595
      },
      "needs_background": "light"
     },
     "output_type": "display_data"
    }
   ],
   "source": [
    "# Download Data from Simulators\n",
    "observedParticles = ensemble.observeParticles()\n",
    "innovationNorms = ensemble.getInnovationNorms()\n",
    "\n",
    "title = \"Comparision of forecast (transparent) and analysis (opaque) states\"\n",
    "plotVelocityInfoBeforeAndAfterDA(ensemble, observedParticles, innovationNorms, observedParticles_pre, innovationNorms_pre, title)\n",
    "\n",
    "title = \"Comparision of forecast (transparent) and analysis (opaque) states for velocity components\"\n",
    "plotVelocityComponentInfoBeforeAndAfterDA(ensemble, observedParticles, observedParticles_pre, title)"
   ]
  },
  {
   "cell_type": "markdown",
   "metadata": {},
   "source": [
    "## Compare norms of particles before and after assimilation "
   ]
  },
  {
   "cell_type": "code",
   "execution_count": null,
   "metadata": {},
   "outputs": [
    {
     "name": "stdout",
     "output_type": "stream",
     "text": [
      "norm before EnKF:  0.090766  and norm after EnKF:  1.710677\n",
      "norm before EnKF:  2.522436  and norm after EnKF:  3.009118\n",
      "norm before EnKF:  nan  and norm after EnKF:  nan\n",
      "norm before EnKF:  3.610032  and norm after EnKF:  3.519184\n",
      "norm before EnKF:  1.626787  and norm after EnKF:  2.363295\n",
      "norm before EnKF:  3.768055  and norm after EnKF:  3.951904\n",
      "norm before EnKF:  1.772641  and norm after EnKF:  2.505422\n",
      "norm before EnKF:  nan  and norm after EnKF:  nan\n",
      "norm before EnKF:  1.656453  and norm after EnKF:  2.298812\n",
      "norm before EnKF:  2.157450  and norm after EnKF:  2.733136\n",
      "norm before EnKF:  2.325807  and norm after EnKF:  2.866259\n",
      "norm before EnKF:  2.891223  and norm after EnKF:  2.731532\n",
      "norm before EnKF:  2.134495  and norm after EnKF:  2.401089\n",
      "norm before EnKF:  1.745994  and norm after EnKF:  2.459337\n",
      "norm before EnKF:  2.244066  and norm after EnKF:  2.709653\n",
      "norm before EnKF:  3.138722  and norm after EnKF:  3.236793\n",
      "norm before EnKF:  3.648886  and norm after EnKF:  3.706536\n",
      "norm before EnKF:  3.103758  and norm after EnKF:  3.219293\n",
      "norm before EnKF:  3.994641  and norm after EnKF:  4.091961\n",
      "norm before EnKF:  3.300686  and norm after EnKF:  3.459503\n",
      "norm before EnKF:  2.300814  and norm after EnKF:  2.169875\n",
      "norm before EnKF:  2.411878  and norm after EnKF:  2.912387\n",
      "norm before EnKF:  2.489445  and norm after EnKF:  2.978130\n",
      "norm before EnKF:  2.462804  and norm after EnKF:  2.976400\n",
      "norm before EnKF:  2.008424  and norm after EnKF:  2.653706\n",
      "norm before EnKF:  1.247388  and norm after EnKF:  2.075596\n",
      "norm before EnKF:  4.333406  and norm after EnKF:  4.409998\n",
      "norm before EnKF:  2.333068  and norm after EnKF:  2.818464\n",
      "norm before EnKF:  2.901982  and norm after EnKF:  3.266547\n",
      "norm before EnKF:  2.436430  and norm after EnKF:  2.889495\n",
      "norm before EnKF:  3.091167  and norm after EnKF:  3.453348\n",
      "norm before EnKF:  2.469864  and norm after EnKF:  2.967420\n",
      "norm before EnKF:  3.528347  and norm after EnKF:  3.640723\n",
      "norm before EnKF:  1.779206  and norm after EnKF:  2.424009\n",
      "norm before EnKF:  3.791914  and norm after EnKF:  3.973293\n",
      "norm before EnKF:  1.812878  and norm after EnKF:  2.484069\n",
      "norm before EnKF:  2.349645  and norm after EnKF:  2.866684\n",
      "norm before EnKF:  3.912911  and norm after EnKF:  4.042058\n",
      "norm before EnKF:  2.540490  and norm after EnKF:  2.899632\n",
      "norm before EnKF:  4.309231  and norm after EnKF:  4.395466\n",
      "norm before EnKF:  2.778537  and norm after EnKF:  3.139372\n",
      "norm before EnKF:  3.135337  and norm after EnKF:  3.437675\n",
      "norm before EnKF:  2.610122  and norm after EnKF:  3.063524\n",
      "norm before EnKF:  1.744046  and norm after EnKF:  2.450801\n",
      "norm before EnKF:  3.250946  and norm after EnKF:  3.576575\n",
      "norm before EnKF:  2.886069  and norm after EnKF:  3.270154\n",
      "norm before EnKF:  2.475905  and norm after EnKF:  2.901635\n",
      "norm before EnKF:  1.945392  and norm after EnKF:  2.301373\n",
      "norm before EnKF:  2.596691  and norm after EnKF:  2.788971\n",
      "norm before EnKF:  2.052580  and norm after EnKF:  2.669051\n",
      "norm before EnKF:  3.814695  and norm after EnKF:  3.865895\n",
      "norm before EnKF:  3.169395  and norm after EnKF:  3.109602\n",
      "norm before EnKF:  2.361798  and norm after EnKF:  2.869125\n",
      "norm before EnKF:  3.135595  and norm after EnKF:  3.483338\n",
      "norm before EnKF:  2.619643  and norm after EnKF:  3.058231\n",
      "norm before EnKF:  2.989192  and norm after EnKF:  3.157079\n",
      "norm before EnKF:  3.754386  and norm after EnKF:  3.925224\n",
      "norm before EnKF:  1.085893  and norm after EnKF:  1.882925\n",
      "norm before EnKF:  1.849565  and norm after EnKF:  2.413778\n",
      "norm before EnKF:  1.048303  and norm after EnKF:  2.043274\n",
      "norm before EnKF:  2.273078  and norm after EnKF:  2.307975\n",
      "norm before EnKF:  2.942507  and norm after EnKF:  3.281480\n",
      "norm before EnKF:  3.838742  and norm after EnKF:  4.030685\n",
      "norm before EnKF:  2.114471  and norm after EnKF:  2.178589\n",
      "norm before EnKF:  2.678927  and norm after EnKF:  3.105309\n",
      "norm before EnKF:  1.796328  and norm after EnKF:  2.254464\n",
      "norm before EnKF:  3.114961  and norm after EnKF:  3.468600\n",
      "norm before EnKF:  2.525047  and norm after EnKF:  2.932977\n",
      "norm before EnKF:  3.123130  and norm after EnKF:  3.223522\n",
      "norm before EnKF:  3.189914  and norm after EnKF:  3.072873\n",
      "norm before EnKF:  0.928544  and norm after EnKF:  1.769728\n",
      "norm before EnKF:  1.347491  and norm after EnKF:  1.932869\n",
      "norm before EnKF:  3.185895  and norm after EnKF:  3.493051\n",
      "norm before EnKF:  1.696858  and norm after EnKF:  2.181065\n",
      "norm before EnKF:  2.320425  and norm after EnKF:  2.653332\n",
      "norm before EnKF:  3.024875  and norm after EnKF:  3.396186\n",
      "norm before EnKF:  3.404223  and norm after EnKF:  3.611541\n",
      "norm before EnKF:  4.660156  and norm after EnKF:  4.472928\n",
      "norm before EnKF:  2.257151  and norm after EnKF:  2.774153\n",
      "norm before EnKF:  3.546319  and norm after EnKF:  3.708401\n",
      "norm before EnKF:  1.723451  and norm after EnKF:  2.398108\n",
      "norm before EnKF:  2.601982  and norm after EnKF:  2.276660\n",
      "norm before EnKF:  3.175641  and norm after EnKF:  3.398997\n",
      "norm before EnKF:  2.618819  and norm after EnKF:  3.045433\n",
      "norm before EnKF:  1.884999  and norm after EnKF:  2.483677\n",
      "norm before EnKF:  4.697935  and norm after EnKF:  4.727058\n",
      "norm before EnKF:  1.993820  and norm after EnKF:  2.591040\n",
      "norm before EnKF:  2.398524  and norm after EnKF:  2.928501\n",
      "norm before EnKF:  2.577475  and norm after EnKF:  2.817952\n",
      "norm before EnKF:  3.676517  and norm after EnKF:  3.897475\n",
      "norm before EnKF:  2.317339  and norm after EnKF:  2.850351\n",
      "norm before EnKF:  2.348672  and norm after EnKF:  2.888329\n",
      "norm before EnKF:  4.342702  and norm after EnKF:  4.464595\n",
      "norm before EnKF:  2.661813  and norm after EnKF:  3.112655\n",
      "norm before EnKF:  2.272369  and norm after EnKF:  2.806778\n",
      "norm before EnKF:  2.760988  and norm after EnKF:  3.186361\n",
      "norm before EnKF:  2.864671  and norm after EnKF:  3.273936\n",
      "norm before EnKF:  1.860786  and norm after EnKF:  2.522983\n",
      "norm before EnKF:  3.568095  and norm after EnKF:  3.695196\n",
      "norm before EnKF:  2.744450  and norm after EnKF:  3.151048\n"
     ]
    }
   ],
   "source": [
    "for e in range(N_e):\n",
    "    norm_pre = np.sqrt(np.sum(observedParticles_pre[e,:]**2))\n",
    "    norm = np.sqrt(np.sum(observedParticles[e,:]**2))\n",
    "    print(\"norm before EnKF: \", format(norm_pre, \".6f\"), \" and norm after EnKF: \", format(norm, \".6f\"))"
   ]
  },
  {
   "cell_type": "markdown",
   "metadata": {},
   "source": [
    "# RMSE Analysis"
   ]
  },
  {
   "cell_type": "code",
   "execution_count": null,
   "metadata": {},
   "outputs": [],
   "source": [
    "# rmse values before EnKF analysis phase\n",
    "ensemble.getEnsembleVarAndRMSEUnderDrifter(t)\n",
    "rmse_eta = ensemble.rmseUnderDrifter_eta\n",
    "rmse_hu  = ensemble.rmseUnderDrifter_hu\n",
    "rmse_hv  = ensemble.rmseUnderDrifter_hv"
   ]
  },
  {
   "cell_type": "code",
   "execution_count": null,
   "metadata": {},
   "outputs": [
    {
     "name": "stdout",
     "output_type": "stream",
     "text": [
      "Comparison of RMSE before and after analysis phase\n",
      "\n",
      "RMSE for eta before:  0.01526044162677388  and after:  0.016022334166984308\n",
      "RMSE for hu  before:  1.56711443791775  and after:  0.5174739209744039\n",
      "RMSE for hv  before:  1.3417435191068596  and after:  0.64737320517672\n"
     ]
    }
   ],
   "source": [
    "print(\"Comparison of RMSE before and after analysis phase\\n\")\n",
    "print(\"RMSE for eta before: \", rmse_eta[0], \" and after: \", rmse_eta[1])\n",
    "print(\"RMSE for hu  before: \", rmse_hu[0], \" and after: \", rmse_hu[1])\n",
    "print(\"RMSE for hv  before: \", rmse_hv[0], \" and after: \", rmse_hv[1])"
   ]
  },
  {
   "cell_type": "code",
   "execution_count": null,
   "metadata": {},
   "outputs": [],
   "source": []
  },
  {
   "cell_type": "code",
   "execution_count": null,
   "metadata": {},
   "outputs": [],
   "source": []
  },
  {
   "cell_type": "code",
   "execution_count": null,
   "metadata": {},
   "outputs": [],
   "source": []
  }
 ],
 "metadata": {
  "kernelspec": {
   "display_name": "Python 3.7.8 64-bit ('gpuocean': conda)",
   "metadata": {
    "interpreter": {
     "hash": "33ed7ca3d490b1455ef8763b7de4f413d7a0b0dcbe44e1e5f95f5e2fe69a0829"
    }
   },
   "name": "python3"
  },
  "language_info": {
   "codemirror_mode": {
    "name": "ipython",
    "version": 3
   },
   "file_extension": ".py",
   "mimetype": "text/x-python",
   "name": "python",
   "nbconvert_exporter": "python",
   "pygments_lexer": "ipython3"
  }
 },
 "nbformat": 4,
 "nbformat_minor": 4
}
