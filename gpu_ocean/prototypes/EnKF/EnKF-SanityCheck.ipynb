{
 "cells": [
  {
   "cell_type": "code",
   "execution_count": null,
   "metadata": {},
   "outputs": [],
   "source": [
    "# -*- coding: utf-8 -*-\n",
    "\n",
    "\"\"\"\n",
    "This software is part of GPU Ocean. \n",
    "Copyright (C) 2019 SINTEF Digital\n",
    "\n",
    "This python program is used to set up and run a data-assimilation \n",
    "and drift trajectory forecasting experiment.\n",
    "\n",
    "This program is free software: you can redistribute it and/or modify\n",
    "it under the terms of the GNU General Public License as published by\n",
    "the Free Software Foundation, either version 3 of the License, or\n",
    "(at your option) any later version.\n",
    "\n",
    "This program is distributed in the hope that it will be useful,\n",
    "but WITHOUT ANY WARRANTY; without even the implied warranty of\n",
    "MERCHANTABILITY or FITNESS FOR A PARTICULAR PURPOSE.  See the\n",
    "GNU General Public License for more details.\n",
    "\n",
    "You should have received a copy of the GNU General Public License\n",
    "along with this program.  If not, see <http://www.gnu.org/licenses/>.\n",
    "\"\"\"\n",
    "\n",
    "\n",
    "import sys, os, datetime, time, shutil\n",
    "from importlib import reload \n",
    "import numpy as np\n",
    "\n",
    "%matplotlib inline\n",
    "%config InlineBackend.figure_format = 'retina'\n",
    "import matplotlib\n",
    "from matplotlib import pyplot as plt\n",
    "from matplotlib import rc\n",
    "from matplotlib import gridspec as gridspec\n",
    "\n",
    "#Set large figure sizes\n",
    "rc('figure', figsize=(16.0, 12.0))\n",
    "rc('animation', html='html5')\n",
    "matplotlib.rcParams['contour.negative_linestyle'] = 'solid'\n",
    "\n",
    "current_dir = os.getcwd()\n",
    "\n",
    "if os.path.isdir(os.path.abspath(os.path.join(current_dir, '../../SWESimulators'))):\n",
    "        sys.path.insert(0, os.path.abspath(os.path.join(current_dir, '../../')))\n",
    "\n",
    "from SWESimulators import IPythonMagic\n",
    "from SWESimulators import BaseOceanStateEnsemble, OceanNoiseEnsemble, CDKLM16 \n",
    "from SWESimulators import Common\n",
    "from SWESimulators import DataAssimilationUtils as dautils\n",
    "\n"
   ]
  },
  {
   "cell_type": "code",
   "execution_count": null,
   "metadata": {},
   "outputs": [
    {
     "name": "stderr",
     "output_type": "stream",
     "text": [
      "Registering gpu_ctx in user workspace\n",
      "Global logger already initialized!\n"
     ]
    }
   ],
   "source": [
    "%cuda_context_handler gpu_ctx\n",
    "%setup_logging --out enkf_gpu.log --file_level 15"
   ]
  },
  {
   "cell_type": "markdown",
   "metadata": {},
   "source": [
    "# Set up an instance \n",
    "\n",
    "OceanNoiseEnsemble using CDKLM16-Simulators: The CDKLM16 simulates the SWE on a rotational frame of reference on a small rectangular domain of sixe `dx`$\\times$`dy` with a grid `nx`$\\times$`ny` with periodic boundary conditions. As initial condition, all state variables are 0, what is a steady-state solution (lake at rest).\n",
    "\n",
    "All ensemble members are initialized identically like the truth. Roughly speaking, the truth is simply one of the ensemble members. This is called an \"identical twin experiment\". "
   ]
  },
  {
   "cell_type": "code",
   "execution_count": null,
   "metadata": {},
   "outputs": [
    {
     "name": "stdout",
     "output_type": "stream",
     "text": [
      "q0:  0.00017095320928897472\n",
      "[f, g, H, dt] [0.05, 9.81, 10.0, 0.05]\n",
      "(nx, ny):  (60, 60)\n",
      "max_dt:  0.10096374899148941\n",
      "Ready!\n"
     ]
    }
   ],
   "source": [
    "# DEFINE PARAMETERS\n",
    "\n",
    "sim_args = {\n",
    "    \"gpu_ctx\": gpu_ctx,\n",
    "    \"nx\": 60, \"ny\": 60,\n",
    "    \"dx\": 4.0, \"dy\": 4.0,\n",
    "    \"dt\": 0.05,\n",
    "    \"g\": 9.81,\n",
    "    \"f\": 0.05,\n",
    "    \"coriolis_beta\": 0.0,\n",
    "    \"r\": 0.0,\n",
    "    \"rk_order\": 2,\n",
    "    \"small_scale_perturbation_amplitude\": None,\n",
    "    \"write_netcdf\": False, \n",
    "    #\"small_scale_perturbation\": True,\n",
    "    \"small_scale_perturbation_interpolation_factor\": 3,\n",
    "    \"boundary_conditions\": Common.BoundaryConditions(2,2,2,2)\n",
    "}\n",
    "\n",
    "ghosts = np.array([2,2,2,2]) # north, east, south, west\n",
    "validDomain = np.array([2,2,2,2])\n",
    "\n",
    "\n",
    "dataShape = (sim_args[\"ny\"] + ghosts[0]+ghosts[2], \n",
    "             sim_args[\"nx\"] + ghosts[1]+ghosts[3])\n",
    "dataShapeHi = (sim_args[\"ny\"] + ghosts[0]+ghosts[2]+1, \n",
    "             sim_args[\"nx\"] + ghosts[1]+ghosts[3]+1)\n",
    "\n",
    "sim_args[\"eta0\"] = np.zeros(dataShape, dtype=np.float32, order='C');\n",
    "sim_args[\"hv0\"] = np.zeros(dataShape, dtype=np.float32, order='C');\n",
    "sim_args[\"hu0\"] = np.zeros(dataShape, dtype=np.float32, order='C');\n",
    "waterDepth = 10.0\n",
    "sim_args[\"H\"] = np.ones(dataShapeHi, dtype=np.float32, order='C')*waterDepth\n",
    "\n",
    "\n",
    "if 'sim' in globals():\n",
    "    sim.cleanUp()\n",
    "if 'ensemble' in globals():\n",
    "    ensemble.cleanUp()\n",
    "if 'iewpfOcean' in globals():\n",
    "    iewpfOcean.cleanUp()\n",
    "    \n",
    "sim_args[\"small_scale_perturbation_amplitude\"] = np.sqrt(sim_args[\"dt\"])*0.5*sim_args[\"f\"]/(sim_args[\"g\"]*waterDepth)\n",
    "sim_args[\"small_scale_perturbation_amplitude\"] *= sim_args[\"small_scale_perturbation_interpolation_factor\"]\n",
    "print (\"q0: \", sim_args[\"small_scale_perturbation_amplitude\"])\n",
    "print (\"[f, g, H, dt]\", [sim_args[\"f\"], sim_args[\"g\"], waterDepth, sim_args[\"dt\"]])\n",
    "print (\"(nx, ny): \", (sim_args[\"nx\"], sim_args[\"ny\"]))\n",
    "\n",
    "reload(CDKLM16)\n",
    "reload(BaseOceanStateEnsemble)\n",
    "reload(OceanNoiseEnsemble)\n",
    "reload(dautils)\n",
    "\n",
    "sim = CDKLM16.CDKLM16(**sim_args)\n",
    "#sim.perturbState(q0_scale=100)\n",
    "    \n",
    "ensemble_args = {\n",
    "    \"gpu_ctx\": gpu_ctx,\n",
    "    \"numParticles\": 25,\n",
    "    \"num_drifters\": 1,\n",
    "    \"sim\": sim,\n",
    "    #\"observation_type\" : dautils.ObservationType.DirectUnderlyingFlow,\n",
    "    \"observation_type\": dautils.ObservationType.StaticBuoys,\n",
    "    \"buoys_positions\" : [[120.0,120.0]],\n",
    "    \"observation_variance\": 0.02**2,\n",
    "    #\"initialization_variance_factor_ocean_field\" : 25.0,\n",
    "    \"ensemble_small_scale_perturbation\" : True\n",
    "}\n",
    "\n",
    "ensemble = OceanNoiseEnsemble.OceanNoiseEnsemble(**ensemble_args)\n",
    "\n",
    "max_dt = ensemble.findLargestPossibleTimeStep()\n",
    "print (\"max_dt: \", max_dt)\n",
    "\n",
    "print (\"Ready!\")\n",
    "\n"
   ]
  },
  {
   "cell_type": "code",
   "execution_count": null,
   "metadata": {},
   "outputs": [],
   "source": []
  },
  {
   "cell_type": "markdown",
   "metadata": {},
   "source": [
    "# Sanity Check \n",
    "\n",
    "The ensemble is passed to the EnKF class"
   ]
  },
  {
   "cell_type": "code",
   "execution_count": null,
   "metadata": {},
   "outputs": [],
   "source": [
    "sys.path.insert(0, os.getcwd())\n",
    "import EnKFOcean\n",
    "reload(EnKFOcean)\n",
    "\n",
    "EnKFOcean = EnKFOcean.EnKFOcean(ensemble)\n"
   ]
  },
  {
   "cell_type": "markdown",
   "metadata": {},
   "source": [
    "## Evolving the passed ensemble\n"
   ]
  },
  {
   "cell_type": "code",
   "execution_count": null,
   "metadata": {},
   "outputs": [
    {
     "data": {
      "text/plain": [
       "10.0"
      ]
     },
     "execution_count": 14,
     "metadata": {},
     "output_type": "execute_result"
    }
   ],
   "source": [
    "ensemble.step(10.0)\n",
    "\n"
   ]
  },
  {
   "cell_type": "markdown",
   "metadata": {},
   "source": [
    "## Checking original ensemble versus EnKF-memember ensemble\n",
    "\n",
    "Checked for first ensemble memember"
   ]
  },
  {
   "cell_type": "code",
   "execution_count": null,
   "metadata": {},
   "outputs": [
    {
     "name": "stdout",
     "output_type": "stream",
     "text": [
      "Comparison of eta:  [[ True  True  True ...  True  True  True]\n",
      " [ True  True  True ...  True  True  True]\n",
      " [ True  True  True ...  True  True  True]\n",
      " ...\n",
      " [ True  True  True ...  True  True  True]\n",
      " [ True  True  True ...  True  True  True]\n",
      " [ True  True  True ...  True  True  True]]\n",
      "Comparison of hu :  [[ True  True  True ...  True  True  True]\n",
      " [ True  True  True ...  True  True  True]\n",
      " [ True  True  True ...  True  True  True]\n",
      " ...\n",
      " [ True  True  True ...  True  True  True]\n",
      " [ True  True  True ...  True  True  True]\n",
      " [ True  True  True ...  True  True  True]]\n",
      "Comparison of hv :  [[ True  True  True ...  True  True  True]\n",
      " [ True  True  True ...  True  True  True]\n",
      " [ True  True  True ...  True  True  True]\n",
      " ...\n",
      " [ True  True  True ...  True  True  True]\n",
      " [ True  True  True ...  True  True  True]\n",
      " [ True  True  True ...  True  True  True]]\n"
     ]
    }
   ],
   "source": [
    "eta0, hu0, hv0 = ensemble.particles[0].download()\n",
    "\n",
    "eta1, hu1, hv1 = EnKFOcean.ensemble.particles[0].download()\n",
    "\n",
    "print(\"Comparison of eta: \", eta0 == eta1 )\n",
    "print(\"Comparison of hu : \", hu0 == hu1 )\n",
    "print(\"Comparison of hv : \", hv0 == hv1 )\n"
   ]
  },
  {
   "cell_type": "code",
   "execution_count": null,
   "metadata": {},
   "outputs": [],
   "source": []
  }
 ],
 "metadata": {
  "kernelspec": {
   "display_name": "Python 3.7.8 64-bit ('gpuocean': conda)",
   "metadata": {
    "interpreter": {
     "hash": "33ed7ca3d490b1455ef8763b7de4f413d7a0b0dcbe44e1e5f95f5e2fe69a0829"
    }
   },
   "name": "python3"
  },
  "language_info": {
   "codemirror_mode": {
    "name": "ipython",
    "version": 3
   },
   "file_extension": ".py",
   "mimetype": "text/x-python",
   "name": "python",
   "nbconvert_exporter": "python",
   "pygments_lexer": "ipython3"
  }
 },
 "nbformat": 4,
 "nbformat_minor": 4
}
