{
 "cells": [
  {
   "cell_type": "code",
   "execution_count": null,
   "metadata": {},
   "outputs": [],
   "source": [
    "# -*- coding: utf-8 -*-\n",
    "\n",
    "\"\"\"\n",
    "This software is part of GPU Ocean. \n",
    "Copyright (C) 2019 SINTEF Digital\n",
    "\n",
    "This notebook is used to show the individual steps of the ETKF for an ocean ensemble.\n",
    "\n",
    "This program is free software: you can redistribute it and/or modify\n",
    "it under the terms of the GNU General Public License as published by\n",
    "the Free Software Foundation, either version 3 of the License, or\n",
    "(at your option) any later version.\n",
    "\n",
    "This program is distributed in the hope that it will be useful,\n",
    "but WITHOUT ANY WARRANTY; without even the implied warranty of\n",
    "MERCHANTABILITY or FITNESS FOR A PARTICULAR PURPOSE.  See the\n",
    "GNU General Public License for more details.\n",
    "\n",
    "You should have received a copy of the GNU General Public License\n",
    "along with this program.  If not, see <http://www.gnu.org/licenses/>.\n",
    "\"\"\"\n",
    "\n",
    "\n",
    "import sys, os, datetime, time, shutil\n",
    "from importlib import reload \n",
    "import numpy as np\n",
    "\n",
    "%matplotlib inline\n",
    "%config InlineBackend.figure_format = 'retina'\n",
    "import matplotlib\n",
    "from matplotlib import pyplot as plt\n",
    "from matplotlib import rc\n",
    "from matplotlib import gridspec as gridspec\n",
    "\n",
    "#Set large figure sizes\n",
    "rc('figure', figsize=(16.0, 12.0))\n",
    "rc('animation', html='html5')\n",
    "matplotlib.rcParams['contour.negative_linestyle'] = 'solid'\n",
    "\n",
    "current_dir = os.getcwd()\n",
    "\n",
    "if os.path.isdir(os.path.abspath(os.path.join(current_dir, '../../SWESimulators'))):\n",
    "        sys.path.insert(0, os.path.abspath(os.path.join(current_dir, '../../')))\n",
    "\n",
    "from SWESimulators import IPythonMagic\n",
    "from SWESimulators import BaseOceanStateEnsemble, OceanNoiseEnsemble, CDKLM16 \n",
    "from SWESimulators import Common\n",
    "from SWESimulators import DataAssimilationUtils as dautils\n",
    "\n"
   ]
  },
  {
   "cell_type": "code",
   "execution_count": null,
   "metadata": {},
   "outputs": [
    {
     "name": "stderr",
     "output_type": "stream",
     "text": [
      "Console logger using level INFO\n",
      "File logger using level Level 15 to enkf_gpu.log\n",
      "Python version 3.7.8 | packaged by conda-forge | (default, Jul 31 2020, 01:53:57) [MSC v.1916 64 bit (AMD64)]\n"
     ]
    }
   ],
   "source": [
    "%cuda_context_handler gpu_ctx\n",
    "%setup_logging --out enkf_gpu.log --file_level 15"
   ]
  },
  {
   "cell_type": "markdown",
   "metadata": {},
   "source": [
    "# Set up an instance \n",
    "\n",
    "OceanNoiseEnsemble using CDKLM16-Simulators"
   ]
  },
  {
   "cell_type": "code",
   "execution_count": null,
   "metadata": {},
   "outputs": [
    {
     "name": "stdout",
     "output_type": "stream",
     "text": [
      "q0:  0.00017095320928897472\n",
      "[f, g, H, dt] [0.05, 9.81, 10.0, 0.05]\n",
      "(nx, ny):  (60, 60)\n",
      "max_dt:  0.08760901540517807\n",
      "Ready!\n"
     ]
    }
   ],
   "source": [
    "# DEFINE PARAMETERS\n",
    "\n",
    "sim_args = {\n",
    "    \"gpu_ctx\": gpu_ctx,\n",
    "    \"nx\": 60, \"ny\": 60,\n",
    "    \"dx\": 4.0, \"dy\": 4.0,\n",
    "    \"dt\": 0.05,\n",
    "    \"g\": 9.81,\n",
    "    \"f\": 0.05,\n",
    "    \"coriolis_beta\": 0.0,\n",
    "    \"r\": 0.0,\n",
    "    \"rk_order\": 2,\n",
    "    \"small_scale_perturbation_amplitude\": None,\n",
    "    \"write_netcdf\": False, \n",
    "    \"small_scale_perturbation\": True,\n",
    "    \"small_scale_perturbation_interpolation_factor\": 3,\n",
    "    \"boundary_conditions\": Common.BoundaryConditions(2,2,2,2)\n",
    "}\n",
    "\n",
    "ghosts = np.array([2,2,2,2]) # north, east, south, west\n",
    "validDomain = np.array([2,2,2,2])\n",
    "\n",
    "\n",
    "dataShape = (sim_args[\"ny\"] + ghosts[0]+ghosts[2], \n",
    "             sim_args[\"nx\"] + ghosts[1]+ghosts[3])\n",
    "dataShapeHi = (sim_args[\"ny\"] + ghosts[0]+ghosts[2]+1, \n",
    "             sim_args[\"nx\"] + ghosts[1]+ghosts[3]+1)\n",
    "\n",
    "sim_args[\"eta0\"] = np.zeros(dataShape, dtype=np.float32, order='C');\n",
    "sim_args[\"hv0\"] = np.zeros(dataShape, dtype=np.float32, order='C');\n",
    "sim_args[\"hu0\"] = np.zeros(dataShape, dtype=np.float32, order='C');\n",
    "waterDepth = 10.0\n",
    "sim_args[\"H\"] = np.ones(dataShapeHi, dtype=np.float32, order='C')*waterDepth\n",
    "\n",
    "\n",
    "if 'sim' in globals():\n",
    "    sim.cleanUp()\n",
    "if 'ensemble' in globals():\n",
    "    ensemble.cleanUp()\n",
    "if 'iewpfOcean' in globals():\n",
    "    iewpfOcean.cleanUp()\n",
    "    \n",
    "sim_args[\"small_scale_perturbation_amplitude\"] = np.sqrt(sim_args[\"dt\"])*0.5*sim_args[\"f\"]/(sim_args[\"g\"]*waterDepth)\n",
    "sim_args[\"small_scale_perturbation_amplitude\"] *= sim_args[\"small_scale_perturbation_interpolation_factor\"]\n",
    "print (\"q0: \", sim_args[\"small_scale_perturbation_amplitude\"])\n",
    "print (\"[f, g, H, dt]\", [sim_args[\"f\"], sim_args[\"g\"], waterDepth, sim_args[\"dt\"]])\n",
    "print (\"(nx, ny): \", (sim_args[\"nx\"], sim_args[\"ny\"]))\n",
    "\n",
    "reload(CDKLM16)\n",
    "reload(BaseOceanStateEnsemble)\n",
    "reload(OceanNoiseEnsemble)\n",
    "reload(dautils)\n",
    "\n",
    "sim = CDKLM16.CDKLM16(**sim_args)\n",
    "sim.perturbState(q0_scale=100)\n",
    "    \n",
    "ensemble_args = {\n",
    "    \"gpu_ctx\": gpu_ctx,\n",
    "    \"numParticles\": 100,\n",
    "    \"num_drifters\": 2,\n",
    "    \"sim\": sim,\n",
    "    \"observation_type\": dautils.ObservationType.StaticBuoys,\n",
    "    \"buoys_positions\" : [[120.0,120.0],[60.0,60.0]],\n",
    "    \"observation_variance\": 0.5**2,\n",
    "    \"initialization_variance_factor_ocean_field\" : 25.0\n",
    "}\n",
    "\n",
    "ensemble = OceanNoiseEnsemble.OceanNoiseEnsemble(**ensemble_args)\n",
    "\n",
    "max_dt = ensemble.findLargestPossibleTimeStep()\n",
    "print (\"max_dt: \", max_dt)\n",
    "\n",
    "print (\"Ready!\")"
   ]
  },
  {
   "cell_type": "markdown",
   "metadata": {},
   "source": [
    "# Run Simulation until Observation Time"
   ]
  },
  {
   "cell_type": "code",
   "execution_count": null,
   "metadata": {},
   "outputs": [
    {
     "name": "stdout",
     "output_type": "stream",
     "text": [
      "Ready!\n"
     ]
    }
   ],
   "source": [
    "t = 100*sim_args[\"dt\"]\n",
    "ensemble.step(t)\n",
    "\n",
    "print(\"Ready!\")"
   ]
  },
  {
   "cell_type": "markdown",
   "metadata": {},
   "source": [
    "# Book keeping"
   ]
  },
  {
   "cell_type": "code",
   "execution_count": null,
   "metadata": {},
   "outputs": [],
   "source": [
    "# Deactivating some particles for testing\n",
    "ensemble.particlesActive[2]=False\n",
    "ensemble.particlesActive[7]=False"
   ]
  },
  {
   "cell_type": "code",
   "execution_count": null,
   "metadata": {},
   "outputs": [],
   "source": [
    "# Size of ensemble\n",
    "N_e = ensemble.getNumParticles()\n",
    "N_e_active = ensemble.getNumActiveParticles()\n",
    "\n",
    "# Number of observers\n",
    "N_d = ensemble.getNumDrifters()\n",
    "\n",
    "# particle properties before EnKF analysis phase\n",
    "observedParticles_pre = ensemble.observeParticles()\n",
    "innovationNorms_pre = ensemble.getInnovationNorms()\n",
    "\n",
    "# rmse values before EnKF analysis phase\n",
    "ensemble.getEnsembleVarAndRMSEUnderDrifter(t)\n",
    "rmse_eta_pre = ensemble.rmseUnderDrifter_eta\n",
    "rmse_hu_pre  = ensemble.rmseUnderDrifter_hu\n",
    "rmse_hv_pre  = ensemble.rmseUnderDrifter_hv\n"
   ]
  },
  {
   "cell_type": "markdown",
   "metadata": {},
   "source": [
    "# Step-By-Step EnKF in Square Root Formulation"
   ]
  },
  {
   "cell_type": "code",
   "execution_count": null,
   "metadata": {},
   "outputs": [],
   "source": [
    "def deleteDeactivatedObservations(observation, ensemble):\n",
    "    \"\"\"\n",
    "    Delete inactive particles\n",
    "    \"\"\"\n",
    "    idx = 0\n",
    "    for p in range(ensemble.getNumParticles()):\n",
    "        if ensemble.particlesActive[p]:\n",
    "            idx+=1\n",
    "        elif not ensemble.particlesActive[p]:\n",
    "            observation = np.delete(observation, idx, axis=0)\n",
    "    return observation"
   ]
  },
  {
   "cell_type": "markdown",
   "metadata": {},
   "source": [
    "## Calculate $X'_f = X_f - \\overline{X_f}$ "
   ]
  },
  {
   "cell_type": "code",
   "execution_count": null,
   "metadata": {},
   "outputs": [],
   "source": [
    "\"\"\"\n",
    "The download gives eta = \n",
    "[\n",
    "[eta(x0,y0),...,eta(xN,y0)],\n",
    "...,\n",
    "[eta(x0,yN),...,eta(xN,yN)]\n",
    "]\n",
    "as an array of size Ny x Nx\n",
    "and analog for hu and hv.\n",
    "we use those as an 1D array eta = \n",
    "[eta(x0,y0),...,eta(xN,y0),eta(x0,y1),...,eta(xN,y(N-1)),eta(x0,yN),...,eta(xN,yN)]\n",
    "and anlog for hu and hv \n",
    "\n",
    "For further calculations the indivdual dimensions of the state variable are concatinated X = \n",
    "[eta, hu, hv]\n",
    "\n",
    "Collecting the state perturbation for each ensemble member in a matrix Nx x Ne, where\n",
    "X_f_pert = \n",
    "[ \n",
    "[eta_pert(x0,y0) (particle 1),..., eta_pert],\n",
    "...\n",
    "particle 2: [eta_pert,hu_pert,hv_pert]\n",
    "]\n",
    "\"\"\"\n",
    "\n",
    "# Ghost cells added \n",
    "n_i = ensemble.particles[0].ny + 4 \n",
    "n_j = ensemble.particles[0].nx + 4\n",
    "\n",
    "X_f = np.zeros((3*n_i*n_j, N_e_active))\n",
    "idx = 0\n",
    "for e in range(N_e):\n",
    "    if ensemble.particlesActive[e]:\n",
    "        eta, hu, hv = ensemble.particles[e].download(interior_domain_only=False)\n",
    "        eta = eta.reshape(n_i*n_j)\n",
    "        hu  = hu.reshape(n_i*n_j)\n",
    "        hv  = hv.reshape(n_i*n_j)\n",
    "        X_f[:,idx] = np.append(eta, np.append(hu,hv))\n",
    "        idx += 1\n",
    "\n",
    "X_f_mean = np.zeros( 3*n_i*n_j )\n",
    "for e in range(N_e_active):\n",
    "    X_f_mean += 1/N_e_active * X_f[:,e]\n",
    "\n",
    "X_f_pert = np.zeros_like( X_f )\n",
    "for e in range(N_e_active):\n",
    "    X_f_pert[:,e] = X_f[:,e] - X_f_mean\n",
    " "
   ]
  },
  {
   "cell_type": "markdown",
   "metadata": {},
   "source": [
    "## Calculate $S = H X'_f$\n"
   ]
  },
  {
   "cell_type": "code",
   "execution_count": null,
   "metadata": {},
   "outputs": [],
   "source": [
    "\"\"\"\n",
    "Particles are observed in the following form:\n",
    "[\n",
    "particle 1:  [hu_1, hv_1], ... , [hu_D, hv_D],\n",
    "...\n",
    "particle Ne: [hu_1, hv_1], ... , [hu_D, hv_D]\n",
    "]\n",
    "\n",
    "In order to bring it in accordance with later data structure we use the following format for the storage of the perturbation of the observation:\n",
    "[\n",
    "[hu_1 (particle 1), ..., hu_1 (particle Ne)],\n",
    "...\n",
    "[hu_D (particle 1), ..., hu_D (particle Ne)],\n",
    "[hv_1 (particle 1), ..., hv_1 (particle Ne)],\n",
    "...\n",
    "[hv_D (particle 1), ..., hv_D (particle Ne)],\n",
    "]\n",
    "\n",
    "\"\"\"\n",
    "\n",
    "# Observation \n",
    "HX_f_orig = ensemble.observeParticles()\n",
    "\n",
    "HX_f_orig = deleteDeactivatedObservations(HX_f_orig, ensemble)\n",
    "\n",
    "# Reshaping\n",
    "HX_f = np.zeros( (2*N_d, N_e_active) )\n",
    "for e in range(N_e_active):\n",
    "    for l in range(N_d):\n",
    "        HX_f[l,e]     = HX_f_orig[e,l,0]\n",
    "    for l in range(N_d):\n",
    "        HX_f[N_d+l,e] = HX_f_orig[e,l,1]\n",
    "\n",
    "HX_f_mean = 1/N_e_active * np.sum(HX_f, axis=1)\n",
    "\n",
    "HX_f_pert = HX_f - HX_f_mean.reshape((2*N_d,1))\n",
    "\n"
   ]
  },
  {
   "cell_type": "markdown",
   "metadata": {},
   "source": [
    "## Construct $R$"
   ]
  },
  {
   "cell_type": "code",
   "execution_count": null,
   "metadata": {},
   "outputs": [],
   "source": [
    "R_orig = ensemble.getObservationCov()\n",
    "\n",
    "R = np.zeros( (R_orig.shape[0]*N_d, R_orig.shape[1]*N_d) )\n",
    "\n",
    "for l in range(N_d):\n",
    "    R[l,l] = R_orig[0,0]\n",
    "    R[N_d+l, N_d+l] = R_orig[1,1]\n",
    "    R[l,N_d+l] = R_orig[0,1]\n",
    "    R[N_d+l,l] = R_orig[1,0]\n"
   ]
  },
  {
   "cell_type": "markdown",
   "metadata": {},
   "source": [
    "## Calculate $C = R^{-1}HX'_f$"
   ]
  },
  {
   "cell_type": "code",
   "execution_count": null,
   "metadata": {},
   "outputs": [],
   "source": [
    "Rinv =  np.linalg.inv(R)\n",
    "C = np.dot(Rinv, HX_f_pert)"
   ]
  },
  {
   "cell_type": "markdown",
   "metadata": {},
   "source": [
    "## Calculate $A_1 = (N-1) I$"
   ]
  },
  {
   "cell_type": "code",
   "execution_count": null,
   "metadata": {},
   "outputs": [],
   "source": [
    "A1 = (N_e_active - 1) * np.eye(N_e_active)"
   ]
  },
  {
   "cell_type": "markdown",
   "metadata": {},
   "source": [
    "## Calculate $A_2 = A_1 + (HX'_f)^\\top C$"
   ]
  },
  {
   "cell_type": "code",
   "execution_count": null,
   "metadata": {},
   "outputs": [],
   "source": [
    "A2 = A1 + np.dot(HX_f_pert.T, C)"
   ]
  },
  {
   "cell_type": "markdown",
   "metadata": {},
   "source": [
    "## Construct $d$"
   ]
  },
  {
   "cell_type": "code",
   "execution_count": null,
   "metadata": {},
   "outputs": [],
   "source": [
    "d_orig = ensemble.observeTrueState()\n",
    "\n",
    "d = np.zeros( (2*N_d) )\n",
    "for l in range(N_d):\n",
    "    d[l]     = d_orig[l,2]\n",
    "for l in range(N_d):\n",
    "    d[N_d+l] = d_orig[l,3]"
   ]
  },
  {
   "cell_type": "markdown",
   "metadata": {},
   "source": [
    "## Calculate $P = A_2^{-1}$"
   ]
  },
  {
   "cell_type": "code",
   "execution_count": null,
   "metadata": {},
   "outputs": [],
   "source": [
    "P = np.linalg.inv(A2)"
   ]
  },
  {
   "cell_type": "markdown",
   "metadata": {},
   "source": [
    "## Calculate $K = X_f P HX'_f R^{-1}$"
   ]
  },
  {
   "cell_type": "code",
   "execution_count": null,
   "metadata": {},
   "outputs": [],
   "source": [
    "K = np.dot(X_f_pert, np.dot(P,np.dot(HX_f_pert.T,Rinv)))"
   ]
  },
  {
   "cell_type": "markdown",
   "metadata": {},
   "source": [
    "## Calculate $\\bar{x_a} = \\bar{x_f} + K (d-H\\bar{x_f})$"
   ]
  },
  {
   "cell_type": "code",
   "execution_count": null,
   "metadata": {},
   "outputs": [],
   "source": [
    "X_a_mean = X_f_mean + np.dot(K, d-HX_f_mean)"
   ]
  },
  {
   "cell_type": "markdown",
   "metadata": {},
   "source": [
    "## Calculate $X'_a = X_f[(N_e-1)P]^{1/2}$"
   ]
  },
  {
   "cell_type": "code",
   "execution_count": null,
   "metadata": {},
   "outputs": [],
   "source": [
    "sigma, V = np.linalg.eigh((N_e_active-1)*P)\n",
    "X_a_pert = np.dot(X_f_pert, np.dot(V,np.dot(np.diag(np.sqrt(sigma)),V.T)))"
   ]
  },
  {
   "cell_type": "markdown",
   "metadata": {},
   "source": [
    "## Calculate $X_a = \\bar{x_a} + X'_a$"
   ]
  },
  {
   "cell_type": "code",
   "execution_count": null,
   "metadata": {},
   "outputs": [],
   "source": [
    "X_a = X_a_pert \n",
    "for j in range(N_e_active):\n",
    "    X_a[:,j] += X_a_mean"
   ]
  },
  {
   "cell_type": "markdown",
   "metadata": {},
   "source": [
    "## Reshape and upload analysis state"
   ]
  },
  {
   "cell_type": "code",
   "execution_count": null,
   "metadata": {},
   "outputs": [],
   "source": [
    "idx = 0\n",
    "for e in range(N_e):\n",
    "    if ensemble.particlesActive[e]:\n",
    "        eta = X_a[0:n_i*n_j, idx].reshape((n_i,n_j))\n",
    "        hu  = X_a[n_i*n_j:2*n_i*n_j, idx].reshape((n_i,n_j))\n",
    "        hv  = X_a[2*n_i*n_j:3*n_i*n_j, idx].reshape((n_i,n_j))\n",
    "        ensemble.particles[e].upload(eta,hu,hv)\n",
    "        idx += 1\n"
   ]
  },
  {
   "cell_type": "markdown",
   "metadata": {},
   "source": [
    "# Plotting Utils"
   ]
  },
  {
   "cell_type": "code",
   "execution_count": null,
   "metadata": {},
   "outputs": [],
   "source": [
    "def _fillPolarPlot(ax, ensemble, observedParticles, alpha, printInfo=False):\n",
    "    \"\"\"\n",
    "    Internal utility function for plotting current under a drifter as a polar plot.\n",
    "    \"\"\"\n",
    "    max_r = 0\n",
    "    observedParticlesSingleDrifter = observedParticles[:, 0, :]\n",
    "    if printInfo: print(\"observedParticlesSingleDrifter: \\n\" +str(observedParticlesSingleDrifter))\n",
    "    for p in range(ensemble.getNumParticles()):\n",
    "        u, v = observedParticlesSingleDrifter[p,0], observedParticlesSingleDrifter[p,1]\n",
    "        r = np.sqrt(u**2 + v**2)\n",
    "        max_r = max(max_r, r)\n",
    "        theta = np.arctan(v/u)\n",
    "        if (u < 0):\n",
    "            theta += np.pi\n",
    "        arr1 = plt.arrow(theta, 0, 0, r, alpha = alpha, \\\n",
    "                         length_includes_head=True, \\\n",
    "                         edgecolor = 'green', facecolor = 'green', zorder = 5)\n",
    "\n",
    "    obs_u = ensemble.observeTrueState()[0, 2]\n",
    "    obs_v = ensemble.observeTrueState()[0, 3]\n",
    "    if printInfo: print(\"observedTrueState: \" + str((obs_u, obs_v)))\n",
    "    obs_r = np.sqrt(obs_u**2 + obs_v**2)\n",
    "    max_r = max(max_r, obs_r)\n",
    "    obs_theta = np.arctan(obs_v/obs_u)\n",
    "    if (obs_u < 0):\n",
    "        obs_theta += np.pi\n",
    "    arr1 = plt.arrow(obs_theta, 0, 0, obs_r, alpha = 0.5,\\\n",
    "                     length_includes_head=True, \\\n",
    "                     edgecolor = 'red', facecolor = 'red', zorder = 5)\n",
    "\n",
    "    ax.set_rmax(max_r*1.2)\n",
    "    plt.grid(True)\n",
    "    plt.title(\"Momentum observations from drifter\")\n",
    "\n",
    "\n",
    "def _fillHistPlot(ax, ensemble, innovationNorms, alpha, printInfo=False):\n",
    "    if printInfo: print(\"innovation norms: \" + str(innovationNorms))\n",
    "    obs_var = ensemble.getObservationVariance()\n",
    "    range_x = np.sqrt(obs_var)*500\n",
    "    ax.hist(innovationNorms, bins=30, facecolor='green', \\\n",
    "                range=(0, range_x), alpha=alpha,\\\n",
    "                density=True, label=\"particle innovations (norm)\")\n",
    "    plt.title(\"Innovation norms from drifter\")\n",
    "\n",
    "\n",
    "def plotVelocityInfoBeforeAndAfterDA(ensemble, observedParticles, innovationNorms, observedParticles_pre=None, innovationNorms_pre=None, title=None) :\n",
    "\n",
    "    # Initialize File\n",
    "    fig = None\n",
    "    plotRows = 2\n",
    "    fig = plt.figure(figsize=(10,6))\n",
    "    gridspec.GridSpec(plotRows, 3)\n",
    "\n",
    "    # PLOT POSITIONS OF PARTICLES AND OBSERVATIONS\n",
    "    ax = plt.subplot2grid((plotRows,3), (0,0), polar=True)\n",
    "    _fillPolarPlot(ax, ensemble, observedParticles, 0.5, printInfo=False)\n",
    "    if observedParticles_pre is not None:\n",
    "        _fillPolarPlot(ax, ensemble, observedParticles_pre, 0.1, printInfo=False)\n",
    "\n",
    "    # PLOT DISCTRIBUTION OF PARTICLE DISTANCES AND THEORETIC OBSERVATION PDF\n",
    "    ax0 = plt.subplot2grid((plotRows,3), (0,1), colspan=2)\n",
    "    _fillHistPlot(ax0, ensemble, innovationNorms, 0.5, printInfo=False)\n",
    "    if innovationNorms_pre is not None:\n",
    "        _fillHistPlot(ax0, ensemble, innovationNorms_pre, 0.1, printInfo=False)\n",
    "\n",
    "    if title is not None:\n",
    "        plt.suptitle(title, fontsize=16)\n",
    "    plt.tight_layout()\n",
    "\n",
    "# ------------------------------------------------------------------------\n",
    "\n",
    "def _fillHistComponentPlot(ax, ensemble, observedParticles, component, alpha, markTruth=False, subtitle=None):\n",
    "    true_component = ensemble.observeTrueState()[0,2+component]\n",
    "    range_x = 5\n",
    "    ax.hist(observedParticles[:,0][:,component], bins=50, facecolor='green', \\\n",
    "        range=(true_component-range_x,true_component+range_x), \\\n",
    "        alpha=alpha, density=True)\n",
    "    if markTruth is True:\n",
    "        ax.axvline(true_component, color='green', linestyle='dashed', linewidth=1)\n",
    "    if subtitle is not None:\n",
    "        ax.title.set_text(subtitle)\n",
    "\n",
    "\n",
    "def plotVelocityComponentInfoBeforeAndAfterDA(ensemble, observedParticles, observedParticles_pre=None, title=None):\n",
    "    fig = None\n",
    "    fig, axs = plt.subplots(1, 2, figsize=(10,3))\n",
    "    # hist for hu\n",
    "    subtitle = \"$hu$ distribution for ensemble\"\n",
    "    _fillHistComponentPlot(axs[0], ensemble, observedParticles, 0, 0.5, markTruth=True, subtitle=subtitle)\n",
    "    if observedParticles_pre is not None:\n",
    "        _fillHistComponentPlot(axs[0], ensemble, observedParticles_pre, 0, 0.1)\n",
    "    # hist for hv\n",
    "    subtitle = \"$hv$ distribution for ensemble\"\n",
    "    _fillHistComponentPlot(axs[1], ensemble, observedParticles, 1, 0.5, markTruth=True, subtitle=subtitle)\n",
    "    if observedParticles_pre is not None:\n",
    "        _fillHistComponentPlot(axs[1], ensemble, observedParticles_pre, 1, 0.1)\n",
    "\n"
   ]
  },
  {
   "cell_type": "markdown",
   "metadata": {},
   "source": [
    "# Plot circular diagram and histogram"
   ]
  },
  {
   "cell_type": "code",
   "execution_count": null,
   "metadata": {},
   "outputs": [
    {
     "data": {
      "image/png": "[encoded data removed]",
      "text/plain": [
       "<Figure size 720x432 with 2 Axes>"
      ]
     },
     "metadata": {
      "image/png": {
       "height": 256,
       "width": 709
      },
      "needs_background": "light"
     },
     "output_type": "display_data"
    },
    {
     "data": {
      "image/png": "[encoded data removed]",
      "text/plain": [
       "<Figure size 720x216 with 2 Axes>"
      ]
     },
     "metadata": {
      "image/png": {
       "height": 209,
       "width": 595
      },
      "needs_background": "light"
     },
     "output_type": "display_data"
    }
   ],
   "source": [
    "# Download Data from Simulators\n",
    "observedParticles = ensemble.observeParticles()\n",
    "innovationNorms = ensemble.getInnovationNorms()\n",
    "\n",
    "title = \"Comparision of forecast (transparent) and analysis (opaque) states\"\n",
    "plotVelocityInfoBeforeAndAfterDA(ensemble, observedParticles, innovationNorms, observedParticles_pre, innovationNorms_pre, title)\n",
    "\n",
    "title = \"Comparision of forecast (transparent) and analysis (opaque) states for velocity components\"\n",
    "plotVelocityComponentInfoBeforeAndAfterDA(ensemble, observedParticles, observedParticles_pre, title)"
   ]
  },
  {
   "cell_type": "markdown",
   "metadata": {},
   "source": [
    "## Compare norms of particles before and after assimilation "
   ]
  },
  {
   "cell_type": "code",
   "execution_count": null,
   "metadata": {},
   "outputs": [
    {
     "name": "stdout",
     "output_type": "stream",
     "text": [
      "norm before EnKF:  8.360867  and norm after EnKF:  7.841667\n",
      "norm before EnKF:  7.442441  and norm after EnKF:  7.332313\n",
      "norm before EnKF:  nan  and norm after EnKF:  nan\n",
      "norm before EnKF:  9.023296  and norm after EnKF:  7.991532\n",
      "norm before EnKF:  7.009582  and norm after EnKF:  7.056775\n",
      "norm before EnKF:  6.479252  and norm after EnKF:  6.869073\n",
      "norm before EnKF:  9.043186  and norm after EnKF:  8.279371\n",
      "norm before EnKF:  nan  and norm after EnKF:  nan\n",
      "norm before EnKF:  7.682596  and norm after EnKF:  7.207774\n",
      "norm before EnKF:  9.591100  and norm after EnKF:  8.397076\n",
      "norm before EnKF:  7.142455  and norm after EnKF:  7.279359\n",
      "norm before EnKF:  7.961664  and norm after EnKF:  7.514225\n",
      "norm before EnKF:  7.533274  and norm after EnKF:  7.459651\n",
      "norm before EnKF:  7.417397  and norm after EnKF:  7.361920\n",
      "norm before EnKF:  8.573660  and norm after EnKF:  7.986935\n",
      "norm before EnKF:  7.304686  and norm after EnKF:  7.240212\n",
      "norm before EnKF:  7.553477  and norm after EnKF:  7.387931\n",
      "norm before EnKF:  8.192788  and norm after EnKF:  7.715749\n",
      "norm before EnKF:  7.306477  and norm after EnKF:  7.138611\n",
      "norm before EnKF:  8.417511  and norm after EnKF:  7.794351\n",
      "norm before EnKF:  8.630854  and norm after EnKF:  7.946784\n",
      "norm before EnKF:  8.986170  and norm after EnKF:  8.022419\n",
      "norm before EnKF:  7.573561  and norm after EnKF:  7.371042\n",
      "norm before EnKF:  7.935218  and norm after EnKF:  7.564781\n",
      "norm before EnKF:  7.978553  and norm after EnKF:  7.663993\n",
      "norm before EnKF:  8.085125  and norm after EnKF:  7.440344\n",
      "norm before EnKF:  6.708709  and norm after EnKF:  6.744076\n",
      "norm before EnKF:  7.076693  and norm after EnKF:  6.976181\n",
      "norm before EnKF:  6.082031  and norm after EnKF:  6.507603\n",
      "norm before EnKF:  9.463970  and norm after EnKF:  8.192576\n",
      "norm before EnKF:  7.513299  and norm after EnKF:  7.518343\n",
      "norm before EnKF:  9.082213  and norm after EnKF:  7.930176\n",
      "norm before EnKF:  6.604560  and norm after EnKF:  6.928081\n",
      "norm before EnKF:  6.622194  and norm after EnKF:  7.079653\n",
      "norm before EnKF:  8.176977  and norm after EnKF:  7.674282\n",
      "norm before EnKF:  7.855417  and norm after EnKF:  7.324892\n",
      "norm before EnKF:  9.296336  and norm after EnKF:  8.189949\n",
      "norm before EnKF:  7.843221  and norm after EnKF:  7.564257\n",
      "norm before EnKF:  8.553795  and norm after EnKF:  7.775402\n",
      "norm before EnKF:  7.895046  and norm after EnKF:  7.475803\n",
      "norm before EnKF:  8.598141  and norm after EnKF:  7.754385\n",
      "norm before EnKF:  9.195423  and norm after EnKF:  7.783046\n",
      "norm before EnKF:  7.236638  and norm after EnKF:  7.180862\n",
      "norm before EnKF:  8.061384  and norm after EnKF:  7.385402\n",
      "norm before EnKF:  6.482206  and norm after EnKF:  6.857459\n",
      "norm before EnKF:  8.732978  and norm after EnKF:  8.036901\n",
      "norm before EnKF:  7.535683  and norm after EnKF:  7.275088\n",
      "norm before EnKF:  8.782549  and norm after EnKF:  7.913588\n",
      "norm before EnKF:  8.478330  and norm after EnKF:  7.824857\n",
      "norm before EnKF:  7.440456  and norm after EnKF:  7.321433\n",
      "norm before EnKF:  6.982864  and norm after EnKF:  7.047622\n",
      "norm before EnKF:  7.520950  and norm after EnKF:  7.312753\n",
      "norm before EnKF:  6.674960  and norm after EnKF:  6.861446\n",
      "norm before EnKF:  8.866119  and norm after EnKF:  7.794508\n",
      "norm before EnKF:  8.461855  and norm after EnKF:  7.747786\n",
      "norm before EnKF:  7.873725  and norm after EnKF:  7.574013\n",
      "norm before EnKF:  7.624998  and norm after EnKF:  7.413763\n",
      "norm before EnKF:  8.104847  and norm after EnKF:  7.619548\n",
      "norm before EnKF:  9.732675  and norm after EnKF:  8.347769\n",
      "norm before EnKF:  7.149219  and norm after EnKF:  7.173948\n",
      "norm before EnKF:  8.065790  and norm after EnKF:  7.434207\n",
      "norm before EnKF:  9.905484  and norm after EnKF:  8.614659\n",
      "norm before EnKF:  7.537033  and norm after EnKF:  7.039725\n",
      "norm before EnKF:  9.093061  and norm after EnKF:  8.027420\n",
      "norm before EnKF:  7.103568  and norm after EnKF:  7.332939\n",
      "norm before EnKF:  7.647866  and norm after EnKF:  7.097047\n",
      "norm before EnKF:  7.341130  and norm after EnKF:  7.126266\n",
      "norm before EnKF:  6.960936  and norm after EnKF:  7.093251\n",
      "norm before EnKF:  7.585793  and norm after EnKF:  7.483025\n",
      "norm before EnKF:  7.425583  and norm after EnKF:  7.287508\n",
      "norm before EnKF:  7.488089  and norm after EnKF:  7.241252\n",
      "norm before EnKF:  6.767487  and norm after EnKF:  7.085193\n",
      "norm before EnKF:  7.457805  and norm after EnKF:  7.262189\n",
      "norm before EnKF:  7.429912  and norm after EnKF:  7.365570\n",
      "norm before EnKF:  8.081083  and norm after EnKF:  7.246748\n",
      "norm before EnKF:  7.971931  and norm after EnKF:  7.539144\n",
      "norm before EnKF:  7.524030  and norm after EnKF:  7.363912\n",
      "norm before EnKF:  7.699531  and norm after EnKF:  7.362208\n",
      "norm before EnKF:  8.059473  and norm after EnKF:  7.518714\n",
      "norm before EnKF:  6.762064  and norm after EnKF:  6.989693\n",
      "norm before EnKF:  8.574379  and norm after EnKF:  7.874627\n",
      "norm before EnKF:  6.635724  and norm after EnKF:  6.780734\n",
      "norm before EnKF:  9.698860  and norm after EnKF:  8.248696\n",
      "norm before EnKF:  8.578972  and norm after EnKF:  7.909717\n",
      "norm before EnKF:  8.922369  and norm after EnKF:  7.978202\n",
      "norm before EnKF:  7.128828  and norm after EnKF:  7.281519\n",
      "norm before EnKF:  7.500312  and norm after EnKF:  7.190914\n",
      "norm before EnKF:  7.849210  and norm after EnKF:  7.446928\n",
      "norm before EnKF:  7.935443  and norm after EnKF:  7.602108\n",
      "norm before EnKF:  8.338359  and norm after EnKF:  7.686737\n",
      "norm before EnKF:  7.215876  and norm after EnKF:  6.929671\n",
      "norm before EnKF:  6.540008  and norm after EnKF:  6.899712\n",
      "norm before EnKF:  7.113012  and norm after EnKF:  6.935821\n",
      "norm before EnKF:  9.251896  and norm after EnKF:  8.304237\n",
      "norm before EnKF:  8.244573  and norm after EnKF:  7.756891\n",
      "norm before EnKF:  9.461909  and norm after EnKF:  8.183837\n",
      "norm before EnKF:  7.526051  and norm after EnKF:  7.454291\n",
      "norm before EnKF:  8.224834  and norm after EnKF:  7.669246\n",
      "norm before EnKF:  7.807173  and norm after EnKF:  7.628183\n",
      "norm before EnKF:  8.884465  and norm after EnKF:  8.008026\n"
     ]
    }
   ],
   "source": [
    "for e in range(N_e):\n",
    "    norm_pre = np.sqrt(np.sum(observedParticles_pre[e,:]**2))\n",
    "    norm = np.sqrt(np.sum(observedParticles[e,:]**2))\n",
    "    print(\"norm before EnKF: \", format(norm_pre, \".6f\"), \" and norm after EnKF: \", format(norm, \".6f\"))"
   ]
  },
  {
   "cell_type": "markdown",
   "metadata": {},
   "source": [
    "# RMSE Analysis"
   ]
  },
  {
   "cell_type": "code",
   "execution_count": null,
   "metadata": {},
   "outputs": [],
   "source": [
    "# rmse values before EnKF analysis phase\n",
    "ensemble.getEnsembleVarAndRMSEUnderDrifter(t)\n",
    "rmse_eta = ensemble.rmseUnderDrifter_eta\n",
    "rmse_hu  = ensemble.rmseUnderDrifter_hu\n",
    "rmse_hv  = ensemble.rmseUnderDrifter_hv"
   ]
  },
  {
   "cell_type": "code",
   "execution_count": null,
   "metadata": {},
   "outputs": [
    {
     "name": "stdout",
     "output_type": "stream",
     "text": [
      "Comparison of RMSE before and after analysis phase\n",
      "\n",
      "RMSE for eta before:  0.017573597544012335  and after:  0.015691045853421084\n",
      "RMSE for hu  before:  1.7442466995180543  and after:  0.5571396384010713\n",
      "RMSE for hv  before:  1.0987607326092859  and after:  0.6779213657766072\n"
     ]
    }
   ],
   "source": [
    "print(\"Comparison of RMSE before and after analysis phase\\n\")\n",
    "print(\"RMSE for eta before: \", rmse_eta[0], \" and after: \", rmse_eta[1])\n",
    "print(\"RMSE for hu  before: \", rmse_hu[0], \" and after: \", rmse_hu[1])\n",
    "print(\"RMSE for hv  before: \", rmse_hv[0], \" and after: \", rmse_hv[1])"
   ]
  },
  {
   "cell_type": "code",
   "execution_count": null,
   "metadata": {},
   "outputs": [],
   "source": []
  },
  {
   "cell_type": "code",
   "execution_count": null,
   "metadata": {},
   "outputs": [],
   "source": []
  },
  {
   "cell_type": "code",
   "execution_count": null,
   "metadata": {},
   "outputs": [],
   "source": []
  },
  {
   "cell_type": "code",
   "execution_count": null,
   "metadata": {},
   "outputs": [],
   "source": []
  },
  {
   "cell_type": "code",
   "execution_count": null,
   "metadata": {},
   "outputs": [],
   "source": []
  }
 ],
 "metadata": {
  "kernelspec": {
   "display_name": "Python 3.7.8 64-bit ('gpuocean': conda)",
   "metadata": {
    "interpreter": {
     "hash": "33ed7ca3d490b1455ef8763b7de4f413d7a0b0dcbe44e1e5f95f5e2fe69a0829"
    }
   },
   "name": "python3"
  },
  "language_info": {
   "codemirror_mode": {
    "name": "ipython",
    "version": 3
   },
   "file_extension": ".py",
   "mimetype": "text/x-python",
   "name": "python",
   "nbconvert_exporter": "python",
   "pygments_lexer": "ipython3"
  }
 },
 "nbformat": 4,
 "nbformat_minor": 4
}
