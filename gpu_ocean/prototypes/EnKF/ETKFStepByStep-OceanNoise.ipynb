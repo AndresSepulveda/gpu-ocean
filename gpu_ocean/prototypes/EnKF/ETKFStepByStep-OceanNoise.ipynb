{
 "cells": [
  {
   "cell_type": "code",
   "execution_count": null,
   "metadata": {},
   "outputs": [],
   "source": [
    "# -*- coding: utf-8 -*-\n",
    "\n",
    "\"\"\"\n",
    "This software is part of GPU Ocean. \n",
    "Copyright (C) 2019 SINTEF Digital\n",
    "\n",
    "This notebook is used to show the individual steps of the ETKF for an ocean ensemble.\n",
    "\n",
    "This program is free software: you can redistribute it and/or modify\n",
    "it under the terms of the GNU General Public License as published by\n",
    "the Free Software Foundation, either version 3 of the License, or\n",
    "(at your option) any later version.\n",
    "\n",
    "This program is distributed in the hope that it will be useful,\n",
    "but WITHOUT ANY WARRANTY; without even the implied warranty of\n",
    "MERCHANTABILITY or FITNESS FOR A PARTICULAR PURPOSE.  See the\n",
    "GNU General Public License for more details.\n",
    "\n",
    "You should have received a copy of the GNU General Public License\n",
    "along with this program.  If not, see <http://www.gnu.org/licenses/>.\n",
    "\"\"\"\n",
    "\n",
    "\n",
    "import sys, os, datetime, time, shutil\n",
    "from importlib import reload \n",
    "import numpy as np\n",
    "\n",
    "%matplotlib inline\n",
    "%config InlineBackend.figure_format = 'retina'\n",
    "import matplotlib\n",
    "from matplotlib import pyplot as plt\n",
    "from matplotlib import rc\n",
    "from matplotlib import gridspec as gridspec\n",
    "\n",
    "#Set large figure sizes\n",
    "rc('figure', figsize=(16.0, 12.0))\n",
    "rc('animation', html='html5')\n",
    "matplotlib.rcParams['contour.negative_linestyle'] = 'solid'\n",
    "\n",
    "current_dir = os.getcwd()\n",
    "\n",
    "if os.path.isdir(os.path.abspath(os.path.join(current_dir, '../../SWESimulators'))):\n",
    "        sys.path.insert(0, os.path.abspath(os.path.join(current_dir, '../../')))\n",
    "\n",
    "from SWESimulators import IPythonMagic\n",
    "from SWESimulators import BaseOceanStateEnsemble, OceanNoiseEnsemble, CDKLM16 \n",
    "from SWESimulators import Common\n",
    "from SWESimulators import DataAssimilationUtils as dautils\n",
    "\n"
   ]
  },
  {
   "cell_type": "code",
   "execution_count": null,
   "metadata": {},
   "outputs": [
    {
     "name": "stderr",
     "output_type": "stream",
     "text": [
      "Console logger using level INFO\n",
      "File logger using level Level 15 to enkf_gpu.log\n",
      "Python version 3.7.8 | packaged by conda-forge | (default, Jul 31 2020, 01:53:57) [MSC v.1916 64 bit (AMD64)]\n"
     ]
    }
   ],
   "source": [
    "%cuda_context_handler gpu_ctx\n",
    "%setup_logging --out enkf_gpu.log --file_level 15"
   ]
  },
  {
   "cell_type": "markdown",
   "metadata": {},
   "source": [
    "# Set up an instance \n",
    "\n",
    "OceanNoiseEnsemble using CDKLM16-Simulators"
   ]
  },
  {
   "cell_type": "code",
   "execution_count": null,
   "metadata": {},
   "outputs": [
    {
     "name": "stdout",
     "output_type": "stream",
     "text": [
      "q0:  0.00017095320928897472\n",
      "[f, g, H, dt] [0.05, 9.81, 10.0, 0.05]\n",
      "(nx, ny):  (60, 60)\n",
      "max_dt:  0.08764882385730743\n",
      "Ready!\n"
     ]
    }
   ],
   "source": [
    "# DEFINE PARAMETERS\n",
    "\n",
    "sim_args = {\n",
    "    \"gpu_ctx\": gpu_ctx,\n",
    "    \"nx\": 60, \"ny\": 60,\n",
    "    \"dx\": 4.0, \"dy\": 4.0,\n",
    "    \"dt\": 0.05,\n",
    "    \"g\": 9.81,\n",
    "    \"f\": 0.05,\n",
    "    \"coriolis_beta\": 0.0,\n",
    "    \"r\": 0.0,\n",
    "    \"rk_order\": 2,\n",
    "    \"small_scale_perturbation_amplitude\": None,\n",
    "    \"write_netcdf\": False, \n",
    "    \"small_scale_perturbation\": True,\n",
    "    \"small_scale_perturbation_interpolation_factor\": 3,\n",
    "    \"boundary_conditions\": Common.BoundaryConditions(2,2,2,2)\n",
    "}\n",
    "\n",
    "ghosts = np.array([2,2,2,2]) # north, east, south, west\n",
    "validDomain = np.array([2,2,2,2])\n",
    "\n",
    "\n",
    "dataShape = (sim_args[\"ny\"] + ghosts[0]+ghosts[2], \n",
    "             sim_args[\"nx\"] + ghosts[1]+ghosts[3])\n",
    "dataShapeHi = (sim_args[\"ny\"] + ghosts[0]+ghosts[2]+1, \n",
    "             sim_args[\"nx\"] + ghosts[1]+ghosts[3]+1)\n",
    "\n",
    "sim_args[\"eta0\"] = np.zeros(dataShape, dtype=np.float32, order='C');\n",
    "sim_args[\"hv0\"] = np.zeros(dataShape, dtype=np.float32, order='C');\n",
    "sim_args[\"hu0\"] = np.zeros(dataShape, dtype=np.float32, order='C');\n",
    "waterDepth = 10.0\n",
    "sim_args[\"H\"] = np.ones(dataShapeHi, dtype=np.float32, order='C')*waterDepth\n",
    "\n",
    "\n",
    "if 'sim' in globals():\n",
    "    sim.cleanUp()\n",
    "if 'ensemble' in globals():\n",
    "    ensemble.cleanUp()\n",
    "if 'iewpfOcean' in globals():\n",
    "    iewpfOcean.cleanUp()\n",
    "    \n",
    "sim_args[\"small_scale_perturbation_amplitude\"] = np.sqrt(sim_args[\"dt\"])*0.5*sim_args[\"f\"]/(sim_args[\"g\"]*waterDepth)\n",
    "sim_args[\"small_scale_perturbation_amplitude\"] *= sim_args[\"small_scale_perturbation_interpolation_factor\"]\n",
    "print (\"q0: \", sim_args[\"small_scale_perturbation_amplitude\"])\n",
    "print (\"[f, g, H, dt]\", [sim_args[\"f\"], sim_args[\"g\"], waterDepth, sim_args[\"dt\"]])\n",
    "print (\"(nx, ny): \", (sim_args[\"nx\"], sim_args[\"ny\"]))\n",
    "\n",
    "reload(CDKLM16)\n",
    "reload(BaseOceanStateEnsemble)\n",
    "reload(OceanNoiseEnsemble)\n",
    "reload(dautils)\n",
    "\n",
    "sim = CDKLM16.CDKLM16(**sim_args)\n",
    "sim.perturbState(q0_scale=100)\n",
    "    \n",
    "ensemble_args = {\n",
    "    \"gpu_ctx\": gpu_ctx,\n",
    "    \"numParticles\": 100,\n",
    "    \"num_drifters\": 2,\n",
    "    \"sim\": sim,\n",
    "    \"observation_type\": dautils.ObservationType.StaticBuoys,\n",
    "    \"buoys_positions\" : [[120.0,120.0],[60.0,60.0]],\n",
    "    \"observation_variance\": 0.02**2,\n",
    "    \"initialization_variance_factor_ocean_field\" : 25.0\n",
    "}\n",
    "\n",
    "ensemble = OceanNoiseEnsemble.OceanNoiseEnsemble(**ensemble_args)\n",
    "\n",
    "max_dt = ensemble.findLargestPossibleTimeStep()\n",
    "print (\"max_dt: \", max_dt)\n",
    "\n",
    "print (\"Ready!\")"
   ]
  },
  {
   "cell_type": "markdown",
   "metadata": {},
   "source": [
    "# Run Simulation until Observation Time"
   ]
  },
  {
   "cell_type": "code",
   "execution_count": null,
   "metadata": {},
   "outputs": [
    {
     "name": "stdout",
     "output_type": "stream",
     "text": [
      "Ready!\n"
     ]
    }
   ],
   "source": [
    "t = 100*sim_args[\"dt\"]\n",
    "ensemble.step(t)\n",
    "\n",
    "print(\"Ready!\")"
   ]
  },
  {
   "cell_type": "markdown",
   "metadata": {},
   "source": [
    "# Book keeping"
   ]
  },
  {
   "cell_type": "code",
   "execution_count": null,
   "metadata": {},
   "outputs": [],
   "source": [
    "# Deactivating some particles for testing\n",
    "ensemble.particlesActive[2]=False\n",
    "ensemble.particlesActive[7]=False"
   ]
  },
  {
   "cell_type": "code",
   "execution_count": null,
   "metadata": {},
   "outputs": [],
   "source": [
    "# Size of ensemble\n",
    "N_e = ensemble.getNumParticles()\n",
    "N_e_active = ensemble.getNumActiveParticles()\n",
    "\n",
    "# Number of observers\n",
    "N_d = ensemble.getNumDrifters()\n",
    "\n",
    "# particle properties before EnKF analysis phase\n",
    "observedParticles_pre = ensemble.observeParticles()\n",
    "innovationNorms_pre = ensemble.getInnovationNorms()\n",
    "\n",
    "# rmse values before EnKF analysis phase\n",
    "ensemble.getEnsembleVarAndRMSEUnderDrifter(t)\n",
    "rmse_eta_pre = ensemble.rmseUnderDrifter_eta\n",
    "rmse_hu_pre  = ensemble.rmseUnderDrifter_hu\n",
    "rmse_hv_pre  = ensemble.rmseUnderDrifter_hv\n"
   ]
  },
  {
   "cell_type": "markdown",
   "metadata": {},
   "source": [
    "# Step-By-Step EnKF in Square Root Formulation"
   ]
  },
  {
   "cell_type": "code",
   "execution_count": null,
   "metadata": {},
   "outputs": [],
   "source": [
    "def deleteDeactivatedObservations(observation, ensemble):\n",
    "    \"\"\"\n",
    "    Delete inactive particles\n",
    "    \"\"\"\n",
    "    idx = 0\n",
    "    for p in range(ensemble.getNumParticles()):\n",
    "        if ensemble.particlesActive[p]:\n",
    "            idx+=1\n",
    "        elif not ensemble.particlesActive[p]:\n",
    "            observation = np.delete(observation, idx, axis=0)\n",
    "    return observation"
   ]
  },
  {
   "cell_type": "markdown",
   "metadata": {},
   "source": [
    "## Calculate $X'_f = X_f - \\overline{X_f}$ "
   ]
  },
  {
   "cell_type": "code",
   "execution_count": null,
   "metadata": {},
   "outputs": [],
   "source": [
    "\"\"\"\n",
    "The download gives eta = \n",
    "[\n",
    "[eta(x0,y0),...,eta(xN,y0)],\n",
    "...,\n",
    "[eta(x0,yN),...,eta(xN,yN)]\n",
    "]\n",
    "as an array of size Ny x Nx\n",
    "and analog for hu and hv.\n",
    "we use those as an 1D array eta = \n",
    "[eta(x0,y0),...,eta(xN,y0),eta(x0,y1),...,eta(xN,y(N-1)),eta(x0,yN),...,eta(xN,yN)]\n",
    "and anlog for hu and hv \n",
    "\n",
    "For further calculations the indivdual dimensions of the state variable are concatinated X = \n",
    "[eta, hu, hv]\n",
    "\n",
    "Collecting the state perturbation for each ensemble member in a matrix Nx x Ne, where\n",
    "X_f_pert = \n",
    "[ \n",
    "[eta_pert(x0,y0) (particle 1),..., eta_pert],\n",
    "...\n",
    "particle 2: [eta_pert,hu_pert,hv_pert]\n",
    "]\n",
    "\"\"\"\n",
    "\n",
    "# Ghost cells added \n",
    "n_i = ensemble.particles[0].ny + 4 \n",
    "n_j = ensemble.particles[0].nx + 4\n",
    "\n",
    "X_f = np.zeros((3*n_i*n_j, N_e_active))\n",
    "idx = 0\n",
    "for e in range(N_e):\n",
    "    if ensemble.particlesActive[e]:\n",
    "        eta, hu, hv = ensemble.particles[e].download(interior_domain_only=False)\n",
    "        eta = eta.reshape(n_i*n_j)\n",
    "        hu  = hu.reshape(n_i*n_j)\n",
    "        hv  = hv.reshape(n_i*n_j)\n",
    "        X_f[:,idx] = np.append(eta, np.append(hu,hv))\n",
    "        idx += 1\n",
    "\n",
    "X_f_mean = np.zeros( 3*n_i*n_j )\n",
    "for e in range(N_e_active):\n",
    "    X_f_mean += 1/N_e_active * X_f[:,e]\n",
    "\n",
    "X_f_pert = np.zeros_like( X_f )\n",
    "for e in range(N_e_active):\n",
    "    X_f_pert[:,e] = X_f[:,e] - X_f_mean\n",
    " "
   ]
  },
  {
   "cell_type": "markdown",
   "metadata": {},
   "source": [
    "## Calculate $S = H X'_f$\n"
   ]
  },
  {
   "cell_type": "code",
   "execution_count": null,
   "metadata": {},
   "outputs": [],
   "source": [
    "\"\"\"\n",
    "Particles are observed in the following form:\n",
    "[\n",
    "particle 1:  [hu_1, hv_1], ... , [hu_D, hv_D],\n",
    "...\n",
    "particle Ne: [hu_1, hv_1], ... , [hu_D, hv_D]\n",
    "]\n",
    "\n",
    "In order to bring it in accordance with later data structure we use the following format for the storage of the perturbation of the observation:\n",
    "[\n",
    "[hu_1 (particle 1), ..., hu_1 (particle Ne)],\n",
    "...\n",
    "[hu_D (particle 1), ..., hu_D (particle Ne)],\n",
    "[hv_1 (particle 1), ..., hv_1 (particle Ne)],\n",
    "...\n",
    "[hv_D (particle 1), ..., hv_D (particle Ne)],\n",
    "]\n",
    "\n",
    "\"\"\"\n",
    "\n",
    "# Observation \n",
    "HX_f_orig = ensemble.observeParticles()\n",
    "\n",
    "HX_f_orig = deleteDeactivatedObservations(HX_f_orig, ensemble)\n",
    "\n",
    "# Reshaping\n",
    "HX_f = np.zeros( (2*N_d, N_e_active) )\n",
    "for e in range(N_e_active):\n",
    "    for l in range(N_d):\n",
    "        HX_f[l,e]     = HX_f_orig[e,l,0]\n",
    "    for l in range(N_d):\n",
    "        HX_f[N_d+l,e] = HX_f_orig[e,l,1]\n",
    "\n",
    "HX_f_mean = np.zeros_like(HX_f)\n",
    "for e in range(N_e_active):\n",
    "    HX_f_mean = 1/N_e * HX_f[:,e]\n",
    "\n",
    "HX_f_pert = HX_f - HX_f_mean.reshape((2*N_d,1))\n",
    "\n"
   ]
  },
  {
   "cell_type": "markdown",
   "metadata": {},
   "source": [
    "## Construct $R$"
   ]
  },
  {
   "cell_type": "code",
   "execution_count": null,
   "metadata": {},
   "outputs": [],
   "source": [
    "R_orig = ensemble.getObservationCov()\n",
    "\n",
    "R = np.zeros( (R_orig.shape[0]*N_d, R_orig.shape[1]*N_d) )\n",
    "\n",
    "for l in range(N_d):\n",
    "    R[l,l] = R_orig[0,0]\n",
    "    R[N_d+l, N_d+l] = R_orig[1,1]\n",
    "    R[l,N_d+l] = R_orig[0,1]\n",
    "    R[N_d+l,l] = R_orig[1,0]\n"
   ]
  },
  {
   "cell_type": "markdown",
   "metadata": {},
   "source": [
    "## Calculate $C = R^{-1}HX'_f$"
   ]
  },
  {
   "cell_type": "code",
   "execution_count": null,
   "metadata": {},
   "outputs": [],
   "source": [
    "Rinv =  np.linalg.inv(R)\n",
    "C = np.dot(Rinv, HX_f_pert)"
   ]
  },
  {
   "cell_type": "markdown",
   "metadata": {},
   "source": [
    "## Calculate $A_1 = (N-1) I$"
   ]
  },
  {
   "cell_type": "code",
   "execution_count": null,
   "metadata": {},
   "outputs": [],
   "source": [
    "A1 = (N_e_active - 1) * np.eye(N_e_active)"
   ]
  },
  {
   "cell_type": "markdown",
   "metadata": {},
   "source": [
    "## Calculate $A_2 = A_1 + (HX'_f)^\\top C$"
   ]
  },
  {
   "cell_type": "code",
   "execution_count": null,
   "metadata": {},
   "outputs": [],
   "source": [
    "A2 = A1 + np.dot(HX_f_pert.T, C)"
   ]
  },
  {
   "cell_type": "markdown",
   "metadata": {},
   "source": [
    "## Calcualte EVD of $A_2$"
   ]
  },
  {
   "cell_type": "code",
   "execution_count": null,
   "metadata": {},
   "outputs": [],
   "source": [
    "e, U = np.linalg.eig(A2)\n",
    "\n",
    "E = np.diag(e)"
   ]
  },
  {
   "cell_type": "markdown",
   "metadata": {},
   "source": [
    "## Construct $d$"
   ]
  },
  {
   "cell_type": "code",
   "execution_count": null,
   "metadata": {},
   "outputs": [],
   "source": [
    "d_orig = ensemble.observeTrueState()\n",
    "\n",
    "d = np.zeros( (2*N_d) )\n",
    "for l in range(N_d):\n",
    "    d[l]     = d_orig[l,2]\n",
    "for l in range(N_d):\n",
    "    d[N_d+l] = d_orig[l,3]"
   ]
  },
  {
   "cell_type": "markdown",
   "metadata": {},
   "source": [
    "## Calculate $P = A_2^{-1}$"
   ]
  },
  {
   "cell_type": "code",
   "execution_count": null,
   "metadata": {},
   "outputs": [],
   "source": [
    "P = np.linalg.inv(A2)"
   ]
  },
  {
   "cell_type": "markdown",
   "metadata": {},
   "source": [
    "## Calculate $K = X_f P HX'_f R^{-1}$"
   ]
  },
  {
   "cell_type": "code",
   "execution_count": null,
   "metadata": {},
   "outputs": [],
   "source": [
    "K = np.dot(X_f_pert, np.dot(P,np.dot(HX_f_pert.T,Rinv)))"
   ]
  },
  {
   "cell_type": "markdown",
   "metadata": {},
   "source": [
    "## Calculate $\\bar{x_a} = \\bar{x_f} + K (d-H\\bar{x_f})$"
   ]
  },
  {
   "cell_type": "code",
   "execution_count": null,
   "metadata": {},
   "outputs": [],
   "source": [
    "X_a_mean = X_f_mean + np.dot(K, d-HX_f_mean)"
   ]
  },
  {
   "cell_type": "markdown",
   "metadata": {},
   "source": [
    "## Calculate $X'_a = X_f[(N_e-1)P]^{1/2}$"
   ]
  },
  {
   "cell_type": "code",
   "execution_count": null,
   "metadata": {},
   "outputs": [],
   "source": [
    "sigma, V = np.linalg.eigh((N_e_active-1)*P)\n",
    "X_a_pert = np.dot(X_f_pert, np.dot(V,np.dot(np.diag(np.sqrt(sigma)),V.T)))"
   ]
  },
  {
   "cell_type": "markdown",
   "metadata": {},
   "source": [
    "## Calculate $X_a = \\bar{x_a} + X'_a$"
   ]
  },
  {
   "cell_type": "code",
   "execution_count": null,
   "metadata": {},
   "outputs": [],
   "source": [
    "X_a = X_a_pert \n",
    "for j in range(N_e_active):\n",
    "    X_a[:,j] += X_a_mean"
   ]
  },
  {
   "cell_type": "markdown",
   "metadata": {},
   "source": [
    "## Reshape and upload analysis state"
   ]
  },
  {
   "cell_type": "code",
   "execution_count": null,
   "metadata": {},
   "outputs": [],
   "source": [
    "idx = 0\n",
    "for e in range(N_e):\n",
    "    if ensemble.particlesActive[e]:\n",
    "        eta = X_a[0:n_i*n_j, idx].reshape((n_i,n_j))\n",
    "        hu  = X_a[n_i*n_j:2*n_i*n_j, idx].reshape((n_i,n_j))\n",
    "        hv  = X_a[2*n_i*n_j:3*n_i*n_j, idx].reshape((n_i,n_j))\n",
    "        ensemble.particles[e].upload(eta,hu,hv)\n",
    "        idx += 1\n"
   ]
  },
  {
   "cell_type": "markdown",
   "metadata": {},
   "source": [
    "# Plotting Utils"
   ]
  },
  {
   "cell_type": "code",
   "execution_count": null,
   "metadata": {},
   "outputs": [],
   "source": [
    "def _fillPolarPlot(ax, ensemble, observedParticles, alpha, printInfo=False):\n",
    "    \"\"\"\n",
    "    Internal utility function for plotting current under a drifter as a polar plot.\n",
    "    \"\"\"\n",
    "    max_r = 0\n",
    "    observedParticlesSingleDrifter = observedParticles[:, 0, :]\n",
    "    if printInfo: print(\"observedParticlesSingleDrifter: \\n\" +str(observedParticlesSingleDrifter))\n",
    "    for p in range(ensemble.getNumParticles()):\n",
    "        u, v = observedParticlesSingleDrifter[p,0], observedParticlesSingleDrifter[p,1]\n",
    "        r = np.sqrt(u**2 + v**2)\n",
    "        max_r = max(max_r, r)\n",
    "        theta = np.arctan(v/u)\n",
    "        if (u < 0):\n",
    "            theta += np.pi\n",
    "        arr1 = plt.arrow(theta, 0, 0, r, alpha = alpha, \\\n",
    "                         length_includes_head=True, \\\n",
    "                         edgecolor = 'green', facecolor = 'green', zorder = 5)\n",
    "\n",
    "    obs_u = ensemble.observeTrueState()[0, 2]\n",
    "    obs_v = ensemble.observeTrueState()[0, 3]\n",
    "    if printInfo: print(\"observedTrueState: \" + str((obs_u, obs_v)))\n",
    "    obs_r = np.sqrt(obs_u**2 + obs_v**2)\n",
    "    max_r = max(max_r, obs_r)\n",
    "    obs_theta = np.arctan(obs_v/obs_u)\n",
    "    if (obs_u < 0):\n",
    "        obs_theta += np.pi\n",
    "    arr1 = plt.arrow(obs_theta, 0, 0, obs_r, alpha = 0.5,\\\n",
    "                     length_includes_head=True, \\\n",
    "                     edgecolor = 'red', facecolor = 'red', zorder = 5)\n",
    "\n",
    "    ax.set_rmax(max_r*1.2)\n",
    "    plt.grid(True)\n",
    "    plt.title(\"Momentum observations from drifter\")\n",
    "\n",
    "\n",
    "def _fillHistPlot(ax, ensemble, innovationNorms, alpha, printInfo=False):\n",
    "    if printInfo: print(\"innovation norms: \" + str(innovationNorms))\n",
    "    obs_var = ensemble.getObservationVariance()\n",
    "    range_x = np.sqrt(obs_var)*500\n",
    "    ax.hist(innovationNorms, bins=30, facecolor='green', \\\n",
    "                range=(0, range_x), alpha=alpha,\\\n",
    "                density=True, label=\"particle innovations (norm)\")\n",
    "    plt.title(\"Innovation norms from drifter\")\n",
    "\n",
    "\n",
    "def plotVelocityInfoBeforeAndAfterDA(ensemble, observedParticles, innovationNorms, observedParticles_pre=None, innovationNorms_pre=None, title=None) :\n",
    "\n",
    "    # Initialize File\n",
    "    fig = None\n",
    "    plotRows = 2\n",
    "    fig = plt.figure(figsize=(10,6))\n",
    "    gridspec.GridSpec(plotRows, 3)\n",
    "\n",
    "    # PLOT POSITIONS OF PARTICLES AND OBSERVATIONS\n",
    "    ax = plt.subplot2grid((plotRows,3), (0,0), polar=True)\n",
    "    _fillPolarPlot(ax, ensemble, observedParticles, 0.5, printInfo=False)\n",
    "    if observedParticles_pre is not None:\n",
    "        _fillPolarPlot(ax, ensemble, observedParticles_pre, 0.1, printInfo=False)\n",
    "\n",
    "    # PLOT DISCTRIBUTION OF PARTICLE DISTANCES AND THEORETIC OBSERVATION PDF\n",
    "    ax0 = plt.subplot2grid((plotRows,3), (0,1), colspan=2)\n",
    "    _fillHistPlot(ax0, ensemble, innovationNorms, 0.5, printInfo=False)\n",
    "    if innovationNorms_pre is not None:\n",
    "        _fillHistPlot(ax0, ensemble, innovationNorms_pre, 0.1, printInfo=False)\n",
    "\n",
    "    if title is not None:\n",
    "        plt.suptitle(title, fontsize=16)\n",
    "    plt.tight_layout()\n",
    "\n",
    "# ------------------------------------------------------------------------\n",
    "\n",
    "def _fillHistComponentPlot(ax, ensemble, observedParticles, component, alpha, markTruth=False, subtitle=None):\n",
    "    true_component = ensemble.observeTrueState()[0,2+component]\n",
    "    range_x = 5\n",
    "    ax.hist(observedParticles[:,0][:,component], bins=50, facecolor='green', \\\n",
    "        range=(true_component-range_x,true_component+range_x), \\\n",
    "        alpha=alpha, density=True)\n",
    "    if markTruth is True:\n",
    "        ax.axvline(true_component, color='green', linestyle='dashed', linewidth=1)\n",
    "    if subtitle is not None:\n",
    "        ax.title.set_text(subtitle)\n",
    "\n",
    "\n",
    "def plotVelocityComponentInfoBeforeAndAfterDA(ensemble, observedParticles, observedParticles_pre=None, title=None):\n",
    "    fig = None\n",
    "    fig, axs = plt.subplots(1, 2, figsize=(10,3))\n",
    "    # hist for hu\n",
    "    subtitle = \"$hu$ distribution for ensemble\"\n",
    "    _fillHistComponentPlot(axs[0], ensemble, observedParticles, 0, 0.5, markTruth=True, subtitle=subtitle)\n",
    "    if observedParticles_pre is not None:\n",
    "        _fillHistComponentPlot(axs[0], ensemble, observedParticles_pre, 0, 0.1)\n",
    "    # hist for hv\n",
    "    subtitle = \"$hv$ distribution for ensemble\"\n",
    "    _fillHistComponentPlot(axs[1], ensemble, observedParticles, 1, 0.5, markTruth=True, subtitle=subtitle)\n",
    "    if observedParticles_pre is not None:\n",
    "        _fillHistComponentPlot(axs[1], ensemble, observedParticles_pre, 1, 0.1)\n",
    "\n"
   ]
  },
  {
   "cell_type": "markdown",
   "metadata": {},
   "source": [
    "# Plot circular diagram and histogram"
   ]
  },
  {
   "cell_type": "code",
   "execution_count": null,
   "metadata": {},
   "outputs": [
    {
     "data": {
      "image/png": "[encoded data removed]",
      "text/plain": [
       "<Figure size 720x432 with 2 Axes>"
      ]
     },
     "metadata": {
      "image/png": {
       "height": 256,
       "width": 707
      },
      "needs_background": "light"
     },
     "output_type": "display_data"
    },
    {
     "data": {
      "image/png": "[encoded data removed]",
      "text/plain": [
       "<Figure size 720x216 with 2 Axes>"
      ]
     },
     "metadata": {
      "image/png": {
       "height": 209,
       "width": 595
      },
      "needs_background": "light"
     },
     "output_type": "display_data"
    }
   ],
   "source": [
    "# Download Data from Simulators\n",
    "observedParticles = ensemble.observeParticles()\n",
    "innovationNorms = ensemble.getInnovationNorms()\n",
    "\n",
    "title = \"Comparision of forecast (transparent) and analysis (opaque) states\"\n",
    "plotVelocityInfoBeforeAndAfterDA(ensemble, observedParticles, innovationNorms, observedParticles_pre, innovationNorms_pre, title)\n",
    "\n",
    "title = \"Comparision of forecast (transparent) and analysis (opaque) states for velocity components\"\n",
    "plotVelocityComponentInfoBeforeAndAfterDA(ensemble, observedParticles, observedParticles_pre, title)"
   ]
  },
  {
   "cell_type": "markdown",
   "metadata": {},
   "source": [
    "## Compare norms of particles before and after assimilation "
   ]
  },
  {
   "cell_type": "code",
   "execution_count": null,
   "metadata": {},
   "outputs": [
    {
     "name": "stdout",
     "output_type": "stream",
     "text": [
      "norm before EnKF:  7.947909  and norm after EnKF:  7.504947\n",
      "norm before EnKF:  5.251053  and norm after EnKF:  5.485829\n",
      "norm before EnKF:  nan  and norm after EnKF:  nan\n",
      "norm before EnKF:  6.210002  and norm after EnKF:  6.235740\n",
      "norm before EnKF:  5.257108  and norm after EnKF:  5.512121\n",
      "norm before EnKF:  5.527725  and norm after EnKF:  5.721828\n",
      "norm before EnKF:  4.710203  and norm after EnKF:  4.757284\n",
      "norm before EnKF:  nan  and norm after EnKF:  nan\n",
      "norm before EnKF:  6.236075  and norm after EnKF:  6.267010\n",
      "norm before EnKF:  6.380010  and norm after EnKF:  6.333201\n",
      "norm before EnKF:  4.478157  and norm after EnKF:  4.794033\n",
      "norm before EnKF:  6.601401  and norm after EnKF:  6.652291\n",
      "norm before EnKF:  5.834422  and norm after EnKF:  5.861235\n",
      "norm before EnKF:  7.412946  and norm after EnKF:  7.509998\n",
      "norm before EnKF:  5.608609  and norm after EnKF:  5.474743\n",
      "norm before EnKF:  5.741341  and norm after EnKF:  5.833496\n",
      "norm before EnKF:  6.571967  and norm after EnKF:  6.667448\n",
      "norm before EnKF:  5.892201  and norm after EnKF:  6.047272\n",
      "norm before EnKF:  6.649895  and norm after EnKF:  6.694989\n",
      "norm before EnKF:  7.090905  and norm after EnKF:  7.122883\n",
      "norm before EnKF:  5.102296  and norm after EnKF:  5.021441\n",
      "norm before EnKF:  6.953313  and norm after EnKF:  7.095343\n",
      "norm before EnKF:  5.598213  and norm after EnKF:  5.299792\n",
      "norm before EnKF:  5.830741  and norm after EnKF:  5.728779\n",
      "norm before EnKF:  6.813281  and norm after EnKF:  6.826463\n",
      "norm before EnKF:  5.303043  and norm after EnKF:  5.576872\n",
      "norm before EnKF:  6.768098  and norm after EnKF:  6.678929\n",
      "norm before EnKF:  7.551787  and norm after EnKF:  7.321672\n",
      "norm before EnKF:  5.237423  and norm after EnKF:  5.478701\n",
      "norm before EnKF:  7.118267  and norm after EnKF:  7.265828\n",
      "norm before EnKF:  8.114812  and norm after EnKF:  7.905771\n",
      "norm before EnKF:  4.410066  and norm after EnKF:  4.648076\n",
      "norm before EnKF:  5.916309  and norm after EnKF:  6.131429\n",
      "norm before EnKF:  6.652099  and norm after EnKF:  6.684295\n",
      "norm before EnKF:  7.422984  and norm after EnKF:  7.378924\n",
      "norm before EnKF:  6.311291  and norm after EnKF:  6.491273\n",
      "norm before EnKF:  6.579940  and norm after EnKF:  6.656742\n",
      "norm before EnKF:  5.029009  and norm after EnKF:  5.318685\n",
      "norm before EnKF:  4.938053  and norm after EnKF:  5.138263\n",
      "norm before EnKF:  5.813948  and norm after EnKF:  5.560890\n",
      "norm before EnKF:  6.472279  and norm after EnKF:  6.658619\n",
      "norm before EnKF:  6.275756  and norm after EnKF:  6.090760\n",
      "norm before EnKF:  5.567451  and norm after EnKF:  5.731788\n",
      "norm before EnKF:  6.584216  and norm after EnKF:  6.209042\n",
      "norm before EnKF:  6.303875  and norm after EnKF:  6.299136\n",
      "norm before EnKF:  5.588164  and norm after EnKF:  5.736342\n",
      "norm before EnKF:  5.575770  and norm after EnKF:  5.620807\n",
      "norm before EnKF:  6.816429  and norm after EnKF:  6.927743\n",
      "norm before EnKF:  5.960479  and norm after EnKF:  6.005376\n",
      "norm before EnKF:  5.082068  and norm after EnKF:  5.177462\n",
      "norm before EnKF:  5.754780  and norm after EnKF:  5.728155\n",
      "norm before EnKF:  5.644212  and norm after EnKF:  5.783420\n",
      "norm before EnKF:  5.018089  and norm after EnKF:  5.228820\n",
      "norm before EnKF:  5.284628  and norm after EnKF:  5.296830\n",
      "norm before EnKF:  4.896406  and norm after EnKF:  5.045674\n",
      "norm before EnKF:  7.212248  and norm after EnKF:  7.050433\n",
      "norm before EnKF:  5.185552  and norm after EnKF:  5.460174\n",
      "norm before EnKF:  7.192470  and norm after EnKF:  7.126139\n",
      "norm before EnKF:  6.637157  and norm after EnKF:  6.674609\n",
      "norm before EnKF:  6.016239  and norm after EnKF:  6.190192\n",
      "norm before EnKF:  4.812626  and norm after EnKF:  4.993650\n",
      "norm before EnKF:  6.394653  and norm after EnKF:  6.487875\n",
      "norm before EnKF:  6.473776  and norm after EnKF:  6.611030\n",
      "norm before EnKF:  6.971738  and norm after EnKF:  7.033042\n",
      "norm before EnKF:  5.911017  and norm after EnKF:  5.811681\n",
      "norm before EnKF:  6.490625  and norm after EnKF:  6.681878\n",
      "norm before EnKF:  8.063640  and norm after EnKF:  7.868013\n",
      "norm before EnKF:  6.454051  and norm after EnKF:  6.487932\n",
      "norm before EnKF:  5.777141  and norm after EnKF:  5.947795\n",
      "norm before EnKF:  7.538267  and norm after EnKF:  7.220211\n",
      "norm before EnKF:  6.353467  and norm after EnKF:  6.295361\n",
      "norm before EnKF:  4.021413  and norm after EnKF:  4.347959\n",
      "norm before EnKF:  7.259839  and norm after EnKF:  7.394748\n",
      "norm before EnKF:  7.616793  and norm after EnKF:  7.643690\n",
      "norm before EnKF:  4.789593  and norm after EnKF:  5.057579\n",
      "norm before EnKF:  5.364285  and norm after EnKF:  5.434042\n",
      "norm before EnKF:  7.043786  and norm after EnKF:  7.080082\n",
      "norm before EnKF:  6.752568  and norm after EnKF:  6.839274\n",
      "norm before EnKF:  5.815588  and norm after EnKF:  5.761652\n",
      "norm before EnKF:  6.356989  and norm after EnKF:  6.492494\n",
      "norm before EnKF:  5.583809  and norm after EnKF:  5.214317\n",
      "norm before EnKF:  5.978788  and norm after EnKF:  6.139819\n",
      "norm before EnKF:  6.184702  and norm after EnKF:  6.030640\n",
      "norm before EnKF:  6.060663  and norm after EnKF:  6.163930\n",
      "norm before EnKF:  6.852724  and norm after EnKF:  6.921734\n",
      "norm before EnKF:  8.028720  and norm after EnKF:  7.644643\n",
      "norm before EnKF:  4.665635  and norm after EnKF:  4.873557\n",
      "norm before EnKF:  5.582563  and norm after EnKF:  5.695452\n",
      "norm before EnKF:  5.523998  and norm after EnKF:  5.629911\n",
      "norm before EnKF:  6.949425  and norm after EnKF:  7.040629\n",
      "norm before EnKF:  6.205148  and norm after EnKF:  6.385636\n",
      "norm before EnKF:  6.938725  and norm after EnKF:  6.930962\n",
      "norm before EnKF:  6.370134  and norm after EnKF:  6.572537\n",
      "norm before EnKF:  6.102917  and norm after EnKF:  6.299369\n",
      "norm before EnKF:  5.126677  and norm after EnKF:  5.410300\n",
      "norm before EnKF:  5.515115  and norm after EnKF:  5.436184\n",
      "norm before EnKF:  5.670573  and norm after EnKF:  5.625512\n",
      "norm before EnKF:  6.867313  and norm after EnKF:  6.979157\n",
      "norm before EnKF:  6.155440  and norm after EnKF:  6.181832\n",
      "norm before EnKF:  6.634276  and norm after EnKF:  6.790362\n"
     ]
    }
   ],
   "source": [
    "for e in range(N_e):\n",
    "    norm_pre = np.sqrt(np.sum(observedParticles_pre[e,:]**2))\n",
    "    norm = np.sqrt(np.sum(observedParticles[e,:]**2))\n",
    "    print(\"norm before EnKF: \", format(norm_pre, \".6f\"), \" and norm after EnKF: \", format(norm, \".6f\"))"
   ]
  },
  {
   "cell_type": "markdown",
   "metadata": {},
   "source": [
    "# RMSE Analysis"
   ]
  },
  {
   "cell_type": "code",
   "execution_count": null,
   "metadata": {},
   "outputs": [],
   "source": [
    "# rmse values before EnKF analysis phase\n",
    "ensemble.getEnsembleVarAndRMSEUnderDrifter(t)\n",
    "rmse_eta = ensemble.rmseUnderDrifter_eta\n",
    "rmse_hu  = ensemble.rmseUnderDrifter_hu\n",
    "rmse_hv  = ensemble.rmseUnderDrifter_hv"
   ]
  },
  {
   "cell_type": "code",
   "execution_count": null,
   "metadata": {},
   "outputs": [
    {
     "name": "stdout",
     "output_type": "stream",
     "text": [
      "Comparison of RMSE before and after analysis phase\n",
      "\n",
      "RMSE for eta before:  0.01626979987895875  and after:  0.017880882446217796\n",
      "RMSE for hu  before:  1.042139203409614  and after:  0.4103254282719365\n",
      "RMSE for hv  before:  1.8311666934793265  and after:  0.19261909980867423\n"
     ]
    }
   ],
   "source": [
    "print(\"Comparison of RMSE before and after analysis phase\\n\")\n",
    "print(\"RMSE for eta before: \", rmse_eta[0], \" and after: \", rmse_eta[1])\n",
    "print(\"RMSE for hu  before: \", rmse_hu[0], \" and after: \", rmse_hu[1])\n",
    "print(\"RMSE for hv  before: \", rmse_hv[0], \" and after: \", rmse_hv[1])"
   ]
  },
  {
   "cell_type": "code",
   "execution_count": null,
   "metadata": {},
   "outputs": [],
   "source": []
  },
  {
   "cell_type": "code",
   "execution_count": null,
   "metadata": {},
   "outputs": [],
   "source": []
  },
  {
   "cell_type": "code",
   "execution_count": null,
   "metadata": {},
   "outputs": [],
   "source": []
  },
  {
   "cell_type": "code",
   "execution_count": null,
   "metadata": {},
   "outputs": [],
   "source": []
  },
  {
   "cell_type": "code",
   "execution_count": null,
   "metadata": {},
   "outputs": [],
   "source": []
  }
 ],
 "metadata": {
  "kernelspec": {
   "display_name": "Python 3.7.8 64-bit ('gpuocean': conda)",
   "metadata": {
    "interpreter": {
     "hash": "33ed7ca3d490b1455ef8763b7de4f413d7a0b0dcbe44e1e5f95f5e2fe69a0829"
    }
   },
   "name": "python3"
  },
  "language_info": {
   "codemirror_mode": {
    "name": "ipython",
    "version": 3
   },
   "file_extension": ".py",
   "mimetype": "text/x-python",
   "name": "python",
   "nbconvert_exporter": "python",
   "pygments_lexer": "ipython3"
  }
 },
 "nbformat": 4,
 "nbformat_minor": 4
}
