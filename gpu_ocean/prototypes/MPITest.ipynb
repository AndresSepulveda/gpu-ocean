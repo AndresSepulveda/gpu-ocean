{
 "cells": [
  {
   "cell_type": "markdown",
   "metadata": {},
   "source": [
    "# Starting cluster\n",
    "\n",
    "## Prerequisites\n",
    "First, you need to install MPI, on windows use MS-MPI:\n",
    "https://msdn.microsoft.com/en-us/library/bb524831(v=vs.85).aspx\n",
    "\n",
    "\n",
    "## With a profile (not working)\n",
    "In theory, you should be able to create a profile using\n",
    "```\n",
    "ipython profile create --parallel --profile=myprofile\n",
    "```\n",
    "and then set\n",
    "```\n",
    "c.IPClusterEngines.engine_launcher_class = 'MPIEngineSetLauncher'\n",
    "```\n",
    "in ```<IPYTHON-DIR>/profile_myprofile/ipcluster_config.py```. This should then enable you to start a cluster using\n",
    "```\n",
    "ipcluster start --profile=myprofile\n",
    "```\n",
    "or alternatively through the Clusters tab in Jupyter\n",
    "\n",
    "\n",
    "## Without a profile (not working)\n",
    "An alternative is to run\n",
    "```\n",
    "ipcluster start --engines=MPI\n",
    "```\n",
    "\n",
    "\n",
    "## Manual start (working)\n",
    "This, however, does *not* work for me on Windows. What does work is the following:\n",
    "\n",
    "Start a controller using\n",
    "```\n",
    "ipcontroller --ip='*'\n",
    "```\n",
    "and then start several engines using mpiexec:\n",
    "```\n",
    "mpiexec -n 4 ipengine --mpi\n",
    "```"
   ]
  },
  {
   "cell_type": "code",
   "execution_count": 9,
   "metadata": {},
   "outputs": [
    {
     "name": "stdout",
     "output_type": "stream",
     "text": [
      "profile: default\n",
      "Number of ids: 4\n",
      "IDs: [0, 1, 2, 3]\n"
     ]
    }
   ],
   "source": [
    "import ipyparallel\n",
    "\n",
    "# attach to a running cluster\n",
    "cluster = ipyparallel.Client()#profile='mpi')\n",
    "\n",
    "print('profile:', cluster.profile)\n",
    "print('Number of ids:', len(cluster.ids))\n",
    "print(\"IDs:\", cluster.ids) # Print process id numbers"
   ]
  },
  {
   "cell_type": "code",
   "execution_count": 10,
   "metadata": {},
   "outputs": [
    {
     "name": "stdout",
     "output_type": "stream",
     "text": [
      "[stdout:0] Hello! I'm rank 0 from 4 running in total...\n",
      "[stdout:1] Hello! I'm rank 1 from 4 running in total...\n",
      "[stdout:2] Hello! I'm rank 2 from 4 running in total...\n",
      "[stdout:3] Hello! I'm rank 3 from 4 running in total...\n"
     ]
    }
   ],
   "source": [
    "%%px\n",
    "\n",
    "from mpi4py import MPI\n",
    "\n",
    "comm = MPI.COMM_WORLD\n",
    "\n",
    "print(\"Hello! I'm rank %d from %d running in total...\" % (comm.rank, comm.size))\n",
    "\n",
    "comm.Barrier()   # wait for everybody to synchronize _here_"
   ]
  },
  {
   "cell_type": "code",
   "execution_count": 11,
   "metadata": {},
   "outputs": [
    {
     "name": "stdout",
     "output_type": "stream",
     "text": [
      "[stdout:0] \n",
      "Starting\n",
      "0: sent data to 1: [89 32 30 80 77 98 25  3 28 42 13 67  2 87  4 15 74 54 96 63 51  9 36 92\n",
      " 10 73 71 68  8 75  5 61 47 76 83  0 14 93 49 41 43 72 91 84 34 23 65 31\n",
      " 69 19 45 17 94 62 53 95 86 99  6 12 27  1 60 48 66 64 59 78 21 44 38 70\n",
      " 90 97 33 37 57 85 52 29 88  7 24 18 39 56 46 16 22 79 35 55 26 11 81 82\n",
      " 50 40 20 58]\n",
      "[stdout:1] \n",
      "Starting\n",
      "1: received data from 0: [89 32 30 80 77 98 25  3 28 42 13 67  2 87  4 15 74 54 96 63 51  9 36 92\n",
      " 10 73 71 68  8 75  5 61 47 76 83  0 14 93 49 41 43 72 91 84 34 23 65 31\n",
      " 69 19 45 17 94 62 53 95 86 99  6 12 27  1 60 48 66 64 59 78 21 44 38 70\n",
      " 90 97 33 37 57 85 52 29 88  7 24 18 39 56 46 16 22 79 35 55 26 11 81 82\n",
      " 50 40 20 58]\n",
      "[stdout:2] \n",
      "Starting\n",
      "2: idle\n",
      "[stdout:3] \n",
      "Starting\n",
      "3: idle\n"
     ]
    }
   ],
   "source": [
    "%%px\n",
    "\n",
    "from mpi4py import MPI\n",
    "import numpy\n",
    "\n",
    "comm = MPI.COMM_WORLD\n",
    "rank = comm.Get_rank()\n",
    "\n",
    "print(\"Starting\")\n",
    "# passing MPI datatypes explicitly\n",
    "if rank == 0:\n",
    "    data = numpy.arange(100, dtype='i')\n",
    "    numpy.random.shuffle(data)\n",
    "    comm.Send([data, MPI.INT], dest=1, tag=77)\n",
    "    print(\"{0}: sent data to 1: {1}\".format(rank, data))\n",
    "elif rank == 1:\n",
    "    data = numpy.empty(100, dtype='i')\n",
    "    comm.Recv([data, MPI.INT], source=0, tag=77)\n",
    "    print(\"{0}: received data from 0: {1}\".format(rank, data))\n",
    "else:\n",
    "    print(\"{0}: idle\".format(rank))"
   ]
  },
  {
   "cell_type": "code",
   "execution_count": 12,
   "metadata": {},
   "outputs": [],
   "source": [
    "%%px\n",
    "\n",
    "#Lets have matplotlib \"inline\"\n",
    "%matplotlib inline\n",
    "\n",
    "#Python 2.7 compatibility\n",
    "from __future__ import print_function\n",
    "\n",
    "#Import packages we need\n",
    "import numpy as np\n",
    "from matplotlib import animation, rc\n",
    "from matplotlib import pyplot as plt\n",
    "#import mpld3\n",
    "\n",
    "import subprocess\n",
    "import os\n",
    "import sys\n",
    "import gc\n",
    "import datetime\n",
    "\n",
    "from importlib import reload\n",
    "\n",
    "sys.path.insert(0, os.path.abspath(os.path.join(os.getcwd(), 'gpu_ocean')))\n",
    "\n",
    "import pycuda.driver as cuda\n",
    "from pycuda.compiler import SourceModule\n",
    "\n",
    "#Finally, import our simulator\n",
    "from SWESimulators import Common, CTCS, PlotHelper, IPythonMagic\n",
    "from SWESimulators.BathymetryAndICs import *"
   ]
  },
  {
   "cell_type": "code",
   "execution_count": 13,
   "metadata": {},
   "outputs": [
    {
     "name": "stderr",
     "output_type": "stream",
     "text": [
      "[stderr:0] \n",
      "Registering logging to MPITest.log\n",
      "Python version 3.5.2 (default, Sep 14 2017, 22:51:06) \n",
      "[GCC 5.4.0 20160609]\n",
      "PyCUDA version 2018.1\n",
      "CUDA version (7, 5, 0)\n",
      "Driver version 9010\n",
      "Using 'Tesla M2090' GPU\n",
      "Created context handle <54065520>\n",
      "[stderr:1] \n",
      "Registering logging to MPITest.log\n",
      "Python version 3.5.2 (default, Sep 14 2017, 22:51:06) \n",
      "[GCC 5.4.0 20160609]\n",
      "PyCUDA version 2018.1\n",
      "CUDA version (7, 5, 0)\n",
      "Driver version 9010\n",
      "Using 'Tesla M2090' GPU\n",
      "Created context handle <48985280>\n",
      "[stderr:2] \n",
      "Registering logging to MPITest.log\n",
      "Python version 3.5.2 (default, Sep 14 2017, 22:51:06) \n",
      "[GCC 5.4.0 20160609]\n",
      "PyCUDA version 2018.1\n",
      "CUDA version (7, 5, 0)\n",
      "Driver version 9010\n",
      "Using 'Tesla M2090' GPU\n",
      "Created context handle <40082656>\n",
      "[stderr:3] \n",
      "Registering logging to MPITest.log\n",
      "Python version 3.5.2 (default, Sep 14 2017, 22:51:06) \n",
      "[GCC 5.4.0 20160609]\n",
      "PyCUDA version 2018.1\n",
      "CUDA version (7, 5, 0)\n",
      "Driver version 9010\n",
      "Using 'Tesla M2090' GPU\n",
      "Created context handle <43312896>\n"
     ]
    }
   ],
   "source": [
    "%%px\n",
    "%setup_logging MPITest.log\n",
    "%cuda_context_handler gpu_ctx"
   ]
  },
  {
   "cell_type": "code",
   "execution_count": 14,
   "metadata": {},
   "outputs": [],
   "source": [
    "%%px\n",
    "\n",
    "def run_benchmark(simulator):\n",
    "    with Common.Timer(simulator.__class__.__name__ + \"_\" + str(sim_args[\"nx\"])) as timer:\n",
    "        t = sim.step(2.0)"
   ]
  },
  {
   "cell_type": "code",
   "execution_count": 15,
   "metadata": {},
   "outputs": [],
   "source": [
    "%%px\n",
    "\n",
    "reload(Common)\n",
    "reload(CTCS)\n",
    "\n",
    "# Set initial conditions common to all simulators\n",
    "sim_args = {\n",
    "\"gpu_ctx\": gpu_ctx,\n",
    "\"nx\": 100, \"ny\": 200,\n",
    "\"dx\": 200.0, \"dy\": 200.0,\n",
    "\"dt\": 1,\n",
    "\"g\": 9.81,\n",
    "\"f\": 0.0,\n",
    "\"r\": 0.0,\n",
    "\"write_netcdf\": True,\n",
    "\"ensemble_size\": 2,\n",
    "\"ensemble_member\": rank,\n",
    "}"
   ]
  },
  {
   "cell_type": "code",
   "execution_count": 8,
   "metadata": {},
   "outputs": [
    {
     "ename": "CompositeError",
     "evalue": "one or more exceptions from call to method: execute\n[0:execute]: OSError: Permission denied\n[1:execute]: AttributeError: NetCDF: Attribute not found",
     "output_type": "error",
     "traceback": [
      "[0:execute]: ",
      "\u001b[0;31m\u001b[0m\u001b[0;31mOSError\u001b[0mTraceback (most recent call last)\u001b[0;32m<ipython-input-7-610794256acd>\u001b[0m in \u001b[0;36m<module>\u001b[0;34m()\u001b[0m",
      "\u001b[1;32m     14\u001b[0m \u001b[0;31m#Initialize simulator\u001b[0m\u001b[0;34m\u001b[0m\u001b[0;34m\u001b[0m\u001b[0m",
      "\u001b[1;32m     15\u001b[0m \u001b[0mctcs_args\u001b[0m \u001b[0;34m=\u001b[0m \u001b[0;34m{\u001b[0m\u001b[0;34m\"H\"\u001b[0m\u001b[0;34m:\u001b[0m \u001b[0mh0\u001b[0m\u001b[0;34m,\u001b[0m \u001b[0;34m\"eta0\"\u001b[0m\u001b[0;34m:\u001b[0m \u001b[0meta0\u001b[0m\u001b[0;34m,\u001b[0m \u001b[0;34m\"hu0\"\u001b[0m\u001b[0;34m:\u001b[0m \u001b[0mu0\u001b[0m\u001b[0;34m,\u001b[0m \u001b[0;34m\"hv0\"\u001b[0m\u001b[0;34m:\u001b[0m \u001b[0mv0\u001b[0m\u001b[0;34m,\u001b[0m \u001b[0;34m\"A\"\u001b[0m\u001b[0;34m:\u001b[0m \u001b[0;36m1.0\u001b[0m\u001b[0;34m}\u001b[0m\u001b[0;34m\u001b[0m\u001b[0m",
      "\u001b[0;32m---> 16\u001b[0;31m \u001b[0msim\u001b[0m \u001b[0;34m=\u001b[0m \u001b[0mCTCS\u001b[0m\u001b[0;34m.\u001b[0m\u001b[0mCTCS\u001b[0m\u001b[0;34m(\u001b[0m\u001b[0;34m**\u001b[0m\u001b[0mctcs_args\u001b[0m\u001b[0;34m,\u001b[0m \u001b[0;34m**\u001b[0m\u001b[0msim_args\u001b[0m\u001b[0;34m)\u001b[0m\u001b[0;34m\u001b[0m\u001b[0m",
      "\u001b[0m\u001b[1;32m     17\u001b[0m \u001b[0;34m\u001b[0m\u001b[0m",
      "\u001b[1;32m     18\u001b[0m \u001b[0;31m#Run a simulation and plot it\u001b[0m\u001b[0;34m\u001b[0m\u001b[0;34m\u001b[0m\u001b[0m",
      "\u001b[0;32m/lustre/storeB/users/martinls/src/gpu-ocean/gpu_ocean/SWESimulators/CTCS.py\u001b[0m in \u001b[0;36m__init__\u001b[0;34m(self, gpu_ctx, H, eta0, hu0, hv0, nx, ny, dx, dy, dt, g, f, r, A, t, coriolis_beta, y_zero_reference_cell, wind_stress, boundary_conditions, write_netcdf, ensemble_size, ensemble_member, ignore_ghostcells, offset_x, offset_y, block_width, block_height)\u001b[0m",
      "\u001b[1;32m    164\u001b[0m         \u001b[0;32mif\u001b[0m \u001b[0mself\u001b[0m\u001b[0;34m.\u001b[0m\u001b[0mwrite_netcdf\u001b[0m\u001b[0;34m:\u001b[0m\u001b[0;34m\u001b[0m\u001b[0m",
      "\u001b[1;32m    165\u001b[0m             self.sim_writer = SimWriter.SimNetCDFWriter(self, ignore_ghostcells=self.ignore_ghostcells, \\",
      "\u001b[0;32m--> 166\u001b[0;31m                                     staggered_grid=True, offset_x=self.offset_x, offset_y=self.offset_y)",
      "\u001b[0m\u001b[1;32m    167\u001b[0m \u001b[0;34m\u001b[0m\u001b[0m",
      "\u001b[1;32m    168\u001b[0m     \u001b[0;34m@\u001b[0m\u001b[0mclassmethod\u001b[0m\u001b[0;34m\u001b[0m\u001b[0m",
      "\u001b[0;32m/lustre/storeB/users/martinls/src/gpu-ocean/gpu_ocean/SWESimulators/SimWriter.py\u001b[0m in \u001b[0;36m__init__\u001b[0;34m(self, sim, num_layers, staggered_grid, ignore_ghostcells, offset_x, offset_y)\u001b[0m",
      "\u001b[1;32m    125\u001b[0m             \u001b[0mos\u001b[0m\u001b[0;34m.\u001b[0m\u001b[0mmakedirs\u001b[0m\u001b[0;34m(\u001b[0m\u001b[0mself\u001b[0m\u001b[0;34m.\u001b[0m\u001b[0mdir_name\u001b[0m\u001b[0;34m)\u001b[0m\u001b[0;34m\u001b[0m\u001b[0m",
      "\u001b[1;32m    126\u001b[0m         \u001b[0;32mif\u001b[0m\u001b[0;34m(\u001b[0m\u001b[0msim\u001b[0m\u001b[0;34m.\u001b[0m\u001b[0mensemble_size\u001b[0m\u001b[0;34m)\u001b[0m\u001b[0;34m:\u001b[0m\u001b[0;34m\u001b[0m\u001b[0m",
      "\u001b[0;32m--> 127\u001b[0;31m             \u001b[0mself\u001b[0m\u001b[0;34m.\u001b[0m\u001b[0mncfile\u001b[0m \u001b[0;34m=\u001b[0m \u001b[0mDataset\u001b[0m\u001b[0;34m(\u001b[0m\u001b[0mself\u001b[0m\u001b[0;34m.\u001b[0m\u001b[0moutput_file_name\u001b[0m\u001b[0;34m,\u001b[0m\u001b[0;34m'w'\u001b[0m\u001b[0;34m,\u001b[0m \u001b[0mclobber\u001b[0m\u001b[0;34m=\u001b[0m\u001b[0;32mTrue\u001b[0m\u001b[0;34m,\u001b[0m \u001b[0mparallel\u001b[0m\u001b[0;34m=\u001b[0m\u001b[0;32mTrue\u001b[0m\u001b[0;34m)\u001b[0m\u001b[0;34m\u001b[0m\u001b[0m",
      "\u001b[0m\u001b[1;32m    128\u001b[0m         \u001b[0;32melse\u001b[0m\u001b[0;34m:\u001b[0m\u001b[0;34m\u001b[0m\u001b[0m",
      "\u001b[1;32m    129\u001b[0m             \u001b[0mself\u001b[0m\u001b[0;34m.\u001b[0m\u001b[0mncfile\u001b[0m \u001b[0;34m=\u001b[0m \u001b[0mDataset\u001b[0m\u001b[0;34m(\u001b[0m\u001b[0mself\u001b[0m\u001b[0;34m.\u001b[0m\u001b[0moutput_file_name\u001b[0m\u001b[0;34m,\u001b[0m\u001b[0;34m'w'\u001b[0m\u001b[0;34m,\u001b[0m \u001b[0mclobber\u001b[0m\u001b[0;34m=\u001b[0m\u001b[0;32mTrue\u001b[0m\u001b[0;34m,\u001b[0m \u001b[0mparallel\u001b[0m\u001b[0;34m=\u001b[0m\u001b[0;32mFalse\u001b[0m\u001b[0;34m)\u001b[0m\u001b[0;34m\u001b[0m\u001b[0m",
      "\u001b[0;32mnetCDF4/_netCDF4.pyx\u001b[0m in \u001b[0;36mnetCDF4._netCDF4.Dataset.__init__ (netCDF4/_netCDF4.c:12463)\u001b[0;34m()\u001b[0m",
      "\u001b[0;31mOSError\u001b[0m: Permission denied",
      "",
      "[1:execute]: ",
      "\u001b[0;31m\u001b[0m\u001b[0;31mAttributeError\u001b[0mTraceback (most recent call last)\u001b[0;32m<ipython-input-7-610794256acd>\u001b[0m in \u001b[0;36m<module>\u001b[0;34m()\u001b[0m",
      "\u001b[1;32m     14\u001b[0m \u001b[0;31m#Initialize simulator\u001b[0m\u001b[0;34m\u001b[0m\u001b[0;34m\u001b[0m\u001b[0m",
      "\u001b[1;32m     15\u001b[0m \u001b[0mctcs_args\u001b[0m \u001b[0;34m=\u001b[0m \u001b[0;34m{\u001b[0m\u001b[0;34m\"H\"\u001b[0m\u001b[0;34m:\u001b[0m \u001b[0mh0\u001b[0m\u001b[0;34m,\u001b[0m \u001b[0;34m\"eta0\"\u001b[0m\u001b[0;34m:\u001b[0m \u001b[0meta0\u001b[0m\u001b[0;34m,\u001b[0m \u001b[0;34m\"hu0\"\u001b[0m\u001b[0;34m:\u001b[0m \u001b[0mu0\u001b[0m\u001b[0;34m,\u001b[0m \u001b[0;34m\"hv0\"\u001b[0m\u001b[0;34m:\u001b[0m \u001b[0mv0\u001b[0m\u001b[0;34m,\u001b[0m \u001b[0;34m\"A\"\u001b[0m\u001b[0;34m:\u001b[0m \u001b[0;36m1.0\u001b[0m\u001b[0;34m}\u001b[0m\u001b[0;34m\u001b[0m\u001b[0m",
      "\u001b[0;32m---> 16\u001b[0;31m \u001b[0msim\u001b[0m \u001b[0;34m=\u001b[0m \u001b[0mCTCS\u001b[0m\u001b[0;34m.\u001b[0m\u001b[0mCTCS\u001b[0m\u001b[0;34m(\u001b[0m\u001b[0;34m**\u001b[0m\u001b[0mctcs_args\u001b[0m\u001b[0;34m,\u001b[0m \u001b[0;34m**\u001b[0m\u001b[0msim_args\u001b[0m\u001b[0;34m)\u001b[0m\u001b[0;34m\u001b[0m\u001b[0m",
      "\u001b[0m\u001b[1;32m     17\u001b[0m \u001b[0;34m\u001b[0m\u001b[0m",
      "\u001b[1;32m     18\u001b[0m \u001b[0;31m#Run a simulation and plot it\u001b[0m\u001b[0;34m\u001b[0m\u001b[0;34m\u001b[0m\u001b[0m",
      "\u001b[0;32m/lustre/storeB/users/martinls/src/gpu-ocean/gpu_ocean/SWESimulators/CTCS.py\u001b[0m in \u001b[0;36m__init__\u001b[0;34m(self, gpu_ctx, H, eta0, hu0, hv0, nx, ny, dx, dy, dt, g, f, r, A, t, coriolis_beta, y_zero_reference_cell, wind_stress, boundary_conditions, write_netcdf, ensemble_size, ensemble_member, ignore_ghostcells, offset_x, offset_y, block_width, block_height)\u001b[0m",
      "\u001b[1;32m    164\u001b[0m         \u001b[0;32mif\u001b[0m \u001b[0mself\u001b[0m\u001b[0;34m.\u001b[0m\u001b[0mwrite_netcdf\u001b[0m\u001b[0;34m:\u001b[0m\u001b[0;34m\u001b[0m\u001b[0m",
      "\u001b[1;32m    165\u001b[0m             self.sim_writer = SimWriter.SimNetCDFWriter(self, ignore_ghostcells=self.ignore_ghostcells, \\",
      "\u001b[0;32m--> 166\u001b[0;31m                                     staggered_grid=True, offset_x=self.offset_x, offset_y=self.offset_y)",
      "\u001b[0m\u001b[1;32m    167\u001b[0m \u001b[0;34m\u001b[0m\u001b[0m",
      "\u001b[1;32m    168\u001b[0m     \u001b[0;34m@\u001b[0m\u001b[0mclassmethod\u001b[0m\u001b[0;34m\u001b[0m\u001b[0m",
      "\u001b[0;32m/lustre/storeB/users/martinls/src/gpu-ocean/gpu_ocean/SWESimulators/SimWriter.py\u001b[0m in \u001b[0;36m__init__\u001b[0;34m(self, sim, num_layers, staggered_grid, ignore_ghostcells, offset_x, offset_y)\u001b[0m",
      "\u001b[1;32m    298\u001b[0m             \u001b[0;31m# FIXME: Switch to independent parallel IO after nc-file is initialized.\u001b[0m\u001b[0;34m\u001b[0m\u001b[0;34m\u001b[0m\u001b[0m",
      "\u001b[1;32m    299\u001b[0m             \u001b[0;31m# time dim cannot be UNLIMITED when independent parallel IO is used!\u001b[0m\u001b[0;34m\u001b[0m\u001b[0;34m\u001b[0m\u001b[0m",
      "\u001b[0;32m--> 300\u001b[0;31m             \u001b[0mself\u001b[0m\u001b[0;34m.\u001b[0m\u001b[0mnc_eta\u001b[0m\u001b[0;34m.\u001b[0m\u001b[0mset_collective\u001b[0m\u001b[0;34m(\u001b[0m\u001b[0;32mFalse\u001b[0m\u001b[0;34m)\u001b[0m\u001b[0;34m\u001b[0m\u001b[0m",
      "\u001b[0m\u001b[1;32m    301\u001b[0m             \u001b[0;32mif\u001b[0m \u001b[0;32mnot\u001b[0m \u001b[0mself\u001b[0m\u001b[0;34m.\u001b[0m\u001b[0mignore_ghostcells\u001b[0m \u001b[0;32mand\u001b[0m \u001b[0mself\u001b[0m\u001b[0;34m.\u001b[0m\u001b[0mstaggered_grid\u001b[0m\u001b[0;34m:\u001b[0m\u001b[0;34m\u001b[0m\u001b[0m",
      "\u001b[1;32m    302\u001b[0m                 \u001b[0mself\u001b[0m\u001b[0;34m.\u001b[0m\u001b[0mnc_hu\u001b[0m \u001b[0;34m=\u001b[0m \u001b[0mself\u001b[0m\u001b[0;34m.\u001b[0m\u001b[0mncfile\u001b[0m\u001b[0;34m.\u001b[0m\u001b[0mcreateVariable\u001b[0m\u001b[0;34m(\u001b[0m\u001b[0;34m'hu'\u001b[0m\u001b[0;34m,\u001b[0m \u001b[0mnp\u001b[0m\u001b[0;34m.\u001b[0m\u001b[0mdtype\u001b[0m\u001b[0;34m(\u001b[0m\u001b[0;34m'float32'\u001b[0m\u001b[0;34m)\u001b[0m\u001b[0;34m.\u001b[0m\u001b[0mchar\u001b[0m\u001b[0;34m,\u001b[0m \u001b[0;34m(\u001b[0m\u001b[0;34m'time'\u001b[0m\u001b[0;34m,\u001b[0m \u001b[0;34m'ensemble_member'\u001b[0m\u001b[0;34m,\u001b[0m \u001b[0;34m'y_hu'\u001b[0m\u001b[0;34m,\u001b[0m \u001b[0;34m'x_hu'\u001b[0m\u001b[0;34m)\u001b[0m\u001b[0;34m,\u001b[0m \u001b[0mzlib\u001b[0m\u001b[0;34m=\u001b[0m\u001b[0;32mTrue\u001b[0m\u001b[0;34m)\u001b[0m\u001b[0;34m\u001b[0m\u001b[0m",
      "\u001b[0;32mnetCDF4/_netCDF4.pyx\u001b[0m in \u001b[0;36mnetCDF4._netCDF4.Variable.__getattr__ (netCDF4/_netCDF4.c:36921)\u001b[0;34m()\u001b[0m",
      "\u001b[0;32mnetCDF4/_netCDF4.pyx\u001b[0m in \u001b[0;36mnetCDF4._netCDF4.Variable.getncattr (netCDF4/_netCDF4.c:34128)\u001b[0;34m()\u001b[0m",
      "\u001b[0;32mnetCDF4/_netCDF4.pyx\u001b[0m in \u001b[0;36mnetCDF4._netCDF4._get_att (netCDF4/_netCDF4.c:4124)\u001b[0;34m()\u001b[0m",
      "\u001b[0;31mAttributeError\u001b[0m: NetCDF: Attribute not found",
      ""
     ]
    }
   ],
   "source": [
    "%%px\n",
    "\n",
    "ghosts = [1,1,1,1] # north, east, south, west\n",
    "dataShape = (sim_args[\"ny\"] + ghosts[0]+ghosts[2], \n",
    "             sim_args[\"nx\"] + ghosts[1]+ghosts[3])\n",
    "\n",
    "h0 = np.ones(dataShape, dtype=np.float32) * 60.0;\n",
    "eta0 = np.zeros(dataShape, dtype=np.float32);\n",
    "u0 = np.zeros((dataShape[0], dataShape[1]+1), dtype=np.float32);\n",
    "v0 = np.zeros((dataShape[0]+1, dataShape[1]), dtype=np.float32);       \n",
    "\n",
    "#Create bump in to lower left of domain for testing\n",
    "addCentralBump(eta0, sim_args[\"nx\"], sim_args[\"ny\"], sim_args[\"dx\"], sim_args[\"dy\"], ghosts)\n",
    "\n",
    "#Initialize simulator\n",
    "ctcs_args = {\"H\": h0, \"eta0\": eta0, \"hu0\": u0, \"hv0\": v0, \"A\": 1.0}\n",
    "sim = CTCS.CTCS(**ctcs_args, **sim_args)\n",
    "\n",
    "#Run a simulation and plot it\n",
    "run_benchmark(sim)"
   ]
  },
  {
   "cell_type": "code",
   "execution_count": null,
   "metadata": {},
   "outputs": [],
   "source": [
    "%%px\n",
    "sim.cleanUp()"
   ]
  },
  {
   "cell_type": "code",
   "execution_count": null,
   "metadata": {},
   "outputs": [],
   "source": []
  }
 ],
 "metadata": {
  "kernelspec": {
   "display_name": "Python 3",
   "language": "python",
   "name": "python3"
  },
  "language_info": {
   "codemirror_mode": {
    "name": "ipython",
    "version": 3
   },
   "file_extension": ".py",
   "mimetype": "text/x-python",
   "name": "python",
   "nbconvert_exporter": "python",
   "pygments_lexer": "ipython3",
   "version": "3.5.2"
  }
 },
 "nbformat": 4,
 "nbformat_minor": 2
}
