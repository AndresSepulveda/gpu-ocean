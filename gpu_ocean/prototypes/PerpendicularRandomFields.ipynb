{
 "cells": [
  {
   "cell_type": "markdown",
   "metadata": {},
   "source": [
    "```\n",
    "This notebook sets up and runs a set of benchmarks to compare\n",
    "different numerical discretizations of the SWEs\n",
    "\n",
    "Copyright (C) 2016  SINTEF ICT\n",
    "\n",
    "This program is free software: you can redistribute it and/or modify\n",
    "it under the terms of the GNU General Public License as published by\n",
    "the Free Software Foundation, either version 3 of the License, or\n",
    "(at your option) any later version.\n",
    "\n",
    "This program is distributed in the hope that it will be useful,\n",
    "but WITHOUT ANY WARRANTY; without even the implied warranty of\n",
    "MERCHANTABILITY or FITNESS FOR A PARTICULAR PURPOSE.  See the\n",
    "GNU General Public License for more details.\n",
    "\n",
    "You should have received a copy of the GNU General Public License\n",
    "along with this program.  If not, see <http://www.gnu.org/licenses/>.\n",
    "```"
   ]
  },
  {
   "cell_type": "markdown",
   "metadata": {},
   "source": [
    "# Perpendicular random fields\n",
    "\n",
    "This notebook is used to test the generation of perpendicular random fields produced on the GPU. Hipp hurra!"
   ]
  },
  {
   "cell_type": "markdown",
   "metadata": {},
   "source": [
    "## Set environment"
   ]
  },
  {
   "cell_type": "code",
   "execution_count": null,
   "metadata": {},
   "outputs": [],
   "source": [
    "%matplotlib inline\n",
    "%config InlineBackend.figure_format = 'retina'\n",
    "\n",
    "import numpy as np\n",
    "from matplotlib import pyplot as plt\n",
    "from matplotlib import animation, rc\n",
    "\n",
    "import pycuda.driver as cuda\n",
    "import os\n",
    "import sys\n",
    "from importlib import reload\n",
    "sys.path.insert(0, os.path.abspath(os.path.join(os.getcwd(), '../')))\n",
    "\n",
    "#Set large figure sizes\n",
    "rc('figure', figsize=(16.0, 12.0))\n",
    "rc('animation', html='html5')\n",
    "\n",
    "#Import our simulator\n",
    "from SWESimulators import OceanStateNoise, IPythonMagic"
   ]
  },
  {
   "cell_type": "code",
   "execution_count": null,
   "metadata": {},
   "outputs": [],
   "source": [
    "%cuda_context_handler gpu_ctx\n",
    "gpu_stream = cuda.Stream()"
   ]
  },
  {
   "cell_type": "code",
   "execution_count": null,
   "metadata": {},
   "outputs": [],
   "source": [
    "def imshow2(xi, nu, interpolation=\"None\", title=None):\n",
    "    fig, axs = plt.subplots(1,2, figsize=(8,4))\n",
    "    \n",
    "    xi_im = axs[0].imshow(xi, interpolation=interpolation, origin='lower')\n",
    "    axs[0].set_title(\"xi\")\n",
    "    plt.colorbar(xi_im, ax=axs[0])\n",
    "    \n",
    "   \n",
    "    nu_im = axs[1].imshow(nu, interpolation=interpolation, origin='lower')\n",
    "    axs[1].set_title(\"nu\")\n",
    "    plt.colorbar(nu_im, ax=axs[1])\n",
    "\n",
    "    if title is not None:\n",
    "        plt.suptitle(title)\n",
    "    plt.tight_layout()\n",
    " "
   ]
  },
  {
   "cell_type": "markdown",
   "metadata": {},
   "source": [
    "# Testing \n"
   ]
  },
  {
   "cell_type": "code",
   "execution_count": null,
   "metadata": {
    "scrolled": false
   },
   "outputs": [],
   "source": [
    "if 'newnoise' in globals():\n",
    "    newnoise.cleanUp()\n",
    "reload(OceanStateNoise)\n",
    "\n",
    "nx, ny = 210, 210\n",
    "dx, dy = 100.0, 100.0\n",
    "interpolation_factor = 1\n",
    "\n",
    "noise = OceanStateNoise.OceanStateNoise(gpu_ctx, gpu_stream, \\\n",
    "                                        nx, ny, dx, dy, \\\n",
    "                                        Common.BoundaryConditions(2,2,2,2),\n",
    "                                        False,\n",
    "                                        interpolation_factor=interpolation_factor)\n",
    "\n",
    "print(\"----- Initial reduction buffer ----------\")\n",
    "reduction_buffer = noise.getReductionBuffer()\n",
    "print(\"xi_norm, nu_norm, xi_nu_dot: \", (reduction_buffer[0,0], reduction_buffer[0,1], reduction_buffer[0,2]))\n",
    "\n",
    "\n",
    "print(\"------- Indepentend xi, nu sim N(0,I) ---------\")\n",
    "noise.generateNormalDistribution()\n",
    "noise.generateNormalDistributionPerpendicular()\n",
    "noise.findDoubleNormAndDot()\n",
    "reduction_buffer_host = noise.getReductionBuffer()\n",
    "\n",
    "xi = noise.getRandomNumbers()\n",
    "nu = noise.getPerpendicularRandomNumbers()\n",
    "\n",
    "print(\"xi.shape: \", xi.shape)\n",
    "print(\"nu.shape: \", nu.shape)\n",
    "\n",
    "imshow2(xi, nu, title=\"Independent xi, nu sim N(0,I)\")\n",
    "\n",
    "xiTnu = np.sum(xi*nu)\n",
    "xiTxi = np.sum(xi*xi)\n",
    "nuTnu = np.sum(nu*nu)\n",
    "print(\"CPU xiTnu: \", xiTnu)\n",
    "print(\"CPU nuTnu: \", nuTnu)\n",
    "print(\"CPU xiTxi: \", xiTxi)\n",
    "\n",
    "print(\"Reduction buffer: \")\n",
    "print(\"\\txi_norm, nu_norm, xi_nu_dot: \", \n",
    "      (reduction_buffer_host[0,0], reduction_buffer_host[0,1], reduction_buffer_host[0,2]))\n",
    "\n",
    "\n",
    "print(\"----------- Make perpendicular --------------\")\n",
    "noise._makePerpendicular()\n",
    "xi_2 = noise.getRandomNumbers()\n",
    "nu_2 = noise.getPerpendicularRandomNumbers()\n",
    "\n",
    "print(\"is xi unchanged? sum(norm(xi - xi_2)): \", np.sum((xi - xi_2)*(xi - xi_2)))\n",
    "print(\"is |nu| unchanged? norm(nu) - norm(nu_2): \", np.sum(nu_2*nu_2) - nuTnu)\n",
    "\n",
    "imshow2(xi_2, nu_2, title=\"Perpendicular xi, nu sim N(0,I)\")\n",
    "\n",
    "noise.findDoubleNormAndDot()\n",
    "reduction_buffer_host_2 = noise.getReductionBuffer()\n",
    "print(\"xi_2_norm, nu_2_norm, xi_2_nu_2_dot: \",\n",
    "      (reduction_buffer_host_2[0,0], reduction_buffer_host_2[0,1], reduction_buffer_host_2[0,2]))\n",
    "\n",
    "\n",
    "print(\"dot product of final downloaded buffers: \", np.sum(xi_2*nu_2))"
   ]
  },
  {
   "cell_type": "code",
   "execution_count": null,
   "metadata": {},
   "outputs": [],
   "source": []
  },
  {
   "cell_type": "code",
   "execution_count": null,
   "metadata": {},
   "outputs": [],
   "source": []
  },
  {
   "cell_type": "code",
   "execution_count": null,
   "metadata": {},
   "outputs": [],
   "source": []
  },
  {
   "cell_type": "code",
   "execution_count": null,
   "metadata": {},
   "outputs": [],
   "source": []
  }
 ],
 "metadata": {
  "git": {
   "suppress_outputs": true
  },
  "kernelspec": {
   "display_name": "Python [conda env:gpuocean]",
   "language": "python",
   "name": "conda-env-gpuocean-py"
  },
  "language_info": {
   "codemirror_mode": {
    "name": "ipython",
    "version": 3
   },
   "file_extension": ".py",
   "mimetype": "text/x-python",
   "name": "python",
   "nbconvert_exporter": "python",
   "pygments_lexer": "ipython3",
   "version": "3.6.6"
  }
 },
 "nbformat": 4,
 "nbformat_minor": 1
}