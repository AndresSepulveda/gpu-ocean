{
 "cells": [
  {
   "cell_type": "code",
   "execution_count": null,
   "metadata": {},
   "outputs": [],
   "source": [
    "# -*- coding: utf-8 -*-\n",
    "\n",
    "\"\"\"\n",
    "This software is part of GPU Ocean. \n",
    "Copyright (C) 2019 SINTEF Digital\n",
    "\n",
    "This notebook is used to show the individual steps of the ETKF for an ocean ensemble.\n",
    "\n",
    "This program is free software: you can redistribute it and/or modify\n",
    "it under the terms of the GNU General Public License as published by\n",
    "the Free Software Foundation, either version 3 of the License, or\n",
    "(at your option) any later version.\n",
    "\n",
    "This program is distributed in the hope that it will be useful,\n",
    "but WITHOUT ANY WARRANTY; without even the implied warranty of\n",
    "MERCHANTABILITY or FITNESS FOR A PARTICULAR PURPOSE.  See the\n",
    "GNU General Public License for more details.\n",
    "\n",
    "You should have received a copy of the GNU General Public License\n",
    "along with this program.  If not, see <http://www.gnu.org/licenses/>.\n",
    "\"\"\"\n",
    "\n",
    "\n",
    "import sys, os, datetime, time, shutil\n",
    "from importlib import reload \n",
    "import numpy as np\n",
    "\n",
    "%matplotlib inline\n",
    "%config InlineBackend.figure_format = 'retina'\n",
    "import matplotlib\n",
    "from matplotlib import pyplot as plt\n",
    "from matplotlib import rc\n",
    "from matplotlib import gridspec as gridspec\n",
    "\n",
    "#Set large figure sizes\n",
    "rc('figure', figsize=(16.0, 12.0))\n",
    "rc('animation', html='html5')\n",
    "matplotlib.rcParams['contour.negative_linestyle'] = 'solid'\n",
    "\n",
    "current_dir = os.getcwd()\n",
    "\n",
    "if os.path.isdir(os.path.abspath(os.path.join(current_dir, '../../SWESimulators'))):\n",
    "        sys.path.insert(0, os.path.abspath(os.path.join(current_dir, '../../')))\n",
    "\n",
    "from SWESimulators import IPythonMagic\n",
    "from SWESimulators import BaseOceanStateEnsemble, OceanNoiseEnsemble, CDKLM16 \n",
    "from SWESimulators import Common\n",
    "from SWESimulators import DataAssimilationUtils as dautils\n",
    "\n"
   ]
  },
  {
   "cell_type": "code",
   "execution_count": null,
   "metadata": {},
   "outputs": [
    {
     "name": "stderr",
     "output_type": "stream",
     "text": [
      "Console logger using level INFO\n",
      "File logger using level Level 15 to enkf_gpu.log\n",
      "Python version 3.7.8 | packaged by conda-forge | (default, Jul 31 2020, 01:53:57) [MSC v.1916 64 bit (AMD64)]\n"
     ]
    }
   ],
   "source": [
    "%cuda_context_handler gpu_ctx\n",
    "%setup_logging --out enkf_gpu.log --file_level 15"
   ]
  },
  {
   "cell_type": "markdown",
   "metadata": {},
   "source": [
    "# Set up an instance \n",
    "\n",
    "OceanNoiseEnsemble using CDKLM16-Simulators"
   ]
  },
  {
   "cell_type": "code",
   "execution_count": null,
   "metadata": {},
   "outputs": [
    {
     "name": "stdout",
     "output_type": "stream",
     "text": [
      "q0:  0.00017095320928897472\n",
      "[f, g, H, dt] [0.05, 9.81, 10.0, 0.05]\n",
      "(nx, ny):  (60, 60)\n",
      "max_dt:  0.08804385364055634\n",
      "Ready!\n"
     ]
    }
   ],
   "source": [
    "# DEFINE PARAMETERS\n",
    "\n",
    "sim_args = {\n",
    "    \"gpu_ctx\": gpu_ctx,\n",
    "    \"nx\": 60, \"ny\": 60,\n",
    "    \"dx\": 4.0, \"dy\": 4.0,\n",
    "    \"dt\": 0.05,\n",
    "    \"g\": 9.81,\n",
    "    \"f\": 0.05,\n",
    "    \"coriolis_beta\": 0.0,\n",
    "    \"r\": 0.0,\n",
    "    \"rk_order\": 2,\n",
    "    \"small_scale_perturbation_amplitude\": None,\n",
    "    \"write_netcdf\": False, \n",
    "    \"small_scale_perturbation\": True,\n",
    "    \"small_scale_perturbation_interpolation_factor\": 3,\n",
    "    \"boundary_conditions\": Common.BoundaryConditions(2,2,2,2)\n",
    "}\n",
    "\n",
    "ghosts = np.array([2,2,2,2]) # north, east, south, west\n",
    "validDomain = np.array([2,2,2,2])\n",
    "\n",
    "\n",
    "dataShape = (sim_args[\"ny\"] + ghosts[0]+ghosts[2], \n",
    "             sim_args[\"nx\"] + ghosts[1]+ghosts[3])\n",
    "dataShapeHi = (sim_args[\"ny\"] + ghosts[0]+ghosts[2]+1, \n",
    "             sim_args[\"nx\"] + ghosts[1]+ghosts[3]+1)\n",
    "\n",
    "sim_args[\"eta0\"] = np.zeros(dataShape, dtype=np.float32, order='C');\n",
    "sim_args[\"hv0\"] = np.zeros(dataShape, dtype=np.float32, order='C');\n",
    "sim_args[\"hu0\"] = np.zeros(dataShape, dtype=np.float32, order='C');\n",
    "waterDepth = 10.0\n",
    "sim_args[\"H\"] = np.ones(dataShapeHi, dtype=np.float32, order='C')*waterDepth\n",
    "\n",
    "\n",
    "if 'sim' in globals():\n",
    "    sim.cleanUp()\n",
    "if 'ensemble' in globals():\n",
    "    ensemble.cleanUp()\n",
    "if 'iewpfOcean' in globals():\n",
    "    iewpfOcean.cleanUp()\n",
    "    \n",
    "sim_args[\"small_scale_perturbation_amplitude\"] = np.sqrt(sim_args[\"dt\"])*0.5*sim_args[\"f\"]/(sim_args[\"g\"]*waterDepth)\n",
    "sim_args[\"small_scale_perturbation_amplitude\"] *= sim_args[\"small_scale_perturbation_interpolation_factor\"]\n",
    "print (\"q0: \", sim_args[\"small_scale_perturbation_amplitude\"])\n",
    "print (\"[f, g, H, dt]\", [sim_args[\"f\"], sim_args[\"g\"], waterDepth, sim_args[\"dt\"]])\n",
    "print (\"(nx, ny): \", (sim_args[\"nx\"], sim_args[\"ny\"]))\n",
    "\n",
    "reload(CDKLM16)\n",
    "reload(BaseOceanStateEnsemble)\n",
    "reload(OceanNoiseEnsemble)\n",
    "reload(dautils)\n",
    "\n",
    "sim = CDKLM16.CDKLM16(**sim_args)\n",
    "sim.perturbState(q0_scale=100)\n",
    "    \n",
    "ensemble_args = {\n",
    "    \"gpu_ctx\": gpu_ctx,\n",
    "    \"numParticles\": 100,\n",
    "    \"num_drifters\": 2,\n",
    "    \"sim\": sim,\n",
    "    \"observation_type\": dautils.ObservationType.StaticBuoys,\n",
    "    \"buoys_positions\" : [[120.0,120.0],[60.0,60.0]],\n",
    "    \"observation_variance\": 0.5**2,\n",
    "    \"initialization_variance_factor_ocean_field\" : 25.0\n",
    "}\n",
    "\n",
    "ensemble = OceanNoiseEnsemble.OceanNoiseEnsemble(**ensemble_args)\n",
    "\n",
    "max_dt = ensemble.findLargestPossibleTimeStep()\n",
    "print (\"max_dt: \", max_dt)\n",
    "\n",
    "print (\"Ready!\")"
   ]
  },
  {
   "cell_type": "markdown",
   "metadata": {},
   "source": [
    "# Run Simulation until Observation Time"
   ]
  },
  {
   "cell_type": "code",
   "execution_count": null,
   "metadata": {},
   "outputs": [
    {
     "name": "stdout",
     "output_type": "stream",
     "text": [
      "Ready!\n"
     ]
    }
   ],
   "source": [
    "t = 100*sim_args[\"dt\"]\n",
    "ensemble.step(t)\n",
    "\n",
    "print(\"Ready!\")"
   ]
  },
  {
   "cell_type": "markdown",
   "metadata": {},
   "source": [
    "# Book keeping"
   ]
  },
  {
   "cell_type": "code",
   "execution_count": null,
   "metadata": {},
   "outputs": [],
   "source": [
    "# Deactivating some particles for testing\n",
    "ensemble.particlesActive[2]=False\n",
    "ensemble.particlesActive[7]=False"
   ]
  },
  {
   "cell_type": "code",
   "execution_count": null,
   "metadata": {},
   "outputs": [],
   "source": [
    "# Size of ensemble\n",
    "N_e = ensemble.getNumParticles()\n",
    "N_e_active = ensemble.getNumActiveParticles()\n",
    "\n",
    "# Number of observers\n",
    "N_d = ensemble.getNumDrifters()\n",
    "\n",
    "# particle properties before EnKF analysis phase\n",
    "observedParticles_pre = ensemble.observeParticles()\n",
    "innovationNorms_pre = ensemble.getInnovationNorms()\n",
    "\n",
    "# rmse values before EnKF analysis phase\n",
    "ensemble.getEnsembleVarAndRMSEUnderDrifter(t)\n",
    "rmse_eta_pre = ensemble.rmseUnderDrifter_eta\n",
    "rmse_hu_pre  = ensemble.rmseUnderDrifter_hu\n",
    "rmse_hv_pre  = ensemble.rmseUnderDrifter_hv\n"
   ]
  },
  {
   "cell_type": "markdown",
   "metadata": {},
   "source": [
    "# Step-By-Step EnKF in Square Root Formulation"
   ]
  },
  {
   "cell_type": "code",
   "execution_count": null,
   "metadata": {},
   "outputs": [],
   "source": [
    "def deleteDeactivatedObservations(observation, ensemble):\n",
    "    \"\"\"\n",
    "    Delete inactive particles\n",
    "    \"\"\"\n",
    "    idx = 0\n",
    "    for p in range(ensemble.getNumParticles()):\n",
    "        if ensemble.particlesActive[p]:\n",
    "            idx+=1\n",
    "        elif not ensemble.particlesActive[p]:\n",
    "            observation = np.delete(observation, idx, axis=0)\n",
    "    return observation"
   ]
  },
  {
   "cell_type": "markdown",
   "metadata": {},
   "source": [
    "## Calculate $X'_f = X_f - \\overline{X_f}$ "
   ]
  },
  {
   "cell_type": "code",
   "execution_count": null,
   "metadata": {},
   "outputs": [],
   "source": [
    "\"\"\"\n",
    "The download gives eta = \n",
    "[\n",
    "[eta(x0,y0),...,eta(xN,y0)],\n",
    "...,\n",
    "[eta(x0,yN),...,eta(xN,yN)]\n",
    "]\n",
    "as an array of size Ny x Nx\n",
    "and analog for hu and hv.\n",
    "we use those as an 1D array eta = \n",
    "[eta(x0,y0),...,eta(xN,y0),eta(x0,y1),...,eta(xN,y(N-1)),eta(x0,yN),...,eta(xN,yN)]\n",
    "and anlog for hu and hv \n",
    "\n",
    "For further calculations the indivdual dimensions of the state variable are concatinated X = \n",
    "[eta, hu, hv]\n",
    "\n",
    "Collecting the state perturbation for each ensemble member in a matrix Nx x Ne, where\n",
    "X_f_pert = \n",
    "[ \n",
    "[eta_pert(x0,y0) (particle 1),..., eta_pert],\n",
    "...\n",
    "particle 2: [eta_pert,hu_pert,hv_pert]\n",
    "]\n",
    "\"\"\"\n",
    "\n",
    "# Ghost cells added \n",
    "n_i = ensemble.particles[0].ny + 4 \n",
    "n_j = ensemble.particles[0].nx + 4\n",
    "\n",
    "X_f = np.zeros((3*n_i*n_j, N_e_active))\n",
    "idx = 0\n",
    "for e in range(N_e):\n",
    "    if ensemble.particlesActive[e]:\n",
    "        eta, hu, hv = ensemble.particles[e].download(interior_domain_only=False)\n",
    "        eta = eta.reshape(n_i*n_j)\n",
    "        hu  = hu.reshape(n_i*n_j)\n",
    "        hv  = hv.reshape(n_i*n_j)\n",
    "        X_f[:,idx] = np.append(eta, np.append(hu,hv))\n",
    "        idx += 1\n",
    "\n",
    "X_f_mean = np.zeros( 3*n_i*n_j )\n",
    "for e in range(N_e_active):\n",
    "    X_f_mean += 1/N_e_active * X_f[:,e]\n",
    "\n",
    "X_f_pert = np.zeros_like( X_f )\n",
    "for e in range(N_e_active):\n",
    "    X_f_pert[:,e] = X_f[:,e] - X_f_mean\n",
    " "
   ]
  },
  {
   "cell_type": "markdown",
   "metadata": {},
   "source": [
    "## Calculate $S = H X'_f$\n"
   ]
  },
  {
   "cell_type": "code",
   "execution_count": null,
   "metadata": {},
   "outputs": [],
   "source": [
    "\"\"\"\n",
    "Particles are observed in the following form:\n",
    "[\n",
    "particle 1:  [hu_1, hv_1], ... , [hu_D, hv_D],\n",
    "...\n",
    "particle Ne: [hu_1, hv_1], ... , [hu_D, hv_D]\n",
    "]\n",
    "\n",
    "In order to bring it in accordance with later data structure we use the following format for the storage of the perturbation of the observation:\n",
    "[\n",
    "[hu_1 (particle 1), ..., hu_1 (particle Ne)],\n",
    "...\n",
    "[hu_D (particle 1), ..., hu_D (particle Ne)],\n",
    "[hv_1 (particle 1), ..., hv_1 (particle Ne)],\n",
    "...\n",
    "[hv_D (particle 1), ..., hv_D (particle Ne)],\n",
    "]\n",
    "\n",
    "\"\"\"\n",
    "\n",
    "# Observation \n",
    "HX_f_orig = ensemble.observeParticles()\n",
    "\n",
    "HX_f_orig = deleteDeactivatedObservations(HX_f_orig, ensemble)\n",
    "\n",
    "# Reshaping\n",
    "HX_f = np.zeros( (2*N_d, N_e_active) )\n",
    "for e in range(N_e_active):\n",
    "    for l in range(N_d):\n",
    "        HX_f[l,e]     = HX_f_orig[e,l,0]\n",
    "    for l in range(N_d):\n",
    "        HX_f[N_d+l,e] = HX_f_orig[e,l,1]\n",
    "\n",
    "HX_f_mean = 1/N_e_active * np.sum(HX_f, axis=1)\n",
    "\n",
    "HX_f_pert = HX_f - HX_f_mean.reshape((2*N_d,1))\n",
    "\n"
   ]
  },
  {
   "cell_type": "code",
   "execution_count": null,
   "metadata": {},
   "outputs": [
    {
     "name": "stdout",
     "output_type": "stream",
     "text": [
      "[[-8.63376198e-01  2.53058376e-01 -9.43575477e-02  3.90417280e-01\n",
      "   5.29367352e-02  1.00521507e-01  2.23919573e-01 -1.85205278e-01\n",
      "  -8.97968588e-01 -1.92017072e+00 -2.47608480e-01  1.94374943e-02\n",
      "  -2.15844688e-01 -3.65773020e-01 -1.02592736e+00  1.15037483e+00\n",
      "  -6.38675032e-01 -1.13089380e-01  3.68416252e-01 -4.71805391e-01\n",
      "   7.28508854e-02  2.66115094e-02  2.05260128e+00  1.12234774e-01\n",
      "   2.77011576e-01 -8.71479807e-01  1.53501930e-01 -3.23452768e-01\n",
      "   4.23634949e-01 -5.81441698e-01  1.97066874e+00  3.31382456e-01\n",
      "  -3.96079597e-01 -1.45304499e-01 -4.70693683e-02 -1.70706361e+00\n",
      "  -7.07932529e-01  7.87000122e-01  4.20324030e-01 -6.78762016e-01\n",
      "   5.68306627e-01 -5.75024900e-01  8.96658326e-02  5.30989590e-01\n",
      "   2.81517448e-01  9.02813916e-03 -1.01697594e+00  3.72089090e-01\n",
      "  -4.91147575e-01 -5.59482155e-01 -1.90969763e-01  8.03255463e-02\n",
      "   9.85797348e-01  1.33657398e-01  6.17796125e-01 -3.70371399e-01\n",
      "   8.15900745e-01 -4.04056368e-01  1.57055277e+00  3.50449982e-01\n",
      "  -7.59895382e-01 -6.97640238e-01 -3.65054426e-01 -9.70018482e-02\n",
      "   3.28203144e-01  1.44956917e+00  1.45013990e-01 -2.30721932e+00\n",
      "  -1.22547894e+00  1.34315628e+00  6.42793598e-01  1.42837471e+00\n",
      "   8.85281506e-01 -4.52237902e-01  9.34979858e-01 -9.45065593e-02\n",
      "   2.16788674e-02 -4.12092028e-01 -5.90582466e-02 -6.20534992e-02\n",
      "  -6.67020378e-01 -7.69173202e-01 -7.19220934e-01  4.82821169e-01\n",
      "   8.99387779e-01 -3.70610771e-01  3.86689367e-01 -8.91767120e-02\n",
      "   1.12485689e+00  1.27460184e-01 -6.45064650e-01  1.04332298e+00\n",
      "   8.01413956e-01  8.61144486e-01  2.79402676e-01  3.67238703e-01\n",
      "  -1.18564135e+00 -2.06120819e+00]\n",
      " [ 5.40003607e-01 -1.57239907e+00 -7.41948059e-01  4.24466821e-02\n",
      "  -1.41499846e+00  7.16018179e-01  4.73988959e-01  9.06026417e-01\n",
      "  -1.14489725e-01 -3.33512714e-01  7.44586679e-02  2.98418710e-01\n",
      "  -9.05011704e-01 -7.18318751e-01  6.23471508e-01 -5.34803679e-01\n",
      "   1.18615388e+00  9.58304005e-01 -9.07918742e-01  2.32806096e-01\n",
      "  -1.51721947e+00  1.16388926e-01  8.59255621e-01  2.04897119e+00\n",
      "  -1.54719537e+00 -2.10775225e+00 -2.08592942e-01  8.88574192e-01\n",
      "  -7.67645886e-01 -1.78861668e-01 -6.25289133e-01  3.85653803e-01\n",
      "   6.46406504e-02 -4.06812003e-01 -6.74021891e-01  1.38197252e-01\n",
      "   7.90374795e-01  2.40305850e-01 -9.89959744e-02 -1.34091785e-01\n",
      "  -3.99545601e-01 -4.08245972e-01  5.51765928e-01 -7.24887302e-01\n",
      "   1.44240461e+00 -3.08995774e-01  2.74414512e-02  9.76505617e-01\n",
      "   9.09352878e-01  3.69869241e-01  1.41543535e+00  1.02652862e+00\n",
      "   1.69167949e+00 -1.51915925e+00  1.02906592e+00 -1.70837157e+00\n",
      "   6.64122144e-01  7.52571771e-01  9.44331022e-01  1.24296775e+00\n",
      "   1.00894827e+00 -6.45559110e-03 -5.33978513e-01 -1.56412771e-01\n",
      "   7.66263166e-01 -1.93251794e+00  3.23136339e-01 -3.36258462e-01\n",
      "  -1.57723062e+00  1.17145477e+00  8.94577259e-01 -5.13686111e-01\n",
      "   2.49263892e-01  2.48019585e-01 -1.16139596e+00  1.33860565e+00\n",
      "   1.18693345e+00  5.29206702e-01 -6.41854456e-01  3.87801001e-01\n",
      "  -1.69016068e+00 -1.67066744e-01  7.45449016e-01  9.20343491e-02\n",
      "  -1.40426772e+00  6.27490970e-02  1.20440194e-01 -1.65896692e-03\n",
      "  -1.53691452e+00  1.86345765e-01 -1.06482094e+00  1.93805883e-01\n",
      "   1.16591487e+00  5.17519960e-01 -4.26424911e-01 -1.75055950e+00\n",
      "  -1.20657256e-01 -2.15563586e-01]\n",
      " [ 4.13350864e-01  7.06340595e-01  1.02188854e+00  6.73395439e-01\n",
      "   1.26508765e+00 -9.58111004e-01  1.83181373e-03  4.77991386e-01\n",
      "  -2.82079736e-02  3.09494778e-01  1.06133895e+00  5.04771038e-01\n",
      "  -2.09004441e-02  1.42300014e+00 -1.62109824e+00 -5.57823570e-03\n",
      "  -2.05578522e-01 -5.07614807e-01  1.63714723e+00  7.93607673e-02\n",
      "  -4.47699586e-02 -8.29423145e-01  6.65655895e-01 -4.21272472e-01\n",
      "  -1.28714600e-02 -6.81742863e-01 -5.52145676e-01 -1.19767828e+00\n",
      "  -1.57577629e+00 -5.07671551e-01  8.51473614e-01 -6.85898820e-02\n",
      "   3.43570991e-01  2.04494759e-01 -2.52370075e-01 -6.24979214e-01\n",
      "   8.84711309e-01  2.95396610e-01 -3.18328896e-02  9.63928982e-01\n",
      "  -1.29250307e+00  8.86743828e-01 -7.83116380e-02  6.30491218e-02\n",
      "  -1.52032919e+00 -5.56007580e-01  8.22981163e-01  6.79469868e-01\n",
      "  -2.73218350e-01  5.77866360e-01  9.71770092e-01 -1.26986237e+00\n",
      "   1.53158264e+00 -6.61038117e-01  3.22202965e-01 -6.00523666e-01\n",
      "   1.98836132e-01 -1.35869856e+00  7.70683332e-01 -1.04956313e+00\n",
      "   7.44710966e-01 -5.98117867e-02 -7.56339745e-01  4.04819771e-01\n",
      "   4.46092888e-01  1.43044619e+00 -5.68342403e-01  6.24629780e-01\n",
      "  -1.48751517e+00 -8.64641229e-02 -8.20254520e-01  4.51303764e-01\n",
      "   1.62529354e+00 -6.32212357e-01 -4.06054691e-01 -1.82892723e+00\n",
      "   1.01164369e+00  1.49321918e+00 -2.02355738e+00 -1.59056381e-01\n",
      "   1.36328026e-01  1.51516720e-01 -9.86560539e-01 -9.59694103e-01\n",
      "  -1.42617420e-01 -4.93284420e-01  5.77233276e-02 -4.30715756e-01\n",
      "   2.96633681e-02 -8.41736034e-01  1.21095066e+00 -8.70435909e-01\n",
      "  -2.58543845e+00  5.58301731e-01  2.12887387e+00  9.19919773e-01\n",
      "   1.11334328e+00 -2.00910286e-01]\n",
      " [-2.01194653e+00  8.92190185e-01 -3.01453563e-01  5.82323399e-01\n",
      "  -7.94395777e-01 -7.22566935e-01  1.45915774e-01  4.80465678e-01\n",
      "  -1.15820738e-01 -1.04001495e-01 -3.62391206e-01 -6.95601079e-01\n",
      "   7.60452536e-01 -7.44257304e-01 -1.92035052e-01 -1.42525754e+00\n",
      "   1.97053579e-01  2.53243175e+00  4.09735051e-01 -6.29306170e-01\n",
      "   1.06471213e+00  1.67797712e-01 -3.36036655e-01 -8.05001589e-01\n",
      "   1.31618079e+00 -2.31925460e-01 -9.97058007e-01  1.83737167e+00\n",
      "  -7.14486453e-01  8.93423823e-01 -6.70489946e-03  1.30045413e+00\n",
      "  -7.06595990e-01  3.68125943e-01  6.49678973e-01 -8.23559138e-01\n",
      "   2.66767648e-01 -1.13352260e+00  3.73014477e-01 -5.17135712e-01\n",
      "   2.20150259e-01 -1.53165552e-01  5.03291162e-02 -3.13851806e-01\n",
      "   1.60455373e-01 -1.13259229e+00  6.49450389e-01  1.98739621e+00\n",
      "  -1.36852607e+00  2.64275459e-01 -1.45835611e-01 -1.62010727e+00\n",
      "  -1.99994771e-02  7.32333806e-01  6.70166281e-01 -7.25542399e-01\n",
      "   1.08750966e+00  3.68324664e-01 -3.51013872e-01 -7.35982033e-01\n",
      "   6.77153257e-01  8.67401448e-01 -3.86405913e-02 -2.28352162e-01\n",
      "  -1.38697252e+00  8.00568250e-01  6.00364831e-01  7.36036685e-01\n",
      "   1.58173827e-01 -8.43847605e-01  6.60959390e-01  1.37205036e+00\n",
      "   1.21175348e+00  6.41766635e-01  4.95257696e-03 -6.63912865e-01\n",
      "   6.53638271e-01 -6.13657805e-01 -2.64931647e-02 -4.30710766e-01\n",
      "   7.13701633e-01 -3.95378324e-01  4.28479758e-01 -3.47099635e-01\n",
      "  -8.53833291e-01 -6.60784098e-01  1.14008656e+00 -1.23156163e-01\n",
      "  -7.72335860e-01  6.02613774e-01  2.51607684e-01  4.79099301e-01\n",
      "  -1.32369610e-01 -3.81100866e-01 -7.95425030e-01 -1.26167497e+00\n",
      "  -1.26052651e+00 -2.74946067e-01]] [ 3.26567799 -1.06074769 -4.72131471 -1.39990607]\n"
     ]
    }
   ],
   "source": [
    "print(HX_f_pert, HX_f_mean)"
   ]
  },
  {
   "cell_type": "markdown",
   "metadata": {},
   "source": [
    "## Construct $R$"
   ]
  },
  {
   "cell_type": "code",
   "execution_count": null,
   "metadata": {},
   "outputs": [],
   "source": [
    "R_orig = ensemble.getObservationCov()\n",
    "\n",
    "R = np.zeros( (R_orig.shape[0]*N_d, R_orig.shape[1]*N_d) )\n",
    "\n",
    "for l in range(N_d):\n",
    "    R[l,l] = R_orig[0,0]\n",
    "    R[N_d+l, N_d+l] = R_orig[1,1]\n",
    "    R[l,N_d+l] = R_orig[0,1]\n",
    "    R[N_d+l,l] = R_orig[1,0]\n",
    "\n",
    "Rinv =  np.linalg.inv(R)\n"
   ]
  },
  {
   "cell_type": "markdown",
   "metadata": {},
   "source": [
    "## Construct $D = y-\\overline{HX_f}$"
   ]
  },
  {
   "cell_type": "code",
   "execution_count": null,
   "metadata": {},
   "outputs": [],
   "source": [
    "y_orig = ensemble.observeTrueState()\n",
    "\n",
    "y = np.zeros( (2*N_d) )\n",
    "for l in range(N_d):\n",
    "    y[l]     = y_orig[l,2]\n",
    "for l in range(N_d):\n",
    "    y[N_d+l] = y_orig[l,3]\n",
    "\n",
    "D = y - HX_f_mean"
   ]
  },
  {
   "cell_type": "markdown",
   "metadata": {},
   "source": [
    "## Calculate $A_1 = (N-1) I$"
   ]
  },
  {
   "cell_type": "code",
   "execution_count": null,
   "metadata": {},
   "outputs": [],
   "source": [
    "A1 = (N_e_active - 1) * np.eye(N_e_active)"
   ]
  },
  {
   "cell_type": "markdown",
   "metadata": {},
   "source": [
    "## Calculate $A_2 = (HX'_f)^\\top R^{-1} HX'_f$"
   ]
  },
  {
   "cell_type": "code",
   "execution_count": null,
   "metadata": {},
   "outputs": [],
   "source": [
    "A2 = np.dot(HX_f_pert.T, np.dot(Rinv, HX_f_pert) )"
   ]
  },
  {
   "cell_type": "markdown",
   "metadata": {},
   "source": [
    "## Calculate $P = (A_1+A_2)^{-1}$"
   ]
  },
  {
   "cell_type": "code",
   "execution_count": null,
   "metadata": {},
   "outputs": [],
   "source": [
    "A = A1 + A2\n",
    "\n",
    "P = np.linalg.inv(A)"
   ]
  },
  {
   "cell_type": "markdown",
   "metadata": {},
   "source": [
    "## Calculate $K = X_f P HX'_f R^{-1}$"
   ]
  },
  {
   "cell_type": "code",
   "execution_count": null,
   "metadata": {},
   "outputs": [],
   "source": [
    "K = np.dot(X_f_pert, np.dot(P,np.dot(HX_f_pert.T,Rinv)))"
   ]
  },
  {
   "cell_type": "markdown",
   "metadata": {},
   "source": [
    "## Calculate $\\bar{x_a} = \\bar{x_f} + K (d-H\\bar{x_f})$"
   ]
  },
  {
   "cell_type": "code",
   "execution_count": null,
   "metadata": {},
   "outputs": [],
   "source": [
    "X_a_mean = X_f_mean + np.dot(K, D)"
   ]
  },
  {
   "cell_type": "markdown",
   "metadata": {},
   "source": [
    "## Calculate $X'_a = X_f[(N_e-1)P]^{1/2}$"
   ]
  },
  {
   "cell_type": "code",
   "execution_count": null,
   "metadata": {},
   "outputs": [
    {
     "data": {
      "text/plain": [
       "array([[-4.60690423e-03, -1.36519028e-02, -5.95954111e-03, ...,\n",
       "         8.36803180e-03, -3.03927833e-03,  3.28931259e-03],\n",
       "       [-7.40810698e-03, -1.38693681e-02, -4.03888285e-03, ...,\n",
       "         9.25822642e-03, -7.63304399e-03,  4.25286125e-03],\n",
       "       [-8.38142129e-03, -1.15333750e-02, -3.41533749e-04, ...,\n",
       "         7.96980331e-03, -7.19244162e-03,  2.75790251e-03],\n",
       "       ...,\n",
       "       [-2.98080852e-01,  4.26373620e-01,  1.35760918e+00, ...,\n",
       "         2.52488384e-01, -1.07135741e-01,  1.28856575e+00],\n",
       "       [ 1.08094636e-01,  5.60393128e-01,  1.59025862e+00, ...,\n",
       "         1.81403245e-01,  1.72609228e-01,  6.95060093e-01],\n",
       "       [ 7.15070747e-01,  5.64207861e-01,  1.59929562e+00, ...,\n",
       "         1.40534493e-01,  4.11175216e-01, -1.41099875e-01]])"
      ]
     },
     "execution_count": 18,
     "metadata": {},
     "output_type": "execute_result"
    }
   ],
   "source": [
    "sigma, V = np.linalg.eigh((N_e_active-1)*P)\n",
    "X_a_pert = np.dot(X_f_pert, np.dot(V,np.dot(np.diag(np.sqrt(sigma)),V.T)))\n",
    "\n",
    "X_a_pert"
   ]
  },
  {
   "cell_type": "code",
   "execution_count": null,
   "metadata": {},
   "outputs": [
    {
     "data": {
      "text/plain": [
       "array([[-4.60690423e-03, -1.36519028e-02, -5.95954111e-03, ...,\n",
       "         8.36803180e-03, -3.03927833e-03,  3.28931259e-03],\n",
       "       [-7.40810698e-03, -1.38693681e-02, -4.03888285e-03, ...,\n",
       "         9.25822642e-03, -7.63304399e-03,  4.25286125e-03],\n",
       "       [-8.38142129e-03, -1.15333750e-02, -3.41533749e-04, ...,\n",
       "         7.96980331e-03, -7.19244162e-03,  2.75790251e-03],\n",
       "       ...,\n",
       "       [-2.98080852e-01,  4.26373620e-01,  1.35760918e+00, ...,\n",
       "         2.52488384e-01, -1.07135741e-01,  1.28856575e+00],\n",
       "       [ 1.08094636e-01,  5.60393128e-01,  1.59025862e+00, ...,\n",
       "         1.81403245e-01,  1.72609228e-01,  6.95060093e-01],\n",
       "       [ 7.15070747e-01,  5.64207861e-01,  1.59929562e+00, ...,\n",
       "         1.40534493e-01,  4.11175216e-01, -1.41099875e-01]])"
      ]
     },
     "execution_count": 19,
     "metadata": {},
     "output_type": "execute_result"
    }
   ],
   "source": [
    "X_a_pert"
   ]
  },
  {
   "cell_type": "markdown",
   "metadata": {},
   "source": [
    "## Calculate $X_a = \\bar{x_a} + X'_a$"
   ]
  },
  {
   "cell_type": "code",
   "execution_count": null,
   "metadata": {},
   "outputs": [],
   "source": [
    "X_a = X_a_pert \n",
    "for j in range(N_e_active):\n",
    "    X_a[:,j] += X_a_mean"
   ]
  },
  {
   "cell_type": "markdown",
   "metadata": {},
   "source": [
    "## Reshape and upload analysis state"
   ]
  },
  {
   "cell_type": "code",
   "execution_count": null,
   "metadata": {},
   "outputs": [],
   "source": [
    "idx = 0\n",
    "for e in range(N_e):\n",
    "    if ensemble.particlesActive[e]:\n",
    "        eta = X_a[0:n_i*n_j, idx].reshape((n_i,n_j))\n",
    "        hu  = X_a[n_i*n_j:2*n_i*n_j, idx].reshape((n_i,n_j))\n",
    "        hv  = X_a[2*n_i*n_j:3*n_i*n_j, idx].reshape((n_i,n_j))\n",
    "        ensemble.particles[e].upload(eta,hu,hv)\n",
    "        idx += 1\n"
   ]
  },
  {
   "cell_type": "markdown",
   "metadata": {},
   "source": [
    "# Plotting Utils"
   ]
  },
  {
   "cell_type": "code",
   "execution_count": null,
   "metadata": {},
   "outputs": [],
   "source": [
    "def _fillPolarPlot(ax, ensemble, observedParticles, alpha, printInfo=False):\n",
    "    \"\"\"\n",
    "    Internal utility function for plotting current under a drifter as a polar plot.\n",
    "    \"\"\"\n",
    "    max_r = 0\n",
    "    observedParticlesSingleDrifter = observedParticles[:, 0, :]\n",
    "    if printInfo: print(\"observedParticlesSingleDrifter: \\n\" +str(observedParticlesSingleDrifter))\n",
    "    for p in range(ensemble.getNumParticles()):\n",
    "        u, v = observedParticlesSingleDrifter[p,0], observedParticlesSingleDrifter[p,1]\n",
    "        r = np.sqrt(u**2 + v**2)\n",
    "        max_r = max(max_r, r)\n",
    "        theta = np.arctan(v/u)\n",
    "        if (u < 0):\n",
    "            theta += np.pi\n",
    "        arr1 = plt.arrow(theta, 0, 0, r, alpha = alpha, \\\n",
    "                         length_includes_head=True, \\\n",
    "                         edgecolor = 'green', facecolor = 'green', zorder = 5)\n",
    "\n",
    "    obs_u = ensemble.observeTrueState()[0, 2]\n",
    "    obs_v = ensemble.observeTrueState()[0, 3]\n",
    "    if printInfo: print(\"observedTrueState: \" + str((obs_u, obs_v)))\n",
    "    obs_r = np.sqrt(obs_u**2 + obs_v**2)\n",
    "    max_r = max(max_r, obs_r)\n",
    "    obs_theta = np.arctan(obs_v/obs_u)\n",
    "    if (obs_u < 0):\n",
    "        obs_theta += np.pi\n",
    "    arr1 = plt.arrow(obs_theta, 0, 0, obs_r, alpha = 0.5,\\\n",
    "                     length_includes_head=True, \\\n",
    "                     edgecolor = 'red', facecolor = 'red', zorder = 5)\n",
    "\n",
    "    ax.set_rmax(max_r*1.2)\n",
    "    plt.grid(True)\n",
    "    plt.title(\"Momentum observations from drifter\")\n",
    "\n",
    "\n",
    "def _fillHistPlot(ax, ensemble, innovationNorms, alpha, printInfo=False):\n",
    "    if printInfo: print(\"innovation norms: \" + str(innovationNorms))\n",
    "    obs_var = ensemble.getObservationVariance()\n",
    "    range_x = np.sqrt(obs_var)*10\n",
    "    ax.hist(innovationNorms, bins=30, facecolor='green', \\\n",
    "                range=(0, range_x), alpha=alpha,\\\n",
    "                density=True, label=\"particle innovations (norm)\")\n",
    "    plt.title(\"Innovation norms from drifter\")\n",
    "\n",
    "\n",
    "def plotVelocityInfoBeforeAndAfterDA(ensemble, observedParticles, innovationNorms, observedParticles_pre=None, innovationNorms_pre=None, title=None) :\n",
    "\n",
    "    # Initialize File\n",
    "    fig = None\n",
    "    plotRows = 2\n",
    "    fig = plt.figure(figsize=(10,6))\n",
    "    gridspec.GridSpec(plotRows, 3)\n",
    "\n",
    "    # PLOT POSITIONS OF PARTICLES AND OBSERVATIONS\n",
    "    ax = plt.subplot2grid((plotRows,3), (0,0), polar=True)\n",
    "    _fillPolarPlot(ax, ensemble, observedParticles, 0.5, printInfo=False)\n",
    "    if observedParticles_pre is not None:\n",
    "        _fillPolarPlot(ax, ensemble, observedParticles_pre, 0.1, printInfo=False)\n",
    "\n",
    "    # PLOT DISCTRIBUTION OF PARTICLE DISTANCES AND THEORETIC OBSERVATION PDF\n",
    "    ax0 = plt.subplot2grid((plotRows,3), (0,1), colspan=2)\n",
    "    _fillHistPlot(ax0, ensemble, innovationNorms, 0.5, printInfo=False)\n",
    "    if innovationNorms_pre is not None:\n",
    "        _fillHistPlot(ax0, ensemble, innovationNorms_pre, 0.1, printInfo=False)\n",
    "\n",
    "    if title is not None:\n",
    "        plt.suptitle(title, fontsize=16)\n",
    "    plt.tight_layout()\n",
    "\n",
    "# ------------------------------------------------------------------------\n",
    "\n",
    "def _fillHistComponentPlot(ax, ensemble, observedParticles, component, alpha, markTruth=False, subtitle=None):\n",
    "    true_component = ensemble.observeTrueState()[0,2+component]\n",
    "    range_x = 5\n",
    "    ax.hist(observedParticles[:,0][:,component], bins=50, facecolor='green', \\\n",
    "        range=(true_component-range_x,true_component+range_x), \\\n",
    "        alpha=alpha, density=True)\n",
    "    if markTruth is True:\n",
    "        ax.axvline(true_component, color='green', linestyle='dashed', linewidth=1)\n",
    "    if subtitle is not None:\n",
    "        ax.title.set_text(subtitle)\n",
    "\n",
    "\n",
    "def plotVelocityComponentInfoBeforeAndAfterDA(ensemble, observedParticles, observedParticles_pre=None, title=None):\n",
    "    fig = None\n",
    "    fig, axs = plt.subplots(1, 2, figsize=(10,3))\n",
    "    # hist for hu\n",
    "    subtitle = \"$hu$ distribution for ensemble\"\n",
    "    _fillHistComponentPlot(axs[0], ensemble, observedParticles, 0, 0.5, markTruth=True, subtitle=subtitle)\n",
    "    if observedParticles_pre is not None:\n",
    "        _fillHistComponentPlot(axs[0], ensemble, observedParticles_pre, 0, 0.1)\n",
    "    # hist for hv\n",
    "    subtitle = \"$hv$ distribution for ensemble\"\n",
    "    _fillHistComponentPlot(axs[1], ensemble, observedParticles, 1, 0.5, markTruth=True, subtitle=subtitle)\n",
    "    if observedParticles_pre is not None:\n",
    "        _fillHistComponentPlot(axs[1], ensemble, observedParticles_pre, 1, 0.1)\n",
    "\n"
   ]
  },
  {
   "cell_type": "markdown",
   "metadata": {},
   "source": [
    "# Plot circular diagram and histogram"
   ]
  },
  {
   "cell_type": "code",
   "execution_count": null,
   "metadata": {},
   "outputs": [
    {
     "data": {
      "image/png": "[encoded data removed]",
      "text/plain": [
       "<Figure size 720x432 with 2 Axes>"
      ]
     },
     "metadata": {
      "image/png": {
       "height": 256,
       "width": 707
      },
      "needs_background": "light"
     },
     "output_type": "display_data"
    },
    {
     "data": {
      "image/png": "[encoded data removed]",
      "text/plain": [
       "<Figure size 720x216 with 2 Axes>"
      ]
     },
     "metadata": {
      "image/png": {
       "height": 209,
       "width": 595
      },
      "needs_background": "light"
     },
     "output_type": "display_data"
    }
   ],
   "source": [
    "# Download Data from Simulators\n",
    "observedParticles = ensemble.observeParticles()\n",
    "innovationNorms = ensemble.getInnovationNorms()\n",
    "\n",
    "title = \"Comparision of forecast (transparent) and analysis (opaque) states\"\n",
    "plotVelocityInfoBeforeAndAfterDA(ensemble, observedParticles, innovationNorms, observedParticles_pre, innovationNorms_pre, title)\n",
    "\n",
    "title = \"Comparision of forecast (transparent) and analysis (opaque) states for velocity components\"\n",
    "plotVelocityComponentInfoBeforeAndAfterDA(ensemble, observedParticles, observedParticles_pre, title)"
   ]
  },
  {
   "cell_type": "markdown",
   "metadata": {},
   "source": [
    "## Compare norms of particles before and after assimilation "
   ]
  },
  {
   "cell_type": "code",
   "execution_count": null,
   "metadata": {},
   "outputs": [
    {
     "name": "stdout",
     "output_type": "stream",
     "text": [
      "norm before EnKF:  6.020093  and norm after EnKF:  5.703887\n",
      "norm before EnKF:  5.974342  and norm after EnKF:  5.638118\n",
      "norm before EnKF:  nan  and norm after EnKF:  nan\n",
      "norm before EnKF:  5.466934  and norm after EnKF:  5.511885\n",
      "norm before EnKF:  5.608749  and norm after EnKF:  5.601850\n",
      "norm before EnKF:  5.822627  and norm after EnKF:  5.676469\n",
      "norm before EnKF:  6.943407  and norm after EnKF:  6.172779\n",
      "norm before EnKF:  nan  and norm after EnKF:  nan\n",
      "norm before EnKF:  6.030554  and norm after EnKF:  5.776921\n",
      "norm before EnKF:  5.325825  and norm after EnKF:  5.398200\n",
      "norm before EnKF:  5.642927  and norm after EnKF:  5.425682\n",
      "norm before EnKF:  5.047796  and norm after EnKF:  4.957443\n",
      "norm before EnKF:  5.155834  and norm after EnKF:  5.389980\n",
      "norm before EnKF:  5.791677  and norm after EnKF:  5.711029\n",
      "norm before EnKF:  6.005264  and norm after EnKF:  5.610053\n",
      "norm before EnKF:  5.201042  and norm after EnKF:  5.382706\n",
      "norm before EnKF:  6.925906  and norm after EnKF:  5.896387\n",
      "norm before EnKF:  7.236876  and norm after EnKF:  6.514094\n",
      "norm before EnKF:  5.712968  and norm after EnKF:  5.472231\n",
      "norm before EnKF:  6.210767  and norm after EnKF:  5.519214\n",
      "norm before EnKF:  5.251173  and norm after EnKF:  5.431624\n",
      "norm before EnKF:  5.844369  and norm after EnKF:  5.633674\n",
      "norm before EnKF:  6.373351  and norm after EnKF:  5.760990\n",
      "norm before EnKF:  6.637753  and norm after EnKF:  5.974077\n",
      "norm before EnKF:  6.912782  and norm after EnKF:  6.442969\n",
      "norm before EnKF:  6.610197  and norm after EnKF:  6.016877\n",
      "norm before EnKF:  6.463091  and norm after EnKF:  5.808111\n",
      "norm before EnKF:  6.901267  and norm after EnKF:  5.885804\n",
      "norm before EnKF:  6.845205  and norm after EnKF:  6.167712\n",
      "norm before EnKF:  6.626627  and norm after EnKF:  5.724382\n",
      "norm before EnKF:  7.815246  and norm after EnKF:  6.582953\n",
      "norm before EnKF:  6.028315  and norm after EnKF:  5.545631\n",
      "norm before EnKF:  6.871410  and norm after EnKF:  6.381561\n",
      "norm before EnKF:  6.028903  and norm after EnKF:  5.685602\n",
      "norm before EnKF:  5.729644  and norm after EnKF:  5.608625\n",
      "norm before EnKF:  5.775526  and norm after EnKF:  5.582632\n",
      "norm before EnKF:  6.218460  and norm after EnKF:  5.744513\n",
      "norm before EnKF:  6.066880  and norm after EnKF:  5.466497\n",
      "norm before EnKF:  4.755911  and norm after EnKF:  5.103013\n",
      "norm before EnKF:  6.565389  and norm after EnKF:  6.174048\n",
      "norm before EnKF:  6.211162  and norm after EnKF:  5.861836\n",
      "norm before EnKF:  5.090459  and norm after EnKF:  5.289283\n",
      "norm before EnKF:  7.374939  and norm after EnKF:  6.361604\n",
      "norm before EnKF:  5.149128  and norm after EnKF:  5.298562\n",
      "norm before EnKF:  6.031183  and norm after EnKF:  5.759899\n",
      "norm before EnKF:  6.499199  and norm after EnKF:  6.040615\n",
      "norm before EnKF:  7.295383  and norm after EnKF:  6.257055\n",
      "norm before EnKF:  6.845698  and norm after EnKF:  6.149405\n",
      "norm before EnKF:  4.678095  and norm after EnKF:  4.966143\n",
      "norm before EnKF:  5.470110  and norm after EnKF:  5.389621\n",
      "norm before EnKF:  6.350631  and norm after EnKF:  5.869867\n",
      "norm before EnKF:  5.124318  and norm after EnKF:  5.270751\n",
      "norm before EnKF:  5.101768  and norm after EnKF:  5.357749\n",
      "norm before EnKF:  7.497439  and norm after EnKF:  6.441144\n",
      "norm before EnKF:  5.537476  and norm after EnKF:  5.696856\n",
      "norm before EnKF:  6.901216  and norm after EnKF:  6.024007\n",
      "norm before EnKF:  5.913297  and norm after EnKF:  5.748870\n",
      "norm before EnKF:  6.992161  and norm after EnKF:  6.077760\n",
      "norm before EnKF:  6.112855  and norm after EnKF:  5.824329\n",
      "norm before EnKF:  6.805481  and norm after EnKF:  5.928937\n",
      "norm before EnKF:  6.486593  and norm after EnKF:  6.204478\n",
      "norm before EnKF:  7.139652  and norm after EnKF:  6.286281\n",
      "norm before EnKF:  4.755773  and norm after EnKF:  5.049813\n",
      "norm before EnKF:  5.556660  and norm after EnKF:  5.343487\n",
      "norm before EnKF:  6.559793  and norm after EnKF:  5.880966\n",
      "norm before EnKF:  5.727595  and norm after EnKF:  5.627251\n",
      "norm before EnKF:  6.248753  and norm after EnKF:  5.983572\n",
      "norm before EnKF:  6.510163  and norm after EnKF:  6.022021\n",
      "norm before EnKF:  6.387224  and norm after EnKF:  5.859924\n",
      "norm before EnKF:  4.482613  and norm after EnKF:  4.555988\n",
      "norm before EnKF:  7.156313  and norm after EnKF:  5.904846\n",
      "norm before EnKF:  7.028711  and norm after EnKF:  6.420388\n",
      "norm before EnKF:  6.823401  and norm after EnKF:  6.109852\n",
      "norm before EnKF:  6.538099  and norm after EnKF:  6.054455\n",
      "norm before EnKF:  5.244971  and norm after EnKF:  5.468215\n",
      "norm before EnKF:  6.149065  and norm after EnKF:  5.645457\n",
      "norm before EnKF:  7.128763  and norm after EnKF:  6.330760\n",
      "norm before EnKF:  7.569581  and norm after EnKF:  6.361135\n",
      "norm before EnKF:  5.014101  and norm after EnKF:  5.298661\n",
      "norm before EnKF:  4.785450  and norm after EnKF:  5.237584\n",
      "norm before EnKF:  7.791609  and norm after EnKF:  6.430968\n",
      "norm before EnKF:  6.155099  and norm after EnKF:  5.818148\n",
      "norm before EnKF:  5.984438  and norm after EnKF:  5.481745\n",
      "norm before EnKF:  5.643241  and norm after EnKF:  5.475003\n",
      "norm before EnKF:  6.333038  and norm after EnKF:  5.675586\n",
      "norm before EnKF:  7.093345  and norm after EnKF:  6.279785\n",
      "norm before EnKF:  7.222275  and norm after EnKF:  6.415413\n",
      "norm before EnKF:  6.388733  and norm after EnKF:  5.866185\n",
      "norm before EnKF:  6.003379  and norm after EnKF:  5.702273\n",
      "norm before EnKF:  6.331035  and norm after EnKF:  5.856832\n",
      "norm before EnKF:  7.263255  and norm after EnKF:  6.457007\n",
      "norm before EnKF:  6.622777  and norm after EnKF:  5.948496\n",
      "norm before EnKF:  5.002689  and norm after EnKF:  5.162601\n",
      "norm before EnKF:  7.171795  and norm after EnKF:  6.341690\n",
      "norm before EnKF:  8.502282  and norm after EnKF:  6.860335\n",
      "norm before EnKF:  6.150482  and norm after EnKF:  5.972330\n",
      "norm before EnKF:  5.130254  and norm after EnKF:  5.464080\n",
      "norm before EnKF:  6.529636  and norm after EnKF:  6.035320\n",
      "norm before EnKF:  5.081105  and norm after EnKF:  5.225080\n",
      "norm before EnKF:  5.487545  and norm after EnKF:  5.109024\n"
     ]
    }
   ],
   "source": [
    "for e in range(N_e):\n",
    "    norm_pre = np.sqrt(np.sum(observedParticles_pre[e,:]**2))\n",
    "    norm = np.sqrt(np.sum(observedParticles[e,:]**2))\n",
    "    print(\"norm before EnKF: \", format(norm_pre, \".6f\"), \" and norm after EnKF: \", format(norm, \".6f\"))"
   ]
  },
  {
   "cell_type": "markdown",
   "metadata": {},
   "source": [
    "# RMSE Analysis"
   ]
  },
  {
   "cell_type": "code",
   "execution_count": null,
   "metadata": {},
   "outputs": [],
   "source": [
    "# rmse values before EnKF analysis phase\n",
    "ensemble.getEnsembleVarAndRMSEUnderDrifter(t)\n",
    "rmse_eta = ensemble.rmseUnderDrifter_eta\n",
    "rmse_hu  = ensemble.rmseUnderDrifter_hu\n",
    "rmse_hv  = ensemble.rmseUnderDrifter_hv"
   ]
  },
  {
   "cell_type": "code",
   "execution_count": null,
   "metadata": {},
   "outputs": [
    {
     "name": "stdout",
     "output_type": "stream",
     "text": [
      "Comparison of RMSE before and after analysis phase\n",
      "\n",
      "RMSE for eta before:  0.016016751592963292  and after:  0.01710141590176439\n",
      "RMSE for hu  before:  0.9374842914649709  and after:  0.6013066733049978\n",
      "RMSE for hv  before:  1.9847355963606552  and after:  0.719262002757174\n"
     ]
    }
   ],
   "source": [
    "print(\"Comparison of RMSE before and after analysis phase\\n\")\n",
    "print(\"RMSE for eta before: \", rmse_eta[0], \" and after: \", rmse_eta[1])\n",
    "print(\"RMSE for hu  before: \", rmse_hu[0], \" and after: \", rmse_hu[1])\n",
    "print(\"RMSE for hv  before: \", rmse_hv[0], \" and after: \", rmse_hv[1])"
   ]
  },
  {
   "cell_type": "code",
   "execution_count": null,
   "metadata": {},
   "outputs": [],
   "source": []
  },
  {
   "cell_type": "code",
   "execution_count": null,
   "metadata": {},
   "outputs": [],
   "source": []
  },
  {
   "cell_type": "code",
   "execution_count": null,
   "metadata": {},
   "outputs": [],
   "source": []
  },
  {
   "cell_type": "code",
   "execution_count": null,
   "metadata": {},
   "outputs": [],
   "source": []
  },
  {
   "cell_type": "code",
   "execution_count": null,
   "metadata": {},
   "outputs": [],
   "source": []
  }
 ],
 "metadata": {
  "kernelspec": {
   "display_name": "Python 3.7.8 64-bit ('gpuocean': conda)",
   "metadata": {
    "interpreter": {
     "hash": "33ed7ca3d490b1455ef8763b7de4f413d7a0b0dcbe44e1e5f95f5e2fe69a0829"
    }
   },
   "name": "python3"
  },
  "language_info": {
   "codemirror_mode": {
    "name": "ipython",
    "version": 3
   },
   "file_extension": ".py",
   "mimetype": "text/x-python",
   "name": "python",
   "nbconvert_exporter": "python",
   "pygments_lexer": "ipython3"
  }
 },
 "nbformat": 4,
 "nbformat_minor": 4
}
