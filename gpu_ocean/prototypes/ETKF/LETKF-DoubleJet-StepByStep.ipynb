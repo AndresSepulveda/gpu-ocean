{
 "cells": [
  {
   "cell_type": "code",
   "execution_count": 1,
   "metadata": {},
   "outputs": [],
   "source": [
    "# -*- coding: utf-8 -*-\n",
    "\n",
    "\"\"\"\n",
    "This software is part of GPU Ocean. \n",
    "Copyright (C) 2019 SINTEF Digital\n",
    "\n",
    "This python program is used to set up and run a data-assimilation \n",
    "and drift trajectory forecasting experiment.\n",
    "\n",
    "This program is free software: you can redistribute it and/or modify\n",
    "it under the terms of the GNU General Public License as published by\n",
    "the Free Software Foundation, either version 3 of the License, or\n",
    "(at your option) any later version.\n",
    "\n",
    "This program is distributed in the hope that it will be useful,\n",
    "but WITHOUT ANY WARRANTY; without even the implied warranty of\n",
    "MERCHANTABILITY or FITNESS FOR A PARTICULAR PURPOSE.  See the\n",
    "GNU General Public License for more details.\n",
    "\n",
    "You should have received a copy of the GNU General Public License\n",
    "along with this program.  If not, see <http://www.gnu.org/licenses/>.\n",
    "\"\"\"\n",
    "\n",
    "\n",
    "import sys, os, json, datetime, time, shutil\n",
    "import numpy as np\n",
    "\n",
    "current_dir = os.getcwd()\n",
    "\n",
    "if os.path.isdir(os.path.abspath(os.path.join(current_dir, '../../SWESimulators'))):\n",
    "        sys.path.insert(0, os.path.abspath(os.path.join(current_dir, '../../')))"
   ]
  },
  {
   "cell_type": "markdown",
   "metadata": {},
   "source": [
    "# LETKF for observation with all moorings"
   ]
  },
  {
   "cell_type": "markdown",
   "metadata": {},
   "source": [
    "## Set up ensemble from file \n",
    "1. Parameters\n",
    "2. Input files\n",
    "3. UDF packages + UDF plotting functions\n",
    "4. ensemble initialization\n"
   ]
  },
  {
   "cell_type": "code",
   "execution_count": 2,
   "metadata": {},
   "outputs": [],
   "source": [
    "#--------------------------------------------------------------\n",
    "# PARAMETERS\n",
    "#--------------------------------------------------------------\n",
    "args_ensemble_size = 100\n",
    "args_method = \"ETKF\" \n",
    "args_observation_interval = 1\n",
    "args_observation_variance = 1.0\n",
    "args_observation_type = \"buoys\"\n",
    "args_buoy_area = \"all\"\n",
    "args_media_dir = \"forecasting_results/\"\n",
    "\n",
    "args_num_days = 7\n",
    "args_num_hours = 24\n",
    "args_forecast_days = 3\n",
    "args_profiling = False\n",
    "\n",
    "\n",
    "# Checking input args\n",
    "if args_ensemble_size is None:\n",
    "    print(\"Ensemble size missing, please provide a --ensemble_size argument.\")\n",
    "    sys.exit(-1)\n",
    "elif args_ensemble_size < 1:\n",
    "    print(\"Illegal ensemble size \" + str(args_ensemble_size))\n",
    "\n",
    "profiling = args_profiling\n"
   ]
  },
  {
   "cell_type": "code",
   "execution_count": 3,
   "metadata": {},
   "outputs": [
    {
     "name": "stdout",
     "output_type": "stream",
     "text": [
      " ----> Using ETKF\n"
     ]
    }
   ],
   "source": [
    "###-----------------------------------------\n",
    "## Define files for ensemble and truth.\n",
    "##\n",
    "\n",
    "#ensemble_init_path = 'C:/Users/florianb/Documents/GPU-Ocean/gpu-ocean/data/ensemble_init/'\n",
    "#ensemble_init_path = '/home/florianb/gpu-ocean/data/ensemble_init/'\n",
    "ensemble_init_path = '/sintef/data/ensemble_init/'\n",
    "assert len(os.listdir(ensemble_init_path)) == 100 or len(os.listdir(ensemble_init_path)) == 101, \\\n",
    "    \"Ensemble init folder has wrong number of files: \" + str(len(os.listdir(ensemble_init_path)))\n",
    "\n",
    "#truth_path = 'C:/Users/florianb/Documents/GPU-Ocean/gpu-ocean/data/true_state/'\n",
    "#truth_path = '/home/florianb/gpu-ocean/data/true_state/'\n",
    "truth_path = '/sintef/data/true_state/'\n",
    "assert len(os.listdir(truth_path)) == 2 or len(os.listdir(truth_path)) == 3, \\\n",
    "    \"Truth folder has wrong number of files\"\n",
    "    \n",
    "# Reading and checking method\n",
    "method = str(args_method).lower()\n",
    "if method == 'iewpf2':\n",
    "    print(' ----> Using IEWPF 2 stage method')\n",
    "elif method == 'enkf':\n",
    "    print(' ----> Using EnKF')\n",
    "elif method == 'etkf':\n",
    "    print(' ----> Using ETKF')\n",
    "elif method == 'none':\n",
    "    print(' ----> No data assimilation')\n",
    "else:\n",
    "    print('Illegal method: ' + str(method))\n",
    "    sys.exit(-1)\n",
    "    \n",
    "    \n",
    "# Time parameters\n",
    "start_time      =  3*24*60*60 #  3 days in seconds\n",
    "simulation_time = 10*24*60*60 # 10 days in seconds (three days spin up is prior to this)fa\n",
    "end_time        = 13*24*60*60 # 13 days in seconds\n",
    "\n",
    "\n",
    "# Based on truth from June 25th 2019\n",
    "#drifterSet = [ 2, 7, 12, 24, 29, 35, 41, 48, 53, 60]\n",
    "drifterSet = [ 2, 24, 60]\n",
    "\n",
    "# Log extra information for the ensemble state for the following cells:\n",
    "extraCells = np.array([[254, 241], # Cross with two trajectories\n",
    "                       [249, 246], # northwest of above\n",
    "                       [259, 236], # southeast of above\n",
    "                       [343, 131], # Closed circle of same drifter\n",
    "                       [196,  245], # Middle of single trajectory\n",
    "                       [150,  250], # Middle of single trajectory, later than above\n",
    "                       [102, 252], # On the same trajectory as the above, but later, and also in a intersection\n",
    "                       [ 388, 100], # Unobserved area just north of southern jet\n",
    "                       [ 388, 80],  # Unobserved area in southern jet\n",
    "                       [ 388, 150], # Unobserved area in calm area\n",
    "                      ])"
   ]
  },
  {
   "cell_type": "code",
   "execution_count": 4,
   "metadata": {},
   "outputs": [
    {
     "name": "stdout",
     "output_type": "stream",
     "text": [
      "\n",
      "0.2564 s: GPU Ocean packages imported True\n",
      "0.0982 s: Created context on NVIDIA GeForce RTX 3090 True\n"
     ]
    }
   ],
   "source": [
    "###--------------------------------\n",
    "# Import required packages\n",
    "#\n",
    "tic = time.time()\n",
    "# For GPU contex:\n",
    "from SWESimulators import Common\n",
    "# For the ensemble:\n",
    "from SWESimulators import EnsembleFromFiles, Observation\n",
    "# For data assimilation:\n",
    "from SWESimulators import IEWPFOcean\n",
    "import ETKFOcean\n",
    "# For forcasting:\n",
    "from SWESimulators import GPUDrifterCollection\n",
    "# For ObservationType:\n",
    "from SWESimulators import DataAssimilationUtils as dautils\n",
    "\n",
    "toc = time.time()\n",
    "print(\"\\n{:02.4f} s: \".format(toc-tic) + 'GPU Ocean packages imported', True)\n",
    "\n",
    "# Create CUDA context\n",
    "tic = time.time()\n",
    "gpu_ctx = Common.CUDAContext()\n",
    "device_name = gpu_ctx.cuda_device.name()\n",
    "toc = time.time()\n",
    "print(\"{:02.4f} s: \".format(toc-tic) + \"Created context on \" + device_name, True)"
   ]
  },
  {
   "cell_type": "code",
   "execution_count": 5,
   "metadata": {},
   "outputs": [
    {
     "name": "stderr",
     "output_type": "stream",
     "text": [
      "/home/florianb/miniconda3/envs/gpuocean/lib/python3.7/site-packages/ipykernel_launcher.py:3: MatplotlibDeprecationWarning: \n",
      "The mpl_toolkits.axes_grid1.colorbar module was deprecated in Matplotlib 3.2 and will be removed two minor releases later. Use matplotlib.colorbar instead.\n",
      "  This is separate from the ipykernel package so we can avoid doing imports until\n"
     ]
    }
   ],
   "source": [
    "from matplotlib import pyplot as plt \n",
    "from mpl_toolkits.axes_grid1.axes_divider import make_axes_locatable\n",
    "from mpl_toolkits.axes_grid1.colorbar import colorbar\n",
    "\n",
    "def imshow(im, interpolation=\"None\", title=None, figsize=(4,4), interior=False):\n",
    "    fig = plt.figure(figsize=figsize)\n",
    "    \n",
    "    if interior:\n",
    "        im = plt.imshow(im[2:-2,2:-2], interpolation=interpolation, origin='lower')\n",
    "    else:\n",
    "        im = plt.imshow(im, interpolation=interpolation, origin='lower')\n",
    "    \n",
    "    plt.colorbar()\n",
    "    if title is not None:\n",
    "        plt.title(title)\n",
    "        \n",
    "def imshow3(eta, hu, hv, interpolation=\"None\", title=None, figsize=(12.5,3.4), # (12.5, 3.4)\n",
    "            color_bar_from_zero=False, save_filename=None, constant_range=False, pretitle='',\n",
    "            mark_drifter_positions = None):\n",
    "    \n",
    "    fig, axs = plt.subplots(1,3, figsize=figsize)\n",
    "    \n",
    "    #fig = plt.figure(figsize=figsize)\n",
    "\n",
    "    #gs = fig.add_gridspec(1,10)#, sharey=True)\n",
    "    #axs = [None, None, None]\n",
    "    #axs[0] = fig.add_subplot(gs[0, 1:4])\n",
    "    #axs[1] = fig.add_subplot(gs[0, 4:7])\n",
    "    #axs[2] = fig.add_subplot(gs[0, 7:10])\n",
    "    \n",
    "    eta_max = np.max(np.abs(eta))\n",
    "    huv_max = max(np.max(np.abs(hu)), np.max(np.abs(hv)))\n",
    "    \n",
    "    if constant_range:\n",
    "        eta_max = 3.5\n",
    "        huv_max = 625\n",
    "    \n",
    "    eta_cmap = 'BrBG'\n",
    "    huv_cmap = 'RdBu'\n",
    "    \n",
    "    eta_min = -eta_max\n",
    "    huv_min = -huv_max\n",
    "    if color_bar_from_zero:\n",
    "        eta_min, huv_min = 0, 0\n",
    "        if constant_range:\n",
    "            eta_max = 0.12\n",
    "            huv_max = 50\n",
    "        \n",
    "        eta_cmap = 'BuGn'\n",
    "        huv_cmap = 'Blues'\n",
    "        \n",
    "    nx = ensemble.nx\n",
    "    ny = ensemble.ny\n",
    "    dx = ensemble.dx\n",
    "    dy = ensemble.dy\n",
    "    extent=np.array([0, nx*dx, 0, ny*dy]) / 1000\n",
    "    \n",
    "    \n",
    "    fontsize = 18\n",
    "    def addColorbar(ax, im, title):\n",
    "        ax_divider = make_axes_locatable(ax)\n",
    "        ax_cb = ax_divider.append_axes(\"top\", size=\"10%\", pad=\"5%\")\n",
    "        cbar = colorbar(im, cax=ax_cb, orientation=\"horizontal\")\n",
    "        ax_cb.xaxis.set_ticks_position(\"top\")\n",
    "        ax_cb.set_title(title, fontsize=fontsize)\n",
    "    \n",
    "    eta_im = axs[0].imshow(eta, interpolation=interpolation, origin='lower', \n",
    "                           vmin=eta_min, vmax=eta_max, extent=extent, cmap=eta_cmap) #GnBu')\n",
    "    addColorbar(axs[0], eta_im, pretitle+\"$\\eta$ [m]\")\n",
    "    \n",
    "    hu_im = axs[1].imshow(hu, interpolation=interpolation, origin='lower', \n",
    "                          vmin=huv_min, vmax=huv_max, extent=extent, cmap=huv_cmap)\n",
    "    addColorbar(axs[1], hu_im, pretitle+\"$hu$ [m$^2$/s]\")\n",
    "    \n",
    "    \n",
    "    hv_im = axs[2].imshow(hv, interpolation=interpolation, origin='lower',\n",
    "                          vmin=huv_min, vmax=huv_max, extent=extent, cmap=huv_cmap)\n",
    "    addColorbar(axs[2], hv_im, pretitle+\"$hv$ [m$^2$/s]\")\n",
    "    \n",
    "    if title is not None:\n",
    "        plt.suptitle(r\"\\textbf{\"+title+\"}\", y=1.1) #, fontsize=14)\n",
    "    #plt.tight_layout()\n",
    "    "
   ]
  },
  {
   "cell_type": "code",
   "execution_count": 6,
   "metadata": {},
   "outputs": [
    {
     "name": "stdout",
     "output_type": "stream",
     "text": [
      "Observation type changed to StaticBuoys!\n",
      "4\n",
      "3.9602 s: Ensemble is loaded and created True\n",
      "Using drifterSet:\n",
      "[2, 24, 60]\n",
      "buoys to read:\n",
      "[True, True, True, True, True, True, True, True, True, True, True, True, True, True, True, True, True, True, True, True, True, True, True, True, True, True, True, True, True, True, True, True, True, True, True, True, True, True, True, True, True, True, True, True, True, True, True, True, True, True, True, True, True, True, True, True, True, True, True, True, True, True, True, True, True, True, True, True, True, True, True, True, True, True, True, True, True, True, True, True, True, True, True, True, True, True, True, True, True, True, True, True, True, True, True, True, True, True, True, True, True, True, True, True, True, True, True, True, True, True, True, True, True, True, True, True, True, True, True, True, True, True, True, True, True, True, True, True, True, True, True, True, True, True, True, True, True, True, True, True, True, True, True, True, True, True, True, True, True, True, True, True, True, True, True, True, True, True, True, True, True, True, True, True, True, True, True, True, True, True, True, True, True, True, True, True, True, True, True, True, True, True, True, True, True, True, True, True, True, True, True, True, True, True, True, True, True, True, True, True, True, True, True, True, True, True, True, True, True, True, True, True, True, True, True, True, True, True, True, True, True, True, True, True, True, True, True, True, True, True, True, True, True, True, True, True, True, True, True, True]\n"
     ]
    }
   ],
   "source": [
    "###--------------------------\n",
    "# Initiate the ensemble\n",
    "#\n",
    "\n",
    "observation_type = dautils.ObservationType.UnderlyingFlow\n",
    "if args_observation_type == 'buoys':\n",
    "    observation_type = dautils.ObservationType.StaticBuoys\n",
    "    print('Observation type changed to StaticBuoys!')\n",
    "elif args_observation_type == 'all_drifters':\n",
    "    drifterSet = 'all'\n",
    "    print('Using all drifters for DA experiment')\n",
    "\n",
    "print(observation_type)\n",
    "\n",
    "cont_write_netcdf = True and not profiling\n",
    "\n",
    "tic = time.time()\n",
    "ensemble = EnsembleFromFiles.EnsembleFromFiles(gpu_ctx, args_ensemble_size, \\\n",
    "                                               ensemble_init_path, truth_path, \\\n",
    "                                               args_observation_variance,\n",
    "                                               cont_write_netcdf = cont_write_netcdf,\n",
    "                                               use_lcg = True,\n",
    "                                               observation_type=observation_type)\n",
    "\n",
    "# Configure observations according to the selected drifters:\n",
    "ensemble.configureObservations(drifterSet=drifterSet, \n",
    "                               observationInterval = args_observation_interval,\n",
    "                               buoy_area = args_buoy_area)\n",
    "ensemble.configureParticleInfos(extraCells)\n",
    "toc = time.time()\n",
    "print(\"{:02.4f} s: \".format(toc-tic) + \"Ensemble is loaded and created\", True)\n",
    "print(\"Using drifterSet:\\n\" + str(drifterSet))\n",
    "if args_observation_type == 'buoys':\n",
    "    print('buoys to read:')\n",
    "    print(str(ensemble.observations.read_buoy))\n",
    "\n",
    "\n",
    "dt_ref = ensemble.particles[-1].dt"
   ]
  },
  {
   "cell_type": "markdown",
   "metadata": {},
   "source": [
    "## Data Assimilaion Initialisation \n"
   ]
  },
  {
   "cell_type": "code",
   "execution_count": 7,
   "metadata": {},
   "outputs": [
    {
     "name": "stdout",
     "output_type": "stream",
     "text": [
      "0.0001 s: Data assimilation class ETKFOcean initiated True\n"
     ]
    }
   ],
   "source": [
    "### -------------------------------\n",
    "# Initialize DA class (if needed)\n",
    "#\n",
    "tic = time.time()\n",
    "iewpf = None\n",
    "if method.startswith('iewpf'):\n",
    "    iewpf = IEWPFOcean.IEWPFOcean(ensemble)\n",
    "    toc = time.time()\n",
    "    print(\"{:02.4f} s: \".format(toc-tic) + \"Data assimilation class IEWPFOcean initiated\", True)\n",
    "elif method.startswith('enkf'):\n",
    "    enkf = EnKFOcean.EnKFOcean(ensemble)\n",
    "    toc = time.time()\n",
    "    print(\"{:02.4f} s: \".format(toc-tic) + \"Data assimilation class EnKFOcean initiated\", True)\n",
    "elif method.startswith('etkf'):\n",
    "    etkf = ETKFOcean.ETKFOcean(ensemble)\n",
    "    toc = time.time()\n",
    "    print(\"{:02.4f} s: \".format(toc-tic) + \"Data assimilation class ETKFOcean initiated\", True)\n",
    "else:\n",
    "    toc = time.time()\n",
    "    print(\"{:02.4f} s: \".format(toc-tic) + \"Skipping creation of a DA class\", True)\n",
    "\n",
    "    \n"
   ]
  },
  {
   "cell_type": "markdown",
   "metadata": {},
   "source": [
    "## Utility Functions for the Localisation Stencil\n",
    "\n",
    "Functions:\n",
    "1. getLocalIndices\n",
    "2. distGC\n",
    "3. getLocalWeightShape\n",
    "4. getCombinedWeights \n",
    "\n",
    "Input:\n",
    "- r_factor (master parameter for the previous scale_r, blocked_r, scale_slope)\n",
    "- dx, dy, nx, ny from the simulator\n",
    "- drifter_positions\n",
    "\n",
    "PreProcessing Values:\n",
    "- W_loc\n",
    "- W_forecast (global)\n",
    "- W_analysis (global)\n",
    "\n"
   ]
  },
  {
   "cell_type": "code",
   "execution_count": 8,
   "metadata": {},
   "outputs": [],
   "source": [
    "### ----------------------------------------------\n",
    "#   PRE PROCESSING\n",
    "#"
   ]
  },
  {
   "cell_type": "code",
   "execution_count": 9,
   "metadata": {},
   "outputs": [],
   "source": [
    "def getLocalIndices(obs_loc, scale_r, dx, dy, nx, ny):\n",
    "    \"\"\" \n",
    "    Defines mapping from global domain (nx times ny) to local domain\n",
    "    \"\"\"\n",
    "    #TODO: Serious ghost cell handling!\n",
    "\n",
    "    boxed_r = dx*scale_r*1.5\n",
    "    \n",
    "    localIndices = np.array([[False]*nx]*ny)\n",
    "    \n",
    "    obs_loc_cellID = (np.int(obs_loc[0]//dx), np.int(obs_loc[1]//dy))\n",
    "\n",
    "    #print(obs_loc_cellID)\n",
    "    loc_cell_left  = np.int((obs_loc[0]-boxed_r   )//dx)\n",
    "    loc_cell_right = np.int((obs_loc[0]+boxed_r+dx)//dx)\n",
    "    loc_cell_down  = np.int((obs_loc[1]-boxed_r   )//dy)\n",
    "    loc_cell_up    = np.int((obs_loc[1]+boxed_r+dy)//dy)\n",
    "\n",
    "    xranges = []\n",
    "    yranges = []\n",
    "    \n",
    "    xroll = 0\n",
    "    yroll = 0\n",
    "\n",
    "    if loc_cell_left < 0:\n",
    "        xranges.append((nx+loc_cell_left , nx))\n",
    "        xroll = loc_cell_left   # negative number\n",
    "        loc_cell_left = 0 \n",
    "    elif loc_cell_right > nx:\n",
    "        xranges.append((0, loc_cell_right - nx))\n",
    "        xroll = loc_cell_right - nx   # positive number\n",
    "        loc_cell_right = nx \n",
    "    xranges.append((loc_cell_left, loc_cell_right))\n",
    "\n",
    "    if loc_cell_down < 0:\n",
    "        yranges.append((ny+loc_cell_down , ny))\n",
    "        yroll = loc_cell_down   # negative number\n",
    "        loc_cell_down = 0 \n",
    "    elif loc_cell_up > ny:\n",
    "        yranges.append((0, loc_cell_up - ny ))\n",
    "        yroll = loc_cell_up - ny   # positive number\n",
    "        loc_cell_up = ny\n",
    "    yranges.append((loc_cell_down, loc_cell_up))\n",
    "\n",
    "\n",
    "    # print(nx, ny)\n",
    "    # print(loc_cell_left, loc_cell_right, loc_cell_down, loc_cell_up)\n",
    "    # print(xranges)\n",
    "    # print(yranges)\n",
    "\n",
    "    #print(localIndices.shape)\n",
    "\n",
    "    for xrange in xranges:\n",
    "        for yrange in yranges:\n",
    "            localIndices[yrange[0] : yrange[1], xrange[0] : xrange[1]] = True\n",
    "\n",
    "            for y in range(yrange[0],yrange[1]):\n",
    "                for x in range(xrange[0], xrange[1]):\n",
    "                    loc = np.array([(x+0.5)*dx, (y+0.5)*dy])\n",
    "\n",
    "    return localIndices, xroll, yroll\n",
    "        \n",
    "\n"
   ]
  },
  {
   "cell_type": "code",
   "execution_count": 10,
   "metadata": {},
   "outputs": [],
   "source": [
    "def distGC( obs, loc, r, lx, ly):\n",
    "    \"\"\"\n",
    "    Calculating the Gasparin-Cohn value for the distance between obs \n",
    "    and loc for the localisation radius r.\n",
    "    \n",
    "    obs: drifter positions ([x,y])\n",
    "    loc: current physical location to check (either [x,y] or [[x1,y1],...,[xd,yd]])\n",
    "    r: localisation scale in the Gasparin Cohn function\n",
    "    lx: domain extension in x-direction (necessary for periodic boundary conditions)\n",
    "    ly: domain extension in y-direction (necessary for periodic boundary conditions)\n",
    "    \"\"\"\n",
    "    if not obs.shape == loc.shape: \n",
    "        obs = np.tile(obs, (loc.shape[0],1))\n",
    "    \n",
    "    if len(loc.shape) == 1:\n",
    "        dist = min(np.linalg.norm(np.abs(obs-loc)),\n",
    "                np.linalg.norm(np.abs(obs-loc) - np.array([lx,0 ])),\n",
    "                np.linalg.norm(np.abs(obs-loc) - np.array([0 ,ly])),\n",
    "                np.linalg.norm(np.abs(obs-loc) - np.array([lx,ly])) )\n",
    "    else:\n",
    "        dist = np.linalg.norm(obs-loc, axis=1)\n",
    "\n",
    "    # scalar case\n",
    "    if isinstance(dist, float):\n",
    "        distGC = 0.0\n",
    "        if dist/r < 1: \n",
    "            distGC = 1 - 5/3*(dist/r)**2 + 5/8*(dist/r)**3 + 1/2*(dist/r)**4 - 1/4*(dist/r)**5\n",
    "        elif dist/r >= 1 and dist/r < 2:\n",
    "            distGC = 4 - 5*(dist/r) + 5/3*(dist/r)**2 + 5/8*(dist/r)**3 -1/2*(dist/r)**4 + 1/12*(dist/r)**5 - 2/(3*(dist/r))\n",
    "    # vector case\n",
    "    else:\n",
    "        distGC = np.zeros_like(dist)\n",
    "        for i in range(len(dist)):\n",
    "            if dist[i]/r < 1: \n",
    "                distGC[i] = 1 - 5/3*(dist[i]/r)**2 + 5/8*(dist[i]/r)**3 + 1/2*(dist[i]/r)**4 - 1/4*(dist[i]/r)**5\n",
    "            elif dist[i]/r >= 1 and dist[i]/r < 2:\n",
    "                distGC[i] = 4 - 5*(dist[i]/r) + 5/3*(dist[i]/r)**2 + 5/8*(dist[i]/r)**3 -1/2*(dist[i]/r)**4 + 1/12*(dist[i]/r)**5 - 2/(3*(dist[i]/r))\n",
    "\n",
    "    return distGC\n",
    "\n",
    "\n",
    "def getLocalWeightShape(scale_r, dx, dy, nx, ny):\n",
    "    \n",
    "    local_nx = int(scale_r*2*1.5)+1\n",
    "    local_ny = int(scale_r*2*1.5)+1\n",
    "    weights = np.zeros((local_ny, local_ny))\n",
    "    \n",
    "    obs_loc_cellID = (local_ny, local_nx)\n",
    "    obs_loc = np.array([local_nx*dx/2, local_ny*dy/2])\n",
    "    #print(obs_loc)\n",
    "    #print(obs_loc[0]/dx, obs_loc[1]/dy)\n",
    "\n",
    "    for y in range(local_ny):\n",
    "        for x in range(local_nx):\n",
    "            loc = np.array([(x+0.5)*dx, (y+0.5)*dy])\n",
    "            weights[y,x] = min(1, distGC(obs_loc, loc, scale_r*dx, nx*dx, ny*dy))\n",
    "                        \n",
    "        \n",
    "    return weights\n",
    "        \n",
    "\n"
   ]
  },
  {
   "cell_type": "code",
   "execution_count": 11,
   "metadata": {},
   "outputs": [],
   "source": [
    "def getCombinedWeights(observation_positions, scale_r, dx, dy, nx, ny):\n",
    "    \n",
    "    W_scale = np.zeros((ny, nx))\n",
    "    \n",
    "    num_drifters = observation_positions.shape[0]\n",
    "    #print('found num_drifters:', num_drifters)\n",
    "    if observation_positions.shape[1] != 2:\n",
    "        print('observation_positions has wrong shape')\n",
    "        return None\n",
    "\n",
    "    # Get the shape of the local weights (drifter independent)\n",
    "    W_loc = getLocalWeightShape(scale_r, dx, dy, nx, ny)\n",
    "    \n",
    "    for d in range(num_drifters):\n",
    "        # Get local mapping for drifter \n",
    "        L, xroll, yroll = getLocalIndices(observation_positions[d,:], scale_r, dx, dy, nx, ny)\n",
    "\n",
    "        # Roll weigths according to periodic boundaries\n",
    "        W_loc_d = np.roll(np.roll(W_loc, shift=yroll, axis=0 ), shift=xroll, axis=1)\n",
    "        \n",
    "        # Add weights to global domain based on local mapping:\n",
    "        W_scale[L] += W_loc_d.flatten()\n",
    "\n",
    "        \n",
    "    return W_scale"
   ]
  },
  {
   "cell_type": "markdown",
   "metadata": {},
   "source": [
    "### 1. Set-up Parameters"
   ]
  },
  {
   "cell_type": "code",
   "execution_count": 12,
   "metadata": {},
   "outputs": [],
   "source": [
    "# Parameters:\n",
    "r_factor = 15\n",
    "\n",
    "ghost_cells_x = 2\n",
    "ghost_cells_y = 2\n",
    "\n",
    "dx = ensemble.dx\n",
    "dy = ensemble.dy\n",
    "nx = ensemble.nx\n",
    "ny = ensemble.ny\n",
    "\n",
    "# Drifter positions of Observations\n",
    "drifter_positions = ensemble.observeTrueDrifters()"
   ]
  },
  {
   "cell_type": "markdown",
   "metadata": {},
   "source": [
    "### 2. W_loc \n"
   ]
  },
  {
   "cell_type": "code",
   "execution_count": 13,
   "metadata": {},
   "outputs": [
    {
     "data": {
      "image/png": "[encoded data removed]",
      "text/plain": [
       "<Figure size 432x288 with 2 Axes>"
      ]
     },
     "metadata": {
      "needs_background": "light"
     },
     "output_type": "display_data"
    }
   ],
   "source": [
    "W_loc = getLocalWeightShape(r_factor, dx, dy, nx, ny)\n",
    "\n",
    "plt.imshow(W_loc, origin='lower')\n",
    "plt.title(\"Analysis Weights\")\n",
    "plt.colorbar()\n",
    "plt.show()\n"
   ]
  },
  {
   "cell_type": "markdown",
   "metadata": {},
   "source": [
    "### 3. W_analysis and W_forecast\n",
    "\n",
    "For only 2 observation points (a single observation requires technical changes in getCombinedWeights, but I deleted my change since it was very dirty)"
   ]
  },
  {
   "cell_type": "code",
   "execution_count": 14,
   "metadata": {},
   "outputs": [
    {
     "name": "stderr",
     "output_type": "stream",
     "text": [
      "/home/florianb/miniconda3/envs/gpuocean/lib/python3.7/site-packages/ipykernel_launcher.py:11: DeprecationWarning: `np.int` is a deprecated alias for the builtin `int`. To silence this warning, use `int` by itself. Doing this will not modify any behavior and is safe. When replacing `np.int`, you may wish to use e.g. `np.int64` or `np.int32` to specify the precision. If you wish to review your current use, check the release note link for additional information.\n",
      "Deprecated in NumPy 1.20; for more details and guidance: https://numpy.org/devdocs/release/1.20.0-notes.html#deprecations\n",
      "  # This is added back by InteractiveShellApp.init_path()\n",
      "/home/florianb/miniconda3/envs/gpuocean/lib/python3.7/site-packages/ipykernel_launcher.py:14: DeprecationWarning: `np.int` is a deprecated alias for the builtin `int`. To silence this warning, use `int` by itself. Doing this will not modify any behavior and is safe. When replacing `np.int`, you may wish to use e.g. `np.int64` or `np.int32` to specify the precision. If you wish to review your current use, check the release note link for additional information.\n",
      "Deprecated in NumPy 1.20; for more details and guidance: https://numpy.org/devdocs/release/1.20.0-notes.html#deprecations\n",
      "  \n",
      "/home/florianb/miniconda3/envs/gpuocean/lib/python3.7/site-packages/ipykernel_launcher.py:15: DeprecationWarning: `np.int` is a deprecated alias for the builtin `int`. To silence this warning, use `int` by itself. Doing this will not modify any behavior and is safe. When replacing `np.int`, you may wish to use e.g. `np.int64` or `np.int32` to specify the precision. If you wish to review your current use, check the release note link for additional information.\n",
      "Deprecated in NumPy 1.20; for more details and guidance: https://numpy.org/devdocs/release/1.20.0-notes.html#deprecations\n",
      "  from ipykernel import kernelapp as app\n",
      "/home/florianb/miniconda3/envs/gpuocean/lib/python3.7/site-packages/ipykernel_launcher.py:16: DeprecationWarning: `np.int` is a deprecated alias for the builtin `int`. To silence this warning, use `int` by itself. Doing this will not modify any behavior and is safe. When replacing `np.int`, you may wish to use e.g. `np.int64` or `np.int32` to specify the precision. If you wish to review your current use, check the release note link for additional information.\n",
      "Deprecated in NumPy 1.20; for more details and guidance: https://numpy.org/devdocs/release/1.20.0-notes.html#deprecations\n",
      "  app.launch_new_instance()\n",
      "/home/florianb/miniconda3/envs/gpuocean/lib/python3.7/site-packages/ipykernel_launcher.py:17: DeprecationWarning: `np.int` is a deprecated alias for the builtin `int`. To silence this warning, use `int` by itself. Doing this will not modify any behavior and is safe. When replacing `np.int`, you may wish to use e.g. `np.int64` or `np.int32` to specify the precision. If you wish to review your current use, check the release note link for additional information.\n",
      "Deprecated in NumPy 1.20; for more details and guidance: https://numpy.org/devdocs/release/1.20.0-notes.html#deprecations\n"
     ]
    },
    {
     "data": {
      "image/png": "[encoded data removed]",
      "text/plain": [
       "<Figure size 432x288 with 2 Axes>"
      ]
     },
     "metadata": {
      "needs_background": "light"
     },
     "output_type": "display_data"
    },
    {
     "data": {
      "image/png": "[encoded data removed]",
      "text/plain": [
       "<Figure size 432x288 with 2 Axes>"
      ]
     },
     "metadata": {
      "needs_background": "light"
     },
     "output_type": "display_data"
    },
    {
     "name": "stdout",
     "output_type": "stream",
     "text": [
      "CPU times: user 2.69 s, sys: 20.9 ms, total: 2.71 s\n",
      "Wall time: 2.69 s\n"
     ]
    }
   ],
   "source": [
    "%%time\n",
    "#DEBUG: Only one row of observations\n",
    "W_combined = getCombinedWeights(drifter_positions, r_factor, ensemble.dx, ensemble.dy, ensemble.nx, ensemble.ny)\n",
    "\n",
    "W_scale = np.maximum(W_combined, 1)\n",
    "\n",
    "W_analysis = W_combined/W_scale\n",
    "\n",
    "W_forecast = np.ones_like(W_scale) - W_analysis\n",
    "\n",
    "plt.imshow(W_analysis, origin='lower')\n",
    "plt.title(\"W_analysis\")\n",
    "plt.colorbar()\n",
    "plt.show()\n",
    "\n",
    "plt.imshow(W_forecast, origin='lower')\n",
    "plt.title(\"W_forecast\")\n",
    "plt.colorbar()\n",
    "plt.show()\n"
   ]
  },
  {
   "cell_type": "markdown",
   "metadata": {},
   "source": [
    "## Data Assimilation with Håvards LETKF\n"
   ]
  },
  {
   "cell_type": "code",
   "execution_count": 15,
   "metadata": {},
   "outputs": [
    {
     "name": "stdout",
     "output_type": "stream",
     "text": [
      "---------- Starting simulation --------------\n",
      "--- numDays:       7\n",
      "--- numHours:      24\n",
      "--- forecast_days: 3\n",
      "---------------------------------------------\n"
     ]
    }
   ],
   "source": [
    "### ----------------------------------------------\n",
    "#   DATA ASSIMILATION\n",
    "#\n",
    "\n",
    "obstime = start_time # time in seconds (starting after spin-up phase)\n",
    "\n",
    "master_tic = time.time()\n",
    "\n",
    "numDays = args_num_days \n",
    "numHours = args_num_hours \n",
    "forecast_days = args_forecast_days\n",
    "\n",
    "\n",
    "print('---------- Starting simulation --------------') \n",
    "print('--- numDays:       ' + str(numDays))\n",
    "print('--- numHours:      ' + str(numHours))\n",
    "print('--- forecast_days: ' + str(forecast_days))\n",
    "print('---------------------------------------------') \n",
    "\n",
    "\n",
    "drifter_cells = ensemble.getDrifterCells()\n",
    "\n",
    "ensemble.stepToObservation(start_time+5*60)"
   ]
  },
  {
   "cell_type": "markdown",
   "metadata": {},
   "source": [
    "### Quick book-keeping which is usually done in the class"
   ]
  },
  {
   "cell_type": "code",
   "execution_count": 16,
   "metadata": {},
   "outputs": [
    {
     "name": "stdout",
     "output_type": "stream",
     "text": [
      "Deactivating particle 50 with the following message: \n",
      "\n",
      "Closing file /home/florianb/gpu-ocean/gpu_ocean/prototypes/ETKF/ensemble_result_2021_12_28-12_45_40/ensemble_member_0050.nc ...\n"
     ]
    }
   ],
   "source": [
    "ensemble.deactivateParticle(50)"
   ]
  },
  {
   "cell_type": "code",
   "execution_count": 17,
   "metadata": {},
   "outputs": [],
   "source": [
    "N_e = ensemble.getNumParticles()\n",
    "N_e_active = ensemble.getNumActiveParticles()"
   ]
  },
  {
   "cell_type": "markdown",
   "metadata": {},
   "source": [
    "### Generate $X_f$ from the ensemble"
   ]
  },
  {
   "cell_type": "code",
   "execution_count": 18,
   "metadata": {},
   "outputs": [
    {
     "data": {
      "image/png": "[encoded data removed]",
      "text/plain": [
       "<Figure size 900x244.8 with 6 Axes>"
      ]
     },
     "metadata": {
      "needs_background": "light"
     },
     "output_type": "display_data"
    }
   ],
   "source": [
    "# Global forecasts \n",
    "def giveX_f_global(ensemble):\n",
    "\n",
    "    X_f = np.zeros((N_e_active,3,ny,nx))\n",
    "\n",
    "    idx = 0\n",
    "    for e in range(N_e):\n",
    "        if ensemble.particlesActive[e]:\n",
    "            eta, hu, hv = ensemble.particles[e].download(interior_domain_only=True)\n",
    "            X_f[idx,0,:,:] = eta \n",
    "            X_f[idx,1,:,:] = hu\n",
    "            X_f[idx,2,:,:] = hv\n",
    "            idx += 1\n",
    "\n",
    "    X_f_mean = 1/N_e_active * np.sum(X_f,axis=0)\n",
    "\n",
    "    X_f_pert = np.zeros_like( X_f )\n",
    "    for e in range(N_e_active):\n",
    "        X_f_pert[e,:,:,:] = X_f[e,:,:,:] - X_f_mean\n",
    "\n",
    "    return X_f, X_f_mean, X_f_pert\n",
    "\n",
    "\n",
    "X_f, X_f_mean, X_f_pert = giveX_f_global(ensemble)\n",
    "\n",
    "imshow3(X_f_mean[0], X_f_mean[1], X_f_mean[2], title=\"Mean of X_f\")"
   ]
  },
  {
   "cell_type": "code",
   "execution_count": 19,
   "metadata": {},
   "outputs": [],
   "source": [
    "# Global observations\n",
    "def giveHX_f_global(ensemble):\n",
    "\n",
    "    HX_f = ensemble.observeParticles()\n",
    "\n",
    "    HX_f_mean = 1/N_e_active * np.nansum(HX_f, axis=0)\n",
    "\n",
    "    HX_f_pert = HX_f - HX_f_mean\n",
    "\n",
    "    return HX_f_mean, HX_f_pert\n",
    "\n",
    "\n",
    "HX_f_mean, HX_f_pert = giveHX_f_global(ensemble)"
   ]
  },
  {
   "cell_type": "markdown",
   "metadata": {},
   "source": [
    "### Preparing $X_a$"
   ]
  },
  {
   "cell_type": "code",
   "execution_count": 20,
   "metadata": {},
   "outputs": [],
   "source": [
    "X_a = np.zeros_like(X_f)"
   ]
  },
  {
   "cell_type": "markdown",
   "metadata": {},
   "source": [
    "### Pre-compute all local domains (since we have buoys)"
   ]
  },
  {
   "cell_type": "code",
   "execution_count": 21,
   "metadata": {},
   "outputs": [
    {
     "name": "stderr",
     "output_type": "stream",
     "text": [
      "/home/florianb/miniconda3/envs/gpuocean/lib/python3.7/site-packages/ipykernel_launcher.py:3: DeprecationWarning: `np.int` is a deprecated alias for the builtin `int`. To silence this warning, use `int` by itself. Doing this will not modify any behavior and is safe. When replacing `np.int`, you may wish to use e.g. `np.int64` or `np.int32` to specify the precision. If you wish to review your current use, check the release note link for additional information.\n",
      "Deprecated in NumPy 1.20; for more details and guidance: https://numpy.org/devdocs/release/1.20.0-notes.html#deprecations\n",
      "  This is separate from the ipykernel package so we can avoid doing imports until\n",
      "/home/florianb/miniconda3/envs/gpuocean/lib/python3.7/site-packages/ipykernel_launcher.py:4: DeprecationWarning: `np.int` is a deprecated alias for the builtin `int`. To silence this warning, use `int` by itself. Doing this will not modify any behavior and is safe. When replacing `np.int`, you may wish to use e.g. `np.int64` or `np.int32` to specify the precision. If you wish to review your current use, check the release note link for additional information.\n",
      "Deprecated in NumPy 1.20; for more details and guidance: https://numpy.org/devdocs/release/1.20.0-notes.html#deprecations\n",
      "  after removing the cwd from sys.path.\n",
      "/home/florianb/miniconda3/envs/gpuocean/lib/python3.7/site-packages/ipykernel_launcher.py:11: DeprecationWarning: `np.int` is a deprecated alias for the builtin `int`. To silence this warning, use `int` by itself. Doing this will not modify any behavior and is safe. When replacing `np.int`, you may wish to use e.g. `np.int64` or `np.int32` to specify the precision. If you wish to review your current use, check the release note link for additional information.\n",
      "Deprecated in NumPy 1.20; for more details and guidance: https://numpy.org/devdocs/release/1.20.0-notes.html#deprecations\n",
      "  # This is added back by InteractiveShellApp.init_path()\n",
      "/home/florianb/miniconda3/envs/gpuocean/lib/python3.7/site-packages/ipykernel_launcher.py:14: DeprecationWarning: `np.int` is a deprecated alias for the builtin `int`. To silence this warning, use `int` by itself. Doing this will not modify any behavior and is safe. When replacing `np.int`, you may wish to use e.g. `np.int64` or `np.int32` to specify the precision. If you wish to review your current use, check the release note link for additional information.\n",
      "Deprecated in NumPy 1.20; for more details and guidance: https://numpy.org/devdocs/release/1.20.0-notes.html#deprecations\n",
      "  \n",
      "/home/florianb/miniconda3/envs/gpuocean/lib/python3.7/site-packages/ipykernel_launcher.py:15: DeprecationWarning: `np.int` is a deprecated alias for the builtin `int`. To silence this warning, use `int` by itself. Doing this will not modify any behavior and is safe. When replacing `np.int`, you may wish to use e.g. `np.int64` or `np.int32` to specify the precision. If you wish to review your current use, check the release note link for additional information.\n",
      "Deprecated in NumPy 1.20; for more details and guidance: https://numpy.org/devdocs/release/1.20.0-notes.html#deprecations\n",
      "  from ipykernel import kernelapp as app\n",
      "/home/florianb/miniconda3/envs/gpuocean/lib/python3.7/site-packages/ipykernel_launcher.py:16: DeprecationWarning: `np.int` is a deprecated alias for the builtin `int`. To silence this warning, use `int` by itself. Doing this will not modify any behavior and is safe. When replacing `np.int`, you may wish to use e.g. `np.int64` or `np.int32` to specify the precision. If you wish to review your current use, check the release note link for additional information.\n",
      "Deprecated in NumPy 1.20; for more details and guidance: https://numpy.org/devdocs/release/1.20.0-notes.html#deprecations\n",
      "  app.launch_new_instance()\n",
      "/home/florianb/miniconda3/envs/gpuocean/lib/python3.7/site-packages/ipykernel_launcher.py:17: DeprecationWarning: `np.int` is a deprecated alias for the builtin `int`. To silence this warning, use `int` by itself. Doing this will not modify any behavior and is safe. When replacing `np.int`, you may wish to use e.g. `np.int64` or `np.int32` to specify the precision. If you wish to review your current use, check the release note link for additional information.\n",
      "Deprecated in NumPy 1.20; for more details and guidance: https://numpy.org/devdocs/release/1.20.0-notes.html#deprecations\n"
     ]
    },
    {
     "name": "stdout",
     "output_type": "stream",
     "text": [
      "CPU times: user 2.5 s, sys: 0 ns, total: 2.5 s\n",
      "Wall time: 2.5 s\n"
     ]
    }
   ],
   "source": [
    "%%time\n",
    "num_drifters = drifter_positions.shape[0]\n",
    "all_Ls = [None]*num_drifters\n",
    "all_xrolls = np.zeros(num_drifters, dtype=np.int)\n",
    "all_yrolls = np.zeros(num_drifters, dtype=np.int)\n",
    "\n",
    "for d in range(num_drifters):\n",
    "\n",
    "    # Collecting rolling information (xroll and yroll are 0)\n",
    "    all_Ls[d], all_xrolls[d], all_yrolls[d] = getLocalIndices(drifter_positions[d,:], r_factor, dx, dy, nx, ny)\n",
    "    "
   ]
  },
  {
   "cell_type": "markdown",
   "metadata": {},
   "source": [
    "## Roll and weight for only the first observation position!!! \n",
    "\n",
    "Thats the tricky part with a bug :("
   ]
  },
  {
   "cell_type": "code",
   "execution_count": 22,
   "metadata": {},
   "outputs": [
    {
     "name": "stdout",
     "output_type": "stream",
     "text": [
      "CPU times: user 1min 2s, sys: 1min 29s, total: 2min 31s\n",
      "Wall time: 6.35 s\n"
     ]
    }
   ],
   "source": [
    "%%time\n",
    "N_x_local = W_loc.shape[0]*W_loc.shape[1]\n",
    "X_f_loc_tmp = np.zeros((N_e_active, 3, N_x_local))\n",
    "X_f_loc_pert_tmp = np.zeros((N_e_active, 3, N_x_local))\n",
    "X_f_loc_mean_tmp = np.zeros((3, N_x_local))\n",
    "    \n",
    "X_f_loc = np.zeros((3*N_x_local, N_e_active))\n",
    "X_f_loc_pert = np.zeros((3*N_x_local, N_e_active))\n",
    "\n",
    "aX_f_loc = np.zeros((3*N_x_local, N_e_active))\n",
    "aX_f_loc_pert = np.zeros((3*N_x_local, N_e_active))\n",
    "\n",
    "times = [time.time()]\n",
    "labels = ['start_time']\n",
    "\n",
    "#for d in [0]:\n",
    "for d in range(drifter_positions.shape[0]):\n",
    "\n",
    "    # Collecting rolling information (xroll and yroll are 0)\n",
    "    #L, xroll, yroll = getLocalIndices(drifter_positions[d,:], r_factor, dx, dy, nx, ny)\n",
    "    #N_x_local = np.sum(L)\n",
    "    \n",
    "    L, xroll, yroll = all_Ls[d], all_xrolls[d], all_yrolls[d]\n",
    "    \n",
    "    if d == 0:\n",
    "        times.append(time.time())\n",
    "        labels.append('Local domain')\n",
    "\n",
    "    # LOCAL ARRAY FOR FORECAST (basically extracting local values from global array)\n",
    "    X_f_loc_tmp[:,:,:] = X_f[:,:,L]           # shape: (N_e_active, 3, N_x_local)\n",
    "    X_f_loc_pert_tmp[:,:,:] = X_f_pert[:,:,L] # shape: (N_e_active, 3, N_x_local)\n",
    "    X_f_loc_mean_tmp[:,:] = X_f_mean[:,L]   # shape: (3, N_x_local))\n",
    "    \n",
    "    \n",
    "    if d == 0:\n",
    "        times.append(time.time())\n",
    "        labels.append('Local array forecast')\n",
    "        \n",
    "    ### for e in range(N_e_active):\n",
    "    ###    for i in range(3):\n",
    "    ###        X_f_loc_tmp[e,i,:] = X_f[e,i,L]\n",
    "    ###        X_f_loc_pert_tmp[e,i,:] = X_f_pert[e,i,L]\n",
    "    ### X_f_loc_tmp[:,:,:] = X_f[:,:,L]\n",
    "    ### X_f_loc_pert_tmp[:,:,:] = X_f_pert[:,:,L]\n",
    "    \n",
    "    ### for i in range(3):\n",
    "    ###    X_f_loc_mean_tmp[i,:] = X_f_mean[i,L]\n",
    "    ### X_f_loc_mean_tmp[:,:] = X_f_mean[:,L]\n",
    "\n",
    "    \n",
    "    # Roll local array (this should not change anything here!)\n",
    "    if not (xroll == 0 and yroll == 0):\n",
    "        rolling_shape = (N_e_active, 3, W_loc.shape[0], W_loc.shape[1]) # roll around axis 2 and 3\n",
    "        X_f_loc_tmp[:,:,:] = np.roll(np.roll(X_f_loc_tmp.reshape(rolling_shape), shift=-yroll, axis=2 ), shift=-xroll, axis=3).reshape((N_e_active, 3, N_x_local))\n",
    "        X_f_loc_pert_tmp[:,:,:] = np.roll(np.roll(X_f_loc_pert_tmp.reshape(rolling_shape), shift=-yroll, axis=2 ), shift=-xroll, axis=3).reshape((N_e_active, 3, N_x_local))\n",
    "\n",
    "        mean_rolling_shape = (3, W_loc.shape[0], W_loc.shape[1]) # roll around axis 1 and 2\n",
    "        X_f_loc_mean_tmp[:,:] = np.roll(np.roll(X_f_loc_mean_tmp.reshape(mean_rolling_shape), shift=-yroll, axis=1 ), shift=-xroll, axis=2).reshape((3, N_x_local))\n",
    "    \n",
    "    # Roll local array (this should not change anything here!)\n",
    "    #for e in range(N_e_active):\n",
    "    #    # for eta, hu,\n",
    "    #    for i in range(3): \n",
    "    #        # roll the local domain so that it does not go through the boundaries\n",
    "    #        X_f_loc_tmp[e,i,:] = np.roll(np.roll(X_f_loc_tmp[e,i,:].reshape(W_loc.shape), shift=-yroll, axis=0 ), shift=-xroll, axis=1).flatten()\n",
    "    #        X_f_loc_pert_tmp[e,i,:] = np.roll(np.roll(X_f_loc_pert_tmp[e,i,:].reshape(W_loc.shape), shift=-yroll, axis=0 ), shift=-xroll, axis=1).flatten()\n",
    "    #for i in range(3): \n",
    "    #    # roll the local domain so that it does not go through the boundaries\n",
    "    #    X_f_loc_mean_tmp[i,:] = np.roll(np.roll(X_f_loc_mean_tmp[i,:].reshape(W_loc.shape), shift=-yroll, axis=0 ), shift=-xroll, axis=1).flatten()\n",
    "\n",
    "    if d == 0:\n",
    "        times.append(time.time())\n",
    "        labels.append('Local rolling')\n",
    "    \n",
    "    # FROM LOCAL ARRAY TO LOCAL VECTOR FOR FORECAST (we concatinate eta, hu and hv components)\n",
    "    #X_f_loc = np.zeros((3*N_x_local, N_e_active))\n",
    "    #X_f_loc_pert = np.zeros((3*N_x_local, N_e_active))\n",
    "    X_f_loc_mean = np.append(X_f_loc_mean_tmp[0,:],np.append(X_f_loc_mean_tmp[1,:],X_f_loc_mean_tmp[2,:]))\n",
    "    #for e in range(N_e_active):\n",
    "    #    aX_f_loc[:,e] = np.append(X_f_loc_tmp[e,0,:],np.append(X_f_loc_tmp[e,1,:],X_f_loc_tmp[e,2,:]))\n",
    "    #    aX_f_loc_pert[:,e] = np.append(X_f_loc_pert_tmp[e,0,:],np.append(X_f_loc_pert_tmp[e,1,:],X_f_loc_pert_tmp[e,2,:]))\n",
    "\n",
    "    X_f_loc = X_f_loc_tmp.reshape((N_e_active, 3*N_x_local)).T\n",
    "    X_f_loc_pert = X_f_loc_pert_tmp.reshape((N_e_active, 3*N_x_local)).T\n",
    "    \n",
    "        \n",
    "        \n",
    "    if d == 0:\n",
    "        times.append(time.time())\n",
    "        labels.append('Local array to local vector for forecast')\n",
    "        \n",
    "    # Local observations\n",
    "    HX_f_loc_mean = HX_f_mean[d,:]\n",
    "    HX_f_loc_pert = HX_f_pert[:,d,:].T\n",
    "\n",
    "    ############LETKF\n",
    "\n",
    "    # Rinv \n",
    "    Rinv = np.linalg.inv(ensemble.getObservationCov())\n",
    "\n",
    "    # D\n",
    "    y_loc = ensemble.observeTrueState()[d,2:4].T\n",
    "    D = y_loc - HX_f_loc_mean\n",
    "\n",
    "    # P \n",
    "    A1 = (N_e_active-1) * np.eye(N_e_active)\n",
    "    A2 = HX_f_loc_pert[:,ensemble.particlesActive].T @ Rinv @ HX_f_loc_pert[:,ensemble.particlesActive]\n",
    "    A = A1 + A2\n",
    "\n",
    "    P = np.linalg.inv(A)\n",
    "\n",
    "    # K \n",
    "    K = X_f_loc_pert @ P @ HX_f_loc_pert[:,ensemble.particlesActive].T @ Rinv\n",
    "\n",
    "    # local analysis\n",
    "    X_a_loc_mean = X_f_loc_mean + K @ D\n",
    "\n",
    "    sigma, V = np.linalg.eigh( (N_e_active-1) * P )\n",
    "    X_a_loc_pert = X_f_loc_pert @ V @ np.diag( np.sqrt( np.real(sigma) ) ) @ V.T\n",
    "\n",
    "    X_a_loc = X_a_loc_pert \n",
    "    for j in range(N_e_active):\n",
    "        X_a_loc[:,j] += X_a_loc_mean\n",
    "\n",
    "    if d == 0:\n",
    "        times.append(time.time())\n",
    "        labels.append('LETKF')\n",
    "        \n",
    "    # FROM LOCAL VECTOR TO GLOBAL ARRAY (we fill the global X_a with the *weighted* local values)\n",
    "    #for e in range(N_e_active):\n",
    "    #    # eta, hu, hv\n",
    "    #    for i in range(3):\n",
    "    #        # Calculate weighted local analysis\n",
    "    #        weighted_X_a_loc = X_a_loc[i*N_x_local:(i+1)*N_x_local,e]*(W_loc.flatten())\n",
    "    #        # Roll the local domain back according to periodic boundaries again (nothing should happen here)\n",
    "    #        weighted_X_a_loc = np.roll(np.roll(weighted_X_a_loc.reshape(W_loc.shape), shift=yroll, axis=0 ), shift=xroll, axis=1)\n",
    "    #        # Add to global X_a\n",
    "    #        X_a[e,i,L] += weighted_X_a_loc.flatten()\n",
    "\n",
    "    # FROM LOCAL VECTOR TO GLOBAL ARRAY (we fill the global X_a with the *weighted* local values)\n",
    "    # eta, hu, hv\n",
    "    for i in range(3):\n",
    "        # Calculate weighted local analysis\n",
    "        weighted_X_a_loc = X_a_loc[i*N_x_local:(i+1)*N_x_local,:]*(np.tile(W_loc.flatten().T, (N_e_active, 1)).T)\n",
    "        # Here, we use np.tile(W_loc.flatten().T, (N_e_active, 1)).T to repeat W_loc as column vector N_e_active times \n",
    "        \n",
    "        if not (xroll == 0 and yroll == 0):\n",
    "            weighted_X_a_loc = np.roll(np.roll(weighted_X_a_loc[:,:].reshape((W_loc.shape[0], W_loc.shape[1], N_e_active)), \n",
    "                                                                             shift=yroll, axis=0 ), \n",
    "                                               shift=xroll, axis=1)\n",
    "        \n",
    "        X_a[:,i,L] += weighted_X_a_loc.reshape(W_loc.shape[0]*W_loc.shape[1], N_e_active).T\n",
    "\n",
    "    if d == 0:\n",
    "        times.append(time.time())\n",
    "        labels.append('From local vector to global array')"
   ]
  },
  {
   "cell_type": "code",
   "execution_count": 23,
   "metadata": {},
   "outputs": [
    {
     "name": "stdout",
     "output_type": "stream",
     "text": [
      "5.7220458984375e-06 Local domain\n",
      "0.004914999008178711 Local array forecast\n",
      "0.0028696060180664062 Local rolling\n",
      "3.0040740966796875e-05 Local array to local vector for forecast\n",
      "0.037813425064086914 LETKF\n",
      "0.005613565444946289 From local vector to global array\n",
      " \n",
      "0.051247358322143555 iteration for drifter 0\n"
     ]
    }
   ],
   "source": [
    "for i in range(1, len(times)):\n",
    "    print(times[i] - times[i-1], labels[i])\n",
    "print(' ')\n",
    "print(times[-1] - times[0], 'iteration for drifter 0')"
   ]
  },
  {
   "cell_type": "code",
   "execution_count": 24,
   "metadata": {},
   "outputs": [
    {
     "name": "stdout",
     "output_type": "stream",
     "text": [
      "CPU times: user 79.3 ms, sys: 27.1 ms, total: 106 ms\n",
      "Wall time: 106 ms\n"
     ]
    }
   ],
   "source": [
    "%%time\n",
    "# COMBINING (the already weighted) ANALYSIS WITH THE FORECAST\n",
    "X_new = np.zeros_like(X_f)\n",
    "for e in range(N_e_active):\n",
    "    for i in range(3):\n",
    "        X_new[e][i] = W_forecast*X_f[e][i] + X_a[e][i]\n",
    "        \n",
    "X_new_mean = 1/N_e_active * np.sum(X_new, axis=0)\n"
   ]
  },
  {
   "cell_type": "code",
   "execution_count": 25,
   "metadata": {
    "scrolled": true
   },
   "outputs": [
    {
     "data": {
      "image/png": "[encoded data removed]",
      "text/plain": [
       "<Figure size 900x244.8 with 6 Axes>"
      ]
     },
     "metadata": {
      "needs_background": "light"
     },
     "output_type": "display_data"
    }
   ],
   "source": [
    "imshow3(X_new_mean[0], X_new_mean[1], X_new_mean[2], title=\"Mean of X_new\")"
   ]
  },
  {
   "cell_type": "code",
   "execution_count": null,
   "metadata": {},
   "outputs": [],
   "source": []
  }
 ],
 "metadata": {
  "kernelspec": {
   "display_name": "Python 3",
   "language": "python",
   "name": "python3"
  },
  "language_info": {
   "codemirror_mode": {
    "name": "ipython",
    "version": 3
   },
   "file_extension": ".py",
   "mimetype": "text/x-python",
   "name": "python",
   "nbconvert_exporter": "python",
   "pygments_lexer": "ipython3",
   "version": "3.7.12"
  }
 },
 "nbformat": 4,
 "nbformat_minor": 4
}
