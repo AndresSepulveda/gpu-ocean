{
 "cells": [
  {
   "cell_type": "code",
   "execution_count": null,
   "metadata": {},
   "outputs": [],
   "source": [
    "# -*- coding: utf-8 -*-\n",
    "\n",
    "\"\"\"\n",
    "This software is part of GPU Ocean. \n",
    "Copyright (C) 2019 SINTEF Digital\n",
    "\n",
    "This notebook is used to show the individual steps of the ETKF for an ocean ensemble.\n",
    "\n",
    "This program is free software: you can redistribute it and/or modify\n",
    "it under the terms of the GNU General Public License as published by\n",
    "the Free Software Foundation, either version 3 of the License, or\n",
    "(at your option) any later version.\n",
    "\n",
    "This program is distributed in the hope that it will be useful,\n",
    "but WITHOUT ANY WARRANTY; without even the implied warranty of\n",
    "MERCHANTABILITY or FITNESS FOR A PARTICULAR PURPOSE.  See the\n",
    "GNU General Public License for more details.\n",
    "\n",
    "You should have received a copy of the GNU General Public License\n",
    "along with this program.  If not, see <http://www.gnu.org/licenses/>.\n",
    "\"\"\"\n",
    "\n",
    "\n",
    "import sys, os, datetime, time, shutil\n",
    "from importlib import reload \n",
    "import numpy as np\n",
    "\n",
    "%matplotlib inline\n",
    "%config InlineBackend.figure_format = 'retina'\n",
    "import matplotlib\n",
    "from matplotlib import pyplot as plt\n",
    "from matplotlib import rc\n",
    "from matplotlib import gridspec as gridspec\n",
    "\n",
    "#Set large figure sizes\n",
    "rc('figure', figsize=(16.0, 12.0))\n",
    "rc('animation', html='html5')\n",
    "matplotlib.rcParams['contour.negative_linestyle'] = 'solid'\n",
    "\n",
    "current_dir = os.getcwd()\n",
    "\n",
    "if os.path.isdir(os.path.abspath(os.path.join(current_dir, '../../SWESimulators'))):\n",
    "        sys.path.insert(0, os.path.abspath(os.path.join(current_dir, '../../')))\n",
    "\n",
    "from SWESimulators import IPythonMagic\n",
    "from SWESimulators import BaseOceanStateEnsemble, OceanNoiseEnsemble, CDKLM16 \n",
    "from SWESimulators import Common\n",
    "from SWESimulators import DataAssimilationUtils as dautils\n",
    "\n"
   ]
  },
  {
   "cell_type": "code",
   "execution_count": null,
   "metadata": {},
   "outputs": [
    {
     "name": "stderr",
     "output_type": "stream",
     "text": [
      "Console logger using level INFO\n",
      "File logger using level Level 15 to enkf_gpu.log\n",
      "Python version 3.7.8 | packaged by conda-forge | (default, Jul 31 2020, 01:53:57) [MSC v.1916 64 bit (AMD64)]\n"
     ]
    }
   ],
   "source": [
    "%cuda_context_handler gpu_ctx\n",
    "%setup_logging --out enkf_gpu.log --file_level 15"
   ]
  },
  {
   "cell_type": "markdown",
   "metadata": {},
   "source": [
    "# Set up an instance \n",
    "\n",
    "OceanNoiseEnsemble using CDKLM16-Simulators"
   ]
  },
  {
   "cell_type": "code",
   "execution_count": null,
   "metadata": {},
   "outputs": [],
   "source": [
    "# DEFINE PARAMETERS\n",
    "\n",
    "sim_args = {\n",
    "    \"gpu_ctx\": gpu_ctx,\n",
    "    \"nx\": 60, \"ny\": 60,\n",
    "    \"dx\": 4.0, \"dy\": 4.0,\n",
    "    \"dt\": 0.05,\n",
    "    \"g\": 9.81,\n",
    "    \"f\": 0.05,\n",
    "    \"coriolis_beta\": 0.0,\n",
    "    \"r\": 0.0,\n",
    "    \"rk_order\": 2,\n",
    "    \"small_scale_perturbation_amplitude\": None,\n",
    "    \"write_netcdf\": False, \n",
    "    \"small_scale_perturbation\": True,\n",
    "    \"small_scale_perturbation_interpolation_factor\": 3,\n",
    "    \"boundary_conditions\": Common.BoundaryConditions(2,2,2,2)\n",
    "}\n",
    "\n",
    "ghosts = np.array([2,2,2,2]) # north, east, south, west\n",
    "validDomain = np.array([2,2,2,2])\n",
    "\n",
    "\n",
    "dataShape = (sim_args[\"ny\"] + ghosts[0]+ghosts[2], \n",
    "             sim_args[\"nx\"] + ghosts[1]+ghosts[3])\n",
    "dataShapeHi = (sim_args[\"ny\"] + ghosts[0]+ghosts[2]+1, \n",
    "             sim_args[\"nx\"] + ghosts[1]+ghosts[3]+1)\n",
    "\n",
    "sim_args[\"eta0\"] = np.zeros(dataShape, dtype=np.float32, order='C');\n",
    "sim_args[\"hv0\"] = np.zeros(dataShape, dtype=np.float32, order='C');\n",
    "sim_args[\"hu0\"] = np.zeros(dataShape, dtype=np.float32, order='C');\n",
    "waterDepth = 10.0\n",
    "sim_args[\"H\"] = np.ones(dataShapeHi, dtype=np.float32, order='C')*waterDepth\n",
    "\n",
    "\n",
    "if 'sim' in globals():\n",
    "    sim.cleanUp()\n",
    "if 'ensemble' in globals():\n",
    "    ensemble.cleanUp()\n",
    "if 'iewpfOcean' in globals():\n",
    "    iewpfOcean.cleanUp()\n",
    "    \n",
    "sim_args[\"small_scale_perturbation_amplitude\"] = np.sqrt(sim_args[\"dt\"])*0.5*sim_args[\"f\"]/(sim_args[\"g\"]*waterDepth)\n",
    "sim_args[\"small_scale_perturbation_amplitude\"] *= sim_args[\"small_scale_perturbation_interpolation_factor\"]\n",
    "print (\"q0: \", sim_args[\"small_scale_perturbation_amplitude\"])\n",
    "print (\"[f, g, H, dt]\", [sim_args[\"f\"], sim_args[\"g\"], waterDepth, sim_args[\"dt\"]])\n",
    "print (\"(nx, ny): \", (sim_args[\"nx\"], sim_args[\"ny\"]))\n",
    "\n",
    "reload(CDKLM16)\n",
    "reload(BaseOceanStateEnsemble)\n",
    "reload(OceanNoiseEnsemble)\n",
    "reload(dautils)\n",
    "\n",
    "sim = CDKLM16.CDKLM16(**sim_args)\n",
    "sim.perturbState(q0_scale=100)\n",
    "    \n",
    "ensemble_args = {\n",
    "    \"gpu_ctx\": gpu_ctx,\n",
    "    \"numParticles\": 5,\n",
    "    \"num_drifters\": 2,\n",
    "    \"sim\": sim,\n",
    "    \"observation_type\": dautils.ObservationType.StaticBuoys,\n",
    "    \"buoys_positions\" : [[120.0,120.0],[60.0,60.0]],\n",
    "    \"observation_variance\": 0.5**2,\n",
    "    \"initialization_variance_factor_ocean_field\" : 25.0\n",
    "}\n",
    "\n",
    "ensemble = OceanNoiseEnsemble.OceanNoiseEnsemble(**ensemble_args)\n",
    "\n",
    "max_dt = ensemble.findLargestPossibleTimeStep()\n",
    "print (\"max_dt: \", max_dt)\n",
    "\n",
    "print (\"Ready!\")"
   ]
  },
  {
   "cell_type": "markdown",
   "metadata": {},
   "source": [
    "# Run Simulation until Observation Time"
   ]
  },
  {
   "cell_type": "code",
   "execution_count": null,
   "metadata": {},
   "outputs": [],
   "source": [
    "t = 100*sim_args[\"dt\"]\n",
    "ensemble.step(t)\n",
    "\n",
    "print(\"Ready!\")"
   ]
  },
  {
   "cell_type": "markdown",
   "metadata": {},
   "source": [
    "# Book keeping"
   ]
  },
  {
   "cell_type": "code",
   "execution_count": null,
   "metadata": {},
   "outputs": [],
   "source": [
    "# Deactivating some particles for testing\n",
    "ensemble.particlesActive[2]=False\n",
    "ensemble.particlesActive[7]=False"
   ]
  },
  {
   "cell_type": "code",
   "execution_count": null,
   "metadata": {},
   "outputs": [],
   "source": [
    "# Size of ensemble\n",
    "N_e = ensemble.getNumParticles()\n",
    "N_e_active = ensemble.getNumActiveParticles()\n",
    "\n",
    "# Number of observers\n",
    "N_d = ensemble.getNumDrifters()\n",
    "\n",
    "# particle properties before EnKF analysis phase\n",
    "observedParticles_pre = ensemble.observeParticles()\n",
    "innovationNorms_pre = ensemble.getInnovationNorms()\n",
    "\n",
    "# rmse values before EnKF analysis phase\n",
    "ensemble.getEnsembleVarAndRMSEUnderDrifter(t)\n",
    "rmse_eta_pre = ensemble.rmseUnderDrifter_eta\n",
    "rmse_hu_pre  = ensemble.rmseUnderDrifter_hu\n",
    "rmse_hv_pre  = ensemble.rmseUnderDrifter_hv\n"
   ]
  },
  {
   "cell_type": "markdown",
   "metadata": {},
   "source": [
    "# Hidden ETKF"
   ]
  },
  {
   "cell_type": "code",
   "execution_count": null,
   "metadata": {},
   "outputs": [],
   "source": [
    "import ETKFOcean\n",
    "reload(ETKFOcean)\n",
    "\n",
    "etkf = ETKFOcean.ETKFOcean(ensemble)\n",
    "\n",
    "etkf.ETKF(ensemble)"
   ]
  },
  {
   "cell_type": "code",
   "execution_count": null,
   "metadata": {},
   "outputs": [],
   "source": [
    "crash"
   ]
  },
  {
   "cell_type": "markdown",
   "metadata": {},
   "source": [
    "# Plotting Utils"
   ]
  },
  {
   "cell_type": "code",
   "execution_count": null,
   "metadata": {},
   "outputs": [],
   "source": [
    "def _fillPolarPlot(ax, ensemble, observedParticles, alpha, printInfo=False):\n",
    "    \"\"\"\n",
    "    Internal utility function for plotting current under a drifter as a polar plot.\n",
    "    \"\"\"\n",
    "    max_r = 0\n",
    "    observedParticlesSingleDrifter = observedParticles[:, 0, :]\n",
    "    if printInfo: print(\"observedParticlesSingleDrifter: \\n\" +str(observedParticlesSingleDrifter))\n",
    "    for p in range(ensemble.getNumParticles()):\n",
    "        u, v = observedParticlesSingleDrifter[p,0], observedParticlesSingleDrifter[p,1]\n",
    "        r = np.sqrt(u**2 + v**2)\n",
    "        max_r = max(max_r, r)\n",
    "        theta = np.arctan(v/u)\n",
    "        if (u < 0):\n",
    "            theta += np.pi\n",
    "        arr1 = plt.arrow(theta, 0, 0, r, alpha = alpha, \\\n",
    "                         length_includes_head=True, \\\n",
    "                         edgecolor = 'green', facecolor = 'green', zorder = 5)\n",
    "\n",
    "    obs_u = ensemble.observeTrueState()[0, 2]\n",
    "    obs_v = ensemble.observeTrueState()[0, 3]\n",
    "    if printInfo: print(\"observedTrueState: \" + str((obs_u, obs_v)))\n",
    "    obs_r = np.sqrt(obs_u**2 + obs_v**2)\n",
    "    max_r = max(max_r, obs_r)\n",
    "    obs_theta = np.arctan(obs_v/obs_u)\n",
    "    if (obs_u < 0):\n",
    "        obs_theta += np.pi\n",
    "    arr1 = plt.arrow(obs_theta, 0, 0, obs_r, alpha = 0.5,\\\n",
    "                     length_includes_head=True, \\\n",
    "                     edgecolor = 'red', facecolor = 'red', zorder = 5)\n",
    "\n",
    "    ax.set_rmax(max_r*1.2)\n",
    "    plt.grid(True)\n",
    "    plt.title(\"Momentum observations from drifter\")\n",
    "\n",
    "\n",
    "def _fillHistPlot(ax, ensemble, innovationNorms, alpha, printInfo=False):\n",
    "    if printInfo: print(\"innovation norms: \" + str(innovationNorms))\n",
    "    obs_var = ensemble.getObservationVariance()\n",
    "    range_x = np.sqrt(obs_var)*10\n",
    "    ax.hist(innovationNorms, bins=30, facecolor='green', \\\n",
    "                range=(0, range_x), alpha=alpha,\\\n",
    "                density=True, label=\"particle innovations (norm)\")\n",
    "    plt.title(\"Innovation norms from drifter\")\n",
    "\n",
    "\n",
    "def plotVelocityInfoBeforeAndAfterDA(ensemble, observedParticles, innovationNorms, observedParticles_pre=None, innovationNorms_pre=None, title=None) :\n",
    "\n",
    "    # Initialize File\n",
    "    fig = None\n",
    "    plotRows = 2\n",
    "    fig = plt.figure(figsize=(10,6))\n",
    "    gridspec.GridSpec(plotRows, 3)\n",
    "\n",
    "    # PLOT POSITIONS OF PARTICLES AND OBSERVATIONS\n",
    "    ax = plt.subplot2grid((plotRows,3), (0,0), polar=True)\n",
    "    _fillPolarPlot(ax, ensemble, observedParticles, 0.5, printInfo=False)\n",
    "    if observedParticles_pre is not None:\n",
    "        _fillPolarPlot(ax, ensemble, observedParticles_pre, 0.1, printInfo=False)\n",
    "\n",
    "    # PLOT DISCTRIBUTION OF PARTICLE DISTANCES AND THEORETIC OBSERVATION PDF\n",
    "    ax0 = plt.subplot2grid((plotRows,3), (0,1), colspan=2)\n",
    "    _fillHistPlot(ax0, ensemble, innovationNorms, 0.5, printInfo=False)\n",
    "    if innovationNorms_pre is not None:\n",
    "        _fillHistPlot(ax0, ensemble, innovationNorms_pre, 0.1, printInfo=False)\n",
    "\n",
    "    if title is not None:\n",
    "        plt.suptitle(title, fontsize=16)\n",
    "    plt.tight_layout()\n",
    "\n",
    "# ------------------------------------------------------------------------\n",
    "\n",
    "def _fillHistComponentPlot(ax, ensemble, observedParticles, component, alpha, markTruth=False, subtitle=None):\n",
    "    true_component = ensemble.observeTrueState()[0,2+component]\n",
    "    range_x = 5\n",
    "    ax.hist(observedParticles[:,0][:,component], bins=50, facecolor='green', \\\n",
    "        range=(true_component-range_x,true_component+range_x), \\\n",
    "        alpha=alpha, density=True)\n",
    "    if markTruth is True:\n",
    "        ax.axvline(true_component, color='green', linestyle='dashed', linewidth=1)\n",
    "    if subtitle is not None:\n",
    "        ax.title.set_text(subtitle)\n",
    "\n",
    "\n",
    "def plotVelocityComponentInfoBeforeAndAfterDA(ensemble, observedParticles, observedParticles_pre=None, title=None):\n",
    "    fig = None\n",
    "    fig, axs = plt.subplots(1, 2, figsize=(10,3))\n",
    "    # hist for hu\n",
    "    subtitle = \"$hu$ distribution for ensemble\"\n",
    "    _fillHistComponentPlot(axs[0], ensemble, observedParticles, 0, 0.5, markTruth=True, subtitle=subtitle)\n",
    "    if observedParticles_pre is not None:\n",
    "        _fillHistComponentPlot(axs[0], ensemble, observedParticles_pre, 0, 0.1)\n",
    "    # hist for hv\n",
    "    subtitle = \"$hv$ distribution for ensemble\"\n",
    "    _fillHistComponentPlot(axs[1], ensemble, observedParticles, 1, 0.5, markTruth=True, subtitle=subtitle)\n",
    "    if observedParticles_pre is not None:\n",
    "        _fillHistComponentPlot(axs[1], ensemble, observedParticles_pre, 1, 0.1)\n",
    "\n"
   ]
  },
  {
   "cell_type": "markdown",
   "metadata": {},
   "source": [
    "# Plot circular diagram and histogram"
   ]
  },
  {
   "cell_type": "code",
   "execution_count": null,
   "metadata": {},
   "outputs": [],
   "source": [
    "# Download Data from Simulators\n",
    "observedParticles = ensemble.observeParticles()\n",
    "innovationNorms = ensemble.getInnovationNorms()\n",
    "\n",
    "title = \"Comparision of forecast (transparent) and analysis (opaque) states\"\n",
    "plotVelocityInfoBeforeAndAfterDA(ensemble, observedParticles, innovationNorms, observedParticles_pre, innovationNorms_pre, title)\n",
    "\n",
    "title = \"Comparision of forecast (transparent) and analysis (opaque) states for velocity components\"\n",
    "plotVelocityComponentInfoBeforeAndAfterDA(ensemble, observedParticles, observedParticles_pre, title)"
   ]
  },
  {
   "cell_type": "markdown",
   "metadata": {},
   "source": [
    "## Compare norms of particles before and after assimilation "
   ]
  },
  {
   "cell_type": "code",
   "execution_count": null,
   "metadata": {},
   "outputs": [],
   "source": [
    "for e in range(N_e):\n",
    "    norm_pre = np.sqrt(np.sum(observedParticles_pre[e,:]**2))\n",
    "    norm = np.sqrt(np.sum(observedParticles[e,:]**2))\n",
    "    print(\"norm before EnKF: \", format(norm_pre, \".6f\"), \" and norm after EnKF: \", format(norm, \".6f\"))"
   ]
  },
  {
   "cell_type": "markdown",
   "metadata": {},
   "source": [
    "# RMSE Analysis"
   ]
  },
  {
   "cell_type": "code",
   "execution_count": null,
   "metadata": {},
   "outputs": [],
   "source": [
    "# rmse values before EnKF analysis phase\n",
    "ensemble.getEnsembleVarAndRMSEUnderDrifter(t)\n",
    "rmse_eta = ensemble.rmseUnderDrifter_eta\n",
    "rmse_hu  = ensemble.rmseUnderDrifter_hu\n",
    "rmse_hv  = ensemble.rmseUnderDrifter_hv"
   ]
  },
  {
   "cell_type": "code",
   "execution_count": null,
   "metadata": {},
   "outputs": [],
   "source": [
    "print(\"Comparison of RMSE before and after analysis phase\\n\")\n",
    "print(\"RMSE for eta before: \", rmse_eta[0], \" and after: \", rmse_eta[1])\n",
    "print(\"RMSE for hu  before: \", rmse_hu[0], \" and after: \", rmse_hu[1])\n",
    "print(\"RMSE for hv  before: \", rmse_hv[0], \" and after: \", rmse_hv[1])"
   ]
  },
  {
   "cell_type": "code",
   "execution_count": null,
   "metadata": {},
   "outputs": [],
   "source": []
  },
  {
   "cell_type": "code",
   "execution_count": null,
   "metadata": {},
   "outputs": [],
   "source": []
  },
  {
   "cell_type": "code",
   "execution_count": null,
   "metadata": {},
   "outputs": [],
   "source": []
  },
  {
   "cell_type": "code",
   "execution_count": null,
   "metadata": {},
   "outputs": [],
   "source": []
  },
  {
   "cell_type": "code",
   "execution_count": null,
   "metadata": {},
   "outputs": [],
   "source": []
  }
 ],
 "metadata": {
  "kernelspec": {
   "display_name": "Python 3.7.8 64-bit ('gpuocean': conda)",
   "metadata": {
    "interpreter": {
     "hash": "33ed7ca3d490b1455ef8763b7de4f413d7a0b0dcbe44e1e5f95f5e2fe69a0829"
    }
   },
   "name": "python3"
  },
  "language_info": {
   "codemirror_mode": {
    "name": "ipython",
    "version": 3
   },
   "file_extension": ".py",
   "mimetype": "text/x-python",
   "name": "python",
   "nbconvert_exporter": "python",
   "pygments_lexer": "ipython3"
  }
 },
 "nbformat": 4,
 "nbformat_minor": 4
}
