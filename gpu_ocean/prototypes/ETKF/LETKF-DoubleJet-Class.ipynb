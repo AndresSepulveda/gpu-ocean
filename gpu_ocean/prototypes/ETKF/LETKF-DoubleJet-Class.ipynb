{
 "cells": [
  {
   "cell_type": "code",
   "execution_count": 1,
   "metadata": {},
   "outputs": [],
   "source": [
    "# -*- coding: utf-8 -*-\n",
    "\n",
    "\"\"\"\n",
    "This software is part of GPU Ocean. \n",
    "Copyright (C) 2019 SINTEF Digital\n",
    "\n",
    "This python program is used to set up and run a data-assimilation \n",
    "and drift trajectory forecasting experiment.\n",
    "\n",
    "This program is free software: you can redistribute it and/or modify\n",
    "it under the terms of the GNU General Public License as published by\n",
    "the Free Software Foundation, either version 3 of the License, or\n",
    "(at your option) any later version.\n",
    "\n",
    "This program is distributed in the hope that it will be useful,\n",
    "but WITHOUT ANY WARRANTY; without even the implied warranty of\n",
    "MERCHANTABILITY or FITNESS FOR A PARTICULAR PURPOSE.  See the\n",
    "GNU General Public License for more details.\n",
    "\n",
    "You should have received a copy of the GNU General Public License\n",
    "along with this program.  If not, see <http://www.gnu.org/licenses/>.\n",
    "\"\"\"\n",
    "\n",
    "\n",
    "import sys, os, json, datetime, time, shutil\n",
    "import numpy as np\n",
    "from importlib import reload\n",
    "\n",
    "\n",
    "current_dir = os.getcwd()\n",
    "\n",
    "if os.path.isdir(os.path.abspath(os.path.join(current_dir, '../../SWESimulators'))):\n",
    "        sys.path.insert(0, os.path.abspath(os.path.join(current_dir, '../../')))"
   ]
  },
  {
   "cell_type": "markdown",
   "metadata": {},
   "source": [
    "# LETKF for observation with all moorings"
   ]
  },
  {
   "cell_type": "markdown",
   "metadata": {},
   "source": [
    "## Set up ensemble from file \n",
    "1. Parameters\n",
    "2. Input files\n",
    "3. UDF packages + UDF plotting functions\n",
    "4. ensemble initialization\n"
   ]
  },
  {
   "cell_type": "code",
   "execution_count": 2,
   "metadata": {},
   "outputs": [],
   "source": [
    "#--------------------------------------------------------------\n",
    "# PARAMETERS\n",
    "#--------------------------------------------------------------\n",
    "args_ensemble_size = 100\n",
    "args_method = \"ETKF\" \n",
    "args_observation_interval = 1\n",
    "args_observation_variance = 1.0\n",
    "args_observation_type = \"buoys\"\n",
    "args_buoy_area = \"all\"\n",
    "args_media_dir = \"forecasting_results/\"\n",
    "\n",
    "args_num_days = 7\n",
    "args_num_hours = 24\n",
    "args_forecast_days = 3\n",
    "args_profiling = False\n",
    "\n",
    "\n",
    "# Checking input args\n",
    "if args_ensemble_size is None:\n",
    "    print(\"Ensemble size missing, please provide a --ensemble_size argument.\")\n",
    "    sys.exit(-1)\n",
    "elif args_ensemble_size < 1:\n",
    "    print(\"Illegal ensemble size \" + str(args_ensemble_size))\n",
    "\n",
    "profiling = args_profiling\n"
   ]
  },
  {
   "cell_type": "code",
   "execution_count": 3,
   "metadata": {},
   "outputs": [
    {
     "name": "stdout",
     "output_type": "stream",
     "text": [
      " ----> Using ETKF\n"
     ]
    }
   ],
   "source": [
    "###-----------------------------------------\n",
    "## Define files for ensemble and truth.\n",
    "##\n",
    "\n",
    "#INPUT\n",
    "#ensemble_init_path = 'C:/Users/florianb/Documents/GPU-Ocean/gpu-ocean/data/ensemble_init/'\n",
    "#ensemble_init_path = '/lustre/storeB/users/florianb/data/ensemble_init/'\n",
    "ensemble_init_path = '/sintef/data/ensemble_init/'\n",
    "\n",
    "assert len(os.listdir(ensemble_init_path)) == 100 or len(os.listdir(ensemble_init_path)) == 101, \\\n",
    "    \"Ensemble init folder has wrong number of files: \" + str(len(os.listdir(ensemble_init_path)))\n",
    "\n",
    "#INPUT\n",
    "#truth_path = 'C:/Users/florianb/Documents/GPU-Ocean/gpu-ocean/data/true_state/'\n",
    "#truth_path = '/lustre/storeB/users/florianb/data/true_state/'\n",
    "truth_path = '/sintef/data/true_state/'\n",
    "assert len(os.listdir(truth_path)) == 2 or len(os.listdir(truth_path)) == 3, \\\n",
    "    \"Truth folder has wrong number of files\"    \n",
    "    \n",
    "# Reading and checking method\n",
    "method = str(args_method).lower()\n",
    "if method == 'iewpf2':\n",
    "    print(' ----> Using IEWPF 2 stage method')\n",
    "elif method == 'enkf':\n",
    "    print(' ----> Using EnKF')\n",
    "elif method == 'etkf':\n",
    "    print(' ----> Using ETKF')\n",
    "elif method == 'none':\n",
    "    print(' ----> No data assimilation')\n",
    "else:\n",
    "    print('Illegal method: ' + str(method))\n",
    "    sys.exit(-1)\n",
    "    \n",
    "\n",
    "# Time parameters\n",
    "start_time      =  3*24*60*60 #  3 days in seconds\n",
    "simulation_time = 10*24*60*60 # 10 days in seconds (three days spin up is prior to this)fa\n",
    "end_time        = 13*24*60*60 # 13 days in seconds\n",
    "\n",
    "\n",
    "# Based on truth from June 25th 2019\n",
    "#drifterSet = [ 2, 7, 12, 24, 29, 35, 41, 48, 53, 60]\n",
    "drifterSet = [ 2, 24, 60]\n",
    "\n",
    "# Log extra information for the ensemble state for the following cells:\n",
    "extraCells = np.array([[254, 241], # Cross with two trajectories\n",
    "                       [249, 246], # northwest of above\n",
    "                       [259, 236], # southeast of above\n",
    "                       [343, 131], # Closed circle of same drifter\n",
    "                       [196,  245], # Middle of single trajectory\n",
    "                       [150,  250], # Middle of single trajectory, later than above\n",
    "                       [102, 252], # On the same trajectory as the above, but later, and also in a intersection\n",
    "                       [ 388, 100], # Unobserved area just north of southern jet\n",
    "                       [ 388, 80],  # Unobserved area in southern jet\n",
    "                       [ 388, 150], # Unobserved area in calm area\n",
    "                      ])"
   ]
  },
  {
   "cell_type": "code",
   "execution_count": 4,
   "metadata": {},
   "outputs": [
    {
     "name": "stdout",
     "output_type": "stream",
     "text": [
      "\n",
      "0.4416 s: GPU Ocean packages imported True\n",
      "0.0329 s: Created context on GeForce GTX 780 True\n"
     ]
    }
   ],
   "source": [
    "###--------------------------------\n",
    "# Import required packages\n",
    "#\n",
    "tic = time.time()\n",
    "# For GPU contex:\n",
    "from SWESimulators import Common\n",
    "# For the ensemble:\n",
    "from SWESimulators import EnsembleFromFiles, Observation\n",
    "# For data assimilation:\n",
    "from SWESimulators import IEWPFOcean\n",
    "import ETKFOcean\n",
    "# For forcasting:\n",
    "from SWESimulators import GPUDrifterCollection\n",
    "# For ObservationType:\n",
    "from SWESimulators import DataAssimilationUtils as dautils\n",
    "\n",
    "toc = time.time()\n",
    "print(\"\\n{:02.4f} s: \".format(toc-tic) + 'GPU Ocean packages imported', True)\n",
    "\n",
    "# Create CUDA context\n",
    "tic = time.time()\n",
    "gpu_ctx = Common.CUDAContext()\n",
    "device_name = gpu_ctx.cuda_device.name()\n",
    "toc = time.time()\n",
    "print(\"{:02.4f} s: \".format(toc-tic) + \"Created context on \" + device_name, True)"
   ]
  },
  {
   "cell_type": "code",
   "execution_count": 5,
   "metadata": {},
   "outputs": [
    {
     "name": "stderr",
     "output_type": "stream",
     "text": [
      "/home/havahol/miniconda3/envs/gpuocean/lib/python3.7/site-packages/ipykernel_launcher.py:3: MatplotlibDeprecationWarning: \n",
      "The mpl_toolkits.axes_grid1.colorbar module was deprecated in Matplotlib 3.2 and will be removed two minor releases later. Use matplotlib.colorbar instead.\n",
      "  This is separate from the ipykernel package so we can avoid doing imports until\n"
     ]
    }
   ],
   "source": [
    "from matplotlib import pyplot as plt \n",
    "from mpl_toolkits.axes_grid1.axes_divider import make_axes_locatable\n",
    "from mpl_toolkits.axes_grid1.colorbar import colorbar\n",
    "\n",
    "def imshow(im, interpolation=\"None\", title=None, figsize=(4,4), interior=False):\n",
    "    fig = plt.figure(figsize=figsize)\n",
    "    \n",
    "    if interior:\n",
    "        im = plt.imshow(im[2:-2,2:-2], interpolation=interpolation, origin='lower')\n",
    "    else:\n",
    "        im = plt.imshow(im, interpolation=interpolation, origin='lower')\n",
    "    \n",
    "    plt.colorbar()\n",
    "    if title is not None:\n",
    "        plt.title(title)\n",
    "        \n",
    "def imshow3(eta, hu, hv, interpolation=\"None\", title=None, figsize=(12.5,3.4), # (12.5, 3.4)\n",
    "            color_bar_from_zero=False, save_filename=None, constant_range=False, pretitle='',\n",
    "            mark_drifter_positions = None):\n",
    "    \n",
    "    fig, axs = plt.subplots(1,3, figsize=figsize)\n",
    "    \n",
    "    #fig = plt.figure(figsize=figsize)\n",
    "\n",
    "    #gs = fig.add_gridspec(1,10)#, sharey=True)\n",
    "    #axs = [None, None, None]\n",
    "    #axs[0] = fig.add_subplot(gs[0, 1:4])\n",
    "    #axs[1] = fig.add_subplot(gs[0, 4:7])\n",
    "    #axs[2] = fig.add_subplot(gs[0, 7:10])\n",
    "    \n",
    "    eta_max = np.max(np.abs(eta))\n",
    "    huv_max = max(np.max(np.abs(hu)), np.max(np.abs(hv)))\n",
    "    \n",
    "    if constant_range:\n",
    "        eta_max = 3.5\n",
    "        huv_max = 625\n",
    "    \n",
    "    eta_cmap = 'BrBG'\n",
    "    huv_cmap = 'RdBu'\n",
    "    \n",
    "    eta_min = -eta_max\n",
    "    huv_min = -huv_max\n",
    "    if color_bar_from_zero:\n",
    "        eta_min, huv_min = 0, 0\n",
    "        if constant_range:\n",
    "            eta_max = 0.12\n",
    "            huv_max = 50\n",
    "        \n",
    "        eta_cmap = 'BuGn'\n",
    "        huv_cmap = 'Blues'\n",
    "        \n",
    "    nx = ensemble.nx\n",
    "    ny = ensemble.ny\n",
    "    dx = ensemble.dx\n",
    "    dy = ensemble.dy\n",
    "    extent=np.array([0, nx*dx, 0, ny*dy]) / 1000\n",
    "    \n",
    "    \n",
    "    fontsize = 18\n",
    "    def addColorbar(ax, im, title):\n",
    "        ax_divider = make_axes_locatable(ax)\n",
    "        ax_cb = ax_divider.append_axes(\"top\", size=\"10%\", pad=\"5%\")\n",
    "        cbar = colorbar(im, cax=ax_cb, orientation=\"horizontal\")\n",
    "        ax_cb.xaxis.set_ticks_position(\"top\")\n",
    "        ax_cb.set_title(title, fontsize=fontsize)\n",
    "    \n",
    "    eta_im = axs[0].imshow(eta, interpolation=interpolation, origin='lower', \n",
    "                           vmin=eta_min, vmax=eta_max, extent=extent, cmap=eta_cmap) #GnBu')\n",
    "    addColorbar(axs[0], eta_im, pretitle+\"$\\eta$ [m]\")\n",
    "    \n",
    "    hu_im = axs[1].imshow(hu, interpolation=interpolation, origin='lower', \n",
    "                          vmin=huv_min, vmax=huv_max, extent=extent, cmap=huv_cmap)\n",
    "    addColorbar(axs[1], hu_im, pretitle+\"$hu$ [m$^2$/s]\")\n",
    "    \n",
    "    \n",
    "    hv_im = axs[2].imshow(hv, interpolation=interpolation, origin='lower',\n",
    "                          vmin=huv_min, vmax=huv_max, extent=extent, cmap=huv_cmap)\n",
    "    addColorbar(axs[2], hv_im, pretitle+\"$hv$ [m$^2$/s]\")\n",
    "    \n",
    "    \n",
    "    if title is not None:\n",
    "        plt.suptitle(r\"\\textbf{\"+title+\"}\", y=1.1) #, fontsize=14)\n",
    "    #plt.tight_layout()\n",
    "    "
   ]
  },
  {
   "cell_type": "code",
   "execution_count": 6,
   "metadata": {},
   "outputs": [
    {
     "name": "stdout",
     "output_type": "stream",
     "text": [
      "Observation type changed to StaticBuoys!\n",
      "4\n",
      "14.1557 s: Ensemble is loaded and created True\n",
      "Using drifterSet:\n",
      "[2, 24, 60]\n",
      "buoys to read:\n",
      "[True, True, True, True, True, True, True, True, True, True, True, True, True, True, True, True, True, True, True, True, True, True, True, True, True, True, True, True, True, True, True, True, True, True, True, True, True, True, True, True, True, True, True, True, True, True, True, True, True, True, True, True, True, True, True, True, True, True, True, True, True, True, True, True, True, True, True, True, True, True, True, True, True, True, True, True, True, True, True, True, True, True, True, True, True, True, True, True, True, True, True, True, True, True, True, True, True, True, True, True, True, True, True, True, True, True, True, True, True, True, True, True, True, True, True, True, True, True, True, True, True, True, True, True, True, True, True, True, True, True, True, True, True, True, True, True, True, True, True, True, True, True, True, True, True, True, True, True, True, True, True, True, True, True, True, True, True, True, True, True, True, True, True, True, True, True, True, True, True, True, True, True, True, True, True, True, True, True, True, True, True, True, True, True, True, True, True, True, True, True, True, True, True, True, True, True, True, True, True, True, True, True, True, True, True, True, True, True, True, True, True, True, True, True, True, True, True, True, True, True, True, True, True, True, True, True, True, True, True, True, True, True, True, True, True, True, True, True, True, True]\n"
     ]
    }
   ],
   "source": [
    "###--------------------------\n",
    "# Initiate the ensemble\n",
    "#\n",
    "\n",
    "observation_type = dautils.ObservationType.UnderlyingFlow\n",
    "if args_observation_type == 'buoys':\n",
    "    observation_type = dautils.ObservationType.StaticBuoys\n",
    "    print('Observation type changed to StaticBuoys!')\n",
    "elif args_observation_type == 'all_drifters':\n",
    "    drifterSet = 'all'\n",
    "    print('Using all drifters for DA experiment')\n",
    "\n",
    "print(observation_type)\n",
    "\n",
    "cont_write_netcdf = False\n",
    "\n",
    "tic = time.time()\n",
    "ensemble = EnsembleFromFiles.EnsembleFromFiles(gpu_ctx, args_ensemble_size, \\\n",
    "                                               ensemble_init_path, truth_path, \\\n",
    "                                               args_observation_variance,\n",
    "                                               cont_write_netcdf = cont_write_netcdf,\n",
    "                                               use_lcg = False, xorwow_seed = 1,\n",
    "                                               observation_type=observation_type)\n",
    "\n",
    "# Configure observations according to the selected drifters:\n",
    "ensemble.configureObservations(drifterSet=drifterSet, \n",
    "                               observationInterval = args_observation_interval,\n",
    "                               buoy_area = args_buoy_area)\n",
    "ensemble.configureParticleInfos(extraCells)\n",
    "toc = time.time()\n",
    "print(\"{:02.4f} s: \".format(toc-tic) + \"Ensemble is loaded and created\", True)\n",
    "print(\"Using drifterSet:\\n\" + str(drifterSet))\n",
    "if args_observation_type == 'buoys':\n",
    "    print('buoys to read:')\n",
    "    print(str(ensemble.observations.read_buoy))\n",
    "\n",
    "\n",
    "dt_ref = ensemble.particles[-1].dt"
   ]
  },
  {
   "cell_type": "markdown",
   "metadata": {},
   "source": [
    "## Data Assimilaion Initialisation \n"
   ]
  },
  {
   "cell_type": "code",
   "execution_count": 7,
   "metadata": {},
   "outputs": [
    {
     "name": "stdout",
     "output_type": "stream",
     "text": [
      "0.0031 s: Data assimilation class ETKFOcean initiated True\n"
     ]
    }
   ],
   "source": [
    "### -------------------------------\n",
    "# Initialize DA class (if needed)\n",
    "#\n",
    "tic = time.time()\n",
    "iewpf = None\n",
    "if method.startswith('iewpf'):\n",
    "    iewpf = IEWPFOcean.IEWPFOcean(ensemble)\n",
    "    toc = time.time()\n",
    "    print(\"{:02.4f} s: \".format(toc-tic) + \"Data assimilation class IEWPFOcean initiated\", True)\n",
    "elif method.startswith('enkf'):\n",
    "    enkf = EnKFOcean.EnKFOcean(ensemble)\n",
    "    toc = time.time()\n",
    "    print(\"{:02.4f} s: \".format(toc-tic) + \"Data assimilation class EnKFOcean initiated\", True)\n",
    "elif method.startswith('etkf'):\n",
    "    reload(ETKFOcean)\n",
    "    etkf = ETKFOcean.ETKFOcean(ensemble, inflation_factor=1.0)\n",
    "    toc = time.time()\n",
    "    print(\"{:02.4f} s: \".format(toc-tic) + \"Data assimilation class ETKFOcean initiated\", True)\n",
    "else:\n",
    "    toc = time.time()\n",
    "    print(\"{:02.4f} s: \".format(toc-tic) + \"Skipping creation of a DA class\", True)\n"
   ]
  },
  {
   "cell_type": "code",
   "execution_count": 8,
   "metadata": {},
   "outputs": [
    {
     "data": {
      "text/plain": [
       "Text(0.5, 1.0, 'Model error range')"
      ]
     },
     "execution_count": 8,
     "metadata": {},
     "output_type": "execute_result"
    },
    {
     "data": {
      "image/png": "[encoded data removed]",
      "text/plain": [
       "<Figure size 432x288 with 1 Axes>"
      ]
     },
     "metadata": {
      "needs_background": "light"
     },
     "output_type": "display_data"
    }
   ],
   "source": [
    "dist = np.linspace(0,50,51)\n",
    "plt.plot(dist, (1+dist/(15/4))*np.exp(-dist/(15/4)))\n",
    "plt.plot(dist,np.ones(51)*0.025)\n",
    "plt.title(\"Model error range\")"
   ]
  },
  {
   "cell_type": "code",
   "execution_count": 9,
   "metadata": {},
   "outputs": [
    {
     "name": "stdout",
     "output_type": "stream",
     "text": [
      "---------- Starting simulation --------------\n",
      "--- numDays:       7\n",
      "--- numHours:      24\n",
      "--- forecast_days: 3\n",
      "---------------------------------------------\n",
      "Starting LETKF preprocessing\n",
      "14.7233 s: prepare_LETFK finished\n",
      "Time =  0\n",
      "Time =  1\n",
      "Time =  2\n",
      "Time =  3\n",
      "Time =  4\n",
      "Starting LETKF\n",
      "12.8189 s: LETFK finished\n",
      "Thu Mar  3 09:58:28 2022\n"
     ]
    }
   ],
   "source": [
    "### ----------------------------------------------\n",
    "#   DATA ASSIMILATION\n",
    "#\n",
    "\n",
    "obstime = start_time # time in seconds (starting after spin-up phase)\n",
    "\n",
    "master_tic = time.time()\n",
    "\n",
    "numDays = args_num_days \n",
    "numHours = args_num_hours \n",
    "forecast_days = args_forecast_days\n",
    "\n",
    "dt_ref = ensemble.particles[-1].dt\n",
    "\n",
    "print('---------- Starting simulation --------------') \n",
    "print('--- numDays:       ' + str(numDays))\n",
    "print('--- numHours:      ' + str(numHours))\n",
    "print('--- forecast_days: ' + str(forecast_days))\n",
    "print('---------------------------------------------') \n",
    "\n",
    "print('Starting LETKF preprocessing')\n",
    "tic = time.time()\n",
    "etkf._prepare_LETKF(ensemble)\n",
    "toc = time.time()\n",
    "print(\"{:02.4f} s: \".format(toc-tic) + \"prepare_LETFK finished\")\n",
    "\n",
    "for hour in range(1):\n",
    "    for fiveMin in range(1):\n",
    "        for minute in range(5):\n",
    "            print(\"Time = \", 60*hour+5*fiveMin+minute)\n",
    "            obstime += 60\n",
    "            ensemble.stepToObservation(obstime)\n",
    "            if minute == 4 and True:\n",
    "                print(\"Starting LETKF\")\n",
    "                tic = time.time()\n",
    "                etkf.LETKF(ensemble)\n",
    "                toc = time.time()\n",
    "                print(\"{:02.4f} s: \".format(toc-tic) + \"LETFK finished\")\n",
    "\n",
    "        #ensemble.deactivateDegeneratedParticles(0.5*dt_ref, 1.5*dt_ref)\n",
    "\n",
    "print(time.ctime())\n"
   ]
  },
  {
   "cell_type": "code",
   "execution_count": 10,
   "metadata": {},
   "outputs": [],
   "source": [
    "#%prun etkf.LETKF(ensemble)"
   ]
  },
  {
   "cell_type": "markdown",
   "metadata": {},
   "source": []
  },
  {
   "cell_type": "code",
   "execution_count": 11,
   "metadata": {},
   "outputs": [],
   "source": [
    "X = np.zeros((100,3,ensemble.ny,ensemble.nx))\n",
    "\n",
    "for e in range(100):\n",
    "    if ensemble.particlesActive[e]:\n",
    "        eta, hu, hv = ensemble.particles[e].download(interior_domain_only=True)\n",
    "        X[e,0,:,:] = eta \n",
    "        X[e,1,:,:] = hu\n",
    "        X[e,2,:,:] = hv\n",
    "\n",
    "#np.save(\"X_ref_big.npy\", X[0:3,:,:,:])\n"
   ]
  },
  {
   "cell_type": "code",
   "execution_count": 12,
   "metadata": {},
   "outputs": [
    {
     "name": "stdout",
     "output_type": "stream",
     "text": [
      "If 'true' in next line then changes were successful and results are still the same (verified for eta0, hu, hv for 3 ensemble members)\n",
      "0.0001220703125\n",
      "753.6132202148438\n",
      "Thu Mar  3 09:58:29 2022\n"
     ]
    }
   ],
   "source": [
    "X_ref = np.load(\"X_ref_big.npy\")\n",
    "#print(\"If 'true' in next line then changes were successful and results are still the same (verified for eta0)\")\n",
    "print(\"If 'true' in next line then changes were successful and results are still the same (verified for eta0, hu, hv for 3 ensemble members)\")\n",
    "#all(list((X_ref == X[0:5]).flatten()))\n",
    "print(np.max(X_ref - X[0:3]))\n",
    "print(np.max(X_ref))\n",
    "print(time.ctime())\n",
    "\n"
   ]
  },
  {
   "cell_type": "code",
   "execution_count": 13,
   "metadata": {},
   "outputs": [
    {
     "name": "stdout",
     "output_type": "stream",
     "text": [
      "done\n"
     ]
    }
   ],
   "source": [
    "ensemble.cleanUp()\n",
    "print(\"done\")"
   ]
  },
  {
   "cell_type": "code",
   "execution_count": null,
   "metadata": {},
   "outputs": [],
   "source": [
    "\n"
   ]
  },
  {
   "cell_type": "code",
   "execution_count": 14,
   "metadata": {},
   "outputs": [
    {
     "ename": "NameError",
     "evalue": "name 'ENOUGH2CHECK' is not defined",
     "output_type": "error",
     "traceback": [
      "\u001b[0;31m---------------------------------------------------------------------------\u001b[0m",
      "\u001b[0;31mNameError\u001b[0m                                 Traceback (most recent call last)",
      "\u001b[0;32m<ipython-input-14-6e10f7d07d0e>\u001b[0m in \u001b[0;36m<module>\u001b[0;34m\u001b[0m\n\u001b[0;32m----> 1\u001b[0;31m \u001b[0mENOUGH2CHECK\u001b[0m\u001b[0;34m\u001b[0m\u001b[0;34m\u001b[0m\u001b[0m\n\u001b[0m",
      "\u001b[0;31mNameError\u001b[0m: name 'ENOUGH2CHECK' is not defined"
     ]
    }
   ],
   "source": [
    "ENOUGH2CHECK"
   ]
  },
  {
   "cell_type": "code",
   "execution_count": null,
   "metadata": {},
   "outputs": [],
   "source": [
    "import scipy\n",
    "\n",
    "A = np.load(\"svdTestData/A.npy\")\n",
    "Rinv = np.load(\"svdTestData/Rinv.npy\")\n",
    "X_f_loc_pert = np.load(\"svdTestData/X_f_loc_pert.npy\")\n",
    "HX_f_loc_pert = np.load(\"svdTestData/HX_f_loc_pert.npy\")\n",
    "X_f_loc_mean = np.load(\"svdTestData/X_f_loc_mean.npy\")\n",
    "D = np.load(\"svdTestData/D.npy\")\n",
    "\n",
    "K_ref = np.load(\"svdTestData/K.npy\")\n",
    "X_a_loc_pert_ref = np.load(\"svdTestData/X_a_loc_pert.npy\") \n",
    "sigma_ref = np.load(\"svdTestData/sigma.npy\")\n",
    "V_ref = np.load(\"svdTestData/V.npy\")\n"
   ]
  },
  {
   "cell_type": "code",
   "execution_count": null,
   "metadata": {},
   "outputs": [],
   "source": [
    "%%time\n",
    "\n",
    "\n",
    "for i in range(1000):\n",
    "    P = scipy.linalg.inv(A)\n",
    "    #isSymmetric = np.allclose(A, A.T, rtol=1e-05, atol=1e-08)\n",
    "    #print(\"drifter \" + str(d) + \" - is P symmetric? \" + str(isSymmetric))\n",
    "\n",
    "    # K \n",
    "    K = X_f_loc_pert @ P @ HX_f_loc_pert.T @ Rinv\n",
    "\n",
    "    # local analysis\n",
    "    X_a_loc_mean = X_f_loc_mean + K @ D\n",
    "\n",
    "    sigma, V = scipy.linalg.eigh( (100-1) * P )\n",
    "\n",
    "    X_a_loc_pert = X_f_loc_pert @ V @ np.diag( np.sqrt( np.real(sigma) ) ) @ V.T\n",
    "\n",
    "#print(np.all(X_a_loc_pert == X_a_loc_pert_ref))\n",
    "\n"
   ]
  },
  {
   "cell_type": "code",
   "execution_count": null,
   "metadata": {},
   "outputs": [],
   "source": [
    "%%time \n",
    "\n",
    "for i in range(1000):\n",
    "    #P = scipy.linalg.inv(A)\n",
    "    \n",
    "    # K \n",
    "    K = X_f_loc_pert @ np.linalg.solve(A, HX_f_loc_pert.T @ Rinv)\n",
    "\n",
    "    # local analysis\n",
    "    X_a_loc_mean = X_f_loc_mean + K @ D\n",
    "\n",
    "    sigma_inv, V = scipy.linalg.eigh( (1./(100-1)) * A )\n",
    "    #print([sigma, sigma_ref])\n",
    "    #print(np.all(1/sigma == sigma_ref))\n",
    "    #print(np.all(V == V_ref))\n",
    "\n",
    "\n",
    "    X_a_loc_pert = X_f_loc_pert @ V @ np.diag( np.sqrt( 1/np.real(sigma_inv)) ) @ V.T\n",
    "\n",
    "#print(np.max(X_a_loc_pert - X_a_loc_pert_ref))"
   ]
  },
  {
   "cell_type": "code",
   "execution_count": null,
   "metadata": {},
   "outputs": [],
   "source": [
    "A = np.load(\"svdTestData/A.npy\")\n",
    "sigma_P, V_P = scipy.linalg.eigh( (100-1) * scipy.linalg.inv(A) )\n",
    "sigma_A, V_A = scipy.linalg.eigh( (1/(100-1)) * A )\n",
    "\n",
    "A_diff = (1/(100-1))*A - (V_A @ np.diag(sigma_A) @ V_A.T)\n",
    "print(np.max(A_diff))\n",
    "\n",
    "P_diff = (100-1)*scipy.linalg.inv(A) - (V_A @ np.diag(1/sigma_A) @ V_A.T)\n",
    "print(np.max(P_diff))\n",
    "\n",
    "svd_diff = (V_A @ np.diag(1/sigma_A) @ V_A.T) - (V_P @ np.diag(sigma_P) @ V_P.T)\n",
    "print(np.max(svd_diff))\n"
   ]
  },
  {
   "cell_type": "code",
   "execution_count": null,
   "metadata": {},
   "outputs": [],
   "source": [
    "testM = np.array([[1, 2, 3], [2, 5, 4], [3, 4, 6]])\n",
    "print(testM)\n",
    "testI = np.array([[0.1, 0, 0], [0, 0.01, 0], [0, 0, 0.001]])\n",
    "print(testI)\n",
    "\n",
    "print(testI @ testM)"
   ]
  },
  {
   "cell_type": "code",
   "execution_count": null,
   "metadata": {},
   "outputs": [],
   "source": [
    "ensemble.getNumActiveParticles()"
   ]
  },
  {
   "cell_type": "code",
   "execution_count": null,
   "metadata": {},
   "outputs": [],
   "source": [
    "X_f = np.random.rand(100, 3, 30, 50)\n",
    "for i in range(30):\n",
    "    X_f[:,:,i,:] += i\n",
    "print(X_f.shape, np.mean(X_f))\n",
    "X_f_mean = np.mean(X_f, axis=0)\n",
    "print(X_f_mean.shape, np.mean(X_f_mean))\n",
    "X_f_pert = X_f - X_f_mean\n",
    "print(X_f_pert.shape, np.mean(X_f_pert))"
   ]
  },
  {
   "cell_type": "code",
   "execution_count": null,
   "metadata": {},
   "outputs": [],
   "source": [
    "fig, axs = plt.subplots(1,len(etkf.groups), figsize=(16,8))\n",
    "fig.suptitle(\"W_analysis per group\", y=0.7)\n",
    "for g in range(len(etkf.groups)):\n",
    "    axs[g].imshow(etkf.W_analyses[g], origin=\"lower\")\n",
    "    axs[g].set_title(\"Group \" + str(g))\n",
    "    \n"
   ]
  },
  {
   "cell_type": "code",
   "execution_count": null,
   "metadata": {},
   "outputs": [],
   "source": [
    "X_mean = np.nanmean(X, axis=0 )\n",
    "\n",
    "imshow3(X_mean[0], X_mean[1], X_mean[2], title=\"Mean of X_new\")"
   ]
  },
  {
   "cell_type": "code",
   "execution_count": null,
   "metadata": {},
   "outputs": [],
   "source": [
    "X_std = np.std(X[:,:,:,:], axis=0)\n",
    "\n",
    "imshow3(X_std[0], X_std[1], X_std[2], title=\"Std of X_new\")"
   ]
  }
 ],
 "metadata": {
  "interpreter": {
   "hash": "6d328a1c5fe5b02e613a76eaa5cac78f3e7e76e40749f2dfc280a6b29c47e10a"
  },
  "kernelspec": {
   "display_name": "Python 3",
   "language": "python",
   "name": "python3"
  },
  "language_info": {
   "codemirror_mode": {
    "name": "ipython",
    "version": 3
   },
   "file_extension": ".py",
   "mimetype": "text/x-python",
   "name": "python",
   "nbconvert_exporter": "python",
   "pygments_lexer": "ipython3",
   "version": "3.7.6"
  },
  "metadata": {
   "interpreter": {
    "hash": "0bbfea0fdfbe1a3c6ae0eefa4479d5d3aa5e6400daadb8c80736134b1550f331"
   }
  }
 },
 "nbformat": 4,
 "nbformat_minor": 4
}
