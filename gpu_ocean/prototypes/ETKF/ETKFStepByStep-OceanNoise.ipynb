{
 "cells": [
  {
   "cell_type": "code",
   "execution_count": null,
   "metadata": {},
   "outputs": [],
   "source": [
    "# -*- coding: utf-8 -*-\n",
    "\n",
    "\"\"\"\n",
    "This software is part of GPU Ocean. \n",
    "Copyright (C) 2019 SINTEF Digital\n",
    "\n",
    "This notebook is used to show the individual steps of the ETKF for an ocean ensemble.\n",
    "\n",
    "This program is free software: you can redistribute it and/or modify\n",
    "it under the terms of the GNU General Public License as published by\n",
    "the Free Software Foundation, either version 3 of the License, or\n",
    "(at your option) any later version.\n",
    "\n",
    "This program is distributed in the hope that it will be useful,\n",
    "but WITHOUT ANY WARRANTY; without even the implied warranty of\n",
    "MERCHANTABILITY or FITNESS FOR A PARTICULAR PURPOSE.  See the\n",
    "GNU General Public License for more details.\n",
    "\n",
    "You should have received a copy of the GNU General Public License\n",
    "along with this program.  If not, see <http://www.gnu.org/licenses/>.\n",
    "\"\"\"\n",
    "\n",
    "\n",
    "import sys, os, datetime, time, shutil\n",
    "from importlib import reload \n",
    "import numpy as np\n",
    "\n",
    "%matplotlib inline\n",
    "%config InlineBackend.figure_format = 'retina'\n",
    "import matplotlib\n",
    "from matplotlib import pyplot as plt\n",
    "from matplotlib import rc\n",
    "from matplotlib import gridspec as gridspec\n",
    "\n",
    "#Set large figure sizes\n",
    "rc('figure', figsize=(16.0, 12.0))\n",
    "rc('animation', html='html5')\n",
    "matplotlib.rcParams['contour.negative_linestyle'] = 'solid'\n",
    "\n",
    "current_dir = os.getcwd()\n",
    "\n",
    "if os.path.isdir(os.path.abspath(os.path.join(current_dir, '../../SWESimulators'))):\n",
    "        sys.path.insert(0, os.path.abspath(os.path.join(current_dir, '../../')))\n",
    "\n",
    "from SWESimulators import IPythonMagic\n",
    "from SWESimulators import BaseOceanStateEnsemble, OceanNoiseEnsemble, CDKLM16 \n",
    "from SWESimulators import Common\n",
    "from SWESimulators import DataAssimilationUtils as dautils\n",
    "\n"
   ]
  },
  {
   "cell_type": "code",
   "execution_count": null,
   "metadata": {},
   "outputs": [
    {
     "name": "stderr",
     "output_type": "stream",
     "text": [
      "Console logger using level INFO\n",
      "File logger using level Level 15 to enkf_gpu.log\n",
      "Python version 3.7.8 | packaged by conda-forge | (default, Jul 31 2020, 01:53:57) [MSC v.1916 64 bit (AMD64)]\n"
     ]
    }
   ],
   "source": [
    "%cuda_context_handler gpu_ctx\n",
    "%setup_logging --out enkf_gpu.log --file_level 15"
   ]
  },
  {
   "cell_type": "markdown",
   "metadata": {},
   "source": [
    "# Set up an instance \n",
    "\n",
    "OceanNoiseEnsemble using CDKLM16-Simulators"
   ]
  },
  {
   "cell_type": "code",
   "execution_count": null,
   "metadata": {},
   "outputs": [
    {
     "name": "stdout",
     "output_type": "stream",
     "text": [
      "q0:  0.00017095320928897472\n",
      "[f, g, H, dt] [0.05, 9.81, 10.0, 0.05]\n",
      "(nx, ny):  (60, 60)\n",
      "max_dt:  0.08925171941518784\n",
      "Ready!\n"
     ]
    }
   ],
   "source": [
    "# DEFINE PARAMETERS\n",
    "\n",
    "sim_args = {\n",
    "    \"gpu_ctx\": gpu_ctx,\n",
    "    \"nx\": 60, \"ny\": 60,\n",
    "    \"dx\": 4.0, \"dy\": 4.0,\n",
    "    \"dt\": 0.05,\n",
    "    \"g\": 9.81,\n",
    "    \"f\": 0.05,\n",
    "    \"coriolis_beta\": 0.0,\n",
    "    \"r\": 0.0,\n",
    "    \"rk_order\": 2,\n",
    "    \"small_scale_perturbation_amplitude\": None,\n",
    "    \"write_netcdf\": False, \n",
    "    \"small_scale_perturbation\": True,\n",
    "    \"small_scale_perturbation_interpolation_factor\": 3,\n",
    "    \"boundary_conditions\": Common.BoundaryConditions(2,2,2,2)\n",
    "}\n",
    "\n",
    "ghosts = np.array([2,2,2,2]) # north, east, south, west\n",
    "validDomain = np.array([2,2,2,2])\n",
    "\n",
    "\n",
    "dataShape = (sim_args[\"ny\"] + ghosts[0]+ghosts[2], \n",
    "             sim_args[\"nx\"] + ghosts[1]+ghosts[3])\n",
    "dataShapeHi = (sim_args[\"ny\"] + ghosts[0]+ghosts[2]+1, \n",
    "             sim_args[\"nx\"] + ghosts[1]+ghosts[3]+1)\n",
    "\n",
    "sim_args[\"eta0\"] = np.zeros(dataShape, dtype=np.float32, order='C');\n",
    "sim_args[\"hv0\"] = np.zeros(dataShape, dtype=np.float32, order='C');\n",
    "sim_args[\"hu0\"] = np.zeros(dataShape, dtype=np.float32, order='C');\n",
    "waterDepth = 10.0\n",
    "sim_args[\"H\"] = np.ones(dataShapeHi, dtype=np.float32, order='C')*waterDepth\n",
    "\n",
    "\n",
    "if 'sim' in globals():\n",
    "    sim.cleanUp()\n",
    "if 'ensemble' in globals():\n",
    "    ensemble.cleanUp()\n",
    "if 'iewpfOcean' in globals():\n",
    "    iewpfOcean.cleanUp()\n",
    "    \n",
    "sim_args[\"small_scale_perturbation_amplitude\"] = np.sqrt(sim_args[\"dt\"])*0.5*sim_args[\"f\"]/(sim_args[\"g\"]*waterDepth)\n",
    "sim_args[\"small_scale_perturbation_amplitude\"] *= sim_args[\"small_scale_perturbation_interpolation_factor\"]\n",
    "print (\"q0: \", sim_args[\"small_scale_perturbation_amplitude\"])\n",
    "print (\"[f, g, H, dt]\", [sim_args[\"f\"], sim_args[\"g\"], waterDepth, sim_args[\"dt\"]])\n",
    "print (\"(nx, ny): \", (sim_args[\"nx\"], sim_args[\"ny\"]))\n",
    "\n",
    "reload(CDKLM16)\n",
    "reload(BaseOceanStateEnsemble)\n",
    "reload(OceanNoiseEnsemble)\n",
    "reload(dautils)\n",
    "\n",
    "sim = CDKLM16.CDKLM16(**sim_args)\n",
    "sim.perturbState(q0_scale=100)\n",
    "    \n",
    "ensemble_args = {\n",
    "    \"gpu_ctx\": gpu_ctx,\n",
    "    \"numParticles\": 100,\n",
    "    \"num_drifters\": 2,\n",
    "    \"sim\": sim,\n",
    "    \"observation_type\": dautils.ObservationType.StaticBuoys,\n",
    "    \"buoys_positions\" : [[120.0,120.0],[60.0,60.0]],\n",
    "    \"observation_variance\": 0.5**2,\n",
    "    \"initialization_variance_factor_ocean_field\" : 25.0\n",
    "}\n",
    "\n",
    "ensemble = OceanNoiseEnsemble.OceanNoiseEnsemble(**ensemble_args)\n",
    "\n",
    "max_dt = ensemble.findLargestPossibleTimeStep()\n",
    "print (\"max_dt: \", max_dt)\n",
    "\n",
    "print (\"Ready!\")"
   ]
  },
  {
   "cell_type": "markdown",
   "metadata": {},
   "source": [
    "# Run Simulation until Observation Time"
   ]
  },
  {
   "cell_type": "code",
   "execution_count": null,
   "metadata": {},
   "outputs": [
    {
     "name": "stdout",
     "output_type": "stream",
     "text": [
      "Ready!\n"
     ]
    }
   ],
   "source": [
    "t = 100*sim_args[\"dt\"]\n",
    "ensemble.step(t)\n",
    "\n",
    "print(\"Ready!\")"
   ]
  },
  {
   "cell_type": "markdown",
   "metadata": {},
   "source": [
    "# Book keeping"
   ]
  },
  {
   "cell_type": "code",
   "execution_count": null,
   "metadata": {},
   "outputs": [],
   "source": [
    "# Deactivating some particles for testing\n",
    "ensemble.particlesActive[2]=False\n",
    "ensemble.particlesActive[7]=False"
   ]
  },
  {
   "cell_type": "code",
   "execution_count": null,
   "metadata": {},
   "outputs": [],
   "source": [
    "# Size of ensemble\n",
    "N_e = ensemble.getNumParticles()\n",
    "N_e_active = ensemble.getNumActiveParticles()\n",
    "\n",
    "# Number of observers\n",
    "N_d = ensemble.getNumDrifters()\n",
    "\n",
    "# particle properties before EnKF analysis phase\n",
    "observedParticles_pre = ensemble.observeParticles()\n",
    "innovationNorms_pre = ensemble.getInnovationNorms()\n",
    "\n",
    "# rmse values before EnKF analysis phase\n",
    "ensemble.getEnsembleVarAndRMSEUnderDrifter(t)\n",
    "rmse_eta_pre = ensemble.rmseUnderDrifter_eta\n",
    "rmse_hu_pre  = ensemble.rmseUnderDrifter_hu\n",
    "rmse_hv_pre  = ensemble.rmseUnderDrifter_hv\n"
   ]
  },
  {
   "cell_type": "markdown",
   "metadata": {},
   "source": [
    "# Step-By-Step EnKF in Square Root Formulation"
   ]
  },
  {
   "cell_type": "code",
   "execution_count": null,
   "metadata": {},
   "outputs": [],
   "source": [
    "def deleteDeactivatedObservations(observation, ensemble):\n",
    "    \"\"\"\n",
    "    Delete inactive particles\n",
    "    \"\"\"\n",
    "    idx = 0\n",
    "    for p in range(ensemble.getNumParticles()):\n",
    "        if ensemble.particlesActive[p]:\n",
    "            idx+=1\n",
    "        elif not ensemble.particlesActive[p]:\n",
    "            observation = np.delete(observation, idx, axis=0)\n",
    "    return observation"
   ]
  },
  {
   "cell_type": "markdown",
   "metadata": {},
   "source": [
    "## Calculate $X'_f = X_f - \\overline{X_f}$ "
   ]
  },
  {
   "cell_type": "code",
   "execution_count": null,
   "metadata": {},
   "outputs": [],
   "source": [
    "\"\"\"\n",
    "The download gives eta = \n",
    "[\n",
    "[eta(x0,y0),...,eta(xN,y0)],\n",
    "...,\n",
    "[eta(x0,yN),...,eta(xN,yN)]\n",
    "]\n",
    "as an array of size Ny x Nx\n",
    "and analog for hu and hv.\n",
    "we use those as an 1D array eta = \n",
    "[eta(x0,y0),...,eta(xN,y0),eta(x0,y1),...,eta(xN,y(N-1)),eta(x0,yN),...,eta(xN,yN)]\n",
    "and anlog for hu and hv \n",
    "\n",
    "For further calculations the indivdual dimensions of the state variable are concatinated X = \n",
    "[eta, hu, hv]\n",
    "\n",
    "Collecting the state perturbation for each ensemble member in a matrix Nx x Ne, where\n",
    "X_f_pert = \n",
    "[ \n",
    "[eta_pert(x0,y0) (particle 1),..., eta_pert],\n",
    "...\n",
    "particle 2: [eta_pert,hu_pert,hv_pert]\n",
    "]\n",
    "\"\"\"\n",
    "\n",
    "# Ghost cells added \n",
    "n_i = ensemble.particles[0].ny + 4 \n",
    "n_j = ensemble.particles[0].nx + 4\n",
    "\n",
    "X_f = np.zeros((3*n_i*n_j, N_e_active))\n",
    "idx = 0\n",
    "for e in range(N_e):\n",
    "    if ensemble.particlesActive[e]:\n",
    "        eta, hu, hv = ensemble.particles[e].download(interior_domain_only=False)\n",
    "        eta = eta.reshape(n_i*n_j)\n",
    "        hu  = hu.reshape(n_i*n_j)\n",
    "        hv  = hv.reshape(n_i*n_j)\n",
    "        X_f[:,idx] = np.append(eta, np.append(hu,hv))\n",
    "        idx += 1\n",
    "\n",
    "X_f_mean = np.zeros( 3*n_i*n_j )\n",
    "for e in range(N_e_active):\n",
    "    X_f_mean += 1/N_e_active * X_f[:,e]\n",
    "\n",
    "X_f_pert = np.zeros_like( X_f )\n",
    "for e in range(N_e_active):\n",
    "    X_f_pert[:,e] = X_f[:,e] - X_f_mean\n",
    " "
   ]
  },
  {
   "cell_type": "markdown",
   "metadata": {},
   "source": [
    "## Calculate $S = H X'_f$\n"
   ]
  },
  {
   "cell_type": "code",
   "execution_count": null,
   "metadata": {},
   "outputs": [],
   "source": [
    "\"\"\"\n",
    "Particles are observed in the following form:\n",
    "[\n",
    "particle 1:  [hu_1, hv_1], ... , [hu_D, hv_D],\n",
    "...\n",
    "particle Ne: [hu_1, hv_1], ... , [hu_D, hv_D]\n",
    "]\n",
    "\n",
    "In order to bring it in accordance with later data structure we use the following format for the storage of the perturbation of the observation:\n",
    "[\n",
    "[hu_1 (particle 1), ..., hu_1 (particle Ne)],\n",
    "...\n",
    "[hu_D (particle 1), ..., hu_D (particle Ne)],\n",
    "[hv_1 (particle 1), ..., hv_1 (particle Ne)],\n",
    "...\n",
    "[hv_D (particle 1), ..., hv_D (particle Ne)],\n",
    "]\n",
    "\n",
    "\"\"\"\n",
    "\n",
    "# Observation \n",
    "HX_f_orig = ensemble.observeParticles()\n",
    "\n",
    "HX_f_orig = deleteDeactivatedObservations(HX_f_orig, ensemble)\n",
    "\n",
    "# Reshaping\n",
    "HX_f = np.zeros( (2*N_d, N_e_active) )\n",
    "for e in range(N_e_active):\n",
    "    for l in range(N_d):\n",
    "        HX_f[l,e]     = HX_f_orig[e,l,0]\n",
    "    for l in range(N_d):\n",
    "        HX_f[N_d+l,e] = HX_f_orig[e,l,1]\n",
    "\n",
    "HX_f_mean = 1/N_e_active * np.sum(HX_f, axis=1)\n",
    "\n",
    "HX_f_pert = HX_f - HX_f_mean.reshape((2*N_d,1))\n",
    "\n"
   ]
  },
  {
   "cell_type": "code",
   "execution_count": null,
   "metadata": {},
   "outputs": [
    {
     "name": "stdout",
     "output_type": "stream",
     "text": [
      "[[ 1.79497822e-01  2.11651905e-01  2.31470211e-01  6.35064682e-02\n",
      "   7.89782151e-01  1.05977283e+00  2.29934524e+00 -6.74284593e-01\n",
      "   1.91990100e+00 -1.14624874e-01  5.54254635e-01  9.49369511e-02\n",
      "   2.62058838e-01 -5.53479568e-01 -5.77530758e-01 -5.97925083e-01\n",
      "   8.26766833e-01 -1.14889397e+00  1.71242340e-01 -1.07571067e+00\n",
      "   7.35915741e-02 -7.43781486e-02  4.55855473e-01  1.77796229e-01\n",
      "   7.11676463e-01 -9.80030456e-02  1.03221742e-03  9.10063489e-01\n",
      "  -4.33098690e-01 -2.11224214e-01 -2.72668497e-01  1.29695855e+00\n",
      "   5.85499152e-01 -7.73512975e-01 -2.33186545e+00 -3.63431350e-01\n",
      "   1.63574561e-01 -1.05594315e+00  3.11840638e-01  9.79723438e-01\n",
      "   3.20376976e-01 -4.63657991e-01 -2.96116487e-01 -8.28583137e-01\n",
      "   4.91756543e-01  5.29835328e-01 -5.05750791e-01 -1.11807743e-02\n",
      "   6.39294728e-01 -6.15648882e-01 -1.29646076e+00  1.98765620e-01\n",
      "   3.10075148e-01  4.38710316e-01  1.40436219e+00  7.56284340e-01\n",
      "   2.24254473e-01  8.72619255e-01  5.70815643e-02 -9.31975977e-01\n",
      "   5.48094376e-01  1.27208815e+00  1.75871931e+00  5.58672754e-03\n",
      "  -9.96179716e-01 -1.77124800e+00  5.23518427e-01 -9.53925983e-01\n",
      "   2.50483855e-01 -4.60042151e-03  7.91419133e-01  2.88776024e-01\n",
      "   8.57399090e-01  4.95799406e-01  2.83261641e-01 -2.38028540e+00\n",
      "  -3.80596081e-02 -4.69404356e-01  1.87224253e-01  7.95954808e-01\n",
      "  -1.99391712e+00  4.68934878e-01  2.21199377e-01 -2.39874329e+00\n",
      "  -4.77213995e-01 -8.48283903e-01 -8.79596630e-02 -1.18834986e+00\n",
      "   1.16919621e-01  3.65990981e-01  2.55142315e-01 -5.47316448e-01\n",
      "  -1.75300516e+00 -5.27453081e-01  1.31777152e-01  1.76317941e+00\n",
      "   1.10772274e+00 -1.32251133e+00]\n",
      " [-4.87656362e-01  1.25047445e+00  8.60448830e-01 -5.39651998e-01\n",
      "   2.11847477e-01 -1.40304793e+00  1.10918310e+00 -3.95891146e-02\n",
      "  -2.19554313e-01 -4.09003265e-01  1.33903515e+00  1.13439276e+00\n",
      "   7.35898085e-01 -1.17302788e+00 -6.22663386e-01 -9.69280251e-01\n",
      "   1.01641409e-01 -1.38310374e+00  2.44607292e-01 -1.09092058e+00\n",
      "   1.30647241e+00 -9.95643215e-02  3.67081337e-01 -4.50393327e-01\n",
      "  -3.29082377e-01 -1.27433313e+00  6.89453358e-01  1.88919477e-01\n",
      "  -9.29541119e-01  5.73891587e-01 -4.48948903e-03 -4.67367180e-01\n",
      "  -7.67342456e-01 -1.04589952e+00 -4.02772553e-01 -3.61015089e-01\n",
      "   4.11545472e-03  6.68364461e-01  1.09173348e+00 -1.51862450e-01\n",
      "  -2.76508816e-01 -4.16813143e-01 -3.40560205e-01  9.60436984e-02\n",
      "   4.40361194e-01 -2.04985030e-01 -8.79791029e-01  1.93621270e-01\n",
      "  -1.90766514e+00 -6.69216283e-01  7.72523515e-01 -1.53892167e-01\n",
      "   2.84149878e-01  1.82322137e-01 -2.92261548e-01 -6.46803387e-01\n",
      "  -8.75759132e-01 -6.44956477e-01  2.62616984e-01 -1.77057923e+00\n",
      "   2.08971965e+00  1.22976117e-01  5.54417454e-01 -1.26305469e-01\n",
      "   4.34781052e-01  5.65418050e-01 -1.12418879e+00 -3.56121786e-01\n",
      "   1.78750865e-01 -6.26165943e-02 -5.42634205e-02 -4.75618915e-02\n",
      "  -3.25539188e-02  2.24595688e-01  3.84770088e-01  1.45693891e-01\n",
      "  -7.71388658e-01  1.51157303e-02  1.15249839e+00 -1.78429194e-01\n",
      "   6.69034511e-01  3.31935368e-01  9.87690680e-01  4.95045774e-01\n",
      "  -1.73684307e-01  2.10229538e-01 -4.10468467e-01 -2.76214786e-01\n",
      "  -7.61482127e-01  1.36108672e+00  1.91045932e-01 -5.91535099e-01\n",
      "   5.97745104e-02 -2.27607564e-02 -8.88868050e-02  7.68870473e-01\n",
      "   2.00402080e+00  1.72274541e+00]\n",
      " [ 8.87769905e-01 -2.34498057e-01  1.61924091e-01 -2.05553564e-01\n",
      "  -4.78967938e-01  9.88601890e-01 -1.46108225e+00 -2.31193814e-01\n",
      "  -8.85834488e-01 -1.17122892e+00  4.05837265e-01  1.71265808e-01\n",
      "  -9.16654620e-01 -2.76564869e-01 -8.99117503e-01 -1.09875992e+00\n",
      "   6.87181621e-02  1.34619442e-01  2.21453395e-01  1.01240226e+00\n",
      "  -4.31523651e-02 -3.83580479e-01  2.84971920e-01  1.49752494e+00\n",
      "  -5.75572047e-01  1.25280353e+00 -9.13181099e-01  4.59557739e-01\n",
      "  -2.50961813e-01 -1.25254348e+00  4.26712719e-01 -6.76337752e-01\n",
      "  -1.53181079e+00  4.31561199e-01 -1.19404605e+00 -4.96825251e-01\n",
      "   2.53800598e-01  6.43552032e-01 -2.85841736e-01  2.52158371e-01\n",
      "  -1.60102877e-01 -3.63920006e-01  1.09941646e+00 -5.03379139e-01\n",
      "   2.56398883e-01 -5.17490181e-01  1.87037197e-01  4.82407299e-01\n",
      "   1.16865602e-01 -8.15331730e-01  1.62691995e+00  5.20648685e-01\n",
      "  -2.69401345e-01  1.18392673e-01  1.78868499e-01  4.68656688e-02\n",
      "   4.36680046e-01  9.79236332e-01 -9.55306086e-01 -2.22360882e-01\n",
      "   5.86940971e-01  5.21678176e-01  5.99513736e-01  8.46243110e-01\n",
      "   3.69018760e-01 -6.68725285e-01 -3.47818646e-01 -1.07653889e-01\n",
      "   2.85807338e-01  4.21100822e-01  9.03598991e-01  2.67889228e-01\n",
      "  -1.98730502e-01 -1.02184328e-01  8.90605121e-02 -1.53487996e+00\n",
      "   1.26932827e-01  4.62811199e-01  1.44140926e-01  1.17135969e-01\n",
      "   1.08795610e-01  6.39641967e-01  3.95732608e-01  4.89379612e-01\n",
      "   3.28330665e-02  1.79444519e-01 -4.24882445e-01  5.77927318e-01\n",
      "   3.91075817e-01 -3.01561684e-02  3.82195201e-01  3.89710155e-01\n",
      "   1.42039272e+00 -2.14139667e+00 -2.79896769e-01  4.00438037e-01\n",
      "  -1.28294757e+00 -3.64538464e-01]\n",
      " [-8.24837675e-01  1.13544951e-01  1.89323379e+00  9.01707897e-01\n",
      "   1.14518175e-01 -9.44020738e-01  9.56208716e-01  9.73574887e-01\n",
      "   2.51489172e-01  3.58631621e-01  5.94056139e-01  1.62112246e-01\n",
      "   2.96328554e-01 -1.17215919e+00  6.22739802e-01 -1.24452104e-01\n",
      "  -1.36093377e+00  1.13223363e+00  1.50888930e-01  6.27584706e-01\n",
      "  -1.34878061e-02  1.15718175e+00  6.49079809e-01 -4.06625261e-01\n",
      "  -1.39805268e+00 -1.51427363e+00 -1.36002683e+00 -3.15980425e-01\n",
      "  -1.83858632e+00 -8.67810152e-02 -3.05045595e-01 -4.00229444e-01\n",
      "   7.74408112e-01  4.57150946e-01  4.19079313e-01  1.28794886e+00\n",
      "   1.23265434e+00  9.39850817e-01  5.64875700e-02  1.19912649e+00\n",
      "   7.33610878e-01 -7.30004213e-02  9.48884258e-01 -2.17960595e+00\n",
      "  -2.66523351e-01  4.55195437e-01 -5.49467554e-01 -5.63572397e-01\n",
      "  -6.08684053e-01 -4.06909456e-01 -2.37344732e-01 -7.93571462e-01\n",
      "   7.57484533e-02 -9.45190420e-01 -1.25474023e+00 -1.16957997e+00\n",
      "   4.39538012e-01  1.22478438e+00  1.62970377e+00 -1.12959432e+00\n",
      "   9.14459238e-01 -7.05379953e-01 -3.16943636e-01  4.94637976e-01\n",
      "   6.98181400e-01  5.93039046e-01 -1.37925051e-02  4.19969568e-01\n",
      "   6.62479498e-02  7.91454563e-01  8.51745615e-01 -5.37422170e-01\n",
      "  -1.43784570e+00 -6.90639963e-01  3.49917422e-01  5.99382172e-01\n",
      "   3.42201243e-01 -6.66632555e-02  1.73755179e-01  2.71571646e-01\n",
      "  -5.37641992e-01 -1.13677492e-01  3.41739752e-02  3.15995703e-01\n",
      "  -5.30026903e-01  4.32255278e-01 -1.85162535e-01 -5.69902410e-01\n",
      "  -2.30355165e-02 -5.18143644e-01 -2.00586795e+00 -8.32478514e-01\n",
      "   6.33750059e-02  2.30652819e-01 -4.44909563e-01  4.26739702e-01\n",
      "  -5.94143770e-02  9.33182965e-01]] [-2.85827623 -0.68425714  3.86542538 -4.510458  ]\n"
     ]
    }
   ],
   "source": [
    "print(HX_f_pert, HX_f_mean)"
   ]
  },
  {
   "cell_type": "markdown",
   "metadata": {},
   "source": [
    "## Construct $R$"
   ]
  },
  {
   "cell_type": "code",
   "execution_count": null,
   "metadata": {},
   "outputs": [],
   "source": [
    "R_orig = ensemble.getObservationCov()\n",
    "\n",
    "R = np.zeros( (R_orig.shape[0]*N_d, R_orig.shape[1]*N_d) )\n",
    "\n",
    "for l in range(N_d):\n",
    "    R[l,l] = R_orig[0,0]\n",
    "    R[N_d+l, N_d+l] = R_orig[1,1]\n",
    "    R[l,N_d+l] = R_orig[0,1]\n",
    "    R[N_d+l,l] = R_orig[1,0]\n",
    "\n",
    "Rinv =  np.linalg.inv(R)\n"
   ]
  },
  {
   "cell_type": "markdown",
   "metadata": {},
   "source": [
    "## Construct $D = y-\\overline{HX_f}$"
   ]
  },
  {
   "cell_type": "code",
   "execution_count": null,
   "metadata": {},
   "outputs": [],
   "source": [
    "y_orig = ensemble.observeTrueState()\n",
    "\n",
    "y = np.zeros( (2*N_d) )\n",
    "for l in range(N_d):\n",
    "    y[l]     = y_orig[l,2]\n",
    "for l in range(N_d):\n",
    "    y[N_d+l] = y_orig[l,3]\n",
    "\n",
    "D = y - HX_f_mean"
   ]
  },
  {
   "cell_type": "markdown",
   "metadata": {},
   "source": [
    "## Calculate $A_1 = (N-1) I$"
   ]
  },
  {
   "cell_type": "code",
   "execution_count": null,
   "metadata": {},
   "outputs": [],
   "source": [
    "A1 = (N_e_active - 1) * np.eye(N_e_active)"
   ]
  },
  {
   "cell_type": "markdown",
   "metadata": {},
   "source": [
    "## Calculate $A_2 = (HX'_f)^\\top R^{-1} HX'_f$"
   ]
  },
  {
   "cell_type": "code",
   "execution_count": null,
   "metadata": {},
   "outputs": [],
   "source": [
    "A2 = np.dot(HX_f_pert.T, np.dot(Rinv, HX_f_pert) )"
   ]
  },
  {
   "cell_type": "markdown",
   "metadata": {},
   "source": [
    "## Calculate $P = (A_1+A_2)^{-1}$"
   ]
  },
  {
   "cell_type": "code",
   "execution_count": null,
   "metadata": {},
   "outputs": [],
   "source": [
    "A = A1 + A2\n",
    "\n",
    "P = np.linalg.inv(A)"
   ]
  },
  {
   "cell_type": "markdown",
   "metadata": {},
   "source": [
    "## Calculate $K = X_f P HX'_f R^{-1}$"
   ]
  },
  {
   "cell_type": "code",
   "execution_count": null,
   "metadata": {},
   "outputs": [],
   "source": [
    "K = np.dot(X_f_pert, np.dot(P,np.dot(HX_f_pert.T,Rinv)))"
   ]
  },
  {
   "cell_type": "markdown",
   "metadata": {},
   "source": [
    "## Calculate $\\bar{x_a} = \\bar{x_f} + K (d-H\\bar{x_f})$"
   ]
  },
  {
   "cell_type": "code",
   "execution_count": null,
   "metadata": {},
   "outputs": [],
   "source": [
    "X_a_mean = X_f_mean + np.dot(K, D)"
   ]
  },
  {
   "cell_type": "markdown",
   "metadata": {},
   "source": [
    "## Calculate $X'_a = X_f[(N_e-1)P]^{1/2}$"
   ]
  },
  {
   "cell_type": "code",
   "execution_count": null,
   "metadata": {},
   "outputs": [
    {
     "data": {
      "text/plain": [
       "array([[ 2.67440366e-03, -1.23368233e-03,  5.41057348e-03, ...,\n",
       "         6.27495583e-03,  1.48016210e-02, -4.53089557e-04],\n",
       "       [ 5.28689953e-03, -1.66337069e-03,  7.92261303e-03, ...,\n",
       "         6.09114604e-03,  1.53641173e-02, -5.58134046e-04],\n",
       "       [ 9.25549867e-03, -2.13759689e-03,  7.46285368e-03, ...,\n",
       "         7.93284876e-03,  1.53348118e-02, -2.54573024e-03],\n",
       "       ...,\n",
       "       [ 1.25579503e+00,  6.40899208e-02, -1.37170317e+00, ...,\n",
       "        -3.87999292e-01, -2.99460123e-01,  2.43489483e-01],\n",
       "       [ 1.22275162e+00, -3.57622963e-02, -1.64837548e+00, ...,\n",
       "        -2.95304244e-01, -4.54879026e-01,  8.53603219e-02],\n",
       "       [ 8.49190698e-01, -1.91203557e-01, -1.63789364e+00, ...,\n",
       "         7.75270195e-02, -6.07082833e-01,  6.26393028e-02]])"
      ]
     },
     "execution_count": 18,
     "metadata": {},
     "output_type": "execute_result"
    }
   ],
   "source": [
    "sigma, V = np.linalg.eigh((N_e_active-1)*P)\n",
    "X_a_pert = np.dot(X_f_pert, np.dot(V,np.dot(np.diag(np.sqrt(sigma)),V.T)))\n",
    "\n",
    "X_a_pert"
   ]
  },
  {
   "cell_type": "code",
   "execution_count": null,
   "metadata": {},
   "outputs": [
    {
     "data": {
      "text/plain": [
       "array([[-0.04082977, -0.04473786, -0.0380936 , ..., -0.03722922,\n",
       "        -0.02870255, -0.04395726],\n",
       "       [-0.04583978, -0.05279005, -0.04320407, ..., -0.04503553,\n",
       "        -0.03576256, -0.05168481],\n",
       "       [-0.04694461, -0.05833771, -0.04873726, ..., -0.04826726,\n",
       "        -0.0408653 , -0.05874584],\n",
       "       ...,\n",
       "       [-3.75922694, -4.95093205, -6.38672514, ..., -5.40302126,\n",
       "        -5.31448209, -4.77153249],\n",
       "       [-2.48697091, -3.74548482, -5.358098  , ..., -4.00502677,\n",
       "        -4.16460155, -3.6243622 ],\n",
       "       [-0.96725369, -2.00764794, -3.45433803, ..., -1.73891737,\n",
       "        -2.42352722, -1.75380508]])"
      ]
     },
     "execution_count": 27,
     "metadata": {},
     "output_type": "execute_result"
    }
   ],
   "source": [
    "X_a_pert"
   ]
  },
  {
   "cell_type": "markdown",
   "metadata": {},
   "source": [
    "## Calculate $X_a = \\bar{x_a} + X'_a$"
   ]
  },
  {
   "cell_type": "code",
   "execution_count": null,
   "metadata": {},
   "outputs": [],
   "source": [
    "X_a = X_a_pert \n",
    "for j in range(N_e_active):\n",
    "    X_a[:,j] += X_a_mean"
   ]
  },
  {
   "cell_type": "markdown",
   "metadata": {},
   "source": [
    "## Reshape and upload analysis state"
   ]
  },
  {
   "cell_type": "code",
   "execution_count": null,
   "metadata": {},
   "outputs": [],
   "source": [
    "idx = 0\n",
    "for e in range(N_e):\n",
    "    if ensemble.particlesActive[e]:\n",
    "        eta = X_a[0:n_i*n_j, idx].reshape((n_i,n_j))\n",
    "        hu  = X_a[n_i*n_j:2*n_i*n_j, idx].reshape((n_i,n_j))\n",
    "        hv  = X_a[2*n_i*n_j:3*n_i*n_j, idx].reshape((n_i,n_j))\n",
    "        ensemble.particles[e].upload(eta,hu,hv)\n",
    "        idx += 1\n"
   ]
  },
  {
   "cell_type": "markdown",
   "metadata": {},
   "source": [
    "# Plotting Utils"
   ]
  },
  {
   "cell_type": "code",
   "execution_count": null,
   "metadata": {},
   "outputs": [],
   "source": [
    "def _fillPolarPlot(ax, ensemble, observedParticles, alpha, printInfo=False):\n",
    "    \"\"\"\n",
    "    Internal utility function for plotting current under a drifter as a polar plot.\n",
    "    \"\"\"\n",
    "    max_r = 0\n",
    "    observedParticlesSingleDrifter = observedParticles[:, 0, :]\n",
    "    if printInfo: print(\"observedParticlesSingleDrifter: \\n\" +str(observedParticlesSingleDrifter))\n",
    "    for p in range(ensemble.getNumParticles()):\n",
    "        u, v = observedParticlesSingleDrifter[p,0], observedParticlesSingleDrifter[p,1]\n",
    "        r = np.sqrt(u**2 + v**2)\n",
    "        max_r = max(max_r, r)\n",
    "        theta = np.arctan(v/u)\n",
    "        if (u < 0):\n",
    "            theta += np.pi\n",
    "        arr1 = plt.arrow(theta, 0, 0, r, alpha = alpha, \\\n",
    "                         length_includes_head=True, \\\n",
    "                         edgecolor = 'green', facecolor = 'green', zorder = 5)\n",
    "\n",
    "    obs_u = ensemble.observeTrueState()[0, 2]\n",
    "    obs_v = ensemble.observeTrueState()[0, 3]\n",
    "    if printInfo: print(\"observedTrueState: \" + str((obs_u, obs_v)))\n",
    "    obs_r = np.sqrt(obs_u**2 + obs_v**2)\n",
    "    max_r = max(max_r, obs_r)\n",
    "    obs_theta = np.arctan(obs_v/obs_u)\n",
    "    if (obs_u < 0):\n",
    "        obs_theta += np.pi\n",
    "    arr1 = plt.arrow(obs_theta, 0, 0, obs_r, alpha = 0.5,\\\n",
    "                     length_includes_head=True, \\\n",
    "                     edgecolor = 'red', facecolor = 'red', zorder = 5)\n",
    "\n",
    "    ax.set_rmax(max_r*1.2)\n",
    "    plt.grid(True)\n",
    "    plt.title(\"Momentum observations from drifter\")\n",
    "\n",
    "\n",
    "def _fillHistPlot(ax, ensemble, innovationNorms, alpha, printInfo=False):\n",
    "    if printInfo: print(\"innovation norms: \" + str(innovationNorms))\n",
    "    obs_var = ensemble.getObservationVariance()\n",
    "    range_x = np.sqrt(obs_var)*10\n",
    "    ax.hist(innovationNorms, bins=30, facecolor='green', \\\n",
    "                range=(0, range_x), alpha=alpha,\\\n",
    "                density=True, label=\"particle innovations (norm)\")\n",
    "    plt.title(\"Innovation norms from drifter\")\n",
    "\n",
    "\n",
    "def plotVelocityInfoBeforeAndAfterDA(ensemble, observedParticles, innovationNorms, observedParticles_pre=None, innovationNorms_pre=None, title=None) :\n",
    "\n",
    "    # Initialize File\n",
    "    fig = None\n",
    "    plotRows = 2\n",
    "    fig = plt.figure(figsize=(10,6))\n",
    "    gridspec.GridSpec(plotRows, 3)\n",
    "\n",
    "    # PLOT POSITIONS OF PARTICLES AND OBSERVATIONS\n",
    "    ax = plt.subplot2grid((plotRows,3), (0,0), polar=True)\n",
    "    _fillPolarPlot(ax, ensemble, observedParticles, 0.5, printInfo=False)\n",
    "    if observedParticles_pre is not None:\n",
    "        _fillPolarPlot(ax, ensemble, observedParticles_pre, 0.1, printInfo=False)\n",
    "\n",
    "    # PLOT DISCTRIBUTION OF PARTICLE DISTANCES AND THEORETIC OBSERVATION PDF\n",
    "    ax0 = plt.subplot2grid((plotRows,3), (0,1), colspan=2)\n",
    "    _fillHistPlot(ax0, ensemble, innovationNorms, 0.5, printInfo=False)\n",
    "    if innovationNorms_pre is not None:\n",
    "        _fillHistPlot(ax0, ensemble, innovationNorms_pre, 0.1, printInfo=False)\n",
    "\n",
    "    if title is not None:\n",
    "        plt.suptitle(title, fontsize=16)\n",
    "    plt.tight_layout()\n",
    "\n",
    "# ------------------------------------------------------------------------\n",
    "\n",
    "def _fillHistComponentPlot(ax, ensemble, observedParticles, component, alpha, markTruth=False, subtitle=None):\n",
    "    true_component = ensemble.observeTrueState()[0,2+component]\n",
    "    range_x = 5\n",
    "    ax.hist(observedParticles[:,0][:,component], bins=50, facecolor='green', \\\n",
    "        range=(true_component-range_x,true_component+range_x), \\\n",
    "        alpha=alpha, density=True)\n",
    "    if markTruth is True:\n",
    "        ax.axvline(true_component, color='green', linestyle='dashed', linewidth=1)\n",
    "    if subtitle is not None:\n",
    "        ax.title.set_text(subtitle)\n",
    "\n",
    "\n",
    "def plotVelocityComponentInfoBeforeAndAfterDA(ensemble, observedParticles, observedParticles_pre=None, title=None):\n",
    "    fig = None\n",
    "    fig, axs = plt.subplots(1, 2, figsize=(10,3))\n",
    "    # hist for hu\n",
    "    subtitle = \"$hu$ distribution for ensemble\"\n",
    "    _fillHistComponentPlot(axs[0], ensemble, observedParticles, 0, 0.5, markTruth=True, subtitle=subtitle)\n",
    "    if observedParticles_pre is not None:\n",
    "        _fillHistComponentPlot(axs[0], ensemble, observedParticles_pre, 0, 0.1)\n",
    "    # hist for hv\n",
    "    subtitle = \"$hv$ distribution for ensemble\"\n",
    "    _fillHistComponentPlot(axs[1], ensemble, observedParticles, 1, 0.5, markTruth=True, subtitle=subtitle)\n",
    "    if observedParticles_pre is not None:\n",
    "        _fillHistComponentPlot(axs[1], ensemble, observedParticles_pre, 1, 0.1)\n",
    "\n"
   ]
  },
  {
   "cell_type": "markdown",
   "metadata": {},
   "source": [
    "# Plot circular diagram and histogram"
   ]
  },
  {
   "cell_type": "code",
   "execution_count": null,
   "metadata": {},
   "outputs": [
    {
     "data": {
      "image/png": "[encoded data removed]",
      "text/plain": [
       "<Figure size 720x432 with 2 Axes>"
      ]
     },
     "metadata": {
      "image/png": {
       "height": 256,
       "width": 707
      },
      "needs_background": "light"
     },
     "output_type": "display_data"
    },
    {
     "data": {
      "image/png": "[encoded data removed]",
      "text/plain": [
       "<Figure size 720x216 with 2 Axes>"
      ]
     },
     "metadata": {
      "image/png": {
       "height": 209,
       "width": 595
      },
      "needs_background": "light"
     },
     "output_type": "display_data"
    }
   ],
   "source": [
    "# Download Data from Simulators\n",
    "observedParticles = ensemble.observeParticles()\n",
    "innovationNorms = ensemble.getInnovationNorms()\n",
    "\n",
    "title = \"Comparision of forecast (transparent) and analysis (opaque) states\"\n",
    "plotVelocityInfoBeforeAndAfterDA(ensemble, observedParticles, innovationNorms, observedParticles_pre, innovationNorms_pre, title)\n",
    "\n",
    "title = \"Comparision of forecast (transparent) and analysis (opaque) states for velocity components\"\n",
    "plotVelocityComponentInfoBeforeAndAfterDA(ensemble, observedParticles, observedParticles_pre, title)"
   ]
  },
  {
   "cell_type": "markdown",
   "metadata": {},
   "source": [
    "## Compare norms of particles before and after assimilation "
   ]
  },
  {
   "cell_type": "code",
   "execution_count": null,
   "metadata": {},
   "outputs": [
    {
     "name": "stdout",
     "output_type": "stream",
     "text": [
      "norm before EnKF:  7.720588  and norm after EnKF:  8.144675\n",
      "norm before EnKF:  6.312028  and norm after EnKF:  7.438568\n",
      "norm before EnKF:  nan  and norm after EnKF:  nan\n",
      "norm before EnKF:  5.477277  and norm after EnKF:  6.930297\n",
      "norm before EnKF:  5.977159  and norm after EnKF:  7.208856\n",
      "norm before EnKF:  5.940894  and norm after EnKF:  7.225234\n",
      "norm before EnKF:  7.804126  and norm after EnKF:  8.093115\n",
      "norm before EnKF:  nan  and norm after EnKF:  nan\n",
      "norm before EnKF:  4.348163  and norm after EnKF:  6.299621\n",
      "norm before EnKF:  6.222549  and norm after EnKF:  7.338230\n",
      "norm before EnKF:  5.358563  and norm after EnKF:  6.836969\n",
      "norm before EnKF:  5.876199  and norm after EnKF:  7.155308\n",
      "norm before EnKF:  6.270497  and norm after EnKF:  7.396362\n",
      "norm before EnKF:  6.560614  and norm after EnKF:  7.571116\n",
      "norm before EnKF:  5.761697  and norm after EnKF:  7.143633\n",
      "norm before EnKF:  7.762837  and norm after EnKF:  8.112569\n",
      "norm before EnKF:  6.117691  and norm after EnKF:  7.258191\n",
      "norm before EnKF:  6.619391  and norm after EnKF:  7.499082\n",
      "norm before EnKF:  7.376801  and norm after EnKF:  7.953328\n",
      "norm before EnKF:  6.909714  and norm after EnKF:  7.588236\n",
      "norm before EnKF:  6.566724  and norm after EnKF:  7.565039\n",
      "norm before EnKF:  7.582705  and norm after EnKF:  7.997931\n",
      "norm before EnKF:  6.574000  and norm after EnKF:  7.578744\n",
      "norm before EnKF:  5.708112  and norm after EnKF:  7.080045\n",
      "norm before EnKF:  6.165084  and norm after EnKF:  7.344477\n",
      "norm before EnKF:  7.836539  and norm after EnKF:  8.200000\n",
      "norm before EnKF:  7.167174  and norm after EnKF:  7.814476\n",
      "norm before EnKF:  8.664255  and norm after EnKF:  8.599722\n",
      "norm before EnKF:  7.165348  and norm after EnKF:  7.857296\n",
      "norm before EnKF:  6.785343  and norm after EnKF:  7.657987\n",
      "norm before EnKF:  8.173873  and norm after EnKF:  8.337196\n",
      "norm before EnKF:  6.115208  and norm after EnKF:  7.310474\n",
      "norm before EnKF:  7.203382  and norm after EnKF:  7.897367\n",
      "norm before EnKF:  6.168394  and norm after EnKF:  7.279727\n",
      "norm before EnKF:  5.164928  and norm after EnKF:  6.755114\n",
      "norm before EnKF:  7.146798  and norm after EnKF:  7.787259\n",
      "norm before EnKF:  7.210746  and norm after EnKF:  7.722349\n",
      "norm before EnKF:  5.762293  and norm after EnKF:  7.080252\n",
      "norm before EnKF:  5.952817  and norm after EnKF:  7.204772\n",
      "norm before EnKF:  6.957117  and norm after EnKF:  7.725622\n",
      "norm before EnKF:  6.269102  and norm after EnKF:  7.416860\n",
      "norm before EnKF:  5.669874  and norm after EnKF:  7.041559\n",
      "norm before EnKF:  5.946259  and norm after EnKF:  7.212514\n",
      "norm before EnKF:  6.746572  and norm after EnKF:  7.626890\n",
      "norm before EnKF:  6.952331  and norm after EnKF:  7.707600\n",
      "norm before EnKF:  8.366555  and norm after EnKF:  8.477516\n",
      "norm before EnKF:  6.743062  and norm after EnKF:  7.658850\n",
      "norm before EnKF:  5.819468  and norm after EnKF:  7.152085\n",
      "norm before EnKF:  7.469151  and norm after EnKF:  7.990447\n",
      "norm before EnKF:  7.288617  and norm after EnKF:  7.949085\n",
      "norm before EnKF:  7.328451  and norm after EnKF:  7.815157\n",
      "norm before EnKF:  6.883576  and norm after EnKF:  7.669792\n",
      "norm before EnKF:  8.365233  and norm after EnKF:  8.512491\n",
      "norm before EnKF:  7.426026  and norm after EnKF:  8.004690\n",
      "norm before EnKF:  6.265098  and norm after EnKF:  7.407415\n",
      "norm before EnKF:  7.193132  and norm after EnKF:  7.884223\n",
      "norm before EnKF:  7.256809  and norm after EnKF:  7.842501\n",
      "norm before EnKF:  7.332049  and norm after EnKF:  7.902233\n",
      "norm before EnKF:  6.667250  and norm after EnKF:  7.556938\n",
      "norm before EnKF:  6.322661  and norm after EnKF:  7.336670\n",
      "norm before EnKF:  4.979158  and norm after EnKF:  6.696397\n",
      "norm before EnKF:  8.091622  and norm after EnKF:  8.236231\n",
      "norm before EnKF:  6.329853  and norm after EnKF:  7.383284\n",
      "norm before EnKF:  7.020162  and norm after EnKF:  7.755365\n",
      "norm before EnKF:  6.668236  and norm after EnKF:  7.545277\n",
      "norm before EnKF:  6.864509  and norm after EnKF:  7.695086\n",
      "norm before EnKF:  6.883534  and norm after EnKF:  7.699400\n",
      "norm before EnKF:  6.856506  and norm after EnKF:  7.629817\n",
      "norm before EnKF:  6.447013  and norm after EnKF:  7.421685\n",
      "norm before EnKF:  6.816760  and norm after EnKF:  7.646298\n",
      "norm before EnKF:  6.636253  and norm after EnKF:  7.599387\n",
      "norm before EnKF:  6.399936  and norm after EnKF:  7.450626\n",
      "norm before EnKF:  6.398991  and norm after EnKF:  7.425341\n",
      "norm before EnKF:  7.050055  and norm after EnKF:  7.809733\n",
      "norm before EnKF:  7.303718  and norm after EnKF:  7.901330\n",
      "norm before EnKF:  6.856091  and norm after EnKF:  7.707995\n",
      "norm before EnKF:  6.298289  and norm after EnKF:  7.424862\n",
      "norm before EnKF:  6.961360  and norm after EnKF:  7.578106\n",
      "norm before EnKF:  6.619740  and norm after EnKF:  7.543158\n",
      "norm before EnKF:  7.155758  and norm after EnKF:  7.868624\n",
      "norm before EnKF:  6.499029  and norm after EnKF:  7.537742\n",
      "norm before EnKF:  6.231079  and norm after EnKF:  7.361177\n",
      "norm before EnKF:  8.051196  and norm after EnKF:  8.314724\n",
      "norm before EnKF:  6.892847  and norm after EnKF:  7.732365\n",
      "norm before EnKF:  6.726131  and norm after EnKF:  7.658274\n",
      "norm before EnKF:  8.014356  and norm after EnKF:  8.240942\n",
      "norm before EnKF:  7.243236  and norm after EnKF:  7.908529\n",
      "norm before EnKF:  6.852445  and norm after EnKF:  7.693470\n",
      "norm before EnKF:  6.615506  and norm after EnKF:  7.562142\n",
      "norm before EnKF:  7.927871  and norm after EnKF:  8.259227\n",
      "norm before EnKF:  6.948062  and norm after EnKF:  7.720835\n",
      "norm before EnKF:  6.831230  and norm after EnKF:  7.710698\n",
      "norm before EnKF:  8.217320  and norm after EnKF:  8.413672\n",
      "norm before EnKF:  7.738143  and norm after EnKF:  8.152937\n",
      "norm before EnKF:  8.328884  and norm after EnKF:  8.450701\n",
      "norm before EnKF:  5.766459  and norm after EnKF:  7.051016\n",
      "norm before EnKF:  6.741160  and norm after EnKF:  7.644049\n",
      "norm before EnKF:  6.006725  and norm after EnKF:  7.201342\n",
      "norm before EnKF:  5.688509  and norm after EnKF:  7.037404\n",
      "norm before EnKF:  6.603828  and norm after EnKF:  7.508608\n"
     ]
    }
   ],
   "source": [
    "for e in range(N_e):\n",
    "    norm_pre = np.sqrt(np.sum(observedParticles_pre[e,:]**2))\n",
    "    norm = np.sqrt(np.sum(observedParticles[e,:]**2))\n",
    "    print(\"norm before EnKF: \", format(norm_pre, \".6f\"), \" and norm after EnKF: \", format(norm, \".6f\"))"
   ]
  },
  {
   "cell_type": "markdown",
   "metadata": {},
   "source": [
    "# RMSE Analysis"
   ]
  },
  {
   "cell_type": "code",
   "execution_count": null,
   "metadata": {},
   "outputs": [],
   "source": [
    "# rmse values before EnKF analysis phase\n",
    "ensemble.getEnsembleVarAndRMSEUnderDrifter(t)\n",
    "rmse_eta = ensemble.rmseUnderDrifter_eta\n",
    "rmse_hu  = ensemble.rmseUnderDrifter_hu\n",
    "rmse_hv  = ensemble.rmseUnderDrifter_hv"
   ]
  },
  {
   "cell_type": "code",
   "execution_count": null,
   "metadata": {},
   "outputs": [
    {
     "name": "stdout",
     "output_type": "stream",
     "text": [
      "Comparison of RMSE before and after analysis phase\n",
      "\n",
      "RMSE for eta before:  0.010545213968425178  and after:  0.010127764282515888\n",
      "RMSE for hu  before:  1.0679998937695763  and after:  0.45161810737031044\n",
      "RMSE for hv  before:  0.8847508675196335  and after:  0.4720890402227332\n"
     ]
    }
   ],
   "source": [
    "print(\"Comparison of RMSE before and after analysis phase\\n\")\n",
    "print(\"RMSE for eta before: \", rmse_eta[0], \" and after: \", rmse_eta[1])\n",
    "print(\"RMSE for hu  before: \", rmse_hu[0], \" and after: \", rmse_hu[1])\n",
    "print(\"RMSE for hv  before: \", rmse_hv[0], \" and after: \", rmse_hv[1])"
   ]
  },
  {
   "cell_type": "code",
   "execution_count": null,
   "metadata": {},
   "outputs": [],
   "source": []
  },
  {
   "cell_type": "code",
   "execution_count": null,
   "metadata": {},
   "outputs": [],
   "source": []
  },
  {
   "cell_type": "code",
   "execution_count": null,
   "metadata": {},
   "outputs": [],
   "source": []
  },
  {
   "cell_type": "code",
   "execution_count": null,
   "metadata": {},
   "outputs": [],
   "source": []
  },
  {
   "cell_type": "code",
   "execution_count": null,
   "metadata": {},
   "outputs": [],
   "source": []
  }
 ],
 "metadata": {
  "kernelspec": {
   "display_name": "Python 3.7.8 64-bit ('gpuocean': conda)",
   "metadata": {
    "interpreter": {
     "hash": "33ed7ca3d490b1455ef8763b7de4f413d7a0b0dcbe44e1e5f95f5e2fe69a0829"
    }
   },
   "name": "python3"
  },
  "language_info": {
   "codemirror_mode": {
    "name": "ipython",
    "version": 3
   },
   "file_extension": ".py",
   "mimetype": "text/x-python",
   "name": "python",
   "nbconvert_exporter": "python",
   "pygments_lexer": "ipython3"
  }
 },
 "nbformat": 4,
 "nbformat_minor": 4
}
