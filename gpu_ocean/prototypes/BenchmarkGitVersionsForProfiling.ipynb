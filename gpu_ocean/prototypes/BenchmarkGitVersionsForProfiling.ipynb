{
 "cells": [
  {
   "cell_type": "code",
   "execution_count": null,
   "metadata": {},
   "outputs": [],
   "source": [
    "%matplotlib inline\n",
    "\n",
    "import re\n",
    "import numpy as np\n",
    "import subprocess\n",
    "import os, stat\n",
    "import os.path\n",
    "import time\n",
    "import tempfile\n",
    "import shutil\n",
    "import logging\n",
    "import urllib\n",
    "import enum\n",
    "\n",
    "import matplotlib.pyplot as plt\n",
    "from matplotlib import cm"
   ]
  },
  {
   "cell_type": "code",
   "execution_count": null,
   "metadata": {},
   "outputs": [],
   "source": [
    "logging.getLogger(\"\").setLevel(logging.DEBUG)\n",
    "\n",
    "ch = logging.StreamHandler()\n",
    "ch.setLevel(logging.DEBUG)\n",
    "logging.getLogger(\"\").addHandler(ch)\n",
    "\n",
    "logger = logging.getLogger(\"main\")\n",
    "logger.debug(\"Test\")"
   ]
  },
  {
   "cell_type": "code",
   "execution_count": null,
   "metadata": {},
   "outputs": [],
   "source": [
    "!python --version"
   ]
  },
  {
   "cell_type": "code",
   "execution_count": null,
   "metadata": {},
   "outputs": [],
   "source": [
    "class Architecture(enum.Enum):\n",
    "    LAPTOP = 1\n",
    "    DESKTOP = 2\n",
    "    SUPERCOMPUTER = 3\n",
    "    \n",
    "architecture = Architecture.SUPERCOMPUTER\n"
   ]
  },
  {
   "cell_type": "code",
   "execution_count": null,
   "metadata": {},
   "outputs": [],
   "source": [
    "#git_url = \"git@github.com:babrodtk/gpu-ocean.git\"\n",
    "git_url = None\n",
    "git_command = \"git\"\n",
    "my_env = os.environ\n",
    "shell = True\n",
    "\n",
    "# If we are on windows, we might need to modify the path and git command:\n",
    "if os.name == 'nt':\n",
    "    my_env[\"PATH\"] = \"C:\\\\Program Files\\\\Git\\\\mingw64\\\\bin\\\\;C:\\\\Program Files\\\\Git\\\\usr\\\\bin\\\\;\" + my_env[\"PATH\"]\n",
    "    git_command = \"git.exe\"\n",
    "if os.name == 'posix':\n",
    "    shell = False\n",
    "\n",
    "try:\n",
    "    git_url = subprocess.check_output([git_command, \"rev-parse\", \"--show-toplevel\"], stderr=subprocess.STDOUT, shell=shell)\n",
    "    git_url = os.path.abspath(os.path.join(git_url.decode(\"utf-8\").rstrip(), \".git\"))\n",
    "except subprocess.CalledProcessError as e:\n",
    "    logger.error(\"Failed, return code \" + str(e.returncode) + \"\\n\" + str(e.output))\n",
    "logger.info(git_url)\n",
    "    \n",
    "    \n",
    "benchmark_script_relpath = \"gpu_ocean/demos/testCasesDemos/run_benchmark.py\"\n",
    "cdklm_python_class_relpath = \"gpu_ocean/SWESimulators/CDKLM16.py\"\n",
    "benchmark_script_version = \"5c2214573269367fbdb6d67ace07f2ffa57d37ba\"\n",
    "benchmark_script_options = [\"--simulator\", \"CDKLM\", '--steps_per_download', '10', '--iterations', '3']\n",
    "outfile = os.path.join(os.getcwd(), \"output_\" + time.strftime(\"%Y_%m_%d-%H_%M_%S\") + \".npz\")\n",
    "\n",
    "\n",
    "git_versions = [\n",
    "    #(git hash, git commit message, block size laptop, block size desktop, block size supercomputer)\n",
    "    (\"a126bab97e690b7c642814e3c8b96f9879adf487\", \"original (per arch optimized block size)\", (32,4), (12,12), (12, 12)), #Change blocksize here!\n",
    "    (\"5d817bb7cd2b369039117d19aae7d669a9a2e53a\", \"Optimized shared memory use Hm\", (32,4), (12,12), (16, 16)),\n",
    "    (\"2e5da01457874ad5087398da77b9102ee991fb94\", \"Optimized shared memory use RHx/RHy\", (32,4), (12,12), (16, 16)),\n",
    "    (\"fcd145c8c29f3d38a024685fdd0fc3cf9580366c\", \"Optimized shared memory use Q\", (32,4), (12,12), (16, 16)),\n",
    "    (\"74e957bb41e391a5c5fbb19c3cac393079272dd3\", \"Optimized shared memory use F\", (32,4), (12,12), (16, 16)),\n",
    "    (\"5aba525d1d64937c03e8d2b33bb7f6d80b97a81a\", \"Optimized shared memory use G\", (32,4), (12,12), (16, 16)),\n",
    "    (\"addb061fe1cfccebb6fab70f9826be3752162b0b\", \"Optimized shared memory use Qy\", (32,4), (12,12), (16, 16)),\n",
    "    (\"aab115045fd6d313940fa37be3149155ba4ead70\", \"Made variables const\", (32,4), (12,12), (16, 16)),\n",
    "    (\"f6a911368b429df608eb5e1218c28bc14d6ffbe2\", \"Updated blocksize experiment code\", (32,4), (12,12), (16, 16)),\n",
    "    (\"339eb0c9a3bf04875507fab24d8924e24718a2eb\", \"Changed default block size\", (16,8), (24,8), (8, 12)), #Change blocksize here!\n",
    "    (\"1319edf92c20b8d5fd9fc8c0e0ed58176f9cc2ba\", \"Tried to reduce register use\", (16,8), (24,8), (16, 16)),\n",
    "    (\"6de871265b820aecc63d68a2e1f858605eb367c7\", \"Refactored to optimize register use\", (16,8), (24,8), (16, 16)),\n",
    "    (\"f6d1727d747b486203df91079b83a9e717668852\", \"Added logger to CDKLM\", (16,8), (24,8), (16, 16)),\n",
    "    (\"40f9d4817fa084de7cebfd3cf6d20254b93e7393\", \"Added fast math compilation flag\", (16,8), (24,8), (16, 16)),\n",
    "    #(\"e2af2159becbd3c8769903eb4bea602a96d6c3a1\", \"Compilation flags experimentation\", (16,8), (24,8), (16, 16)),\n",
    "    (\"12536844bdc4459dcf4cc92776faea3a81d0a32c\", \"New optimal block size\", (32,8), (32,12), (16, 8)) #Change blocksize here!\n",
    "]\n",
    "\n",
    "\n",
    "for version, log, laptop, desktop, supercomputer in git_versions:\n",
    "    logger.info(version + \" - \" + log)"
   ]
  },
  {
   "cell_type": "code",
   "execution_count": null,
   "metadata": {},
   "outputs": [],
   "source": [
    "#Create temporary directory\n",
    "tmpdir = tempfile.mkdtemp(prefix='git_tmp')\n",
    "logger.debug(\"Writing to \" + tmpdir)"
   ]
  },
  {
   "cell_type": "code",
   "execution_count": null,
   "metadata": {},
   "outputs": [],
   "source": [
    "def git(cwd, options):\n",
    "    a = None\n",
    "    try:\n",
    "        cmd = [git_command] + options\n",
    "        logger.debug(\"Git cloning: \" + cwd + \" -- \" + str(cmd))\n",
    "        a = subprocess.check_output(cmd, stderr=subprocess.STDOUT, shell=shell, cwd=cwd, env=my_env)\n",
    "    except subprocess.CalledProcessError as e:\n",
    "        logger.error(\"Failed, return code \" + str(e.returncode) + \"\\n\" + str(e.output))\n",
    "    return a.decode(\"utf-8\") \n",
    "\n",
    "    \n",
    "git_clone = os.path.join(tmpdir, \"git_clone\")\n",
    "stdout = git(tmpdir, [\"clone\", git_url, git_clone])\n",
    "logger.debug(stdout)"
   ]
  },
  {
   "cell_type": "code",
   "execution_count": null,
   "metadata": {},
   "outputs": [],
   "source": [
    "def block_string(block_size):\n",
    "    return \"block_width=\"+str(block_size[0])+\", block_height=\"+str(block_size[1])\n",
    "\n",
    "def patch_block_sizes(cdklm_py_file_path, old_block_sizes, new_block_sizes):\n",
    "    old_string = block_string(old_block_sizes)\n",
    "    new_string = block_string(new_block_sizes)\n",
    "    \n",
    "    # create temporary file\n",
    "    tmpfile, tmpfile_abs_path = tempfile.mkstemp()\n",
    "    with os.fdopen(tmpfile, 'w') as new_file:\n",
    "        with open(cdklm_py_file_path) as old_file:\n",
    "            for line in old_file:\n",
    "                new_file.write(line.replace(old_string, new_string))\n",
    "    # Remove original file\n",
    "    os.remove(cdklm_py_file_path)\n",
    "    # Move the new file\n",
    "    shutil.move(tmpfile_abs_path, cdklm_py_file_path)\n"
   ]
  },
  {
   "cell_type": "code",
   "execution_count": null,
   "metadata": {
    "scrolled": false
   },
   "outputs": [],
   "source": [
    "for version, log, laptop_block, desktop_block, supercomputer_block in git_versions:\n",
    "    logger.debug(\"checkout \" + version)\n",
    "    logger.debug(\"    with commit msg: \" + log)\n",
    "    stdout = git(git_clone, [\"checkout\", \"--force\", '-q', version])\n",
    "    logger.debug(\"stdout: \" + str(stdout))\n",
    "    \n",
    "    logger.debug(\"Checkout \" + benchmark_script_relpath)\n",
    "    stdout = git(git_clone, [\"checkout\", \"--force\", '-q', benchmark_script_version, \"--\", benchmark_script_relpath])\n",
    "    logger.debug(\"stdout: \" + str(stdout))\n",
    "        \n",
    "    if architecture == Architecture.DESKTOP or architecture == Architecture.SUPERCOMPUTER:\n",
    "        cdklm_abs_path = os.path.join(git_clone, cdklm_python_class_relpath)\n",
    "        if architecture == Architecture.DESKTOP:\n",
    "            patch_block_sizes(cdklm_abs_path, laptop_block, desktop_block)\n",
    "            logger.debug(\"Changed blocksizes from \" + str(laptop_block) + \" to \" + str(desktop_block))\n",
    "    \n",
    "        if architecture == Architecture.SUPERCOMPUTER:\n",
    "            patch_block_sizes(cdklm_abs_path, laptop_block, supercomputer_block)\n",
    "            logger.debug(\"Changed blocksizes from \" + str(laptop_block) + \" to \" + str(desktop_block))\n",
    "        \n",
    "        # Grep on file to check that we succeeded:\n",
    "        try:\n",
    "            cmd = [\"grep\", \"block_width=\", cdklm_abs_path]\n",
    "            a = subprocess.check_output(cmd, stderr=subprocess.STDOUT, shell=shell, cwd=tmpdir, env=my_env)\n",
    "        except subprocess.CalledProcessError as e:\n",
    "            logger.error(\"Failed, return code \" + str(e.returncode) + \"\\n\" + str(e.output))\n",
    "        logger.debug(\"Confirming block sizes through grep:\\n\" + a.decode(\"utf-8\"))\n",
    "        \n",
    "    a = None\n",
    "    try:\n",
    "        #cmd = [\"python\", \"--version\"]\n",
    "        cmd = [\"python\", os.path.join(git_clone, benchmark_script_relpath)] + benchmark_script_options + [\"--output\", \"benchmark_\" + version + \".npz\"]\n",
    "        a = subprocess.check_output(cmd, stderr=subprocess.STDOUT, shell=shell, cwd=tmpdir, env=my_env)\n",
    "    except subprocess.CalledProcessError as e:\n",
    "        logger.error(\"Failed, return code \" + str(e.returncode) + \"\\n\" + str(e.output))\n",
    "    logger.debug(\"Output:\\n\" + a.decode(\"utf-8\"))\n",
    "    \n",
    "    # Cleaning git folder so that it can be deleted\n",
    "    #stdout = git(git_clone, [\"-n\", ])\n",
    "        \n",
    "print(\"benchmarking finished\")"
   ]
  },
  {
   "cell_type": "code",
   "execution_count": null,
   "metadata": {},
   "outputs": [],
   "source": [
    "print(\"hei\")"
   ]
  },
  {
   "cell_type": "code",
   "execution_count": null,
   "metadata": {
    "scrolled": false
   },
   "outputs": [],
   "source": [
    "versions, labels, laptop_block, desktop_block, supercomputer_block = list(zip(*git_versions))\n",
    "megacells = np.full((len(versions)), np.nan)\n",
    "\n",
    "for i, ver in enumerate(git_versions):\n",
    "    version, log, l_block, d_block, hpc_block  = ver\n",
    "    filename = os.path.join(tmpdir, \"benchmark_\" + version + \".npz\")\n",
    "    with np.load(filename) as version_data:\n",
    "        megacells[i] = version_data['CDKLM']\n",
    "\n",
    "np.savez(outfile, versions=versions, labels=labels, megacells=megacells)"
   ]
  },
  {
   "cell_type": "markdown",
   "metadata": {},
   "source": [
    "## Plot results"
   ]
  },
  {
   "cell_type": "code",
   "execution_count": null,
   "metadata": {},
   "outputs": [],
   "source": [
    "### NOTE: Static files\n",
    "outfile_laptop = os.path.join(os.getcwd(), \"laptop_cdklm_profiling.npz\")\n",
    "outfile_desktop = \"desktop_cdklm_profiling.npz\"\n",
    "outfile_supercomputer = \"supercomputer_fermi_cdklm_profiling.npz\"\n",
    "###\n",
    "\n",
    "with np.load(outfile_laptop) as data:\n",
    "    logger.debug(\"laptop file: \" + outfile_laptop)\n",
    "    versions = data['versions']\n",
    "    labels = data['labels']\n",
    "    megacells_laptop = data['megacells']\n",
    "    normalized_megacells_laptop = megacells_laptop / megacells_laptop[0]\n",
    "    \n",
    "with np.load(outfile_desktop) as data:\n",
    "    assert(np.all(versions == data['versions']))\n",
    "    logger.debug(\"desktop file: \" + outfile_desktop)\n",
    "    megacells_desktop = data['megacells']\n",
    "    normalized_megacells_desktop = megacells_desktop / megacells_desktop[0]\n",
    "    \n",
    "with np.load(outfile_supercomputer) as data:\n",
    "    assert(np.all(versions == data['versions']))\n",
    "    logger.debug(\"supercomputer file: \" + outfile_supercomputer)\n",
    "    megacells_supercomputer = data['megacells'] \n",
    "    normalized_megacells_supercomputer = megacells_supercomputer / megacells_supercomputer[0]\n",
    "    \n",
    "fig = plt.figure()\n",
    "\n",
    "fig, ax = plt.subplots(figsize=(12,8))\n",
    "\n",
    "index = np.arange(len(versions))\n",
    "bar_width = 0.25\n",
    "\n",
    "ax.bar(index, normalized_megacells_laptop, bar_width, label='Laptop')\n",
    "ax.bar(index+bar_width, normalized_megacells_desktop, bar_width, label='Desktop')\n",
    "ax.bar(index+2*bar_width, normalized_megacells_supercomputer, bar_width, label='Supercomputer')\n",
    "\n",
    "plt.xticks(index, labels, rotation='vertical')\n",
    "plt.grid()\n",
    "\n",
    "plt.legend()"
   ]
  },
  {
   "cell_type": "code",
   "execution_count": null,
   "metadata": {
    "scrolled": false
   },
   "outputs": [],
   "source": [
    "def remove_readonly(func, path, _):\n",
    "    \"Clear the readonly bit and reattempt the removal\"\n",
    "    os.chmod(path, stat.S_IWRITE)\n",
    "    func(path)\n",
    "\n",
    "shutil.rmtree(tmpdir, onerror=remove_readonly)\n",
    "logger.debug(\"Removed tempdir \" + tmpdir)"
   ]
  },
  {
   "cell_type": "code",
   "execution_count": null,
   "metadata": {},
   "outputs": [],
   "source": []
  }
 ],
 "metadata": {
  "kernelspec": {
   "display_name": "Python [default]",
   "language": "python",
   "name": "python3"
  },
  "language_info": {
   "codemirror_mode": {
    "name": "ipython",
    "version": 3
   },
   "file_extension": ".py",
   "mimetype": "text/x-python",
   "name": "python",
   "nbconvert_exporter": "python",
   "pygments_lexer": "ipython3",
   "version": "3.6.6"
  }
 },
 "nbformat": 4,
 "nbformat_minor": 2
}
