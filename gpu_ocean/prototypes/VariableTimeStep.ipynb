{
 "cells": [
  {
   "cell_type": "markdown",
   "metadata": {},
   "source": [
    "```\n",
    "This notebook tests and demonstrates dynamic time steping.\n",
    "\n",
    "Copyright (C) 2019  SINTEF Digital\n",
    "\n",
    "This program is free software: you can redistribute it and/or modify\n",
    "it under the terms of the GNU General Public License as published by\n",
    "the Free Software Foundation, either version 3 of the License, or\n",
    "(at your option) any later version.\n",
    "\n",
    "This program is distributed in the hope that it will be useful,\n",
    "but WITHOUT ANY WARRANTY; without even the implied warranty of\n",
    "MERCHANTABILITY or FITNESS FOR A PARTICULAR PURPOSE.  See the\n",
    "GNU General Public License for more details.\n",
    "\n",
    "You should have received a copy of the GNU General Public License\n",
    "along with this program.  If not, see <http://www.gnu.org/licenses/>.\n",
    "```"
   ]
  },
  {
   "cell_type": "markdown",
   "metadata": {},
   "source": [
    "# Variable $\\Delta t$ \n",
    "\n",
    "The maximum timestep allowed for CDKLM is given by the CFL conditions\n",
    "$$\\Delta t \\leq \\frac14 \\min \\left\\{ \n",
    "            \\frac{\\Delta x}{\\max_{\\Omega} \\left| u \\pm \\sqrt{gh} \\right|},\n",
    "            \\frac{\\Delta y}{\\max_{\\Omega} \\left| v \\pm \\sqrt{gh} \\right|}\n",
    "\\right\\}.$$\n",
    "\n",
    "Deterministic ocean models where dynamics are dominated by geostrophic balances and we have constant $H$, the currents $u$\u00a0and $v$ are typically small compared to theoretic gravity waves $\\sqrt{gh}$.\n",
    "There are typically therefore no strong need to check this condition.\n",
    "With additive model errors, however, there is a slim chance that $u$ and $v$ at a given point increases more than expected, and we get a problem with stability with regards to the  CFL conditions.\n",
    "\n",
    "The chance for this to happend with a given simulator is small, but when we run an ensemble over long time, the chances for this to happend at any point become larger.\n",
    "\n",
    "## How this was implemented in OpenCL (branch variable-dt)\n",
    "- The CFL conditions is computed during the flux computations, since the velocities reconstructed at the faces are available at this time. This gives per thread max dt, and is stored in shmem.\n",
    "- At the end of the step kernel, a reduction is carried out on the shmem, and per block max dt is written to global memory.\n",
    "- A global reduction of the per-block buffer gives the global max dt at index `[0][0]` in the dt buffer.\n",
    "\n",
    "## How we implement this now in CUDA\n",
    "- Since it is sufficient to check the CFL conditions only now and then, we make the functionality decoupled from the step-kernel. \n",
    "- Use the latest state to find per thread (per cell) max dt, and write this to shmem.\n",
    "- Write a single per block max dt to global mem\n",
    "- A global reduction kernel to find dt across the domain.\n"
   ]
  },
  {
   "cell_type": "code",
   "execution_count": null,
   "metadata": {
    "scrolled": false
   },
   "outputs": [],
   "source": [
    "#Lets have matplotlib \"inline\"\n",
    "%matplotlib inline\n",
    "#%config InlineBackend.figure_format = 'retina'\n",
    "\n",
    "#Import packages we need\n",
    "import numpy as np\n",
    "from matplotlib import animation, rc\n",
    "from matplotlib import pyplot as plt\n",
    "import matplotlib.gridspec as gridspec\n",
    "\n",
    "import os\n",
    "import datetime\n",
    "import sys\n",
    "\n",
    "from importlib import reload\n",
    "\n",
    "sys.path.insert(0, os.path.abspath(os.path.join(os.getcwd(), '../')))\n",
    "\n",
    "#Set large figure sizes\n",
    "#rc('figure', figsize=(16.0, 12.0))\n",
    "#rc('animation', html='html5')\n",
    "plt.rcParams[\"animation.html\"] = \"jshtml\"\n",
    "\n",
    "#Import our simulator\n",
    "from SWESimulators import CDKLM16, PlotHelper, Common, WindStress, IPythonMagic\n",
    "#Import initial condition and bathymetry generating functions:\n",
    "from SWESimulators.BathymetryAndICs import *"
   ]
  },
  {
   "cell_type": "code",
   "execution_count": null,
   "metadata": {},
   "outputs": [],
   "source": [
    "%setup_logging --out compareschemes2d.log\n",
    "%cuda_context_handler gpu_ctx"
   ]
  },
  {
   "cell_type": "code",
   "execution_count": null,
   "metadata": {},
   "outputs": [],
   "source": [
    "# Set initial conditions common to all simulators\n",
    "sim_args = {\n",
    "\"gpu_ctx\": gpu_ctx,\n",
    "\"nx\": 128, \"ny\": 210,\n",
    "\"dx\": 200.0, \"dy\": 200.0,\n",
    "\"dt\": 1,\n",
    "\"g\": 9.81,\n",
    "#\"f\": 0,\n",
    "\"f\": 0.0012,\n",
    "\"coriolis_beta\": 1.0e-6,\n",
    "\"r\": 0.0,\n",
    "\"num_threads_dt\": 8\n",
    "}"
   ]
  },
  {
   "cell_type": "code",
   "execution_count": null,
   "metadata": {},
   "outputs": [],
   "source": [
    "def sim_step_plot(simulator, T):\n",
    "    sim.step(10*T)\n",
    "    eta1, u1, v1 = sim.download(interior_domain_only=True)\n",
    "    sim.updateDt()\n",
    "    dt = sim.downloadDt()\n",
    "    \n",
    "    #Create figure and plot initial conditions\n",
    "    fig = plt.figure(figsize=(16, 8))\n",
    "    domain_extent = [0, sim.nx*sim.dx, 0, sim.ny*sim.dy]\n",
    "    \n",
    "    ax_eta = plt.subplot(1,4,1)\n",
    "    sp_eta = ax_eta.imshow(eta1, interpolation=\"none\", origin='bottom', vmin=-1.5, vmax=1.5, extent=domain_extent)\n",
    "    \n",
    "    ax_u = plt.subplot(1,4,2)\n",
    "    sp_u = ax_u.imshow(u1, interpolation=\"none\", origin='bottom', vmin=-1.5, vmax=1.5, extent=domain_extent)\n",
    "    \n",
    "    ax_v = plt.subplot(1,4,3)\n",
    "    sp_v = ax_v.imshow(v1, interpolation=\"none\", origin='bottom', vmin=-1.5, vmax=1.5, extent=domain_extent)\n",
    "    \n",
    "    ax_dt = plt.subplot(1,4,4)\n",
    "    sp_dt = ax_dt.imshow(dt, interpolation=\"none\", origin='bottom', extent=domain_extent)\n",
    "    #plt.colorbar(mappable=sp_dt, ax=ax_dt)\n",
    "    \n",
    "    fig.suptitle(\"Time = {:04.0f} s ({:s}), {:d} steps\".format(sim.t, sim.__class__.__name__, sim.num_iterations), fontsize=18)\n"
   ]
  },
  {
   "cell_type": "code",
   "execution_count": null,
   "metadata": {
    "scrolled": false
   },
   "outputs": [],
   "source": [
    "reload(CDKLM16)\n",
    "\n",
    "ghosts = np.array([2,2,2,2]) # north, east, south, west\n",
    "dataShape = (sim_args[\"ny\"] + ghosts[0]+ghosts[2], \n",
    "             sim_args[\"nx\"] + ghosts[1]+ghosts[3])\n",
    "\n",
    "H = np.ones((dataShape[0]+1, dataShape[1]+1), dtype=np.float32) * 60.0\n",
    "eta0 = np.zeros(dataShape, dtype=np.float32)\n",
    "u0 = np.zeros(dataShape, dtype=np.float32)\n",
    "v0 = np.zeros(dataShape, dtype=np.float32)\n",
    "\n",
    "#Create bump in to lower left of domain for testing\n",
    "addCentralBump(eta0, sim_args[\"nx\"], sim_args[\"ny\"], sim_args[\"dx\"], sim_args[\"dy\"], ghosts)\n",
    "\n",
    "#Initialize simulator\n",
    "ctcs_args = {\"H\": H, \"eta0\": eta0, \"hu0\": u0, \"hv0\": v0, \"rk_order\": 2}\n",
    "sim = CDKLM16.CDKLM16(**ctcs_args, **sim_args)\n"
   ]
  },
  {
   "cell_type": "code",
   "execution_count": null,
   "metadata": {
    "scrolled": false
   },
   "outputs": [],
   "source": [
    "for i in range(3):\n",
    "    sim_step_plot(sim, T=10)\n",
    "for i in range(3):\n",
    "    sim_step_plot(sim, T=20)\n",
    "\n"
   ]
  },
  {
   "cell_type": "code",
   "execution_count": null,
   "metadata": {},
   "outputs": [],
   "source": [
    "sim.updateDt(courant_number=1.0)\n",
    "dt_blocks = sim.downloadDt()\n",
    "print(np.min(dt_blocks), 0.8*np.min(dt_blocks), sim.dt)\n",
    "print(dt_blocks)"
   ]
  }
 ],
 "metadata": {
  "git": {
   "suppress_outputs": true
  },
  "kernelspec": {
   "display_name": "Python [conda env:gpuocean]",
   "language": "python",
   "name": "conda-env-gpuocean-py"
  },
  "language_info": {
   "codemirror_mode": {
    "name": "ipython",
    "version": 3
   },
   "file_extension": ".py",
   "mimetype": "text/x-python",
   "name": "python",
   "nbconvert_exporter": "python",
   "pygments_lexer": "ipython3",
   "version": "3.6.6"
  }
 },
 "nbformat": 4,
 "nbformat_minor": 1
}