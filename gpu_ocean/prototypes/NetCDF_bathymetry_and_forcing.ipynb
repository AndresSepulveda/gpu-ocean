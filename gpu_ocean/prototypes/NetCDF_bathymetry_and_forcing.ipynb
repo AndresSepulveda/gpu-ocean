{
 "cells": [
  {
   "cell_type": "markdown",
   "metadata": {},
   "source": [
    "# Reading netCDF (through THREDDS server)"
   ]
  },
  {
   "cell_type": "markdown",
   "metadata": {},
   "source": [
    "Reading bathymetry and forcing."
   ]
  },
  {
   "cell_type": "code",
   "execution_count": null,
   "metadata": {},
   "outputs": [],
   "source": [
    "#Lets have matplotlib \"inline\"\n",
    "%matplotlib inline\n",
    "%config InlineBackend.figure_format = 'retina'\n",
    "\n",
    "#Import packages we need\n",
    "from netCDF4 import Dataset as NetCDFFile\n",
    "import numpy as np\n",
    "from matplotlib import rc\n",
    "from matplotlib import pyplot as plt\n",
    "from mpl_toolkits.basemap import Basemap\n",
    "import mpl_toolkits.basemap.pyproj as pyproj\n",
    "\n",
    "import os\n",
    "import pycuda.driver as cuda\n",
    "from pycuda.compiler import SourceModule\n",
    "import datetime\n",
    "import sys\n",
    "\n",
    "sys.path.insert(0, os.path.abspath(os.path.join(os.getcwd(), '../')))\n",
    "\n",
    "#Set large figure sizes\n",
    "rc('figure', figsize=(16.0, 12.0))\n",
    "rc('animation', html='html5')\n",
    "\n",
    "#Import our simulator\n",
    "from SWESimulators import FBL, CTCS, KP07, CDKLM16, PlotHelper, Common, WindStress\n",
    "#Import initial condition and bathymetry generating functions:\n",
    "from SWESimulators.BathymetryAndICs import *"
   ]
  },
  {
   "cell_type": "code",
   "execution_count": null,
   "metadata": {},
   "outputs": [],
   "source": [
    "# Read in netCDF file\n",
    "\n",
    "#url_meps = 'http://thredds.met.no/thredds/dodsC/meps25files/meps_det_pp_2_5km_latest.nc' # using pp-file is faster for testing\n",
    "url_meps = 'http://thredds.met.no/thredds/dodsC/meps25files/meps_det_extracted_2_5km_latest.nc' \n",
    "url_roms = 'http://thredds.met.no/thredds/dodsC/fou-hi/nordic4km-1h/Nordic-4km_SURF_1h_avg_00.nc'\n",
    "\n",
    "meps_nc = NetCDFFile(url_meps)\n",
    "roms_nc = NetCDFFile(url_roms)\n",
    "\n",
    "#print meps_nc\n",
    "#print roms_nc"
   ]
  },
  {
   "cell_type": "code",
   "execution_count": null,
   "metadata": {},
   "outputs": [],
   "source": [
    "# Proj4 strings\n",
    "meps_proj4_string = meps_nc.variables['projection_lambert'].proj4\n",
    "roms_proj4_string = roms_nc.variables['polar_stereographic'].proj4\n",
    "\n",
    "print(meps_proj4_string)\n",
    "print(roms_proj4_string)"
   ]
  },
  {
   "cell_type": "code",
   "execution_count": null,
   "metadata": {},
   "outputs": [],
   "source": [
    "# Variables\n",
    "lon = meps_nc.variables['longitude'][:]\n",
    "lat = meps_nc.variables['latitude'][:]\n",
    "x_wind = meps_nc.variables['x_wind_10m'][:]\n",
    "y_wind = meps_nc.variables['y_wind_10m'][:]\n",
    "#x_wind = meps_nc.variables['x_wind_pl'][:] # why can I read every other *wind* variable in the file, except {x,y}_wind_pl???!!!\n",
    "#y_wind = meps_nc.variables['y_wind_pl'][:]\n",
    "wind_speed = meps_nc.variables['wind_speed'][:]\n",
    "h = roms_nc.variables['h'][:]"
   ]
  },
  {
   "cell_type": "code",
   "execution_count": null,
   "metadata": {},
   "outputs": [],
   "source": [
    "print(lon[:].shape)\n",
    "print(lat[:].shape)\n",
    "print(x_wind[0][:].shape)\n",
    "print(y_wind[0][:].shape)\n",
    "print(wind_speed[0][0][:].shape)\n",
    "print(h[:].shape)"
   ]
  },
  {
   "cell_type": "code",
   "execution_count": null,
   "metadata": {},
   "outputs": [],
   "source": [
    "#plt.quiver(x_wind[0][0], y_wind[0][0], wind_speed[0][0])\n",
    "#plt.show()\n",
    "\n",
    "fig, ax = plt.subplots()\n",
    "ax.imshow(x_wind[0][0])\n",
    "#plt.show()\n",
    "#ax.contour(lon, colors='black')\n",
    "#plt.show()\n",
    "#ax.contour(lat, colors='black')\n",
    "#plt.show()"
   ]
  },
  {
   "cell_type": "code",
   "execution_count": null,
   "metadata": {},
   "outputs": [],
   "source": [
    "# Arome data is in 'lcc' projection\n",
    "# ROMS data is in 'npstere' projection\n",
    "\n",
    "m = Basemap(projection='cea', llcrnrlat=-90, urcrnrlat=90, \n",
    "llcrnrlon=-180, urcrnrlon=180, resolution='c')\n",
    "m.drawcoastlines()\n",
    "plt.show()\n",
    "\n",
    "# CONT HERE: Proj->Basemap??? Remaining tasks in https://github.com/metno/gpu-ocean/pull/84\n",
    "# Basemap from proj4\n",
    "meps_m = pyproj.Proj(str(meps_proj4_string))\n",
    "meps_m.drawcoastlines()\n",
    "plt.show()\n",
    "roms_m = pyproj.Proj(str(roms_proj4_string))\n",
    "roms_m.drawcoastlines()\n",
    "plt.show()"
   ]
  },
  {
   "cell_type": "code",
   "execution_count": null,
   "metadata": {},
   "outputs": [],
   "source": []
  }
 ],
 "metadata": {
  "kernelspec": {
   "display_name": "Python 2",
   "language": "python",
   "name": "python2"
  },
  "language_info": {
   "codemirror_mode": {
    "name": "ipython",
    "version": 2
   },
   "file_extension": ".py",
   "mimetype": "text/x-python",
   "name": "python",
   "nbconvert_exporter": "python",
   "pygments_lexer": "ipython2",
   "version": "2.7.12"
  }
 },
 "nbformat": 4,
 "nbformat_minor": 2
}
