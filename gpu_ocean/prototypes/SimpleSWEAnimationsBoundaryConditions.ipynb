{
 "cells": [
  {
   "cell_type": "markdown",
   "metadata": {},
   "source": [
    "```\n",
    "This notebook sets up and runs a set of benchmarks to compare\n",
    "different numerical discretizations of the SWEs\n",
    "\n",
    "Copyright (C) 2016, 2017, 2018  SINTEF ICT\n",
    "\n",
    "This program is free software: you can redistribute it and/or modify\n",
    "it under the terms of the GNU General Public License as published by\n",
    "the Free Software Foundation, either version 3 of the License, or\n",
    "(at your option) any later version.\n",
    "\n",
    "This program is distributed in the hope that it will be useful,\n",
    "but WITHOUT ANY WARRANTY; without even the implied warranty of\n",
    "MERCHANTABILITY or FITNESS FOR A PARTICULAR PURPOSE.  See the\n",
    "GNU General Public License for more details.\n",
    "\n",
    "You should have received a copy of the GNU General Public License\n",
    "along with this program.  If not, see <http://www.gnu.org/licenses/>.\n",
    "```"
   ]
  },
  {
   "cell_type": "markdown",
   "metadata": {},
   "source": [
    "# Simple SWE Animations \n",
    "\n",
    "Particular focus on the influence of different boundary conditions"
   ]
  },
  {
   "cell_type": "markdown",
   "metadata": {},
   "source": [
    "## Technical Initializations"
   ]
  },
  {
   "cell_type": "code",
   "execution_count": null,
   "metadata": {},
   "outputs": [],
   "source": [
    "#Lets have matplotlib \"inline\"\n",
    "%matplotlib inline\n",
    "#%config InlineBackend.figure_format = 'retina'\n",
    "\n",
    "#Import packages we need\n",
    "import numpy as np\n",
    "from matplotlib import animation, rc\n",
    "from matplotlib import pyplot as plt\n",
    "import matplotlib.gridspec as gridspec\n",
    "\n",
    "import os\n",
    "import pycuda.driver as cuda\n",
    "from pycuda.compiler import SourceModule\n",
    "import datetime\n",
    "import sys\n",
    "\n",
    "sys.path.insert(0, os.path.abspath(os.path.join(os.getcwd(), '../')))\n",
    "\n",
    "#Set large figure sizes\n",
    "#rc('figure', figsize=(16.0, 12.0))\n",
    "#rc('animation', html='html5')\n",
    "plt.rcParams[\"animation.html\"] = \"jshtml\"\n",
    "\n",
    "#Import our simulator\n",
    "from SWESimulators import FBL, CTCS, KP07, CDKLM16, PlotHelper, Common, WindStress, IPythonMagic\n",
    "#Import initial condition and bathymetry generating functions:\n",
    "from SWESimulators.BathymetryAndICs import *"
   ]
  },
  {
   "cell_type": "code",
   "execution_count": null,
   "metadata": {},
   "outputs": [
    {
     "name": "stderr",
     "output_type": "stream",
     "text": [
      "Console logger using level INFO\n",
      "File logger disabled\n",
      "Python version 3.7.8 | packaged by conda-forge | (default, Jul 31 2020, 01:53:57) [MSC v.1916 64 bit (AMD64)]\n",
      "Registering gpu_ctx in user workspace\n",
      "PyCUDA version 2019.1.2\n",
      "CUDA version (11, 1, 0)\n",
      "Driver version 11010\n",
      "Using 'Quadro T2000' GPU\n",
      "Created context handle <2115581098960>\n"
     ]
    }
   ],
   "source": [
    "%setup_logging --out compareschemes2d.log\n",
    "%cuda_context_handler gpu_ctx"
   ]
  },
  {
   "cell_type": "code",
   "execution_count": null,
   "metadata": {},
   "outputs": [
    {
     "name": "stdout",
     "output_type": "stream",
     "text": [
      "Saving images to images_2020_12_01-16_20_20\n"
     ]
    }
   ],
   "source": [
    "#Create output directory for images\n",
    "imgdir='images_' + datetime.datetime.now().strftime(\"%Y_%m_%d-%H_%M_%S\")\n",
    "os.makedirs(imgdir)\n",
    "print(\"Saving images to \" + imgdir)"
   ]
  },
  {
   "cell_type": "markdown",
   "metadata": {},
   "source": [
    "## Animation Utilities \n",
    "\n",
    "`sim_animation` generates an animation of the SWE Simulation"
   ]
  },
  {
   "cell_type": "code",
   "execution_count": null,
   "metadata": {},
   "outputs": [],
   "source": [
    "\n",
    "def sim_animation(simulator, T):\n",
    "    eta1, u1, v1 = sim.download(interior_domain_only=True)\n",
    "    \n",
    "    #Create figure and plot initial conditions\n",
    "    fig = plt.figure(figsize=(12, 8))\n",
    "    domain_extent = [0, sim.nx*sim.dx, 0, sim.ny*sim.dy]\n",
    "    \n",
    "    ax_eta = plt.subplot(1,3,1)\n",
    "    sp_eta = ax_eta.imshow(eta1, interpolation=\"none\", origin='lower', vmin=-0.5, vmax=0.5, extent=domain_extent)\n",
    "    \n",
    "    ax_u = plt.subplot(1,3,2)\n",
    "    sp_u = ax_u.imshow(u1, interpolation=\"none\", origin='lower', vmin=-1.5, vmax=1.5, extent=domain_extent)\n",
    "    \n",
    "    ax_v = plt.subplot(1,3,3)\n",
    "    sp_v = ax_v.imshow(v1, interpolation=\"none\", origin='lower', vmin=-1.5, vmax=1.5, extent=domain_extent)\n",
    "    \n",
    "    #Helper function which simulates and plots the solution\n",
    "    def animate(i):\n",
    "        if (i>0):\n",
    "            t = sim.step(10.0)\n",
    "        else:\n",
    "            t = 0.0\n",
    "        eta1, u1, v1 = sim.download(interior_domain_only=True)\n",
    "        \n",
    "        #Update plots\n",
    "        fig.sca(ax_eta)\n",
    "        sp_eta.set_data(eta1)\n",
    "        \n",
    "        fig.sca(ax_u)\n",
    "        sp_u.set_data(u1)\n",
    "        \n",
    "        fig.sca(ax_v)\n",
    "        sp_v.set_data(v1)\n",
    "        \n",
    "        fig.suptitle(\"Time = {:04.0f} s ({:s})\".format(t, sim.__class__.__name__), fontsize=18)\n",
    "        print(\".\", end='')\n",
    "\n",
    "    #Matplotlib for creating an animation\n",
    "    anim = animation.FuncAnimation(fig, animate, range(T), interval=100)\n",
    "    plt.close(fig)\n",
    "    return anim"
   ]
  },
  {
   "cell_type": "markdown",
   "metadata": {},
   "source": [
    "## Set-up of Simulation\n",
    "\n",
    "-   Domain and Parameters"
   ]
  },
  {
   "cell_type": "code",
   "execution_count": null,
   "metadata": {},
   "outputs": [],
   "source": [
    "# Set initial conditions common to all simulators\n",
    "sim_args = {\n",
    "\"gpu_ctx\": gpu_ctx,\n",
    "\"nx\": 100, \"ny\": 200,\n",
    "\"dx\": 200.0, \"dy\": 200.0,\n",
    "\"dt\": 0.0,\n",
    "\"g\": 9.81,\n",
    "\"f\": 0.012,\n",
    "#\"coriolis_beta\": 1.0e-6,\n",
    "\"coriolis_beta\": 0.0,\n",
    "\"r\": 0.0\n",
    "}\n",
    "\n",
    "ghost_cells = np.array([2,2,2,2]) # north, east, south, west\n",
    "dataShape = (sim_args[\"ny\"] + ghost_cells[0]+ghost_cells[2], \n",
    "             sim_args[\"nx\"] + ghost_cells[1]+ghost_cells[3])"
   ]
  },
  {
   "cell_type": "markdown",
   "metadata": {},
   "source": [
    "-   Boundary Conditions\n",
    "\n",
    "    - Boundary Conditions Type \n",
    "    \n",
    "    There are 4 different types of boundary conditions available: 1 = Wall, 2 = Periodic (requires same for opposite boundary as well), 3 = Open Boundary with Flow Relaxation Scheme, 4 = Open linear interpolation (Options 3 and 4 are of sponge type), see `Common.BoundaryConditions`.\n",
    "\n",
    "    The sponge area is outer ring of the interior domain, where the relaxation/interpolation is applied after each step of solving the SWE. \n",
    "\n",
    "    <img src=\"pics/SpongeBoundarySteps.png\" width = \"350\">\n",
    "\n",
    "    -   Boundary Conditions Data\n",
    "\n",
    "By default, the boundary condition data in the ghost cells is set as 0, see `Common.SingleBoundaryConditionData`. \n"
   ]
  },
  {
   "cell_type": "code",
   "execution_count": null,
   "metadata": {},
   "outputs": [],
   "source": [
    "boundary_conditions_type = {\"north\":3, \"east\":3, \"south\":3, \"west\":3}\n",
    "#sponge_cells = {\"north\":20, \"east\":20, \"south\":20, \"west\":20}\n",
    "sponge_cells = {\"north\":1, \"east\":1, \"south\":1, \"west\":1}\n",
    "boundary_conditions = Common.BoundaryConditions(**boundary_conditions_type, spongeCells=sponge_cells)\n"
   ]
  },
  {
   "cell_type": "markdown",
   "metadata": {},
   "source": [
    "-   Initial Conditions\n",
    "\n",
    "For different \"bumps\", see `BathymetryAndICs`"
   ]
  },
  {
   "cell_type": "code",
   "execution_count": null,
   "metadata": {},
   "outputs": [],
   "source": [
    "H = np.ones((dataShape[0]+1, dataShape[1]+1), dtype=np.float32) * 60.0\n",
    "eta0 = np.zeros(dataShape, dtype=np.float32)\n",
    "u0 = np.zeros(dataShape, dtype=np.float32)\n",
    "v0 = np.zeros(dataShape, dtype=np.float32)\n",
    "\n",
    "#Create bump in to lower left of domain for testing\n",
    "addBump(eta0, sim_args[\"nx\"], sim_args[\"ny\"], sim_args[\"dx\"], sim_args[\"dy\"], 0.5, 0.5, 1.0, ghost_cells, 1.0)\n",
    "\n"
   ]
  },
  {
   "cell_type": "markdown",
   "metadata": {},
   "source": [
    "-   Simulator\n",
    "\n",
    "Our standard CDKLM16 method is chosen. \n",
    "\n",
    "By the choise of `dt=0.0` the time step size is automatically set to 0.8 of the CFL condition before the simulation starts. To further time step size adjustments the switch `update_dt = True` can be enabled in the `sim.step(T)` call which is hidden in the `sim_animation` function. (For later use in data assimilation the time step size is adjusted every now and then by default.)"
   ]
  },
  {
   "cell_type": "code",
   "execution_count": null,
   "metadata": {},
   "outputs": [],
   "source": [
    "#Initialize simulator\n",
    "cdklm_args = {\"H\": H, \"eta0\": eta0, \"hu0\": u0, \"hv0\": v0, \"rk_order\": 2}\n",
    "sim = CDKLM16.CDKLM16(**cdklm_args, **sim_args, boundary_conditions=boundary_conditions)\n",
    "\n",
    "#Run a simulation and plot it\n",
    "sim_animation(sim, T=150)"
   ]
  },
  {
   "cell_type": "code",
   "execution_count": null,
   "metadata": {},
   "outputs": [
    {
     "data": {
      "text/plain": [
       "'PREFER_NONE'"
      ]
     },
     "execution_count": 9,
     "metadata": {},
     "output_type": "execute_result"
    }
   ],
   "source": [
    "str(cuda.Context.get_cache_config())"
   ]
  },
  {
   "cell_type": "markdown",
   "metadata": {},
   "source": [
    "#### Observation\n",
    "-   Open boundary conditions reduce reflections of outgoing waves at the boundary (but numerically there are still minor reflections)\n",
    "-   Sponge cells helps to dampen these reflection"
   ]
  },
  {
   "cell_type": "markdown",
   "metadata": {},
   "source": [
    "## Some Numerical Proofes of Sizes"
   ]
  },
  {
   "cell_type": "code",
   "execution_count": null,
   "metadata": {},
   "outputs": [
    {
     "name": "stdout",
     "output_type": "stream",
     "text": [
      "(204, 104)\n"
     ]
    }
   ],
   "source": [
    "eta, hu, hv = sim.download()\n",
    "\n",
    "print(eta.shape)"
   ]
  },
  {
   "cell_type": "code",
   "execution_count": null,
   "metadata": {},
   "outputs": [
    {
     "name": "stdout",
     "output_type": "stream",
     "text": [
      "(200, 100)\n"
     ]
    }
   ],
   "source": [
    "eta, hu, hv = sim.download(interior_domain_only=True)\n",
    "\n",
    "print(eta.shape)"
   ]
  },
  {
   "cell_type": "markdown",
   "metadata": {},
   "source": [
    "#### Observation \n",
    "By \"domain\" we denominate the area where we intend to solve the SWE\n",
    "-   The domain has the shape as specified with `nx` and `ny`\n",
    "-   Ghost cells are added around the domain\n",
    "-   Sponge cells are part of the domain "
   ]
  },
  {
   "cell_type": "code",
   "execution_count": null,
   "metadata": {},
   "outputs": [],
   "source": []
  }
 ],
 "metadata": {
  "git": {
   "suppress_outputs": true
  },
  "kernelspec": {
   "display_name": "Python 3.7.8 64-bit ('gpuocean': conda)",
   "metadata": {
    "interpreter": {
     "hash": "33ed7ca3d490b1455ef8763b7de4f413d7a0b0dcbe44e1e5f95f5e2fe69a0829"
    }
   },
   "name": "python3"
  },
  "language_info": {
   "codemirror_mode": {
    "name": "ipython",
    "version": 3
   },
   "file_extension": ".py",
   "mimetype": "text/x-python",
   "name": "python",
   "nbconvert_exporter": "python",
   "pygments_lexer": "ipython3"
  }
 },
 "nbformat": 4,
 "nbformat_minor": 1
}
