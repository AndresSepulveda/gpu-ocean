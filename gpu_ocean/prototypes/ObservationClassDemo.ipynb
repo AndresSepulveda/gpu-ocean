{
 "cells": [
  {
   "cell_type": "markdown",
   "metadata": {},
   "source": [
    "```\n",
    "This software is part of GPU Ocean. \n",
    "\n",
    "Copyright (C) 2019  SINTEF Digital\n",
    "\n",
    "This notebook sets up a simple example for testing/demonstrating the \n",
    "Observation class for writing and reading drifter observations to file.\n",
    "\n",
    "This program is free software: you can redistribute it and/or modify\n",
    "it under the terms of the GNU General Public License as published by\n",
    "the Free Software Foundation, either version 3 of the License, or\n",
    "(at your option) any later version.\n",
    "\n",
    "This program is distributed in the hope that it will be useful,\n",
    "but WITHOUT ANY WARRANTY; without even the implied warranty of\n",
    "MERCHANTABILITY or FITNESS FOR A PARTICULAR PURPOSE.  See the\n",
    "GNU General Public License for more details.\n",
    "\n",
    "You should have received a copy of the GNU General Public License\n",
    "along with this program.  If not, see <http://www.gnu.org/licenses/>.\n",
    "```"
   ]
  },
  {
   "cell_type": "markdown",
   "metadata": {},
   "source": [
    "# Using the Observation class\n",
    "\n",
    "This notebook sets up a simple example for testing/demonstrating the \n",
    "Observation class for writing and reading drifter observations to file."
   ]
  },
  {
   "cell_type": "markdown",
   "metadata": {},
   "source": [
    "## Set environment"
   ]
  },
  {
   "cell_type": "code",
   "execution_count": null,
   "metadata": {},
   "outputs": [],
   "source": [
    "%matplotlib inline\n",
    "%config InlineBackend.figure_format = 'retina'\n",
    "\n",
    "import numpy as np\n",
    "import matplotlib\n",
    "from matplotlib import pyplot as plt\n",
    "from matplotlib import animation, rc\n",
    "from scipy.special import lambertw\n",
    "\n",
    "import os\n",
    "import sys\n",
    "from importlib import reload\n",
    "\n",
    "sys.path.insert(0, os.path.abspath(os.path.join(os.getcwd(), '../')))\n",
    "\n",
    "#Set large figure sizes\n",
    "rc('figure', figsize=(16.0, 12.0))\n",
    "rc('animation', html='html5')\n",
    "matplotlib.rcParams['contour.negative_linestyle'] = 'solid'\n",
    "\n",
    "#Import our simulator\n",
    "from SWESimulators import CDKLM16, PlotHelper, Common, IPythonMagic\n",
    "\n",
    "from SWESimulators import BathymetryAndICs as BC\n",
    "from SWESimulators import OceanStateNoise\n",
    "from SWESimulators import OceanNoiseEnsemble\n",
    "from SWESimulators import Observation\n",
    "from SWESimulators import DataAssimilationUtils as dautils\n"
   ]
  },
  {
   "cell_type": "code",
   "execution_count": null,
   "metadata": {},
   "outputs": [],
   "source": [
    "%cuda_context_handler gpu_ctx"
   ]
  },
  {
   "cell_type": "markdown",
   "metadata": {},
   "source": [
    "# Create a small ensemble\n",
    "\n",
    "Just copying in some old messy code for that."
   ]
  },
  {
   "cell_type": "code",
   "execution_count": null,
   "metadata": {
    "scrolled": false
   },
   "outputs": [],
   "source": [
    "# DEFINE PARAMETERS\n",
    "\n",
    "#Coriolis well balanced reconstruction scheme\n",
    "nx = 40\n",
    "ny = 40\n",
    "\n",
    "dx = 4.0\n",
    "dy = 4.0\n",
    "\n",
    "dt = 0.05\n",
    "g = 9.81\n",
    "r = 0.0\n",
    "\n",
    "f = 0.05\n",
    "beta = 0.0\n",
    "\n",
    "ghosts = np.array([2,2,2,2]) # north, east, south, west\n",
    "validDomain = np.array([2,2,2,2])\n",
    "boundaryConditions = Common.BoundaryConditions(2,2,2,2)\n",
    "\n",
    "# Define which cell index which has lower left corner as position (0,0)\n",
    "x_zero_ref = 2\n",
    "y_zero_ref = 2\n",
    "\n",
    "dataShape = (ny + ghosts[0]+ghosts[2], \n",
    "             nx + ghosts[1]+ghosts[3])\n",
    "dataShapeHi = (ny + ghosts[0]+ghosts[2]+1, \n",
    "             nx + ghosts[1]+ghosts[3]+1)\n",
    "\n",
    "eta0 = np.zeros(dataShape, dtype=np.float32, order='C');\n",
    "eta0_extra = np.zeros(dataShape, dtype=np.float32, order='C')\n",
    "hv0 = np.zeros(dataShape, dtype=np.float32, order='C');\n",
    "hu0 = np.zeros(dataShape, dtype=np.float32, order='C');\n",
    "waterDepth = 10.0\n",
    "Hi = np.ones(dataShapeHi, dtype=np.float32, order='C')*waterDepth\n",
    "\n",
    "# Add disturbance:\n",
    "initOption = 3\n",
    "if initOption == 1:\n",
    "    # Original initial conditions\n",
    "    rel_grid_size = nx*1.0/dx\n",
    "    BC.addBump(eta0, nx, ny, dx, dy, 0.3, 0.5, 0.05*rel_grid_size, validDomain)\n",
    "    eta0 = eta0*0.3\n",
    "    BC.addBump(eta0, nx, ny, dx, dy, 0.7, 0.3, 0.10*rel_grid_size, validDomain)\n",
    "    eta0 = eta0*(-1.3)\n",
    "    BC.addBump(eta0, nx, ny, dx, dy, 0.15, 0.8, 0.03*rel_grid_size, validDomain)\n",
    "    eta0 = eta0*1.0\n",
    "    BC.addBump(eta0, nx, ny, dx, dy, 0.6, 0.75, 0.06*rel_grid_size, validDomain)\n",
    "    BC.addBump(eta0, nx, ny, dx, dy, 0.2, 0.2, 0.01*rel_grid_size, validDomain)\n",
    "    eta0 = eta0*(-0.03)\n",
    "    BC.addBump(eta0_extra, nx, ny, dx, dy, 0.5, 0.5, 0.4*rel_grid_size, validDomain)\n",
    "    eta0 = eta0 + 0.02*eta0_extra\n",
    "    BC.initializeBalancedVelocityField(eta0, Hi, hu0, hv0, f, beta, g, nx, ny, dx ,dy, ghosts)\n",
    "    eta0 = eta0*0.5\n",
    "elif initOption == 2:\n",
    "    # Initial conditions used for the SIR filter\n",
    "    rel_grid_size = nx*1.0/dx\n",
    "    BC.addBump(eta0, nx, ny, dx, dy, 0.3, 0.5, 0.05*rel_grid_size, validDomain)\n",
    "    eta0 = eta0*0.3\n",
    "    BC.addBump(eta0, nx, ny, dx, dy, 0.7, 0.3, 0.10*rel_grid_size, validDomain)\n",
    "    eta0 = eta0*(-1.3)\n",
    "    BC.addBump(eta0, nx, ny, dx, dy, 0.15, 0.8, 0.03*rel_grid_size, validDomain)\n",
    "    eta0 = eta0*1.0\n",
    "    BC.addBump(eta0, nx, ny, dx, dy, 0.6, 0.75, 0.06*rel_grid_size, validDomain)\n",
    "    BC.addBump(eta0, nx, ny, dx, dy, 0.2, 0.2, 0.01*rel_grid_size, validDomain)\n",
    "    eta0 = eta0*(-0.03)\n",
    "    BC.addBump(eta0_extra, nx, ny, dx, dy, 0.5, 0.5, 0.4*rel_grid_size, validDomain)\n",
    "    eta0 = eta0 + 0.02*eta0_extra\n",
    "    BC.initializeBalancedVelocityField(eta0, Hi, hu0, hv0, f, beta, g, nx, ny, dx ,dy, ghosts)\n",
    "    eta0 = eta0*0.5\n",
    "elif initOption == 3:\n",
    "    # Initial conditions random - see further down!\n",
    "    pass\n",
    "    \n",
    "\n",
    "if 'sim' in globals():\n",
    "    sim.cleanUp()\n",
    "if 'ensemble' in globals():\n",
    "    ensemble.cleanUp()\n",
    "    \n",
    "q0 = 0.5*dt*f/(g*waterDepth)\n",
    "print (\"q0: \", q0)\n",
    "print (\"[f, g, H]\", [f, g, waterDepth])\n",
    "print (\"f/gH: \", f/(g*waterDepth))\n",
    "print (\"gH/f: \", g*waterDepth/f)\n",
    "\n",
    "reload(CDKLM16)\n",
    "reload(OceanNoiseEnsemble)\n",
    "reload(PlotHelper)\n",
    "sim = CDKLM16.CDKLM16(gpu_ctx, eta0, hu0, hv0, Hi, \\\n",
    "                      nx, ny, dx, dy, dt, g, f, r, \\\n",
    "                      boundary_conditions=boundaryConditions, \\\n",
    "                      write_netcdf=False, \\\n",
    "                      small_scale_perturbation=True, \\\n",
    "                      small_scale_perturbation_amplitude=q0)\n",
    "if initOption == 3:\n",
    "    sim.perturbState(q0_scale=100)\n",
    "\n",
    "ensemble_size = 4\n",
    "ensemble = OceanNoiseEnsemble.OceanNoiseEnsemble(gpu_ctx, ensemble_size, sim,\n",
    "                                                 num_drifters=9,\n",
    "                                                 observation_type=dautils.ObservationType.UnderlyingFlow,\n",
    "                                                 #observation_type=dautils.ObservationType.DirectUnderlyingFlow,\n",
    "                                                 observation_variance = 0.01,#**2,\n",
    "                                                 initialization_variance_factor_ocean_field=20)\n",
    "\n",
    "\n",
    "ensemble.step(ensemble.dt*100)"
   ]
  },
  {
   "cell_type": "code",
   "execution_count": null,
   "metadata": {},
   "outputs": [],
   "source": [
    "ensemble.plotEnsemble()"
   ]
  },
  {
   "cell_type": "markdown",
   "metadata": {},
   "source": [
    "# Register observations \n",
    "Register observations from the true state both through the old \"live\" methods, and through the Observation class"
   ]
  },
  {
   "cell_type": "code",
   "execution_count": null,
   "metadata": {},
   "outputs": [],
   "source": [
    "reload(Observation)\n",
    "\n",
    "## Compare Observation class with observations from ensemble:\n",
    "new_obs = Observation.Observation()\n",
    "\n",
    "# Make initial observations\n",
    "new_obs.add_observation_from_sim(ensemble.particles[ensemble.obs_index])\n",
    "ensemble.observeTrueState()\n",
    "\n",
    "tmp_obs_from_ensemble = ensemble.observeTrueState()\n",
    "\n",
    "iterations = 2\n",
    "ensemble_obs = [None]*iterations\n",
    "for i in range(iterations):\n",
    "    ensemble.step(ensemble.dt*100)\n",
    "    ensemble_obs[i] = ensemble.observeTrueState()\n",
    "    new_obs.add_observation_from_sim(ensemble.particles[ensemble.obs_index])\n",
    "print(\"ok\")"
   ]
  },
  {
   "cell_type": "code",
   "execution_count": null,
   "metadata": {},
   "outputs": [],
   "source": [
    "# The internal DataFrame now looks like:\n",
    "new_obs.obs_df"
   ]
  },
  {
   "cell_type": "markdown",
   "metadata": {},
   "source": [
    "# Compare old and new observations\n",
    "Comparing observations from the ensemble with the observations from the Observation class.\n",
    "The results should be exactly zero in the first two columns, and approximately zero in the last two."
   ]
  },
  {
   "cell_type": "code",
   "execution_count": null,
   "metadata": {},
   "outputs": [],
   "source": [
    "obs_times = new_obs.get_observation_times()\n",
    "print(obs_times)\n",
    "for i in range(iterations):\n",
    "    #print(new_obs.obs_df.time.values[i])\n",
    "    print(ensemble_obs[i] - new_obs.get_observation(obs_times[i], waterDepth))\n",
    "print(\"ok\")"
   ]
  },
  {
   "cell_type": "markdown",
   "metadata": {},
   "source": [
    "# Write the observations to file"
   ]
  },
  {
   "cell_type": "code",
   "execution_count": null,
   "metadata": {},
   "outputs": [],
   "source": [
    "filename='ObsClassTest.pickle'\n",
    "new_obs.to_pickle(filename)"
   ]
  },
  {
   "cell_type": "markdown",
   "metadata": {},
   "source": [
    "# Read the observations from file to a new Observation object"
   ]
  },
  {
   "cell_type": "code",
   "execution_count": null,
   "metadata": {},
   "outputs": [],
   "source": [
    "read_obs = Observation.Observation()\n",
    "read_obs.read_pickle(filename)"
   ]
  },
  {
   "cell_type": "markdown",
   "metadata": {},
   "source": [
    "# Comparing the Observations read from file with the observations from the ensemble"
   ]
  },
  {
   "cell_type": "code",
   "execution_count": null,
   "metadata": {},
   "outputs": [],
   "source": [
    "obs_times = read_obs.get_observation_times()\n",
    "print(obs_times)\n",
    "for i in range(iterations):\n",
    "    print(ensemble_obs[i] - read_obs.get_observation(obs_times[i], waterDepth))\n",
    "print(\"ok\")"
   ]
  },
  {
   "cell_type": "code",
   "execution_count": null,
   "metadata": {},
   "outputs": [],
   "source": []
  }
 ],
 "metadata": {
  "git": {
   "suppress_outputs": true
  },
  "kernelspec": {
   "display_name": "Python [conda env:gpuocean]",
   "language": "python",
   "name": "conda-env-gpuocean-py"
  },
  "language_info": {
   "codemirror_mode": {
    "name": "ipython",
    "version": 3
   },
   "file_extension": ".py",
   "mimetype": "text/x-python",
   "name": "python",
   "nbconvert_exporter": "python",
   "pygments_lexer": "ipython3",
   "version": "3.6.6"
  }
 },
 "nbformat": 4,
 "nbformat_minor": 1
}