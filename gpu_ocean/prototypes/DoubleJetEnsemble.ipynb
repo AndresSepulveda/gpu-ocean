{
 "cells": [
  {
   "cell_type": "markdown",
   "metadata": {},
   "source": [
    "```\n",
    "This notebook contains experiments of ensembles of instable double \n",
    "jets.\n",
    "\n",
    "Copyright (C) 2019  SINTEF Digital\n",
    "\n",
    "This program is free software: you can redistribute it and/or modify\n",
    "it under the terms of the GNU General Public License as published by\n",
    "the Free Software Foundation, either version 3 of the License, or\n",
    "(at your option) any later version.\n",
    "\n",
    "This program is distributed in the hope that it will be useful,\n",
    "but WITHOUT ANY WARRANTY; without even the implied warranty of\n",
    "MERCHANTABILITY or FITNESS FOR A PARTICULAR PURPOSE.  See the\n",
    "GNU General Public License for more details.\n",
    "\n",
    "You should have received a copy of the GNU General Public License\n",
    "along with this program.  If not, see <http://www.gnu.org/licenses/>.\n",
    "```"
   ]
  },
  {
   "cell_type": "markdown",
   "metadata": {},
   "source": [
    "# Double Jet Ensembles"
   ]
  },
  {
   "cell_type": "code",
   "execution_count": null,
   "metadata": {
    "scrolled": false
   },
   "outputs": [],
   "source": [
    "#Lets have matplotlib \"inline\"\n",
    "%matplotlib inline\n",
    "#%config InlineBackend.figure_format = 'retina'\n",
    "\n",
    "#Import packages we need\n",
    "import numpy as np\n",
    "from matplotlib import animation, rc\n",
    "from matplotlib import pyplot as plt\n",
    "import matplotlib.gridspec as gridspec\n",
    "\n",
    "import os\n",
    "import datetime\n",
    "import sys\n",
    "\n",
    "from importlib import reload\n",
    "\n",
    "sys.path.insert(0, os.path.abspath(os.path.join(os.getcwd(), '../')))\n",
    "\n",
    "\n",
    "plt.rcParams[\"animation.html\"] = \"jshtml\"\n",
    "\n",
    "#Import our simulator\n",
    "from SWESimulators import  CDKLM16, Common, IPythonMagic, DoubleJetCase, DoubleJetEnsemble\n",
    "#Import initial condition and bathymetry generating functions:\n",
    "\n",
    "from SWESimulators import GPUDrifterCollection, shallowWaterGPUhelpers"
   ]
  },
  {
   "cell_type": "code",
   "execution_count": null,
   "metadata": {},
   "outputs": [],
   "source": [
    "#%setup_logging --out galewsky.log\n",
    "%cuda_context_handler gpu_ctx"
   ]
  },
  {
   "cell_type": "code",
   "execution_count": null,
   "metadata": {},
   "outputs": [],
   "source": [
    "#Create output directory for images\n",
    "#imgdir='videos_' + datetime.datetime.now().strftime(\"%Y_%m_%d-%H_%M_%S\")\n",
    "#os.makedirs(imgdir)\n",
    "#print(\"Saving videos to \" + imgdir)"
   ]
  },
  {
   "cell_type": "code",
   "execution_count": null,
   "metadata": {},
   "outputs": [],
   "source": [
    "def myImshow(data):\n",
    "    fig = plt.figure(figsize=(6,3))\n",
    "    plt.imshow(data, origin='lower')\n",
    "    plt.colorbar()"
   ]
  },
  {
   "cell_type": "markdown",
   "metadata": {},
   "source": [
    "# New simulator and ensemble classes\n",
    "\n",
    "First, we create a new simulator class that can be used to initiate ensemble members, and that are tailored for \n",
    "\n",
    "\n",
    "Creating a class for setting up the case, which can be used by the ensemble class"
   ]
  },
  {
   "cell_type": "code",
   "execution_count": null,
   "metadata": {},
   "outputs": [],
   "source": [
    "reload(DoubleJetCase)\n",
    "num_steps = 500*80*4"
   ]
  },
  {
   "cell_type": "code",
   "execution_count": null,
   "metadata": {},
   "outputs": [],
   "source": [
    "unpertDoubleJetCase = DoubleJetCase.DoubleJetCase(gpu_ctx, model_error=False)\n",
    "unpert_args, unpert_init = unpertDoubleJetCase.getInitConditions()\n",
    "unpert_sim = CDKLM16.CDKLM16(**unpert_args, **unpert_init)\n",
    "\n",
    "for i in range(10):\n",
    "    t = unpert_sim.step((num_steps/10)*unpert_sim.dt)\n",
    "    print(i, \"t: \" + str(t))"
   ]
  },
  {
   "cell_type": "code",
   "execution_count": null,
   "metadata": {},
   "outputs": [],
   "source": [
    "eta1, hu1, hv1 = unpert_sim.download()\n",
    "\n",
    "myImshow(eta1)\n",
    "myImshow(hu1)\n",
    "myImshow(hv1)\n",
    "\n",
    "myImshow(unpert_init['eta0'] - eta1)\n",
    "myImshow(unpert_init['hu0'] - hu1)\n",
    "myImshow(unpert_init['hv0'] - hv1)\n"
   ]
  },
  {
   "cell_type": "code",
   "execution_count": null,
   "metadata": {},
   "outputs": [],
   "source": [
    "stdpertDoubleJetCase = DoubleJetCase.DoubleJetCase(gpu_ctx, \n",
    "                                                   DoubleJetCase.DoubleJetPerturbationType.StandardPerturbedState, \n",
    "                                                   model_error=False)\n",
    "stdpert_args, stdpert_init = stdpertDoubleJetCase.getInitConditions()\n",
    "stdpert_sim = CDKLM16.CDKLM16(**stdpert_args, **stdpert_init)\n",
    "\n",
    "for i in range(10):\n",
    "    t = stdpert_sim.step((num_steps/10)*stdpert_sim.dt)\n",
    "    print(i, \"t: \" + str(t))\n",
    "\n"
   ]
  },
  {
   "cell_type": "code",
   "execution_count": null,
   "metadata": {},
   "outputs": [],
   "source": [
    "eta2, hu2, hv2 = stdpert_sim.download()\n",
    "\n",
    "myImshow(eta2)\n",
    "myImshow(hu2)\n",
    "myImshow(hv2)\n",
    "\n",
    "myImshow(stdpert_init['eta0'] - unpert_init['eta0'])\n",
    "myImshow(stdpert_init['hu0'] - unpert_init['hu0'])\n",
    "myImshow(stdpert_init['hv0'] - unpert_init['hv0'])"
   ]
  },
  {
   "cell_type": "code",
   "execution_count": null,
   "metadata": {},
   "outputs": [],
   "source": [
    "urndpertDoubleJetCase = DoubleJetCase.DoubleJetCase(gpu_ctx, \n",
    "                                                   DoubleJetCase.DoubleJetPerturbationType.UniformPerturbedState, \n",
    "                                                   model_error=False)\n",
    "urndpert_args, urndpert_init = urndpertDoubleJetCase.getInitConditions()\n",
    "urndpert_sim = CDKLM16.CDKLM16(**urndpert_args, **urndpert_init)\n",
    "\n",
    "for i in range(10):\n",
    "    t = urndpert_sim.step((num_steps/10)*urndpert_sim.dt)\n",
    "    print(i, \"t: \" + str(t))\n",
    "\n"
   ]
  },
  {
   "cell_type": "code",
   "execution_count": null,
   "metadata": {},
   "outputs": [],
   "source": [
    "eta2, hu2, hv2 = urndpert_sim.download()\n",
    "\n",
    "myImshow(eta2)\n",
    "myImshow(hu2)\n",
    "myImshow(hv2)\n",
    "\n",
    "myImshow(urndpert_init['eta0'] - unpert_init['eta0'])\n",
    "myImshow(urndpert_init['hu0'] - unpert_init['hu0'])\n",
    "myImshow(urndpert_init['hv0'] - unpert_init['hv0'])"
   ]
  },
  {
   "cell_type": "code",
   "execution_count": null,
   "metadata": {},
   "outputs": [],
   "source": [
    "nrndpertDoubleJetCase = DoubleJetCase.DoubleJetCase(gpu_ctx, \n",
    "                                                    DoubleJetCase.DoubleJetPerturbationType.NormalPerturbedState, \n",
    "                                                    model_error=False)\n",
    "nrndpert_args, nrndpert_init = nrndpertDoubleJetCase.getInitConditions()\n",
    "nrndpert_sim = CDKLM16.CDKLM16(**nrndpert_args, **nrndpert_init)\n",
    "\n",
    "for i in range(10):\n",
    "    t = nrndpert_sim.step((num_steps/10)*nrndpert_sim.dt)\n",
    "    print(i, \"t: \" + str(t))\n",
    "\n"
   ]
  },
  {
   "cell_type": "code",
   "execution_count": null,
   "metadata": {},
   "outputs": [],
   "source": [
    "eta2, hu2, hv2 = nrndpert_sim.download()\n",
    "\n",
    "myImshow(eta2)\n",
    "myImshow(hu2)\n",
    "myImshow(hv2)\n",
    "\n",
    "myImshow(nrndpert_init['eta0'] - unpert_init['eta0'])\n",
    "myImshow(nrndpert_init['hu0'] - unpert_init['hu0'])\n",
    "myImshow(nrndpert_init['hv0'] - unpert_init['hv0'])"
   ]
  },
  {
   "cell_type": "code",
   "execution_count": null,
   "metadata": {},
   "outputs": [],
   "source": [
    "moderrDoubleJetCase = DoubleJetCase.DoubleJetCase(gpu_ctx, \n",
    "                                                  model_error=True)\n",
    "moderr_args, moderr_init = moderrDoubleJetCase.getInitConditions()\n",
    "moderr_sim = CDKLM16.CDKLM16(**moderr_args, **moderr_init)\n",
    "\n",
    "for i in range(10):\n",
    "    t = moderr_sim.step((num_steps/10)*moderr_sim.dt)\n",
    "    print(i, \"t: \" + str(t))\n",
    "\n"
   ]
  },
  {
   "cell_type": "code",
   "execution_count": null,
   "metadata": {},
   "outputs": [],
   "source": [
    "eta2, hu2, hv2 = moderr_sim.download()\n",
    "\n",
    "myImshow(eta2)\n",
    "myImshow(hu2)\n",
    "myImshow(hv2)\n",
    "\n",
    "myImshow(moderr_init['eta0'] - unpert_init['eta0'])\n",
    "myImshow(moderr_init['hu0'] - unpert_init['hu0'])\n",
    "myImshow(moderr_init['hv0'] - unpert_init['hv0'])"
   ]
  },
  {
   "cell_type": "markdown",
   "metadata": {},
   "source": [
    "# Ensembles of different initial states"
   ]
  },
  {
   "cell_type": "code",
   "execution_count": null,
   "metadata": {},
   "outputs": [],
   "source": [
    "reload(DoubleJetCase)\n",
    "reload(DoubleJetEnsemble)\n",
    "numParticles = 20"
   ]
  },
  {
   "cell_type": "code",
   "execution_count": null,
   "metadata": {},
   "outputs": [],
   "source": [
    "unpertDoubleJetCase = DoubleJetCase.DoubleJetCase(gpu_ctx, model_error=False)\n"
   ]
  },
  {
   "cell_type": "code",
   "execution_count": null,
   "metadata": {},
   "outputs": [],
   "source": [
    "unpert_ensemble = DoubleJetEnsemble.DoubleJetEnsemble(gpu_ctx, numParticles, unpertDoubleJetCase, num_drifters=4)"
   ]
  },
  {
   "cell_type": "code",
   "execution_count": null,
   "metadata": {
    "scrolled": false
   },
   "outputs": [],
   "source": [
    "%%time\n",
    "unpert_ensemble.plotEnsemble(num_particles=5, plotVelocityField=False)"
   ]
  },
  {
   "cell_type": "code",
   "execution_count": null,
   "metadata": {},
   "outputs": [],
   "source": [
    "normstdPertDoubleJetCase = DoubleJetCase.DoubleJetCase(gpu_ctx,\n",
    "                                                       DoubleJetCase.DoubleJetPerturbationType.NormalPerturbedState,\n",
    "                                                       model_error=False)"
   ]
  },
  {
   "cell_type": "code",
   "execution_count": null,
   "metadata": {},
   "outputs": [],
   "source": [
    "normstdpert_ensemble = DoubleJetEnsemble.DoubleJetEnsemble(gpu_ctx, numParticles, normstdPertDoubleJetCase, num_drifters=4)"
   ]
  },
  {
   "cell_type": "code",
   "execution_count": null,
   "metadata": {},
   "outputs": [],
   "source": [
    "%%time\n",
    "normstdpert_ensemble.plotEnsemble(num_particles=5, plotVelocityField=False)"
   ]
  },
  {
   "cell_type": "code",
   "execution_count": null,
   "metadata": {},
   "outputs": [],
   "source": [
    "%%time\n",
    "num_steps = 500*80*4/10\n",
    "dt = normstdpert_ensemble.particles[0].dt\n"
   ]
  },
  {
   "cell_type": "code",
   "execution_count": null,
   "metadata": {},
   "outputs": [],
   "source": [
    "normstdpert_ensemble.step(num_steps*dt)"
   ]
  },
  {
   "cell_type": "code",
   "execution_count": null,
   "metadata": {},
   "outputs": [],
   "source": [
    "normstdpert_ensemble.plotEnsemble(num_particles=5, plotVelocityField=False)"
   ]
  },
  {
   "cell_type": "code",
   "execution_count": null,
   "metadata": {},
   "outputs": [],
   "source": [
    "normstdpert_ensemble.cleanUp()"
   ]
  },
  {
   "cell_type": "code",
   "execution_count": null,
   "metadata": {},
   "outputs": [],
   "source": [
    "uniformPertDoubleJetCase = DoubleJetCase.DoubleJetCase(gpu_ctx,\n",
    "                                                       DoubleJetCase.DoubleJetPerturbationType.UniformPerturbedState,\n",
    "                                                       model_error=False)"
   ]
  },
  {
   "cell_type": "code",
   "execution_count": null,
   "metadata": {},
   "outputs": [],
   "source": [
    "uniformpert_ensemble = DoubleJetEnsemble.DoubleJetEnsemble(gpu_ctx, numParticles, \n",
    "                                                           uniformPertDoubleJetCase, num_drifters=4)"
   ]
  },
  {
   "cell_type": "code",
   "execution_count": null,
   "metadata": {},
   "outputs": [],
   "source": [
    "uniformpert_ensemble.plotEnsemble(num_particles=5, plotVelocityField=False)"
   ]
  },
  {
   "cell_type": "code",
   "execution_count": null,
   "metadata": {},
   "outputs": [],
   "source": [
    "%%time\n",
    "uniformpert_ensemble.step(num_steps*dt)"
   ]
  },
  {
   "cell_type": "code",
   "execution_count": null,
   "metadata": {},
   "outputs": [],
   "source": [
    "uniformpert_ensemble.plotEnsemble(num_particles=5, plotVelocityField=False)\n"
   ]
  },
  {
   "cell_type": "code",
   "execution_count": null,
   "metadata": {},
   "outputs": [],
   "source": [
    "uniformpert_ensemble.cleanUp()"
   ]
  },
  {
   "cell_type": "code",
   "execution_count": null,
   "metadata": {},
   "outputs": [],
   "source": [
    "%%time\n",
    "moderrDoubleJetCase = DoubleJetCase.DoubleJetCase(gpu_ctx, model_error=True)\n",
    "moderr_ensemble = DoubleJetEnsemble.DoubleJetEnsemble(gpu_ctx, numParticles, \n",
    "                                                           moderrDoubleJetCase, num_drifters=4)\n",
    "moderr_ensemble.step(num_steps*dt)\n",
    "moderr_ensemble.plotEnsemble(num_particles=5, plotVelocityField=False)"
   ]
  },
  {
   "cell_type": "code",
   "execution_count": null,
   "metadata": {},
   "outputs": [],
   "source": [
    "%%time\n",
    "reload(DoubleJetEnsemble)\n",
    "moderrInitDoubleJetCase = DoubleJetCase.DoubleJetCase(gpu_ctx, \n",
    "                                                      DoubleJetCase.DoubleJetPerturbationType.ModelErrorPerturbation, \n",
    "                                                      model_error=True)\n",
    "moderrinit_ensemble = DoubleJetEnsemble.DoubleJetEnsemble(gpu_ctx, numParticles, \n",
    "                                                          moderrInitDoubleJetCase, \n",
    "                                                          num_drifters=4)\n",
    "moderrinit_ensemble.step(num_steps*dt*2)\n",
    "moderrinit_ensemble.plotEnsemble(num_particles=5, plotVelocityField=False)"
   ]
  },
  {
   "cell_type": "code",
   "execution_count": null,
   "metadata": {},
   "outputs": [],
   "source": [
    "for i in range(20):\n",
    "    eta, hu, hv = moderrinit_ensemble.particles[i].download(interior_domain_only=True)\n",
    "    print(eta.max())\n",
    "    if np.isnan(eta.max()):\n",
    "        print(\"NaN detected\")\n",
    "print(moderrinit_ensemble.particles[i].t, num_steps*dt*2)"
   ]
  }
 ],
 "metadata": {
  "git": {
   "suppress_outputs": true
  },
  "kernelspec": {
   "display_name": "Python [default]",
   "language": "python",
   "name": "python3"
  },
  "language_info": {
   "codemirror_mode": {
    "name": "ipython",
    "version": 3
   },
   "file_extension": ".py",
   "mimetype": "text/x-python",
   "name": "python",
   "nbconvert_exporter": "python",
   "pygments_lexer": "ipython3",
   "version": "3.6.6"
  }
 },
 "nbformat": 4,
 "nbformat_minor": 1
}