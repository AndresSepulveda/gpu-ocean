{
 "cells": [
  {
   "cell_type": "markdown",
   "metadata": {},
   "source": [
    "```\n",
    "This notebook contains experiments of ensembles of instable double \n",
    "jets.\n",
    "\n",
    "Copyright (C) 2019  SINTEF Digital\n",
    "\n",
    "This program is free software: you can redistribute it and/or modify\n",
    "it under the terms of the GNU General Public License as published by\n",
    "the Free Software Foundation, either version 3 of the License, or\n",
    "(at your option) any later version.\n",
    "\n",
    "This program is distributed in the hope that it will be useful,\n",
    "but WITHOUT ANY WARRANTY; without even the implied warranty of\n",
    "MERCHANTABILITY or FITNESS FOR A PARTICULAR PURPOSE.  See the\n",
    "GNU General Public License for more details.\n",
    "\n",
    "You should have received a copy of the GNU General Public License\n",
    "along with this program.  If not, see <http://www.gnu.org/licenses/>.\n",
    "```"
   ]
  },
  {
   "cell_type": "markdown",
   "metadata": {},
   "source": [
    "# Double Jet Ensembles"
   ]
  },
  {
   "cell_type": "code",
   "execution_count": null,
   "metadata": {
    "scrolled": false
   },
   "outputs": [],
   "source": [
    "#Lets have matplotlib \"inline\"\n",
    "%matplotlib inline\n",
    "#%config InlineBackend.figure_format = 'retina'\n",
    "\n",
    "#Import packages we need\n",
    "import numpy as np\n",
    "from matplotlib import animation, rc\n",
    "from matplotlib import pyplot as plt\n",
    "import matplotlib.gridspec as gridspec\n",
    "\n",
    "import os\n",
    "import datetime\n",
    "import sys\n",
    "\n",
    "from importlib import reload\n",
    "\n",
    "sys.path.insert(0, os.path.abspath(os.path.join(os.getcwd(), '../')))\n",
    "\n",
    "\n",
    "plt.rcParams[\"animation.html\"] = \"jshtml\"\n",
    "\n",
    "#Import our simulator\n",
    "from SWESimulators import  CDKLM16, Common, IPythonMagic, DoubleJetCase\n",
    "#Import initial condition and bathymetry generating functions:\n",
    "\n",
    "from SWESimulators import GPUDrifterCollection, shallowWaterGPUhelpers"
   ]
  },
  {
   "cell_type": "code",
   "execution_count": null,
   "metadata": {},
   "outputs": [],
   "source": [
    "#%setup_logging --out galewsky.log\n",
    "%cuda_context_handler gpu_ctx"
   ]
  },
  {
   "cell_type": "code",
   "execution_count": null,
   "metadata": {},
   "outputs": [],
   "source": [
    "#Create output directory for images\n",
    "#imgdir='videos_' + datetime.datetime.now().strftime(\"%Y_%m_%d-%H_%M_%S\")\n",
    "#os.makedirs(imgdir)\n",
    "#print(\"Saving videos to \" + imgdir)"
   ]
  },
  {
   "cell_type": "code",
   "execution_count": null,
   "metadata": {},
   "outputs": [],
   "source": [
    "def myImshow(data):\n",
    "    fig = plt.figure(figsize=(6,3))\n",
    "    plt.imshow(data, origin='lower')\n",
    "    plt.colorbar()"
   ]
  },
  {
   "cell_type": "markdown",
   "metadata": {},
   "source": [
    "# New simulator and ensemble classes\n",
    "\n",
    "First, we create a new simulator class that can be used to initiate ensemble members, and that are tailored for \n",
    "\n",
    "\n",
    "Creating a class for setting up the case, which can be used by the ensemble class"
   ]
  },
  {
   "cell_type": "code",
   "execution_count": null,
   "metadata": {},
   "outputs": [],
   "source": [
    "reload(DoubleJetCase)\n",
    "\n",
    "doubleJetCase = DoubleJetCase.DoubleJetCase(gpu_ctx)"
   ]
  },
  {
   "cell_type": "code",
   "execution_count": null,
   "metadata": {},
   "outputs": [],
   "source": [
    "num_steps = 500*80*4\n",
    "unpert_args, un_pert_init = doubleJetCase.getBaseInitConditions()\n",
    "unpert_sim = CDKLM16.CDKLM16(**unpert_args, **un_pert_init)\n",
    "\n",
    "for i in range(10):\n",
    "    t = unpert_sim.step((num_steps/10)*unpert_sim.dt)\n",
    "    print(i, \"t: \" + str(t))"
   ]
  },
  {
   "cell_type": "code",
   "execution_count": null,
   "metadata": {},
   "outputs": [],
   "source": [
    "eta1, hu1, hv1 = unpert_sim.download()\n",
    "\n",
    "myImshow(eta1)\n",
    "myImshow(hu1)\n",
    "myImshow(hv1)\n",
    "\n",
    "myImshow(un_pert_init['eta0'] - eta1)\n",
    "myImshow(un_pert_init['hu0'] - hu1)\n",
    "myImshow(un_pert_init['hv0'] - hv1)\n"
   ]
  },
  {
   "cell_type": "code",
   "execution_count": null,
   "metadata": {},
   "outputs": [],
   "source": [
    "stdpert_args, stdpert_init = doubleJetCase.getStandardPerturbedInitConditions()\n",
    "stdpert_sim = CDKLM16.CDKLM16(**stdpert_args, **stdpert_init)\n",
    "\n",
    "for i in range(10):\n",
    "    t = stdpert_sim.step((num_steps/10)*stdpert_sim.dt)\n",
    "    print(i, \"t: \" + str(t))\n",
    "\n"
   ]
  },
  {
   "cell_type": "code",
   "execution_count": null,
   "metadata": {},
   "outputs": [],
   "source": [
    "eta2, hu2, hv2 = stdpert_sim.download()\n",
    "\n",
    "myImshow(eta2)\n",
    "myImshow(hu2)\n",
    "myImshow(hv2)\n",
    "\n",
    "myImshow(stdpert_init['eta0'] - un_pert_init['eta0'])\n",
    "myImshow(stdpert_init['hu0'] - un_pert_init['hu0'])\n",
    "myImshow(stdpert_init['hv0'] - un_pert_init['hv0'])"
   ]
  },
  {
   "cell_type": "code",
   "execution_count": null,
   "metadata": {},
   "outputs": [],
   "source": [
    "rndpert_args, rndpert_init = doubleJetCase.getUniformPerturbedInitConditions()\n",
    "rndpert_sim = CDKLM16.CDKLM16(**rndpert_args, **rndpert_init)\n",
    "\n",
    "for i in range(10):\n",
    "    t = rndpert_sim.step((num_steps/10)*rndpert_sim.dt)\n",
    "    print(i, \"t: \" + str(t))\n",
    "\n"
   ]
  },
  {
   "cell_type": "code",
   "execution_count": null,
   "metadata": {},
   "outputs": [],
   "source": [
    "eta2, hu2, hv2 = rndpert_sim.download()\n",
    "\n",
    "myImshow(eta2)\n",
    "myImshow(hu2)\n",
    "myImshow(hv2)\n",
    "\n",
    "myImshow(rndpert_init['eta0'] - un_pert_init['eta0'])\n",
    "myImshow(rndpert_init['hu0'] - un_pert_init['hu0'])\n",
    "myImshow(rndpert_init['hv0'] - un_pert_init['hv0'])"
   ]
  },
  {
   "cell_type": "code",
   "execution_count": null,
   "metadata": {},
   "outputs": [],
   "source": []
  },
  {
   "cell_type": "code",
   "execution_count": null,
   "metadata": {},
   "outputs": [],
   "source": []
  }
 ],
 "metadata": {
  "git": {
   "suppress_outputs": true
  },
  "kernelspec": {
   "display_name": "Python [default]",
   "language": "python",
   "name": "python3"
  },
  "language_info": {
   "codemirror_mode": {
    "name": "ipython",
    "version": 3
   },
   "file_extension": ".py",
   "mimetype": "text/x-python",
   "name": "python",
   "nbconvert_exporter": "python",
   "pygments_lexer": "ipython3",
   "version": "3.6.6"
  }
 },
 "nbformat": 4,
 "nbformat_minor": 1
}