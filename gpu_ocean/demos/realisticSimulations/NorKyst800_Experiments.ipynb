{
 "cells": [
  {
   "cell_type": "markdown",
   "metadata": {},
   "source": [
    "```\n",
    "This software is a part of GPU Ocean.\n",
    "\n",
    "Copyright (C) 2019  SINTEF Digital\n",
    "\n",
    "This notebook is a prototype for all required parts of a realistic simulation\n",
    "\n",
    "This program is free software: you can redistribute it and/or modify\n",
    "it under the terms of the GNU General Public License as published by\n",
    "the Free Software Foundation, either version 3 of the License, or\n",
    "(at your option) any later version.\n",
    "\n",
    "This program is distributed in the hope that it will be useful,\n",
    "but WITHOUT ANY WARRANTY; without even the implied warranty of\n",
    "MERCHANTABILITY or FITNESS FOR A PARTICULAR PURPOSE.  See the\n",
    "GNU General Public License for more details.\n",
    "\n",
    "You should have received a copy of the GNU General Public License\n",
    "along with this program.  If not, see <http://www.gnu.org/licenses/>.\n",
    "```"
   ]
  },
  {
   "cell_type": "code",
   "execution_count": null,
   "metadata": {},
   "outputs": [],
   "source": [
    "#Lets have matplotlib \"inline\"\n",
    "%matplotlib inline\n",
    "#%config InlineBackend.figure_format = 'retina'\n",
    "\n",
    "import os\n",
    "import sys\n",
    "\n",
    "#Import packages we need\n",
    "import numpy as np\n",
    "from netCDF4 import Dataset\n",
    "\n",
    "#Helpful during development\n",
    "import importlib\n",
    "#importlib.reload(module)\n",
    "\n",
    "import datetime\n",
    "\n",
    "from IPython.display import display\n",
    "\n",
    "from matplotlib import pyplot as plt\n",
    "#Set large figure sizes\n",
    "#plt.rcParams[\"animation.html\"] = \"jshtml\" #Javascript \n",
    "plt.rcParams[\"animation.html\"] = \"html5\" #mp4\n",
    "plt.rcParams[\"figure.dpi\"] = 100.0 #highres movies/plots\n",
    "\n",
    "plt.rcParams[\"animation.writer\"] = 'ffmpeg' \n",
    "plt.rcParams[\"animation.codec\"] = 'h264' \n",
    "\n",
    "plt.rcParams[\"text.usetex\"] = True\n",
    "plt.rcParams[\"font.family\"] = 'serif'"
   ]
  },
  {
   "cell_type": "code",
   "execution_count": null,
   "metadata": {},
   "outputs": [],
   "source": [
    "sys.path.insert(0, os.path.abspath(os.path.join(os.getcwd(), '../../')))\n",
    "\n",
    "from SWESimulators import CDKLM16, Common, IPythonMagic, NetCDFInitialization\n",
    "\n",
    "import norkyst_plotting"
   ]
  },
  {
   "cell_type": "code",
   "execution_count": null,
   "metadata": {},
   "outputs": [],
   "source": [
    "%setup_logging -o lofoten_sim.log\n",
    "%cuda_context_handler gpu_ctx"
   ]
  },
  {
   "cell_type": "markdown",
   "metadata": {},
   "source": [
    "# Select area and result folder"
   ]
  },
  {
   "cell_type": "code",
   "execution_count": null,
   "metadata": {},
   "outputs": [],
   "source": [
    "#Set this to false before comitting to only get images\n",
    "create_movie = False\n",
    "movie_frames = 200\n",
    "download_data = True\n",
    "timestep_indices = None\n",
    "\n",
    "# Parameter to control the frequency of writing to NetCDF. Given in number of entries per hour\n",
    "netcdf_frequency = 6\n",
    "\n",
    "# How many cells to erode of land\n",
    "erode_land=1\n",
    "\n",
    "# Sponge cells\n",
    "num_sponge_cells = 40\n",
    "sponge_cells = [num_sponge_cells]*4\n",
    "\n",
    "cases = [\n",
    "    {'name': 'norwegian_sea',  'x0':  900, 'x1': 1400, 'y0':  600, 'y1':  875 },\n",
    "    {'name': 'lofoten',        'x0': 1400, 'x1': 1900, 'y0':  450, 'y1':  750 },\n",
    "    {'name': 'complete_coast', 'x0':   25, 'x1': 2575, 'y0':   25, 'y1':  875 },\n",
    "    {'name': 'skagerak',       'x0':  300, 'x1':  600, 'y0':   50, 'y1':  250 },\n",
    "    {'name': 'oslo',           'x0':  500, 'x1':  550, 'y0':  160, 'y1':  210 }\n",
    "]\n",
    "case = cases[2]\n",
    "out_folder = os.path.join(datetime.date.today().isoformat(), case['name'])\n",
    "\n",
    "os.makedirs(out_folder, exist_ok=True)\n",
    "print(\"Output will be placed in '\" + out_folder + \"'\")"
   ]
  },
  {
   "cell_type": "markdown",
   "metadata": {},
   "source": [
    "# Inspect URL and select area"
   ]
  },
  {
   "cell_type": "code",
   "execution_count": null,
   "metadata": {},
   "outputs": [],
   "source": [
    "nordic4km_url = 'http://thredds.met.no/thredds/dodsC/fou-hi/nordic4km-1h/Nordic-4km_SURF_1h_avg_00.nc'\n",
    "norkyst800_url = 'https://thredds.met.no/thredds/dodsC/fou-hi/norkyst800m-1h/NorKyst-800m_ZDEPTHS_his.an.2019071600.nc'\n",
    "\n",
    "source_url = norkyst800_url"
   ]
  },
  {
   "cell_type": "code",
   "execution_count": null,
   "metadata": {},
   "outputs": [],
   "source": [
    "if (download_data):\n",
    "    filename = os.path.abspath(os.path.basename(source_url))\n",
    "    cache_folder='netcdf_cache'\n",
    "    cache_filename = os.path.abspath(os.path.join(cache_folder,\n",
    "                                                  os.path.basename(source_url)))\n",
    "    \n",
    "    if (os.path.isfile(filename)):\n",
    "        source_url = filename\n",
    "        \n",
    "    elif (os.path.isfile(cache_filename)):\n",
    "        source_url = cache_filename\n",
    "    \n",
    "    else:\n",
    "        import requests\n",
    "        download_url = source_url.replace(\"dodsC\", \"fileServer\")\n",
    "\n",
    "        req = requests.get(download_url, stream = True)\n",
    "        filesize = int(req.headers.get('content-length'))\n",
    "\n",
    "        progress = Common.ProgressPrinter()\n",
    "        pp = display(progress.getPrintString(0),display_id=True)\n",
    "\n",
    "        print(\"Downloading data to local file (\" + str(filesize // (1024*1024)) + \" MB)\")\n",
    "        with open(filename, \"wb\") as outfile:\n",
    "            for chunk in req.iter_content(chunk_size = 10*1024*1024):\n",
    "                if chunk:\n",
    "                    outfile.write(chunk)\n",
    "                    pp.update(progress.getPrintString(outfile.tell() / filesize))\n",
    "\n",
    "        source_url = filename\n",
    "        \n",
    "print(\"Source is : \" + source_url)"
   ]
  },
  {
   "cell_type": "markdown",
   "metadata": {},
   "source": [
    "# Helpers for plotting and running simulation"
   ]
  },
  {
   "cell_type": "code",
   "execution_count": null,
   "metadata": {},
   "outputs": [],
   "source": [
    "def ncSimulation(sim, filename, timesteps, interior_domain_only, num_substeps=3):\n",
    "    if (os.path.isfile(filename)):\n",
    "        print(\"File \" + filename + \" already exists, skipping simulation.\")\n",
    "        return\n",
    "    \n",
    "    try:\n",
    "        ncfile = Dataset(filename, 'w')\n",
    "\n",
    "        var = {}\n",
    "        var['eta'], var['hu'], var['hv'] = sim.download(interior_domain_only=interior_domain_only)\n",
    "        _, var['Hm'] = sim.downloadBathymetry(interior_domain_only=interior_domain_only)\n",
    "\n",
    "        ny, nx = var['eta'].shape\n",
    "\n",
    "        # Create dimensions\n",
    "        ncfile.createDimension('time', None) # unlimited\n",
    "        ncfile.createDimension('x', nx)\n",
    "        ncfile.createDimension('y', ny)\n",
    "\n",
    "        ncvar = {}\n",
    "\n",
    "        # Create variables for dimensions\n",
    "        ncvar['time'] = ncfile.createVariable('time', 'f8', ('time',))\n",
    "        ncvar['x'] = ncfile.createVariable('x', 'f4', ('x',))\n",
    "        ncvar['y'] = ncfile.createVariable('y', 'f4', ('y',))\n",
    "\n",
    "        # Fill dimension variables\n",
    "        ncvar['x'][:] = np.linspace(0, nx*sim.dx, nx)\n",
    "        ncvar['y'][:] = np.linspace(0, ny*sim.dy, ny)\n",
    "\n",
    "        # Create static variables\n",
    "        ncvar['Hm'] = ncfile.createVariable('Hm', 'f8', ('y', 'x',), zlib=True)\n",
    "        ncvar['Hm'][:,:] = var['Hm'][:,:]\n",
    "\n",
    "        # Create time varying data variables\n",
    "        for varname in ['eta', 'hu', 'hv']:\n",
    "            ncvar[varname] = ncfile.createVariable(varname, 'f8', ('time', 'y', 'x',), zlib=True)\n",
    "        ncvar['num_iterations'] = ncfile.createVariable('num_iterations', 'i4', ('time',))\n",
    "\n",
    "        #Simulate n timesteps\n",
    "        timestep_sizes = timesteps[1:] - timesteps[:-1]        \n",
    "        timestep_sizes = np.insert(timestep_sizes, 0, 0)\n",
    "\n",
    "        progress = Common.ProgressPrinter(5)\n",
    "        pp = display(progress.getPrintString(0), display_id=True)\n",
    "        for i, timestep_size in enumerate(timestep_sizes):\n",
    "            #Don't simulate if first step (store initial conditions also)\n",
    "            if (timestep_size > 0):\n",
    "                substep_size = timestep_size / num_substeps\n",
    "                for j in range(num_substeps):\n",
    "                    sim.updateDt()\n",
    "                    sim.step(substep_size)\n",
    "\n",
    "            var['eta'], var['hu'], var['hv'] = sim.download(interior_domain_only=False)\n",
    "            ncvar['time'][i] = sim.t\n",
    "            ncvar['num_iterations'][i] = sim.num_iterations\n",
    "\n",
    "            abort=False\n",
    "            for varname in ['eta', 'hu', 'hv']:\n",
    "                ncvar[varname][i,:,:] = var[varname][:,:] #np.ma.masked_invalid(var[varname][:,:])\n",
    "                if (np.any(np.isnan(var[varname]))):\n",
    "                    print(\"Variable \" + varname + \" contains NaN values!\")\n",
    "                    abort=True\n",
    "\n",
    "            if (abort):\n",
    "                print(\"Aborting at t=\" + str(sim.t))\n",
    "                ncfile.sync()\n",
    "                break\n",
    "\n",
    "            pp.update(progress.getPrintString(i/(len(timestep_sizes)-1)))\n",
    "\n",
    "    except Exception as e:\n",
    "        print(\"Something went wrong:\" + str(e))\n",
    "        raise e\n",
    "    finally:\n",
    "        ncfile.close()"
   ]
  },
  {
   "cell_type": "markdown",
   "metadata": {},
   "source": [
    "# Plot reference solution"
   ]
  },
  {
   "cell_type": "code",
   "execution_count": null,
   "metadata": {},
   "outputs": [],
   "source": [
    "norkyst_plotting.refAnimation(source_url, case,\n",
    "             movie_frames=movie_frames, \n",
    "             timestep_indices=timestep_indices, \n",
    "             create_movie=create_movie,\n",
    "             fig=plt.figure(figsize=(18,16)),\n",
    "             h_max=0.8, h_min=-0.8, \n",
    "             uv_max=75, uv_min=-75, \n",
    "             add_extra=2,\n",
    "             rotate=True, \n",
    "             downsample=4)"
   ]
  },
  {
   "cell_type": "markdown",
   "metadata": {},
   "source": [
    "# Run original resolution simulation"
   ]
  },
  {
   "cell_type": "code",
   "execution_count": null,
   "metadata": {},
   "outputs": [],
   "source": [
    "# Set initial conditions \n",
    "sim_args = {\n",
    "    \"gpu_ctx\": gpu_ctx,\n",
    "    \"dt\": 0.0,\n",
    "    \"rk_order\": 2,\n",
    "    \"desingularization_eps\": 1.0\n",
    "}"
   ]
  },
  {
   "cell_type": "code",
   "execution_count": null,
   "metadata": {},
   "outputs": [],
   "source": [
    "data_args = NetCDFInitialization.getInitialConditions(source_url, case['x0'], case['x1'], case['y0'], case['y1'], \n",
    "                                                      timestep_indices=timestep_indices,\n",
    "                                                      erode_land=erode_land,\n",
    "                                                      sponge_cells=sponge_cells)\n",
    "\n",
    "#Add substeps for netcdf\n",
    "if netcdf_frequency > 1:    \n",
    "    n_timesteps = len(data_args['timesteps'])\n",
    "    x = np.linspace(0, 1, n_timesteps)\n",
    "    y = data_args['timesteps']\n",
    "    x_interp = np.linspace(0, 1, n_timesteps*netcdf_frequency)\n",
    "    y_interp = np.interp(x_interp, x, y)\n",
    "    data_args['timesteps'] = y_interp\n",
    "\n",
    "importlib.reload(CDKLM16)\n",
    "sim = CDKLM16.CDKLM16(**sim_args, **NetCDFInitialization.removeMetadata(data_args))\n",
    "\n",
    "original_filename = os.path.join(out_folder, case['name'] + \"_original.nc\")\n",
    "ncSimulation(sim=sim, \n",
    "             filename=original_filename,\n",
    "             timesteps=data_args['timesteps'],\n",
    "             interior_domain_only=False)"
   ]
  },
  {
   "cell_type": "code",
   "execution_count": null,
   "metadata": {},
   "outputs": [],
   "source": [
    "norkyst_plotting.ncAnimation(original_filename,\n",
    "             title=\"original $t_0$=\" + datetime.datetime.fromtimestamp(data_args['t0']).isoformat(timespec='seconds'),\n",
    "             movie_frames=movie_frames, \n",
    "             create_movie=create_movie,\n",
    "             fig=plt.figure(figsize=(18,16)),\n",
    "             h_max=0.8, h_min=-0.8, \n",
    "             uv_max=75, uv_min=-75, \n",
    "             add_extra=2,\n",
    "             rotate=True, \n",
    "             downsample=2)"
   ]
  },
  {
   "cell_type": "markdown",
   "metadata": {},
   "source": [
    "# Simulate low-resolution"
   ]
  },
  {
   "cell_type": "code",
   "execution_count": null,
   "metadata": {},
   "outputs": [],
   "source": [
    "plt.figure(figsize=(12,8))\n",
    "norkyst_plotting.plotStatistics(original_filename)"
   ]
  },
  {
   "cell_type": "code",
   "execution_count": null,
   "metadata": {},
   "outputs": [],
   "source": [
    "data_args_lowres = NetCDFInitialization.rescaleInitialConditions(data_args, scale=0.5)\n",
    "\n",
    "importlib.reload(CDKLM16)\n",
    "sim = CDKLM16.CDKLM16(**sim_args, **NetCDFInitialization.removeMetadata(data_args_lowres))\n",
    "\n",
    "lowres_filename = os.path.join(out_folder, case['name'] + \"_lowres.nc\")\n",
    "ncSimulation(sim=sim, \n",
    "             filename=lowres_filename,\n",
    "             timesteps=data_args['timesteps'],\n",
    "             interior_domain_only=False)"
   ]
  },
  {
   "cell_type": "code",
   "execution_count": null,
   "metadata": {},
   "outputs": [],
   "source": [
    "norkyst_plotting.ncAnimation(lowres_filename, \n",
    "             title=\"lowres $t_0$=\" + datetime.datetime.fromtimestamp(data_args['t0']).isoformat(timespec='seconds'),\n",
    "             movie_frames=movie_frames, \n",
    "             create_movie=create_movie,\n",
    "             fig=plt.figure(figsize=(18,16)),\n",
    "             h_max=0.8, h_min=-0.8, \n",
    "             uv_max=75, uv_min=-75, \n",
    "             add_extra=2,\n",
    "             rotate=True,\n",
    "             downsample=1)"
   ]
  },
  {
   "cell_type": "code",
   "execution_count": null,
   "metadata": {},
   "outputs": [],
   "source": [
    "plt.figure(figsize=(12,8))\n",
    "norkyst_plotting.plotStatistics(lowres_filename)"
   ]
  },
  {
   "cell_type": "markdown",
   "metadata": {},
   "source": [
    "# Simulate high-resolution"
   ]
  },
  {
   "cell_type": "code",
   "execution_count": null,
   "metadata": {},
   "outputs": [],
   "source": [
    "data_args_highres = NetCDFInitialization.rescaleInitialConditions(data_args, scale=2)\n",
    "\n",
    "importlib.reload(CDKLM16)\n",
    "sim = CDKLM16.CDKLM16(**sim_args, **NetCDFInitialization.removeMetadata(data_args_highres))\n",
    "\n",
    "highres_filename = os.path.join(out_folder, case['name'] + \"_highres.nc\")\n",
    "ncSimulation(sim=sim, \n",
    "             filename=highres_filename,\n",
    "             timesteps=data_args['timesteps'],\n",
    "             interior_domain_only=False)"
   ]
  },
  {
   "cell_type": "code",
   "execution_count": null,
   "metadata": {},
   "outputs": [],
   "source": [
    "norkyst_plotting.ncAnimation(highres_filename, \n",
    "             title=\"highres $t_0$=\" + datetime.datetime.fromtimestamp(data_args['t0']).isoformat(timespec='seconds'),\n",
    "             movie_frames=movie_frames, \n",
    "             create_movie=create_movie,\n",
    "             fig=plt.figure(figsize=(18,16)),\n",
    "             h_max=0.8, h_min=-0.8, \n",
    "             uv_max=75, uv_min=-75, \n",
    "             add_extra=2,\n",
    "             rotate=True,\n",
    "             downsample=None)"
   ]
  },
  {
   "cell_type": "code",
   "execution_count": null,
   "metadata": {},
   "outputs": [],
   "source": [
    "plt.figure(figsize=(12,8))\n",
    "norkyst_plotting.plotStatistics(highres_filename)"
   ]
  },
  {
   "cell_type": "code",
   "execution_count": null,
   "metadata": {},
   "outputs": [],
   "source": []
  }
 ],
 "metadata": {
  "kernelspec": {
   "display_name": "Python 3",
   "language": "python",
   "name": "python3"
  },
  "language_info": {
   "codemirror_mode": {
    "name": "ipython",
    "version": 3
   },
   "file_extension": ".py",
   "mimetype": "text/x-python",
   "name": "python",
   "nbconvert_exporter": "python",
   "pygments_lexer": "ipython3",
   "version": "3.6.7"
  }
 },
 "nbformat": 4,
 "nbformat_minor": 4
}
