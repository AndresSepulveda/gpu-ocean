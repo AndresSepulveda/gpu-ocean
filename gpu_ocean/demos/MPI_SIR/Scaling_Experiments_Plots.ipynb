{
 "cells": [
  {
   "cell_type": "markdown",
   "metadata": {},
   "source": [
    "```\n",
    "This software is a part of GPU Ocean.\n",
    "```"
   ]
  },
  {
   "cell_type": "code",
   "execution_count": 1,
   "metadata": {},
   "outputs": [],
   "source": [
    "#Lets have matplotlib \"inline\"\n",
    "%matplotlib inline\n",
    "#%config InlineBackend.figure_format = 'retina'\n",
    "\n",
    "import os\n",
    "import sys\n",
    "\n",
    "#Import packages we need\n",
    "import numpy as np\n",
    "from netCDF4 import Dataset\n",
    "\n",
    "import datetime\n",
    "\n",
    "import matplotlib\n",
    "from matplotlib import pyplot as plt\n",
    "from matplotlib import animation, rc\n",
    "\n",
    "import glob\n",
    "import json\n",
    "\n",
    "#Set large figure sizes\n",
    "#plt.rcParams[\"animation.html\"] = \"jshtml\" #Javascript \n",
    "plt.rcParams[\"animation.html\"] = \"html5\" #mp4\n",
    "plt.rcParams[\"figure.dpi\"] = 300.0 #highres movies/plots\n",
    "\n",
    "plt.rcParams[\"animation.writer\"] = 'ffmpeg' \n",
    "plt.rcParams[\"animation.codec\"] = 'h264' \n",
    "\n",
    "plt.rcParams[\"text.usetex\"] = True\n",
    "plt.rcParams[\"font.family\"] = 'serif'"
   ]
  },
  {
   "cell_type": "code",
   "execution_count": 2,
   "metadata": {},
   "outputs": [],
   "source": [
    "strong_scaling_dir = 'strong_scaling_experiments/'\n",
    "#strong_scaling_dir = 'strong_scaling_480_particles_experiments/'\n",
    "\n",
    "weak_scaling_dir = 'weak_scaling_experiments/'"
   ]
  },
  {
   "cell_type": "code",
   "execution_count": 3,
   "metadata": {},
   "outputs": [],
   "source": [
    "###\n",
    "### read data from json-files and sort\n",
    "###\n",
    "\n",
    "metadata_strong_scaling_filenames = glob.glob(strong_scaling_dir + '/EPS*/EPS*metadata.json')\n",
    "strong_scaling_filenames = glob.glob(strong_scaling_dir + '/EPS*/EPS*profiling.json')\n",
    "\n",
    "#print(str(metadata_strong_scaling_filenames))\n",
    "#print(str(strong_scaling_filenames))\n",
    "\n",
    "strong_scaling_metadata = [None] * len(metadata_strong_scaling_filenames)\n",
    "strong_scaling_runs = [None] * len(strong_scaling_filenames)\n",
    "\n",
    "for i in range(len(strong_scaling_runs)):\n",
    "    with open(metadata_strong_scaling_filenames[i]) as json_file:\n",
    "        strong_scaling_metadata[i] = json.load(json_file)\n",
    "        \n",
    "    with open(strong_scaling_filenames[i]) as json_file:\n",
    "        strong_scaling_runs[i] = json.load(json_file)\n",
    "\n",
    "#print(\"Before sorting:\")\n",
    "#for i in range(len(strong_scaling_metadata)):\n",
    "#    #print(strong_scaling_metadata[i]['timestamp'])\n",
    "#    #print(strong_scaling_metadata[i]['local_ensemble_size'])\n",
    "#    print(strong_scaling_runs[i]['total'])\n",
    "\n",
    "zipped_strong_scaling = zip(strong_scaling_metadata, strong_scaling_runs)\n",
    "zipped_strong_scaling = sorted(zipped_strong_scaling, key=lambda k: k[0]['timestamp'])\n",
    "strong_scaling_metadata, strong_scaling_runs = zip(*zipped_strong_scaling)\n",
    "\n",
    "#print(\"After sorting:\")\n",
    "#for i in range(len(strong_scaling_metadata)):\n",
    "#    #print(strong_scaling_metadata[i]['timestamp'])\n",
    "#    #print(strong_scaling_metadata[i]['local_ensemble_size'])\n",
    "#    print(strong_scaling_runs[i]['total'])\n",
    "\n",
    "\n",
    "metadata_weak_scaling_filenames = glob.glob(weak_scaling_dir + '/EPS*/EPS*metadata.json')\n",
    "weak_scaling_filenames = glob.glob(weak_scaling_dir + '/EPS*/EPS*profiling.json')\n",
    "\n",
    "weak_scaling_metadata = [None] * len(metadata_weak_scaling_filenames)\n",
    "weak_scaling_runs = [None] * len(weak_scaling_filenames)\n",
    "\n",
    "for i in range(len(weak_scaling_runs)):\n",
    "    with open(metadata_weak_scaling_filenames[i]) as json_file:\n",
    "        weak_scaling_metadata[i] = json.load(json_file)\n",
    "        \n",
    "    with open(weak_scaling_filenames[i]) as json_file:\n",
    "        weak_scaling_runs[i] = json.load(json_file)\n",
    "\n",
    "zipped_weak_scaling = zip(weak_scaling_metadata, weak_scaling_runs)\n",
    "zipped_weak_scaling = sorted(zipped_weak_scaling, key=lambda k: k[0]['timestamp'])\n",
    "weak_scaling_metadata, weak_scaling_runs = zip(*zipped_weak_scaling)"
   ]
  },
  {
   "cell_type": "code",
   "execution_count": 4,
   "metadata": {},
   "outputs": [
    {
     "name": "stdout",
     "output_type": "stream",
     "text": [
      "48\n"
     ]
    }
   ],
   "source": [
    "print(strong_scaling_metadata[-1]['num_rank'])"
   ]
  },
  {
   "cell_type": "code",
   "execution_count": 5,
   "metadata": {},
   "outputs": [],
   "source": [
    "###\n",
    "### extract data for plotting and normalize\n",
    "###\n",
    "\n",
    "local_ensemble_sizes = np.empty(len(metadata_strong_scaling_filenames))\n",
    "num_ranks = np.empty(len(metadata_strong_scaling_filenames))\n",
    "\n",
    "strong_scaling_times = np.empty(len(strong_scaling_filenames))\n",
    "strong_scaling_da_times = np.empty(len(strong_scaling_filenames))\n",
    "strong_scaling_forecast_times = np.empty(len(strong_scaling_filenames))\n",
    "\n",
    "for i in range(len(strong_scaling_runs)):\n",
    "    local_ensemble_sizes[i] = strong_scaling_metadata[i]['local_ensemble_size']\n",
    "    num_ranks[i] = strong_scaling_metadata[i]['num_rank']\n",
    "    \n",
    "    strong_scaling_times[i] = strong_scaling_runs[i]['total']\n",
    "    strong_scaling_da_times[i] = strong_scaling_runs[i]['data_assimilation']\n",
    "    strong_scaling_forecast_times[i] = strong_scaling_runs[i]['forecast']\n",
    "\n",
    "# normalize wrt. the single slowest run\n",
    "#max_strong_scaling_time = max(strong_scaling_times[:])\n",
    "#strong_scaling_times[:] = strong_scaling_times[:]/max_strong_scaling_time\n",
    "#strong_scaling_da_times[:] = strong_scaling_da_times[:]/max(strong_scaling_da_times[:])\n",
    "#strong_scaling_forecast_times[:] = strong_scaling_forecast_times[:]/max(strong_scaling_forecast_times[:])\n",
    "\n",
    "strong_scaling_speedup = strong_scaling_times[0]/strong_scaling_times[:]\n",
    "strong_scaling_da_speedup = strong_scaling_da_times[0]/strong_scaling_da_times[:]\n",
    "strong_scaling_forecast_speedup = strong_scaling_forecast_times[0]/strong_scaling_forecast_times[:]\n",
    "\n",
    "\n",
    "global_ensemble_sizes = np.empty(len(metadata_weak_scaling_filenames))\n",
    "num_ranks = np.empty(len(metadata_weak_scaling_filenames))\n",
    "\n",
    "weak_scaling_times = np.empty(len(weak_scaling_filenames))\n",
    "weak_scaling_da_times = np.empty(len(weak_scaling_filenames))\n",
    "weak_scaling_forecast_times = np.empty(len(weak_scaling_filenames))\n",
    "\n",
    "for i in range(len(weak_scaling_runs)):\n",
    "    global_ensemble_sizes[i] = weak_scaling_metadata[i]['global_ensemble_size']\n",
    "    num_ranks[i] = weak_scaling_metadata[i]['num_rank']\n",
    "    \n",
    "    weak_scaling_times[i] = weak_scaling_runs[i]['total']\n",
    "    weak_scaling_da_times[i] = weak_scaling_runs[i]['data_assimilation']\n",
    "    weak_scaling_forecast_times[i] = weak_scaling_runs[i]['forecast']\n",
    "\n",
    "# normalize wrt. the single slowest run\n",
    "#max_weak_scaling_time = max(weak_scaling_times[:])\n",
    "#weak_scaling_times[:] = weak_scaling_times[:]/max_weak_scaling_time\n",
    "#weak_scaling_da_times[:] = weak_scaling_da_times[:]/max(weak_scaling_da_times[:])\n",
    "#weak_scaling_forecast_times[:] = weak_scaling_forecast_times[:]/max(weak_scaling_forecast_times[:])\n",
    "\n",
    "weak_scaling_speedup = (weak_scaling_times[0]/weak_scaling_times[:])*num_ranks\n",
    "weak_scaling_da_speedup = (weak_scaling_da_times[0]/weak_scaling_da_times[:])*num_ranks\n",
    "weak_scaling_forecast_speedup = (weak_scaling_forecast_times[0]/weak_scaling_forecast_times[:])*num_ranks"
   ]
  },
  {
   "cell_type": "code",
   "execution_count": 6,
   "metadata": {},
   "outputs": [
    {
     "data": {
      "text/plain": [
       "Text(0, 0.5, 'Speedup factor')"
      ]
     },
     "execution_count": 6,
     "metadata": {},
     "output_type": "execute_result"
    },
    {
     "data": {
      "image/png": "[encoded data removed]",
      "text/plain": [
       "<Figure size 432x288 with 1 Axes>"
      ]
     },
     "metadata": {
      "needs_background": "light"
     },
     "output_type": "display_data"
    }
   ],
   "source": [
    "###\n",
    "### strong scaling plot\n",
    "###\n",
    "\n",
    "def theoretic_speed_up(nodes, serial_part):\n",
    "    return 1 / (serial_part + (1-serial_part) / nodes)\n",
    "\n",
    "plt.figure()\n",
    "\n",
    "plt.plot(np.arange(1,49), theoretic_speed_up(np.arange(1,49), 0), 'k:')\n",
    "plt.plot(np.arange(1,49), theoretic_speed_up(np.arange(1,49), 0.02), 'k:')\n",
    "\n",
    "#plt.plot(num_ranks,strong_scaling_speedup, marker='*', label='Total')\n",
    "plt.plot(num_ranks,strong_scaling_da_speedup, '--', marker='*', label='Data assimilation')\n",
    "plt.plot(num_ranks,strong_scaling_forecast_speedup, '-.', marker='.', label='Forecast')\n",
    "plt.legend()\n",
    "#plt.xlim(0,16)\n",
    "plt.xlabel('Number of processes')\n",
    "plt.ylabel('Speedup factor')"
   ]
  },
  {
   "cell_type": "code",
   "execution_count": 7,
   "metadata": {},
   "outputs": [
    {
     "data": {
      "text/plain": [
       "Text(0, 0.5, 'Scaled speedup factor')"
      ]
     },
     "execution_count": 7,
     "metadata": {},
     "output_type": "execute_result"
    },
    {
     "data": {
      "image/png": "[encoded data removed]",
      "text/plain": [
       "<Figure size 432x288 with 1 Axes>"
      ]
     },
     "metadata": {
      "needs_background": "light"
     },
     "output_type": "display_data"
    }
   ],
   "source": [
    "###\n",
    "### weak scaling plot\n",
    "###\n",
    "\n",
    "def scaled_speed_up(nodes, serial_part):\n",
    "    return serial_part + (1-serial_part) * nodes\n",
    "\n",
    "plt.figure()\n",
    "\n",
    "plt.plot(np.arange(1,49), scaled_speed_up(np.arange(1,49), 0), 'k:')\n",
    "plt.plot(np.arange(1,49), scaled_speed_up(np.arange(1,49), 0.3), 'k:')\n",
    "\n",
    "#plt.plot(num_ranks,weak_scaling_speedup, marker='*')\n",
    "plt.plot(num_ranks,weak_scaling_da_speedup, '--', marker='*', label='Data assimilation')\n",
    "plt.plot(num_ranks,weak_scaling_forecast_speedup, '-.', marker='.', label='Forecast')\n",
    "plt.legend()\n",
    "\n",
    "#plt.xlim(0,16)\n",
    "plt.xlabel('Number of processes')\n",
    "plt.ylabel('Scaled speedup factor')"
   ]
  },
  {
   "cell_type": "code",
   "execution_count": null,
   "metadata": {},
   "outputs": [],
   "source": []
  }
 ],
 "metadata": {
  "kernelspec": {
   "display_name": "Python 3",
   "language": "python",
   "name": "python3"
  },
  "language_info": {
   "codemirror_mode": {
    "name": "ipython",
    "version": 3
   },
   "file_extension": ".py",
   "mimetype": "text/x-python",
   "name": "python",
   "nbconvert_exporter": "python",
   "pygments_lexer": "ipython3",
   "version": "3.7.2"
  }
 },
 "nbformat": 4,
 "nbformat_minor": 2
}
