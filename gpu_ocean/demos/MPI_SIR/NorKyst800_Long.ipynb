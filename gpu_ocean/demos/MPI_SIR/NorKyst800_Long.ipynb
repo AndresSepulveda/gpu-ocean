{
 "cells": [
  {
   "cell_type": "markdown",
   "metadata": {},
   "source": [
    "```\n",
    "This software is a part of GPU Ocean.\n",
    "\n",
    "Copyright (C) 2019  SINTEF Digital\n",
    "\n",
    "This notebook is a prototype for all required parts of a realistic simulation\n",
    "\n",
    "This program is free software: you can redistribute it and/or modify\n",
    "it under the terms of the GNU General Public License as published by\n",
    "the Free Software Foundation, either version 3 of the License, or\n",
    "(at your option) any later version.\n",
    "\n",
    "This program is distributed in the hope that it will be useful,\n",
    "but WITHOUT ANY WARRANTY; without even the implied warranty of\n",
    "MERCHANTABILITY or FITNESS FOR A PARTICULAR PURPOSE.  See the\n",
    "GNU General Public License for more details.\n",
    "\n",
    "You should have received a copy of the GNU General Public License\n",
    "along with this program.  If not, see <http://www.gnu.org/licenses/>.\n",
    "```"
   ]
  },
  {
   "cell_type": "code",
   "execution_count": null,
   "metadata": {},
   "outputs": [],
   "source": [
    "#Lets have matplotlib \"inline\"\n",
    "%matplotlib inline\n",
    "#%config InlineBackend.figure_format = 'retina'\n",
    "\n",
    "import os\n",
    "import sys\n",
    "\n",
    "#Import packages we need\n",
    "import numpy as np\n",
    "from netCDF4 import Dataset\n",
    "\n",
    "#Helpful during development\n",
    "import importlib\n",
    "#importlib.reload(module)\n",
    "\n",
    "import datetime\n",
    "\n",
    "from IPython.display import display\n",
    "\n",
    "from matplotlib import pyplot as plt\n",
    "#Set large figure sizes\n",
    "#plt.rcParams[\"animation.html\"] = \"jshtml\" #Javascript \n",
    "plt.rcParams[\"animation.html\"] = \"html5\" #mp4\n",
    "plt.rcParams[\"figure.dpi\"] = 100.0 #highres movies/plots\n",
    "\n",
    "plt.rcParams[\"animation.writer\"] = 'ffmpeg' \n",
    "plt.rcParams[\"animation.codec\"] = 'h264' \n",
    "\n",
    "plt.rcParams[\"text.usetex\"] = True\n",
    "plt.rcParams[\"font.family\"] = 'serif'"
   ]
  },
  {
   "cell_type": "code",
   "execution_count": null,
   "metadata": {},
   "outputs": [],
   "source": [
    "sys.path.insert(0, os.path.abspath(os.path.join(os.getcwd(), '../../')))\n",
    "\n",
    "from SWESimulators import CDKLM16, Common, IPythonMagic, NetCDFInitialization\n",
    "\n",
    "from demos.realisticSimulations import norkyst_plotting"
   ]
  },
  {
   "cell_type": "code",
   "execution_count": null,
   "metadata": {},
   "outputs": [],
   "source": [
    "%setup_logging -o lofoten_sim.log\n",
    "%cuda_context_handler gpu_ctx"
   ]
  },
  {
   "cell_type": "markdown",
   "metadata": {},
   "source": [
    "# Select area and result folder"
   ]
  },
  {
   "cell_type": "code",
   "execution_count": null,
   "metadata": {},
   "outputs": [],
   "source": [
    "importlib.reload(NetCDFInitialization)\n",
    "\n",
    "#Set this to false before comitting to only get images\n",
    "create_movie = True\n",
    "movie_frames = 200\n",
    "download_data = True\n",
    "timestep_indices = None\n",
    "\n",
    "case_name = 'lofoten'\n",
    "case = NetCDFInitialization.getCaseLocation(case_name)\n",
    "\n",
    "# Parameter to control the frequency of writing to NetCDF. Given in number of entries per hour\n",
    "netcdf_frequency = 1\n",
    "\n",
    "# How many cells to erode of land\n",
    "erode_land=1\n",
    "\n",
    "out_folder = os.path.join(datetime.date.today().isoformat(), case_name)\n",
    "\n",
    "os.makedirs(out_folder, exist_ok=True)\n",
    "print(\"Output will be placed in '\" + out_folder + \"'\")"
   ]
  },
  {
   "cell_type": "markdown",
   "metadata": {},
   "source": [
    "# Inspect URL and select area"
   ]
  },
  {
   "cell_type": "code",
   "execution_count": null,
   "metadata": {},
   "outputs": [],
   "source": [
    "norkyst800_url = 'https://thredds.met.no/thredds/dodsC/fou-hi/norkyst800m-1h/NorKyst-800m_ZDEPTHS_his.an.2019071600.nc'\n",
    "\n",
    "url_list = [\n",
    "    'https://thredds.met.no/thredds/dodsC/fou-hi/norkyst800m-1h/NorKyst-800m_ZDEPTHS_his.an.2019071600.nc',\n",
    "    'https://thredds.met.no/thredds/dodsC/fou-hi/norkyst800m-1h/NorKyst-800m_ZDEPTHS_his.an.2019071700.nc',\n",
    "    'https://thredds.met.no/thredds/dodsC/fou-hi/norkyst800m-1h/NorKyst-800m_ZDEPTHS_his.an.2019071800.nc',\n",
    "    'https://thredds.met.no/thredds/dodsC/fou-hi/norkyst800m-1h/NorKyst-800m_ZDEPTHS_his.an.2019071900.nc',\n",
    "    'https://thredds.met.no/thredds/dodsC/fou-hi/norkyst800m-1h/NorKyst-800m_ZDEPTHS_his.an.2019072000.nc'\n",
    "]\n",
    "\n",
    "\n",
    "print('url_list: ', url_list)"
   ]
  },
  {
   "cell_type": "markdown",
   "metadata": {},
   "source": [
    "# Helpers for plotting and running simulation"
   ]
  },
  {
   "cell_type": "code",
   "execution_count": null,
   "metadata": {},
   "outputs": [],
   "source": [
    "def ncSimulation(sim, filename, timesteps, interior_domain_only, num_substeps=3, force_run=False):\n",
    "    if (os.path.isfile(filename) and not force_run):\n",
    "        print(\"File \" + filename + \" already exists, skipping simulation.\")\n",
    "        return\n",
    "    \n",
    "    try:\n",
    "        ncfile = Dataset(filename, 'w')\n",
    "\n",
    "        var = {}\n",
    "        var['eta'], var['hu'], var['hv'] = sim.download(interior_domain_only=interior_domain_only)\n",
    "        _, var['Hm'] = sim.downloadBathymetry(interior_domain_only=interior_domain_only)\n",
    "\n",
    "        ny, nx = var['eta'].shape\n",
    "\n",
    "        # Create dimensions\n",
    "        ncfile.createDimension('time', None) # unlimited\n",
    "        ncfile.createDimension('x', nx)\n",
    "        ncfile.createDimension('y', ny)\n",
    "\n",
    "        ncvar = {}\n",
    "\n",
    "        # Create variables for dimensions\n",
    "        ncvar['time'] = ncfile.createVariable('time', 'f8', ('time',))\n",
    "        ncvar['x'] = ncfile.createVariable('x', 'f4', ('x',))\n",
    "        ncvar['y'] = ncfile.createVariable('y', 'f4', ('y',))\n",
    "\n",
    "        # Fill dimension variables\n",
    "        ncvar['x'][:] = np.linspace(0, nx*sim.dx, nx)\n",
    "        ncvar['y'][:] = np.linspace(0, ny*sim.dy, ny)\n",
    "\n",
    "        # Create static variables\n",
    "        ncvar['Hm'] = ncfile.createVariable('Hm', 'f8', ('y', 'x',), zlib=True)\n",
    "        ncvar['Hm'][:,:] = var['Hm'][:,:]\n",
    "\n",
    "        # Create time varying data variables\n",
    "        for varname in ['eta', 'hu', 'hv']:\n",
    "            ncvar[varname] = ncfile.createVariable(varname, 'f8', ('time', 'y', 'x',), zlib=True)\n",
    "        ncvar['num_iterations'] = ncfile.createVariable('num_iterations', 'i4', ('time',))\n",
    "\n",
    "        #Simulate n timesteps\n",
    "        timestep_sizes = timesteps[1:] - timesteps[:-1]        \n",
    "        timestep_sizes = np.insert(timestep_sizes, 0, 0)\n",
    "\n",
    "        progress = Common.ProgressPrinter(5)\n",
    "        pp = display(progress.getPrintString(0), display_id=True)\n",
    "        for i, timestep_size in enumerate(timestep_sizes):\n",
    "            #Don't simulate if first step (store initial conditions also)\n",
    "            if (timestep_size > 0):\n",
    "                substep_size = timestep_size / num_substeps\n",
    "                for j in range(num_substeps):\n",
    "                    sim.updateDt()\n",
    "                    sim.step(substep_size)\n",
    "\n",
    "            var['eta'], var['hu'], var['hv'] = sim.download(interior_domain_only=False)\n",
    "            ncvar['time'][i] = sim.t\n",
    "            ncvar['num_iterations'][i] = sim.num_iterations\n",
    "\n",
    "            abort=False\n",
    "            for varname in ['eta', 'hu', 'hv']:\n",
    "                ncvar[varname][i,:,:] = var[varname][:,:] #np.ma.masked_invalid(var[varname][:,:])\n",
    "                if (np.any(np.isnan(var[varname]))):\n",
    "                    print(\"Variable \" + varname + \" contains NaN values!\")\n",
    "                    abort=True\n",
    "\n",
    "            if (abort):\n",
    "                print(\"Aborting at t=\" + str(sim.t))\n",
    "                ncfile.sync()\n",
    "                break\n",
    "\n",
    "            pp.update(progress.getPrintString(i/(len(timestep_sizes)-1)))\n",
    "\n",
    "    except Exception as e:\n",
    "        print(\"Something went wrong:\" + str(e))\n",
    "        raise e\n",
    "    finally:\n",
    "        ncfile.close()"
   ]
  },
  {
   "cell_type": "markdown",
   "metadata": {},
   "source": [
    "# Plot reference solution"
   ]
  },
  {
   "cell_type": "code",
   "execution_count": null,
   "metadata": {},
   "outputs": [],
   "source": [
    "url_list[0]"
   ]
  },
  {
   "cell_type": "code",
   "execution_count": null,
   "metadata": {
    "scrolled": false
   },
   "outputs": [],
   "source": [
    "importlib.reload(norkyst_plotting)\n",
    "norkyst_plotting.refAnimation(url_list, case,\n",
    "         movie_frames=movie_frames, \n",
    "         timestep_indices=timestep_indices, \n",
    "         create_movie=create_movie,\n",
    "         fig=plt.figure(figsize=(18,16)),\n",
    "         h_max=0.8, h_min=-0.8, \n",
    "         uv_max=75, uv_min=-75, \n",
    "         add_extra=2,\n",
    "         rotate=True, \n",
    "         downsample=4)"
   ]
  },
  {
   "cell_type": "markdown",
   "metadata": {},
   "source": [
    "# Run original resolution simulation"
   ]
  },
  {
   "cell_type": "code",
   "execution_count": null,
   "metadata": {},
   "outputs": [],
   "source": [
    "# Set initial conditions \n",
    "sim_args = {\n",
    "    \"gpu_ctx\": gpu_ctx,\n",
    "    \"dt\": 0.0,\n",
    "    \"rk_order\": 2,\n",
    "    \"desingularization_eps\": 1.0\n",
    "}"
   ]
  },
  {
   "cell_type": "code",
   "execution_count": null,
   "metadata": {},
   "outputs": [],
   "source": [
    "importlib.reload(NetCDFInitialization)\n",
    "\n",
    "data_args = NetCDFInitialization.getInitialConditionsNorKystCases(url_list, 'lofoten', \n",
    "                                                                  timestep_indices=None, #timestep_indices[9],\n",
    "                                                                  erode_land=erode_land,\n",
    "                                                                  download_data=False)\n",
    "\n",
    "print(data_args['timesteps']/3600)\n",
    "print(data_args['note'])\n",
    "print(data_args['wind_stress'].t/3600)\n",
    "print(data_args['boundary_conditions_data'].t/3600)"
   ]
  },
  {
   "cell_type": "code",
   "execution_count": null,
   "metadata": {},
   "outputs": [],
   "source": [
    "    \n",
    "norkyst_plotting.animateWind(data_args['wind_stress'], create_movie=create_movie)"
   ]
  },
  {
   "cell_type": "code",
   "execution_count": null,
   "metadata": {},
   "outputs": [],
   "source": [
    "\n",
    "norkyst_plotting.bcAnimation(data_args['boundary_conditions_data'], \n",
    "                             case['x0'], case['x1'], case['y0'], case['y1'], create_movie=create_movie)"
   ]
  },
  {
   "cell_type": "code",
   "execution_count": null,
   "metadata": {
    "scrolled": true
   },
   "outputs": [],
   "source": [
    "\n",
    "#Add substeps for netcdf\n",
    "if netcdf_frequency > 1:    \n",
    "    n_timesteps = len(data_args['timesteps'])\n",
    "    x = np.linspace(0, 1, n_timesteps)\n",
    "    y = data_args['timesteps']\n",
    "    x_interp = np.linspace(0, 1, n_timesteps*netcdf_frequency)\n",
    "    y_interp = np.interp(x_interp, x, y)\n",
    "    data_args['timesteps'] = y_interp\n",
    "\n",
    "importlib.reload(CDKLM16)\n",
    "sim = CDKLM16.CDKLM16(**sim_args, **NetCDFInitialization.removeMetadata(data_args))\n",
    "\n",
    "original_filename = os.path.join(out_folder, case_name + \"_original.nc\")\n",
    "ncSimulation(sim=sim, \n",
    "             filename=original_filename,\n",
    "             timesteps=data_args['timesteps'],\n",
    "             interior_domain_only=False)"
   ]
  },
  {
   "cell_type": "code",
   "execution_count": null,
   "metadata": {
    "scrolled": false
   },
   "outputs": [],
   "source": [
    "norkyst_plotting.ncAnimation(original_filename,\n",
    "             title=\"original $t_0$=\" + datetime.datetime.fromtimestamp(data_args['t0']).isoformat(timespec='seconds'),\n",
    "             movie_frames=movie_frames, \n",
    "             create_movie=create_movie,\n",
    "             fig=plt.figure(figsize=(18,16)),\n",
    "             h_max=0.8, h_min=-0.8, \n",
    "             uv_max=75, uv_min=-75, \n",
    "             add_extra=2,\n",
    "             rotate=True, \n",
    "             downsample=2)"
   ]
  },
  {
   "cell_type": "code",
   "execution_count": null,
   "metadata": {},
   "outputs": [],
   "source": []
  },
  {
   "cell_type": "code",
   "execution_count": null,
   "metadata": {},
   "outputs": [],
   "source": []
  },
  {
   "cell_type": "code",
   "execution_count": null,
   "metadata": {},
   "outputs": [],
   "source": []
  }
 ],
 "metadata": {
  "kernelspec": {
   "display_name": "Python [conda env:gpuocean] *",
   "language": "python",
   "name": "conda-env-gpuocean-py"
  },
  "language_info": {
   "codemirror_mode": {
    "name": "ipython",
    "version": 3
   },
   "file_extension": ".py",
   "mimetype": "text/x-python",
   "name": "python",
   "nbconvert_exporter": "python",
   "pygments_lexer": "ipython3",
   "version": "3.6.7"
  }
 },
 "nbformat": 4,
 "nbformat_minor": 4
}
