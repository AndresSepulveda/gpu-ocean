{
 "cells": [
  {
   "cell_type": "markdown",
   "metadata": {},
   "source": [
    "```\n",
    "This software is a part of GPU Ocean.\n",
    "\n",
    "Copyright (C) 2019  SINTEF Digital\n",
    "\n",
    "This notebook takes drifter positions from OpenDrift into an\n",
    "Observation file.\n",
    "\n",
    "This program is free software: you can redistribute it and/or modify\n",
    "it under the terms of the GNU General Public License as published by\n",
    "the Free Software Foundation, either version 3 of the License, or\n",
    "(at your option) any later version.\n",
    "\n",
    "This program is distributed in the hope that it will be useful,\n",
    "but WITHOUT ANY WARRANTY; without even the implied warranty of\n",
    "MERCHANTABILITY or FITNESS FOR A PARTICULAR PURPOSE.  See the\n",
    "GNU General Public License for more details.\n",
    "\n",
    "You should have received a copy of the GNU General Public License\n",
    "along with this program.  If not, see <http://www.gnu.org/licenses/>.\n",
    "```"
   ]
  },
  {
   "cell_type": "code",
   "execution_count": 1,
   "metadata": {},
   "outputs": [],
   "source": [
    "#Lets have matplotlib \"inline\"\n",
    "%matplotlib inline\n",
    "#%config InlineBackend.figure_format = 'retina'\n",
    "\n",
    "import os\n",
    "import sys\n",
    "\n",
    "#Import packages we need\n",
    "import numpy as np\n",
    "from netCDF4 import Dataset\n",
    "\n",
    "#Helpful during development\n",
    "import importlib\n",
    "#importlib.reload(module)\n",
    "\n",
    "import datetime\n",
    "\n",
    "from IPython.display import display\n",
    "\n",
    "import matplotlib\n",
    "from matplotlib import pyplot as plt\n",
    "from matplotlib import animation, rc\n",
    "\n",
    "\n",
    "#Set large figure sizes\n",
    "#plt.rcParams[\"animation.html\"] = \"jshtml\" #Javascript \n",
    "plt.rcParams[\"animation.html\"] = \"html5\" #mp4\n",
    "plt.rcParams[\"figure.dpi\"] = 100.0 #highres movies/plots\n",
    "\n",
    "plt.rcParams[\"animation.writer\"] = 'ffmpeg' \n",
    "plt.rcParams[\"animation.codec\"] = 'h264' \n",
    "\n",
    "plt.rcParams[\"text.usetex\"] = True\n",
    "plt.rcParams[\"font.family\"] = 'serif'"
   ]
  },
  {
   "cell_type": "code",
   "execution_count": 2,
   "metadata": {},
   "outputs": [],
   "source": [
    "sys.path.insert(0, os.path.abspath(os.path.join(os.getcwd(), '../../')))\n",
    "\n",
    "from SWESimulators import CDKLM16, Common, IPythonMagic, NetCDFInitialization\n",
    "from SWESimulators import GPUDrifterCollection, Observation\n",
    "from SWESimulators import DataAssimilationUtils as dautils\n",
    "\n",
    "from demos.realisticSimulations import norkyst_plotting\n"
   ]
  },
  {
   "cell_type": "code",
   "execution_count": 3,
   "metadata": {},
   "outputs": [],
   "source": [
    "%cuda_context_handler gpu_ctx"
   ]
  },
  {
   "cell_type": "markdown",
   "metadata": {},
   "source": [
    "# Select area and result folder"
   ]
  },
  {
   "cell_type": "code",
   "execution_count": 4,
   "metadata": {},
   "outputs": [
    {
     "name": "stdout",
     "output_type": "stream",
     "text": [
      "Output will be placed in '2019-12-03/lovese'\n"
     ]
    }
   ],
   "source": [
    "# How many cells to erode of land\n",
    "erode_land=1\n",
    "\n",
    "sponge_cell_num = 40\n",
    "sponge_cells = {'north': sponge_cell_num, 'south': sponge_cell_num, 'east': sponge_cell_num, 'west': sponge_cell_num}\n",
    "\n",
    "case_name = 'lovese'\n",
    "\n",
    "out_folder = os.path.join(datetime.date.today().isoformat(), case_name)\n",
    "\n",
    "os.makedirs(out_folder, exist_ok=True)\n",
    "print(\"Output will be placed in '\" + out_folder + \"'\")"
   ]
  },
  {
   "cell_type": "markdown",
   "metadata": {},
   "source": [
    "# Inspect URL and select area"
   ]
  },
  {
   "cell_type": "code",
   "execution_count": 5,
   "metadata": {},
   "outputs": [
    {
     "name": "stdout",
     "output_type": "stream",
     "text": [
      "['https://thredds.met.no/thredds/dodsC/fou-hi/norkyst800m-1h/NorKyst-800m_ZDEPTHS_his.an.2019071600.nc']\n"
     ]
    }
   ],
   "source": [
    "norkyst800_url = [\n",
    "    'https://thredds.met.no/thredds/dodsC/fou-hi/norkyst800m-1h/NorKyst-800m_ZDEPTHS_his.an.2019071600.nc',\n",
    "    'https://thredds.met.no/thredds/dodsC/fou-hi/norkyst800m-1h/NorKyst-800m_ZDEPTHS_his.an.2019071700.nc',\n",
    "    'https://thredds.met.no/thredds/dodsC/fou-hi/norkyst800m-1h/NorKyst-800m_ZDEPTHS_his.an.2019071800.nc',\n",
    "    'https://thredds.met.no/thredds/dodsC/fou-hi/norkyst800m-1h/NorKyst-800m_ZDEPTHS_his.an.2019071900.nc',\n",
    "    'https://thredds.met.no/thredds/dodsC/fou-hi/norkyst800m-1h/NorKyst-800m_ZDEPTHS_his.an.2019072000.nc',\n",
    "    'https://thredds.met.no/thredds/dodsC/fou-hi/norkyst800m-1h/NorKyst-800m_ZDEPTHS_his.an.2019072100.nc'\n",
    "]\n",
    "source_url = norkyst800_url\n",
    "\n",
    "required_num_files = np.int(np.floor(3 / 24)) + 1\n",
    "print(norkyst800_url[:required_num_files])"
   ]
  },
  {
   "cell_type": "markdown",
   "metadata": {},
   "source": [
    "### Load relevant variables"
   ]
  },
  {
   "cell_type": "code",
   "execution_count": 6,
   "metadata": {},
   "outputs": [],
   "source": [
    "\n",
    "case_location = NetCDFInitialization.getCaseLocation(case_name)\n",
    "x0 = case_location['x0']\n",
    "x1 = case_location['x1']\n",
    "y0 = case_location['y0']\n",
    "y1 = case_location['y1']\n",
    "\n",
    "try:\n",
    "    ncfile = Dataset(source_url[0])\n",
    "    X = ncfile.variables['X'][:]#[x0:x1]\n",
    "    Y = ncfile.variables['Y'][:]#[y0:y1]\n",
    "except Exception as e:\n",
    "    raise e\n",
    "finally:\n",
    "    ncfile.close()"
   ]
  },
  {
   "cell_type": "markdown",
   "metadata": {},
   "source": [
    "We need to transform the positions into the domain defined by our chosen case.\n",
    "\n",
    "Note also that we need to remove extra two cells, as the internal representation of drifter positions are on the domain ***without*** ghost cells."
   ]
  },
  {
   "cell_type": "code",
   "execution_count": 7,
   "metadata": {},
   "outputs": [
    {
     "name": "stdout",
     "output_type": "stream",
     "text": [
      "<class 'numpy.ma.core.MaskedArray'>\n",
      "0.0 2080800.0\n",
      "2602 2601.0\n"
     ]
    }
   ],
   "source": [
    "print(type(X))\n",
    "print(X[0], X[-1])\n",
    "print(len(X), X[-1]/800)\n",
    "\n",
    "\n",
    "x_zero_ref = X[x0+2]\n",
    "y_zero_ref = Y[y0+2]\n",
    "\n",
    "domain_size_x = (x1-x0-4)*800\n",
    "domain_size_y = (y1-y0-4)*800"
   ]
  },
  {
   "cell_type": "markdown",
   "metadata": {},
   "source": [
    "### Load the opendrift data:"
   ]
  },
  {
   "cell_type": "code",
   "execution_count": 8,
   "metadata": {},
   "outputs": [
    {
     "name": "stdout",
     "output_type": "stream",
     "text": [
      "(1717,)\n",
      "x <class 'numpy.ma.core.MaskedArray'> (400, 1717)\n",
      "y <class 'numpy.ma.core.MaskedArray'> (400, 1717)\n"
     ]
    }
   ],
   "source": [
    "t, x, y = np.load('t_x_y_from_opendrift.npy', allow_pickle=True)\n",
    "print(t.shape)\n",
    "print('x', type(x), x.shape )\n",
    "print('y', type(y), y.shape )\n",
    "\n",
    "#print(x.mask)\n",
    "#print(x.shape)\n",
    "\n",
    "#print(x[:,-1])"
   ]
  },
  {
   "cell_type": "code",
   "execution_count": 9,
   "metadata": {},
   "outputs": [
    {
     "name": "stdout",
     "output_type": "stream",
     "text": [
      "(252, 1717) (252, 1717)\n"
     ]
    }
   ],
   "source": [
    "# Drop drifters that hit land\n",
    "x = np.ma.compress_rows(np.ma.masked_invalid(x))\n",
    "y = np.ma.compress_rows(np.ma.masked_invalid(y))\n",
    "print(x.shape, y.shape)\n"
   ]
  },
  {
   "cell_type": "markdown",
   "metadata": {},
   "source": [
    "Fit into our domain"
   ]
  },
  {
   "cell_type": "code",
   "execution_count": 10,
   "metadata": {},
   "outputs": [],
   "source": [
    "x = x - x_zero_ref\n",
    "y = y - y_zero_ref"
   ]
  },
  {
   "cell_type": "markdown",
   "metadata": {},
   "source": [
    "Create a mask to find the drifters that is not entirely within our domain"
   ]
  },
  {
   "cell_type": "code",
   "execution_count": 11,
   "metadata": {},
   "outputs": [
    {
     "name": "stdout",
     "output_type": "stream",
     "text": [
      "34161 0 432684\n",
      "34161\n",
      "4899.378988521406 634122.8939919828 504000\n",
      "13807.2012285206 461719.551418677 252000\n",
      "(229, 1717) (229, 1717)\n"
     ]
    }
   ],
   "source": [
    "# Start by those that are outside the domain in the negative direction\n",
    "\n",
    "x = np.ma.masked_array(x, x < 0)\n",
    "y = np.ma.masked_array(y, y < 0)\n",
    "\n",
    "print(x.mask.sum(), y.mask.sum(), x.shape[0]*x.shape[1])\n",
    "\n",
    "\n",
    "\n",
    "#neg_mask = np.logical_not(y.mask) & np.logical_not(x.mask)\n",
    "#neg_mask = np.logical_not(np.logical_and(np.logical_not(y.mask), np.logical_not(x.mask)))\n",
    "neg_mask = np.logical_or(y.mask, x.mask)\n",
    "print(neg_mask.sum())\n",
    "\n",
    "\n",
    "x.mask = neg_mask\n",
    "y.mask = neg_mask\n",
    "\n",
    "x = np.ma.compress_rows(np.ma.masked_invalid(x))\n",
    "y = np.ma.compress_rows(np.ma.masked_invalid(y))\n",
    "\n",
    "print(x.min(), x.max(), domain_size_x)\n",
    "print(y.min(), y.max(), domain_size_y)\n",
    "#print(x.mask.sum(), y.mask.sum(), x.shape[0]*x.shape[1])\n",
    "\n",
    "print(x.shape, y.shape)\n"
   ]
  },
  {
   "cell_type": "code",
   "execution_count": 12,
   "metadata": {},
   "outputs": [
    {
     "name": "stdout",
     "output_type": "stream",
     "text": [
      "47277 145265 393193\n",
      "191962\n",
      "4899.378988521406 503806.2295244683 504000\n",
      "13807.2012285206 251838.53178002848 252000\n",
      "(111, 1717) (111, 1717)\n"
     ]
    }
   ],
   "source": [
    "# Then fix those that are outside in positive direction\n",
    "\n",
    "x = np.ma.masked_array(x, x > domain_size_x)\n",
    "y = np.ma.masked_array(y, y > domain_size_y)\n",
    "\n",
    "print(x.mask.sum(), y.mask.sum(), x.shape[0]*x.shape[1])\n",
    "\n",
    "\n",
    "\n",
    "#neg_mask = np.logical_not(y.mask) & np.logical_not(x.mask)\n",
    "#neg_mask = np.logical_not(np.logical_and(np.logical_not(y.mask), np.logical_not(x.mask)))\n",
    "neg_mask = np.logical_or(y.mask, x.mask)\n",
    "print(neg_mask.sum())\n",
    "\n",
    "\n",
    "x.mask = neg_mask\n",
    "y.mask = neg_mask\n",
    "\n",
    "x = np.ma.compress_rows(np.ma.masked_invalid(x))\n",
    "y = np.ma.compress_rows(np.ma.masked_invalid(y))\n",
    "\n",
    "print(x.min(), x.max(), domain_size_x)\n",
    "print(y.min(), y.max(), domain_size_y)\n",
    "#print(x.mask.sum(), y.mask.sum(), x.shape[0]*x.shape[1])\n",
    "\n",
    "print(x.shape, y.shape)\n"
   ]
  },
  {
   "cell_type": "markdown",
   "metadata": {},
   "source": [
    "The remaining drifters should now all be completely within the wet part of the domain. "
   ]
  },
  {
   "cell_type": "markdown",
   "metadata": {},
   "source": [
    "### Create a sim, just for convenience of providing parameters to the Observation"
   ]
  },
  {
   "cell_type": "code",
   "execution_count": 13,
   "metadata": {},
   "outputs": [
    {
     "name": "stderr",
     "output_type": "stream",
     "text": [
      "This will give inaccurate angle along the border!\n",
      "This will give inaccurate coriolis along the border!\n"
     ]
    },
    {
     "name": "stdout",
     "output_type": "stream",
     "text": [
      "num_drifters: 8\n"
     ]
    }
   ],
   "source": [
    "# Set initial conditions \n",
    "sim_args = {\n",
    "    \"gpu_ctx\": gpu_ctx,\n",
    "    \"dt\": 0.0,\n",
    "    \"rk_order\": 2,\n",
    "    \"desingularization_eps\": 1.0,\n",
    "    \"write_netcdf\": True,\n",
    "    \"model_time_step\": 60\n",
    "}\n",
    "\n",
    "data_args = NetCDFInitialization.getInitialConditionsNorKystCases(source_url[0], case_name,\n",
    "                                                                  timestep_indices=None,\n",
    "                                                                  erode_land=erode_land,\n",
    "                                                                  sponge_cells=sponge_cells,\n",
    "                                                                  download_data=False)\n",
    "\n",
    "sim = CDKLM16.CDKLM16(**sim_args, \n",
    "                      **NetCDFInitialization.removeMetadata(data_args))\n",
    "\n",
    "# Some hard coded positions that are not on land\n",
    "drifter_positions=np.array([[ 50, 110],\n",
    "                            [110, 110],\n",
    "                            [170, 110],\n",
    "                            [290, 115],\n",
    "                            [410, 115],\n",
    "                            [470, 120],\n",
    "                            [ 50, 155],\n",
    "                            [200, 165]\n",
    "                            ], dtype=np.float32)\n",
    "num_drifters = drifter_positions.shape[0]\n",
    "print('num_drifters: ' + str(num_drifters))\n",
    "\n",
    "drifters = GPUDrifterCollection.GPUDrifterCollection(gpu_ctx, num_drifters,\n",
    "                                                     domain_size_x=sim.nx*sim.dx,\n",
    "                                                     domain_size_y=sim.ny*sim.dy)\n",
    "drifters.setDrifterPositions(drifter_positions*1000)\n",
    "\n",
    "sim.attachDrifters(drifters)"
   ]
  },
  {
   "cell_type": "code",
   "execution_count": 14,
   "metadata": {},
   "outputs": [
    {
     "data": {
      "text/plain": [
       "(8, 2)"
      ]
     },
     "execution_count": 14,
     "metadata": {},
     "output_type": "execute_result"
    }
   ],
   "source": [
    "sim.drifters.getDrifterPositions().shape"
   ]
  },
  {
   "cell_type": "markdown",
   "metadata": {},
   "source": [
    "### Create observation file and feed in the open drift results"
   ]
  },
  {
   "cell_type": "code",
   "execution_count": 15,
   "metadata": {},
   "outputs": [],
   "source": [
    "#--------------------------------------------------------------\n",
    "# Create observation object and write the first drifter positions\n",
    "#--------------------------------------------------------------\n",
    "observations = Observation.Observation(domain_size_x = sim.nx*sim.dx,\n",
    "                                       domain_size_y = sim.ny*sim.dy,\n",
    "                                       nx=sim.nx, ny=sim.ny,\n",
    "                                       land_mask=sim.getLandMask())"
   ]
  },
  {
   "cell_type": "code",
   "execution_count": 16,
   "metadata": {},
   "outputs": [
    {
     "name": "stdout",
     "output_type": "stream",
     "text": [
      "Empty DataFrame\n",
      "Columns: [time, drifter_positions, drifter_obs_errors, buoy_observations, buoy_positions, buoy_obs_errors]\n",
      "Index: []\n"
     ]
    }
   ],
   "source": [
    "print(observations.obs_df)"
   ]
  },
  {
   "cell_type": "code",
   "execution_count": 17,
   "metadata": {},
   "outputs": [],
   "source": [
    "\n",
    "observations.add_observations_from_arrays(t, x, y)"
   ]
  },
  {
   "cell_type": "code",
   "execution_count": 18,
   "metadata": {},
   "outputs": [
    {
     "data": {
      "text/plain": [
       "(111, 1717)"
      ]
     },
     "execution_count": 18,
     "metadata": {},
     "output_type": "execute_result"
    }
   ],
   "source": [
    "observations.get_num_drifters(), observations.get_num_observations()"
   ]
  },
  {
   "cell_type": "code",
   "execution_count": 19,
   "metadata": {},
   "outputs": [
    {
     "data": {
      "text/plain": [
       "array([3.000e+02, 6.000e+02, 9.000e+02, ..., 5.142e+05, 5.145e+05,\n",
       "       5.148e+05])"
      ]
     },
     "execution_count": 19,
     "metadata": {},
     "output_type": "execute_result"
    }
   ],
   "source": [
    "observations.get_observation_times()"
   ]
  },
  {
   "cell_type": "code",
   "execution_count": null,
   "metadata": {},
   "outputs": [],
   "source": []
  },
  {
   "cell_type": "code",
   "execution_count": null,
   "metadata": {},
   "outputs": [],
   "source": []
  },
  {
   "cell_type": "code",
   "execution_count": null,
   "metadata": {},
   "outputs": [],
   "source": []
  },
  {
   "cell_type": "code",
   "execution_count": null,
   "metadata": {},
   "outputs": [],
   "source": []
  },
  {
   "cell_type": "code",
   "execution_count": 20,
   "metadata": {},
   "outputs": [],
   "source": [
    "\n",
    "#store observation file\n",
    "observation_filename = 'opendrift_observations_'+datetime.datetime.now().strftime(\"%H_%M_%S\")+'.pickle'\n",
    "observations.to_pickle(os.path.join(out_folder, observation_filename))\n",
    "\n"
   ]
  },
  {
   "cell_type": "code",
   "execution_count": null,
   "metadata": {},
   "outputs": [],
   "source": []
  },
  {
   "cell_type": "code",
   "execution_count": null,
   "metadata": {},
   "outputs": [],
   "source": []
  },
  {
   "cell_type": "code",
   "execution_count": null,
   "metadata": {},
   "outputs": [],
   "source": []
  },
  {
   "cell_type": "code",
   "execution_count": null,
   "metadata": {},
   "outputs": [],
   "source": []
  },
  {
   "cell_type": "markdown",
   "metadata": {},
   "source": [
    "# Read observation file and plot some results"
   ]
  },
  {
   "cell_type": "code",
   "execution_count": 21,
   "metadata": {},
   "outputs": [],
   "source": [
    "importlib.reload(Observation)\n",
    "\n",
    "obs = Observation.Observation(observation_type=dautils.ObservationType.UnderlyingFlow,\n",
    "                              domain_size_x=sim.nx*sim.dx, domain_size_y=sim.ny*sim.dx,\n",
    "                              nx=sim.nx, ny=sim.ny,\n",
    "                              land_mask=sim.getLandMask())\n",
    "obs.read_pickle(os.path.join(out_folder, observation_filename))"
   ]
  },
  {
   "cell_type": "code",
   "execution_count": 22,
   "metadata": {},
   "outputs": [
    {
     "name": "stdout",
     "output_type": "stream",
     "text": [
      "num drifters (ignoring buoys) 111\n"
     ]
    }
   ],
   "source": [
    "end_t = obs.get_observation_times()[-1]\n",
    "\n",
    "num_drifters = obs.get_num_drifters(ignoreBuoys=True)\n",
    "print('num drifters (ignoring buoys)', num_drifters)\n",
    "drifter_paths = [None]*num_drifters\n",
    "for i in range(num_drifters):\n",
    "    drifter_paths[i] = obs.get_drifter_path(i, 0, end_t)"
   ]
  },
  {
   "cell_type": "code",
   "execution_count": 23,
   "metadata": {},
   "outputs": [
    {
     "data": {
      "image/png": "[encoded data removed]",
      "text/plain": [
       "<Figure size 504x504 with 1 Axes>"
      ]
     },
     "metadata": {
      "needs_background": "light"
     },
     "output_type": "display_data"
    }
   ],
   "source": [
    "def forecastPlot(ax, true_paths, ensemble_paths, color_id=0, \n",
    "                 forecast_point_size=2, truth_point_size=6, mean_paths=[None]):\n",
    "    \"\"\"\n",
    "    ax: Axis object to draw trajectories in\n",
    "    true_path: A single list of paths that represents the truth\n",
    "    ensemble_paths: Multiple lists of paths that represents the forecast\n",
    "    color_id: integer representing a pre-defined color combination.\n",
    "    \"\"\"\n",
    "\n",
    "    color_combinations = [\n",
    "        # [true color, forecast color]\n",
    "        #['xkcd:dark grey blue', 'xkcd:light blue grey', 'xkcd:wine'],\n",
    "        ['xkcd:scarlet', 'xkcd:light blue grey', 'xkcd:dark grey blue'],\n",
    "        ['xkcd:viridian', 'xkcd:foam green']\n",
    "    ]\n",
    "    \n",
    "    assert(color_id < len(color_combinations)), 'Invalid color_id'\n",
    "    \n",
    "    true_color = color_combinations[color_id][0]\n",
    "    forecast_color = color_combinations[color_id][1]\n",
    "    mean_color = color_combinations[color_id][2]\n",
    "\n",
    "    # Plot forecast paths \n",
    "    for paths in ensemble_paths:\n",
    "        for path in paths:\n",
    "            ax.plot(path[:,0], path[:,1], color=forecast_color, alpha=0.3)\n",
    "        \n",
    "        # Mark end position of forecast\n",
    "        end_position   = paths[-1][-1,:]\n",
    "        circ_end_forecast = matplotlib.patches.Circle((end_position[0], end_position[1]), \n",
    "                                                      forecast_point_size, \n",
    "                                                      fill=False, zorder=10,\n",
    "                                                      alpha=0.7)\n",
    "        ax.add_patch(circ_end_forecast)\n",
    "\n",
    "    \n",
    "    # Plot true path\n",
    "    for path in true_paths:\n",
    "        ax.plot(path[:,0], path[:,1], color=true_color, zorder=5)\n",
    "    \n",
    "    # Plot mean path\n",
    "    if mean_paths[0] is not None:\n",
    "        for path in mean_paths:\n",
    "            ax.plot(path[:,0], path[:,1], color=mean_color, zorder=6)\n",
    "    \n",
    "    # Mark start and end of true path\n",
    "    start_pos = true_paths[0][0,:]\n",
    "    end_pos   = true_paths[-1][-1,:]\n",
    "    circ_start = matplotlib.patches.Circle((start_pos[0], start_pos[1]), \n",
    "                                           truth_point_size,\n",
    "                                           fill=False, zorder=10)\n",
    "    ax.add_patch(circ_start)\n",
    "    #circ_end = matplotlib.patches.Circle((end_pos[0], end_pos[1]), \n",
    "    #                                     truth_point_size,\n",
    "    #                                     fill=False, zorder=10)\n",
    "    #ax.add_patch(circ_end)\n",
    "    ax.plot(end_pos[0], end_pos[1], 'x', color='k', zorder=11)\n",
    "    \n",
    "    # Mark end of mean path\n",
    "    if mean_paths[0] is not None:\n",
    "        #xend = matplotlib.patches.Circle((mean_paths[-1][-1,0], mean_paths[-1][-1,1]),\n",
    "        #                                 truth_point_size,\n",
    "        #                                 fill=False, zorder=10)\n",
    "        #ax.add_patch(xend)\n",
    "        ax.plot(mean_paths[-1][-1,0], mean_paths[-1][-1,1], \n",
    "                   marker='o', markeredgecolor='k', markerfacecolor=None)\n",
    "        \n",
    "def createForecastCanvas(observation):\n",
    "    \"\"\"\n",
    "    true_sim_reader: The SimReader object containing nx, ny, etc\n",
    "    \"\"\"   \n",
    "    \n",
    "    nx = observation.nx\n",
    "    ny = observation.ny\n",
    "    \n",
    "    fig = plt.figure(figsize=(7,7))\n",
    "    ax = plt.subplot(111)\n",
    "    \n",
    "    extent=np.array([0, observation.domain_size_x, 0, observation.domain_size_y])/1000\n",
    "    ax.imshow(observation.land_mask, origin=\"lower\", \n",
    "              extent=extent, cmap='binary')\n",
    "\n",
    "    return ax\n",
    "\n",
    "ax = createForecastCanvas(obs)\n",
    "for drifter_path in drifter_paths:\n",
    "    forecastPlot(ax, drifter_path, [], truth_point_size=1)\n",
    "    \n"
   ]
  },
  {
   "cell_type": "code",
   "execution_count": 24,
   "metadata": {},
   "outputs": [
    {
     "data": {
      "image/png": "[encoded data removed]",
      "text/plain": [
       "<Figure size 504x504 with 1 Axes>"
      ]
     },
     "metadata": {
      "needs_background": "light"
     },
     "output_type": "display_data"
    }
   ],
   "source": [
    "ax = createForecastCanvas(obs)\n",
    "\n",
    "forecastPlot(ax, drifter_paths[103], [], truth_point_size=1)\n",
    "    \n"
   ]
  },
  {
   "cell_type": "code",
   "execution_count": null,
   "metadata": {},
   "outputs": [],
   "source": []
  }
 ],
 "metadata": {
  "kernelspec": {
   "display_name": "Python 3",
   "language": "python",
   "name": "python3"
  },
  "language_info": {
   "codemirror_mode": {
    "name": "ipython",
    "version": 3
   },
   "file_extension": ".py",
   "mimetype": "text/x-python",
   "name": "python",
   "nbconvert_exporter": "python",
   "pygments_lexer": "ipython3",
   "version": "3.7.2"
  }
 },
 "nbformat": 4,
 "nbformat_minor": 4
}
