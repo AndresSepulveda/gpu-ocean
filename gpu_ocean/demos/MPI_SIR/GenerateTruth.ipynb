{
 "cells": [
  {
   "cell_type": "markdown",
   "metadata": {},
   "source": [
    "```\n",
    "This software is a part of GPU Ocean.\n",
    "\n",
    "Copyright (C) 2019  SINTEF Digital\n",
    "\n",
    "This notebook is a prototype for all required parts of a realistic simulation\n",
    "\n",
    "This program is free software: you can redistribute it and/or modify\n",
    "it under the terms of the GNU General Public License as published by\n",
    "the Free Software Foundation, either version 3 of the License, or\n",
    "(at your option) any later version.\n",
    "\n",
    "This program is distributed in the hope that it will be useful,\n",
    "but WITHOUT ANY WARRANTY; without even the implied warranty of\n",
    "MERCHANTABILITY or FITNESS FOR A PARTICULAR PURPOSE.  See the\n",
    "GNU General Public License for more details.\n",
    "\n",
    "You should have received a copy of the GNU General Public License\n",
    "along with this program.  If not, see <http://www.gnu.org/licenses/>.\n",
    "```"
   ]
  },
  {
   "cell_type": "code",
   "execution_count": 1,
   "metadata": {},
   "outputs": [],
   "source": [
    "#Lets have matplotlib \"inline\"\n",
    "%matplotlib inline\n",
    "#%config InlineBackend.figure_format = 'retina'\n",
    "\n",
    "import os\n",
    "import sys\n",
    "\n",
    "#Import packages we need\n",
    "import numpy as np\n",
    "from netCDF4 import Dataset\n",
    "\n",
    "#Helpful during development\n",
    "import importlib\n",
    "#importlib.reload(module)\n",
    "\n",
    "import datetime\n",
    "\n",
    "from IPython.display import display\n",
    "\n",
    "import matplotlib\n",
    "from matplotlib import pyplot as plt\n",
    "from matplotlib import animation, rc\n",
    "\n",
    "\n",
    "#Set large figure sizes\n",
    "#plt.rcParams[\"animation.html\"] = \"jshtml\" #Javascript \n",
    "plt.rcParams[\"animation.html\"] = \"html5\" #mp4\n",
    "plt.rcParams[\"figure.dpi\"] = 100.0 #highres movies/plots\n",
    "\n",
    "plt.rcParams[\"animation.writer\"] = 'ffmpeg' \n",
    "plt.rcParams[\"animation.codec\"] = 'h264' \n",
    "\n",
    "plt.rcParams[\"text.usetex\"] = True\n",
    "plt.rcParams[\"font.family\"] = 'serif'"
   ]
  },
  {
   "cell_type": "code",
   "execution_count": 2,
   "metadata": {},
   "outputs": [],
   "source": [
    "sys.path.insert(0, os.path.abspath(os.path.join(os.getcwd(), '../../')))\n",
    "\n",
    "from SWESimulators import CDKLM16, Common, IPythonMagic, NetCDFInitialization\n",
    "from SWESimulators import GPUDrifterCollection, Observation\n",
    "from SWESimulators import DataAssimilationUtils as dautils\n",
    "\n",
    "from demos.realisticSimulations import norkyst_plotting\n"
   ]
  },
  {
   "cell_type": "code",
   "execution_count": 3,
   "metadata": {},
   "outputs": [],
   "source": [
    "%cuda_context_handler gpu_ctx"
   ]
  },
  {
   "cell_type": "markdown",
   "metadata": {},
   "source": [
    "# Select area and result folder"
   ]
  },
  {
   "cell_type": "code",
   "execution_count": 4,
   "metadata": {},
   "outputs": [
    {
     "name": "stdout",
     "output_type": "stream",
     "text": [
      "Output will be placed in '2019-11-18/complete_coast'\n"
     ]
    }
   ],
   "source": [
    "#Set this to false before comitting to only get images\n",
    "create_movie = False\n",
    "movie_frames = 200\n",
    "download_data = True\n",
    "timestep_indices = None\n",
    "\n",
    "\n",
    "# How many cells to erode of land\n",
    "erode_land=1\n",
    "\n",
    "case_name = 'complete_coast'\n",
    "\n",
    "out_folder = os.path.join(datetime.date.today().isoformat(), case_name)\n",
    "\n",
    "os.makedirs(out_folder, exist_ok=True)\n",
    "print(\"Output will be placed in '\" + out_folder + \"'\")"
   ]
  },
  {
   "cell_type": "markdown",
   "metadata": {},
   "source": [
    "# Inspect URL and select area"
   ]
  },
  {
   "cell_type": "code",
   "execution_count": 5,
   "metadata": {},
   "outputs": [],
   "source": [
    "nordic4km_url = 'http://thredds.met.no/thredds/dodsC/fou-hi/nordic4km-1h/Nordic-4km_SURF_1h_avg_00.nc'\n",
    "norkyst800_url = 'https://thredds.met.no/thredds/dodsC/fou-hi/norkyst800m-1h/NorKyst-800m_ZDEPTHS_his.an.2019071600.nc'\n",
    "\n",
    "source_url = norkyst800_url"
   ]
  },
  {
   "cell_type": "markdown",
   "metadata": {},
   "source": [
    "# Run original resolution simulation"
   ]
  },
  {
   "cell_type": "code",
   "execution_count": 6,
   "metadata": {},
   "outputs": [],
   "source": [
    "# Set initial conditions \n",
    "sim_args = {\n",
    "    \"gpu_ctx\": gpu_ctx,\n",
    "    \"dt\": 0.0,\n",
    "    \"rk_order\": 2,\n",
    "    \"desingularization_eps\": 1.0,\n",
    "    \"write_netcdf\": True,\n",
    "    \"model_time_step\": 60\n",
    "}"
   ]
  },
  {
   "cell_type": "code",
   "execution_count": 7,
   "metadata": {},
   "outputs": [],
   "source": [
    "data_args = NetCDFInitialization.getInitialConditionsNorKystCases(source_url, case_name,\n",
    "                                                                  timestep_indices=timestep_indices,\n",
    "                                                                  erode_land=erode_land)\n"
   ]
  },
  {
   "cell_type": "code",
   "execution_count": 13,
   "metadata": {},
   "outputs": [
    {
     "name": "stdout",
     "output_type": "stream",
     "text": [
      "Closing file 2019-11-18/complete_coast/complete_coast_original.nc ...\n",
      "2019-11-18/complete_coast/complete_coast_original.nc\n"
     ]
    }
   ],
   "source": [
    "\n",
    "if 'sim' in globals():\n",
    "    sim.cleanUp()\n",
    "\n",
    "\n",
    "\n",
    "original_filename = os.path.join(out_folder, case_name + \"_original.nc\")\n",
    "print(original_filename)\n",
    "\n",
    "\n",
    "importlib.reload(CDKLM16)\n",
    "importlib.reload(Observation)\n",
    "sim = CDKLM16.CDKLM16(**sim_args, \n",
    "                      **NetCDFInitialization.removeMetadata(data_args),\n",
    "                      netcdf_filename=original_filename)\n",
    "\n",
    "drifters = GPUDrifterCollection.GPUDrifterCollection(gpu_ctx, 10,\n",
    "                                                     domain_size_x=sim.nx*sim.dx,\n",
    "                                                     domain_size_y=sim.ny*sim.dy)\n",
    "\n",
    "# Some hard coded positions that are not on land\n",
    "drifter_positions=np.array([[ 50, 200],\n",
    "                            [110, 200],\n",
    "                            [170, 200],\n",
    "                            [230, 200],\n",
    "                            [290, 200],\n",
    "                            [350, 200],\n",
    "                            [ 50, 110],\n",
    "                            [110, 110],\n",
    "                            [170, 110],\n",
    "                            [290, 115],\n",
    "                           ], dtype=np.float32)\n",
    "drifters.setDrifterPositions(drifter_positions*1000)\n",
    "\n",
    "sim.attachDrifters(drifters)\n",
    "\n",
    "#--------------------------------------------------------------\n",
    "# Create observation object and write the first drifter positions\n",
    "#--------------------------------------------------------------\n",
    "observations = Observation.Observation(domain_size_x = sim.nx*sim.dx,\n",
    "                                       domain_size_y = sim.ny*sim.dy,\n",
    "                                       nx=sim.nx, ny=sim.ny,\n",
    "                                       land_mask=sim.getLandMask())\n",
    "\n",
    "\n",
    "                                       \n",
    "# Configure observations to register observations from static positions\n",
    "# according to equi-distant griding (every 25 cells) \n",
    "# Land mask is used to filter out dry cells.\n",
    "#observations.setBuoyCellsByFrequency(50, 50, avoid_boundary=True)\n",
    "buoy_positions = np.array([[1200, 700]])\n",
    "observations.setBuoyCells(buoy_positions)\n",
    "\n",
    "# Register observation at the start of the simulation\n",
    "# This includes drifters if sim has drifters, and grid cells as defined above\n",
    "observations.add_observation_from_sim(sim)\n",
    "\n",
    "\n"
   ]
  },
  {
   "cell_type": "code",
   "execution_count": 14,
   "metadata": {},
   "outputs": [
    {
     "name": "stdout",
     "output_type": "stream",
     "text": [
      "846 2546\n",
      "(846, 2546)\n"
     ]
    },
    {
     "data": {
      "text/plain": [
       "196.0"
      ]
     },
     "execution_count": 14,
     "metadata": {},
     "output_type": "execute_result"
    }
   ],
   "source": [
    "print(sim.ny, sim.nx)\n",
    "print(observations.land_mask.shape)\n",
    "245*0.8"
   ]
  },
  {
   "cell_type": "code",
   "execution_count": 15,
   "metadata": {
    "scrolled": false
   },
   "outputs": [
    {
     "name": "stdout",
     "output_type": "stream",
     "text": [
      "True False\n"
     ]
    },
    {
     "data": {
      "text/plain": [
       "<matplotlib.collections.PathCollection at 0x7ffa10395470>"
      ]
     },
     "execution_count": 15,
     "metadata": {},
     "output_type": "execute_result"
    },
    {
     "data": {
      "image/png": "[encoded data removed]",
      "text/plain": [
       "<Figure size 432x288 with 1 Axes>"
      ]
     },
     "metadata": {
      "needs_background": "light"
     },
     "output_type": "display_data"
    }
   ],
   "source": [
    "\n",
    "plt.imshow(observations.land_mask, origin='lower')\n",
    "print(observations.land_mask[40, 400], observations.land_mask[250, 10])\n",
    "plt.scatter(x=observations.buoy_indices[:,0], \n",
    "            y=observations.buoy_indices[:,1],\n",
    "            color='xkcd:neon green', marker='^')"
   ]
  },
  {
   "cell_type": "code",
   "execution_count": 16,
   "metadata": {},
   "outputs": [
    {
     "data": {
      "text/plain": [
       "'0% [##############################] 100%. Total: 4m 6s, elapsed: 4m 6s, remaining: 0s'"
      ]
     },
     "metadata": {},
     "output_type": "display_data"
    },
    {
     "name": "stdout",
     "output_type": "stream",
     "text": [
      "running 23 netcdf_iterations\n",
      "   with 12 sampling_iterations\n",
      "Closing file 2019-11-18/complete_coast/complete_coast_original.nc ...\n"
     ]
    }
   ],
   "source": [
    "def run_sim(sim, observations, sampling_frequency):\n",
    "    \n",
    "    if sim.t >= 23*60*60:\n",
    "        print('simulator is already done')\n",
    "        return\n",
    "    \n",
    "\n",
    "    progress = Common.ProgressPrinter(5)\n",
    "    pp = display(progress.getPrintString(0), display_id=True)\n",
    "    \n",
    "    end_t = 23*60*60\n",
    "    netcdf_frequency = 60*60\n",
    "    \n",
    "    netcdf_iterations = np.int(end_t/netcdf_frequency)\n",
    "    sampling_iterations = np.int(netcdf_frequency/sampling_frequency)\n",
    "    print('running ' + str(netcdf_iterations) + ' netcdf_iterations')\n",
    "    print('   with ' + str(sampling_iterations) + ' sampling_iterations')\n",
    "    total_number_of_iterations = netcdf_iterations*sampling_iterations\n",
    "    \n",
    "    \n",
    "    i = 0\n",
    "    for netcdf_i in range(netcdf_iterations):\n",
    "        \n",
    "        for sampling_i in range(sampling_iterations):\n",
    "            \n",
    "            write_now = (sampling_i == sampling_iterations-1)\n",
    "        \n",
    "        \n",
    "            sim.dataAssimilationStep(sim.t + sampling_frequency,\n",
    "                                     write_now=write_now)\n",
    "            \n",
    "            observations.add_observation_from_sim(sim)\n",
    "\n",
    "            pp.update(progress.getPrintString(i/(total_number_of_iterations-1)))\n",
    "            i += 1\n",
    "    sim.closeNetCDF()\n",
    "    \n",
    "    \n",
    "    ## Dump to pickle\n",
    "    \n",
    "run_sim(sim, observations, 5*60)\n",
    "\n",
    "#store observation file\n",
    "observation_filename = 'observation_'+datetime.datetime.now().strftime(\"%H_%M_%S\")+'.pickle'\n",
    "observations.to_pickle(os.path.join(out_folder, observation_filename))\n",
    "\n"
   ]
  },
  {
   "cell_type": "code",
   "execution_count": null,
   "metadata": {},
   "outputs": [],
   "source": [
    "importlib.reload(norkyst_plotting)\n",
    "\n",
    "norkyst_plotting.ncAnimation(original_filename,\n",
    "             title=\"original $t_0$=\" + datetime.datetime.fromtimestamp(data_args['t0']).isoformat(timespec='seconds'),\n",
    "             movie_frames=movie_frames, \n",
    "             create_movie=create_movie,\n",
    "             fig=plt.figure(figsize=(18,10)),\n",
    "             h_max=0.8, h_min=-0.8, \n",
    "             uv_max=75, uv_min=-75, \n",
    "             add_extra=1,\n",
    "             rotate=True, \n",
    "             downsample=2,\n",
    "             drifter_locations=drifters.getDrifterPositions(),\n",
    "             drifter_locations_original=drifter_positions*1000,\n",
    "             buoy_indices=observations.buoy_indices.copy())"
   ]
  },
  {
   "cell_type": "markdown",
   "metadata": {},
   "source": [
    "# Read observation file and plot some results"
   ]
  },
  {
   "cell_type": "code",
   "execution_count": null,
   "metadata": {},
   "outputs": [],
   "source": [
    "obs = Observation.Observation(observation_type=dautils.ObservationType.StaticBuoys,\n",
    "                              domain_size_x=sim.nx*sim.dx, domain_size_y=sim.ny*sim.dx,\n",
    "                              nx=sim.nx, ny=sim.ny,\n",
    "                              land_mask=sim.getLandMask())\n",
    "obs.read_pickle(os.path.join(out_folder, observation_filename))"
   ]
  },
  {
   "cell_type": "code",
   "execution_count": null,
   "metadata": {},
   "outputs": [],
   "source": [
    "num_drifters = obs.get_num_drifters(ignoreBuoys=True)\n",
    "print('num drifters (ignoring buoys)', num_drifters)\n",
    "drifter_paths = [None]*num_drifters\n",
    "for i in range(num_drifters):\n",
    "    drifter_paths[i] = obs.get_drifter_path(i, 0, 23*60*60)"
   ]
  },
  {
   "cell_type": "code",
   "execution_count": null,
   "metadata": {},
   "outputs": [],
   "source": [
    "def forecastPlot(ax, true_paths, ensemble_paths, color_id=0, \n",
    "                 forecast_point_size=2, truth_point_size=6, mean_paths=[None]):\n",
    "    \"\"\"\n",
    "    ax: Axis object to draw trajectories in\n",
    "    true_path: A single list of paths that represents the truth\n",
    "    ensemble_paths: Multiple lists of paths that represents the forecast\n",
    "    color_id: integer representing a pre-defined color combination.\n",
    "    \"\"\"\n",
    "\n",
    "    color_combinations = [\n",
    "        # [true color, forecast color]\n",
    "        #['xkcd:dark grey blue', 'xkcd:light blue grey', 'xkcd:wine'],\n",
    "        ['xkcd:scarlet', 'xkcd:light blue grey', 'xkcd:dark grey blue'],\n",
    "        ['xkcd:viridian', 'xkcd:foam green']\n",
    "    ]\n",
    "    \n",
    "    assert(color_id < len(color_combinations)), 'Invalid color_id'\n",
    "    \n",
    "    true_color = color_combinations[color_id][0]\n",
    "    forecast_color = color_combinations[color_id][1]\n",
    "    mean_color = color_combinations[color_id][2]\n",
    "\n",
    "    # Plot forecast paths \n",
    "    for paths in ensemble_paths:\n",
    "        for path in paths:\n",
    "            ax.plot(path[:,0], path[:,1], color=forecast_color, alpha=0.3)\n",
    "        \n",
    "        # Mark end position of forecast\n",
    "        end_position   = paths[-1][-1,:]\n",
    "        circ_end_forecast = matplotlib.patches.Circle((end_position[0], end_position[1]), \n",
    "                                                      forecast_point_size, \n",
    "                                                      fill=False, zorder=10,\n",
    "                                                      alpha=0.7)\n",
    "        ax.add_patch(circ_end_forecast)\n",
    "\n",
    "    \n",
    "    # Plot true path\n",
    "    for path in true_paths:\n",
    "        ax.plot(path[:,0], path[:,1], color=true_color, zorder=5)\n",
    "    \n",
    "    # Plot mean path\n",
    "    if mean_paths[0] is not None:\n",
    "        for path in mean_paths:\n",
    "            ax.plot(path[:,0], path[:,1], color=mean_color, zorder=6)\n",
    "    \n",
    "    # Mark start and end of true path\n",
    "    start_pos = true_paths[0][0,:]\n",
    "    end_pos   = true_paths[-1][-1,:]\n",
    "    circ_start = matplotlib.patches.Circle((start_pos[0], start_pos[1]), \n",
    "                                           truth_point_size,\n",
    "                                           fill=False, zorder=10)\n",
    "    ax.add_patch(circ_start)\n",
    "    #circ_end = matplotlib.patches.Circle((end_pos[0], end_pos[1]), \n",
    "    #                                     truth_point_size,\n",
    "    #                                     fill=False, zorder=10)\n",
    "    #ax.add_patch(circ_end)\n",
    "    ax.plot(end_pos[0], end_pos[1], 'x', color='k', zorder=11)\n",
    "    \n",
    "    # Mark end of mean path\n",
    "    if mean_paths[0] is not None:\n",
    "        #xend = matplotlib.patches.Circle((mean_paths[-1][-1,0], mean_paths[-1][-1,1]),\n",
    "        #                                 truth_point_size,\n",
    "        #                                 fill=False, zorder=10)\n",
    "        #ax.add_patch(xend)\n",
    "        ax.plot(mean_paths[-1][-1,0], mean_paths[-1][-1,1], \n",
    "                   marker='o', markeredgecolor='k', markerfacecolor=None)\n",
    "        \n",
    "def createForecastCanvas(observation):\n",
    "    \"\"\"\n",
    "    true_sim_reader: The SimReader object containing nx, ny, etc\n",
    "    \"\"\"   \n",
    "    \n",
    "    nx = observation.nx\n",
    "    ny = observation.ny\n",
    "    \n",
    "    fig = plt.figure(figsize=(7,7))\n",
    "    ax = plt.subplot(111)\n",
    "    \n",
    "    extent=np.array([0, observation.domain_size_x, 0, observation.domain_size_y])/1000\n",
    "    ax.imshow(observation.land_mask, origin=\"lower\", \n",
    "              extent=extent, cmap='binary')\n",
    "\n",
    "    return ax\n",
    "\n",
    "ax = createForecastCanvas(obs)\n",
    "for drifter_path in drifter_paths:\n",
    "    forecastPlot(ax, drifter_path, [], truth_point_size=1)\n",
    "    \n"
   ]
  },
  {
   "cell_type": "code",
   "execution_count": null,
   "metadata": {},
   "outputs": [],
   "source": [
    "buoy_id = 35\n",
    "\n",
    "def get_time_series_for_buoy(observation, buoy_id):\n",
    "    \n",
    "    time  = observation.obs_df[observation.time_key].to_numpy()\n",
    "    hu = np.empty_like(time)\n",
    "    hv = np.empty_like(time)\n",
    "    \n",
    "    all_buoy_obs = observation.obs_df[observation.buoy_observations_key]\n",
    "    for t in range(len(time)):\n",
    "        hu[t] = all_buoy_obs[t][buoy_id,0]\n",
    "        hv[t] = all_buoy_obs[t][buoy_id,1]\n",
    "\n",
    "    return time, hu, hv\n",
    "\n",
    "t, hu, hv = get_time_series_for_buoy(obs, buoy_id)\n",
    "\n",
    "print(t.shape)\n",
    "print(type(hu), hu.shape)\n",
    "\n",
    "fig = plt.figure(figsize=(8,4))\n",
    "plt.plot(t, hu, label='hu')\n",
    "plt.plot(t, hv, label='hv')\n",
    "plt.legend()\n",
    "plt.title('')"
   ]
  },
  {
   "cell_type": "code",
   "execution_count": null,
   "metadata": {},
   "outputs": [],
   "source": []
  }
 ],
 "metadata": {
  "kernelspec": {
   "display_name": "Python 3",
   "language": "python",
   "name": "python3"
  },
  "language_info": {
   "codemirror_mode": {
    "name": "ipython",
    "version": 3
   },
   "file_extension": ".py",
   "mimetype": "text/x-python",
   "name": "python",
   "nbconvert_exporter": "python",
   "pygments_lexer": "ipython3",
   "version": "3.7.2"
  }
 },
 "nbformat": 4,
 "nbformat_minor": 4
}
