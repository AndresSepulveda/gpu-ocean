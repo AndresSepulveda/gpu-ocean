{
 "cells": [
  {
   "cell_type": "markdown",
   "metadata": {},
   "source": [
    "```\n",
    "This notebook sets up and runs a set of benchmarks to compare\n",
    "different numerical discretizations of the SWEs\n",
    "\n",
    "Copyright (C) 2016, 2017, 2018  SINTEF ICT\n",
    "\n",
    "This program is free software: you can redistribute it and/or modify\n",
    "it under the terms of the GNU General Public License as published by\n",
    "the Free Software Foundation, either version 3 of the License, or\n",
    "(at your option) any later version.\n",
    "\n",
    "This program is distributed in the hope that it will be useful,\n",
    "but WITHOUT ANY WARRANTY; without even the implied warranty of\n",
    "MERCHANTABILITY or FITNESS FOR A PARTICULAR PURPOSE.  See the\n",
    "GNU General Public License for more details.\n",
    "\n",
    "You should have received a copy of the GNU General Public License\n",
    "along with this program.  If not, see <http://www.gnu.org/licenses/>.\n",
    "```"
   ]
  },
  {
   "cell_type": "code",
   "execution_count": null,
   "metadata": {
    "scrolled": false
   },
   "outputs": [],
   "source": [
    "#Lets have matplotlib \"inline\"\n",
    "%matplotlib inline\n",
    "#%config InlineBackend.figure_format = 'retina'\n",
    "\n",
    "#Import packages we need\n",
    "import numpy as np\n",
    "from matplotlib import animation, rc\n",
    "from matplotlib import pyplot as plt\n",
    "import matplotlib.gridspec as gridspec\n",
    "\n",
    "import os\n",
    "import pycuda.driver as cuda\n",
    "from pycuda.compiler import SourceModule\n",
    "import datetime\n",
    "import sys\n",
    "\n",
    "sys.path.insert(0, os.path.abspath(os.path.join(os.getcwd(), '../')))\n",
    "\n",
    "#Set large figure sizes\n",
    "#rc('figure', figsize=(16.0, 12.0))\n",
    "#rc('animation', html='html5')\n",
    "plt.rcParams[\"animation.html\"] = \"jshtml\"\n",
    "\n",
    "#Import our simulator\n",
    "from SWESimulators import FBL, CTCS, KP07, CDKLM16, PlotHelper, Common, WindStress, IPythonMagic\n",
    "#Import initial condition and bathymetry generating functions:\n",
    "from SWESimulators.BathymetryAndICs import *"
   ]
  },
  {
   "cell_type": "code",
   "execution_count": null,
   "metadata": {},
   "outputs": [],
   "source": [
    "%setup_logging --out compareschemes2d.log\n",
    "%cuda_context_handler gpu_ctx"
   ]
  },
  {
   "cell_type": "code",
   "execution_count": null,
   "metadata": {},
   "outputs": [],
   "source": [
    "#Create output directory for images\n",
    "imgdir='images_' + datetime.datetime.now().strftime(\"%Y_%m_%d-%H_%M_%S\")\n",
    "os.makedirs(imgdir)\n",
    "print(\"Saving images to \" + imgdir)"
   ]
  },
  {
   "cell_type": "code",
   "execution_count": null,
   "metadata": {},
   "outputs": [],
   "source": [
    "# Set initial conditions common to all simulators\n",
    "sim_args = {\n",
    "\"gpu_ctx\": gpu_ctx,\n",
    "\"nx\": 100, \"ny\": 200,\n",
    "\"dx\": 200.0, \"dy\": 200.0,\n",
    "\"dt\": 1,\n",
    "\"g\": 9.81,\n",
    "\"f\": 0.0012,\n",
    "\"coriolis_beta\": 1.0e-6,\n",
    "\"r\": 0.0\n",
    "}"
   ]
  },
  {
   "cell_type": "code",
   "execution_count": null,
   "metadata": {},
   "outputs": [],
   "source": [
    "\n",
    "def sim_animation(simulator, T):\n",
    "    eta1, u1, v1 = sim.download(interior_domain_only=True)\n",
    "    \n",
    "    #Create figure and plot initial conditions\n",
    "    fig = plt.figure(figsize=(12, 8))\n",
    "    domain_extent = [0, sim.nx*sim.dx, 0, sim.ny*sim.dy]\n",
    "    \n",
    "    ax_eta = plt.subplot(1,3,1)\n",
    "    sp_eta = ax_eta.imshow(eta1, interpolation=\"none\", origin='bottom', vmin=-1.5, vmax=1.5, extent=domain_extent)\n",
    "    \n",
    "    ax_u = plt.subplot(1,3,2)\n",
    "    sp_u = ax_u.imshow(u1, interpolation=\"none\", origin='bottom', vmin=-1.5, vmax=1.5, extent=domain_extent)\n",
    "    \n",
    "    ax_v = plt.subplot(1,3,3)\n",
    "    sp_v = ax_v.imshow(v1, interpolation=\"none\", origin='bottom', vmin=-1.5, vmax=1.5, extent=domain_extent)\n",
    "    \n",
    "    #Helper function which simulates and plots the solution\n",
    "    def animate(i):\n",
    "        if (i>0):\n",
    "            t = sim.step(10.0)\n",
    "        else:\n",
    "            t = 0.0\n",
    "        eta1, u1, v1 = sim.download(interior_domain_only=True)\n",
    "        \n",
    "        #Update plots\n",
    "        fig.sca(ax_eta)\n",
    "        sp_eta.set_data(eta1)\n",
    "        \n",
    "        fig.sca(ax_u)\n",
    "        sp_u.set_data(u1)\n",
    "        \n",
    "        fig.sca(ax_v)\n",
    "        sp_v.set_data(v1)\n",
    "        \n",
    "        fig.suptitle(\"Time = {:04.0f} s ({:s})\".format(t, sim.__class__.__name__), fontsize=18)\n",
    "        print(\".\", end='')\n",
    "\n",
    "    #Matplotlib for creating an animation\n",
    "    anim = animation.FuncAnimation(fig, animate, range(T), interval=100)\n",
    "    plt.close(fig)\n",
    "    return anim"
   ]
  },
  {
   "cell_type": "code",
   "execution_count": null,
   "metadata": {},
   "outputs": [],
   "source": [
    "ghosts = [0,0,0,0] # north, east, south, west\n",
    "dataShape = (sim_args[\"ny\"] + ghosts[0]+ghosts[2], \n",
    "             sim_args[\"nx\"] + ghosts[1]+ghosts[3])\n",
    "    \n",
    "h0 = np.ones(dataShape, dtype=np.float32) * 60\n",
    "eta0 = np.zeros(dataShape, dtype=np.float32)\n",
    "u0 = np.zeros((dataShape[0], dataShape[1]+1), dtype=np.float32)\n",
    "v0 = np.zeros((dataShape[0]+1, dataShape[1]), dtype=np.float32)\n",
    "    \n",
    "#Create bump in to lower left of domain for testing\n",
    "addCentralBump(eta0, sim_args[\"nx\"], sim_args[\"ny\"], sim_args[\"dx\"], sim_args[\"dy\"], ghosts)\n",
    "\n",
    "#Initialize simulator\n",
    "fbl_args = {\"H\": h0, \"eta0\": eta0, \"hu0\": u0, \"hv0\": v0}\n",
    "sim = FBL.FBL(**fbl_args, **sim_args)\n",
    "\n",
    "#Run a simulation and plot it\n",
    "sim_animation(sim, T=50)"
   ]
  },
  {
   "cell_type": "code",
   "execution_count": null,
   "metadata": {},
   "outputs": [],
   "source": [
    "ghosts = [1,1,1,1] # north, east, south, west\n",
    "dataShape = (sim_args[\"ny\"] + ghosts[0]+ghosts[2], \n",
    "             sim_args[\"nx\"] + ghosts[1]+ghosts[3])\n",
    "\n",
    "h0 = np.ones(dataShape, dtype=np.float32) * 60.0;\n",
    "eta0 = np.zeros(dataShape, dtype=np.float32);\n",
    "u0 = np.zeros((dataShape[0], dataShape[1]+1), dtype=np.float32);\n",
    "v0 = np.zeros((dataShape[0]+1, dataShape[1]), dtype=np.float32);       \n",
    "\n",
    "#Create bump in to lower left of domain for testing\n",
    "addCentralBump(eta0, sim_args[\"nx\"], sim_args[\"ny\"], sim_args[\"dx\"], sim_args[\"dy\"], ghosts)\n",
    "\n",
    "#Initialize simulator\n",
    "ctcs_args = {\"H\": h0, \"eta0\": eta0, \"hu0\": u0, \"hv0\": v0, \"A\": 1.0}\n",
    "sim = CTCS.CTCS(**ctcs_args, **sim_args)\n",
    "\n",
    "#Run a simulation and plot it\n",
    "sim_animation(sim, T=50)"
   ]
  },
  {
   "cell_type": "code",
   "execution_count": null,
   "metadata": {},
   "outputs": [],
   "source": [
    "ghosts = np.array([2,2,2,2]) # north, east, south, west\n",
    "dataShape = (sim_args[\"ny\"] + ghosts[0]+ghosts[2], \n",
    "             sim_args[\"nx\"] + ghosts[1]+ghosts[3])\n",
    "\n",
    "H = np.ones((dataShape[0]+1, dataShape[1]+1), dtype=np.float32) * 60.0\n",
    "eta0 = np.zeros(dataShape, dtype=np.float32)\n",
    "u0 = np.zeros(dataShape, dtype=np.float32)\n",
    "v0 = np.zeros(dataShape, dtype=np.float32)\n",
    "\n",
    "#Create bump in to lower left of domain for testing\n",
    "addCentralBump(eta0, sim_args[\"nx\"], sim_args[\"ny\"], sim_args[\"dx\"], sim_args[\"dy\"], ghosts)\n",
    "\n",
    "#Initialize simulator\n",
    "ctcs_args = {\"H\": H, \"eta0\": eta0, \"hu0\": u0, \"hv0\": v0, \"use_rk2\": True}\n",
    "sim = KP07.KP07(**ctcs_args, **sim_args)\n",
    "\n",
    "#Run a simulation and plot it\n",
    "sim_animation(sim, T=50)"
   ]
  },
  {
   "cell_type": "code",
   "execution_count": null,
   "metadata": {
    "scrolled": false
   },
   "outputs": [],
   "source": [
    "ghosts = np.array([2,2,2,2]) # north, east, south, west\n",
    "dataShape = (sim_args[\"ny\"] + ghosts[0]+ghosts[2], \n",
    "             sim_args[\"nx\"] + ghosts[1]+ghosts[3])\n",
    "\n",
    "H = np.ones((dataShape[0]+1, dataShape[1]+1), dtype=np.float32) * 60.0\n",
    "eta0 = np.zeros(dataShape, dtype=np.float32)\n",
    "u0 = np.zeros(dataShape, dtype=np.float32)\n",
    "v0 = np.zeros(dataShape, dtype=np.float32)\n",
    "\n",
    "#Create bump in to lower left of domain for testing\n",
    "addCentralBump(eta0, sim_args[\"nx\"], sim_args[\"ny\"], sim_args[\"dx\"], sim_args[\"dy\"], ghosts)\n",
    "\n",
    "#Initialize simulator\n",
    "ctcs_args = {\"H\": H, \"eta0\": eta0, \"hu0\": u0, \"hv0\": v0, \"rk_order\": 2}\n",
    "sim = CDKLM16.CDKLM16(**ctcs_args, **sim_args)\n",
    "\n",
    "#Run a simulation and plot it\n",
    "sim_animation(sim, T=50)"
   ]
  },
  {
   "cell_type": "code",
   "execution_count": null,
   "metadata": {},
   "outputs": [],
   "source": [
    "str(cuda.Context.get_cache_config())"
   ]
  },
  {
   "cell_type": "code",
   "execution_count": null,
   "metadata": {},
   "outputs": [],
   "source": []
  }
 ],
 "metadata": {
  "git": {
   "suppress_outputs": true
  },
  "kernelspec": {
   "display_name": "Python [default]",
   "language": "python",
   "name": "python3"
  },
  "language_info": {
   "codemirror_mode": {
    "name": "ipython",
    "version": 3
   },
   "file_extension": ".py",
   "mimetype": "text/x-python",
   "name": "python",
   "nbconvert_exporter": "python",
   "pygments_lexer": "ipython3",
   "version": "3.5.5"
  }
 },
 "nbformat": 4,
 "nbformat_minor": 1
}