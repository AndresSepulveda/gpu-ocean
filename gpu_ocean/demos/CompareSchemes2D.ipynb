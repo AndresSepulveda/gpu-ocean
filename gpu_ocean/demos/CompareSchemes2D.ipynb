{
 "cells": [
  {
   "cell_type": "markdown",
   "metadata": {},
   "source": [
    "```\n",
    "This notebook sets up and runs a set of benchmarks to compare\n",
    "different numerical discretizations of the SWEs\n",
    "\n",
    "Copyright (C) 2016, 2017, 2018  SINTEF ICT\n",
    "\n",
    "This program is free software: you can redistribute it and/or modify\n",
    "it under the terms of the GNU General Public License as published by\n",
    "the Free Software Foundation, either version 3 of the License, or\n",
    "(at your option) any later version.\n",
    "\n",
    "This program is distributed in the hope that it will be useful,\n",
    "but WITHOUT ANY WARRANTY; without even the implied warranty of\n",
    "MERCHANTABILITY or FITNESS FOR A PARTICULAR PURPOSE.  See the\n",
    "GNU General Public License for more details.\n",
    "\n",
    "You should have received a copy of the GNU General Public License\n",
    "along with this program.  If not, see <http://www.gnu.org/licenses/>.\n",
    "```"
   ]
  },
  {
   "cell_type": "code",
   "execution_count": 1,
   "metadata": {
    "scrolled": false
   },
   "outputs": [],
   "source": [
    "#Lets have matplotlib \"inline\"\n",
    "%matplotlib inline\n",
    "#%config InlineBackend.figure_format = 'retina'\n",
    "\n",
    "#Import packages we need\n",
    "import numpy as np\n",
    "from matplotlib import animation, rc\n",
    "from matplotlib import pyplot as plt\n",
    "import matplotlib.gridspec as gridspec\n",
    "\n",
    "import os\n",
    "import pycuda.driver as cuda\n",
    "from pycuda.compiler import SourceModule\n",
    "import datetime\n",
    "import sys\n",
    "\n",
    "sys.path.insert(0, os.path.abspath(os.path.join(os.getcwd(), '../')))\n",
    "\n",
    "#Set large figure sizes\n",
    "#rc('figure', figsize=(16.0, 12.0))\n",
    "#rc('animation', html='html5')\n",
    "plt.rcParams[\"animation.html\"] = \"jshtml\"\n",
    "\n",
    "#Import our simulator\n",
    "from SWESimulators import FBL, CTCS, KP07, CDKLM16, PlotHelper, Common, WindStress, IPythonMagic\n",
    "#Import initial condition and bathymetry generating functions:\n",
    "from SWESimulators.BathymetryAndICs import *"
   ]
  },
  {
   "cell_type": "code",
   "execution_count": 2,
   "metadata": {},
   "outputs": [
    {
     "name": "stderr",
     "output_type": "stream",
     "text": [
      "Registering logging to compareschemes2d.log\n",
      "Python version 3.5.2 (default, Sep 14 2017, 22:51:06) \n",
      "[GCC 5.4.0 20160609]\n",
      "PyCUDA version 2018.1\n",
      "CUDA version (7, 5, 0)\n",
      "Driver version 9010\n",
      "Using 'Tesla M2090' GPU\n",
      "Created context handle <35917648>\n"
     ]
    }
   ],
   "source": [
    "%setup_logging compareschemes2d.log\n",
    "%cuda_context_handler gpu_ctx"
   ]
  },
  {
   "cell_type": "code",
   "execution_count": 3,
   "metadata": {},
   "outputs": [
    {
     "name": "stdout",
     "output_type": "stream",
     "text": [
      "Saving images to images_2018_09_05-13_35_59\n"
     ]
    }
   ],
   "source": [
    "#Create output directory for images\n",
    "imgdir='images_' + datetime.datetime.now().strftime(\"%Y_%m_%d-%H_%M_%S\")\n",
    "os.makedirs(imgdir)\n",
    "print(\"Saving images to \" + imgdir)"
   ]
  },
  {
   "cell_type": "code",
   "execution_count": 4,
   "metadata": {},
   "outputs": [],
   "source": [
    "# Set initial conditions common to all simulators\n",
    "sim_args = {\n",
    "\"gpu_ctx\": gpu_ctx,\n",
    "\"nx\": 100, \"ny\": 200,\n",
    "\"dx\": 200.0, \"dy\": 200.0,\n",
    "\"dt\": 1,\n",
    "\"g\": 9.81,\n",
    "\"f\": 0.0,\n",
    "\"r\": 0.0\n",
    "}"
   ]
  },
  {
   "cell_type": "code",
   "execution_count": 5,
   "metadata": {},
   "outputs": [],
   "source": [
    "\n",
    "def sim_animation(simulator, T):\n",
    "    eta1, u1, v1 = sim.download(interior_domain_only=True)\n",
    "    \n",
    "    #Create figure and plot initial conditions\n",
    "    fig = plt.figure(figsize=(12, 8))\n",
    "    domain_extent = [0, sim.nx*sim.dx, 0, sim.ny*sim.dy]\n",
    "    \n",
    "    ax_eta = plt.subplot(1,3,1)\n",
    "    sp_eta = ax_eta.imshow(eta1, interpolation=\"none\", origin='bottom', vmin=-1.5, vmax=1.5, extent=domain_extent)\n",
    "    \n",
    "    ax_u = plt.subplot(1,3,2)\n",
    "    sp_u = ax_u.imshow(u1, interpolation=\"none\", origin='bottom', vmin=-1.5, vmax=1.5, extent=domain_extent)\n",
    "    \n",
    "    ax_v = plt.subplot(1,3,3)\n",
    "    sp_v = ax_v.imshow(v1, interpolation=\"none\", origin='bottom', vmin=-1.5, vmax=1.5, extent=domain_extent)\n",
    "    \n",
    "    #Helper function which simulates and plots the solution\n",
    "    def animate(i):\n",
    "        if (i>0):\n",
    "            t = sim.step(10.0)\n",
    "        else:\n",
    "            t = 0.0\n",
    "        eta1, u1, v1 = sim.download(interior_domain_only=True)\n",
    "        \n",
    "        #Update plots\n",
    "        fig.sca(ax_eta)\n",
    "        sp_eta.set_data(eta1)\n",
    "        \n",
    "        fig.sca(ax_u)\n",
    "        sp_u.set_data(u1)\n",
    "        \n",
    "        fig.sca(ax_v)\n",
    "        sp_v.set_data(v1)\n",
    "        \n",
    "        fig.suptitle(\"Time = {:04.0f} s ({:s})\".format(t, sim.__class__.__name__), fontsize=18)\n",
    "        print(\".\", end='')\n",
    "\n",
    "    #Matplotlib for creating an animation\n",
    "    anim = animation.FuncAnimation(fig, animate, range(T), interval=100)\n",
    "    plt.close(fig)\n",
    "    return anim"
   ]
  },
  {
   "cell_type": "code",
   "execution_count": 6,
   "metadata": {
    "scrolled": false
   },
   "outputs": [
    {
     "name": "stderr",
     "output_type": "stream",
     "text": [
      "Exception caught: Resetting to CUDA context gpu_ctx\n",
      "Traceback (most recent call last):\n",
      "  File \"/usr/lib/python3/dist-packages/IPython/core/interactiveshell.py\", line 2882, in run_code\n",
      "    exec(code_obj, self.user_global_ns, self.user_ns)\n",
      "  File \"<ipython-input-6-2690f81f9c49>\", line 15, in <module>\n",
      "    sim = FBL.FBL(**fbl_args, **sim_args)\n",
      "  File \"/lustre/storeB/users/martinls/src/gpu-ocean/gpu_ocean/SWESimulators/FBL.py\", line 120, in __init__\n",
      "    block_width, block_height)\n",
      "TypeError: __init__() missing 2 required positional arguments: 'block_width' and 'block_height'\n",
      "Popping <35917648>\n",
      "Pushing <35917648>\n"
     ]
    },
    {
     "ename": "TypeError",
     "evalue": "__init__() missing 2 required positional arguments: 'block_width' and 'block_height'",
     "output_type": "error",
     "traceback": [
      "\u001b[0;31m---------------------------------------------------------------------------\u001b[0m",
      "\u001b[0;31mTypeError\u001b[0m                                 Traceback (most recent call last)",
      "\u001b[0;32m<ipython-input-6-2690f81f9c49>\u001b[0m in \u001b[0;36m<module>\u001b[0;34m()\u001b[0m\n\u001b[1;32m     13\u001b[0m \u001b[0;31m#Initialize simulator\u001b[0m\u001b[0;34m\u001b[0m\u001b[0;34m\u001b[0m\u001b[0m\n\u001b[1;32m     14\u001b[0m \u001b[0mfbl_args\u001b[0m \u001b[0;34m=\u001b[0m \u001b[0;34m{\u001b[0m\u001b[0;34m\"H\"\u001b[0m\u001b[0;34m:\u001b[0m \u001b[0mh0\u001b[0m\u001b[0;34m,\u001b[0m \u001b[0;34m\"eta0\"\u001b[0m\u001b[0;34m:\u001b[0m \u001b[0meta0\u001b[0m\u001b[0;34m,\u001b[0m \u001b[0;34m\"hu0\"\u001b[0m\u001b[0;34m:\u001b[0m \u001b[0mu0\u001b[0m\u001b[0;34m,\u001b[0m \u001b[0;34m\"hv0\"\u001b[0m\u001b[0;34m:\u001b[0m \u001b[0mv0\u001b[0m\u001b[0;34m}\u001b[0m\u001b[0;34m\u001b[0m\u001b[0m\n\u001b[0;32m---> 15\u001b[0;31m \u001b[0msim\u001b[0m \u001b[0;34m=\u001b[0m \u001b[0mFBL\u001b[0m\u001b[0;34m.\u001b[0m\u001b[0mFBL\u001b[0m\u001b[0;34m(\u001b[0m\u001b[0;34m**\u001b[0m\u001b[0mfbl_args\u001b[0m\u001b[0;34m,\u001b[0m \u001b[0;34m**\u001b[0m\u001b[0msim_args\u001b[0m\u001b[0;34m)\u001b[0m\u001b[0;34m\u001b[0m\u001b[0m\n\u001b[0m\u001b[1;32m     16\u001b[0m \u001b[0;34m\u001b[0m\u001b[0m\n\u001b[1;32m     17\u001b[0m \u001b[0;31m#Run a simulation and plot it\u001b[0m\u001b[0;34m\u001b[0m\u001b[0;34m\u001b[0m\u001b[0m\n",
      "\u001b[0;32m/lustre/storeB/users/martinls/src/gpu-ocean/gpu_ocean/SWESimulators/FBL.py\u001b[0m in \u001b[0;36m__init__\u001b[0;34m(self, gpu_ctx, H, eta0, hu0, hv0, nx, ny, dx, dy, dt, g, f, r, t, coriolis_beta, y_zero_reference_cell, wind_stress, boundary_conditions, write_netcdf, ignore_ghostcells, offset_x, offset_y, block_width, block_height)\u001b[0m\n\u001b[1;32m    118\u001b[0m                                   \u001b[0mignore_ghostcells\u001b[0m\u001b[0;34m,\u001b[0m\u001b[0;31m \u001b[0m\u001b[0;31m\\\u001b[0m\u001b[0;34m\u001b[0m\u001b[0m\n\u001b[1;32m    119\u001b[0m                                   \u001b[0moffset_x\u001b[0m\u001b[0;34m,\u001b[0m \u001b[0moffset_y\u001b[0m\u001b[0;34m,\u001b[0m\u001b[0;31m \u001b[0m\u001b[0;31m\\\u001b[0m\u001b[0;34m\u001b[0m\u001b[0m\n\u001b[0;32m--> 120\u001b[0;31m                                   block_width, block_height)\n\u001b[0m\u001b[1;32m    121\u001b[0m         \u001b[0mself\u001b[0m\u001b[0;34m.\u001b[0m\u001b[0m_set_interior_domain_from_sponge_cells\u001b[0m\u001b[0;34m(\u001b[0m\u001b[0;34m)\u001b[0m\u001b[0;34m\u001b[0m\u001b[0m\n\u001b[1;32m    122\u001b[0m \u001b[0;34m\u001b[0m\u001b[0m\n",
      "\u001b[0;31mTypeError\u001b[0m: __init__() missing 2 required positional arguments: 'block_width' and 'block_height'"
     ]
    }
   ],
   "source": [
    "ghosts = [0,0,0,0] # north, east, south, west\n",
    "dataShape = (sim_args[\"ny\"] + ghosts[0]+ghosts[2], \n",
    "             sim_args[\"nx\"] + ghosts[1]+ghosts[3])\n",
    "    \n",
    "h0 = np.ones(dataShape, dtype=np.float32) * 60\n",
    "eta0 = np.zeros(dataShape, dtype=np.float32)\n",
    "u0 = np.zeros((dataShape[0], dataShape[1]+1), dtype=np.float32)\n",
    "v0 = np.zeros((dataShape[0]+1, dataShape[1]), dtype=np.float32)\n",
    "    \n",
    "#Create bump in to lower left of domain for testing\n",
    "addCentralBump(eta0, sim_args[\"nx\"], sim_args[\"ny\"], sim_args[\"dx\"], sim_args[\"dy\"], ghosts)\n",
    "\n",
    "#Initialize simulator\n",
    "fbl_args = {\"H\": h0, \"eta0\": eta0, \"hu0\": u0, \"hv0\": v0}\n",
    "sim = FBL.FBL(**fbl_args, **sim_args)\n",
    "\n",
    "#Run a simulation and plot it\n",
    "sim_animation(sim, T=50)"
   ]
  },
  {
   "cell_type": "code",
   "execution_count": null,
   "metadata": {
    "scrolled": false
   },
   "outputs": [],
   "source": [
    "ghosts = [1,1,1,1] # north, east, south, west\n",
    "dataShape = (sim_args[\"ny\"] + ghosts[0]+ghosts[2], \n",
    "             sim_args[\"nx\"] + ghosts[1]+ghosts[3])\n",
    "\n",
    "h0 = np.ones(dataShape, dtype=np.float32) * 60.0;\n",
    "eta0 = np.zeros(dataShape, dtype=np.float32);\n",
    "u0 = np.zeros((dataShape[0], dataShape[1]+1), dtype=np.float32);\n",
    "v0 = np.zeros((dataShape[0]+1, dataShape[1]), dtype=np.float32);       \n",
    "\n",
    "#Create bump in to lower left of domain for testing\n",
    "addCentralBump(eta0, sim_args[\"nx\"], sim_args[\"ny\"], sim_args[\"dx\"], sim_args[\"dy\"], ghosts)\n",
    "\n",
    "#Initialize simulator\n",
    "ctcs_args = {\"H\": h0, \"eta0\": eta0, \"hu0\": u0, \"hv0\": v0, \"A\": 1.0}\n",
    "sim = CTCS.CTCS(**ctcs_args, **sim_args)\n",
    "\n",
    "#Run a simulation and plot it\n",
    "sim_animation(sim, T=50)"
   ]
  },
  {
   "cell_type": "code",
   "execution_count": null,
   "metadata": {
    "scrolled": false
   },
   "outputs": [],
   "source": [
    "ghosts = np.array([2,2,2,2]) # north, east, south, west\n",
    "dataShape = (sim_args[\"ny\"] + ghosts[0]+ghosts[2], \n",
    "             sim_args[\"nx\"] + ghosts[1]+ghosts[3])\n",
    "\n",
    "Hi = np.ones((dataShape[0]+1, dataShape[1]+1), dtype=np.float32) * 60.0\n",
    "eta0 = np.zeros(dataShape, dtype=np.float32)\n",
    "u0 = np.zeros(dataShape, dtype=np.float32)\n",
    "v0 = np.zeros(dataShape, dtype=np.float32)\n",
    "\n",
    "#Create bump in to lower left of domain for testing\n",
    "addCentralBump(eta0, sim_args[\"nx\"], sim_args[\"ny\"], sim_args[\"dx\"], sim_args[\"dy\"], ghosts)\n",
    "\n",
    "#Initialize simulator\n",
    "ctcs_args = {\"Hi\": Hi, \"eta0\": eta0, \"hu0\": u0, \"hv0\": v0, \"use_rk2\": True}\n",
    "sim = KP07.KP07(**ctcs_args, **sim_args)\n",
    "\n",
    "#Run a simulation and plot it\n",
    "sim_animation(sim, T=50)"
   ]
  },
  {
   "cell_type": "code",
   "execution_count": null,
   "metadata": {
    "scrolled": false
   },
   "outputs": [],
   "source": [
    "ghosts = np.array([2,2,2,2]) # north, east, south, west\n",
    "dataShape = (sim_args[\"ny\"] + ghosts[0]+ghosts[2], \n",
    "             sim_args[\"nx\"] + ghosts[1]+ghosts[3])\n",
    "\n",
    "Hi = np.ones((dataShape[0]+1, dataShape[1]+1), dtype=np.float32) * 60.0\n",
    "eta0 = np.zeros(dataShape, dtype=np.float32)\n",
    "u0 = np.zeros(dataShape, dtype=np.float32)\n",
    "v0 = np.zeros(dataShape, dtype=np.float32)\n",
    "\n",
    "#Create bump in to lower left of domain for testing\n",
    "addCentralBump(eta0, sim_args[\"nx\"], sim_args[\"ny\"], sim_args[\"dx\"], sim_args[\"dy\"], ghosts)\n",
    "\n",
    "#Initialize simulator\n",
    "ctcs_args = {\"Hi\": Hi, \"eta0\": eta0, \"hu0\": u0, \"hv0\": v0, \"rk_order\": 2}\n",
    "sim = CDKLM16.CDKLM16(**ctcs_args, **sim_args)\n",
    "\n",
    "#Run a simulation and plot it\n",
    "sim_animation(sim, T=50)"
   ]
  },
  {
   "cell_type": "code",
   "execution_count": null,
   "metadata": {},
   "outputs": [],
   "source": []
  }
 ],
 "metadata": {
  "git": {
   "suppress_outputs": false
  },
  "kernelspec": {
   "display_name": "Python 3",
   "language": "python",
   "name": "python3"
  },
  "language_info": {
   "codemirror_mode": {
    "name": "ipython",
    "version": 3
   },
   "file_extension": ".py",
   "mimetype": "text/x-python",
   "name": "python",
   "nbconvert_exporter": "python",
   "pygments_lexer": "ipython3",
   "version": "3.5.2"
  }
 },
 "nbformat": 4,
 "nbformat_minor": 2
}
