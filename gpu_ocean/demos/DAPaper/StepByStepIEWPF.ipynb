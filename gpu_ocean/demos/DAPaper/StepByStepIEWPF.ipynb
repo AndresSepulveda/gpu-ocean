{
 "cells": [
  {
   "cell_type": "markdown",
   "metadata": {},
   "source": [
    "```\n",
    "This software is a part of GPU Ocean.\n",
    "\n",
    "Copyright (C) 2019  SINTEF Digital\n",
    "\n",
    "This notebook is used to create figures that illustrates how the \n",
    "optimal proposal pull (earlier called the Kalman gain term) acts on \n",
    "a particle.\n",
    "\n",
    "This program is free software: you can redistribute it and/or modify\n",
    "it under the terms of the GNU General Public License as published by\n",
    "the Free Software Foundation, either version 3 of the License, or\n",
    "(at your option) any later version.\n",
    "\n",
    "This program is distributed in the hope that it will be useful,\n",
    "but WITHOUT ANY WARRANTY; without even the implied warranty of\n",
    "MERCHANTABILITY or FITNESS FOR A PARTICULAR PURPOSE.  See the\n",
    "GNU General Public License for more details.\n",
    "\n",
    "You should have received a copy of the GNU General Public License\n",
    "along with this program.  If not, see <http://www.gnu.org/licenses/>.\n",
    "```"
   ]
  },
  {
   "cell_type": "markdown",
   "metadata": {},
   "source": [
    "# Optimal proposal pull figures\n",
    "\n",
    "Plan:\n",
    "- Initiate an ensemble with 5 members with zeros + 100*q + 10*q, and make a keepInfoPlot-plot to see that this ensemble can be used. Use a fixed seed and numpy random numbers on the host to make it reproducible.\n",
    "- Size should be small enough so that only one drifter is sufficient. Should use interpolation factor 5, and we get an influence radius of 45 grid cells. So we need grid that is of size 120x120.\n",
    "- Drifter should be in position (x,y) = (40, 70).\n"
   ]
  },
  {
   "cell_type": "markdown",
   "metadata": {},
   "source": [
    "## Set environment"
   ]
  },
  {
   "cell_type": "code",
   "execution_count": null,
   "metadata": {},
   "outputs": [],
   "source": [
    "%matplotlib inline\n",
    "%config InlineBackend.figure_format = 'retina'\n",
    "\n",
    "import numpy as np\n",
    "import matplotlib\n",
    "from matplotlib import pyplot as plt\n",
    "from matplotlib import animation, rc\n",
    "from scipy.special import lambertw\n",
    "\n",
    "import pycuda.driver as cuda\n",
    "\n",
    "import os\n",
    "import sys\n",
    "import datetime\n",
    "from importlib import reload\n",
    "\n",
    "sys.path.insert(0, os.path.abspath(os.path.join(os.getcwd(), '../../')))\n",
    "\n",
    "#Set large figure sizes\n",
    "rc('figure', figsize=(16.0, 12.0))\n",
    "rc('animation', html='html5')\n",
    "rc('font',**{'family':'sans-serif','sans-serif':['Helvetica'], 'size':16})\n",
    "rc('text', usetex=True)\n",
    "rc('xtick', labelsize=14)     \n",
    "rc('ytick', labelsize=14)\n",
    "\n",
    "matplotlib.rcParams['contour.negative_linestyle'] = 'solid'\n",
    "\n",
    "\n",
    "#Import our simulator\n",
    "from SWESimulators import CDKLM16, PlotHelper, Common, IPythonMagic, config\n",
    "\n",
    "from SWESimulators import BathymetryAndICs as BC\n",
    "from SWESimulators import OceanStateNoise\n",
    "from SWESimulators import OceanNoiseEnsemble\n",
    "from SWESimulators import BaseOceanStateEnsemble\n",
    "from SWESimulators import DataAssimilationUtils as dautils\n",
    "from SWESimulators import IEWPFOcean\n",
    "\n",
    "#np.random.seed(8) # 8 was fine, but velocities the wrong way...\n",
    "#np.random.seed(11) # 11 was fine also, but innovation straight north...\n",
    "np.random.seed(25) # 11 was fine also, but innovation straight north..."
   ]
  },
  {
   "cell_type": "code",
   "execution_count": null,
   "metadata": {},
   "outputs": [],
   "source": [
    "%cuda_context_handler gpu_ctx\n",
    "%setup_logging --out iewpf_2stage_gpu.log --file_level $config.GPUOceanLoggerLevels.IEWPF_DEBUG.value"
   ]
  },
  {
   "cell_type": "code",
   "execution_count": null,
   "metadata": {},
   "outputs": [],
   "source": [
    "#Create output directory for images\n",
    "imgdir='optimal_proposal_pull_' + datetime.datetime.now().strftime(\"%Y_%m_%d-%H_%M_%S\")\n",
    "os.makedirs(imgdir)\n",
    "imgdir = imgdir + \"/\"\n",
    "print(\"Saving figures to \" + imgdir)"
   ]
  },
  {
   "cell_type": "markdown",
   "metadata": {},
   "source": [
    "# Testing two-stage IEWPF\n",
    "\n",
    "Here, we make a test of the entire two-stage IEWPF algorithm applied to a suitable test case."
   ]
  },
  {
   "cell_type": "code",
   "execution_count": null,
   "metadata": {
    "scrolled": false
   },
   "outputs": [],
   "source": [
    "# DEFINE PARAMETERS\n",
    "\n",
    "sim_args = {\n",
    "    \"gpu_ctx\": gpu_ctx,\n",
    "    \"nx\": 120, \"ny\": 120,\n",
    "    #\"nx\": 15, \"ny\": 15,\n",
    "    \"dx\": 4.0, \"dy\": 4.0,\n",
    "    \"dt\": 0.05,\n",
    "    \"g\": 9.81,\n",
    "    \"f\": 0.05,\n",
    "    \"coriolis_beta\": 0.0,\n",
    "    \"r\": 0.0,\n",
    "    \"rk_order\": 2,\n",
    "    \"small_scale_perturbation_amplitude\": None,\n",
    "    \"write_netcdf\": False, \n",
    "    \"small_scale_perturbation\": True,\n",
    "    #\"small_scale_perturbation_interpolation_factor\": 1,\n",
    "    \"small_scale_perturbation_interpolation_factor\": 5,\n",
    "    \"boundary_conditions\": Common.BoundaryConditions(2,2,2,2)\n",
    "}\n",
    "\n",
    "ghosts = np.array([2,2,2,2]) # north, east, south, west\n",
    "validDomain = np.array([2,2,2,2])\n",
    "\n",
    "\n",
    "dataShape = (sim_args[\"ny\"] + ghosts[0]+ghosts[2], \n",
    "             sim_args[\"nx\"] + ghosts[1]+ghosts[3])\n",
    "dataShapeHi = (sim_args[\"ny\"] + ghosts[0]+ghosts[2]+1, \n",
    "             sim_args[\"nx\"] + ghosts[1]+ghosts[3]+1)\n",
    "\n",
    "sim_args[\"eta0\"] = np.zeros(dataShape, dtype=np.float32, order='C');\n",
    "sim_args[\"hv0\"] = np.zeros(dataShape, dtype=np.float32, order='C');\n",
    "sim_args[\"hu0\"] = np.zeros(dataShape, dtype=np.float32, order='C');\n",
    "waterDepth = 10.0\n",
    "sim_args[\"H\"] = np.ones(dataShapeHi, dtype=np.float32, order='C')*waterDepth\n",
    "\n",
    "\n",
    "if 'sim' in globals(): \n",
    "    sim.cleanUp()\n",
    "if 'ensemble' in globals():\n",
    "    ensemble.cleanUp()\n",
    "if 'iewpfOcean' in globals():\n",
    "    iewpfOcean.cleanUp()\n",
    "    \n",
    "sim_args[\"small_scale_perturbation_amplitude\"] = np.sqrt(sim_args[\"dt\"])*0.5*sim_args[\"f\"]/(sim_args[\"g\"]*waterDepth)\n",
    "sim_args[\"small_scale_perturbation_amplitude\"] *= sim_args[\"small_scale_perturbation_interpolation_factor\"]\n",
    "print (\"q0: \", sim_args[\"small_scale_perturbation_amplitude\"])\n",
    "print (\"[f, g, H, dt]\", [sim_args[\"f\"], sim_args[\"g\"], waterDepth, sim_args[\"dt\"]])\n",
    "print (\"(nx, ny): \", (sim_args[\"nx\"], sim_args[\"ny\"]))\n",
    "\n",
    "reload(CDKLM16)\n",
    "reload(BaseOceanStateEnsemble)\n",
    "reload(OceanNoiseEnsemble)\n",
    "reload(PlotHelper)\n",
    "reload(dautils)\n",
    "reload(IEWPFOcean)\n",
    "\n",
    "sim = CDKLM16.CDKLM16(**sim_args)\n",
    "\n",
    "# Initial perturbation\n",
    "rand_nx, rand_ny = sim.small_scale_model_error.rand_nx, sim.small_scale_model_error.rand_ny\n",
    "init_rand = np.random.normal(size=(rand_ny, rand_nx))\n",
    "sim.small_scale_model_error.random_numbers.upload(sim.gpu_stream, init_rand)\n",
    "sim.small_scale_model_error.perturbSim(sim, q0_scale=100, update_random_field=False)\n",
    "    \n",
    "eta_init, hu_init, hv_init = sim.download(True)\n",
    "    \n",
    "ensemble_args = {\n",
    "    \"gpu_ctx\": gpu_ctx,\n",
    "    \"numParticles\": 5,\n",
    "    \"num_drifters\": 1,\n",
    "    \"sim\": sim,\n",
    "    \"observation_type\": dautils.ObservationType.DirectUnderlyingFlow,\n",
    "    \"observation_variance\": 0.015**2 #0.02**2\n",
    "}\n",
    "\n",
    "ensemble = OceanNoiseEnsemble.OceanNoiseEnsemble(**ensemble_args)\n",
    "\n",
    "max_dt = ensemble.findLargestPossibleTimeStep()\n",
    "print (\"max_dt: \", max_dt)\n",
    "\n",
    "iewpfOcean = IEWPFOcean.IEWPFOcean(ensemble, debug=False, show_errors=True)\n",
    "\n",
    "print (\"Ready!\")\n",
    "#ensemble.plotEnsemble()"
   ]
  },
  {
   "cell_type": "code",
   "execution_count": null,
   "metadata": {},
   "outputs": [],
   "source": [
    "# Set drifter position\n",
    "ensemble.setTrueDrifterPositions([[75.5*ensemble.dx,40.5*ensemble.dy]])\n",
    "#ensemble.setTrueDrifterPositions([[35.5*ensemble.dx,35.5*ensemble.dy]])\n",
    "\n",
    "for particle in ensemble.particles:\n",
    "    perturbation = np.random.normal(size=(rand_ny, rand_nx))\n",
    "    particle.small_scale_model_error.random_numbers.upload(particle.gpu_stream, perturbation)\n",
    "    particle.small_scale_model_error.perturbSim(particle, q0_scale=30, update_random_field=False)\n",
    "    \n",
    "ensemble.step(ensemble.dt)"
   ]
  },
  {
   "cell_type": "code",
   "execution_count": null,
   "metadata": {
    "scrolled": false
   },
   "outputs": [],
   "source": [
    "ensemble.plotVelocityInfo(\"Prior to DA\")\n",
    "print(\"hei\")"
   ]
  },
  {
   "cell_type": "code",
   "execution_count": null,
   "metadata": {},
   "outputs": [],
   "source": [
    "print(ensemble.getInnovations())"
   ]
  },
  {
   "cell_type": "code",
   "execution_count": null,
   "metadata": {},
   "outputs": [],
   "source": [
    "ideal_particle=3"
   ]
  },
  {
   "cell_type": "code",
   "execution_count": null,
   "metadata": {},
   "outputs": [],
   "source": [
    "ensemble.plotEnsemble()"
   ]
  },
  {
   "cell_type": "code",
   "execution_count": null,
   "metadata": {
    "scrolled": false
   },
   "outputs": [],
   "source": [
    "def showMatrices3(eta, hu, hv, title, drifterPositions=None, ensemble=None):\n",
    "    num_cols = 3\n",
    "    min_velocity = min(np.min(hu), np.min(hv))\n",
    "    max_velocity = max(np.max(hu), np.max(hv))\n",
    "    \n",
    "    fig = plt.figure(figsize=(12,4))\n",
    "    ax = plt.subplot(1,num_cols,1)\n",
    "    plt.imshow(eta, origin=\"lower\", interpolation=\"None\")\n",
    "    if drifterPositions is not None:\n",
    "        _markDriftersInImshow(ax, drifterPositions, ensemble)\n",
    "    \n",
    "    ax = plt.subplot(1,num_cols,2)\n",
    "    plt.imshow(hu, origin=\"lower\", interpolation=\"None\", \n",
    "               vmin=min_velocity, vmax=max_velocity)\n",
    "    if drifterPositions is not None:\n",
    "        _markDriftersInImshow(ax, drifterPositions, ensemble)\n",
    "\n",
    "    ax = plt.subplot(1, num_cols, 3)\n",
    "    plt.imshow(hv, origin=\"lower\", interpolation=\"None\", \n",
    "           vmin=min_velocity, vmax=max_velocity)\n",
    "    if drifterPositions is not None:\n",
    "        _markDriftersInImshow(ax, drifterPositions, ensemble)\n",
    "\n",
    "\n",
    "def imshow(data, interpolation=\"None\", title=None, figsize=(4,4), interior=False):\n",
    "    fig = plt.figure(figsize=figsize)\n",
    "    \n",
    "    if interior:\n",
    "        im = plt.imshow(data[2:-2,2:-2], interpolation=interpolation, origin='lower')\n",
    "    else:\n",
    "        im = plt.imshow(data, interpolation=interpolation, origin='lower')\n",
    "    \n",
    "    plt.colorbar()\n",
    "    if title is not None:\n",
    "        plt.title(title, fontsize=15)\n",
    "    ny, nx = data.shape\n",
    "    axis_label_text = r'$\\Omega^R$'\n",
    "    if ny == ensemble.ny:\n",
    "        axis_label_text = r'$\\Omega^M$'\n",
    "    axis_label = plt.text(-nx/6, -ny/6, axis_label_text, fontsize=15)\n",
    "\n",
    "        \n",
    "        \n",
    "def imshow3(eta, hu, hv, interpolation=\"None\", title=None, figsize=(13,4), interior=False, infotext=None):\n",
    "\n",
    "    ny, nx = eta.shape\n",
    "    axis_label_text = r'$\\Omega^R$'\n",
    "    if ny == ensemble.ny:\n",
    "        axis_label_text = r'$\\Omega^M$'\n",
    "    \n",
    "    fig = None\n",
    "    axs = None\n",
    "    if infotext is None:\n",
    "        fig, axs = plt.subplots(1,3, figsize=figsize)\n",
    "    else:\n",
    "        fig, axs = plt.subplots(1,4, figsize=(figsize[0]*1.33, figsize[1]))\n",
    "    \n",
    "    range_eta = np.max(np.abs(eta))\n",
    "    range_huv = max(np.max(np.abs(hu)), np.max(np.abs(hv)))\n",
    "    \n",
    "    if interior:\n",
    "        eta_im = axs[0].imshow(eta[2:-2,2:-2], interpolation=interpolation, origin='lower', vmin=-range_eta, vmax=range_eta)\n",
    "    else:\n",
    "        eta_im = axs[0].imshow(eta, interpolation=interpolation, origin='lower', vmin=-range_eta, vmax=range_eta)\n",
    "    axs[0].set_title(\"$\\eta$\", fontsize=14)\n",
    "    plt.colorbar(eta_im, ax=axs[0])\n",
    "    axis_label = axs[0].text(-nx/6, -ny/6, axis_label_text, fontsize=15)\n",
    "    \n",
    "    if interior:\n",
    "        hu_im = axs[1].imshow(hu[2:-2,2:-2], interpolation=interpolation, origin='lower', vmin=-range_huv, vmax=range_huv)\n",
    "    else:\n",
    "        hu_im = axs[1].imshow(hu, interpolation=interpolation, origin='lower', vmin=-range_huv, vmax=range_huv)\n",
    "    axs[1].set_title(\"$hu$\", fontsize=14)\n",
    "    plt.colorbar(hu_im, ax=axs[1])\n",
    "    axis_label = axs[1].text(-nx/6, -ny/6, axis_label_text, fontsize=15)\n",
    "    \n",
    "    if interior:\n",
    "        hv_im = axs[2].imshow(hv[2:-2,2:-2], interpolation=interpolation, origin='lower', vmin=-range_huv, vmax=range_huv)\n",
    "    else:\n",
    "        hv_im = axs[2].imshow(hv, interpolation=interpolation, origin='lower', vmin=-range_huv, vmax=range_huv)\n",
    "    axs[2].set_title(\"$hv$\", fontsize=14)\n",
    "    plt.colorbar(hv_im, ax=axs[2])\n",
    "    axis_label = axs[2].text(-nx/6, -ny/6, axis_label_text, fontsize=15)\n",
    "\n",
    "    if infotext is not None:\n",
    "        axs[3].text(0.5, 0.5, infotext, ha='center')\n",
    "\n",
    "    plt.subplots_adjust(top=0.88)                        \n",
    "    if title is not None:\n",
    "        if infotext is None:\n",
    "            plt.suptitle(title,  y=1.00, fontsize=16)\n",
    "        else: \n",
    "            plt.suptitle(title, x=3.0/8.0,  y=1.00, fontsize=16)\n",
    "            \n",
    "    plt.tight_layout()\n",
    "    return fig\n",
    "        \n",
    "def createInnovationPlot(ensemble, particle_id, S):\n",
    "    drifter_position = ensemble.observeTrueDrifters()[0,:]\n",
    "    true_velocity = ensemble.observeTrueState()[0, 2:]\n",
    "    all_particle_velocities = ensemble.observeParticles()\n",
    "    particle_velocity = ensemble.observeParticles()[particle_id,0,:]\n",
    "    innovation = ensemble.getInnovations()[particle_id,0,:]\n",
    "    \n",
    "    print(\"drifter_position\", drifter_position)\n",
    "    print(\"true_velocity\", true_velocity)\n",
    "    #print(\"all_particle_velocities\", all_particle_velocities)    \n",
    "    print(\"particle_velocity\", particle_velocity)\n",
    "    print(\"innovation: \", innovation)\n",
    "    \n",
    "    cell_id_x = int(np.floor(drifter_position[0]/ensemble.dx))\n",
    "    cell_id_y = int(np.floor(drifter_position[1]/ensemble.dy))\n",
    "    print(\"cell_id: \", (cell_id_x, cell_id_y))\n",
    "    \n",
    "    fig = plt.figure(figsize=(4,4))\n",
    "    ax = plt.subplot(111)\n",
    "    ax.imshow(np.zeros((ensemble.ny, ensemble.nx))*np.nan, origin=\"lower\")\n",
    "\n",
    "    print(\"S: \", S)\n",
    "    print(\"S*d: \", np.dot(S, innovation))#S*ensemble.getInnovations()[particle_id,:,:].transpose)\n",
    "\n",
    "    circ = matplotlib.patches.Circle((cell_id_x, cell_id_y), 2, fill=False)\n",
    "    ax.add_patch(circ)\n",
    "    \n",
    "    # Add observed particle and truth\n",
    "    arrow_scale = 20\n",
    "    particle_arrow = matplotlib.pyplot.arrow(cell_id_x, cell_id_y, \n",
    "                                             particle_velocity[0]*arrow_scale, \n",
    "                                             particle_velocity[1]*arrow_scale, \\\n",
    "                                             color='xkcd:electric pink', width=0.7)\n",
    "    ax.add_patch(particle_arrow)\n",
    "    \n",
    "    truth_arrow = matplotlib.pyplot.arrow(cell_id_x, cell_id_y, \n",
    "                                          true_velocity[0]*arrow_scale, \n",
    "                                          true_velocity[1]*arrow_scale, \\\n",
    "                                          color='xkcd:azure', width=0.7)\n",
    "    ax.add_patch(truth_arrow)\n",
    "    \n",
    "    innovation_arrow = matplotlib.pyplot.arrow(cell_id_x, #+particle_velocity[0]*arrow_scale, \n",
    "                                               cell_id_y, #+particle_velocity[1]*arrow_scale, \n",
    "                                               innovation[0]*arrow_scale, \n",
    "                                               innovation[1]*arrow_scale, \n",
    "                                               linestyle=':',\n",
    "                                               color='xkcd:dark slate blue', width=0.7)\n",
    "    ax.add_patch(innovation_arrow)\n",
    "    \n",
    "    text_particle = plt.text(cell_id_x+particle_velocity[0]*arrow_scale+3, \n",
    "                             cell_id_y+particle_velocity[1]*arrow_scale, \n",
    "                             r'$H(\\psi^n)$', fontsize=15)\n",
    "    text_observation = plt.text(cell_id_x+true_velocity[0]*arrow_scale-13, \n",
    "                                cell_id_y+true_velocity[1]*arrow_scale, \n",
    "                                r'$y^n$', fontsize=15)\n",
    "    text_innovation = plt.text(cell_id_x+innovation[0]*arrow_scale-48, \n",
    "                               cell_id_y+innovation[1]*arrow_scale-12, \n",
    "                               r'$d^n = y^n - H(\\psi^n)$', fontsize=15)\n",
    "    #ax.annotate('', xy=(1.2, 0.3), xycoords='axes fraction', xytext=(1.1, 0.4), \n",
    "    #        arrowprops=dict(arrowstyle=\"->\", color='green'))\n",
    "    #fig.canvas.draw()\n",
    "\n",
    "    axis_label = plt.text(-ensemble.nx/7, -ensemble.ny/7, r'$\\Omega^M$', fontsize=15)\n",
    "\n",
    "    plt.title('Observation, particle state and innovation', fontsize=15)\n",
    "    \n",
    "    return ax\n",
    "            \n"
   ]
  },
  {
   "cell_type": "code",
   "execution_count": null,
   "metadata": {
    "scrolled": false
   },
   "outputs": [],
   "source": [
    "ax = createInnovationPlot(ensemble, ideal_particle, iewpfOcean.S_host)\n",
    "plt.savefig(imgdir + \"1_vectors.pdf\", bbox_inches=\"tight\", format='pdf')"
   ]
  },
  {
   "cell_type": "code",
   "execution_count": null,
   "metadata": {
    "scrolled": false
   },
   "outputs": [],
   "source": [
    "# Innovation times S\n",
    "S = iewpfOcean.S_host\n",
    "innovation = ensemble.getInnovations()[ideal_particle,0,:]\n",
    "\n",
    "Sd = np.dot(S, innovation)\n",
    "print(\"S*d: \", Sd)#S*ensemble.getInnovations()[particle_id,:,:].transpose)\n",
    "\n",
    "drifter_position = ensemble.observeTrueDrifters()[0,:]\n",
    "coarse_dx = ensemble.particles[ideal_particle].small_scale_model_error.coarse_dx\n",
    "coarse_dy = ensemble.particles[ideal_particle].small_scale_model_error.coarse_dy\n",
    "coarse_cell_id_x = int(np.floor(drifter_position[0]/coarse_dx))\n",
    "coarse_cell_id_y = int(np.floor(drifter_position[1]/coarse_dy))\n",
    "print(\"cell_id: \", (coarse_cell_id_x, coarse_cell_id_y))\n",
    "\n",
    "rand_nx, rand_ny = sim.small_scale_model_error.rand_nx, sim.small_scale_model_error.rand_ny\n",
    "zero_buffer = np.zeros((rand_ny, rand_nx), dtype=np.float32)\n",
    "\n",
    "IHSd_eta = zero_buffer.copy()\n",
    "IHSd_hu  = zero_buffer.copy()\n",
    "IHSd_hv  = zero_buffer.copy()\n",
    "\n",
    "IHSd_hu[coarse_cell_id_y, coarse_cell_id_x] = Sd[0,0]\n",
    "IHSd_hv[coarse_cell_id_y, coarse_cell_id_x] = Sd[0,1]\n",
    "\n",
    "imshow3(IHSd_eta, IHSd_hu, IHSd_hv,\n",
    "        title=r'$I^T_{\\Omega}  H^T S d$')\n",
    "\n",
    "plt.savefig(imgdir + \"2_innovation_in_statespace.pdf\", bbox_inches=\"tight\", format='pdf')\n",
    "\n",
    "print(\"yeah...\")"
   ]
  },
  {
   "cell_type": "code",
   "execution_count": null,
   "metadata": {},
   "outputs": [],
   "source": [
    "QgbTIHSd  = zero_buffer.copy()\n",
    "\n",
    "geoBalanceConst = iewpfOcean.geoBalanceConst\n",
    "\n",
    "j = coarse_cell_id_y\n",
    "i = coarse_cell_id_x\n",
    "\n",
    "QgbTIHSd[j+1, i  ] = -Sd[0,0]*geoBalanceConst/coarse_dy\n",
    "QgbTIHSd[j-1, i  ] =  Sd[0,0]*geoBalanceConst/coarse_dy\n",
    "QgbTIHSd[j  , i+1] =  Sd[0,1]*geoBalanceConst/coarse_dx\n",
    "QgbTIHSd[j  , i-1] = -Sd[0,1]*geoBalanceConst/coarse_dx\n",
    "\n",
    "#// the x-component of the innovation spreads to north and south\n",
    "#shared_huhv[0] = -e_x_*geoBalanceConst_/dy_; // north \n",
    "#shared_huhv[2] =  e_x_*geoBalanceConst_/dy_; // south\n",
    "#// the y-component of the innovation spreads to east and west\n",
    "#shared_huhv[1] =  e_y_*geoBalanceConst_/dx_; // east\n",
    "#shared_huhv[3] = -e_y_*geoBalanceConst_/dx_; // west\n",
    "\n",
    "\n",
    "imshow(QgbTIHSd, title=r'$Q^{1/2, T}_{GB} I^T_{\\Omega}  H^T S d$')\n",
    "\n",
    "plt.savefig(imgdir + \"3_innovation_five_point.pdf\", bbox_inches=\"tight\", format='pdf')"
   ]
  },
  {
   "cell_type": "code",
   "execution_count": null,
   "metadata": {},
   "outputs": [],
   "source": [
    "\n",
    "iewpfOcean.setNoiseBufferToZero(ensemble.particles[ideal_particle])\n",
    "        \n",
    "local_innovation = innovation\n",
    "observed_drifter_position = drifter_position\n",
    "\n",
    "cell_id_x = np.int32(int(np.floor(observed_drifter_position[0]/iewpfOcean.dx)))\n",
    "cell_id_y = np.int32(int(np.floor(observed_drifter_position[1]/iewpfOcean.dy)))\n",
    "coarse_cell_id_x = np.int32(int(np.floor(observed_drifter_position[0]/iewpfOcean.coarse_dx)))\n",
    "coarse_cell_id_y = np.int32(int(np.floor(observed_drifter_position[1]/iewpfOcean.coarse_dy)))\n",
    "\n",
    "# 1) Solve linear problem\n",
    "e = np.dot(iewpfOcean.S_host, local_innovation)\n",
    "\n",
    "iewpfOcean.halfTheKalmanGainKernel.prepared_async_call(iewpfOcean.global_size_Kalman,\n",
    "                                                 iewpfOcean.local_size_Kalman,\n",
    "                                                 ensemble.particles[ideal_particle].gpu_stream,\n",
    "                                                 iewpfOcean.coarse_nx, iewpfOcean.coarse_ny, \n",
    "                                                 iewpfOcean.coarse_dx, iewpfOcean.coarse_dy,\n",
    "                                                 iewpfOcean.soar_q0, iewpfOcean.soar_L,\n",
    "                                                 coarse_cell_id_x, coarse_cell_id_y,\n",
    "                                                 iewpfOcean.geoBalanceConst,\n",
    "                                                 np.float32(e[0,0]), np.float32(e[0,1]),\n",
    "                                                 ensemble.particles[ideal_particle].small_scale_model_error.random_numbers.data.gpudata,\n",
    "                                                 ensemble.particles[ideal_particle].small_scale_model_error.random_numbers.pitch)\n",
    "\n",
    "half_kalman_gain = ensemble.particles[ideal_particle].small_scale_model_error.getRandomNumbers()\n"
   ]
  },
  {
   "cell_type": "code",
   "execution_count": null,
   "metadata": {},
   "outputs": [],
   "source": [
    "imshow(half_kalman_gain, title=r'$Q^{1/2}_{SOAR}Q^{1/2, T}_{GB} I^T_{\\Omega}  H^T S d$')\n",
    "\n",
    "plt.savefig(imgdir + \"4_soar1.pdf\", bbox_inches=\"tight\", format='pdf')"
   ]
  },
  {
   "cell_type": "code",
   "execution_count": null,
   "metadata": {},
   "outputs": [],
   "source": [
    "## Store the state prior to adding \n",
    "## the Kalman gain, so that we \n",
    "## can subtract it for plotting the\n",
    "## contribution.\n",
    "\n",
    "pre_eta, pre_hu, pre_hv = ensemble.particles[ideal_particle].download(interior_domain_only=True)"
   ]
  },
  {
   "cell_type": "code",
   "execution_count": null,
   "metadata": {},
   "outputs": [],
   "source": []
  },
  {
   "cell_type": "code",
   "execution_count": null,
   "metadata": {},
   "outputs": [],
   "source": [
    "iewpfOcean.addKalmanGain(ensemble.particles[ideal_particle], \n",
    "                         ensemble.observeTrueDrifters(), \n",
    "                         ensemble.getInnovations()[ideal_particle])"
   ]
  },
  {
   "cell_type": "code",
   "execution_count": null,
   "metadata": {},
   "outputs": [],
   "source": [
    "half_kalman_gain_soar = ensemble.particles[ideal_particle].small_scale_model_error.getCoarseBuffer()\n",
    "imshow(half_kalman_gain_soar, \n",
    "       title=r'$Q^{1/2}_{SOAR}Q^{1/2}_{SOAR}Q^{1/2, T}_{GB} I^T_{\\Omega}  H^T S d$')\n",
    "plt.savefig(imgdir + \"5_soar2.pdf\", bbox_inches=\"tight\", format='pdf')"
   ]
  },
  {
   "cell_type": "code",
   "execution_count": null,
   "metadata": {},
   "outputs": [],
   "source": [
    "post_eta, post_hu, post_hv = ensemble.particles[ideal_particle].download(interior_domain_only=True)\n",
    "kalman_eta = post_eta - pre_eta\n",
    "kalman_hu  = post_hu  - pre_hu\n",
    "kalman_hv  = post_hv  - pre_hv"
   ]
  },
  {
   "cell_type": "code",
   "execution_count": null,
   "metadata": {},
   "outputs": [],
   "source": [
    "\n",
    "\n",
    "imshow(kalman_eta,\n",
    "       title=r'$I_{\\Omega}Q^{1/2}_{SOAR}Q^{1/2}_{SOAR}Q^{1/2, T}_{GB} I^T_{\\Omega}  H^T S d$')\n",
    "plt.savefig(imgdir + \"6_interpolation.pdf\", bbox_inches=\"tight\", format='pdf')"
   ]
  },
  {
   "cell_type": "code",
   "execution_count": null,
   "metadata": {},
   "outputs": [],
   "source": [
    "imshow3(kalman_eta, kalman_hu, kalman_hv,\n",
    "        title=r'$Q^{1/2}_{GB}I_{\\Omega}Q^{1/2}_{SOAR}Q^{1/2}_{SOAR}Q^{1/2, T}_{GB} I^T_{\\Omega}  H^T S d$')\n",
    "print(\"hei\")\n",
    "#plt.suptitle(r'$Q^{1/2}_{GB}I_{\\Omega}Q^{1/2}_{SOAR}Q^{1/2}_{SOAR}Q^{1/2, T}_{GB} I^T_{\\Omega}  H^T S d$', \n",
    "#             y=1.0, fontsize=14)\n",
    "plt.tight_layout()\n",
    "plt.savefig(imgdir + \"7_thepull.pdf\", bbox_inches=\"tight\", format='pdf')"
   ]
  },
  {
   "cell_type": "code",
   "execution_count": null,
   "metadata": {},
   "outputs": [],
   "source": [
    "plt.plot(post_eta[40, :])\n",
    "plt.plot(post_eta[37, :])\n",
    "plt.plot(post_eta[45, :])\n",
    "plt.plot(post_eta[43, :])\n",
    "plt.plot(post_eta[50, :])\n",
    "plt.plot(post_eta[34, :])"
   ]
  },
  {
   "cell_type": "code",
   "execution_count": null,
   "metadata": {},
   "outputs": [],
   "source": [
    "plt.plot(post_hu[40, :])\n",
    "plt.plot(post_hu[37, :])\n",
    "plt.plot(post_hu[45, :])\n",
    "plt.plot(post_hu[43, :])\n",
    "plt.plot(post_hu[50, :])\n",
    "plt.plot(post_hu[34, :])"
   ]
  },
  {
   "cell_type": "code",
   "execution_count": null,
   "metadata": {},
   "outputs": [],
   "source": [
    "plt.plot(post_hv[40, :])\n",
    "plt.plot(post_hv[37, :])\n",
    "plt.plot(post_hv[45, :])\n",
    "plt.plot(post_hv[43, :])\n",
    "plt.plot(post_hv[50, :])\n",
    "plt.plot(post_hv[34, :])"
   ]
  },
  {
   "cell_type": "code",
   "execution_count": null,
   "metadata": {},
   "outputs": [],
   "source": [
    "plt.plot(post_eta[:,70])\n",
    "plt.plot(post_eta[:,67])\n",
    "plt.plot(post_eta[:,75])\n",
    "plt.plot(post_eta[:,73])\n",
    "plt.plot(post_eta[:,80])\n",
    "plt.plot(post_eta[:,64])"
   ]
  },
  {
   "cell_type": "code",
   "execution_count": null,
   "metadata": {},
   "outputs": [],
   "source": [
    "ax = createInnovationPlot(ensemble, ideal_particle, iewpfOcean.S_host)\n",
    "plt.savefig(imgdir + \"8_post_kalman_state.pdf\", format='pdf')"
   ]
  },
  {
   "cell_type": "code",
   "execution_count": null,
   "metadata": {},
   "outputs": [],
   "source": []
  },
  {
   "cell_type": "code",
   "execution_count": null,
   "metadata": {},
   "outputs": [],
   "source": [
    "sdfgg"
   ]
  },
  {
   "cell_type": "code",
   "execution_count": null,
   "metadata": {},
   "outputs": [],
   "source": []
  },
  {
   "cell_type": "code",
   "execution_count": null,
   "metadata": {},
   "outputs": [],
   "source": []
  },
  {
   "cell_type": "markdown",
   "metadata": {},
   "source": [
    "## Old stuff"
   ]
  },
  {
   "cell_type": "code",
   "execution_count": null,
   "metadata": {},
   "outputs": [],
   "source": [
    "# Utility plotter function\n",
    "def imshow3(eta, hu, hv, interpolation=\"None\", title=None, interior=False):\n",
    "    fig, axs = plt.subplots(1,3, figsize=(12,4))\n",
    "    \n",
    "    if interior:\n",
    "        eta_im = axs[0].imshow(eta[2:-2,2:-2], interpolation=interpolation, origin='lower')\n",
    "    else:\n",
    "        eta_im = axs[0].imshow(eta, interpolation=interpolation, origin='lower')\n",
    "    axs[0].set_title(\"eta\")\n",
    "    plt.colorbar(eta_im, ax=axs[0])\n",
    "    \n",
    "    if interior:\n",
    "        hu_im = axs[1].imshow(hu[2:-2,2:-2], interpolation=interpolation, origin='lower')\n",
    "    else:\n",
    "        hu_im = axs[1].imshow(hu, interpolation=interpolation, origin='lower')\n",
    "    axs[1].set_title(\"hu\")\n",
    "    plt.colorbar(hu_im, ax=axs[1])\n",
    "\n",
    "    if interior:\n",
    "        hv_im = axs[2].imshow(hv[2:-2,2:-2], interpolation=interpolation, origin='lower')\n",
    "    else:\n",
    "        hv_im = axs[2].imshow(hv, interpolation=interpolation, origin='lower')\n",
    "    axs[2].set_title(\"hv\")\n",
    "    plt.colorbar(hv_im, ax=axs[2])\n",
    "\n",
    "    if title is not None:\n",
    "        plt.suptitle(title)\n",
    "    plt.tight_layout()"
   ]
  },
  {
   "cell_type": "code",
   "execution_count": null,
   "metadata": {},
   "outputs": [],
   "source": [
    "if 'sim' in globals():\n",
    "    sim.cleanUp()\n",
    "if 'ensemble' in globals():\n",
    "    ensemble.cleanUp()\n",
    "if 'iewpfOcean' in globals():\n",
    "    iewpfOcean.cleanUp()\n",
    "\n",
    "\n",
    "reload(OceanStateNoise)\n",
    "reload(CDKLM16)\n",
    "reload(BaseOceanStateEnsemble)\n",
    "reload(OceanNoiseEnsemble)\n",
    "reload(PlotHelper)\n",
    "reload(dautils)\n",
    "reload(IEWPFOcean)\n",
    "\n",
    "\n",
    "# Create a new ensemble with an initial perturbation\n",
    "sim = CDKLM16.CDKLM16(**sim_args)\n",
    "sim.perturbState(q0_scale=100)\n",
    "\n",
    "ensemble_args[\"numParticles\"] = 5\n",
    "ensemble_args[\"num_drifters\"] = 3\n",
    "ensemble_args[\"sim\"] = sim\n",
    "ensemble = OceanNoiseEnsemble.OceanNoiseEnsemble(**ensemble_args)\n",
    "\n",
    "iewpfOcean = IEWPFOcean.IEWPFOcean(ensemble, debug=False, show_errors=True)\n",
    "\n",
    "# Ensuring that the particles behave a bit different from each others\n",
    "ensemble.step(100*ensemble.dt)\n",
    "\n",
    "# Set the state of particle 0 to zero \n",
    "zeros = np.zeros((ensemble.ny+4, ensemble.nx+4), dtype=np.float32)\n",
    "ensemble.particles[0].gpu_data.h0.upload(ensemble.particles[0].gpu_stream, zeros)\n",
    "ensemble.particles[0].gpu_data.hu0.upload(ensemble.particles[0].gpu_stream, zeros)\n",
    "ensemble.particles[0].gpu_data.hv0.upload(ensemble.particles[0].gpu_stream, zeros)\n",
    "\n",
    "\n",
    "# Plot\n",
    "#ensemble.plotEnsemble(num_particles=2)\n",
    "print(\"ready\")"
   ]
  },
  {
   "cell_type": "markdown",
   "metadata": {},
   "source": [
    "The initial steps of IEWPF before looping through particles"
   ]
  },
  {
   "cell_type": "code",
   "execution_count": null,
   "metadata": {},
   "outputs": [],
   "source": [
    "# Observe true drifter positions and get innovations\n",
    "observed_drifter_positions = ensemble.observeTrueDrifters()\n",
    "print(\"observed drifter positions: \", observed_drifter_positions)\n",
    "\n",
    "# Innovations\n",
    "innovations = ensemble.getInnovations()\n",
    "print(\"Innovations: \", innovations)\n",
    "\n",
    "# Get the weights before resampling - all equal, so we only make a scalar (instead of a vector)\n",
    "w_rest = -np.log(1.0/ensemble.getNumParticles())*np.ones(ensemble.getNumParticles())\n",
    "print(\"w_rest: \", w_rest)\n",
    "\n",
    "phi_array     = np.zeros(ensemble.getNumParticles())\n",
    "zeta_array = np.zeros(ensemble.getNumParticles())\n",
    "gamma_array   = np.zeros(ensemble.getNumParticles())"
   ]
  },
  {
   "cell_type": "markdown",
   "metadata": {},
   "source": [
    "Now we start working with the individual particles. First, we add **the Kalman gain**"
   ]
  },
  {
   "cell_type": "code",
   "execution_count": null,
   "metadata": {
    "scrolled": false
   },
   "outputs": [],
   "source": [
    "# Loop step 1: Pull particles towards observation by adding a Kalman gain term\n",
    "#     Also, we find phi within this function\n",
    "phi_array[0] = iewpfOcean.addKalmanGain(ensemble.particles[0], observed_drifter_positions, innovations[0])\n",
    "print(\"phi: \", phi_array)\n",
    "\n",
    "# Plot the resulting Kalman gain\n",
    "K_eta, K_hu, K_hv = ensemble.particles[0].download(interior_domain_only=True)\n",
    "\n",
    "half_the_kalman_gain = ensemble.particles[0].small_scale_model_error.getRandomNumbers()\n",
    "\n",
    "for field, title in zip([K_eta, K_hu, K_hv, half_the_kalman_gain], \n",
    "                        [\"K_eta\", \"K_hu\", \"K_hv\", \"half_the_kalman_gain\"]):\n",
    "    fig = plt.figure(figsize=(4,4))\n",
    "    ax = plt.subplot(1, 1, 1)\n",
    "    plt.imshow(field, interpolation='None', origin='lower')\n",
    "    plt.title(title)\n",
    "    if field.shape[0] < sim_args[\"ny\"]:\n",
    "        ensemble._markDriftersInImshow(ax, observed_drifter_positions/sim_args[\"small_scale_perturbation_interpolation_factor\"])\n",
    "    else:\n",
    "        ensemble._markDriftersInImshow(ax, observed_drifter_positions)\n",
    "    plt.colorbar()\n",
    "    \n"
   ]
  },
  {
   "cell_type": "markdown",
   "metadata": {},
   "source": [
    "Sample perpendicular $\\nu, \\xi \\sim N(0,I)$ "
   ]
  },
  {
   "cell_type": "code",
   "execution_count": null,
   "metadata": {},
   "outputs": [],
   "source": [
    "# Loop step 2: Sample xi \\sim N(0, P), and get gamma in the process\n",
    "gamma_array[0], zeta_array[0], std_norm_rand, std_norm_pend =\\\n",
    "    iewpfOcean.samplePerpendicular(ensemble.particles[0],\n",
    "                                   return_original_random_numbers=True)\n",
    "print(\"gamma: \", gamma_array)\n",
    "print(\"zeta: \", zeta_array)"
   ]
  },
  {
   "cell_type": "markdown",
   "metadata": {},
   "source": [
    "**Catch up** with the rest of the particles with the Kalman gain and perpendicular random fields"
   ]
  },
  {
   "cell_type": "code",
   "execution_count": null,
   "metadata": {},
   "outputs": [],
   "source": [
    "for p in range(1, ensemble.getNumParticles()):\n",
    "    # Pull particles towards observation by adding a Kalman gain term\n",
    "    #     Also, we find phi within this function\n",
    "    phi_array[p] = iewpfOcean.addKalmanGain(ensemble.particles[p], observed_drifter_positions, innovations[p])\n",
    "\n",
    "    # Sample perpendicular xi and nu, and apply the SVD to both fields\n",
    "    # Obtain gamma = xi^T * xi and nu^T * nu at the same time\n",
    "    gamma_array[p], zeta_array[p] = iewpfOcean.samplePerpendicular(ensemble.particles[p])\n",
    " \n",
    "    \n",
    "c_array = phi_array + w_rest\n",
    "print(\"phi_array:     \", phi_array)  \n",
    "print(\"c_array:       \", c_array)\n",
    "print(\"gamma_array:   \", gamma_array)\n",
    "print(\"nu_norm_array: \", zeta_array)"
   ]
  },
  {
   "cell_type": "markdown",
   "metadata": {},
   "source": [
    "Obtain **beta and target weight**\n",
    "We don't use the information from the first artificial "
   ]
  },
  {
   "cell_type": "code",
   "execution_count": null,
   "metadata": {},
   "outputs": [],
   "source": [
    "use_zero_particle = False\n",
    "if use_zero_particle:\n",
    "    target_weight, beta = iewpfOcean.obtainTargetWeightTwoStage(c_array, \n",
    "                                                                zeta_array)\n",
    "else:\n",
    "    target_weight, beta = iewpfOcean.obtainTargetWeightTwoStage(c_array[1:],\n",
    "                                                                zeta_array[1:])\n",
    "print(\"target_weight: \", target_weight)\n",
    "print(\"beta: \", beta)"
   ]
  },
  {
   "cell_type": "markdown",
   "metadata": {},
   "source": [
    "**Solve implicit equation**"
   ]
  },
  {
   "cell_type": "code",
   "execution_count": null,
   "metadata": {},
   "outputs": [],
   "source": [
    "# Loop step 3: Solve implicit equation\n",
    "c_star = target_weight - c_array[0] - (beta - 1)*nu_norm_array[0]\n",
    "alpha = iewpfOcean.solveImplicitEquation(gamma_array[0], target_weight, \n",
    "                                         w_rest[0], c_star, \n",
    "                                         particle_id=0)\n",
    "print(\"c_star: \", c_star)\n",
    "print(\"alpha:  \", alpha)\n",
    "\n",
    "\n",
    "# Since the ocean field is sat to zero, we accept alpha=nan"
   ]
  },
  {
   "cell_type": "markdown",
   "metadata": {},
   "source": [
    "Sample $\\xi \\sim N(0, P)$. With this function we only apply the SVD result to the standard normal distributed field."
   ]
  },
  {
   "cell_type": "code",
   "execution_count": null,
   "metadata": {
    "scrolled": false
   },
   "outputs": [],
   "source": [
    "iewpfOcean.applySVDtoPerpendicular(ensemble.particles[0], observed_drifter_positions,\n",
    "                                   alpha, beta)\n",
    "\n",
    "# Transforming xi and nu \n",
    "axibetanu = np.sqrt(alpha)*std_norm_rand + np.sqrt(beta)*std_norm_pend\n",
    "\n",
    "\n",
    "svd_rand = ensemble.particles[0].small_scale_model_error.getRandomNumbers()\n",
    "svd_pend = ensemble.particles[0].small_scale_model_error.getPerpendicularRandomNumbers()\n",
    "\n",
    "#imshow3(std_norm_rand, svd_rand, svd_rand-std_norm_rand,\n",
    "#       title=\"xi N(0,I), xi N(0,SVD), xi N(0,SVD) - N(0,I)\")\n",
    "#imshow3(std_norm_pend, svd_pend, svd_pend-std_norm_pend,\n",
    "#       title=\"nu N(0,I), nu N(0,SVD), nu N(0,SVD) - N(0,I)\")\n",
    "\n",
    "for field, title in zip([axibetanu, svd_rand, svd_rand-axibetanu], \n",
    "                        [r'$\\sqrt{\\alpha}\\xi + \\sqrt{\\beta}\\nu$', \"SVD result\", r'SVD result - $\\sqrt{\\alpha}\\xi + \\sqrt{\\beta}\\nu$)']):\n",
    "    fig = plt.figure(figsize=(4,4))\n",
    "    ax = plt.subplot(1, 1, 1)\n",
    "    plt.imshow(field, interpolation='None', origin='lower')\n",
    "    plt.title(title)\n",
    "    ensemble._markDriftersInImshow(ax, observed_drifter_positions/sim_args[\"small_scale_perturbation_interpolation_factor\"])\n",
    "    plt.colorbar()\n",
    "\n",
    "for field, title in zip([std_norm_pend, svd_pend, svd_pend-std_norm_pend], \n",
    "                        [\"nu N(0,I)\", \"nu N(0,SVD)\", \"nu N(0,SVD) - N(0,I)\"]):\n",
    "    fig = plt.figure(figsize=(4,4))\n",
    "    ax = plt.subplot(1, 1, 1)\n",
    "    plt.imshow(field, interpolation='None', origin='lower')\n",
    "    plt.title(title)\n",
    "    ensemble._markDriftersInImshow(ax, observed_drifter_positions/sim_args[\"small_scale_perturbation_interpolation_factor\"])\n",
    "    plt.colorbar()\n",
    "\n",
    "print(\"std_norm_rand dot std_norm_pend = \", np.sum(std_norm_rand*std_norm_pend))\n",
    "print(\"std_norm_pend dot std_norm_pend = \", np.sum(std_norm_pend*std_norm_pend))\n",
    "print(\"std_norm_rand dot std_norm_rand = \", np.sum(std_norm_rand*std_norm_rand))\n",
    "print(\"\")\n",
    "print(\"svd_rand dot svd_pend = \", np.sum(svd_rand*svd_pend))\n",
    "print(\"svd_pend dot svd_pend = \", np.sum(svd_pend*svd_pend))\n",
    "print(\"svd_rand dot svd_rand = \", np.sum(svd_rand*svd_rand))\n"
   ]
  },
  {
   "cell_type": "code",
   "execution_count": null,
   "metadata": {
    "scrolled": false
   },
   "outputs": [],
   "source": [
    "# Add scaled sample from P to the state vector\n",
    "ensemble.particles[0].small_scale_model_error.perturbSim(ensemble.particles[0],\\\n",
    "                                                         update_random_field=False, \\\n",
    "                                                         perturbation_scale=alpha,\n",
    "                                                         perpendicular_scale=beta)  \n",
    "# Plot the resulting Kalman gain\n",
    "res_eta, res_hu, res_hv = ensemble.particles[0].download(interior_domain_only=True)\n",
    "imshow3(res_eta, res_hu, res_hv, title=\"Results two-stage IEWPF\")"
   ]
  },
  {
   "cell_type": "code",
   "execution_count": null,
   "metadata": {
    "scrolled": false
   },
   "outputs": [],
   "source": [
    "# Investigate how the xi sim N(0, P) was added to the solution\n",
    "\n",
    "# From P^{1/2}* (a*xi + b*nu) ~ N(0, P):\n",
    "eta_xi_P, hu_xi_P, hv_xi_P = np.zeros(dataShape), np.zeros(dataShape), np.zeros(dataShape)\n",
    "ensemble.particles[0].small_scale_model_error.random_numbers_host = svd_rand\n",
    "ensemble.particles[0].small_scale_model_error.perturbOceanStateCPU(eta_xi_P, hu_xi_P, hv_xi_P,\n",
    "                                                                   sim_args[\"H\"], sim_args[\"f\"], \n",
    "                                                                   ghost_cells_x=2, ghost_cells_y=2,\n",
    "                                                                   use_existing_CPU_random_numbers=True)\n",
    "# From axibetanu N(0, Q):\n",
    "eta_axibetanu_Q, hu_axibetanu_Q, hv_axibetanu_Q = np.zeros(dataShape), np.zeros(dataShape), np.zeros(dataShape)\n",
    "ensemble.particles[0].small_scale_model_error.random_numbers_host = axibetanu\n",
    "ensemble.particles[0].small_scale_model_error.perturbOceanStateCPU(eta_axibetanu_Q, hu_axibetanu_Q, hv_axibetanu_Q,\n",
    "                                                                   sim_args[\"H\"], sim_args[\"f\"], \n",
    "                                                                   ghost_cells_x=2, ghost_cells_y=2,\n",
    "                                                                   use_existing_CPU_random_numbers=True)\n",
    "\n",
    "# From nu N(0, P):\n",
    "#eta_nu_P, hu_nu_P, hv_nu_P = np.zeros(dataShape), np.zeros(dataShape), np.zeros(dataShape)\n",
    "#ensemble.particles[0].small_scale_model_error.random_numbers_host = svd_pend\n",
    "#ensemble.particles[0].small_scale_model_error.perturbOceanStateCPU(eta_nu_P, hu_nu_P, hv_nu_P,                                                                   sim_args[\"H\"], sim_args[\"f\"], \n",
    "#                                                                   ghost_cells_x=2, ghost_cells_y=2,\n",
    "#                                                                   use_existing_CPU_random_numbers=True)\n",
    "# From nu N(0, Q):\n",
    "#eta_nu_Q, hu_nu_Q, hv_nu_Q = np.zeros(dataShape), np.zeros(dataShape), np.zeros(dataShape)\n",
    "#ensemble.particles[0].small_scale_model_error.random_numbers_host = std_norm_pend\n",
    "#ensemble.particles[0].small_scale_model_error.perturbOceanStateCPU(eta_nu_Q, hu_nu_Q, hv_nu_Q,                                                                   sim_args[\"H\"], sim_args[\"f\"], \n",
    "#                                                                   ghost_cells_x=2, ghost_cells_y=2,\n",
    "#                                                                   use_existing_CPU_random_numbers=True)\n",
    "\n",
    "imshow3(eta_axibetanu_Q, hu_axibetanu_Q, hv_axibetanu_Q, title=\"axibetanu Q\", interior=True)\n",
    "imshow3(eta_xi_P, hu_xi_P, hv_xi_P, title=\"xi P\", interior=True)\n",
    "imshow3(eta_xi_P-eta_axibetanu_Q, hu_xi_P-hu_axibetanu_Q, hv_xi_P-hv_axibetanu_Q, \n",
    "        title=\"xi P - axibetanu Q\", interior=True)\n",
    "\n",
    "#imshow3(eta_nu_Q, hu_nu_Q, hv_nu_Q, title=\"nu Q\", interior=True)\n",
    "#imshow3(eta_nu_P, hu_nu_P, hv_nu_P, title=\"nu P\", interior=True)\n",
    "#imshow3(eta_nu_P-eta_nu_Q, hv_nu_P-hu_nu_Q, hv_nu_P-hv_nu_Q, title=\"nu P - nu Q\", interior=True)\n",
    "\n"
   ]
  },
  {
   "cell_type": "markdown",
   "metadata": {},
   "source": [
    "**Build the result from the CPU array**"
   ]
  },
  {
   "cell_type": "code",
   "execution_count": null,
   "metadata": {
    "scrolled": false
   },
   "outputs": [],
   "source": [
    "print(K_eta.shape)\n",
    "print(eta_xi_P.shape)\n",
    "print(eta_nu_P.shape)\n",
    "print(res_eta.shape)\n",
    "print(eta_xi_P.shape)\n",
    "\n",
    "use_beta = np.sqrt(beta) #np.sqrt(beta)\n",
    "use_alpha = np.sqrt(alpha) #alpha\n",
    "\n",
    "#eta_res_CPU = K_eta + use_beta*eta_nu_P[2:-2,2:-2] + use_alpha*eta_xi_P[2:-2,2:-2]\n",
    "#hu_res_CPU  = K_hu  + use_beta* hu_nu_P[2:-2,2:-2] + use_alpha* hu_xi_P[2:-2,2:-2]\n",
    "#hv_res_CPU  = K_hv  + use_beta* hv_nu_P[2:-2,2:-2] + use_alpha* hv_xi_P[2:-2,2:-2]\n",
    "#eta_res_CPU = use_beta*eta_nu_P[2:-2,2:-2] + use_alpha*eta_xi_P[2:-2,2:-2]\n",
    "#hu_res_CPU  = use_beta* hu_nu_P[2:-2,2:-2] + use_alpha* hu_xi_P[2:-2,2:-2]\n",
    "#hv_res_CPU  = use_beta* hv_nu_P[2:-2,2:-2] + use_alpha* hv_xi_P[2:-2,2:-2]\n",
    "eta_res_CPU = eta_xi_P[2:-2,2:-2]\n",
    "hu_res_CPU  = hu_xi_P[2:-2,2:-2]\n",
    "hv_res_CPU  = hv_xi_P[2:-2,2:-2]\n",
    "\n",
    "\n",
    "res_eta_sub_K = res_eta - K_eta\n",
    "res_hu_sub_K  = res_hu  - K_hu\n",
    "res_hv_sub_K  = res_hv  - K_hv\n",
    "\n",
    "imshow3(eta_res_CPU, hu_res_CPU, hv_res_CPU, title=\"results CPU\")\n",
    "#imshow3(res_eta, res_hu, res_hv, title=\"results GPU\")\n",
    "imshow3(res_eta_sub_K, res_hu_sub_K, res_hv_sub_K, title=\"results GPU\")\n",
    "imshow3(eta_res_CPU-res_eta_sub_K, hu_res_CPU-res_hu_sub_K, hv_res_CPU-res_hv_sub_K, title=\"results CPU - GPU\")\n"
   ]
  },
  {
   "cell_type": "code",
   "execution_count": null,
   "metadata": {},
   "outputs": [],
   "source": [
    "sim.logger.getEffectiveLevel()\n"
   ]
  }
 ],
 "metadata": {
  "git": {
   "suppress_outputs": true
  },
  "kernelspec": {
   "display_name": "Python [conda env:gpuocean]",
   "language": "python",
   "name": "conda-env-gpuocean-py"
  },
  "language_info": {
   "codemirror_mode": {
    "name": "ipython",
    "version": 3
   },
   "file_extension": ".py",
   "mimetype": "text/x-python",
   "name": "python",
   "nbconvert_exporter": "python",
   "pygments_lexer": "ipython3",
   "version": "3.6.6"
  }
 },
 "nbformat": 4,
 "nbformat_minor": 1
}