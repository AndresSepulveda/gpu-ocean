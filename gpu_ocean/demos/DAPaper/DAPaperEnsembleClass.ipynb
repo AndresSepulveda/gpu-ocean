{
 "cells": [
  {
   "cell_type": "markdown",
   "metadata": {},
   "source": [
    "```\n",
    "This software is a part of GPU Ocean.\n",
    "\n",
    "Copyright (C) 2019  SINTEF Digital\n",
    "\n",
    "In this notebook we carry out prototyping for developing a new \n",
    "ensemble class that can be used for reading observations from file\n",
    "and still work in the current Data Assimilation structure.\n",
    "\n",
    "This program is free software: you can redistribute it and/or modify\n",
    "it under the terms of the GNU General Public License as published by\n",
    "the Free Software Foundation, either version 3 of the License, or\n",
    "(at your option) any later version.\n",
    "\n",
    "This program is distributed in the hope that it will be useful,\n",
    "but WITHOUT ANY WARRANTY; without even the implied warranty of\n",
    "MERCHANTABILITY or FITNESS FOR A PARTICULAR PURPOSE.  See the\n",
    "GNU General Public License for more details.\n",
    "\n",
    "You should have received a copy of the GNU General Public License\n",
    "along with this program.  If not, see <http://www.gnu.org/licenses/>.\n",
    "```"
   ]
  },
  {
   "cell_type": "markdown",
   "metadata": {},
   "source": [
    "# Development of a new ensemble class based on files\n",
    "\n",
    "In this notebook we carry out prototyping for developing a new \n",
    "ensemble class that can be used for reading observations from file\n",
    "and still work in the current Data Assimilation structure.\n"
   ]
  },
  {
   "cell_type": "markdown",
   "metadata": {},
   "source": [
    "## Set environment"
   ]
  },
  {
   "cell_type": "code",
   "execution_count": 1,
   "metadata": {},
   "outputs": [],
   "source": [
    "%matplotlib inline\n",
    "%config InlineBackend.figure_format = 'retina'\n",
    "\n",
    "import numpy as np\n",
    "import matplotlib\n",
    "from matplotlib import pyplot as plt\n",
    "from matplotlib import animation, rc\n",
    "\n",
    "import pycuda.driver as cuda\n",
    "import os\n",
    "import sys\n",
    "import datetime\n",
    "\n",
    "from importlib import reload\n",
    "sys.path.insert(0, os.path.abspath(os.path.join(os.getcwd(), '../../')))\n",
    "\n",
    "#Set large figure sizes\n",
    "rc('figure', figsize=(16.0, 12.0))\n",
    "rc('animation', html='html5')\n",
    "\n",
    "#Import our simulator\n",
    "from SWESimulators import IPythonMagic, CDKLM16, EnsembleFromFiles\n",
    "\n",
    "from SWESimulators import BaseOceanStateEnsemble, SimReader, Observation\n",
    "from SWESimulators import DataAssimilationUtils as dautils\n"
   ]
  },
  {
   "cell_type": "code",
   "execution_count": 2,
   "metadata": {},
   "outputs": [],
   "source": [
    "%cuda_context_handler gpu_ctx"
   ]
  },
  {
   "cell_type": "code",
   "execution_count": 3,
   "metadata": {},
   "outputs": [],
   "source": [
    "#Create output directory for images\n",
    "#imgdir = 'double_jet'\n",
    "#filename_prefix = imgdir + \"/\" + datetime.datetime.now().strftime(\"%Y_%m_%d-%H_%M_%S\") + \"_\"\n",
    "#os.makedirs(imgdir, exist_ok=True)\n",
    "#print(\"Saving images to \" + imgdir)"
   ]
  },
  {
   "cell_type": "markdown",
   "metadata": {},
   "source": [
    "### Define functions for plotting"
   ]
  },
  {
   "cell_type": "code",
   "execution_count": 4,
   "metadata": {},
   "outputs": [],
   "source": [
    "def imshow(im, interpolation=\"None\", title=None, figsize=(4,4), interior=False):\n",
    "    fig = plt.figure(figsize=figsize)\n",
    "    \n",
    "    if interior:\n",
    "        im = plt.imshow(im[2:-2,2:-2], interpolation=interpolation, origin='lower')\n",
    "    else:\n",
    "        im = plt.imshow(im, interpolation=interpolation, origin='lower')\n",
    "    \n",
    "    plt.colorbar()\n",
    "    if title is not None:\n",
    "        plt.title(title)\n",
    "        \n",
    "def imshow3(eta, hu, hv, interpolation=\"None\", title=None, figsize=(12,3), \n",
    "            interior=False, color_bar_from_zero=False):\n",
    "    fig, axs = plt.subplots(1,3, figsize=figsize)\n",
    "    \n",
    "    eta_max = np.max(np.abs(eta))\n",
    "    huv_max = max(np.max(np.abs(hu)), np.max(np.abs(hv)))\n",
    "    eta_min = -eta_max\n",
    "    huv_min = -huv_max\n",
    "    if color_bar_from_zero:\n",
    "        eta_min, huv_min = 0, 0\n",
    "    \n",
    "    if interior:\n",
    "        eta_im = axs[0].imshow(eta[2:-2,2:-2], interpolation=interpolation, origin='lower', vmin=eta_min, vmax=eta_max)\n",
    "    else:\n",
    "        eta_im = axs[0].imshow(eta, interpolation=interpolation, origin='lower', vmin=eta_min, vmax=eta_max)\n",
    "    axs[0].set_title(\"$\\eta$\")\n",
    "    plt.colorbar(eta_im, ax=axs[0])\n",
    "    \n",
    "    if interior:\n",
    "        hu_im = axs[1].imshow(hu[2:-2,2:-2], interpolation=interpolation, origin='lower', vmin=huv_min, vmax=huv_max)\n",
    "    else:\n",
    "        hu_im = axs[1].imshow(hu, interpolation=interpolation, origin='lower', vmin=huv_min, vmax=huv_max)\n",
    "    axs[1].set_title(\"$hu$\")\n",
    "    plt.colorbar(hu_im, ax=axs[1])\n",
    "\n",
    "    if interior:\n",
    "        hv_im = axs[2].imshow(hv[2:-2,2:-2], interpolation=interpolation, origin='lower', vmin=huv_min, vmax=huv_max)\n",
    "    else:\n",
    "        hv_im = axs[2].imshow(hv, interpolation=interpolation, origin='lower', vmin=huv_min, vmax=huv_max)\n",
    "    axs[2].set_title(\"$hv$\")\n",
    "    plt.colorbar(hv_im, ax=axs[2])\n",
    "\n",
    "    if title is not None:\n",
    "        plt.suptitle(title)\n",
    "    plt.tight_layout()\n",
    "    \n",
    "def plotDrifters(observations, sim_reader, t, drifter_set=[]):\n",
    "    drifter_positions = observations.get_drifter_position(t)\n",
    "\n",
    "    fig = plt.figure(figsize=(7,7))\n",
    "    ax = plt.subplot(111)\n",
    "    nx, ny = sim_reader.get('nx'), sim_reader.get('ny')\n",
    "    dx, dy = sim_reader.get('dx'), sim_reader.get('dy')\n",
    "\n",
    "    emptyData =np.ma.masked_where(np.zeros((ny,nx)) > 1, np.zeros((ny,nx)))\n",
    "    ax.imshow(emptyData, origin=\"lower\", extent=[0, nx*dx, 0, ny*dy], cmap='binary')\n",
    "\n",
    "    for i in range(drifter_positions.shape[0]):\n",
    "        color = 'xkcd:pale cyan'\n",
    "        if i in drifter_set:\n",
    "            color = 'xkcd:tomato red'\n",
    "        circ_end = matplotlib.patches.Circle((drifter_positions[i,0], drifter_positions[i,1]),\n",
    "                                             3000, fill=True, zorder=10, color=color)\n",
    "        ax.add_patch(circ_end)\n",
    "\n",
    "    \n",
    "def days_to_sec(days):\n",
    "    return days*24*60*60\n",
    "\n",
    "def truth_time_step(t):\n",
    "    t = t - days_to_sec(3)\n",
    "    return int(t/(60*60))"
   ]
  },
  {
   "cell_type": "code",
   "execution_count": 5,
   "metadata": {},
   "outputs": [
    {
     "name": "stdout",
     "output_type": "stream",
     "text": [
      "[[0.33333333 0.        ]\n",
      " [0.         0.00224719]]\n",
      "<class 'numpy.ndarray'>\n",
      "float64\n",
      "float32\n"
     ]
    }
   ],
   "source": [
    "test = np.linalg.inv(np.diag([3,445]))\n",
    "print(test)\n",
    "print(type(test))\n",
    "print(test.dtype)\n",
    "test = test.astype(np.float32)\n",
    "print(test.dtype)\n",
    "\n"
   ]
  },
  {
   "cell_type": "markdown",
   "metadata": {},
   "source": [
    "# The new class\n",
    "\n",
    "We base in on the OceanStateEnsemble."
   ]
  },
  {
   "cell_type": "code",
   "execution_count": 125,
   "metadata": {},
   "outputs": [
    {
     "name": "stdout",
     "output_type": "stream",
     "text": [
      "True\n",
      "True\n",
      "<class 'list'>\n",
      "100\n",
      "/home/havahol/playground/gpu-ocean/havahol-gpu-ocean/gpu_ocean/demos/DAPaper/double_jet_ensemble_init/double_jet_case_55.nc\n",
      "<class 'str'>\n",
      "\n",
      "\n",
      "Welcome to the EnsembleFromFile\n",
      "Ensemble directory:  /home/havahol/playground/gpu-ocean/havahol-gpu-ocean/gpu_ocean/demos/DAPaper/double_jet_ensemble_init\n",
      "True state directory:  /home/havahol/playground/gpu-ocean/havahol-gpu-ocean/gpu_ocean/demos/DAPaper/double_jet_truth\n",
      "self.write_netcdf_directory:  /home/havahol/playground/gpu-ocean/havahol-gpu-ocean/gpu_ocean/demos/DAPaper/ensemble_result_2019_04_26-18_20_35/\n"
     ]
    }
   ],
   "source": [
    "if 'ensemble' in globals():\n",
    "    ensemble.cleanUp()\n",
    "    del ensemble\n",
    "    \n",
    "reload(BaseOceanStateEnsemble)\n",
    "reload(Observation)\n",
    "reload(EnsembleFromFiles)\n",
    "\n",
    "ensemble_init_path = os.path.abspath('double_jet_ensemble_init/')\n",
    "truth_path = os.path.abspath('double_jet_truth/')\n",
    "#ensemble = EnsembleFromFile(\n",
    "\n",
    "print(os.path.isdir(ensemble_init_path))\n",
    "print(os.path.isdir(truth_path))\n",
    "\n",
    "ensemble_nc_gen = (os.path.join(ensemble_init_path, file)  for file in os.listdir(ensemble_init_path) if file.endswith('.nc'))\n",
    "ensemble_nc_files = list(ensemble_nc_gen)\n",
    "print(type(ensemble_nc_files))\n",
    "print(len(ensemble_nc_files))\n",
    "print(ensemble_nc_files[10])\n",
    "print(type(ensemble_nc_files[10]))\n",
    "print()\n",
    "print()\n",
    "\n",
    "ensemble = EnsembleFromFiles.EnsembleFromFiles(gpu_ctx, 5, \n",
    "                                               ensemble_init_path, truth_path,\n",
    "                                               0.1)\n",
    "ensemble.configureObservations(drifterSet=[0,1,2], observationInterval=20)"
   ]
  },
  {
   "cell_type": "code",
   "execution_count": 126,
   "metadata": {},
   "outputs": [
    {
     "data": {
      "text/plain": [
       "3"
      ]
     },
     "execution_count": 126,
     "metadata": {},
     "output_type": "execute_result"
    }
   ],
   "source": [
    "ensemble.observations.get_num_drifters()"
   ]
  },
  {
   "cell_type": "code",
   "execution_count": 127,
   "metadata": {},
   "outputs": [
    {
     "name": "stdout",
     "output_type": "stream",
     "text": [
      "True 3\n",
      "[ 3  4  5  6  7  8  9 10 11 12 13 14 15 16 17 18 19]\n",
      "[ 4  8 13]\n"
     ]
    }
   ],
   "source": [
    "test = [1,5,10]\n",
    "test_array = np.arange(3,20)\n",
    "print(type(test) is list, len(test))\n",
    "print(test_array)\n",
    "print(test_array[test])"
   ]
  },
  {
   "cell_type": "code",
   "execution_count": 128,
   "metadata": {},
   "outputs": [],
   "source": [
    "obs_time = (3*24+4)*60*60\n",
    "depth = 230\n",
    "obs = ensemble.observations.get_observation(obs_time, ensemble.mean_depth)\n"
   ]
  },
  {
   "cell_type": "code",
   "execution_count": 129,
   "metadata": {},
   "outputs": [
    {
     "name": "stdout",
     "output_type": "stream",
     "text": [
      "CPU times: user 3.6 s, sys: 564 ms, total: 4.17 s\n",
      "Wall time: 3.98 s\n"
     ]
    }
   ],
   "source": [
    "%%time\n",
    "ensemble.stepToObservation(obs_time)"
   ]
  },
  {
   "cell_type": "code",
   "execution_count": 130,
   "metadata": {},
   "outputs": [
    {
     "name": "stdout",
     "output_type": "stream",
     "text": [
      "[[ 6.99850234e+04  3.94047109e+04  1.16094637e+01 -3.57905083e+01]\n",
      " [ 2.05943953e+05  4.14367539e+04 -3.70355644e+01 -5.55767775e+00]\n",
      " [ 3.49047875e+05  4.13093008e+04  3.60111656e+01 -8.43275738e+00]]\n",
      "[[ 6.99850234e+04  3.94047109e+04  1.16094637e+01 -3.57905083e+01]\n",
      " [ 2.05943953e+05  4.14367539e+04 -3.70355644e+01 -5.55767775e+00]\n",
      " [ 3.49047875e+05  4.13093008e+04  3.60111656e+01 -8.43275738e+00]]\n",
      "[[ 69985.0234375   39404.7109375 ]\n",
      " [205943.953125    41436.75390625]\n",
      " [349047.875       41309.30078125]]\n"
     ]
    }
   ],
   "source": [
    "print(obs)\n",
    "print(ensemble.observeTrueState())\n",
    "print(ensemble.observeTrueDrifters())"
   ]
  },
  {
   "cell_type": "code",
   "execution_count": null,
   "metadata": {},
   "outputs": [],
   "source": []
  },
  {
   "cell_type": "code",
   "execution_count": null,
   "metadata": {},
   "outputs": [],
   "source": []
  },
  {
   "cell_type": "code",
   "execution_count": 112,
   "metadata": {},
   "outputs": [
    {
     "name": "stdout",
     "output_type": "stream",
     "text": [
      "[[ 6.99850234e+04  3.94047109e+04  1.05356770e+01 -3.87975273e+01]\n",
      " [ 2.05943953e+05  4.14367539e+04 -3.60692711e+01 -4.89348936e+00]\n",
      " [ 3.49047875e+05  4.13093008e+04  3.68958321e+01 -7.73854160e+00]]\n",
      "[[ 6.99850234e+04  3.94047109e+04  1.04338074e+01 -3.84223900e+01]\n",
      " [ 2.05943953e+05  4.14367539e+04 -3.57205162e+01 -4.84617376e+00]\n",
      " [ 3.49047875e+05  4.13093008e+04  3.65390854e+01 -7.66371679e+00]]\n",
      "[[ 69985.0234375   39404.7109375 ]\n",
      " [205943.953125    41436.75390625]\n",
      " [349047.875       41309.30078125]]\n"
     ]
    }
   ],
   "source": [
    "print(obs)\n",
    "print(ensemble.observeTrueState())\n",
    "print(ensemble.observeTrueDrifters())"
   ]
  },
  {
   "cell_type": "code",
   "execution_count": 122,
   "metadata": {},
   "outputs": [
    {
     "data": {
      "text/plain": [
       "227.77611"
      ]
     },
     "execution_count": 122,
     "metadata": {},
     "output_type": "execute_result"
    }
   ],
   "source": [
    "ensemble.mean_depth"
   ]
  },
  {
   "cell_type": "code",
   "execution_count": 63,
   "metadata": {},
   "outputs": [
    {
     "data": {
      "text/plain": [
       "array([ 259500.,  259800.,  260100., ..., 1122600., 1122900., 1123200.])"
      ]
     },
     "execution_count": 63,
     "metadata": {},
     "output_type": "execute_result"
    }
   ],
   "source": [
    "ensemble.observations.get_observation_times()"
   ]
  }
 ],
 "metadata": {
  "git": {
   "suppress_outputs": false
  },
  "kernelspec": {
   "display_name": "Python [conda env:gpuocean]",
   "language": "python",
   "name": "conda-env-gpuocean-py"
  },
  "language_info": {
   "codemirror_mode": {
    "name": "ipython",
    "version": 3
   },
   "file_extension": ".py",
   "mimetype": "text/x-python",
   "name": "python",
   "nbconvert_exporter": "python",
   "pygments_lexer": "ipython3",
   "version": "3.6.6"
  }
 },
 "nbformat": 4,
 "nbformat_minor": 2
}
