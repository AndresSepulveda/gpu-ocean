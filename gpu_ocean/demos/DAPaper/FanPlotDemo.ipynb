{
 "cells": [
  {
   "cell_type": "markdown",
   "metadata": {},
   "source": [
    "```\n",
    "This software is part of GPU Ocean. \n",
    "\n",
    "Copyright (C) 2019  SINTEF Digital\n",
    "\n",
    "Creating fan plots for plotting drift trajectory forecasts.\n",
    "\n",
    "This program is free software: you can redistribute it and/or modify\n",
    "it under the terms of the GNU General Public License as published by\n",
    "the Free Software Foundation, either version 3 of the License, or\n",
    "(at your option) any later version.\n",
    "\n",
    "This program is distributed in the hope that it will be useful,\n",
    "but WITHOUT ANY WARRANTY; without even the implied warranty of\n",
    "MERCHANTABILITY or FITNESS FOR A PARTICULAR PURPOSE.  See the\n",
    "GNU General Public License for more details.\n",
    "\n",
    "You should have received a copy of the GNU General Public License\n",
    "along with this program.  If not, see <http://www.gnu.org/licenses/>.\n",
    "```"
   ]
  },
  {
   "cell_type": "markdown",
   "metadata": {},
   "source": [
    "# Plotting of drift trajectory forecasts\n"
   ]
  },
  {
   "cell_type": "markdown",
   "metadata": {},
   "source": [
    "## Set environment"
   ]
  },
  {
   "cell_type": "code",
   "execution_count": null,
   "metadata": {},
   "outputs": [],
   "source": [
    "%matplotlib inline\n",
    "%config InlineBackend.figure_format = 'retina'\n",
    "\n",
    "import numpy as np\n",
    "import matplotlib\n",
    "from matplotlib import pyplot as plt\n",
    "from matplotlib import animation, rc\n",
    "from scipy.special import lambertw\n",
    "\n",
    "import os\n",
    "import sys\n",
    "from importlib import reload\n",
    "\n",
    "sys.path.insert(0, os.path.abspath(os.path.join(os.getcwd(), '../../')))\n",
    "\n",
    "#Set large figure sizes\n",
    "rc('figure', figsize=(16.0, 12.0))\n",
    "rc('animation', html='html5')\n",
    "matplotlib.rcParams['contour.negative_linestyle'] = 'solid'\n",
    "\n",
    "#Import our simulator\n",
    "from SWESimulators import CDKLM16, PlotHelper, Common, IPythonMagic\n",
    "from SWESimulators import CDKLM16, Common, DoubleJetCase, GPUDrifterCollection, Observation\n",
    "\n"
   ]
  },
  {
   "cell_type": "code",
   "execution_count": null,
   "metadata": {},
   "outputs": [],
   "source": [
    "%cuda_context_handler gpu_ctx"
   ]
  },
  {
   "cell_type": "markdown",
   "metadata": {},
   "source": [
    "# Create a simulator\n",
    "\n",
    "... so that we have relevant parameters available"
   ]
  },
  {
   "cell_type": "code",
   "execution_count": null,
   "metadata": {},
   "outputs": [],
   "source": [
    "%%time\n",
    "doubleJetCase = DoubleJetCase.DoubleJetCase(gpu_ctx,\n",
    "                                            DoubleJetCase.DoubleJetPerturbationType.IEWPFPaperCase)\n",
    "\n",
    "doubleJetCase_args, doubleJetCase_init = doubleJetCase.getInitConditions()\n",
    "sim = CDKLM16.CDKLM16(**doubleJetCase_args, **doubleJetCase_init)\n"
   ]
  },
  {
   "cell_type": "markdown",
   "metadata": {},
   "source": [
    "# Define filenames and read drifter positions"
   ]
  },
  {
   "cell_type": "code",
   "execution_count": null,
   "metadata": {},
   "outputs": [],
   "source": [
    "os.listdir('scripts/')\n",
    "script_path = os.path.abspath('scripts/fanplotdemo')\n",
    "truth_files = []\n",
    "for subfolder in os.listdir('scripts/fanplotdemo/'):\n",
    "    if subfolder.startswith('truth_2019_04_15-09'):\n",
    "        drifter_file_name = os.path.join(os.path.join(script_path, subfolder),\n",
    "                                         'drifter_observations.pickle')\n",
    "        \n",
    "        truth_files.append(drifter_file_name)\n",
    "        \n",
    "print(len(truth_files))"
   ]
  },
  {
   "cell_type": "code",
   "execution_count": null,
   "metadata": {
    "scrolled": false
   },
   "outputs": [],
   "source": [
    "observations = []\n",
    "main_obs = Observation.Observation()\n",
    "main_obs.read_pickle(truth_files[0])\n",
    "\n",
    "first = True\n",
    "for pickle in truth_files:\n",
    "    if first:\n",
    "        first = False\n",
    "        continue\n",
    "    obs = Observation.Observation()\n",
    "    obs.read_pickle(pickle)\n",
    "    \n",
    "    observations.append(obs)\n",
    "print(len(observations))"
   ]
  },
  {
   "cell_type": "code",
   "execution_count": null,
   "metadata": {},
   "outputs": [],
   "source": [
    "obs_times = main_obs.get_observation_times()\n",
    "print(obs_times)\n",
    "print(len(obs_times))\n"
   ]
  },
  {
   "cell_type": "code",
   "execution_count": null,
   "metadata": {},
   "outputs": [],
   "source": [
    "# Selecting one drifter and number of observation considered for plotting\n",
    "drifter = 18 # 17\n",
    "num_days = 3\n",
    "observations_per_day = 24*12 # Every fifth minute\n",
    "num_observations = int(num_days*observations_per_day)\n",
    "\n",
    "extra_drifter = 51"
   ]
  },
  {
   "cell_type": "code",
   "execution_count": null,
   "metadata": {
    "scrolled": true
   },
   "outputs": [],
   "source": [
    "main_drifter_path = np.zeros((num_observations, 2))\n",
    "extra_drifter_path = np.zeros((num_observations, 2))\n",
    "for i in range(num_observations):\n",
    "    obs_t = obs_times[i]\n",
    "    main_drifter_path[i,:]  = main_obs.get_drifter_position(obs_t)[drifter,:]\n",
    "    extra_drifter_path[i,:] = main_obs.get_drifter_position(obs_t)[extra_drifter,:]\n",
    "#print(main_drifter_path)"
   ]
  },
  {
   "cell_type": "code",
   "execution_count": null,
   "metadata": {},
   "outputs": [],
   "source": [
    "%%time\n",
    "paths = [None]*len(observations)\n",
    "extra_paths = [None]*len(observations)\n",
    "for i in range(len(observations)):\n",
    "    print('processing ensemble member ' + str(i))\n",
    "    paths[i] = np.zeros((num_observations, 2))\n",
    "    extra_paths[i] = np.zeros((num_observations, 2))\n",
    "    for o in range(num_observations):\n",
    "        obs_t = obs_times[o]\n",
    "        paths[i][o,:] = observations[i].get_drifter_position(obs_t)[drifter,:]\n",
    "        extra_paths[i][o,:] = observations[i].get_drifter_position(obs_t)[extra_drifter,:]\n"
   ]
  },
  {
   "cell_type": "code",
   "execution_count": null,
   "metadata": {},
   "outputs": [],
   "source": [
    "%%time\n",
    "extra_paths = []\n",
    "for i in range(len(observations)):\n",
    "    print('processing ensemble member ' + str(i))\n",
    "    path = np.zeros((num_observations, 2))\n",
    "    for o in range(num_observations):\n",
    "        obs_t = obs_times[o]\n",
    "        path[o,:] = observations[i].get_drifter_position(obs_t)[extra_drifter,:]\n",
    "        if o > 0:\n",
    "            e..?"
   ]
  },
  {
   "cell_type": "markdown",
   "metadata": {},
   "source": [
    "# Create a canvas for plotting"
   ]
  },
  {
   "cell_type": "code",
   "execution_count": null,
   "metadata": {
    "scrolled": false
   },
   "outputs": [],
   "source": [
    "\n",
    "fig = plt.figure(figsize=(7,7))\n",
    "ax = plt.subplot(111)\n",
    "emptyData =np.ma.masked_where(np.zeros((sim.ny,sim.nx)) > 1, \n",
    "                              np.zeros((sim.ny,sim.nx)))\n",
    "ax.imshow(emptyData, origin=\"lower\", \n",
    "          extent=[0, sim.nx*sim.dx, 0, sim.ny*sim.dy], cmap='binary')\n",
    "\n",
    "\n",
    "cell_id_x = int(np.floor(main_drifter_path[0,0]))\n",
    "cell_id_y = int(np.floor(main_drifter_path[0,1]))\n",
    "\n",
    "\n",
    "circ_start = matplotlib.patches.Circle((main_drifter_path[0,0], main_drifter_path[0,1]), 6000, fill=False)\n",
    "ax.add_patch(circ_start)\n",
    "\n",
    "circ_end = matplotlib.patches.Circle((main_drifter_path[-1,0], main_drifter_path[-1,1]), 6000, fill=False)\n",
    "ax.add_patch(circ_end)\n",
    "\n",
    "\n",
    "\n",
    "for path in paths:\n",
    "    ax.plot(path[:,0], path[:,1], color='xkcd:light blue grey')\n",
    "    \n",
    "for path in paths:\n",
    "    circ_end = matplotlib.patches.Circle((path[-1,0], path[-1,1]), 2000, fill=False, zorder=10)\n",
    "    ax.add_patch(circ_end)\n",
    "    \n",
    "ax.plot(main_drifter_path[:,0], main_drifter_path[:,1], color='xkcd:dark grey blue')\n",
    "\n",
    "\n",
    "\n",
    "\n",
    "circ_start = matplotlib.patches.Circle((extra_drifter_path[0,0], extra_drifter_path[0,1]), 6000, fill=False)\n",
    "ax.add_patch(circ_start)\n",
    "\n",
    "circ_end = matplotlib.patches.Circle((extra_drifter_path[-1,0], extra_drifter_path[-1,1]), 6000, fill=False)\n",
    "ax.add_patch(circ_end)\n",
    "\n",
    "for path in extra_paths:\n",
    "    ax.plot(path[:,0], path[:,1], color='xkcd:foam green')\n",
    "    \n",
    "for path in extra_paths:\n",
    "    circ_end = matplotlib.patches.Circle((path[-1,0], path[-1,1]), 2000, fill=False, zorder=10)\n",
    "    ax.add_patch(circ_end)\n",
    "    \n",
    "ax.plot(extra_drifter_path[:,0], extra_drifter_path[:,1], color='xkcd:viridian')\n",
    "\n",
    "\n",
    "\n",
    "print('hei')"
   ]
  },
  {
   "cell_type": "code",
   "execution_count": null,
   "metadata": {},
   "outputs": [],
   "source": []
  },
  {
   "cell_type": "code",
   "execution_count": null,
   "metadata": {},
   "outputs": [],
   "source": []
  }
 ],
 "metadata": {
  "git": {
   "suppress_outputs": true
  },
  "kernelspec": {
   "display_name": "Python [conda env:gpuocean]",
   "language": "python",
   "name": "conda-env-gpuocean-py"
  },
  "language_info": {
   "codemirror_mode": {
    "name": "ipython",
    "version": 3
   },
   "file_extension": ".py",
   "mimetype": "text/x-python",
   "name": "python",
   "nbconvert_exporter": "python",
   "pygments_lexer": "ipython3",
   "version": "3.6.6"
  }
 },
 "nbformat": 4,
 "nbformat_minor": 1
}