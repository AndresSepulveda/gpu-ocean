{
 "cells": [
  {
   "cell_type": "markdown",
   "metadata": {},
   "source": [
    "```\n",
    "This software is a part of GPU Ocean.\n",
    "\n",
    "Copyright (C) 2019  SINTEF Digital\n",
    "\n",
    "In this notebook we will load the true state, and simply take a look\n",
    "on the data we got.\n",
    "\n",
    "This program is free software: you can redistribute it and/or modify\n",
    "it under the terms of the GNU General Public License as published by\n",
    "the Free Software Foundation, either version 3 of the License, or\n",
    "(at your option) any later version.\n",
    "\n",
    "This program is distributed in the hope that it will be useful,\n",
    "but WITHOUT ANY WARRANTY; without even the implied warranty of\n",
    "MERCHANTABILITY or FITNESS FOR A PARTICULAR PURPOSE.  See the\n",
    "GNU General Public License for more details.\n",
    "\n",
    "You should have received a copy of the GNU General Public License\n",
    "along with this program.  If not, see <http://www.gnu.org/licenses/>.\n",
    "```"
   ]
  },
  {
   "cell_type": "markdown",
   "metadata": {},
   "source": [
    "# Investigating the ensemble initial conditions\n",
    "\n",
    "In this notebook we will load the ensemble initial conditions, and simply take a look on the data we got."
   ]
  },
  {
   "cell_type": "markdown",
   "metadata": {},
   "source": [
    "## Set environment"
   ]
  },
  {
   "cell_type": "code",
   "execution_count": null,
   "metadata": {},
   "outputs": [],
   "source": [
    "%matplotlib inline\n",
    "%config InlineBackend.figure_format = 'retina'\n",
    "\n",
    "import numpy as np\n",
    "import matplotlib\n",
    "from matplotlib import pyplot as plt\n",
    "from matplotlib import animation, rc\n",
    "\n",
    "import pycuda.driver as cuda\n",
    "import os\n",
    "import sys\n",
    "import datetime\n",
    "\n",
    "from importlib import reload\n",
    "sys.path.insert(0, os.path.abspath(os.path.join(os.getcwd(), '../../')))\n",
    "\n",
    "#Set large figure sizes\n",
    "rc('figure', figsize=(16.0, 12.0))\n",
    "rc('animation', html='html5')\n",
    "\n",
    "#Import our simulator\n",
    "from SWESimulators import IPythonMagic, SimReader, Observation, CDKLM16"
   ]
  },
  {
   "cell_type": "code",
   "execution_count": null,
   "metadata": {},
   "outputs": [],
   "source": [
    "%cuda_context_handler gpu_ctx"
   ]
  },
  {
   "cell_type": "code",
   "execution_count": null,
   "metadata": {},
   "outputs": [],
   "source": [
    "#Create output directory for images\n",
    "#imgdir = 'double_jet'\n",
    "#filename_prefix = imgdir + \"/\" + datetime.datetime.now().strftime(\"%Y_%m_%d-%H_%M_%S\") + \"_\"\n",
    "#os.makedirs(imgdir, exist_ok=True)\n",
    "#print(\"Saving images to \" + imgdir)"
   ]
  },
  {
   "cell_type": "markdown",
   "metadata": {},
   "source": [
    "# The data\n",
    "\n",
    "The data used for this paper is available for download from [the GPU Ocean server](http://gpu-ocean.met.no:9000/gpu_ocean/DAPaper/).\n",
    "\n",
    "Please start with downloading the files `double_jet_ensemble_init.zip` and `double_jet_truth.zip` to this folder, and unzip them so that the following lines of code passes:"
   ]
  },
  {
   "cell_type": "code",
   "execution_count": null,
   "metadata": {},
   "outputs": [],
   "source": [
    "ensemble_init_path = os.path.abspath('double_jet_ensemble_init/')\n",
    "assert len(os.listdir(ensemble_init_path)) == 102, \"Ensemble init folder has wrong number of files\"\n",
    "\n",
    "truth_path = os.path.abspath('double_jet_truth/')\n",
    "assert len(os.listdir(truth_path)) == 4, \"Truth folder has wrong number of files\""
   ]
  },
  {
   "cell_type": "markdown",
   "metadata": {},
   "source": [
    "### Define functions for plotting"
   ]
  },
  {
   "cell_type": "code",
   "execution_count": null,
   "metadata": {},
   "outputs": [],
   "source": [
    "def imshow(im, interpolation=\"None\", title=None, figsize=(4,4), interior=False):\n",
    "    fig = plt.figure(figsize=figsize)\n",
    "    \n",
    "    if interior:\n",
    "        im = plt.imshow(im[2:-2,2:-2], interpolation=interpolation, origin='lower')\n",
    "    else:\n",
    "        im = plt.imshow(im, interpolation=interpolation, origin='lower')\n",
    "    \n",
    "    plt.colorbar()\n",
    "    if title is not None:\n",
    "        plt.title(title)\n",
    "        \n",
    "def imshow3(eta, hu, hv, interpolation=\"None\", title=None, figsize=(12,3), \n",
    "            interior=False, color_bar_from_zero=False):\n",
    "    fig, axs = plt.subplots(1,3, figsize=figsize)\n",
    "    \n",
    "    eta_max = np.max(np.abs(eta))\n",
    "    huv_max = max(np.max(np.abs(hu)), np.max(np.abs(hv)))\n",
    "    eta_min = -eta_max\n",
    "    huv_min = -huv_max\n",
    "    if color_bar_from_zero:\n",
    "        eta_min, huv_min = 0, 0\n",
    "    \n",
    "    if interior:\n",
    "        eta_im = axs[0].imshow(eta[2:-2,2:-2], interpolation=interpolation, origin='lower', vmin=eta_min, vmax=eta_max)\n",
    "    else:\n",
    "        eta_im = axs[0].imshow(eta, interpolation=interpolation, origin='lower', vmin=eta_min, vmax=eta_max)\n",
    "    axs[0].set_title(\"$\\eta$\")\n",
    "    plt.colorbar(eta_im, ax=axs[0])\n",
    "    \n",
    "    if interior:\n",
    "        hu_im = axs[1].imshow(hu[2:-2,2:-2], interpolation=interpolation, origin='lower', vmin=huv_min, vmax=huv_max)\n",
    "    else:\n",
    "        hu_im = axs[1].imshow(hu, interpolation=interpolation, origin='lower', vmin=huv_min, vmax=huv_max)\n",
    "    axs[1].set_title(\"$hu$\")\n",
    "    plt.colorbar(hu_im, ax=axs[1])\n",
    "\n",
    "    if interior:\n",
    "        hv_im = axs[2].imshow(hv[2:-2,2:-2], interpolation=interpolation, origin='lower', vmin=huv_min, vmax=huv_max)\n",
    "    else:\n",
    "        hv_im = axs[2].imshow(hv, interpolation=interpolation, origin='lower', vmin=huv_min, vmax=huv_max)\n",
    "    axs[2].set_title(\"$hv$\")\n",
    "    plt.colorbar(hv_im, ax=axs[2])\n",
    "\n",
    "    if title is not None:\n",
    "        plt.suptitle(title)\n",
    "    plt.tight_layout()\n",
    "    \n",
    "def plotDrifters(observations, sim_reader, t, drifter_set=[]):\n",
    "    drifter_positions = observations.get_drifter_position(t)\n",
    "\n",
    "    fig = plt.figure(figsize=(7,7))\n",
    "    ax = plt.subplot(111)\n",
    "    nx, ny = sim_reader.get('nx'), sim_reader.get('ny')\n",
    "    dx, dy = sim_reader.get('dx'), sim_reader.get('dy')\n",
    "\n",
    "    emptyData =np.ma.masked_where(np.zeros((ny,nx)) > 1, np.zeros((ny,nx)))\n",
    "    ax.imshow(emptyData, origin=\"lower\", extent=[0, nx*dx, 0, ny*dy], cmap='binary')\n",
    "\n",
    "    for i in range(drifter_positions.shape[0]):\n",
    "        color = 'xkcd:pale cyan'\n",
    "        if i in drifter_set:\n",
    "            color = 'xkcd:tomato red'\n",
    "        circ_end = matplotlib.patches.Circle((drifter_positions[i,0], drifter_positions[i,1]),\n",
    "                                             3000, fill=True, zorder=10, color=color)\n",
    "        ax.add_patch(circ_end)\n",
    "\n",
    "    \n",
    "def days_to_sec(days):\n",
    "    return days*24*60*60\n",
    "\n",
    "def truth_time_step(t):\n",
    "    t = t - days_to_sec(3)\n",
    "    return int(t/(60*60))"
   ]
  },
  {
   "cell_type": "markdown",
   "metadata": {},
   "source": [
    "# Read initial conditions and mean and variance \n",
    "\n",
    "Reading files..."
   ]
  },
  {
   "cell_type": "code",
   "execution_count": null,
   "metadata": {},
   "outputs": [],
   "source": [
    "truth_state_filename = os.path.join(truth_path, \"double_jet_case_truth.nc\")\n",
    "observations_filename = os.path.join(truth_path, \"drifter_observations.pickle\")\n",
    "\n",
    "ensemble_init_file_name = os.path.join(ensemble_init_path, \"double_jet_case_XX.nc\")\n",
    "num_files = 100\n",
    "sim_readers = [None]*num_files\n",
    "for i in range(num_files):\n",
    "    sim_readers[i] = SimReader.SimNetCDFReader(ensemble_init_file_name.replace('XX', str(i).zfill(2)))"
   ]
  },
  {
   "cell_type": "markdown",
   "metadata": {},
   "source": [
    "Get mean..."
   ]
  },
  {
   "cell_type": "code",
   "execution_count": null,
   "metadata": {},
   "outputs": [],
   "source": [
    "mean_eta, mean_hu, mean_hv, tmp_t = sim_readers[0].getLastTimeStep()\n",
    "for i in range(1,num_files):\n",
    "    tmp_eta, tmp_hu, tmp_hv, tmp_t = sim_readers[i].getLastTimeStep()\n",
    "    mean_eta += tmp_eta\n",
    "    mean_hu += tmp_hu\n",
    "    mean_hv += tmp_hv\n",
    "mean_eta /= num_files\n",
    "mean_hu  /= num_files\n",
    "mean_hv  /= num_files\n",
    "imshow3(mean_eta, mean_hu, mean_hv, title='Mean of initial conditions')"
   ]
  },
  {
   "cell_type": "markdown",
   "metadata": {},
   "source": [
    "Get variance"
   ]
  },
  {
   "cell_type": "code",
   "execution_count": null,
   "metadata": {},
   "outputs": [],
   "source": [
    "var_eta, var_hu, var_hv = np.zeros_like(mean_eta), np.zeros_like(mean_hu), np.zeros_like(mean_hv)\n",
    "for sim_reader in sim_readers:\n",
    "    tmp_eta, tmp_hu, tmp_hv, tmp_t = sim_reader.getLastTimeStep()\n",
    "    var_eta += (tmp_eta - mean_eta)**2\n",
    "    var_hu  += (tmp_hu  - mean_hu )**2\n",
    "    var_hv  += (tmp_hv  - mean_hv )**2\n",
    "var_eta = np.sqrt(var_eta/(num_files-1))\n",
    "var_hu  = np.sqrt(var_hu /(num_files-1))\n",
    "var_hv  = np.sqrt(var_hv /(num_files-1))\n",
    "\n",
    "imshow3(var_eta, var_hu, var_hv, color_bar_from_zero=True, title='Variance of initial conditions')"
   ]
  },
  {
   "cell_type": "markdown",
   "metadata": {},
   "source": [
    "## Testing how many simulators we can make before we run out of memory"
   ]
  },
  {
   "cell_type": "code",
   "execution_count": null,
   "metadata": {
    "scrolled": true
   },
   "outputs": [],
   "source": [
    "%%time\n",
    "ensemble_particles = [None]*num_files\n",
    "for i in range(num_files):\n",
    "    print(i)\n",
    "    ensemble_particles[i] = CDKLM16.CDKLM16.fromfilename(gpu_ctx, \n",
    "                                                         ensemble_init_file_name.replace('XX', str(i).zfill(2)),\n",
    "                                                         cont_write_netcdf=False)\n",
    "    "
   ]
  },
  {
   "cell_type": "code",
   "execution_count": null,
   "metadata": {
    "scrolled": true
   },
   "outputs": [],
   "source": [
    "%%time\n",
    "current_t = ensemble_particles[i].t\n",
    "next_t = current_t + 6*60*60\n",
    "for i in range(num_files):\n",
    "    print(i)\n",
    "    ensemble_particles[i].dataAssimilationStep(next_t)"
   ]
  },
  {
   "cell_type": "markdown",
   "metadata": {},
   "source": [
    "# Look at var and mean again"
   ]
  },
  {
   "cell_type": "code",
   "execution_count": null,
   "metadata": {},
   "outputs": [],
   "source": [
    "def ensemble_mean_var(sims):\n",
    "    mean_eta, mean_hu, mean_hv = sims[0].download(interior_domain_only=True)\n",
    "    num_sims = len(sims)\n",
    "    for i in range(1,num_sims):\n",
    "        tmp_eta, tmp_hu, tmp_hv = sims[i].download(interior_domain_only=True)\n",
    "        mean_eta += tmp_eta\n",
    "        mean_hu += tmp_hu\n",
    "        mean_hv += tmp_hv\n",
    "    mean_eta /= num_sims\n",
    "    mean_hu  /= num_sims\n",
    "    mean_hv  /= num_sims\n",
    "\n",
    "    var_eta, var_hu, var_hv = np.zeros_like(mean_eta), np.zeros_like(mean_hu), np.zeros_like(mean_hv)\n",
    "    for sim in sims:\n",
    "        tmp_eta, tmp_hu, tmp_hv = sim.download(interior_domain_only=True)\n",
    "        var_eta += (tmp_eta - mean_eta)**2\n",
    "        var_hu  += (tmp_hu  - mean_hu )**2\n",
    "        var_hv  += (tmp_hv  - mean_hv )**2\n",
    "    var_eta = np.sqrt(var_eta/(num_sims-1))\n",
    "    var_hu  = np.sqrt(var_hu /(num_sims-1))\n",
    "    var_hv  = np.sqrt(var_hv /(num_sims-1))\n",
    "    return mean_eta, mean_hu, mean_hv, var_eta, var_hu, var_hv\n",
    "    \n",
    "mean_eta1, mean_hu1, mean_hv1, var_eta1, var_hu1, var_hv1 = ensemble_mean_var(ensemble_particles)\n",
    "imshow3(mean_eta1, mean_hu1, mean_hv1, title='Updated mean')\n",
    "imshow3(var_eta1, var_hu1, var_hv1, title='Updated var', color_bar_from_zero=True)"
   ]
  },
  {
   "cell_type": "code",
   "execution_count": null,
   "metadata": {
    "collapsed": true
   },
   "outputs": [],
   "source": [
    "imshow3(mean_eta1-mean_eta, mean_hu1-mean_hu, mean_hv1-mean_hv, title='Diff in mean')\n",
    "imshow3(var_eta1-var_eta, var_hu1-var_hu, var_hv1-var_hv, title='Diff in var', color_bar_from_zero=False)"
   ]
  },
  {
   "cell_type": "code",
   "execution_count": null,
   "metadata": {},
   "outputs": [],
   "source": [
    "%%time\n",
    "for i in range(num_files):\n",
    "    print(i)\n",
    "    ensemble_particles[i].cleanUp()"
   ]
  }
 ],
 "metadata": {
  "git": {
   "suppress_outputs": true
  },
  "kernelspec": {
   "display_name": "Python [conda env:gpuocean]",
   "language": "python",
   "name": "conda-env-gpuocean-py"
  },
  "language_info": {
   "codemirror_mode": {
    "name": "ipython",
    "version": 3
   },
   "file_extension": ".py",
   "mimetype": "text/x-python",
   "name": "python",
   "nbconvert_exporter": "python",
   "pygments_lexer": "ipython3",
   "version": "3.5.5"
  }
 },
 "nbformat": 4,
 "nbformat_minor": 2
}