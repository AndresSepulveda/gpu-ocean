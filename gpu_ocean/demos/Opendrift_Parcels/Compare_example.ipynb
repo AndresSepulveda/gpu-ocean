{
 "cells": [
  {
   "cell_type": "code",
   "execution_count": 1,
   "metadata": {
    "scrolled": true
   },
   "outputs": [],
   "source": [
    "import os\n",
    "import sys\n",
    "\n",
    "sys.path.insert(0, os.path.abspath(os.path.join(os.getcwd(), '../../')))\n",
    "\n",
    "#from demos.Opendrift_Parcels.CompareModels import *\n",
    "from demos.Opendrift_Parcels.GPUOcean_runDeterministic import *"
   ]
  },
  {
   "cell_type": "code",
   "execution_count": 2,
   "metadata": {},
   "outputs": [],
   "source": [
    "%cuda_context_handler gpu_ctx"
   ]
  },
  {
   "cell_type": "code",
   "execution_count": 3,
   "metadata": {},
   "outputs": [
    {
     "name": "stdout",
     "output_type": "stream",
     "text": [
      "1318389.926555644 510152.22950223205\n"
     ]
    }
   ],
   "source": [
    "source_url = '/home/johanna/gpu-ocean/gpu_ocean/demos/MPI_SIR/netcdf_cache/NorKyst-800m_ZDEPTHS_his.an.2019071600.nc'\n",
    "\n",
    "lon, lat = 14.2, 68.5\n",
    "#lon, lat = 9.2, 63.9\n",
    "#lon, lat = 4.9, 60.0\n",
    "hours = 12\n",
    "\n",
    "X, Y, proj = getXYproj(source_url)\n",
    "\n",
    "initx, inity, x0,x1, y0,y1 = initlonlat2initgpuocean(source_url, lon, lat, X = X, Y = Y, proj=proj)\n",
    "\n",
    "sim_args = {\n",
    "    \"gpu_ctx\": gpu_ctx,\n",
    "    \"dt\": 0.0,\n",
    "    \"rk_order\": 2,\n",
    "    \"desingularization_eps\": 1.0\n",
    "     }\n",
    "\n",
    "domain = [x0,x1,y0,y1]\n"
   ]
  },
  {
   "cell_type": "code",
   "execution_count": 4,
   "metadata": {},
   "outputs": [
    {
     "name": "stdout",
     "output_type": "stream",
     "text": [
      "39189.92655564402 38952.22950223205 1597 587\n"
     ]
    }
   ],
   "source": [
    "print(initx, inity, x0, y0)"
   ]
  },
  {
   "cell_type": "code",
   "execution_count": 12,
   "metadata": {},
   "outputs": [
    {
     "name": "stdout",
     "output_type": "stream",
     "text": [
      "1318389.926555644 510152.22950223205\n",
      "39189.92655564402 38952.22950223205\n"
     ]
    }
   ],
   "source": [
    "a, b = lonlat2xygpuocean(source_url, 14.2, 68.5,x0, y0, X = X, Y = Y, proj = proj)\n",
    "print(a,b)"
   ]
  },
  {
   "cell_type": "code",
   "execution_count": 6,
   "metadata": {},
   "outputs": [
    {
     "name": "stderr",
     "output_type": "stream",
     "text": [
      "This will give inaccurate angle along the border!\n",
      "This will give inaccurate coriolis along the border!\n"
     ]
    },
    {
     "data": {
      "text/plain": [
       "'0% [##############################] 100%. Total: 15s, elapsed: 15s, remaining: 0s'"
      ]
     },
     "metadata": {},
     "output_type": "display_data"
    }
   ],
   "source": [
    "gpuobs = simulate_gpuocean_deterministic(source_url, domain, initx, inity, sim_args = sim_args, wind_drift_factor = 0.0, forecast_duration = hours)"
   ]
  },
  {
   "cell_type": "code",
   "execution_count": 7,
   "metadata": {},
   "outputs": [],
   "source": [
    "#o1 = simulate_opendrift(source_url, lat, lon, 0.0, True, hours) #no wind, average velocity\n",
    "#o1obs = opendriftObj2gpuoceanObs(o1, x0, x1,y0,y1)"
   ]
  },
  {
   "cell_type": "code",
   "execution_count": 8,
   "metadata": {},
   "outputs": [],
   "source": [
    "#simulate_parcels(source_url, 'ex_parcels.nc', lat,lon,0.0,True,hours) #no wind, average velocity\n",
    "#pobs = parcelsFile2gpuoceanObs('ex_parcels.nc', source_url, x0, x1, y0,y1)"
   ]
  },
  {
   "cell_type": "code",
   "execution_count": 9,
   "metadata": {},
   "outputs": [
    {
     "data": {
      "image/png": "[encoded data removed]",
      "text/plain": [
       "<Figure size 864x864 with 1 Axes>"
      ]
     },
     "metadata": {
      "needs_background": "light"
     },
     "output_type": "display_data"
    }
   ],
   "source": [
    "%matplotlib inline\n",
    "ax = createForecastCanvas(gpuobs,background = True, url= source_url, domain = domain, zoom = 10)\n",
    "plotAllDrifters(gpuobs, ax= ax, end = hours, color_id = 0)\n",
    "#plotAllDrifters(o1obs, ax = ax, end = hours, color_id = 1)\n",
    "#plotAllDrifters(pobs, ax = ax, end = hours, color_id = 2)"
   ]
  },
  {
   "cell_type": "code",
   "execution_count": null,
   "metadata": {},
   "outputs": [],
   "source": []
  }
 ],
 "metadata": {
  "kernelspec": {
   "display_name": "Python [conda env:miniconda3-gpuocean_parcels_opendrift]",
   "language": "python",
   "name": "conda-env-miniconda3-gpuocean_parcels_opendrift-py"
  },
  "language_info": {
   "codemirror_mode": {
    "name": "ipython",
    "version": 3
   },
   "file_extension": ".py",
   "mimetype": "text/x-python",
   "name": "python",
   "nbconvert_exporter": "python",
   "pygments_lexer": "ipython3",
   "version": "3.7.6"
  }
 },
 "nbformat": 4,
 "nbformat_minor": 4
}
