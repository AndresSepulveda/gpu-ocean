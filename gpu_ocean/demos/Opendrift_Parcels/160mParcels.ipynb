{
 "cells": [
  {
   "cell_type": "code",
   "execution_count": 1,
   "metadata": {},
   "outputs": [],
   "source": [
    "#For OceanParcels\n",
    "from parcels import FieldSet, ParticleSet, Variable, JITParticle, AdvectionRK4, plotTrajectoriesFile, Field\n",
    "import numpy as np\n",
    "from netCDF4 import Dataset\n",
    "import datetime\n",
    "from IPython.display import display\n",
    "import matplotlib\n",
    "from matplotlib import pyplot as plt\n",
    "import importlib\n",
    "from datetime import timedelta\n",
    "import pyproj"
   ]
  },
  {
   "cell_type": "code",
   "execution_count": 54,
   "metadata": {},
   "outputs": [],
   "source": [
    "def simulate_parcels(source_url, output_filename, lat, lon, \n",
    "                     wind_drift_factor= 0.0, \n",
    "                     velocity_average= True, duration=23):\n",
    "    \n",
    "    filenames = {'U' : source_url, 'V': source_url}\n",
    "    dimensions = {'lat': 'lat_v','lon': 'lon_u','time': 'ocean_time'}\n",
    "\n",
    "    if velocity_average: \n",
    "        variables = {'U': 'ubar', 'V': 'vbar'}\n",
    "    else:\n",
    "        variables = {'U': 'u', 'V': 'v'}\n",
    "\n",
    "    fieldset = FieldSet.from_netcdf(filenames, variables, dimensions,field_chunksize='auto', interp_method = 'cgrid_velocity')\n",
    "    \n",
    "    if wind_drift_factor:\n",
    "        dimensions = {'lat':'lat_rho', 'lon':'lon_rho', 'time': 'ocean_time'}\n",
    "        Uwind = Field.from_netcdf(source_url, ('U', 'Uwind'), dimensions, field_chunksize='auto', interp_method = 'cgrid_velocity')\n",
    "        Vwind = Field.from_netcdf(source_url, ('V', 'Vwind'), dimensions, field_chunksize='auto', interp_method = 'cgrid_velocity')\n",
    "        Uwind.set_scaling_factor(wind_drift_factor)\n",
    "        Vwind.set_scaling_factor(wind_drift_factor)\n",
    "        fieldset = FieldSet(U = fieldset.U+ Uwind,V = fieldset.V+ Vwind)\n",
    "\n",
    "    pset = ParticleSet.from_list(fieldset = fieldset, pclass = JITParticle, lon=lon, lat=lat)\n",
    "    output_file = pset.ParticleFile(name = output_filename, outputdt = timedelta(minutes=15))\n",
    "\n",
    "    pset.execute(AdvectionRK4, runtime = timedelta(hours = duration), dt = timedelta(minutes=5), output_file = output_file)\n",
    "\n",
    "    output_file.export()    "
   ]
  },
  {
   "cell_type": "code",
   "execution_count": 50,
   "metadata": {},
   "outputs": [],
   "source": [
    "source_url = '/home/johanna/gpu-ocean/gpu_ocean/papers/MPI_SIR/netcdf_cache/NorFjords160/A10/norfjords_160m_his.nc4_2019071601-2019071700'"
   ]
  },
  {
   "cell_type": "code",
   "execution_count": 51,
   "metadata": {},
   "outputs": [],
   "source": [
    "lat, lon = 68.5, 14.2"
   ]
  },
  {
   "cell_type": "code",
   "execution_count": 58,
   "metadata": {},
   "outputs": [
    {
     "name": "stderr",
     "output_type": "stream",
     "text": [
      "INFO: Compiled JITParticleAdvectionRK4 ==> /tmp/parcels-1001/ec3802cf91704e314d564448f49dc29d_0.so\n",
      "INFO: Temporary output files are stored in out-JXHTOEOB.\n",
      "INFO: You can use \"parcels_convert_npydir_to_netcdf out-JXHTOEOB\" to convert these to a NetCDF file during the run.\n",
      "100% (72000.0 of 72000.0) |##############| Elapsed Time: 0:00:27 Time:  0:00:27\n",
      "INFO: Compiled JITParticleAdvectionRK4 ==> /tmp/parcels-1001/23414d263fedfcbc1e22a15ba8f60d47_0.so\n",
      "INFO: Temporary output files are stored in out-QZNPSWHT.\n",
      "INFO: You can use \"parcels_convert_npydir_to_netcdf out-QZNPSWHT\" to convert these to a NetCDF file during the run.\n",
      "100% (72000.0 of 72000.0) |##############| Elapsed Time: 0:00:59 Time:  0:00:59\n"
     ]
    }
   ],
   "source": [
    "simulate_parcels(source_url, 'example.nc', lat, lon, duration = 20)\n",
    "simulate_parcels(source_url, 'example_wind.nc', lat, lon, duration = 20, wind_drift_factor = 0.02)"
   ]
  },
  {
   "cell_type": "code",
   "execution_count": null,
   "metadata": {},
   "outputs": [],
   "source": []
  },
  {
   "cell_type": "code",
   "execution_count": 59,
   "metadata": {},
   "outputs": [
    {
     "name": "stdout",
     "output_type": "stream",
     "text": [
      "(81,)\n"
     ]
    },
    {
     "data": {
      "text/plain": [
       "[<matplotlib.lines.Line2D at 0x7f6be0a2ce10>]"
      ]
     },
     "execution_count": 59,
     "metadata": {},
     "output_type": "execute_result"
    },
    {
     "data": {
      "image/png": "[encoded data removed]",
      "text/plain": [
       "<Figure size 432x288 with 1 Axes>"
      ]
     },
     "metadata": {
      "needs_background": "light"
     },
     "output_type": "display_data"
    }
   ],
   "source": [
    "%matplotlib inline\n",
    "pfile = Dataset('example_wind.nc')\n",
    "t = pfile.variables['time'][0,:]\n",
    "lon = np.ma.filled(pfile.variables['lon'], np.nan)\n",
    "lat = np.ma.filled(pfile.variables['lat'], np.nan)\n",
    "pfile.close()\n",
    "\n",
    "print(lon[0].shape)\n",
    "plt.plot(lon[0], lat[0])"
   ]
  },
  {
   "cell_type": "code",
   "execution_count": null,
   "metadata": {},
   "outputs": [],
   "source": []
  },
  {
   "cell_type": "code",
   "execution_count": null,
   "metadata": {},
   "outputs": [],
   "source": []
  }
 ],
 "metadata": {
  "kernelspec": {
   "display_name": "Python [conda env:gpuocean_parcels_opendrift]",
   "language": "python",
   "name": "conda-env-gpuocean_parcels_opendrift-py"
  },
  "language_info": {
   "codemirror_mode": {
    "name": "ipython",
    "version": 3
   },
   "file_extension": ".py",
   "mimetype": "text/x-python",
   "name": "python",
   "nbconvert_exporter": "python",
   "pygments_lexer": "ipython3",
   "version": "3.7.6"
  }
 },
 "nbformat": 4,
 "nbformat_minor": 4
}
