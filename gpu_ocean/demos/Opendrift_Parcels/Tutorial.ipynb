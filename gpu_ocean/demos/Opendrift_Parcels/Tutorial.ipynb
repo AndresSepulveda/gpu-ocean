{
 "cells": [
  {
   "cell_type": "markdown",
   "metadata": {},
   "source": [
    "# GPU Ocean Tutorial - Deterministic Trajectory Forecast"
   ]
  },
  {
   "cell_type": "markdown",
   "metadata": {},
   "source": [
    "This tutorial will show how to set up and run a deterministic drift trajectory forecast using real-world data.\n",
    "\n",
    "A breif overview of the most important classes and methods in this respect is given. The tutorial then covers selecting an area and loading boundary- and initial conditions, setting up a simulator and observation-instance, adding drifters and running a simulation. It also covers certain basic configurations and how to save, access and plot trajectory results. Saving and accessing data about the state of the underlying ocean model is not included.  "
   ]
  },
  {
   "cell_type": "markdown",
   "metadata": {},
   "source": [
    "## Overview of classes and modules"
   ]
  },
  {
   "cell_type": "markdown",
   "metadata": {},
   "source": [
    "<img src=\"cropped_figure-1[1].png\" width=600 height=600 />"
   ]
  },
  {
   "cell_type": "markdown",
   "metadata": {},
   "source": [
    "The figure above summarizes key elements when simulating a (deterministic) drift trajectory. Classes and methods are in blue, green represent data-files. "
   ]
  },
  {
   "cell_type": "markdown",
   "metadata": {},
   "source": [
    "We now move on to an example. We start by importing the relevant modules and setting the "
   ]
  },
  {
   "cell_type": "code",
   "execution_count": 2,
   "metadata": {},
   "outputs": [],
   "source": [
    "#Lets have matplotlib \"inline\"\n",
    "%matplotlib inline\n",
    "\n",
    "import os\n",
    "import sys\n",
    "\n",
    "#Import packages we need\n",
    "import numpy as np\n",
    "from netCDF4 import Dataset\n",
    "import datetime\n",
    "from IPython.display import display\n",
    "\n",
    "#For plotting\n",
    "import matplotlib\n",
    "from matplotlib import pyplot as plt\n",
    "\n",
    "sys.path.insert(0, os.path.abspath(os.path.join(os.getcwd(), '../../')))"
   ]
  },
  {
   "cell_type": "markdown",
   "metadata": {},
   "source": [
    "GPU Ocean-modules:"
   ]
  },
  {
   "cell_type": "code",
   "execution_count": 3,
   "metadata": {},
   "outputs": [],
   "source": [
    "from SWESimulators import CDKLM16, Common, IPythonMagic, NetCDFInitialization\n",
    "from SWESimulators import GPUDrifterCollection, Observation\n",
    "from SWESimulators import DataAssimilationUtils as dautils\n",
    "\n",
    "from demos.realisticSimulations import norkyst_plotting"
   ]
  },
  {
   "cell_type": "code",
   "execution_count": 4,
   "metadata": {},
   "outputs": [],
   "source": [
    "%cuda_context_handler gpu_ctx"
   ]
  },
  {
   "cell_type": "markdown",
   "metadata": {},
   "source": [
    "## Selecting area and loading initial- and boundary conditions"
   ]
  },
  {
   "cell_type": "markdown",
   "metadata": {},
   "source": [
    "As initial and boundary conditions to the simulation, we use data from the Norkyst800 model:"
   ]
  },
  {
   "cell_type": "code",
   "execution_count": 5,
   "metadata": {},
   "outputs": [],
   "source": [
    "#source_url = 'https://thredds.met.no/thredds/dodsC/fou-hi/norkyst800m-1h/NorKyst-800m_ZDEPTHS_his.an.2019071600.nc'\n",
    "#locally:\n",
    "source_url = '/home/johanna/gpu-ocean/gpu_ocean/demos/MPI_SIR/netcdf_cache/NorKyst-800m_ZDEPTHS_his.an.2019071600.nc'"
   ]
  },
  {
   "cell_type": "markdown",
   "metadata": {},
   "source": [
    "A local file path or URL to a NetCDF-file, or lists of either may be given as argument. \n",
    "\n",
    "Before loading the data, we need to specify what domain to model: \n",
    "\n",
    "  <code> NetCDFInitialization.getInitialConditions(source_url, x0, x1, y0, y1) </code>\n",
    "    \n",
    "loads the data relevant for the domain limited by $X[x_0], X[x_1], Y[y_0], Y[y_1]$, where $X$, $Y$ are horizontal position arrays from the given netCDF-file. That is, $x_0, x_1, y_0, y_1$ are indicies into position arrays, which in this case span a $800$m resolution grid. \n",
    "\n",
    "Certain areas within the Norkyst-800 model domain are pre-defined. We can access these with\n",
    "\n",
    "   <code> NetCDFInitialization.getInitialConditionsNorkystCases(source_url, casename)</code>\n",
    "\n",
    "We choose Lofoten:"
   ]
  },
  {
   "cell_type": "code",
   "execution_count": 6,
   "metadata": {},
   "outputs": [],
   "source": [
    "casename = 'lofoten'\n",
    "data_args = NetCDFInitialization.getInitialConditionsNorKystCases(source_url,casename, download_data=False)"
   ]
  },
  {
   "cell_type": "markdown",
   "metadata": {},
   "source": [
    "## Creating simulator and forecast"
   ]
  },
  {
   "cell_type": "markdown",
   "metadata": {},
   "source": [
    "Stripping data_args of unneccessary information with  <code> NetCDFInitialization.removeMetadata</code> it can then be passed to a simulator object along with some additional arguments:"
   ]
  },
  {
   "cell_type": "code",
   "execution_count": 7,
   "metadata": {},
   "outputs": [
    {
     "name": "stderr",
     "output_type": "stream",
     "text": [
      "This will give inaccurate angle along the border!\n",
      "This will give inaccurate coriolis along the border!\n"
     ]
    }
   ],
   "source": [
    "sim_args = {\n",
    "    \"gpu_ctx\": gpu_ctx,\n",
    "    \"dt\": 0.0,\n",
    "    #\"desingularization_eps\": 1.0 Why this exactly?\n",
    "     }\n",
    "\n",
    "sim = CDKLM16.CDKLM16(**sim_args, **NetCDFInitialization.removeMetadata(data_args))"
   ]
  },
  {
   "cell_type": "markdown",
   "metadata": {},
   "source": [
    "When nothing else is specified, a second order runge kutta method is used.\n",
    "\n",
    "We create an observation-object to store the forecast, using parameters from the simulation :"
   ]
  },
  {
   "cell_type": "code",
   "execution_count": 8,
   "metadata": {},
   "outputs": [],
   "source": [
    "observation_args = {'observation_type': dautils.ObservationType.UnderlyingFlow,\n",
    "                'nx': sim.nx, 'ny': sim.ny,\n",
    "                'domain_size_x': sim.nx*sim.dx,\n",
    "                'domain_size_y': sim.ny*sim.dy,\n",
    "                'land_mask': sim.getLandMask()\n",
    "               }\n",
    "\n",
    "forecast = Observation.Observation(**observation_args)"
   ]
  },
  {
   "cell_type": "markdown",
   "metadata": {},
   "source": [
    "For objects drifting at sea, UnderlyingFlow is the correct ObservationType."
   ]
  },
  {
   "cell_type": "markdown",
   "metadata": {},
   "source": [
    "## Creating drifters"
   ]
  },
  {
   "cell_type": "markdown",
   "metadata": {},
   "source": [
    "Now we create some drifters. The drifter collection will be attached to the simulation later. This means the simulation of drift trajectories can start at any point during an ongoing ocean model simulation. "
   ]
  },
  {
   "cell_type": "code",
   "execution_count": 9,
   "metadata": {},
   "outputs": [],
   "source": [
    "num_drifters = 3\n",
    "drifters = GPUDrifterCollection.GPUDrifterCollection(gpu_ctx, num_drifters, \n",
    "                                                 boundaryConditions = sim.boundary_conditions,\n",
    "                                                 domain_size_x = forecast.domain_size_x,\n",
    "                                                 domain_size_y = forecast.domain_size_y,\n",
    "                                                 gpu_stream = sim.gpu_stream)\n"
   ]
  },
  {
   "cell_type": "markdown",
   "metadata": {},
   "source": [
    "We set the drifter positions with <code> .setDrifterPositions</code>:"
   ]
  },
  {
   "cell_type": "code",
   "execution_count": 10,
   "metadata": {},
   "outputs": [],
   "source": [
    "init_positions = np.array([[39189.93, 38952.23],  #[[x1, y1],\n",
    "                           [38762.76, 38783.02],  # [x2, y2],\n",
    "                           [39128.16, 38939.48]]) # [x3, y3]]\n",
    "drifters.setDrifterPositions(init_positions)"
   ]
  },
  {
   "cell_type": "markdown",
   "metadata": {},
   "source": [
    "## Running the simulation"
   ]
  },
  {
   "cell_type": "markdown",
   "metadata": {},
   "source": [
    "<code> Simulator.step(dt) </code> evolves the simulation dt forward in time. Looping over this, we can simulate the ocean using a stepsize dt of our choice and for the number of hours we want(limited by the available boundary-data), attaching drifters and starting the trajectory forecast after a chosen number of hours.\n",
    "\n",
    "<code> Observation.add_observation_from_sim </code> saves the current positions of drifters to the observation object in each time step. \n",
    "\n",
    "Here, we simulate the ocean for 24 hours, adding drifters after the first 5."
   ]
  },
  {
   "cell_type": "code",
   "execution_count": 11,
   "metadata": {},
   "outputs": [
    {
     "data": {
      "text/plain": [
       "'0% [##############################] 100%. Total: 1m 31s, elapsed: 1m 31s, remaining: 0s'"
      ]
     },
     "metadata": {},
     "output_type": "display_data"
    }
   ],
   "source": [
    "start_drifters_hours = 5\n",
    "total_hours = 24\n",
    "dt = 5*60 # Stepsize: 5min (in seconds)\n",
    "timesteps_per_hour = int(60*60 / dt)\n",
    "\n",
    "#Create progress bar\n",
    "progress = Common.ProgressPrinter(5)\n",
    "pp = display(progress.getPrintString(0), display_id=True)\n",
    "\n",
    "#Run simulation\n",
    "for hour in range(total_hours):\n",
    "    \n",
    "    if hour == start_drifters_hours:                  #Attach drifters \n",
    "        sim.attachDrifters(drifters)\n",
    "        forecast.add_observation_from_sim(sim)\n",
    "    \n",
    "    for n in range(timesteps_per_hour):    \n",
    "        t = sim.step(dt)                              #make one step forward in time\n",
    "        if hour >= start_drifters_hours:               #Add positions to observation only if drifters have been attached\n",
    "            forecast.add_observation_from_sim(sim) \n",
    "    \n",
    "    #Update progress bar\n",
    "    pp.update(progress.getPrintString(hour/(total_hours-1)))"
   ]
  },
  {
   "cell_type": "markdown",
   "metadata": {},
   "source": [
    "## Saving trajectories to file"
   ]
  },
  {
   "cell_type": "markdown",
   "metadata": {},
   "source": [
    "The observation class provides functions <code>.to_pickle</code> and <code>.read_pickle</code> to easily write and read trajectory info to and from file. "
   ]
  },
  {
   "cell_type": "code",
   "execution_count": 12,
   "metadata": {},
   "outputs": [],
   "source": [
    "filename = 'tutorial_forecast_'+str(start_drifters_hours)+'_to_'+str(total_hours)+'.pickle'\n",
    "\n",
    "#save data\n",
    "forecast.to_pickle(filename)\n",
    "\n",
    "#Retrieve data\n",
    "forecast_from_file = Observation.Observation(**observation_args) # Create new observation for the trajectories to be stored\n",
    "forecast_from_file.read_pickle(filename)                         # Load pickled observations into new observation object"
   ]
  },
  {
   "cell_type": "markdown",
   "metadata": {},
   "source": [
    "## Accessing and plotting the results"
   ]
  },
  {
   "cell_type": "code",
   "execution_count": null,
   "metadata": {},
   "outputs": [],
   "source": []
  },
  {
   "cell_type": "code",
   "execution_count": null,
   "metadata": {},
   "outputs": [],
   "source": []
  },
  {
   "cell_type": "code",
   "execution_count": null,
   "metadata": {},
   "outputs": [],
   "source": []
  },
  {
   "cell_type": "code",
   "execution_count": null,
   "metadata": {},
   "outputs": [],
   "source": []
  }
 ],
 "metadata": {
  "kernelspec": {
   "display_name": "Python [conda env:miniconda3-gpuocean]",
   "language": "python",
   "name": "conda-env-miniconda3-gpuocean-py"
  },
  "language_info": {
   "codemirror_mode": {
    "name": "ipython",
    "version": 3
   },
   "file_extension": ".py",
   "mimetype": "text/x-python",
   "name": "python",
   "nbconvert_exporter": "python",
   "pygments_lexer": "ipython3",
   "version": "3.7.6"
  }
 },
 "nbformat": 4,
 "nbformat_minor": 4
}
