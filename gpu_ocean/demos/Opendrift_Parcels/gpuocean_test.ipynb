{
 "cells": [
  {
   "cell_type": "code",
   "execution_count": 1,
   "metadata": {},
   "outputs": [],
   "source": [
    "#Lets have matplotlib \"inline\"\n",
    "%matplotlib inline\n",
    "#%config InlineBackend.figure_format = 'retina'\n",
    "\n",
    "import os\n",
    "import sys\n",
    "\n",
    "#Import packages we need\n",
    "import numpy as np\n",
    "from netCDF4 import Dataset\n",
    "\n",
    "#Helpful during development\n",
    "import importlib\n",
    "#importlib.reload(module)\n",
    "\n",
    "import datetime\n",
    "\n",
    "from IPython.display import display\n",
    "\n",
    "import matplotlib\n",
    "\n",
    "from matplotlib import pyplot as plt\n",
    "#Set large figure sizes\n",
    "#plt.rcParams[\"animation.html\"] = \"jshtml\" #Javascript \n",
    "plt.rcParams[\"animation.html\"] = \"html5\" #mp4\n",
    "plt.rcParams[\"figure.dpi\"] = 100.0 #highres movies/plots\n",
    "\n",
    "plt.rcParams[\"animation.writer\"] = 'ffmpeg' \n",
    "plt.rcParams[\"animation.codec\"] = 'h264' \n",
    "\n",
    "plt.rcParams[\"text.usetex\"] = True\n",
    "plt.rcParams[\"font.family\"] = 'serif'"
   ]
  },
  {
   "cell_type": "code",
   "execution_count": 2,
   "metadata": {},
   "outputs": [],
   "source": [
    "sys.path.insert(0, os.path.abspath(os.path.join(os.getcwd(), '../../')))\n",
    "\n",
    "from SWESimulators import CDKLM16, Common, IPythonMagic, NetCDFInitialization\n",
    "from SWESimulators import GPUDrifterCollection, Observation\n",
    "from SWESimulators import DataAssimilationUtils as dautils\n",
    "\n",
    "from demos.realisticSimulations import norkyst_plotting"
   ]
  },
  {
   "cell_type": "code",
   "execution_count": 3,
   "metadata": {},
   "outputs": [],
   "source": [
    "%cuda_context_handler gpu_ctx"
   ]
  },
  {
   "cell_type": "code",
   "execution_count": 4,
   "metadata": {},
   "outputs": [
    {
     "name": "stdout",
     "output_type": "stream",
     "text": [
      "Output will be placed in '/home/johanna/gpu-ocean/gpu_ocean/demos/Opendrift_Parcels/deterministic_forecast_test'\n"
     ]
    }
   ],
   "source": [
    "netcdf_frequency_hours = 6\n",
    "\n",
    "start_forecast_hours = 0\n",
    "end_forecast_hours = start_forecast_hours + 23\n",
    "\n",
    "erode_land = 1 #Er vel såpass langt fra land at dette ikke har noe å si foreløpig\n",
    "\n",
    "out_folder = os.path.abspath('deterministic_forecast_test')\n",
    "\n",
    "os.makedirs(out_folder, exist_ok=True)\n",
    "print(\"Output will be placed in '\" + out_folder + \"'\")"
   ]
  },
  {
   "cell_type": "code",
   "execution_count": 5,
   "metadata": {},
   "outputs": [],
   "source": [
    "url_list = ['/home/johanna/gpu-ocean/gpu_ocean/demos/MPI_SIR/netcdf_cache/NorKyst-800m_ZDEPTHS_his.an.2019071600.nc',\n",
    "            '/home/johanna/gpu-ocean/gpu_ocean/demos/MPI_SIR/netcdf_cache/NorKyst-800m_ZDEPTHS_his.an.2019071700.nc',\n",
    "            '/home/johanna/gpu-ocean/gpu_ocean/demos/MPI_SIR/netcdf_cache/NorKyst-800m_ZDEPTHS_his.an.2019071800.nc']"
   ]
  },
  {
   "cell_type": "code",
   "execution_count": 6,
   "metadata": {},
   "outputs": [
    {
     "name": "stderr",
     "output_type": "stream",
     "text": [
      "This will give inaccurate angle along the border!\n",
      "This will give inaccurate coriolis along the border!\n"
     ]
    }
   ],
   "source": [
    "# Set initial conditions \n",
    "sim_args = {\n",
    "    \"gpu_ctx\": gpu_ctx,\n",
    "    \"dt\": 0.0,\n",
    "    \"rk_order\": 2,\n",
    "    \"desingularization_eps\": 1.0\n",
    "}\n",
    "data_args = NetCDFInitialization.getInitialConditions(url_list, 376, 432, 487,543 , \n",
    "                     timestep_indices = None, erode_land = erode_land, download_data = False)\n",
    "\n",
    "importlib.reload(CDKLM16)\n",
    "sim = CDKLM16.CDKLM16(**sim_args, **NetCDFInitialization.removeMetadata(data_args))\n",
    "\n",
    "forecast_netcdf = os.path.join(out_folder,\"_deterministic_forecast.nc\")\n",
    "\n"
   ]
  },
  {
   "cell_type": "code",
   "execution_count": 7,
   "metadata": {},
   "outputs": [],
   "source": [
    "observation_args = {'observation_type': dautils.ObservationType.UnderlyingFlow,\n",
    "                    'nx': sim.nx, 'ny': sim.ny,\n",
    "                    'domain_size_x': sim.nx*sim.dx,\n",
    "                    'domain_size_y': sim.ny*sim.dy,\n",
    "                    'land_mask': sim.getLandMask()\n",
    "                   }\n",
    "\n",
    "trajectory_forecast = Observation.Observation(**observation_args)\n",
    "\n",
    "trajectory_forecast_filename = 'trajectory_forecast_'+str(start_forecast_hours)+'_to_'+str(end_forecast_hours)+'.pickle'\n",
    "trajectory_forecast_path = os.path.join(out_folder, trajectory_forecast_filename)"
   ]
  },
  {
   "cell_type": "code",
   "execution_count": 8,
   "metadata": {},
   "outputs": [
    {
     "data": {
      "text/plain": [
       "'/home/johanna/gpu-ocean/gpu_ocean/demos/Opendrift_Parcels/deterministic_forecast_test/trajectory_forecast_0_to_69.pickle'"
      ]
     },
     "execution_count": 8,
     "metadata": {},
     "output_type": "execute_result"
    }
   ],
   "source": [
    "trajectory_forecast_path"
   ]
  },
  {
   "cell_type": "code",
   "execution_count": 9,
   "metadata": {},
   "outputs": [],
   "source": [
    "drifters = GPUDrifterCollection.GPUDrifterCollection(gpu_ctx, 1,\n",
    "                                                     boundaryConditions = sim.boundary_conditions,\n",
    "                                                     domain_size_x = trajectory_forecast.domain_size_x,\n",
    "                                                     domain_size_y = trajectory_forecast.domain_size_y,\n",
    "                                                     gpu_stream = sim.gpu_stream)"
   ]
  },
  {
   "cell_type": "code",
   "execution_count": 10,
   "metadata": {},
   "outputs": [
    {
     "data": {
      "text/plain": [
       "'0% [##############################] 100%. Total: 3m 0s, elapsed: 3m 0s, remaining: 0s'"
      ]
     },
     "metadata": {},
     "output_type": "display_data"
    }
   ],
   "source": [
    "try:\n",
    "    num_total_hours = end_forecast_hours\n",
    "    \n",
    "    five_mins_in_an_hour = 12\n",
    "    sub_dt = 5*60 # five minutes\n",
    "    \n",
    "    progress = Common.ProgressPrinter(5)\n",
    "    pp = display(progress.getPrintString(0), display_id=True)\n",
    "\n",
    "    netcdf_counter = 0\n",
    "    for hour in range(num_total_hours):\n",
    "        \n",
    "        if hour == start_forecast_hours:\n",
    "            # Attach drifters\n",
    "            drifter_positions = np.array([[400.5\n",
    "                                           *800-302400,513.57*800-391200]])\n",
    "            drifters.setDrifterPositions(drifter_positions)\n",
    "            sim.attachDrifters(drifters)\n",
    "            trajectory_forecast.add_observation_from_sim(sim)\n",
    "        \n",
    "        for mins in range(five_mins_in_an_hour):\n",
    "            t = sim.step(sub_dt)\n",
    "            if hour >= start_forecast_hours:\n",
    "                trajectory_forecast.add_observation_from_sim(sim)\n",
    "        \n",
    "        pp.update(progress.getPrintString(hour/(end_forecast_hours-1)))\n",
    "\n",
    "except Exception as e:\n",
    "    print(\"Something went wrong:\" + str(e))\n",
    "    raise e\n",
    "    \n",
    "trajectory_forecast.to_pickle(trajectory_forecast_path)"
   ]
  },
  {
   "cell_type": "code",
   "execution_count": 11,
   "metadata": {},
   "outputs": [],
   "source": [
    "def forecastPlot(ax, true_paths, ensemble_paths, color_id=0, \n",
    "                 forecast_point_size=2, truth_point_size=6, mean_paths=[None]):\n",
    "    \"\"\"\n",
    "    ax: Axis object to draw trajectories in\n",
    "    true_path: A single list of paths that represents the truth\n",
    "    ensemble_paths: Multiple lists of paths that represents the forecast\n",
    "    color_id: integer representing a pre-defined color combination.\n",
    "    \"\"\"\n",
    "\n",
    "    color_combinations = [\n",
    "        # [true color, forecast color]\n",
    "        #['xkcd:dark grey blue', 'xkcd:light blue grey', 'xkcd:wine'],\n",
    "        ['xkcd:black', 'xkcd:light blue grey', 'xkcd:dark grey blue'],\n",
    "        ['xkcd:scarlet', 'xkcd:light blue grey', 'xkcd:dark grey blue'],\n",
    "        ['xkcd:viridian', 'xkcd:foam green']\n",
    "    ]\n",
    "    \n",
    "    assert(color_id < len(color_combinations)), 'Invalid color_id'\n",
    "    \n",
    "    true_color = color_combinations[color_id][0]\n",
    "    forecast_color = color_combinations[color_id][1]\n",
    "    mean_color = color_combinations[color_id][2]\n",
    "\n",
    "    # Plot forecast paths \n",
    "    for paths in ensemble_paths:\n",
    "        for path in paths:\n",
    "            ax.plot(path[:,0], path[:,1], color=forecast_color, alpha=0.3)\n",
    "        \n",
    "        # Mark end position of forecast\n",
    "        end_position   = paths[-1][-1,:]\n",
    "        circ_end_forecast = matplotlib.patches.Circle((end_position[0], end_position[1]), \n",
    "                                                      forecast_point_size, \n",
    "                                                      fill=False, zorder=10,\n",
    "                                                      alpha=0.7)\n",
    "        ax.add_patch(circ_end_forecast)\n",
    "\n",
    "    \n",
    "    # Plot true path\n",
    "    for path in true_paths:\n",
    "        ax.plot(path[:,0], path[:,1], color=true_color, zorder=5)\n",
    "    \n",
    "    # Plot mean path\n",
    "    if mean_paths[0] is not None:\n",
    "        for path in mean_paths:\n",
    "            ax.plot(path[:,0], path[:,1], color=mean_color, zorder=6)\n",
    "    \n",
    "    # Mark start and end of true path\n",
    "    start_pos = true_paths[0][0,:]\n",
    "    end_pos   = true_paths[-1][-1,:]\n",
    "    circ_start = matplotlib.patches.Circle((start_pos[0], start_pos[1]), \n",
    "                                           truth_point_size,\n",
    "                                           fill=False, zorder=10)\n",
    "    ax.add_patch(circ_start)\n",
    "    #circ_end = matplotlib.patches.Circle((end_pos[0], end_pos[1]), \n",
    "    #                                     truth_point_size,\n",
    "    #                                     fill=False, zorder=10)\n",
    "    #ax.add_patch(circ_end)\n",
    "    ax.plot(end_pos[0], end_pos[1], 'x', color='k', zorder=11)\n",
    "    \n",
    "    # Mark end of mean path\n",
    "    if mean_paths[0] is not None:\n",
    "        #xend = matplotlib.patches.Circle((mean_paths[-1][-1,0], mean_paths[-1][-1,1]),\n",
    "        #                                 truth_point_size,\n",
    "        #                                 fill=False, zorder=10)\n",
    "        #ax.add_patch(xend)\n",
    "        ax.plot(mean_paths[-1][-1,0], mean_paths[-1][-1,1], \n",
    "                   marker='o', markeredgecolor='k', markerfacecolor=None)\n",
    "        \n",
    "def createForecastCanvas(observation):\n",
    "    \"\"\"\n",
    "    true_sim_reader: The SimReader object containing nx, ny, etc\n",
    "    \"\"\"   \n",
    "    \n",
    "    nx = observation.nx\n",
    "    ny = observation.ny\n",
    "    \n",
    "    fig = plt.figure(figsize=(7,7))\n",
    "    ax = plt.subplot(111)\n",
    "    \n",
    "    extent=np.array([0, observation.domain_size_x, 0, observation.domain_size_y])/1000\n",
    "    ax.imshow(observation.land_mask, origin=\"lower\", \n",
    "              extent=extent, cmap='binary')\n",
    "\n",
    "    return ax\n",
    "\n",
    "\n",
    "def plotAllDrifters(obs_file, drifter_ids=None, ax = None):\n",
    "    \n",
    "    if drifter_ids is None:\n",
    "        drifter_ids = np.arange(obs_file.get_num_drifters(ignoreBuoys=True))\n",
    "    \n",
    "    num_drifters = len(drifter_ids)\n",
    "    \n",
    "    drifter_paths = [None]*num_drifters\n",
    "\n",
    "    forecast_start_t = start_forecast_hours*3600\n",
    "    forecast_end_t = end_forecast_hours*3600\n",
    "\n",
    "\n",
    "    for i in range(num_drifters):\n",
    "        drifter_paths[i] = obs_file.get_drifter_path(drifter_ids[i], forecast_start_t, forecast_end_t)\n",
    "\n",
    "    if ax is None:\n",
    "        ax = createForecastCanvas(trajectory_forecast)\n",
    "    for drifter_path in drifter_paths:\n",
    "        forecastPlot(ax, drifter_path, [], truth_point_size=1)\n"
   ]
  },
  {
   "cell_type": "code",
   "execution_count": 12,
   "metadata": {},
   "outputs": [
    {
     "name": "stdout",
     "output_type": "stream",
     "text": [
      "[array([[18.00091992, 19.65795312],\n",
      "       [18.00117188, 19.66052734],\n",
      "       [18.00140039, 19.66220313],\n",
      "       ...,\n",
      "       [18.39405273, 19.33316602],\n",
      "       [18.39621875, 19.33251562],\n",
      "       [18.39838477, 19.33186523]])]\n"
     ]
    }
   ],
   "source": [
    "drifter_path = trajectory_forecast.get_drifter_path(0,start_forecast_hours*3600, end_forecast_hours*3600)\n",
    "print(drifter_path)"
   ]
  },
  {
   "cell_type": "code",
   "execution_count": 13,
   "metadata": {},
   "outputs": [
    {
     "data": {
      "image/png": "[encoded data removed]",
      "text/plain": [
       "<Figure size 700x700 with 1 Axes>"
      ]
     },
     "metadata": {
      "needs_background": "light"
     },
     "output_type": "display_data"
    }
   ],
   "source": [
    "dt_string = 'hours ' + str(start_forecast_hours) + ' to ' + str(end_forecast_hours)\n",
    "\n",
    "plotAllDrifters(trajectory_forecast)\n",
    "plt.title('Deterministic forecast GPU Ocean ' + dt_string)\n",
    "plt.savefig(os.path.join(out_folder, 'gpuocean_forecasts.pdf'))"
   ]
  },
  {
   "cell_type": "code",
   "execution_count": 16,
   "metadata": {},
   "outputs": [],
   "source": [
    "from opendrift.readers import reader_netCDF_CF_generic\n",
    "from opendrift.models.oceandrift import OceanDrift\n",
    "from netCDF4 import Dataset\n",
    "from datetime import timedelta"
   ]
  },
  {
   "cell_type": "code",
   "execution_count": 27,
   "metadata": {},
   "outputs": [],
   "source": [
    "def opendriftObj2gpuoceanObs(o, x0, x1,y0,y1, norkyst_X, norkyst_Y, land_mask = None):\n",
    "    t = o.get_time_array()[1]\n",
    "    for i in range(len(t)):\n",
    "        t[i] = t[i].total_seconds()\n",
    "    t = np.array(t)\n",
    "\n",
    "    lon, lat = o.get_lonlats()\n",
    "    x,y = o.lonlat2xy(lon,lat)\n",
    "    \n",
    "    x = x - norkyst_X[x0 + 2]\n",
    "    y = y- norkyst_Y[y0 + 2]\n",
    "\n",
    "    nx = (x1-x0-4)\n",
    "    ny = (y1-y0-4)\n",
    "    \n",
    "    obs = Observation.Observation(domain_size_x = nx*800,\n",
    "                                    domain_size_y = ny*800,\n",
    "                                    nx=x1-x0-4, ny=y1-y0-4, land_mask = land_mask)\n",
    "    \n",
    "    obs.add_observations_from_arrays(t,x,y) #x,y i m fra origin i gpuocean\n",
    "    \n",
    "    return obs\n",
    "\n",
    "def xyopendrift2gpuocean(o,lon,lat,x0,x1, norkyst_X, norkyst_Y):\n",
    "    x,y = o.lonlat2xy(lon,lat)\n",
    "    \n",
    "    x = x - norkyst_X[x0 + 2]\n",
    "    y = y- norkyst_Y[y0 + 2]\n",
    "    \n",
    "    return x,y"
   ]
  },
  {
   "cell_type": "code",
   "execution_count": 20,
   "metadata": {},
   "outputs": [],
   "source": [
    "def simulate_opendrift(source_url, lat, lon, wind_drift_percentage, velocity_average, hours=23):\n",
    "    reader_norkyst = reader_netCDF_CF_generic.Reader(source_url)\n",
    "    o = OceanDrift(loglevel=20)\n",
    "    \n",
    "    if velocity_average:\n",
    "        reader_norkyst.variable_mapping['x_sea_water_velocity'] = 'ubar'\n",
    "        reader_norkyst.variable_mapping['y_sea_water_velocity'] = 'vbar'\n",
    "    \n",
    "    o.add_reader(reader_norkyst, variables=['x_sea_water_velocity', 'y_sea_water_velocity', 'x_wind', 'y_wind'])\n",
    "    \n",
    "    o.seed_elements(lon= lon, lat=lat, radius=1, number=1, time=reader_norkyst.start_time, wind_drift_factor = wind_drift_percentage)\n",
    "    \n",
    "    o.set_config('drift:scheme', 'runge-kutta4')\n",
    "    \n",
    "    o.run(duration = timedelta(hours=hours), time_step = 300, time_step_output = 900)\n",
    "    \n",
    "    return o"
   ]
  },
  {
   "cell_type": "code",
   "execution_count": 21,
   "metadata": {},
   "outputs": [],
   "source": [
    "ncfile = Dataset(url_list[0])\n",
    "X = ncfile.variables['X'][:]\n",
    "Y = ncfile.variables['Y'][:]\n",
    "ncfile.close()"
   ]
  },
  {
   "cell_type": "code",
   "execution_count": 24,
   "metadata": {},
   "outputs": [
    {
     "name": "stderr",
     "output_type": "stream",
     "text": [
      "13:23:09 INFO: Opening dataset: /home/johanna/gpu-ocean/gpu_ocean/demos/MPI_SIR/netcdf_cache/NorKyst-800m_ZDEPTHS_his.an.2019071600.nc\n",
      "13:23:09 INFO: Opening file with Dataset\n",
      "13:23:09 INFO: OpenDriftSimulation initialised (version 1.2.3)\n",
      "13:23:09 INFO: Config validation OK\n",
      "13:23:09 INFO: Adding a dynamical landmask with max. priority based on assumed maximum speed of 1 m/s. Adding a customised landmask may be faster...\n",
      "13:23:12 INFO: Using existing reader for land_binary_mask\n",
      "13:23:12 INFO: All points are in ocean\n",
      "13:23:12 INFO: 2019-07-16 00:00:00 - step 1 of 144 - 1 active elements (0 deactivated)\n",
      "WARNING:py.warnings:/home/johanna/miniconda3/envs/gpuocean_parcels_opendrift/lib/python3.7/site-packages/numpy/ma/core.py:2190: RuntimeWarning: invalid value encountered in less\n",
      "  condition = (xf < v1) | (xf > v2)\n",
      "\n",
      "WARNING:py.warnings:/home/johanna/miniconda3/envs/gpuocean_parcels_opendrift/lib/python3.7/site-packages/numpy/ma/core.py:2190: RuntimeWarning: invalid value encountered in greater\n",
      "  condition = (xf < v1) | (xf > v2)\n",
      "\n",
      "13:23:12 INFO: 2019-07-16 00:05:00 - step 2 of 144 - 1 active elements (0 deactivated)\n",
      "13:23:12 INFO: 2019-07-16 00:10:00 - step 3 of 144 - 1 active elements (0 deactivated)\n",
      "13:23:12 INFO: 2019-07-16 00:15:00 - step 4 of 144 - 1 active elements (0 deactivated)\n",
      "13:23:12 INFO: 2019-07-16 00:20:00 - step 5 of 144 - 1 active elements (0 deactivated)\n",
      "13:23:12 INFO: 2019-07-16 00:25:00 - step 6 of 144 - 1 active elements (0 deactivated)\n",
      "13:23:12 INFO: 2019-07-16 00:30:00 - step 7 of 144 - 1 active elements (0 deactivated)\n",
      "13:23:12 INFO: 2019-07-16 00:35:00 - step 8 of 144 - 1 active elements (0 deactivated)\n",
      "13:23:12 INFO: 2019-07-16 00:40:00 - step 9 of 144 - 1 active elements (0 deactivated)\n",
      "13:23:12 INFO: 2019-07-16 00:45:00 - step 10 of 144 - 1 active elements (0 deactivated)\n",
      "13:23:12 INFO: 2019-07-16 00:50:00 - step 11 of 144 - 1 active elements (0 deactivated)\n",
      "13:23:12 INFO: 2019-07-16 00:55:00 - step 12 of 144 - 1 active elements (0 deactivated)\n",
      "13:23:12 INFO: 2019-07-16 01:00:00 - step 13 of 144 - 1 active elements (0 deactivated)\n",
      "13:23:12 INFO: 2019-07-16 01:05:00 - step 14 of 144 - 1 active elements (0 deactivated)\n",
      "13:23:12 INFO: 2019-07-16 01:10:00 - step 15 of 144 - 1 active elements (0 deactivated)\n",
      "13:23:12 INFO: 2019-07-16 01:15:00 - step 16 of 144 - 1 active elements (0 deactivated)\n",
      "13:23:12 INFO: 2019-07-16 01:20:00 - step 17 of 144 - 1 active elements (0 deactivated)\n",
      "13:23:12 INFO: 2019-07-16 01:25:00 - step 18 of 144 - 1 active elements (0 deactivated)\n",
      "13:23:12 INFO: 2019-07-16 01:30:00 - step 19 of 144 - 1 active elements (0 deactivated)\n",
      "13:23:12 INFO: 2019-07-16 01:35:00 - step 20 of 144 - 1 active elements (0 deactivated)\n",
      "13:23:12 INFO: 2019-07-16 01:40:00 - step 21 of 144 - 1 active elements (0 deactivated)\n",
      "13:23:12 INFO: 2019-07-16 01:45:00 - step 22 of 144 - 1 active elements (0 deactivated)\n",
      "13:23:12 INFO: 2019-07-16 01:50:00 - step 23 of 144 - 1 active elements (0 deactivated)\n",
      "13:23:12 INFO: 2019-07-16 01:55:00 - step 24 of 144 - 1 active elements (0 deactivated)\n",
      "13:23:12 INFO: 2019-07-16 02:00:00 - step 25 of 144 - 1 active elements (0 deactivated)\n",
      "13:23:13 INFO: 2019-07-16 02:05:00 - step 26 of 144 - 1 active elements (0 deactivated)\n",
      "13:23:13 INFO: 2019-07-16 02:10:00 - step 27 of 144 - 1 active elements (0 deactivated)\n",
      "13:23:13 INFO: 2019-07-16 02:15:00 - step 28 of 144 - 1 active elements (0 deactivated)\n",
      "13:23:13 INFO: 2019-07-16 02:20:00 - step 29 of 144 - 1 active elements (0 deactivated)\n",
      "13:23:13 INFO: 2019-07-16 02:25:00 - step 30 of 144 - 1 active elements (0 deactivated)\n",
      "13:23:13 INFO: 2019-07-16 02:30:00 - step 31 of 144 - 1 active elements (0 deactivated)\n",
      "13:23:13 INFO: 2019-07-16 02:35:00 - step 32 of 144 - 1 active elements (0 deactivated)\n",
      "13:23:13 INFO: 2019-07-16 02:40:00 - step 33 of 144 - 1 active elements (0 deactivated)\n",
      "13:23:13 INFO: 2019-07-16 02:45:00 - step 34 of 144 - 1 active elements (0 deactivated)\n",
      "13:23:13 INFO: 2019-07-16 02:50:00 - step 35 of 144 - 1 active elements (0 deactivated)\n",
      "13:23:13 INFO: 2019-07-16 02:55:00 - step 36 of 144 - 1 active elements (0 deactivated)\n",
      "13:23:13 INFO: 2019-07-16 03:00:00 - step 37 of 144 - 1 active elements (0 deactivated)\n",
      "13:23:13 INFO: 2019-07-16 03:05:00 - step 38 of 144 - 1 active elements (0 deactivated)\n",
      "13:23:13 INFO: 2019-07-16 03:10:00 - step 39 of 144 - 1 active elements (0 deactivated)\n",
      "13:23:13 INFO: 2019-07-16 03:15:00 - step 40 of 144 - 1 active elements (0 deactivated)\n",
      "13:23:13 INFO: 2019-07-16 03:20:00 - step 41 of 144 - 1 active elements (0 deactivated)\n",
      "13:23:13 INFO: 2019-07-16 03:25:00 - step 42 of 144 - 1 active elements (0 deactivated)\n",
      "13:23:13 INFO: 2019-07-16 03:30:00 - step 43 of 144 - 1 active elements (0 deactivated)\n",
      "13:23:13 INFO: 2019-07-16 03:35:00 - step 44 of 144 - 1 active elements (0 deactivated)\n",
      "13:23:13 INFO: 2019-07-16 03:40:00 - step 45 of 144 - 1 active elements (0 deactivated)\n",
      "13:23:13 INFO: 2019-07-16 03:45:00 - step 46 of 144 - 1 active elements (0 deactivated)\n",
      "13:23:13 INFO: 2019-07-16 03:50:00 - step 47 of 144 - 1 active elements (0 deactivated)\n",
      "13:23:13 INFO: 2019-07-16 03:55:00 - step 48 of 144 - 1 active elements (0 deactivated)\n",
      "13:23:13 INFO: 2019-07-16 04:00:00 - step 49 of 144 - 1 active elements (0 deactivated)\n",
      "13:23:13 INFO: 2019-07-16 04:05:00 - step 50 of 144 - 1 active elements (0 deactivated)\n",
      "13:23:13 INFO: 2019-07-16 04:10:00 - step 51 of 144 - 1 active elements (0 deactivated)\n",
      "13:23:13 INFO: 2019-07-16 04:15:00 - step 52 of 144 - 1 active elements (0 deactivated)\n",
      "13:23:13 INFO: 2019-07-16 04:20:00 - step 53 of 144 - 1 active elements (0 deactivated)\n",
      "13:23:13 INFO: 2019-07-16 04:25:00 - step 54 of 144 - 1 active elements (0 deactivated)\n",
      "13:23:13 INFO: 2019-07-16 04:30:00 - step 55 of 144 - 1 active elements (0 deactivated)\n",
      "13:23:13 INFO: 2019-07-16 04:35:00 - step 56 of 144 - 1 active elements (0 deactivated)\n",
      "13:23:13 INFO: 2019-07-16 04:40:00 - step 57 of 144 - 1 active elements (0 deactivated)\n",
      "13:23:13 INFO: 2019-07-16 04:45:00 - step 58 of 144 - 1 active elements (0 deactivated)\n",
      "13:23:13 INFO: 2019-07-16 04:50:00 - step 59 of 144 - 1 active elements (0 deactivated)\n",
      "13:23:13 INFO: 2019-07-16 04:55:00 - step 60 of 144 - 1 active elements (0 deactivated)\n",
      "13:23:13 INFO: 2019-07-16 05:00:00 - step 61 of 144 - 1 active elements (0 deactivated)\n",
      "13:23:13 INFO: 2019-07-16 05:05:00 - step 62 of 144 - 1 active elements (0 deactivated)\n",
      "13:23:13 INFO: 2019-07-16 05:10:00 - step 63 of 144 - 1 active elements (0 deactivated)\n",
      "13:23:13 INFO: 2019-07-16 05:15:00 - step 64 of 144 - 1 active elements (0 deactivated)\n",
      "13:23:13 INFO: 2019-07-16 05:20:00 - step 65 of 144 - 1 active elements (0 deactivated)\n",
      "13:23:13 INFO: 2019-07-16 05:25:00 - step 66 of 144 - 1 active elements (0 deactivated)\n",
      "13:23:13 INFO: 2019-07-16 05:30:00 - step 67 of 144 - 1 active elements (0 deactivated)\n",
      "13:23:13 INFO: 2019-07-16 05:35:00 - step 68 of 144 - 1 active elements (0 deactivated)\n",
      "13:23:13 INFO: 2019-07-16 05:40:00 - step 69 of 144 - 1 active elements (0 deactivated)\n",
      "13:23:13 INFO: 2019-07-16 05:45:00 - step 70 of 144 - 1 active elements (0 deactivated)\n",
      "13:23:13 INFO: 2019-07-16 05:50:00 - step 71 of 144 - 1 active elements (0 deactivated)\n",
      "13:23:13 INFO: 2019-07-16 05:55:00 - step 72 of 144 - 1 active elements (0 deactivated)\n",
      "13:23:13 INFO: 2019-07-16 06:00:00 - step 73 of 144 - 1 active elements (0 deactivated)\n",
      "13:23:13 INFO: 2019-07-16 06:05:00 - step 74 of 144 - 1 active elements (0 deactivated)\n",
      "13:23:13 INFO: 2019-07-16 06:10:00 - step 75 of 144 - 1 active elements (0 deactivated)\n",
      "13:23:13 INFO: 2019-07-16 06:15:00 - step 76 of 144 - 1 active elements (0 deactivated)\n",
      "13:23:13 INFO: 2019-07-16 06:20:00 - step 77 of 144 - 1 active elements (0 deactivated)\n",
      "13:23:13 INFO: 2019-07-16 06:25:00 - step 78 of 144 - 1 active elements (0 deactivated)\n",
      "13:23:13 INFO: 2019-07-16 06:30:00 - step 79 of 144 - 1 active elements (0 deactivated)\n",
      "13:23:13 INFO: 2019-07-16 06:35:00 - step 80 of 144 - 1 active elements (0 deactivated)\n",
      "13:23:13 INFO: 2019-07-16 06:40:00 - step 81 of 144 - 1 active elements (0 deactivated)\n",
      "13:23:13 INFO: 2019-07-16 06:45:00 - step 82 of 144 - 1 active elements (0 deactivated)\n",
      "13:23:13 INFO: 2019-07-16 06:50:00 - step 83 of 144 - 1 active elements (0 deactivated)\n"
     ]
    },
    {
     "name": "stderr",
     "output_type": "stream",
     "text": [
      "13:23:13 INFO: 2019-07-16 06:55:00 - step 84 of 144 - 1 active elements (0 deactivated)\n",
      "13:23:13 INFO: 2019-07-16 07:00:00 - step 85 of 144 - 1 active elements (0 deactivated)\n",
      "13:23:13 INFO: 2019-07-16 07:05:00 - step 86 of 144 - 1 active elements (0 deactivated)\n",
      "13:23:13 INFO: 2019-07-16 07:10:00 - step 87 of 144 - 1 active elements (0 deactivated)\n",
      "13:23:13 INFO: 2019-07-16 07:15:00 - step 88 of 144 - 1 active elements (0 deactivated)\n",
      "13:23:13 INFO: 2019-07-16 07:20:00 - step 89 of 144 - 1 active elements (0 deactivated)\n",
      "13:23:13 INFO: 2019-07-16 07:25:00 - step 90 of 144 - 1 active elements (0 deactivated)\n",
      "13:23:14 INFO: 2019-07-16 07:30:00 - step 91 of 144 - 1 active elements (0 deactivated)\n",
      "13:23:14 INFO: 2019-07-16 07:35:00 - step 92 of 144 - 1 active elements (0 deactivated)\n",
      "13:23:14 INFO: 2019-07-16 07:40:00 - step 93 of 144 - 1 active elements (0 deactivated)\n",
      "13:23:14 INFO: 2019-07-16 07:45:00 - step 94 of 144 - 1 active elements (0 deactivated)\n",
      "13:23:14 INFO: 2019-07-16 07:50:00 - step 95 of 144 - 1 active elements (0 deactivated)\n",
      "13:23:14 INFO: 2019-07-16 07:55:00 - step 96 of 144 - 1 active elements (0 deactivated)\n",
      "13:23:14 INFO: 2019-07-16 08:00:00 - step 97 of 144 - 1 active elements (0 deactivated)\n",
      "13:23:14 INFO: 2019-07-16 08:05:00 - step 98 of 144 - 1 active elements (0 deactivated)\n",
      "13:23:14 INFO: 2019-07-16 08:10:00 - step 99 of 144 - 1 active elements (0 deactivated)\n",
      "13:23:14 INFO: 2019-07-16 08:15:00 - step 100 of 144 - 1 active elements (0 deactivated)\n",
      "13:23:14 INFO: 2019-07-16 08:20:00 - step 101 of 144 - 1 active elements (0 deactivated)\n",
      "13:23:14 INFO: 2019-07-16 08:25:00 - step 102 of 144 - 1 active elements (0 deactivated)\n",
      "13:23:14 INFO: 2019-07-16 08:30:00 - step 103 of 144 - 1 active elements (0 deactivated)\n",
      "13:23:14 INFO: 2019-07-16 08:35:00 - step 104 of 144 - 1 active elements (0 deactivated)\n",
      "13:23:14 INFO: 2019-07-16 08:40:00 - step 105 of 144 - 1 active elements (0 deactivated)\n",
      "13:23:14 INFO: 2019-07-16 08:45:00 - step 106 of 144 - 1 active elements (0 deactivated)\n",
      "13:23:14 INFO: 2019-07-16 08:50:00 - step 107 of 144 - 1 active elements (0 deactivated)\n",
      "13:23:14 INFO: 2019-07-16 08:55:00 - step 108 of 144 - 1 active elements (0 deactivated)\n",
      "13:23:14 INFO: 2019-07-16 09:00:00 - step 109 of 144 - 1 active elements (0 deactivated)\n",
      "13:23:14 INFO: 2019-07-16 09:05:00 - step 110 of 144 - 1 active elements (0 deactivated)\n",
      "13:23:14 INFO: 2019-07-16 09:10:00 - step 111 of 144 - 1 active elements (0 deactivated)\n",
      "13:23:14 INFO: 2019-07-16 09:15:00 - step 112 of 144 - 1 active elements (0 deactivated)\n",
      "13:23:14 INFO: 2019-07-16 09:20:00 - step 113 of 144 - 1 active elements (0 deactivated)\n",
      "13:23:14 INFO: 2019-07-16 09:25:00 - step 114 of 144 - 1 active elements (0 deactivated)\n",
      "13:23:14 INFO: 2019-07-16 09:30:00 - step 115 of 144 - 1 active elements (0 deactivated)\n",
      "13:23:14 INFO: 2019-07-16 09:35:00 - step 116 of 144 - 1 active elements (0 deactivated)\n",
      "13:23:14 INFO: 2019-07-16 09:40:00 - step 117 of 144 - 1 active elements (0 deactivated)\n",
      "13:23:14 INFO: 2019-07-16 09:45:00 - step 118 of 144 - 1 active elements (0 deactivated)\n",
      "13:23:14 INFO: 2019-07-16 09:50:00 - step 119 of 144 - 1 active elements (0 deactivated)\n",
      "13:23:14 INFO: 2019-07-16 09:55:00 - step 120 of 144 - 1 active elements (0 deactivated)\n",
      "13:23:14 INFO: 2019-07-16 10:00:00 - step 121 of 144 - 1 active elements (0 deactivated)\n",
      "13:23:14 INFO: 2019-07-16 10:05:00 - step 122 of 144 - 1 active elements (0 deactivated)\n",
      "13:23:14 INFO: 2019-07-16 10:10:00 - step 123 of 144 - 1 active elements (0 deactivated)\n",
      "13:23:14 INFO: 2019-07-16 10:15:00 - step 124 of 144 - 1 active elements (0 deactivated)\n",
      "13:23:14 INFO: 2019-07-16 10:20:00 - step 125 of 144 - 1 active elements (0 deactivated)\n",
      "13:23:14 INFO: 2019-07-16 10:25:00 - step 126 of 144 - 1 active elements (0 deactivated)\n",
      "13:23:14 INFO: 2019-07-16 10:30:00 - step 127 of 144 - 1 active elements (0 deactivated)\n",
      "13:23:14 INFO: 2019-07-16 10:35:00 - step 128 of 144 - 1 active elements (0 deactivated)\n",
      "13:23:14 INFO: 2019-07-16 10:40:00 - step 129 of 144 - 1 active elements (0 deactivated)\n",
      "13:23:14 INFO: 2019-07-16 10:45:00 - step 130 of 144 - 1 active elements (0 deactivated)\n",
      "13:23:14 INFO: 2019-07-16 10:50:00 - step 131 of 144 - 1 active elements (0 deactivated)\n",
      "13:23:14 INFO: 2019-07-16 10:55:00 - step 132 of 144 - 1 active elements (0 deactivated)\n",
      "13:23:14 INFO: 2019-07-16 11:00:00 - step 133 of 144 - 1 active elements (0 deactivated)\n",
      "13:23:14 INFO: 2019-07-16 11:05:00 - step 134 of 144 - 1 active elements (0 deactivated)\n",
      "13:23:14 INFO: 2019-07-16 11:10:00 - step 135 of 144 - 1 active elements (0 deactivated)\n",
      "13:23:14 INFO: 2019-07-16 11:15:00 - step 136 of 144 - 1 active elements (0 deactivated)\n",
      "13:23:14 INFO: 2019-07-16 11:20:00 - step 137 of 144 - 1 active elements (0 deactivated)\n",
      "13:23:14 INFO: 2019-07-16 11:25:00 - step 138 of 144 - 1 active elements (0 deactivated)\n",
      "13:23:14 INFO: 2019-07-16 11:30:00 - step 139 of 144 - 1 active elements (0 deactivated)\n",
      "13:23:14 INFO: 2019-07-16 11:35:00 - step 140 of 144 - 1 active elements (0 deactivated)\n",
      "13:23:14 INFO: 2019-07-16 11:40:00 - step 141 of 144 - 1 active elements (0 deactivated)\n",
      "13:23:14 INFO: 2019-07-16 11:45:00 - step 142 of 144 - 1 active elements (0 deactivated)\n",
      "13:23:14 INFO: 2019-07-16 11:50:00 - step 143 of 144 - 1 active elements (0 deactivated)\n",
      "13:23:14 INFO: 2019-07-16 11:55:00 - step 144 of 144 - 1 active elements (0 deactivated)\n"
     ]
    }
   ],
   "source": [
    "o = simulate_opendrift(url_list[0], 60.12,5.55, 0.0, True,12) #no wind, average velocity"
   ]
  },
  {
   "cell_type": "code",
   "execution_count": 25,
   "metadata": {},
   "outputs": [],
   "source": [
    "obs = opendriftObj2gpuoceanObs(o,376, 432, 487,543 ,X, Y )"
   ]
  },
  {
   "cell_type": "code",
   "execution_count": 26,
   "metadata": {},
   "outputs": [
    {
     "data": {
      "image/png": "[encoded data removed]",
      "text/plain": [
       "<Figure size 700x700 with 1 Axes>"
      ]
     },
     "metadata": {
      "needs_background": "light"
     },
     "output_type": "display_data"
    }
   ],
   "source": [
    "dt_string = 'hours ' + str(start_forecast_hours) + ' to ' + str(end_forecast_hours)\n",
    "\n",
    "plotAllDrifters(obs)\n",
    "plt.title('Deterministic forecast Opendrift ' + dt_string)\n",
    "plt.savefig(os.path.join(out_folder, 'gpuocean_forecasts.pdf'))"
   ]
  },
  {
   "cell_type": "code",
   "execution_count": null,
   "metadata": {},
   "outputs": [],
   "source": []
  }
 ],
 "metadata": {
  "kernelspec": {
   "display_name": "Python [conda env:miniconda3-gpuocean_parcels_opendrift]",
   "language": "python",
   "name": "conda-env-miniconda3-gpuocean_parcels_opendrift-py"
  },
  "language_info": {
   "codemirror_mode": {
    "name": "ipython",
    "version": 3
   },
   "file_extension": ".py",
   "mimetype": "text/x-python",
   "name": "python",
   "nbconvert_exporter": "python",
   "pygments_lexer": "ipython3",
   "version": "3.7.6"
  }
 },
 "nbformat": 4,
 "nbformat_minor": 4
}
