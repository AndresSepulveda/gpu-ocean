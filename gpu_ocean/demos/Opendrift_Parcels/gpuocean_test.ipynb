{
 "cells": [
  {
   "cell_type": "code",
   "execution_count": 1,
   "metadata": {},
   "outputs": [],
   "source": [
    "%run CompareGPUOceanOpendriftParcels.ipynb"
   ]
  },
  {
   "cell_type": "code",
   "execution_count": 2,
   "metadata": {},
   "outputs": [],
   "source": [
    "#Simulating gpu-ocean run OBS: only trajectory output\n",
    "sim_args = {\n",
    "    \"gpu_ctx\": gpu_ctx,\n",
    "    \"dt\": 0.0,\n",
    "    \"rk_order\": 2,\n",
    "    \"desingularization_eps\": 1.0\n",
    "     }\n",
    "\n",
    "outfolder = 'deterministic_forecast_test'\n",
    "\n",
    "def simulate_gpuocean_deterministic(source_url, domain, initx, inity, erode_land, sim_args,wind_drift_factor = 0.0, rescale=0,\n",
    "                                    observation_type = dautils.ObservationType.UnderlyingFlow,\n",
    "                                    outfolder = None, start_forecast_hours = 0, forecast_duration = 23 ):\n",
    "    \n",
    "    end_forecast_hours = start_forecast_hours + forecast_duration\n",
    "    \n",
    "    #Create simulator\n",
    "    data_args = NetCDFInitialization.getInitialConditions(source_url, domain[0], domain[1], domain[2],domain[3] , \n",
    "                     timestep_indices = None, erode_land = erode_land, download_data = False)\n",
    "    \n",
    "    if wind_drift_factor:\n",
    "        wind_data = data_args.pop('wind', None)\n",
    "    else:\n",
    "        wind_data = None\n",
    "        \n",
    "    if rescale:\n",
    "        data_args = NetCDFInitialization.rescaleInitialConditions(data_args, scale=rescale)\n",
    "\n",
    "    importlib.reload(CDKLM16)\n",
    "    sim = CDKLM16.CDKLM16(**sim_args, **NetCDFInitialization.removeMetadata(data_args))\n",
    "    \n",
    "    #Forecast\n",
    "    observation_args = {'observation_type': observation_type,\n",
    "                    'nx': sim.nx, 'ny': sim.ny,\n",
    "                    'domain_size_x': sim.nx*sim.dx,\n",
    "                    'domain_size_y': sim.ny*sim.dy,\n",
    "                    'land_mask': sim.getLandMask()\n",
    "                   }\n",
    "\n",
    "    trajectory_forecast = Observation.Observation(**observation_args)\n",
    "\n",
    "    if outfolder is not None:\n",
    "        out_folder = os.path.abspath(outfolder)\n",
    "        os.makedirs(out_folder, exist_ok=True)\n",
    "        trajectory_forecast_filename = 'trajectory_forecast_'+str(start_forecast_hours)+'_to_'+str(end_forecast_hours)+'.pickle'\n",
    "        trajectory_forecast_path = os.path.join(out_folder, trajectory_forecast_filename)\n",
    "    \n",
    "    #Drifters\n",
    "    #Assumes initx, inity same format/shape\n",
    "    if type(initx) is not list:\n",
    "        initx = [initx]\n",
    "        inity = [inity]\n",
    "    \n",
    "    num_drifters = len(initx)\n",
    "    \n",
    "    drifters = GPUDrifterCollection.GPUDrifterCollection(gpu_ctx, num_drifters, wind = wind_data, \n",
    "                                                         wind_drift_factor = wind_drift_factor,\n",
    "                                                     boundaryConditions = sim.boundary_conditions,\n",
    "                                                     domain_size_x = trajectory_forecast.domain_size_x,\n",
    "                                                     domain_size_y = trajectory_forecast.domain_size_y,\n",
    "                                                     gpu_stream = sim.gpu_stream)\n",
    "    \n",
    "    drifter_pos_init = np.array([initx, inity]).T\n",
    "    \n",
    "    #Run simulation\n",
    "    num_total_hours = end_forecast_hours\n",
    "    \n",
    "    five_mins_in_an_hour = 12\n",
    "    sub_dt = 5*60 # five minutes\n",
    "    \n",
    "    progress = Common.ProgressPrinter(5)\n",
    "    pp = display(progress.getPrintString(0), display_id=True)\n",
    "\n",
    "    for hour in range(num_total_hours):\n",
    "        \n",
    "        if hour == start_forecast_hours:\n",
    "            # Attach drifters\n",
    "            drifters.setDrifterPositions(drifter_pos_init)\n",
    "            sim.attachDrifters(drifters)\n",
    "            trajectory_forecast.add_observation_from_sim(sim)\n",
    "        \n",
    "        for mins in range(five_mins_in_an_hour):\n",
    "            t = sim.step(sub_dt)\n",
    "            if hour >= start_forecast_hours:\n",
    "                trajectory_forecast.add_observation_from_sim(sim)\n",
    "        \n",
    "        pp.update(progress.getPrintString(hour/(end_forecast_hours-1)))\n",
    "    \n",
    "    if outfolder is not None:\n",
    "        trajectory_forecast.to_pickle(trajectory_forecast_path)\n",
    "    \n",
    "    return trajectory_forecast\n"
   ]
  },
  {
   "cell_type": "code",
   "execution_count": 36,
   "metadata": {},
   "outputs": [
    {
     "name": "stderr",
     "output_type": "stream",
     "text": [
      "09:16:26 INFO: Opening dataset: /home/johanna/gpu-ocean/gpu_ocean/demos/MPI_SIR/netcdf_cache/NorKyst-800m_ZDEPTHS_his.an.2019071600.nc\n",
      "09:16:26 INFO: Opening file with Dataset\n"
     ]
    },
    {
     "name": "stdout",
     "output_type": "stream",
     "text": [
      "922.0\n"
     ]
    },
    {
     "name": "stderr",
     "output_type": "stream",
     "text": [
      "WARNING:SWESimulators.Simulator:This will give inaccurate angle along the border!\n",
      "WARNING:SWESimulators.Simulator:This will give inaccurate coriolis along the border!\n"
     ]
    },
    {
     "data": {
      "text/plain": [
       "'0% [##############################] 100%. Total: 20s, elapsed: 20s, remaining: 0s'"
      ]
     },
     "metadata": {},
     "output_type": "display_data"
    }
   ],
   "source": [
    "source_url = '/home/johanna/gpu-ocean/gpu_ocean/demos/MPI_SIR/netcdf_cache/NorKyst-800m_ZDEPTHS_his.an.2019071600.nc'\n",
    "\n",
    "#lon, lat = 14.1,69.4\n",
    "lon, lat = 9.2, 63.9\n",
    "#lon, lat = 4.9, 60.0\n",
    "hours = 12\n",
    "ncfile = Dataset(source_url)\n",
    "X = ncfile.variables['X'][:]\n",
    "Y = ncfile.variables['Y'][:]\n",
    "ncfile.close()\n",
    "\n",
    "#Create OpendriftObject with norkys data to access coordinate-change lonlat2xy\n",
    "reader_norkyst = reader_netCDF_CF_generic.Reader(source_url)\n",
    "o = OceanDrift(loglevel=50)\n",
    "o.add_reader(reader_norkyst, variables=['x_sea_water_velocity', 'y_sea_water_velocity'])\n",
    "initx, inity, x0,x1, y0,y1 = initlonlat2initgpuocean(o, X, Y, lon, lat, 50,50)\n",
    "domain = [x0,x1,y0,y1]\n",
    "gpuobs = simulate_gpuocean_deterministic(source_url, domain, initx, inity, erode_land = 1, sim_args = sim_args, wind_drift_factor = 0.02,\n",
    "                                         outfolder = None, forecast_duration = hours )"
   ]
  },
  {
   "cell_type": "code",
   "execution_count": 34,
   "metadata": {},
   "outputs": [
    {
     "name": "stderr",
     "output_type": "stream",
     "text": [
      "09:16:11 INFO: OpenDriftSimulation initialised (version 1.2.3)\n",
      "09:16:11 INFO: Config validation OK\n",
      "09:16:11 INFO: Adding a dynamical landmask with max. priority based on assumed maximum speed of 1 m/s. Adding a customised landmask may be faster...\n",
      "09:16:14 INFO: Using existing reader for land_binary_mask\n",
      "09:16:14 INFO: All points are in ocean\n",
      "09:16:14 INFO: 2019-07-16 00:00:00 - step 1 of 144 - 1 active elements (0 deactivated)\n",
      "09:16:14 INFO: 2019-07-16 00:05:00 - step 2 of 144 - 1 active elements (0 deactivated)\n",
      "09:16:14 INFO: 2019-07-16 00:10:00 - step 3 of 144 - 1 active elements (0 deactivated)\n",
      "09:16:14 INFO: 2019-07-16 00:15:00 - step 4 of 144 - 1 active elements (0 deactivated)\n",
      "09:16:14 INFO: 2019-07-16 00:20:00 - step 5 of 144 - 1 active elements (0 deactivated)\n",
      "09:16:14 INFO: 2019-07-16 00:25:00 - step 6 of 144 - 1 active elements (0 deactivated)\n",
      "09:16:14 INFO: 2019-07-16 00:30:00 - step 7 of 144 - 1 active elements (0 deactivated)\n",
      "09:16:14 INFO: 2019-07-16 00:35:00 - step 8 of 144 - 1 active elements (0 deactivated)\n",
      "09:16:14 INFO: 2019-07-16 00:40:00 - step 9 of 144 - 1 active elements (0 deactivated)\n",
      "09:16:14 INFO: 2019-07-16 00:45:00 - step 10 of 144 - 1 active elements (0 deactivated)\n",
      "09:16:14 INFO: 2019-07-16 00:50:00 - step 11 of 144 - 1 active elements (0 deactivated)\n",
      "09:16:14 INFO: 2019-07-16 00:55:00 - step 12 of 144 - 1 active elements (0 deactivated)\n",
      "09:16:14 INFO: 2019-07-16 01:00:00 - step 13 of 144 - 1 active elements (0 deactivated)\n",
      "09:16:14 INFO: 2019-07-16 01:05:00 - step 14 of 144 - 1 active elements (0 deactivated)\n",
      "09:16:14 INFO: 2019-07-16 01:10:00 - step 15 of 144 - 1 active elements (0 deactivated)\n",
      "09:16:14 INFO: 2019-07-16 01:15:00 - step 16 of 144 - 1 active elements (0 deactivated)\n",
      "09:16:14 INFO: 2019-07-16 01:20:00 - step 17 of 144 - 1 active elements (0 deactivated)\n",
      "09:16:14 INFO: 2019-07-16 01:25:00 - step 18 of 144 - 1 active elements (0 deactivated)\n",
      "09:16:14 INFO: 2019-07-16 01:30:00 - step 19 of 144 - 1 active elements (0 deactivated)\n",
      "09:16:14 INFO: 2019-07-16 01:35:00 - step 20 of 144 - 1 active elements (0 deactivated)\n",
      "09:16:14 INFO: 2019-07-16 01:40:00 - step 21 of 144 - 1 active elements (0 deactivated)\n",
      "09:16:14 INFO: 2019-07-16 01:45:00 - step 22 of 144 - 1 active elements (0 deactivated)\n",
      "09:16:14 INFO: 2019-07-16 01:50:00 - step 23 of 144 - 1 active elements (0 deactivated)\n",
      "09:16:14 INFO: 2019-07-16 01:55:00 - step 24 of 144 - 1 active elements (0 deactivated)\n",
      "09:16:14 INFO: 2019-07-16 02:00:00 - step 25 of 144 - 1 active elements (0 deactivated)\n",
      "09:16:15 INFO: 2019-07-16 02:05:00 - step 26 of 144 - 1 active elements (0 deactivated)\n",
      "09:16:15 INFO: 2019-07-16 02:10:00 - step 27 of 144 - 1 active elements (0 deactivated)\n",
      "09:16:15 INFO: 2019-07-16 02:15:00 - step 28 of 144 - 1 active elements (0 deactivated)\n",
      "09:16:15 INFO: 2019-07-16 02:20:00 - step 29 of 144 - 1 active elements (0 deactivated)\n",
      "09:16:15 INFO: 2019-07-16 02:25:00 - step 30 of 144 - 1 active elements (0 deactivated)\n",
      "09:16:15 INFO: 2019-07-16 02:30:00 - step 31 of 144 - 1 active elements (0 deactivated)\n",
      "09:16:15 INFO: 2019-07-16 02:35:00 - step 32 of 144 - 1 active elements (0 deactivated)\n",
      "09:16:15 INFO: 2019-07-16 02:40:00 - step 33 of 144 - 1 active elements (0 deactivated)\n",
      "09:16:15 INFO: 2019-07-16 02:45:00 - step 34 of 144 - 1 active elements (0 deactivated)\n",
      "09:16:15 INFO: 2019-07-16 02:50:00 - step 35 of 144 - 1 active elements (0 deactivated)\n",
      "09:16:15 INFO: 2019-07-16 02:55:00 - step 36 of 144 - 1 active elements (0 deactivated)\n",
      "09:16:15 INFO: 2019-07-16 03:00:00 - step 37 of 144 - 1 active elements (0 deactivated)\n",
      "09:16:15 INFO: 2019-07-16 03:05:00 - step 38 of 144 - 1 active elements (0 deactivated)\n",
      "09:16:15 INFO: 2019-07-16 03:10:00 - step 39 of 144 - 1 active elements (0 deactivated)\n",
      "09:16:15 INFO: 2019-07-16 03:15:00 - step 40 of 144 - 1 active elements (0 deactivated)\n",
      "09:16:15 INFO: 2019-07-16 03:20:00 - step 41 of 144 - 1 active elements (0 deactivated)\n",
      "09:16:15 INFO: 2019-07-16 03:25:00 - step 42 of 144 - 1 active elements (0 deactivated)\n",
      "09:16:15 INFO: 2019-07-16 03:30:00 - step 43 of 144 - 1 active elements (0 deactivated)\n",
      "09:16:15 INFO: 2019-07-16 03:35:00 - step 44 of 144 - 1 active elements (0 deactivated)\n",
      "09:16:15 INFO: 2019-07-16 03:40:00 - step 45 of 144 - 1 active elements (0 deactivated)\n",
      "09:16:15 INFO: 2019-07-16 03:45:00 - step 46 of 144 - 1 active elements (0 deactivated)\n",
      "09:16:15 INFO: 2019-07-16 03:50:00 - step 47 of 144 - 1 active elements (0 deactivated)\n",
      "09:16:15 INFO: 2019-07-16 03:55:00 - step 48 of 144 - 1 active elements (0 deactivated)\n",
      "09:16:15 INFO: 2019-07-16 04:00:00 - step 49 of 144 - 1 active elements (0 deactivated)\n",
      "09:16:15 INFO: 2019-07-16 04:05:00 - step 50 of 144 - 1 active elements (0 deactivated)\n",
      "09:16:15 INFO: 2019-07-16 04:10:00 - step 51 of 144 - 1 active elements (0 deactivated)\n",
      "09:16:15 INFO: 2019-07-16 04:15:00 - step 52 of 144 - 1 active elements (0 deactivated)\n",
      "09:16:15 INFO: 2019-07-16 04:20:00 - step 53 of 144 - 1 active elements (0 deactivated)\n",
      "09:16:15 INFO: 2019-07-16 04:25:00 - step 54 of 144 - 1 active elements (0 deactivated)\n",
      "09:16:15 INFO: 2019-07-16 04:30:00 - step 55 of 144 - 1 active elements (0 deactivated)\n",
      "09:16:15 INFO: 2019-07-16 04:35:00 - step 56 of 144 - 1 active elements (0 deactivated)\n",
      "09:16:15 INFO: 2019-07-16 04:40:00 - step 57 of 144 - 1 active elements (0 deactivated)\n",
      "09:16:15 INFO: 2019-07-16 04:45:00 - step 58 of 144 - 1 active elements (0 deactivated)\n",
      "09:16:15 INFO: 2019-07-16 04:50:00 - step 59 of 144 - 1 active elements (0 deactivated)\n",
      "09:16:15 INFO: 2019-07-16 04:55:00 - step 60 of 144 - 1 active elements (0 deactivated)\n",
      "09:16:15 INFO: 2019-07-16 05:00:00 - step 61 of 144 - 1 active elements (0 deactivated)\n",
      "09:16:15 INFO: 2019-07-16 05:05:00 - step 62 of 144 - 1 active elements (0 deactivated)\n",
      "09:16:15 INFO: 2019-07-16 05:10:00 - step 63 of 144 - 1 active elements (0 deactivated)\n",
      "09:16:15 INFO: 2019-07-16 05:15:00 - step 64 of 144 - 1 active elements (0 deactivated)\n",
      "09:16:15 INFO: 2019-07-16 05:20:00 - step 65 of 144 - 1 active elements (0 deactivated)\n",
      "09:16:15 INFO: 2019-07-16 05:25:00 - step 66 of 144 - 1 active elements (0 deactivated)\n",
      "09:16:15 INFO: 2019-07-16 05:30:00 - step 67 of 144 - 1 active elements (0 deactivated)\n",
      "09:16:15 INFO: 2019-07-16 05:35:00 - step 68 of 144 - 1 active elements (0 deactivated)\n",
      "09:16:15 INFO: 2019-07-16 05:40:00 - step 69 of 144 - 1 active elements (0 deactivated)\n",
      "09:16:15 INFO: 2019-07-16 05:45:00 - step 70 of 144 - 1 active elements (0 deactivated)\n",
      "09:16:15 INFO: 2019-07-16 05:50:00 - step 71 of 144 - 1 active elements (0 deactivated)\n",
      "09:16:15 INFO: 2019-07-16 05:55:00 - step 72 of 144 - 1 active elements (0 deactivated)\n",
      "09:16:15 INFO: 2019-07-16 06:00:00 - step 73 of 144 - 1 active elements (0 deactivated)\n",
      "09:16:15 INFO: 2019-07-16 06:05:00 - step 74 of 144 - 1 active elements (0 deactivated)\n",
      "09:16:15 INFO: 2019-07-16 06:10:00 - step 75 of 144 - 1 active elements (0 deactivated)\n",
      "09:16:15 INFO: 2019-07-16 06:15:00 - step 76 of 144 - 1 active elements (0 deactivated)\n",
      "09:16:15 INFO: 2019-07-16 06:20:00 - step 77 of 144 - 1 active elements (0 deactivated)\n",
      "09:16:15 INFO: 2019-07-16 06:25:00 - step 78 of 144 - 1 active elements (0 deactivated)\n",
      "09:16:15 INFO: 2019-07-16 06:30:00 - step 79 of 144 - 1 active elements (0 deactivated)\n",
      "09:16:15 INFO: 2019-07-16 06:35:00 - step 80 of 144 - 1 active elements (0 deactivated)\n",
      "09:16:15 INFO: 2019-07-16 06:40:00 - step 81 of 144 - 1 active elements (0 deactivated)\n",
      "09:16:15 INFO: 2019-07-16 06:45:00 - step 82 of 144 - 1 active elements (0 deactivated)\n",
      "09:16:15 INFO: 2019-07-16 06:50:00 - step 83 of 144 - 1 active elements (0 deactivated)\n",
      "09:16:15 INFO: 2019-07-16 06:55:00 - step 84 of 144 - 1 active elements (0 deactivated)\n",
      "09:16:15 INFO: 2019-07-16 07:00:00 - step 85 of 144 - 1 active elements (0 deactivated)\n",
      "09:16:15 INFO: 2019-07-16 07:05:00 - step 86 of 144 - 1 active elements (0 deactivated)\n",
      "09:16:15 INFO: 2019-07-16 07:10:00 - step 87 of 144 - 1 active elements (0 deactivated)\n",
      "09:16:15 INFO: 2019-07-16 07:15:00 - step 88 of 144 - 1 active elements (0 deactivated)\n",
      "09:16:15 INFO: 2019-07-16 07:20:00 - step 89 of 144 - 1 active elements (0 deactivated)\n",
      "09:16:15 INFO: 2019-07-16 07:25:00 - step 90 of 144 - 1 active elements (0 deactivated)\n"
     ]
    },
    {
     "name": "stderr",
     "output_type": "stream",
     "text": [
      "09:16:15 INFO: 2019-07-16 07:30:00 - step 91 of 144 - 1 active elements (0 deactivated)\n",
      "09:16:15 INFO: 2019-07-16 07:35:00 - step 92 of 144 - 1 active elements (0 deactivated)\n",
      "09:16:16 INFO: 2019-07-16 07:40:00 - step 93 of 144 - 1 active elements (0 deactivated)\n",
      "09:16:16 INFO: 2019-07-16 07:45:00 - step 94 of 144 - 1 active elements (0 deactivated)\n",
      "09:16:16 INFO: 2019-07-16 07:50:00 - step 95 of 144 - 1 active elements (0 deactivated)\n",
      "09:16:16 INFO: 2019-07-16 07:55:00 - step 96 of 144 - 1 active elements (0 deactivated)\n",
      "09:16:16 INFO: 2019-07-16 08:00:00 - step 97 of 144 - 1 active elements (0 deactivated)\n",
      "09:16:16 INFO: 2019-07-16 08:05:00 - step 98 of 144 - 1 active elements (0 deactivated)\n",
      "09:16:16 INFO: 2019-07-16 08:10:00 - step 99 of 144 - 1 active elements (0 deactivated)\n",
      "09:16:16 INFO: 2019-07-16 08:15:00 - step 100 of 144 - 1 active elements (0 deactivated)\n",
      "09:16:16 INFO: 2019-07-16 08:20:00 - step 101 of 144 - 1 active elements (0 deactivated)\n",
      "09:16:16 INFO: 2019-07-16 08:25:00 - step 102 of 144 - 1 active elements (0 deactivated)\n",
      "09:16:16 INFO: 2019-07-16 08:30:00 - step 103 of 144 - 1 active elements (0 deactivated)\n",
      "09:16:16 INFO: 2019-07-16 08:35:00 - step 104 of 144 - 1 active elements (0 deactivated)\n",
      "09:16:16 INFO: 2019-07-16 08:40:00 - step 105 of 144 - 1 active elements (0 deactivated)\n",
      "09:16:16 INFO: 2019-07-16 08:45:00 - step 106 of 144 - 1 active elements (0 deactivated)\n",
      "09:16:16 INFO: 2019-07-16 08:50:00 - step 107 of 144 - 1 active elements (0 deactivated)\n",
      "09:16:16 INFO: 2019-07-16 08:55:00 - step 108 of 144 - 1 active elements (0 deactivated)\n",
      "09:16:16 INFO: 2019-07-16 09:00:00 - step 109 of 144 - 1 active elements (0 deactivated)\n",
      "09:16:16 INFO: 2019-07-16 09:05:00 - step 110 of 144 - 1 active elements (0 deactivated)\n",
      "09:16:16 INFO: 2019-07-16 09:10:00 - step 111 of 144 - 1 active elements (0 deactivated)\n",
      "09:16:16 INFO: 2019-07-16 09:15:00 - step 112 of 144 - 1 active elements (0 deactivated)\n",
      "09:16:16 INFO: 2019-07-16 09:20:00 - step 113 of 144 - 1 active elements (0 deactivated)\n",
      "09:16:16 INFO: 2019-07-16 09:25:00 - step 114 of 144 - 1 active elements (0 deactivated)\n",
      "09:16:16 INFO: 2019-07-16 09:30:00 - step 115 of 144 - 1 active elements (0 deactivated)\n",
      "09:16:16 INFO: 2019-07-16 09:35:00 - step 116 of 144 - 1 active elements (0 deactivated)\n",
      "09:16:16 INFO: 2019-07-16 09:40:00 - step 117 of 144 - 1 active elements (0 deactivated)\n",
      "09:16:16 INFO: 2019-07-16 09:45:00 - step 118 of 144 - 1 active elements (0 deactivated)\n",
      "09:16:16 INFO: 2019-07-16 09:50:00 - step 119 of 144 - 1 active elements (0 deactivated)\n",
      "09:16:16 INFO: 2019-07-16 09:55:00 - step 120 of 144 - 1 active elements (0 deactivated)\n",
      "09:16:16 INFO: 2019-07-16 10:00:00 - step 121 of 144 - 1 active elements (0 deactivated)\n",
      "09:16:16 INFO: 2019-07-16 10:05:00 - step 122 of 144 - 1 active elements (0 deactivated)\n",
      "09:16:16 INFO: 2019-07-16 10:10:00 - step 123 of 144 - 1 active elements (0 deactivated)\n",
      "09:16:16 INFO: 2019-07-16 10:15:00 - step 124 of 144 - 1 active elements (0 deactivated)\n",
      "09:16:16 INFO: 2019-07-16 10:20:00 - step 125 of 144 - 1 active elements (0 deactivated)\n",
      "09:16:16 INFO: 2019-07-16 10:25:00 - step 126 of 144 - 1 active elements (0 deactivated)\n",
      "09:16:16 INFO: 2019-07-16 10:30:00 - step 127 of 144 - 1 active elements (0 deactivated)\n",
      "09:16:16 INFO: 2019-07-16 10:35:00 - step 128 of 144 - 1 active elements (0 deactivated)\n",
      "09:16:16 INFO: 2019-07-16 10:40:00 - step 129 of 144 - 1 active elements (0 deactivated)\n",
      "09:16:16 INFO: 2019-07-16 10:45:00 - step 130 of 144 - 1 active elements (0 deactivated)\n",
      "09:16:16 INFO: 2019-07-16 10:50:00 - step 131 of 144 - 1 active elements (0 deactivated)\n",
      "09:16:16 INFO: 2019-07-16 10:55:00 - step 132 of 144 - 1 active elements (0 deactivated)\n",
      "09:16:16 INFO: 2019-07-16 11:00:00 - step 133 of 144 - 1 active elements (0 deactivated)\n",
      "09:16:16 INFO: 2019-07-16 11:05:00 - step 134 of 144 - 1 active elements (0 deactivated)\n",
      "09:16:16 INFO: 2019-07-16 11:10:00 - step 135 of 144 - 1 active elements (0 deactivated)\n",
      "09:16:16 INFO: 2019-07-16 11:15:00 - step 136 of 144 - 1 active elements (0 deactivated)\n",
      "09:16:16 INFO: 2019-07-16 11:20:00 - step 137 of 144 - 1 active elements (0 deactivated)\n",
      "09:16:16 INFO: 2019-07-16 11:25:00 - step 138 of 144 - 1 active elements (0 deactivated)\n",
      "09:16:16 INFO: 2019-07-16 11:30:00 - step 139 of 144 - 1 active elements (0 deactivated)\n",
      "09:16:16 INFO: 2019-07-16 11:35:00 - step 140 of 144 - 1 active elements (0 deactivated)\n",
      "09:16:16 INFO: 2019-07-16 11:40:00 - step 141 of 144 - 1 active elements (0 deactivated)\n",
      "09:16:16 INFO: 2019-07-16 11:45:00 - step 142 of 144 - 1 active elements (0 deactivated)\n",
      "09:16:16 INFO: 2019-07-16 11:50:00 - step 143 of 144 - 1 active elements (0 deactivated)\n",
      "09:16:16 INFO: 2019-07-16 11:55:00 - step 144 of 144 - 1 active elements (0 deactivated)\n"
     ]
    }
   ],
   "source": [
    "o1 = simulate_opendrift(source_url, lat, lon, 0.02, True, hours) #no wind, average velocity\n",
    "o1obs = opendriftObj2gpuoceanObs(o1, X, Y, x0, x1,y0,y1)"
   ]
  },
  {
   "cell_type": "code",
   "execution_count": 35,
   "metadata": {},
   "outputs": [
    {
     "data": {
      "image/png": "[encoded data removed]",
      "text/plain": [
       "<Figure size 864x864 with 1 Axes>"
      ]
     },
     "metadata": {
      "needs_background": "light"
     },
     "output_type": "display_data"
    }
   ],
   "source": [
    "%matplotlib inline\n",
    "ax = createForecastCanvas(gpuobs,background = True, url = source_url, domain = domain, zoom = 5)\n",
    "plotAllDrifters(gpuobs, ax= ax, end = hours, color_id = 0)\n",
    "plotAllDrifters(o1obs, ax=ax, end = hours, color_id = 2)"
   ]
  },
  {
   "cell_type": "code",
   "execution_count": 37,
   "metadata": {},
   "outputs": [
    {
     "data": {
      "image/png": "[encoded data removed]",
      "text/plain": [
       "<Figure size 864x864 with 1 Axes>"
      ]
     },
     "metadata": {
      "needs_background": "light"
     },
     "output_type": "display_data"
    }
   ],
   "source": [
    "%matplotlib inline\n",
    "ax = createForecastCanvas(gpuobs,background = True, url = source_url, domain = domain, zoom = 5)\n",
    "plotAllDrifters(gpuobs, ax= ax, end = hours, color_id = 0)\n",
    "plotAllDrifters(o1obs, ax=ax, end = hours, color_id = 2)"
   ]
  },
  {
   "cell_type": "code",
   "execution_count": null,
   "metadata": {},
   "outputs": [],
   "source": []
  }
 ],
 "metadata": {
  "kernelspec": {
   "display_name": "Python [conda env:miniconda3-gpuocean_parcels_opendrift]",
   "language": "python",
   "name": "conda-env-miniconda3-gpuocean_parcels_opendrift-py"
  },
  "language_info": {
   "codemirror_mode": {
    "name": "ipython",
    "version": 3
   },
   "file_extension": ".py",
   "mimetype": "text/x-python",
   "name": "python",
   "nbconvert_exporter": "python",
   "pygments_lexer": "ipython3",
   "version": "3.7.6"
  }
 },
 "nbformat": 4,
 "nbformat_minor": 4
}
