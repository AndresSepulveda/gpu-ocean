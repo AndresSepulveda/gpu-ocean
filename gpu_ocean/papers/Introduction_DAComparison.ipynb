{
 "cells": [
  {
   "cell_type": "markdown",
   "metadata": {},
   "source": [
    "# Supplementary Software for Comparison of Ensemble-based Data Assimilation Methods for Oceanographic Applications with Sparse Observations (Section 4)"
   ]
  },
  {
   "cell_type": "markdown",
   "metadata": {},
   "source": [
    "This software package is provided as a supplement to Section 4 of the paper *Comparison of Ensemble-based Data Assimilation Methods for Oceanographic Applications with Sparse Observations* written by Florian Beiser, Håvard Heitlo Holm, and Jo Eidsvik.\n"
   ]
  },
  {
   "cell_type": "markdown",
   "metadata": {},
   "source": [
    "## Purpose\n",
    "\n",
    "The main purpose of this release of the GPU Ocean software is to provide code can be used to reproduce and regenerate results that are presented in the above paper.\n",
    "\n",
    "The code is written in Python, whereas the numerical schemes are implemented in CUDA and accessed through the PyCUDA library.\n",
    "\n",
    "The main data assimilation experiments are provided as Python scripts, whereas the post-processing of the results and visualization is generated in Jupyter Notebooks. "
   ]
  },
  {
   "cell_type": "markdown",
   "metadata": {},
   "source": [
    "## Data \n",
    "\n",
    "In order to run the experiments or regenerate our results, you need the initial states and ensemble results.\n",
    "\n",
    "Here you have two options:\n",
    "\n",
    "1. The true state and initial data used in the paper, and the files containing the complete results that we presented are available as *Supplementary Data for Massively Parallel Implicit Equal-Weights Particle Filter for Ocean Drift Trajectory Forecasting* under DOI [10.5281/zenodo.3457538](https://www.doi.org/10.5281/zenodo.3457538). The repository contains the following relevant folders:\n",
    "\n",
    "  * `true_state/` True state and observations.\n",
    "  * `ensemble_init/` Ensemble initial states ($N_e = 100$)\n",
    "\n",
    "  In order to use these files, all the notebooks below expect the data repository to be located in `path/to/dir`, so that the NetCDF file containing the truth is available as `path/to/dir/true_state/double_jet_case_truth.nc`.\n",
    "\n",
    "2. You can generate your own true state and initial conditions, and then run the data-assimilation experiments. Instructions on how to do this is found below. **Note:** If you do this, you will be required to change some in order to use your newly generated true state/initial ensemble/forecast results. \n",
    "\n",
    "In all experiments you are expected to provide a `media_dir` where the results are stored (the default will not work beside our local infrastructure) and in the postprocessin you will have to specify that folder again to read the output files!"
   ]
  },
  {
   "cell_type": "markdown",
   "metadata": {},
   "source": [
    "## Organization of the code\n",
    "The code is organized as follows:\n",
    "- `gpu_ocean/demos/DAComparison/` contains **Jupyter Notebooks** related to the experiments and figures presented in the paper\n",
    "- `gpu_ocean/demos/DAComparison/scripts/` contains **Python scripts** related to the experiments and figures presented in the paper\n",
    "- `gpu_ocean/SWESimulators/` contains python modules for each scheme and a selection of utility classes and functions.\n",
    "- `gpu_ocean/SWESimulators/gpu_kernels/` contains the CUDA implementations of the numerical schemes and the implicit equal-weights particle filter.\n",
    "- `gpu_ocean/tests/` contains regression tests.\n"
   ]
  },
  {
   "cell_type": "markdown",
   "metadata": {},
   "source": [
    "## Installation \n",
    "\n",
    "See README.md of the `gpu-ocean`-repository\n",
    "\n",
    "### Test your installation\n",
    "Before running data-assimilation experiments you should check that everything works as expected by running the following tests:\n",
    "```\n",
    "$ cd gpu_ocean/tests/\n",
    "$ python basic_pycuda_tests.py\n",
    "$ python oneLayer_2D_tests.py 0\n",
    "$ python particle_filter_tests.py 0\n",
    "$ python random_numbers.py 0\n",
    "```"
   ]
  },
  {
   "cell_type": "markdown",
   "metadata": {},
   "source": [
    "# Run data-assimilation experiments\n",
    "\n",
    "The following scripts are related to running your own data-assimilation experiments, and they are all found in `gpu_ocean/demos/DAPaper/scripts/`. \n",
    "\n",
    "* `all_comparison_forecasts.sh`  Runs data-assimilation and drift trajectory forecasts for both all data assimilation methods.\n",
    "\n",
    "Finally, the results can be investigated by using the notebook `PostProcessDAExperiment.ipynb` located in `gpu_ocean/demos/DAComparison/`.\n",
    "It reads the results from one experiment at a time, and produces several visualizations of the results. A subset of those visualisation can be found in the paper.  \n",
    "\n",
    "* `run_rank_hist.sh` This script runs a (potentially) large number of shorter forecasting experiments which can be used to generate rank histograms for both DA methods.\n",
    "\n",
    "Finally, the results can be investigated by using the notebook `RankHistogram.ipynb` located in `gpu_ocean/demos/DAComparison/`.¨\n",
    "It generates rank histograms from the previous experiments' outputs.\n",
    "\n",
    "In both cases: Remember to specfiy an output folder for writing in the scripts and for reading in the notebooks.\n"
   ]
  },
  {
   "cell_type": "markdown",
   "metadata": {},
   "source": [
    "# Generate figures from the paper\n",
    "All notebooks are found in `gpu_ocean/demos/DAComarison/`\n",
    "\n",
    "These notebooks assume that you have downloaded the truth and the ensemble from *Supplementary Data for Massively Parallel Implicit Equal-Weights Particle Filter for Ocean Drift Trajectory Forecasting* under DOI [10.5281/zenodo.3457538](https://www.doi.org/10.5281/zenodo.3457538).\n",
    "\n",
    "If you wish to use these notebooks to plot results from your own experiments, you will have to change some paths in the notebooks. They should not be too hard to find.\n",
    "\n",
    "- Figure 4.1: [PostProcessDAExperiment.ipynb](gpu_ocean/demos/DAComparison/PostProcessDAExperiment.ipynb) Main experiment post processing notebook. Plots ensemble means/var during both the data-assimilation and forecasting periods, as well as drift trajectory forecasts for a wide range of drifters.\n",
    "- Figure 4.2: [PostProcessDAExperiment.ipynb](gpu_ocean/demos/DAComparison/PostProcessDAExperiment.ipynb) Main experiment post processing notebook. Plots ensemble means/var during both the data-assimilation and forecasting periods, as well as drift trajectory forecasts for a wide range of drifters.\n",
    "- Figure 4.3: [PostProcessDAExperiment.ipynb](gpu_ocean/demos/DAComparison/PostProcessDAExperiment.ipynb) Main experiment post processing notebook. Plots ensemble means/var during both the data-assimilation and forecasting periods, as well as drift trajectory forecasts for a wide range of drifters.\n",
    "- Figure 4.5: [RankHistograms.ipynb](gpu_ocean/demos/DACopmparison/RankHistograms.ipynb) Post-processing of the results from the rank histogram experiments, and generates the rank histograms.\n",
    "- Figure 4.6: [PostProcessCompPerformanceComparison.ipynb](gpu_ocean/demos/DAComparison/PostProcessCompPerformanceComparison.ipynb) Creates plots for computational performance\n",
    "\n"
   ]
  }
 ],
 "metadata": {
  "interpreter": {
   "hash": "8f2533c4321717d78a0dea0f22364144e61e5e875423e1d8df93e4f8589bdcaa"
  },
  "kernelspec": {
   "display_name": "Python [conda env:gpuocean] *",
   "language": "python",
   "name": "python3"
  },
  "language_info": {
   "codemirror_mode": {
    "name": "ipython",
    "version": 3
   },
   "file_extension": ".py",
   "mimetype": "text/x-python",
   "name": "python",
   "nbconvert_exporter": "python",
   "pygments_lexer": "ipython3",
   "version": "3.7.12"
  }
 },
 "nbformat": 4,
 "nbformat_minor": 2
}
