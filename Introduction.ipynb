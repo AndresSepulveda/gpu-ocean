{
 "cells": [
  {
   "cell_type": "markdown",
   "metadata": {},
   "source": [
    "```\n",
    "This software is part of GPU Ocean. \n",
    "\n",
    "Copyright (C) 2018 SINTEF Digital\n",
    "Copyright (C) 2018 Norwegian Meteorological Institute\n",
    "\n",
    "This notebook provides the description of the code found in this \n",
    "software package, which is provided as supplementary material to\n",
    "Test Cases for Rotational Shallow-Water Schemes by Holm, Brodtkorb,\n",
    "Broström, Christensen and Sætra.\n",
    "\n",
    "This program is free software: you can redistribute it and/or modify\n",
    "it under the terms of the GNU General Public License as published by\n",
    "the Free Software Foundation, either version 3 of the License, or\n",
    "(at your option) any later version.\n",
    "\n",
    "This program is distributed in the hope that it will be useful,\n",
    "but WITHOUT ANY WARRANTY; without even the implied warranty of\n",
    "MERCHANTABILITY or FITNESS FOR A PARTICULAR PURPOSE.  See the\n",
    "GNU General Public License for more details.\n",
    "\n",
    "You should have received a copy of the GNU General Public License\n",
    "along with this program.  If not, see <http://www.gnu.org/licenses/>.\n",
    "```"
   ]
  },
  {
   "cell_type": "markdown",
   "metadata": {},
   "source": [
    "# Test Cases for Rotational Shallow-Water Schemes - Software Supplement "
   ]
  },
  {
   "cell_type": "markdown",
   "metadata": {},
   "source": [
    "This software package is provideded as a supplement to the paper *Test Cases for Rotation Shallow-Water Schemes* written by Håvard H. Holm, André R. Brodtkorb, Göran Broström, Kai. H. Christensen, and Martin L. Sætra."
   ]
  },
  {
   "cell_type": "markdown",
   "metadata": {},
   "source": [
    "## Purpose\n",
    "The main purpose of this software is to provide code that evaluate the test cases presented in the paper, and reproduce the results. As a consequence, the implementation of the four numerical schemes are also provided.\n",
    "\n",
    "The code is written in Python, whereas the numerical schemes are implemented in OpenCL and accessed through the PyOpenCL library.\n",
    "\n",
    "Each case is represented by a Jupyter Notebook. In some cases, two notebooks are provided for a single case, so that one notebook sets up the case and runs the simulations, wheareas the other do the post-processing and plotting. This way, the plots can be adjusted at any time without the need of rerunning the simulations, which may be time consuming depending on your available hardware."
   ]
  },
  {
   "cell_type": "markdown",
   "metadata": {},
   "source": [
    "## Organization of the code\n",
    "The code is organized as follows:\n",
    "- `python/` contains notebooks representing the test cases for rotational shallow-water schemes\n",
    "- `python/SWESimulators/` contains python modules for each scheme and a selection of utility classes and functions.\n",
    "- `sim/src/kernels/` contains the OpenCL implementations of the numerical schemes\n",
    "- `python/matlab/` contains octave-compatible code to generate reference solutions to the rossby adjustment problem. "
   ]
  },
  {
   "cell_type": "markdown",
   "metadata": {},
   "source": [
    "## Installation\n",
    "The code is written in Python and uses the following libraries\n",
    "- pyopencl\n",
    "- numpy\n",
    "- scipy.io\n",
    "- netCDF4\n",
    "- matplotlib\n",
    "- ffmpeg\n",
    "\n",
    "The following installation is confirmed to work on Windows 10:\n",
    "```\n",
    "Pyton dependencies (Windows)\n",
    "- Install NVIDIA CUDA 9.1 \n",
    "- Install NVIDIA CUDA/GPU drivers\n",
    "- Install Python 2.7 (install Anaconda 32 bit - very important that it is 32 bit)\n",
    "- Update Anaconda (conda update --all)\n",
    "- Install PyOpencl 1.2 for python 2.7 32 bit (install from https://www.lfd.uci.edu/~gohlke/pythonlibs/#pyopencl NOT from Anaconda. Important that you choose OpenCL 1.2 NOT 2.1)\n",
    "- Check that OpenCL works\n",
    "- Install pandas (conda install -c pandas)\n",
    "- Install ffmpeg (conda install -c conda-forge ffmpeg)\n",
    "- Install netcdf4 (conda install -c anaconda netcdf4)\n",
    "```"
   ]
  },
  {
   "cell_type": "markdown",
   "metadata": {},
   "source": [
    "# The test cases\n",
    "The notebooks are named with a CaseX-prefix to make it easy to find the relevant cases. \n",
    "- **Case A: Traditional Non-rotating Shallow-Water Benchmarks** This is really two test cases. First there is the lake-at-rest benchmark, before SWASHES benchmark 4.1.1. Each of them is presented in their own notebook.\n",
    "  - `python/CaseA_LakeAtRest.ipynb`\n",
    "  - `python/CaseA_SwashesDambreak.ipynb`\n",
    "- **Case B: Rossby Adjustment**. One notebook sets up the test and runs the simulations, whereas the other notebook plots results based on the generated results, or existing simulation results available for download. The reference solution can be obtained from one of the octave-files.\n",
    "  - `python/CaseB_RossbyAdjustment.ipynb`\n",
    "  - `python/CaseB_RossbyAdjustment_Plotting.ipynb`\n",
    "  - `python/matlab/python_like_steady_state.m`\n",
    "- **Case C: The Adjustment Problem for Variable Rossby Radius of Deformation** One notebook sets up the test and run simulations, whereas the other read results and produces plots. Reference solution obtained from octave scripts.\n",
    "  - `python/CaseC_VariableRossbyRadius.ipynb`\n",
    "  - `python/CaseC_VariableRossbyRadius_Plotting.ipynb`\n",
    "  - `python/matlab/variable_depth_steady_state.m`\n",
    "- **Case D: Planetary Rossby Waves** One notebook sets up use cases and runs simulations, the other reads and visualize results.\n",
    "  - `python/CaseD_PlanetaryRossbyWaves.ipynb`\n",
    "  - `python/CaseD_E_RossbyWaves_Plotter.ipynb`\n",
    "- **Case E: Topographic Rossby Waves** One notebook sets up use cases and runs simulations, the other reads and visualize results.\n",
    "  - `python/CaseE_TopographicRossbyWaves.ipynb`\n",
    "  - `python/CaseD_E_RossbyWaves_Plotter.ipynb`\n",
    "- **Numerical order:** One notebook present the experimental setup to investigate convergence rates for the four numerical schemes.\n",
    "  - `python/NumericalOrder.ipynb`\n",
    "- **Computational efficiency** The two notebooks runs an experiment and/or reads experiment results to find the optimal block size for each of the numerical schemes, and to compare the performance of the four schemes. The pure python file is used to set up a single benchmark experiment based on given block and domain sizes.\n",
    "  - `python/Performance_BlockSizeExperiment.ipynb`\n",
    "  - `python/Performance_DomainSizeExperiment.ipynb`\n",
    "  - `python/run_benchmark.py`"
   ]
  },
  {
   "cell_type": "code",
   "execution_count": null,
   "metadata": {
    "collapsed": true
   },
   "outputs": [],
   "source": []
  },
  {
   "cell_type": "code",
   "execution_count": null,
   "metadata": {
    "collapsed": true
   },
   "outputs": [],
   "source": []
  }
 ],
 "metadata": {
  "kernelspec": {
   "display_name": "Python 2",
   "language": "python",
   "name": "python2"
  },
  "language_info": {
   "codemirror_mode": {
    "name": "ipython",
    "version": 2
   },
   "file_extension": ".py",
   "mimetype": "text/x-python",
   "name": "python",
   "nbconvert_exporter": "python",
   "pygments_lexer": "ipython2",
   "version": "2.7.12"
  }
 },
 "nbformat": 4,
 "nbformat_minor": 2
}
